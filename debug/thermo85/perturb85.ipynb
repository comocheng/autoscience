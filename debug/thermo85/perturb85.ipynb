{
 "cells": [
  {
   "cell_type": "code",
   "execution_count": 1,
   "id": "2e7121f8",
   "metadata": {},
   "outputs": [],
   "source": [
    "# script to perturb 85 different amounts and get resulting ignition delays"
   ]
  },
  {
   "cell_type": "code",
   "execution_count": 24,
   "id": "6a0f7b6d",
   "metadata": {},
   "outputs": [],
   "source": [
    "import os\n",
    "import sys\n",
    "import copy\n",
    "\n",
    "import datetime\n",
    "import subprocess\n",
    "import numpy as np\n",
    "\n",
    "import rmgpy.chemkin\n",
    "import rmgpy.data.kinetics\n",
    "# import cantera as ct\n",
    "\n",
    "\n",
    "import matplotlib.pyplot as plt\n",
    "%matplotlib inline\n",
    "\n",
    "sys.path.append('/work/westgroup/harris.se/autoscience/autoscience/utils')\n",
    "import simulation"
   ]
  },
  {
   "cell_type": "code",
   "execution_count": 10,
   "id": "cbaf911b",
   "metadata": {},
   "outputs": [
    {
     "data": {
      "text/plain": [
       "<module 'simulation' from '/work/westgroup/harris.se/autoscience/autoscience/utils/simulation.py'>"
      ]
     },
     "execution_count": 10,
     "metadata": {},
     "output_type": "execute_result"
    }
   ],
   "source": [
    "import importlib\n",
    "importlib.reload(simulation)"
   ]
  },
  {
   "cell_type": "code",
   "execution_count": 19,
   "id": "e1452bd7",
   "metadata": {},
   "outputs": [],
   "source": [
    "def perturb_species(species, delta):\n",
    "    # takes in an RMG species object\n",
    "    # change the enthalpy offset\n",
    "    for poly in species.thermo.polynomials:\n",
    "        new_coeffs = poly.coeffs\n",
    "        new_coeffs[5] *= (1.0 + delta)\n",
    "        poly.coeffs = new_coeffs"
   ]
  },
  {
   "cell_type": "code",
   "execution_count": 22,
   "id": "e4f0c094",
   "metadata": {},
   "outputs": [],
   "source": [
    "def plot_thermos(thermos, labels=None):\n",
    "    %matplotlib inline\n",
    "    fig, ax = plt.subplots(1,3)\n",
    "    fig.set_size_inches(12, 3)\n",
    "    fig.tight_layout()\n",
    "    ax[0].set_xlabel('Temperature (K)')\n",
    "    ax[0].set_ylabel('H (kJ / mol)')\n",
    "    ax[0].set_title('Enthalpy vs. Temperature')\n",
    "    ax[1].set_xlabel('Temperature (K)')\n",
    "    ax[1].set_ylabel('S (kJ / mol K)')\n",
    "    ax[1].set_title('Entropy vs. Temperature')\n",
    "    ax[2].set_xlabel('Temperature (K)')\n",
    "    ax[2].set_ylabel('Cp (kJ / mol K)')\n",
    "    ax[2].set_title('Heat Capacity vs. Temperature')\n",
    "    T = np.linspace(300, 3000, 1001)\n",
    "    for thermo in thermos:\n",
    "        H = np.zeros(len(T))\n",
    "        S = np.zeros(len(T))\n",
    "        Cp = np.zeros(len(T))\n",
    "        for i in range(0, len(T)):\n",
    "            H[i] = thermo.get_enthalpy(T[i]) / 1000.0\n",
    "            S[i] = thermo.get_entropy(T[i]) / 1000.0\n",
    "            Cp[i] = thermo.get_heat_capacity(T[i]) / 1000.0\n",
    "        ax[0].plot(T, H)\n",
    "        ax[1].plot(T, S)\n",
    "        ax[2].plot(T, Cp)\n",
    "    ax[0].legend(labels)\n",
    "    ax[1].legend(labels)\n",
    "    ax[2].legend(labels)\n",
    "    plt.subplots_adjust(wspace=0.25)\n",
    "    plt.show()"
   ]
  },
  {
   "cell_type": "code",
   "execution_count": 17,
   "id": "dcf42ef5",
   "metadata": {},
   "outputs": [
    {
     "name": "stderr",
     "output_type": "stream",
     "text": [
      "WARNING:root:Marked reaction CH3(18) + C2H3(22) <=> C3H6(12) as duplicate of C3H6(12) <=> CH3(18) + C2H3(22) for saving to Chemkin file.\n"
     ]
    },
    {
     "name": "stdout",
     "output_type": "stream",
     "text": [
      "110 species, 1822 reactions\n",
      "Wrote CTI mechanism file to 'temp_mech.cti'.\n",
      "Mechanism contains 110 species and 1850 reactions.\n",
      "Validating mechanism...PASSED.\n",
      "Base delay:\t0.1485753452497339\n"
     ]
    }
   ],
   "source": [
    "# Load the base model\n",
    "basedir = '/work/westgroup/harris.se/autoscience/autoscience/butane/models/rmg_model'\n",
    "base_chemkin = os.path.join(basedir, 'chem_annotated.inp')\n",
    "dictionary = os.path.join(basedir, 'species_dictionary.txt')\n",
    "transport = os.path.join(basedir, 'tran.dat')\n",
    "species_list, reaction_list = rmgpy.chemkin.load_chemkin_file(base_chemkin, dictionary_path=dictionary, transport_path=transport)\n",
    "print(f'{len(species_list)} species, {len(reaction_list)} reactions')\n",
    "\n",
    "# make a CTI and compute ignition delay\n",
    "chemkin_file = 'temp_mech.inp'\n",
    "cti_file = f'{chemkin_file[:-4]}.cti'\n",
    "rmgpy.chemkin.save_chemkin_file(chemkin_file, species_list, reaction_list, verbose=True, check_for_duplicates=True)\n",
    "subprocess.run(['ck2cti', f'--input={chemkin_file}', f'--transport={transport}', f'--output={cti_file}'])\n",
    "\n",
    "# get ignition delay\n",
    "base_delay = simulation.get_delay(cti_file)\n",
    "print(f'Base delay:\\t{base_delay}')"
   ]
  },
  {
   "cell_type": "code",
   "execution_count": 21,
   "id": "421bedbf",
   "metadata": {},
   "outputs": [
    {
     "name": "stderr",
     "output_type": "stream",
     "text": [
      "WARNING:root:Marked reaction CH3(18) + C2H3(22) <=> C3H6(12) as duplicate of C3H6(12) <=> CH3(18) + C2H3(22) for saving to Chemkin file.\n"
     ]
    },
    {
     "name": "stdout",
     "output_type": "stream",
     "text": [
      "110 species, 1822 reactions\n",
      "Wrote CTI mechanism file to 'temp_mech.cti'.\n",
      "Mechanism contains 110 species and 1850 reactions.\n",
      "Validating mechanism...CanteraWarning: NasaPoly2::validate: \n",
      "For species S(787), discontinuity in h/RT detected at Tmid = 949.21\n",
      "\tValue computed using low-temperature polynomial:  -21.482586140525967\n",
      "\tValue computed using high-temperature polynomial: -21.715196799213427\n",
      "\n",
      "PASSED.\n",
      "CanteraWarning: NasaPoly2::validate: \n",
      "For species S(787), discontinuity in h/RT detected at Tmid = 949.21\n",
      "\tValue computed using low-temperature polynomial:  -21.482586140525967\n",
      "\tValue computed using high-temperature polynomial: -21.715196799213427\n",
      "\n",
      "delta=0.1 delay:\t0.1744625610839329\n"
     ]
    }
   ],
   "source": [
    "# Perturb 0.1\n",
    "basedir = '/work/westgroup/harris.se/autoscience/autoscience/butane/models/rmg_model'\n",
    "base_chemkin = os.path.join(basedir, 'chem_annotated.inp')\n",
    "dictionary = os.path.join(basedir, 'species_dictionary.txt')\n",
    "transport = os.path.join(basedir, 'tran.dat')\n",
    "species_list, reaction_list = rmgpy.chemkin.load_chemkin_file(base_chemkin, dictionary_path=dictionary, transport_path=transport)\n",
    "print(f'{len(species_list)} species, {len(reaction_list)} reactions')\n",
    "\n",
    "\n",
    "perturb_species(species_list[85], 0.1)\n",
    "\n",
    "# make a CTI and compute ignition delay\n",
    "chemkin_file = 'temp_mech.inp'\n",
    "cti_file = f'{chemkin_file[:-4]}.cti'\n",
    "rmgpy.chemkin.save_chemkin_file(chemkin_file, species_list, reaction_list, verbose=True, check_for_duplicates=True)\n",
    "subprocess.run(['ck2cti', f'--input={chemkin_file}', f'--transport={transport}', f'--output={cti_file}'])\n",
    "\n",
    "# get ignition delay\n",
    "base_delay = simulation.get_delay(cti_file)\n",
    "print(f'delta=0.1 delay:\\t{base_delay}')"
   ]
  },
  {
   "cell_type": "code",
   "execution_count": 26,
   "id": "34955198",
   "metadata": {},
   "outputs": [
    {
     "data": {
      "image/png": "[encoded data removed]",
      "text/plain": [
       "<Figure size 864x216 with 3 Axes>"
      ]
     },
     "metadata": {
      "needs_background": "light"
     },
     "output_type": "display_data"
    }
   ],
   "source": [
    "# plot the difference between the perturbed species \n",
    "perturbed_species = copy.deepcopy(species_list[85])\n",
    "\n",
    "species_list, reaction_list = rmgpy.chemkin.load_chemkin_file(base_chemkin, dictionary_path=dictionary, transport_path=transport)\n",
    "\n",
    "plot_thermos([species_list[85], perturbed_species], labels=['original', 'perturbed 0.1'])\n",
    "\n"
   ]
  },
  {
   "cell_type": "code",
   "execution_count": null,
   "id": "b2f1515d",
   "metadata": {},
   "outputs": [],
   "source": []
  },
  {
   "cell_type": "code",
   "execution_count": 18,
   "id": "26e831c7",
   "metadata": {},
   "outputs": [],
   "source": [
    "# perturn the mechanism"
   ]
  },
  {
   "cell_type": "code",
   "execution_count": null,
   "id": "b9bec17d",
   "metadata": {},
   "outputs": [],
   "source": [
    "# # Load the new thermo library\n",
    "# thermo_lib = os.path.join(DFT_DIR, 'thermo', 'thermo')\n",
    "# ark_thermo_database = rmgpy.data.thermo.ThermoDatabase()\n",
    "# ark_thermo_database.load_libraries(thermo_lib)\n",
    "# print(f'{len(ark_thermo_database.libraries[\"harris_butane\"].entries)} entries')"
   ]
  }
 ],
 "metadata": {
  "kernelspec": {
   "display_name": "Python 3 (ipykernel)",
   "language": "python",
   "name": "python3"
  },
  "language_info": {
   "codemirror_mode": {
    "name": "ipython",
    "version": 3
   },
   "file_extension": ".py",
   "mimetype": "text/x-python",
   "name": "python",
   "nbconvert_exporter": "python",
   "pygments_lexer": "ipython3",
   "version": "3.7.12"
  }
 },
 "nbformat": 4,
 "nbformat_minor": 5
}
