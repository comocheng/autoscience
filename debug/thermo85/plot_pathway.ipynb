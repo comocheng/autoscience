{
 "cells": [
  {
   "cell_type": "code",
   "execution_count": null,
   "id": "7b7722c6",
   "metadata": {},
   "outputs": [],
   "source": [
    "# Notebook to plot the reaction pathway involving species 85"
   ]
  },
  {
   "cell_type": "code",
   "execution_count": 1,
   "id": "be4ad154",
   "metadata": {},
   "outputs": [],
   "source": [
    "import os\n",
    "import pickle\n",
    "import numpy as np\n",
    "\n",
    "import rmgpy.species\n",
    "import rmgpy.chemkin\n",
    "import rmgpy.data.thermo\n",
    "\n",
    "\n",
    "import matplotlib.pyplot as plt\n",
    "%matplotlib inline"
   ]
  },
  {
   "cell_type": "code",
   "execution_count": 2,
   "id": "c004bc07",
   "metadata": {},
   "outputs": [],
   "source": [
    "def plot_species_uncertainties(species, uncertainties, labels=None):\n",
    "    if not type(species) == list:\n",
    "        species = [species]\n",
    "    if not type(uncertainties) == list:\n",
    "        uncertainties = [uncertainties]\n",
    "    \n",
    "    if not labels:\n",
    "        labels = [sp.label for sp in species]\n",
    "    \n",
    "    plt.title('Species Uncertainty x10')\n",
    "    plt.xlabel('Temperature (K)')\n",
    "    plt.ylabel('Gibbs Free Energy (kJ/mol)')\n",
    "    T = np.linspace(300, 3000, 1001)\n",
    "    for j, sp in enumerate(species):\n",
    "        G = np.zeros(len(T))\n",
    "        for i in range(0, len(T)):\n",
    "            G[i] = sp.get_free_energy(T[i]) / 1000.0\n",
    "        \n",
    "        plt.plot(T, G, label=labels[j])\n",
    "\n",
    "        upper_bound = G + 10* uncertainties[j]\n",
    "        lower_bound = G - 10*uncertainties[j]\n",
    "        plt.fill_between(T, lower_bound, y2=upper_bound, step=\"pre\", alpha=0.4, color='tab:blue', label=None)\n",
    "    \n",
    "    plt.legend()\n",
    "    plt.show()"
   ]
  },
  {
   "cell_type": "code",
   "execution_count": 38,
   "id": "72a89781",
   "metadata": {},
   "outputs": [],
   "source": [
    "# Load the base model and the covariance matrix\n",
    "basedir = '/work/westgroup/harris.se/autoscience/autoscience/butane/models/rmg_model'\n",
    "\n",
    "base_chemkin = os.path.join(basedir, 'chem_annotated.inp')\n",
    "dictionary = os.path.join(basedir, 'species_dictionary.txt')\n",
    "transport = os.path.join(basedir, 'tran.dat')\n",
    "\n",
    "species_list, reaction_list = rmgpy.chemkin.load_chemkin_file(base_chemkin, dictionary_path=dictionary, transport_path=transport)\n",
    "\n",
    "covariance_file = '/work/westgroup/harris.se/autoscience/autoscience/debug/thermo85/total_covariance_matrix.pickle'\n",
    "with open(covariance_file, 'rb') as handle:\n",
    "    Sigma_G = pickle.load(handle)\n"
   ]
  },
  {
   "cell_type": "code",
   "execution_count": null,
   "id": "78ac2065",
   "metadata": {},
   "outputs": [],
   "source": []
  },
  {
   "cell_type": "code",
   "execution_count": 6,
   "id": "b0b39744",
   "metadata": {},
   "outputs": [
    {
     "name": "stdout",
     "output_type": "stream",
     "text": [
      "73 C4H8OOH1-3O2(225)\n"
     ]
    }
   ],
   "source": [
    "ref_smiles = 'CC(CCOO)O[O]'\n",
    "for i in range(0, len(species_list)):\n",
    "    if species_list[i].smiles == ref_smiles:\n",
    "        print(i, species_list[i])"
   ]
  },
  {
   "cell_type": "code",
   "execution_count": 48,
   "id": "f37797ea",
   "metadata": {},
   "outputs": [
    {
     "name": "stdout",
     "output_type": "stream",
     "text": [
      "75 C4H71-1,3OOH(238)\n"
     ]
    }
   ],
   "source": [
    "ref_smiles = 'CC(C[CH]OO)OO'\n",
    "for i in range(0, len(species_list)):\n",
    "    if species_list[i].smiles == ref_smiles:\n",
    "        print(i, species_list[i])"
   ]
  },
  {
   "cell_type": "code",
   "execution_count": 40,
   "id": "03f9c955",
   "metadata": {},
   "outputs": [
    {
     "name": "stdout",
     "output_type": "stream",
     "text": [
      "SC4H9(183) + CC(CCOO)OO(787) <=> C4H8OOH1-3O2(225) + butane(1)\n"
     ]
    }
   ],
   "source": [
    "print(reaction_list[808])"
   ]
  },
  {
   "cell_type": "code",
   "execution_count": 42,
   "id": "281b02e8",
   "metadata": {},
   "outputs": [
    {
     "data": {
      "text/plain": [
       "233981.5749937747"
      ]
     },
     "execution_count": 42,
     "metadata": {},
     "output_type": "execute_result"
    }
   ],
   "source": [
    "reaction_list[808].get_rate_coefficient(T=550, P=101325)"
   ]
  },
  {
   "cell_type": "markdown",
   "id": "a5cc0169",
   "metadata": {},
   "source": [
    "## Find all reactions producing species 85"
   ]
  },
  {
   "cell_type": "code",
   "execution_count": 11,
   "id": "cdc7cfed",
   "metadata": {
    "scrolled": true
   },
   "outputs": [
    {
     "name": "stdout",
     "output_type": "stream",
     "text": [
      "808 SC4H9(183) + CC(CCOO)OO(787) <=> C4H8OOH1-3O2(225) + butane(1) 233981.5749937747\n",
      "809 PC4H9(182) + CC(CCOO)OO(787) <=> C4H8OOH1-3O2(225) + butane(1) 233981.5749937747\n",
      "813 HO2(16) + C4H8OOH1-3O2(225) <=> O2(2) + CC(CCOO)OO(787) 714534.8074542894\n",
      "814 H2O2(17) + C4H8OOH1-3O2(225) <=> HO2(16) + CC(CCOO)OO(787) 30.35224263152591\n",
      "816 OH(15) + CC(CCOO)OO(787) <=> H2O(8) + C4H8OOH1-3O2(225) 1640728.7807330228\n",
      "818 HCO(19) + CC(CCOO)OO(787) <=> CH2O(9) + C4H8OOH1-3O2(225) 2.2401653154432497e-14\n",
      "820 C4H71-3(190) + CC(CCOO)OO(787) <=> C4H8-2(189) + C4H8OOH1-3O2(225) 0.3887388207843497\n",
      "821 C4H8-1(188) + C4H8OOH1-3O2(225) <=> C4H71-3(190) + CC(CCOO)OO(787) 6.380213929389688\n",
      "826 CH2CHO(21) + CC(CCOO)OO(787) <=> CH3CHO(35) + C4H8OOH1-3O2(225) 225.25302405078327\n",
      "827 CH3CO(20) + CC(CCOO)OO(787) <=> CH3CHO(35) + C4H8OOH1-3O2(225) 2.2401653154432497e-14\n",
      "829 C2H3(22) + CC(CCOO)OO(787) <=> C2H4(11) + C4H8OOH1-3O2(225) 4152328.065752566\n",
      "830 C3H5-A(94) + CC(CCOO)OO(787) <=> C3H6(12) + C4H8OOH1-3O2(225) 0.7774776415686994\n",
      "832 CH4(10) + C4H8OOH1-3O2(225) <=> CH3(18) + CC(CCOO)OO(787) 0.0004062125451800188\n",
      "835 H(14) + C4H8OOH1-3O2(225) <=> CC(CCOO)OO(787) 16169555.527577324\n",
      "843 CH3O(31) + C4H8OOH1-3O2(225) <=> CH2O(9) + CC(CCOO)OO(787) 6436633.7161551835\n",
      "847 SC4H9(183) + C4H8OOH1-3O2(225) <=> C4H8-2(189) + CC(CCOO)OO(787) 220400.64357680717\n",
      "851 PC4H9(182) + C4H8OOH1-3O2(225) <=> C4H8-1(188) + CC(CCOO)OO(787) 20000.000000000004\n",
      "855 SC4H9(183) + C4H8OOH1-3O2(225) <=> C4H8-1(188) + CC(CCOO)OO(787) 113098.12123199571\n",
      "859 [CH2]C[O](703) + C4H8OOH1-3O2(225) <=> CH2CHO(21) + CC(CCOO)OO(787) 468900.0136399722\n",
      "865 CH3CO(20) + C4H8OOH1-3O2(225) <=> CH2CO(24) + CC(CCOO)OO(787) 3854939.117724508\n",
      "869 CH2CHO(21) + C4H8OOH1-3O2(225) <=> CH2CO(24) + CC(CCOO)OO(787) 234450.0068199861\n",
      "873 HCO(19) + C4H8OOH1-3O2(225) <=> CO(6) + CC(CCOO)OO(787) 51200000.00000001\n",
      "877 C2H5(33) + C4H8OOH1-3O2(225) <=> C2H4(11) + CC(CCOO)OO(787) 6436633.7161551835\n",
      "881 NC3H7(92) + C4H8OOH1-3O2(225) <=> C3H6(12) + CC(CCOO)OO(787) 220400.64357680717\n",
      "885 IC3H7(93) + C4H8OOH1-3O2(225) <=> C3H6(12) + CC(CCOO)OO(787) 270376.91010555765\n",
      "889 C4H8OOH2-4O2(229) + CC(CCOO)OO(787) <=> C4H8OOH1-3O2(225) + CC(CCOO)OO(787) 15.176121315762956\n",
      "892 C4H72-2,4OOH(244) + CC(CCOO)OO(787) <=> C4H8OOH1-3O2(225) + CC(CCOO)OO(787) 298.21525684053904\n",
      "893 C4H71-1,3OOH(238) + CC(CCOO)OO(787) <=> C4H8OOH1-3O2(225) + CC(CCOO)OO(787) 804.0055514421168\n",
      "896 [CH2]C[CH]C(748) + C4H8OOH1-3O2(225) <=> C4H71-3(190) + CC(CCOO)OO(787) 20000.000000000004\n",
      "904 C4H71-3(190) + C4H8OOH1-3O2(225) <=> C4H6(194) + CC(CCOO)OO(787) 13514.4136368056\n",
      "932 CC(CC[O])OO(777) + C4H8OOH1-3O2(225) <=> NC4KET13(252) + CC(CCOO)OO(787) 468900.0136399722\n",
      "979 C2H5O(49) + C4H8OOH1-3O2(225) <=> CH3CHO(35) + CC(CCOO)OO(787) 468900.0136399722\n",
      "988 H(14) + CC(CCOO)OO(787) <=> H2(13) + C4H8OOH1-3O2(225) 0.27149370557826247\n",
      "1020 C4H71-4(191) + CC(CCOO)OO(787) <=> C4H8-1(188) + C4H8OOH1-3O2(225) 233981.5749937747\n",
      "1050 C4H71-4(191) + C4H8OOH1-3O2(225) <=> C4H6(194) + CC(CCOO)OO(787) 20000.000000000004\n",
      "1099 CH3O2(45) + CC(CCOO)OO(787) <=> CH3O2H(46) + C4H8OOH1-3O2(225) 15.176121315762956\n",
      "1173 C4H71-1(192) + CC(CCOO)OO(787) <=> C4H8-1(188) + C4H8OOH1-3O2(225) 4152328.065752566\n",
      "1241 C3H5O(129) + C4H8OOH1-3O2(225) <=> C2H3CHO(74) + CC(CCOO)OO(787) 468900.0136399722\n",
      "1279 C2H3(22) + C4H8OOH1-3O2(225) <=> C2H2(25) + CC(CCOO)OO(787) 4291089.144103455\n",
      "1313 C3KET21(73) + C4H8OOH1-3O2(225) <=> CH3COCH2O2(72) + CC(CCOO)OO(787) 15.176121315762956\n",
      "1317 [CH2]C(=O)COO(911) + CC(CCOO)OO(787) <=> C3KET21(73) + C4H8OOH1-3O2(225) 225.25302405078327\n",
      "1471 C2H6(32) + C4H8OOH1-3O2(225) <=> C2H5(33) + CC(CCOO)OO(787) 0.028767639249203728\n",
      "1510 CH3O(31) + CC(CCOO)OO(787) <=> CH3OH(30) + C4H8OOH1-3O2(225) 0.015571355943222025\n",
      "1563 OCHO(38) + C4H8OOH1-3O2(225) <=> CO2(7) + CC(CCOO)OO(787) 234450.0068199861\n",
      "1607 OCHO(38) + CC(CCOO)OO(787) <=> HOCHO(40) + C4H8OOH1-3O2(225) 2.2622200803809237e-05\n",
      "1660 C2H5O2H(48) + C4H8OOH1-3O2(225) <=> C2H5O2(47) + CC(CCOO)OO(787) 15.176121315762956\n",
      "1699 C2H(4) + CC(CCOO)OO(787) <=> C2H2(25) + C4H8OOH1-3O2(225) 3.0095092941735944\n",
      "1723 C4H8OOH1-3O2(225) + SC4H9O2H(187) <=> SC4H9O2(186) + CC(CCOO)OO(787) 15.176121315762956\n",
      "1780 C4H8OOH2-4(223) + CC(CCOO)OO(787) <=> C4H8OOH1-3O2(225) + SC4H9O2H(187) 10031.505661745623\n"
     ]
    }
   ],
   "source": [
    "first_degree_reactions = []\n",
    "sp85 = species_list[85]\n",
    "sp73 = species_list[73]\n",
    "for i, rxn in enumerate(reaction_list):\n",
    "    rate = rxn.get_rate_coefficient(T=550, P=101325)\n",
    "    if sp85 in rxn.products and sp73 in rxn.reactants:\n",
    "        first_degree_reactions.append(rxn)\n",
    "        print(i, rxn, rate)\n",
    "    elif sp85 in rxn.reactants and sp73 in rxn.products:\n",
    "        first_degree_reactions.append(rxn)\n",
    "        print(i, rxn, rate)\n"
   ]
  },
  {
   "cell_type": "code",
   "execution_count": 31,
   "id": "fbe41c33",
   "metadata": {},
   "outputs": [],
   "source": [
    "# rank the reactions that produce the most species 85\n",
    "reactions_73to85 = []\n",
    "rates_73to85 = []\n",
    "sp85 = species_list[85]\n",
    "sp73 = species_list[73]\n",
    "for i, rxn in enumerate(reaction_list):\n",
    "    if sp85 in rxn.products and sp73 in rxn.reactants:  # these produce species 85, so keep rate forward\n",
    "        rate = rxn.get_rate_coefficient(T=550, P=101325)\n",
    "        reactions_73to85.append(rxn)\n",
    "        rates_73to85.append(rate)\n",
    "#         print(i, rxn, rate)\n",
    "    elif sp85 in rxn.reactants and sp73 in rxn.products:  # reverse these rates\n",
    "        reverse_rxn = rxn.generate_reverse_rate_coefficient()\n",
    "        rate = reverse_rxn.get_rate_coefficient(T=550, P=101325)\n",
    "        reactions_73to85.append(rxn)\n",
    "        rates_73to85.append(rate)\n",
    "#         print(i, rxn, rate)\n",
    "\n",
    "\n",
    "order_rxn = np.arange(0, len(reactions_73to85))\n",
    "rates = np.array(rates_73to85)\n",
    "fastest_rxns = [x for _, x in sorted(zip(rates, order_rxn))][::-1]\n",
    "\n",
    "\n",
    "# rates_73to85 = np.array(rates_73to85)\n",
    "# # [print(type(rate)) for rate in rates_73to85]\n",
    "# reaction_order = [x for _, x in sorted(zip(rates_73to85, reactions_73to85))][::-1]"
   ]
  },
  {
   "cell_type": "code",
   "execution_count": 35,
   "id": "31ba741d",
   "metadata": {},
   "outputs": [
    {
     "name": "stdout",
     "output_type": "stream",
     "text": [
      "Fastest reactions producing species 85\n",
      "873 \t 51200000.00000001 HCO(19) + C4H8OOH1-3O2(225) <=> CO(6) + CC(CCOO)OO(787)\n",
      "835 \t 16169555.527577324 H(14) + C4H8OOH1-3O2(225) <=> CC(CCOO)OO(787)\n",
      "877 \t 6436633.7161551835 C2H5(33) + C4H8OOH1-3O2(225) <=> C2H4(11) + CC(CCOO)OO(787)\n",
      "843 \t 6436633.7161551835 CH3O(31) + C4H8OOH1-3O2(225) <=> CH2O(9) + CC(CCOO)OO(787)\n",
      "1279 \t 4291089.144103455 C2H3(22) + C4H8OOH1-3O2(225) <=> C2H2(25) + CC(CCOO)OO(787)\n",
      "865 \t 3854939.117724508 CH3CO(20) + C4H8OOH1-3O2(225) <=> CH2CO(24) + CC(CCOO)OO(787)\n",
      "813 \t 714534.8074542894 HO2(16) + C4H8OOH1-3O2(225) <=> O2(2) + CC(CCOO)OO(787)\n",
      "1241 \t 468900.0136399722 C3H5O(129) + C4H8OOH1-3O2(225) <=> C2H3CHO(74) + CC(CCOO)OO(787)\n",
      "979 \t 468900.0136399722 C2H5O(49) + C4H8OOH1-3O2(225) <=> CH3CHO(35) + CC(CCOO)OO(787)\n",
      "932 \t 468900.0136399722 CC(CC[O])OO(777) + C4H8OOH1-3O2(225) <=> NC4KET13(252) + CC(CCOO)OO(787)\n"
     ]
    }
   ],
   "source": [
    "print('Fastest reactions producing species 85')\n",
    "for i in range(0, 10):\n",
    "    index = fastest_rxns[i]\n",
    "    rmg_index = reaction_list.index(reactions_73to85[index])\n",
    "    print(rmg_index, '\\t', rates_73to85[index], reactions_73to85[index])"
   ]
  },
  {
   "cell_type": "markdown",
   "id": "b5276e21",
   "metadata": {},
   "source": [
    "## Copy for the model with just t85 changd"
   ]
  },
  {
   "cell_type": "code",
   "execution_count": 37,
   "id": "ad2cf6c5",
   "metadata": {},
   "outputs": [
    {
     "name": "stdout",
     "output_type": "stream",
     "text": [
      "Fastest reactions producing species 85\n",
      "873 \t 51200000.00000001 HCO(19) + C4H8OOH1-3O2(225) <=> CO(6) + CC(CCOO)OO(787)\n",
      "835 \t 16169555.527577324 H(14) + C4H8OOH1-3O2(225) <=> CC(CCOO)OO(787)\n",
      "877 \t 6436633.7161551835 C2H5(33) + C4H8OOH1-3O2(225) <=> C2H4(11) + CC(CCOO)OO(787)\n",
      "843 \t 6436633.7161551835 CH3O(31) + C4H8OOH1-3O2(225) <=> CH2O(9) + CC(CCOO)OO(787)\n",
      "1279 \t 4291089.144103455 C2H3(22) + C4H8OOH1-3O2(225) <=> C2H2(25) + CC(CCOO)OO(787)\n",
      "865 \t 3854939.117724508 CH3CO(20) + C4H8OOH1-3O2(225) <=> CH2CO(24) + CC(CCOO)OO(787)\n",
      "808 \t 1490929.1947903202 SC4H9(183) + CC(CCOO)OO(787) <=> C4H8OOH1-3O2(225) + butane(1)\n",
      "813 \t 714534.8074542894 HO2(16) + C4H8OOH1-3O2(225) <=> O2(2) + CC(CCOO)OO(787)\n",
      "1241 \t 468900.0136399722 C3H5O(129) + C4H8OOH1-3O2(225) <=> C2H3CHO(74) + CC(CCOO)OO(787)\n",
      "979 \t 468900.0136399722 C2H5O(49) + C4H8OOH1-3O2(225) <=> CH3CHO(35) + CC(CCOO)OO(787)\n"
     ]
    }
   ],
   "source": [
    "# Load the base model and the covariance matrix\n",
    "basedir85 = '/work/westgroup/harris.se/autoscience/autoscience/debug/thermo85'\n",
    "\n",
    "base_chemkin = os.path.join(basedir85, 'thermo_only_85.inp')\n",
    "dictionary = os.path.join(basedir, 'species_dictionary.txt')\n",
    "transport = os.path.join(basedir, 'tran.dat')\n",
    "\n",
    "species_list, reaction_list = rmgpy.chemkin.load_chemkin_file(base_chemkin, dictionary_path=dictionary, transport_path=transport)\n",
    "\n",
    "\n",
    "# rank the reactions that produce the most species 85\n",
    "reactions_73to85 = []\n",
    "rates_73to85 = []\n",
    "sp85 = species_list[85]\n",
    "sp73 = species_list[73]\n",
    "for i, rxn in enumerate(reaction_list):\n",
    "    if sp85 in rxn.products and sp73 in rxn.reactants:  # these produce species 85, so keep rate forward\n",
    "        rate = rxn.get_rate_coefficient(T=550, P=101325)\n",
    "        reactions_73to85.append(rxn)\n",
    "        rates_73to85.append(rate)\n",
    "#         print(i, rxn, rate)\n",
    "    elif sp85 in rxn.reactants and sp73 in rxn.products:  # reverse these rates\n",
    "        reverse_rxn = rxn.generate_reverse_rate_coefficient()\n",
    "        rate = reverse_rxn.get_rate_coefficient(T=550, P=101325)\n",
    "        reactions_73to85.append(rxn)\n",
    "        rates_73to85.append(rate)\n",
    "#         print(i, rxn, rate)\n",
    "\n",
    "\n",
    "order_rxn = np.arange(0, len(reactions_73to85))\n",
    "rates = np.array(rates_73to85)\n",
    "fastest_rxns = [x for _, x in sorted(zip(rates, order_rxn))][::-1]\n",
    "\n",
    "\n",
    "print('Fastest reactions producing species 85')\n",
    "for i in range(0, 10):\n",
    "    index = fastest_rxns[i]\n",
    "    rmg_index = reaction_list.index(reactions_73to85[index])\n",
    "    print(rmg_index, '\\t', rates_73to85[index], reactions_73to85[index])"
   ]
  },
  {
   "cell_type": "code",
   "execution_count": null,
   "id": "96ca2583",
   "metadata": {},
   "outputs": [],
   "source": []
  },
  {
   "cell_type": "markdown",
   "id": "3555e162",
   "metadata": {},
   "source": [
    "## Species 74  C4H8OOH2-4O2(229)"
   ]
  },
  {
   "cell_type": "code",
   "execution_count": 43,
   "id": "88a3352d",
   "metadata": {},
   "outputs": [
    {
     "name": "stdout",
     "output_type": "stream",
     "text": [
      "74 C4H8OOH2-4O2(229)\n"
     ]
    }
   ],
   "source": [
    "# try the other species\n",
    "ref_smiles = 'CC(CCO[O])OO'\n",
    "for i in range(0, len(species_list)):\n",
    "    if species_list[i].smiles == ref_smiles:\n",
    "        print(i, species_list[i])"
   ]
  },
  {
   "cell_type": "code",
   "execution_count": 45,
   "id": "621dbc5d",
   "metadata": {},
   "outputs": [
    {
     "name": "stdout",
     "output_type": "stream",
     "text": [
      "Fastest reactions producing species 85\n",
      "874 \t 51200000.00000001 HCO(19) + C4H8OOH2-4O2(229) <=> CO(6) + CC(CCOO)OO(787)\n",
      "836 \t 16169555.527577324 H(14) + C4H8OOH2-4O2(229) <=> CC(CCOO)OO(787)\n",
      "878 \t 6436633.7161551835 C2H5(33) + C4H8OOH2-4O2(229) <=> C2H4(11) + CC(CCOO)OO(787)\n",
      "844 \t 6436633.7161551835 CH3O(31) + C4H8OOH2-4O2(229) <=> CH2O(9) + CC(CCOO)OO(787)\n",
      "1280 \t 4291089.144103455 C2H3(22) + C4H8OOH2-4O2(229) <=> C2H2(25) + CC(CCOO)OO(787)\n",
      "866 \t 3854939.117724508 CH3CO(20) + C4H8OOH2-4O2(229) <=> CH2CO(24) + CC(CCOO)OO(787)\n",
      "812 \t 714534.8074542894 HO2(16) + C4H8OOH2-4O2(229) <=> O2(2) + CC(CCOO)OO(787)\n",
      "1242 \t 468900.0136399722 C3H5O(129) + C4H8OOH2-4O2(229) <=> C2H3CHO(74) + CC(CCOO)OO(787)\n",
      "980 \t 468900.0136399722 C2H5O(49) + C4H8OOH2-4O2(229) <=> CH3CHO(35) + CC(CCOO)OO(787)\n",
      "933 \t 468900.0136399722 CC(CC[O])OO(777) + C4H8OOH2-4O2(229) <=> NC4KET13(252) + CC(CCOO)OO(787)\n"
     ]
    }
   ],
   "source": [
    "# Load the base model and the covariance matrix\n",
    "basedir = '/work/westgroup/harris.se/autoscience/autoscience/butane/models/rmg_model'\n",
    "\n",
    "base_chemkin = os.path.join(basedir, 'chem_annotated.inp')\n",
    "dictionary = os.path.join(basedir, 'species_dictionary.txt')\n",
    "transport = os.path.join(basedir, 'tran.dat')\n",
    "\n",
    "species_list, reaction_list = rmgpy.chemkin.load_chemkin_file(base_chemkin, dictionary_path=dictionary, transport_path=transport)\n",
    "\n",
    "# rank the reactions that produce the most species 85\n",
    "reactions_73to85 = []\n",
    "rates_73to85 = []\n",
    "sp85 = species_list[85]\n",
    "sp73 = species_list[74]\n",
    "for i, rxn in enumerate(reaction_list):\n",
    "    if sp85 in rxn.products and sp73 in rxn.reactants:  # these produce species 85, so keep rate forward\n",
    "        rate = rxn.get_rate_coefficient(T=550, P=101325)\n",
    "        reactions_73to85.append(rxn)\n",
    "        rates_73to85.append(rate)\n",
    "#         print(i, rxn, rate)\n",
    "    elif sp85 in rxn.reactants and sp73 in rxn.products:  # reverse these rates\n",
    "        reverse_rxn = rxn.generate_reverse_rate_coefficient()\n",
    "        rate = reverse_rxn.get_rate_coefficient(T=550, P=101325)\n",
    "        reactions_73to85.append(rxn)\n",
    "        rates_73to85.append(rate)\n",
    "#         print(i, rxn, rate)\n",
    "\n",
    "\n",
    "order_rxn = np.arange(0, len(reactions_73to85))\n",
    "rates = np.array(rates_73to85)\n",
    "fastest_rxns = [x for _, x in sorted(zip(rates, order_rxn))][::-1]\n",
    "\n",
    "\n",
    "print('Fastest reactions producing species 85')\n",
    "for i in range(0, 10):\n",
    "    index = fastest_rxns[i]\n",
    "    rmg_index = reaction_list.index(reactions_73to85[index])\n",
    "    print(rmg_index, '\\t', rates_73to85[index], reactions_73to85[index])"
   ]
  },
  {
   "cell_type": "code",
   "execution_count": 46,
   "id": "2b4ff2b5",
   "metadata": {},
   "outputs": [
    {
     "name": "stdout",
     "output_type": "stream",
     "text": [
      "Fastest reactions producing species 85\n",
      "874 \t 51200000.00000001 HCO(19) + C4H8OOH2-4O2(229) <=> CO(6) + CC(CCOO)OO(787)\n",
      "836 \t 16169555.527577324 H(14) + C4H8OOH2-4O2(229) <=> CC(CCOO)OO(787)\n",
      "878 \t 6436633.7161551835 C2H5(33) + C4H8OOH2-4O2(229) <=> C2H4(11) + CC(CCOO)OO(787)\n",
      "844 \t 6436633.7161551835 CH3O(31) + C4H8OOH2-4O2(229) <=> CH2O(9) + CC(CCOO)OO(787)\n",
      "1280 \t 4291089.144103455 C2H3(22) + C4H8OOH2-4O2(229) <=> C2H2(25) + CC(CCOO)OO(787)\n",
      "866 \t 3854939.117724508 CH3CO(20) + C4H8OOH2-4O2(229) <=> CH2CO(24) + CC(CCOO)OO(787)\n",
      "804 \t 1438417.9467025553 SC4H9(183) + CC(CCOO)OO(787) <=> C4H8OOH2-4O2(229) + butane(1)\n",
      "812 \t 714534.8074542894 HO2(16) + C4H8OOH2-4O2(229) <=> O2(2) + CC(CCOO)OO(787)\n",
      "1242 \t 468900.0136399722 C3H5O(129) + C4H8OOH2-4O2(229) <=> C2H3CHO(74) + CC(CCOO)OO(787)\n",
      "980 \t 468900.0136399722 C2H5O(49) + C4H8OOH2-4O2(229) <=> CH3CHO(35) + CC(CCOO)OO(787)\n"
     ]
    }
   ],
   "source": [
    "# Load the base model and the covariance matrix\n",
    "basedir85 = '/work/westgroup/harris.se/autoscience/autoscience/debug/thermo85'\n",
    "\n",
    "base_chemkin = os.path.join(basedir85, 'thermo_only_85.inp')\n",
    "dictionary = os.path.join(basedir, 'species_dictionary.txt')\n",
    "transport = os.path.join(basedir, 'tran.dat')\n",
    "\n",
    "species_list, reaction_list = rmgpy.chemkin.load_chemkin_file(base_chemkin, dictionary_path=dictionary, transport_path=transport)\n",
    "\n",
    "# rank the reactions that produce the most species 85\n",
    "reactions_73to85 = []\n",
    "rates_73to85 = []\n",
    "sp85 = species_list[85]\n",
    "sp73 = species_list[74]\n",
    "for i, rxn in enumerate(reaction_list):\n",
    "    if sp85 in rxn.products and sp73 in rxn.reactants:  # these produce species 85, so keep rate forward\n",
    "        rate = rxn.get_rate_coefficient(T=550, P=101325)\n",
    "        reactions_73to85.append(rxn)\n",
    "        rates_73to85.append(rate)\n",
    "#         print(i, rxn, rate)\n",
    "    elif sp85 in rxn.reactants and sp73 in rxn.products:  # reverse these rates\n",
    "        reverse_rxn = rxn.generate_reverse_rate_coefficient()\n",
    "        rate = reverse_rxn.get_rate_coefficient(T=550, P=101325)\n",
    "        reactions_73to85.append(rxn)\n",
    "        rates_73to85.append(rate)\n",
    "#         print(i, rxn, rate)\n",
    "\n",
    "\n",
    "order_rxn = np.arange(0, len(reactions_73to85))\n",
    "rates = np.array(rates_73to85)\n",
    "fastest_rxns = [x for _, x in sorted(zip(rates, order_rxn))][::-1]\n",
    "\n",
    "\n",
    "print('Fastest reactions producing species 85')\n",
    "for i in range(0, 10):\n",
    "    index = fastest_rxns[i]\n",
    "    rmg_index = reaction_list.index(reactions_73to85[index])\n",
    "    print(rmg_index, '\\t', rates_73to85[index], reactions_73to85[index])"
   ]
  },
  {
   "cell_type": "code",
   "execution_count": 47,
   "id": "55c9a404",
   "metadata": {},
   "outputs": [
    {
     "name": "stdout",
     "output_type": "stream",
     "text": [
      "76 C4H72-2,4OOH(244)\n"
     ]
    }
   ],
   "source": [
    "ref_smiles = 'C[C](CCOO)OO'\n",
    "for i in range(0, len(species_list)):\n",
    "    if species_list[i].smiles == ref_smiles:\n",
    "        print(i, species_list[i])"
   ]
  },
  {
   "cell_type": "markdown",
   "id": "27869e15",
   "metadata": {},
   "source": [
    "## Plot first pathway"
   ]
  },
  {
   "cell_type": "code",
   "execution_count": 56,
   "id": "200b1a02",
   "metadata": {},
   "outputs": [],
   "source": [
    "# plot the first pathway\n",
    "# Load the base model\n",
    "basedir = '/work/westgroup/harris.se/autoscience/autoscience/butane/models/rmg_model'\n",
    "base_chemkin = os.path.join(basedir, 'chem_annotated.inp')\n",
    "dictionary = os.path.join(basedir, 'species_dictionary.txt')\n",
    "transport = os.path.join(basedir, 'tran.dat')\n",
    "species_list, reaction_list = rmgpy.chemkin.load_chemkin_file(base_chemkin, dictionary_path=dictionary, transport_path=transport)\n",
    "\n",
    "basedir85 = '/work/westgroup/harris.se/autoscience/autoscience/debug/thermo85'\n",
    "base_chemkin = os.path.join(basedir85, 'thermo_only_85.inp')\n",
    "species_list85, reaction_list85 = rmgpy.chemkin.load_chemkin_file(base_chemkin, dictionary_path=dictionary, transport_path=transport)\n"
   ]
  },
  {
   "cell_type": "code",
   "execution_count": 58,
   "id": "357cdde8",
   "metadata": {},
   "outputs": [
    {
     "data": {
      "text/plain": [
       "<matplotlib.legend.Legend at 0x2b90813205d0>"
      ]
     },
     "execution_count": 58,
     "metadata": {},
     "output_type": "execute_result"
    },
    {
     "data": {
      "image/png": "[encoded data removed]",
      "text/plain": [
       "<Figure size 432x288 with 1 Axes>"
      ]
     },
     "metadata": {
      "needs_background": "light"
     },
     "output_type": "display_data"
    }
   ],
   "source": [
    "species_indices = [74, 76, 85]\n",
    "\n",
    "free_energies = np.zeros(len(species_indices))\n",
    "free_energies85 = np.zeros(len(species_indices))\n",
    "\n",
    "\n",
    "for i, rmg_index in enumerate(species_indices):\n",
    "    free_energies[i] = species_list[rmg_index].get_free_energy(550)\n",
    "    free_energies85[i] = species_list85[rmg_index].get_free_energy(550)\n",
    "    \n",
    "    \n",
    "plt.scatter([1, 2, 3], free_energies)\n",
    "plt.scatter([1, 2, 3], free_energies85)\n",
    "plt.legend(['original', 'changed 85'])"
   ]
  },
  {
   "cell_type": "code",
   "execution_count": null,
   "id": "72107c0b",
   "metadata": {},
   "outputs": [],
   "source": []
  },
  {
   "cell_type": "code",
   "execution_count": null,
   "id": "03c00f96",
   "metadata": {},
   "outputs": [],
   "source": []
  },
  {
   "cell_type": "code",
   "execution_count": null,
   "id": "38109eaf",
   "metadata": {},
   "outputs": [],
   "source": []
  },
  {
   "cell_type": "code",
   "execution_count": null,
   "id": "4df58ac6",
   "metadata": {},
   "outputs": [],
   "source": []
  },
  {
   "cell_type": "code",
   "execution_count": 8,
   "id": "4a190041",
   "metadata": {},
   "outputs": [
    {
     "name": "stdout",
     "output_type": "stream",
     "text": [
      "49\n"
     ]
    }
   ],
   "source": [
    "print(len(first_degree_reactions))"
   ]
  },
  {
   "cell_type": "code",
   "execution_count": null,
   "id": "929ed8a2",
   "metadata": {},
   "outputs": [],
   "source": []
  },
  {
   "cell_type": "code",
   "execution_count": null,
   "id": "978bd7dd",
   "metadata": {},
   "outputs": [],
   "source": [
    "species_list[85]"
   ]
  },
  {
   "cell_type": "code",
   "execution_count": null,
   "id": "60971858",
   "metadata": {},
   "outputs": [],
   "source": [
    "# load the new thermo estimate\n",
    "DFT_DIR = \"/work/westgroup/harris.se/autoscience/autoscience/butane/dft/\"\n",
    "\n",
    "thermo_lib = os.path.join(DFT_DIR, 'thermo', 'thermo')\n",
    "ark_thermo_database = rmgpy.data.thermo.ThermoDatabase()\n",
    "ark_thermo_database.load_libraries(thermo_lib)\n",
    "print(f'{len(ark_thermo_database.libraries[\"harris_butane\"].entries)} entries')\n",
    "\n",
    "for key in ark_thermo_database.libraries['harris_butane'].entries.keys():\n",
    "    entry = ark_thermo_database.libraries['harris_butane'].entries[key]\n",
    "    if entry.item.smiles == species_list[85].smiles:\n",
    "        break\n",
    "        \n",
    "dft_sp = rmgpy.species.Species(smiles=species_list[85].smiles)\n",
    "dft_sp.thermo = entry.data\n",
    "print(dft_sp)"
   ]
  },
  {
   "cell_type": "code",
   "execution_count": null,
   "id": "1112033d",
   "metadata": {},
   "outputs": [],
   "source": [
    "# uncertainty estimate by hand:\n",
    "# {'GAV': {'group': [(<Entry index=2335 label=\"O2s-OsCs\">, 2),\n",
    "#    (<Entry index=2317 label=\"O2s-OsH\">, 2),\n",
    "#    (<Entry index=1908 label=\"Cs-CsCsOsH\">, 1),\n",
    "#    (<Entry index=953 label=\"Cs-CsCsHH\">, 1),\n",
    "#    (<Entry index=1952 label=\"Cs-CsOsHH\">, 1),\n",
    "#    (<Entry index=921 label=\"Cs-CsHHH\">, 1)]}}\n",
    "\n",
    "group_uncertainty = 0.1\n",
    "uncertainty_85 = 1.5 + group_uncertainty * (2 + 1 + 1 + 1 + 1)\n",
    "print(uncertainty_85)"
   ]
  },
  {
   "cell_type": "code",
   "execution_count": null,
   "id": "f5f24941",
   "metadata": {},
   "outputs": [],
   "source": []
  },
  {
   "cell_type": "code",
   "execution_count": null,
   "id": "e1ca153e",
   "metadata": {},
   "outputs": [],
   "source": [
    "# plot the original uncertainty\n",
    "print(species_list[85])\n",
    "uncertainty_GAV = Sigma_G[85, 85] * 4.184  # convert kcal/mol to kJ/mol\n",
    "plot_species_uncertainties([species_list[85], dft_sp], [uncertainty_GAV, 1.5], labels=['RMG GAV', 'DFT'])"
   ]
  },
  {
   "cell_type": "code",
   "execution_count": null,
   "id": "7ffa4e67",
   "metadata": {},
   "outputs": [],
   "source": [
    "Sigma_G[85, 85]"
   ]
  },
  {
   "cell_type": "code",
   "execution_count": null,
   "id": "9af0925e",
   "metadata": {},
   "outputs": [],
   "source": [
    "Sigma_G[0,0]"
   ]
  },
  {
   "cell_type": "code",
   "execution_count": null,
   "id": "9b6fb29b",
   "metadata": {},
   "outputs": [],
   "source": [
    "species_list[0].label"
   ]
  },
  {
   "cell_type": "code",
   "execution_count": null,
   "id": "91d2c261",
   "metadata": {},
   "outputs": [],
   "source": [
    "dir(species_list[0])"
   ]
  },
  {
   "cell_type": "code",
   "execution_count": null,
   "id": "97da1a0e",
   "metadata": {},
   "outputs": [],
   "source": [
    "plot_reaction_uncertainty"
   ]
  },
  {
   "cell_type": "code",
   "execution_count": null,
   "id": "6c6608a2",
   "metadata": {},
   "outputs": [],
   "source": [
    "def plot_thermos(thermos, labels=None):\n",
    "    %matplotlib inline\n",
    "    fig, ax = plt.subplots(1,3)\n",
    "    fig.set_size_inches(12, 3)\n",
    "    fig.tight_layout()\n",
    "    ax[0].set_xlabel('Temperature (K)')\n",
    "    ax[0].set_ylabel('H (kJ / mol)')\n",
    "    ax[0].set_title('Enthalpy vs. Temperature')\n",
    "    ax[1].set_xlabel('Temperature (K)')\n",
    "    ax[1].set_ylabel('S (kJ / mol K)')\n",
    "    ax[1].set_title('Entropy vs. Temperature')\n",
    "    ax[2].set_xlabel('Temperature (K)')\n",
    "    ax[2].set_ylabel('Cp (kJ / mol K)')\n",
    "    ax[2].set_title('Heat Capacity vs. Temperature')\n",
    "    T = np.linspace(300, 3000, 1001)\n",
    "    for thermo in thermos:\n",
    "        H = np.zeros(len(T))\n",
    "        S = np.zeros(len(T))\n",
    "        Cp = np.zeros(len(T))\n",
    "        for i in range(0, len(T)):\n",
    "            H[i] = thermo.get_enthalpy(T[i]) / 1000.0\n",
    "            S[i] = thermo.get_entropy(T[i]) / 1000.0\n",
    "            Cp[i] = thermo.get_heat_capacity(T[i]) / 1000.0\n",
    "        ax[0].plot(T, H)\n",
    "        ax[1].plot(T, S)\n",
    "        ax[2].plot(T, Cp)\n",
    "    ax[0].legend(labels)\n",
    "    ax[1].legend(labels)\n",
    "    ax[2].legend(labels)\n",
    "    plt.subplots_adjust(wspace=0.25)\n",
    "    plt.show()"
   ]
  },
  {
   "cell_type": "code",
   "execution_count": null,
   "id": "caea2054",
   "metadata": {},
   "outputs": [],
   "source": [
    "# Load the base model\n",
    "basedir = '/work/westgroup/harris.se/autoscience/autoscience/butane/models/rmg_model'\n",
    "base_chemkin = os.path.join(basedir, 'chem_annotated.inp')\n",
    "dictionary = os.path.join(basedir, 'species_dictionary.txt')\n",
    "transport = os.path.join(basedir, 'tran.dat')\n",
    "species_list, reaction_list = rmgpy.chemkin.load_chemkin_file(base_chemkin, dictionary_path=dictionary, transport_path=transport)\n",
    "print(f'{len(species_list)} species, {len(reaction_list)} reactions')\n"
   ]
  },
  {
   "cell_type": "code",
   "execution_count": null,
   "id": "a7d9e91f",
   "metadata": {},
   "outputs": [],
   "source": [
    "# Load the new thermo library\n",
    "DFT_DIR = \"/work/westgroup/harris.se/autoscience/autoscience/butane/dft/\"\n",
    "thermo_lib = os.path.join(DFT_DIR, 'thermo', 'thermo')\n",
    "ark_thermo_database = rmgpy.data.thermo.ThermoDatabase()\n",
    "ark_thermo_database.load_libraries(thermo_lib)\n",
    "print(f'{len(ark_thermo_database.libraries[\"harris_butane\"].entries)} entries')"
   ]
  },
  {
   "cell_type": "code",
   "execution_count": null,
   "id": "ba8c270b",
   "metadata": {},
   "outputs": [],
   "source": [
    "# stitch each of the library thermos into the mechanism\n",
    "plot_index = 85\n",
    "\n",
    "species = species_list[plot_index]\n",
    "\n",
    "for key in ark_thermo_database.libraries['harris_butane'].entries.keys():\n",
    "    entry = ark_thermo_database.libraries['harris_butane'].entries[key]\n",
    "\n",
    "    if entry.item.smiles == species_list[plot_index].smiles:\n",
    "        plot_thermos([species_list[plot_index], entry.data], ['RMG GAV', 'DFT'])\n",
    "        plot_thermo_diff(species_list[plot_index], entry.data)\n",
    "        break"
   ]
  },
  {
   "cell_type": "code",
   "execution_count": null,
   "id": "a1bc11b3",
   "metadata": {},
   "outputs": [],
   "source": [
    "# make a copy to perturb\n"
   ]
  }
 ],
 "metadata": {
  "kernelspec": {
   "display_name": "Python 3 (ipykernel)",
   "language": "python",
   "name": "python3"
  },
  "language_info": {
   "codemirror_mode": {
    "name": "ipython",
    "version": 3
   },
   "file_extension": ".py",
   "mimetype": "text/x-python",
   "name": "python",
   "nbconvert_exporter": "python",
   "pygments_lexer": "ipython3",
   "version": "3.7.12"
  }
 },
 "nbformat": 4,
 "nbformat_minor": 5
}
