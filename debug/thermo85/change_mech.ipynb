{
 "cells": [
  {
   "cell_type": "code",
   "execution_count": null,
   "id": "793748b4",
   "metadata": {},
   "outputs": [],
   "source": [
    "# script to replace the base mechanism with new reactions (every reaction calculated) and species (all species calculated for now)"
   ]
  },
  {
   "cell_type": "code",
   "execution_count": 1,
   "id": "f934e7bc",
   "metadata": {},
   "outputs": [],
   "source": [
    "import os\n",
    "import datetime\n",
    "import subprocess\n",
    "import numpy as np\n",
    "\n",
    "import rmgpy.chemkin\n",
    "import rmgpy.data.kinetics\n",
    "# import cantera as ct\n",
    "\n",
    "\n",
    "import matplotlib.pyplot as plt\n",
    "%matplotlib inline"
   ]
  },
  {
   "cell_type": "code",
   "execution_count": null,
   "id": "804642c7",
   "metadata": {},
   "outputs": [],
   "source": [
    "def plot_kinetics(rxns, labels=None):\n",
    "    \"\"\"Function for plotting reaction kinetics\n",
    "    Takes in a list of RMG reactions (rmgpy.reaction.Reaction) or a single reaction\n",
    "    \"\"\"\n",
    "    plt.xlabel('1000 / T (K^-1)')\n",
    "    plt.ylabel('ln(k)')\n",
    "\n",
    "    if type(rxns) != list:\n",
    "        rxns = [rxns]\n",
    "    \n",
    "    T = np.linspace(300, 3000, 1001)\n",
    "    for rxn in rxns:\n",
    "        k = np.zeros(len(T))\n",
    "        for i in range(0, len(T)):\n",
    "            k[i] = rxn.get_rate_coefficient(T[i], 101325)\n",
    "        plt.plot(1000.0 / T, np.log(k))\n",
    "\n",
    "    if labels:\n",
    "        plt.legend(labels)\n",
    "    plt.show()"
   ]
  },
  {
   "cell_type": "code",
   "execution_count": null,
   "id": "25fd3da1",
   "metadata": {},
   "outputs": [],
   "source": [
    "def plot_thermos(thermos, labels=None):\n",
    "    %matplotlib inline\n",
    "    fig, ax = plt.subplots(1,3)\n",
    "    fig.set_size_inches(12, 3)\n",
    "    fig.tight_layout()\n",
    "    ax[0].set_xlabel('Temperature (K)')\n",
    "    ax[0].set_ylabel('H (kJ / mol)')\n",
    "    ax[0].set_title('Enthalpy vs. Temperature')\n",
    "    ax[1].set_xlabel('Temperature (K)')\n",
    "    ax[1].set_ylabel('S (kJ / mol K)')\n",
    "    ax[1].set_title('Entropy vs. Temperature')\n",
    "    ax[2].set_xlabel('Temperature (K)')\n",
    "    ax[2].set_ylabel('Cp (kJ / mol K)')\n",
    "    ax[2].set_title('Heat Capacity vs. Temperature')\n",
    "    T = np.linspace(300, 3000, 1001)\n",
    "    for thermo in thermos:\n",
    "        H = np.zeros(len(T))\n",
    "        S = np.zeros(len(T))\n",
    "        Cp = np.zeros(len(T))\n",
    "        for i in range(0, len(T)):\n",
    "            H[i] = thermo.get_enthalpy(T[i]) / 1000.0\n",
    "            S[i] = thermo.get_entropy(T[i]) / 1000.0\n",
    "            Cp[i] = thermo.get_heat_capacity(T[i]) / 1000.0\n",
    "        ax[0].plot(T, H)\n",
    "        ax[1].plot(T, S)\n",
    "        ax[2].plot(T, Cp)\n",
    "    ax[0].legend(labels)\n",
    "    ax[1].legend(labels)\n",
    "    ax[2].legend(labels)\n",
    "    plt.subplots_adjust(wspace=0.25)\n",
    "    plt.show()"
   ]
  },
  {
   "cell_type": "code",
   "execution_count": 18,
   "id": "2f102141",
   "metadata": {},
   "outputs": [
    {
     "name": "stdout",
     "output_type": "stream",
     "text": [
      "110 species, 1822 reactions\n"
     ]
    }
   ],
   "source": [
    "# Load the base model\n",
    "basedir = '/work/westgroup/harris.se/autoscience/autoscience/butane/models/rmg_model'\n",
    "# basedir = '/work/westgroup/harris.se/autoscience/autoscience/butane/sensitivity_analysis/base_rmg24'\n",
    "# basedir = '/work/westgroup/harris.se/autoscience/autoscience/butane/models/rmg_small_core'\n",
    "# new_model_dir = '/work/westgroup/harris.se/autoscience/autoscience/butane/improved_models'\n",
    "new_model_dir = basedir\n",
    "base_chemkin = os.path.join(basedir, 'chem_annotated.inp')\n",
    "dictionary = os.path.join(basedir, 'species_dictionary.txt')\n",
    "transport = os.path.join(basedir, 'tran.dat')\n",
    "species_list, reaction_list = rmgpy.chemkin.load_chemkin_file(base_chemkin, dictionary_path=dictionary, transport_path=transport)\n",
    "print(f'{len(species_list)} species, {len(reaction_list)} reactions')\n"
   ]
  },
  {
   "cell_type": "code",
   "execution_count": null,
   "id": "80d2e617",
   "metadata": {},
   "outputs": [],
   "source": []
  },
  {
   "cell_type": "code",
   "execution_count": 5,
   "id": "dceece7e",
   "metadata": {},
   "outputs": [
    {
     "name": "stdout",
     "output_type": "stream",
     "text": [
      "33 reactions\n"
     ]
    }
   ],
   "source": [
    "# Load the new kinetics library\n",
    "DFT_DIR = \"/work/westgroup/harris.se/autoscience/autoscience/butane/dft/\"\n",
    "kinetics_lib = os.path.join(DFT_DIR, 'kinetics', 'kinetics')\n",
    "ark_kinetics_database = rmgpy.data.kinetics.KineticsDatabase()\n",
    "ark_kinetics_database.load_libraries(kinetics_lib)\n",
    "print(len(ark_kinetics_database.libraries[''].entries), 'reactions')"
   ]
  },
  {
   "cell_type": "code",
   "execution_count": 14,
   "id": "d3a11ab5",
   "metadata": {},
   "outputs": [],
   "source": [
    "# change the 4 reactions\n",
    "reactions_to_change = [804, 805, 808, 809]\n",
    "for i in reactions_to_change:\n",
    "    reaction_list[i].kinetics = ark_kinetics_database.libraries[''].entries[805].data\n",
    "\n",
    "\n",
    "# chemkin_file = os.path.join(new_model_dir, f'only_4rxns_20221006.inp')\n",
    "# rmgpy.chemkin.save_chemkin_file(chemkin_file, species_list, reaction_list, verbose=True, check_for_duplicates=True)\n",
    "# subprocess.run(['ck2cti', f'--input={chemkin_file}', f'--transport={transport}', f'--output={chemkin_file[:-4]}.cti'])\n"
   ]
  },
  {
   "cell_type": "code",
   "execution_count": 15,
   "id": "a48427b1",
   "metadata": {},
   "outputs": [
    {
     "name": "stdout",
     "output_type": "stream",
     "text": [
      "changing reaction 18 HO2(16) + HO2(16) <=> O2(2) + H2O2(17)\n",
      "changing reaction 127 OH(15) + CH2O(9) <=> H2O(8) + HCO(19)\n",
      "changing reaction 180 H2(13) + CH(3) <=> H(14) + CH2(23)\n",
      "changing reaction 211 H2O2(17) + C2H3(22) <=> HO2(16) + C2H4(11)\n",
      "changing reaction 247 OH(15) + butane(1) <=> H2O(8) + SC4H9(183)\n",
      "changing reaction 278 O2(2) + SC4H9(183) <=> HO2(16) + C4H8-2(189)\n",
      "changing reaction 288 OH(15) + butane(1) <=> H2O(8) + PC4H9(182)\n",
      "changing reaction 294 CH2O(9) + PC4H9(182) <=> HCO(19) + butane(1)\n",
      "changing reaction 313 O2(2) + PC4H9(182) <=> HO2(16) + C4H8-1(188)\n",
      "changing reaction 324 C4H8OOH2-4O2(229) <=> C4H8OOH1-3O2(225)\n",
      "changing reaction 370 CH3CHO(35) + SC4H9(183) <=> CH2CHO(21) + butane(1)\n",
      "changing reaction 371 CH3CHO(35) + PC4H9(182) <=> CH2CHO(21) + butane(1)\n",
      "changing reaction 419 HO2(16) + CH2CHO(21) <=> H2O2(17) + CH2CO(24)\n",
      "changing reaction 422 HO2(16) + SC4H9(183) <=> H2O2(17) + C4H8-1(188)\n",
      "changing reaction 591 CH3CHO(35) + C3H5-A(94) <=> CH3CO(20) + C3H6(12)\n",
      "changing reaction 748 HCO(19) + C4H8-2(189) <=> CH2O(9) + C4H71-3(190)\n",
      "changing reaction 749 HCO(19) + C4H8-1(188) <=> CH2O(9) + C4H71-3(190)\n",
      "changing reaction 793 HO2(16) + C4H71-3(190) <=> H2O2(17) + C4H6(194)\n",
      "changing reaction 805 PC4H9(182) + CC(CCOO)OO(787) <=> C4H8OOH2-4O2(229) + butane(1)\n",
      "changing reaction 809 PC4H9(182) + CC(CCOO)OO(787) <=> C4H8OOH1-3O2(225) + butane(1)\n",
      "changing reaction 894 C3H6(12) + C4H72-2,4OOH(244) <=> C3H5-A(94) + CC(CCOO)OO(787)\n",
      "changing reaction 1108 CH3O2(45) + [CH2]C[O](703) <=> CH3O2H(46) + CH2CHO(21)\n",
      "changing reaction 1191 C4H71-1(192) + C4H71-3(190) <=> C4H6(194) + C4H8-1(188)\n",
      "changing reaction 1214 CH2(23) + C3H5O(129) <=> CH3(18) + C2H3CHO(74)\n",
      "changing reaction 1287 C3KET21(73) + SC4H9(183) <=> CH3COCH2O2(72) + butane(1)\n",
      "changing reaction 1288 C3KET21(73) + PC4H9(182) <=> CH3COCH2O2(72) + butane(1)\n",
      "changing reaction 1301 HO2(16) + C3KET21(73) <=> H2O2(17) + [CH2]C(=O)COO(911)\n",
      "changing reaction 1350 CH3COCH2O2(72) + PC4H9(182) <=> C3KET21(73) + C4H8-1(188)\n",
      "changing reaction 1529 CH3O(31) + C2H5O(49) <=> CH3OH(30) + CH3CHO(35)\n",
      "changing reaction 1638 CH2O(9) + C2H5O2(47) <=> HCO(19) + C2H5O2H(48)\n",
      "changing reaction 1646 C2H5O2(47) + butane(1) <=> C2H5O2H(48) + SC4H9(183)\n",
      "changing reaction 1692 C2H5O(49) + C2H5O2(47) <=> CH3CHO(35) + C2H5O2H(48)\n",
      "changing reaction 1717 C4H71-4(191) + SC4H9O2H(187) <=> C4H8-1(188) + SC4H9O2(186)\n"
     ]
    }
   ],
   "source": [
    "\n",
    "# stitch each of the library reactions into the mechanism (depends on library index matching indexing in chemkin file)\n",
    "for key in ark_kinetics_database.libraries[''].entries.keys():\n",
    "    entry = ark_kinetics_database.libraries[''].entries[key]\n",
    "    index = entry.index\n",
    "#     print(index, '\\t', entry.label, '\\t', reaction_list[index])\n",
    "    for i in range(0, len(reaction_list)):\n",
    "        if entry.item.is_isomorphic(reaction_list[i]):\n",
    "            rmg_rxn_index = i\n",
    "            break\n",
    "    else:  \n",
    "        print(f'could not match reaction index {index}')\n",
    "        continue\n",
    "          \n",
    "    # change every possible reaction\n",
    "    print(f'changing reaction {rmg_rxn_index} {reaction_list[rmg_rxn_index]}')\n",
    "    reaction_list[rmg_rxn_index].kinetics = entry.data"
   ]
  },
  {
   "cell_type": "code",
   "execution_count": null,
   "id": "b39c81a1",
   "metadata": {},
   "outputs": [],
   "source": []
  },
  {
   "cell_type": "markdown",
   "id": "5241eea5",
   "metadata": {},
   "source": [
    "# "
   ]
  },
  {
   "cell_type": "code",
   "execution_count": 7,
   "id": "fb843d2e",
   "metadata": {},
   "outputs": [
    {
     "name": "stdout",
     "output_type": "stream",
     "text": [
      "110 entries\n"
     ]
    }
   ],
   "source": [
    "# Load the new thermo library\n",
    "thermo_lib = os.path.join(DFT_DIR, 'thermo', 'thermo')\n",
    "ark_thermo_database = rmgpy.data.thermo.ThermoDatabase()\n",
    "ark_thermo_database.load_libraries(thermo_lib)\n",
    "print(f'{len(ark_thermo_database.libraries[\"harris_butane\"].entries)} entries')"
   ]
  },
  {
   "cell_type": "code",
   "execution_count": null,
   "id": "78c0a956",
   "metadata": {},
   "outputs": [],
   "source": []
  },
  {
   "cell_type": "code",
   "execution_count": 19,
   "id": "83873ae5",
   "metadata": {
    "scrolled": true
   },
   "outputs": [
    {
     "name": "stdout",
     "output_type": "stream",
     "text": [
      "Changing estimated thermo 85: CC(CCOO)OO(787)\n"
     ]
    }
   ],
   "source": [
    "# stitch each of the library thermos into the mechanism\n",
    "\n",
    "change_index = [85]\n",
    "\n",
    "for key in ark_thermo_database.libraries['harris_butane'].entries.keys():\n",
    "    entry = ark_thermo_database.libraries['harris_butane'].entries[key]\n",
    "#     print(entry)\n",
    "\n",
    "    for i, species in enumerate(species_list):\n",
    "#         if entry.item.is_isomorphic(species.molecule[0]):\n",
    "        if entry.item.smiles == species.smiles:\n",
    "            rmg_species_index = i\n",
    "            break\n",
    "    else:\n",
    "        entry_sp = rmgpy.species.Species(smiles=entry.item.smiles)\n",
    "        for j, species in enumerate(species_list):\n",
    "            if entry_sp.is_isomorphic(species.molecule[0]):\n",
    "                rmg_species_index = i\n",
    "                'matched'\n",
    "                break\n",
    "        else:\n",
    "#             print(f'could not match species index {entry}')\n",
    "            continue\n",
    "            raise ValueError (f'could not match species index {entry}')\n",
    "\n",
    "    if rmg_species_index in change_index:\n",
    "#         plot_thermos([species_list[rmg_species_index], entry.data], ['RMG', 'DFT'])\n",
    "        print(f'Changing estimated thermo {rmg_species_index}: {species_list[rmg_species_index]}')\n",
    "        species_list[rmg_species_index].thermo = entry.data\n",
    "\n",
    "        \n",
    "        \n",
    "#     # only change GAV entries\n",
    "#     if 'library' not in species_list[rmg_species_index].thermo.comment.lower():\n",
    "#         print(f'Changing estimated thermo {rmg_species_index}: {species_list[rmg_species_index]}')\n",
    "# #         try:\n",
    "# #             display(species_list[rmg_species_index])\n",
    "# #         except:\n",
    "# #             pass\n",
    "# #         plot_thermos([species_list[rmg_species_index], entry.data], ['RMG', 'DFT'])\n",
    "#         species_list[rmg_species_index].thermo = entry.data\n",
    "# #         print(rmg_species_index)\n",
    "        \n",
    "        \n",
    "        \n",
    "#     # change everything\n",
    "#     print(f'Changing estimated thermo {rmg_species_index}: {species_list[rmg_species_index]}')\n",
    "#     if rmg_species_index == 85:\n",
    "#         plot_thermos([species_list[rmg_species_index], entry.data], ['RMG', 'DFT'])\n",
    "#     species_list[rmg_species_index].thermo = entry.data\n",
    "\n",
    "    \n",
    "    # only change GAV\n",
    "    \n",
    "    \n",
    "#     if rmg_species_index in plot_index:\n",
    "#         plot_thermos([species_list[rmg_species_index], entry.data], ['RMG', 'DFT'])\n",
    "#         print(f'Changing estimated thermo {rmg_species_index}: {species_list[rmg_species_index]}')\n",
    "#         species_list[rmg_species_index].thermo = entry.data\n",
    "\n",
    "#     break\n",
    "#     print(species_list[rmg_species_index])\n",
    "#     print(f'Changing reaction {rmg_rxn_index}')\n",
    "#     if rmg_rxn_index == 288:\n",
    "#         reaction_list[rmg_rxn_index].kinetics = entry.data\n",
    "# #     break\n",
    "#     # compare the kinetics\n",
    "#     plot_kinetics([reaction_list[rmg_rxn_index], entry.data], ['RMG', 'DFT'])\n",
    "    "
   ]
  },
  {
   "cell_type": "code",
   "execution_count": 20,
   "id": "b349e6ca",
   "metadata": {},
   "outputs": [
    {
     "name": "stderr",
     "output_type": "stream",
     "text": [
      "WARNING:root:Marked reaction CH3(18) + C2H3(22) <=> C3H6(12) as duplicate of C3H6(12) <=> CH3(18) + C2H3(22) for saving to Chemkin file.\n"
     ]
    },
    {
     "name": "stdout",
     "output_type": "stream",
     "text": [
      "Wrote CTI mechanism file to '/work/westgroup/harris.se/autoscience/autoscience/butane/models/rmg_model/only85.cti'.\n",
      "Mechanism contains 110 species and 1850 reactions.\n",
      "Validating mechanism...PASSED.\n"
     ]
    },
    {
     "data": {
      "text/plain": [
       "CompletedProcess(args=['ck2cti', '--input=/work/westgroup/harris.se/autoscience/autoscience/butane/models/rmg_model/only85.inp', '--transport=/work/westgroup/harris.se/autoscience/autoscience/butane/models/rmg_model/tran.dat', '--output=/work/westgroup/harris.se/autoscience/autoscience/butane/models/rmg_model/only85.cti'], returncode=0)"
      ]
     },
     "execution_count": 20,
     "metadata": {},
     "output_type": "execute_result"
    }
   ],
   "source": [
    "# custom save\n",
    "# chemkin_file = os.path.join(new_model_dir, f'all_new_calcs20221006_8XX.inp')\n",
    "chemkin_file = os.path.join(new_model_dir, f'only85.inp')\n",
    "rmgpy.chemkin.save_chemkin_file(chemkin_file, species_list, reaction_list, verbose=True, check_for_duplicates=True)\n",
    "subprocess.run(['ck2cti', f'--input={chemkin_file}', f'--transport={transport}', f'--output={chemkin_file[:-4]}.cti'])\n",
    "# os.remove(chemkin_file)\n"
   ]
  },
  {
   "cell_type": "code",
   "execution_count": null,
   "id": "600a2cf4",
   "metadata": {},
   "outputs": [],
   "source": [
    "# save the resulting mechanism\n",
    "timestamp_str = datetime.datetime.now().isoformat()[0:10]\n",
    "chemkin_file = os.path.join(new_model_dir, f'chem_{timestamp_str}.inp')\n",
    "rmgpy.chemkin.save_chemkin_file(chemkin_file, species_list, reaction_list, verbose=True, check_for_duplicates=True)\n",
    "subprocess.run(['ck2cti', f'--input={chemkin_file}', f'--transport={transport}', f'--output={new_model_dir}/chem_{timestamp_str}.cti'])\n",
    "# os.remove(chemkin_file)\n",
    "\n"
   ]
  },
  {
   "cell_type": "code",
   "execution_count": null,
   "id": "81480c6e",
   "metadata": {},
   "outputs": [],
   "source": [
    "reaction_list[749].kinetics"
   ]
  },
  {
   "cell_type": "code",
   "execution_count": null,
   "id": "c254df9a",
   "metadata": {},
   "outputs": [],
   "source": [
    "entry.data"
   ]
  },
  {
   "cell_type": "code",
   "execution_count": null,
   "id": "7919c47e",
   "metadata": {},
   "outputs": [],
   "source": [
    "entry.item.is_isomorphic(reaction_list[749])"
   ]
  },
  {
   "cell_type": "code",
   "execution_count": null,
   "id": "c85d7102",
   "metadata": {},
   "outputs": [],
   "source": [
    "dir(entry)"
   ]
  },
  {
   "cell_type": "code",
   "execution_count": null,
   "id": "a16e6f5d",
   "metadata": {},
   "outputs": [],
   "source": [
    "ark_kinetics_database.libraries[''].entries"
   ]
  },
  {
   "cell_type": "code",
   "execution_count": null,
   "id": "8e72cb1e",
   "metadata": {},
   "outputs": [],
   "source": []
  },
  {
   "cell_type": "code",
   "execution_count": null,
   "id": "d145aaf0",
   "metadata": {},
   "outputs": [],
   "source": [
    "species_list[96].smiles"
   ]
  },
  {
   "cell_type": "code",
   "execution_count": null,
   "id": "16afb6a5",
   "metadata": {},
   "outputs": [],
   "source": [
    "for i, rxn in enumerate(reaction_list):\n",
    "    for sp in rxn.products + rxn.reactants:\n",
    "        if sp.smiles == species_list[96].smiles:\n",
    "            print(i, rxn)\n",
    "            break"
   ]
  },
  {
   "cell_type": "code",
   "execution_count": null,
   "id": "c8d12c83",
   "metadata": {},
   "outputs": [],
   "source": [
    "reaction_list[1246].products[0].thermo"
   ]
  },
  {
   "cell_type": "code",
   "execution_count": null,
   "id": "4c41a42d",
   "metadata": {},
   "outputs": [],
   "source": [
    "reaction_list[1246].products[0].thermo"
   ]
  },
  {
   "cell_type": "code",
   "execution_count": null,
   "id": "a6c54a66",
   "metadata": {},
   "outputs": [],
   "source": [
    "reaction_list[1246].products[0].thermo"
   ]
  },
  {
   "cell_type": "code",
   "execution_count": null,
   "id": "c6cfcc0c",
   "metadata": {},
   "outputs": [],
   "source": []
  }
 ],
 "metadata": {
  "kernelspec": {
   "display_name": "Python 3 (ipykernel)",
   "language": "python",
   "name": "python3"
  },
  "language_info": {
   "codemirror_mode": {
    "name": "ipython",
    "version": 3
   },
   "file_extension": ".py",
   "mimetype": "text/x-python",
   "name": "python",
   "nbconvert_exporter": "python",
   "pygments_lexer": "ipython3",
   "version": "3.7.12"
  }
 },
 "nbformat": 4,
 "nbformat_minor": 5
}
