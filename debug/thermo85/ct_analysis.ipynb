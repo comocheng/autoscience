{
 "cells": [
  {
   "cell_type": "code",
   "execution_count": 1,
   "id": "03f52064",
   "metadata": {},
   "outputs": [],
   "source": [
    "# notebook to check out thermo 85 discrepancies"
   ]
  },
  {
   "cell_type": "code",
   "execution_count": 1,
   "id": "e3d95e24",
   "metadata": {},
   "outputs": [],
   "source": [
    "import os\n",
    "import pickle\n",
    "import numpy as np\n",
    "import pandas as pd\n",
    "\n",
    "import cantera as ct\n",
    "import rmgpy.species\n",
    "import rmgpy.chemkin\n",
    "import rmgpy.data.thermo\n",
    "\n",
    "\n",
    "import matplotlib.pyplot as plt\n",
    "%matplotlib inline"
   ]
  },
  {
   "cell_type": "code",
   "execution_count": 2,
   "id": "aaf1084a",
   "metadata": {},
   "outputs": [],
   "source": [
    "# load the base model\n",
    "# Load the base model and the covariance matrix\n",
    "basedir = '/work/westgroup/harris.se/autoscience/autoscience/butane/models/rmg_model'\n",
    "\n",
    "base_chemkin = os.path.join(basedir, 'chem_annotated.inp')\n",
    "dictionary = os.path.join(basedir, 'species_dictionary.txt')\n",
    "transport = os.path.join(basedir, 'tran.dat')\n",
    "cti_file = os.path.join(basedir, 'chem_annotated.cti')\n",
    "species_list, reaction_list = rmgpy.chemkin.load_chemkin_file(base_chemkin, dictionary_path=dictionary, transport_path=transport)\n",
    "base_gas = ct.Solution(cti_file)\n",
    "\n",
    "spec_dict = rmgpy.chemkin.load_species_dictionary(dictionary)\n"
   ]
  },
  {
   "cell_type": "code",
   "execution_count": 3,
   "id": "b75f1cd0",
   "metadata": {},
   "outputs": [],
   "source": [
    "# Load the thermo 85 model\n",
    "dir85 = '/work/westgroup/harris.se/autoscience/autoscience/debug/thermo85'\n",
    "\n",
    "chemkin85 = os.path.join(dir85, 'thermo_only_85.inp')\n",
    "cti_file85 = os.path.join(dir85, 'thermo_only_85.cti')\n",
    "species_list85, reaction_list85 = rmgpy.chemkin.load_chemkin_file(chemkin85, dictionary_path=dictionary, transport_path=transport)\n",
    "gas85 = ct.Solution(cti_file85)\n",
    "\n"
   ]
  },
  {
   "cell_type": "code",
   "execution_count": 4,
   "id": "67c3956b",
   "metadata": {},
   "outputs": [
    {
     "name": "stdout",
     "output_type": "stream",
     "text": [
      "[ 9.49210000e+02  1.16605865e+01  4.41236559e-02 -2.07772408e-05\n",
      "  4.03962387e-09 -2.86276164e-13 -4.21917163e+04 -2.50449631e+01\n",
      "  2.98377104e-02  9.31369094e-02 -9.82324541e-05  5.84404205e-08\n",
      " -1.46144596e-11 -3.99837532e+04  3.04602026e+01]\n",
      "[ 3.89750e+02  5.06938e+00  6.17267e-02 -3.87602e-05  1.15544e-08\n",
      " -1.31962e-12 -3.74807e+04  2.49020e+01  2.64807e+00  1.43215e-01\n",
      " -5.70354e-04  1.29368e-06 -1.06287e-09 -3.77222e+04  2.87831e+01]\n"
     ]
    }
   ],
   "source": [
    "print(base_gas.species()[85].thermo.coeffs)\n",
    "print(gas85.species()[85].thermo.coeffs)"
   ]
  },
  {
   "cell_type": "code",
   "execution_count": null,
   "id": "97eb5665",
   "metadata": {},
   "outputs": [],
   "source": []
  },
  {
   "cell_type": "code",
   "execution_count": 5,
   "id": "2562c385",
   "metadata": {},
   "outputs": [
    {
     "data": {
      "text/plain": [
       "<ElementaryReaction: C2H(4) + C2H5O(49) <=> C2H2(25) + CH3CHO(35)>"
      ]
     },
     "execution_count": 5,
     "metadata": {},
     "output_type": "execute_result"
    }
   ],
   "source": [
    "base_gas.reactions()[1004]"
   ]
  },
  {
   "cell_type": "code",
   "execution_count": 6,
   "id": "695bce0b",
   "metadata": {},
   "outputs": [
    {
     "data": {
      "text/plain": [
       "<ElementaryReaction: C2H(4) + C2H5O(49) <=> C2H2(25) + CH3CHO(35)>"
      ]
     },
     "execution_count": 6,
     "metadata": {},
     "output_type": "execute_result"
    }
   ],
   "source": [
    "gas85.reactions()[1004]"
   ]
  },
  {
   "cell_type": "code",
   "execution_count": 7,
   "id": "6f225566",
   "metadata": {},
   "outputs": [],
   "source": [
    "# Load the experimental conditions\n",
    "ignition_delay_data = '/work/westgroup/harris.se/autoscience/autoscience/butane/experimental_data/butane_ignition_delay.csv'\n",
    "df_exp = pd.read_csv(ignition_delay_data)\n",
    "\n",
    "# slice just table 7, where phi=1.0\n",
    "table7 = df_exp[df_exp['Table'] == 7]\n",
    "# Define Initial conditions using experimental data\n",
    "tau7 = table7['time (ms)'].values.astype(float)  # ignition delay\n",
    "T7 = table7['T_C'].values  # Temperatures\n",
    "P7 = table7['nominal pressure(atm)'].values * ct.one_atm  # pressures in atm\n",
    "\n",
    "\n",
    "# list of starting conditions\n",
    "# Mixture compositions taken from table 2 of\n",
    "# https://doi-org.ezproxy.neu.edu/10.1016/j.combustflame.2010.01.016\n",
    "concentrations = []\n",
    "# for phi = 1\n",
    "x_diluent = 0.7649\n",
    "conc_dict = {\n",
    "    'O2(2)': 0.2038,\n",
    "    'butane(1)': 0.03135\n",
    "}\n",
    "\n",
    "for i in range(0, len(table7)):\n",
    "    x_N2 = table7['%N2'].values[i] / 100.0 * x_diluent\n",
    "    x_Ar = table7['%Ar'].values[i] / 100.0 * x_diluent\n",
    "    x_CO2 = table7['%CO2'].values[i] / 100.0 * x_diluent\n",
    "    conc_dict['N2'] = x_N2\n",
    "    conc_dict['Ar'] = x_Ar\n",
    "    conc_dict['CO2(7)'] = x_CO2\n",
    "    concentrations.append(conc_dict)"
   ]
  },
  {
   "cell_type": "code",
   "execution_count": 8,
   "id": "c62c72b7",
   "metadata": {},
   "outputs": [
    {
     "name": "stdout",
     "output_type": "stream",
     "text": [
      "1.217513541493204e-07\n"
     ]
    }
   ],
   "source": [
    "# run the simulations\n",
    "condition_index = 0\n",
    "gas = base_gas\n",
    "\n",
    "T = T7[condition_index]\n",
    "P = P7[condition_index]\n",
    "X = concentrations[condition_index]\n",
    "t_end = 1.0  # time in seconds\n",
    "gas.TPX = T, P, X\n",
    "\n",
    "env = ct.Reservoir(ct.Solution('air.yaml'))\n",
    "# env = ct.Reservoir(ct.Solution('air.xml'))\n",
    "reactor = ct.IdealGasReactor(gas)\n",
    "wall = ct.Wall(reactor, env, A=1.0, velocity=0)\n",
    "reactor_net = ct.ReactorNet([reactor])\n",
    "\n",
    "times = [0]\n",
    "T = [reactor.T]\n",
    "P = [reactor.thermo.P]\n",
    "X = [reactor.thermo.X]  # mol fractions\n",
    "# while reactor_net.time < t_end:\n",
    "while reactor_net.time < t_end and reactor_net.time < 0.000000049083278185195194:\n",
    "    reactor_net.step()\n",
    "\n",
    "    times.append(reactor_net.time)\n",
    "    T.append(reactor.T)\n",
    "    P.append(reactor.thermo.P)\n",
    "    X.append(reactor.thermo.X)\n",
    "    \n",
    "slopes = np.gradient(P, times)\n",
    "i = np.argmax(slopes)\n",
    "base_delay = times[i]\n",
    "print(base_delay)"
   ]
  },
  {
   "cell_type": "code",
   "execution_count": 9,
   "id": "1bc60de8",
   "metadata": {},
   "outputs": [
    {
     "data": {
      "text/plain": [
       "1.8813602625906059e-22"
      ]
     },
     "execution_count": 9,
     "metadata": {},
     "output_type": "execute_result"
    }
   ],
   "source": [
    "reactor.thermo.X[85]"
   ]
  },
  {
   "cell_type": "code",
   "execution_count": 10,
   "id": "ae4e9961",
   "metadata": {},
   "outputs": [],
   "source": [
    "# run the changed thermo 85 simulation\n",
    "# condition_index = 6\n",
    "\n",
    "T = T7[condition_index]\n",
    "P = P7[condition_index]\n",
    "X = concentrations[condition_index]\n",
    "# t_end = 1.0  # time in seconds\n",
    "gas85 = ct.Solution(cti_file85)\n",
    "gas85.TPX = T, P, X\n",
    "\n",
    "env85 = ct.Reservoir(ct.Solution('air.yaml'))\n",
    "# env = ct.Reservoir(ct.Solution('air.xml'))\n",
    "reactor85 = ct.IdealGasReactor(gas85)\n",
    "wall85 = ct.Wall(reactor85, env85, A=1.0, velocity=0)\n",
    "reactor_net85 = ct.ReactorNet([reactor85])\n",
    "\n",
    "times = [0]\n",
    "T = [reactor85.T]\n",
    "P = [reactor85.thermo.P]\n",
    "X = [reactor85.thermo.X]  # mol fractions\n",
    "# while reactor_net85.time < t_end or reactor_net85.time < 0.049083278185195194:\n",
    "while reactor_net85.time < t_end and reactor_net85.time < 0.000000049083278185195194:\n",
    "    reactor_net85.step()\n",
    "\n",
    "    times.append(reactor_net85.time)\n",
    "    T.append(reactor85.T)\n",
    "    P.append(reactor85.thermo.P)\n",
    "    X.append(reactor85.thermo.X)\n",
    "\n",
    "# slopes = np.gradient(P, times)\n",
    "# i = np.argmax(slopes)\n",
    "# delay85 = times[i]\n",
    "# print(delay85)"
   ]
  },
  {
   "cell_type": "code",
   "execution_count": 11,
   "id": "846533ec",
   "metadata": {},
   "outputs": [
    {
     "ename": "IndexError",
     "evalue": "list index out of range",
     "output_type": "error",
     "traceback": [
      "\u001b[0;31m---------------------------------------------------------------------------\u001b[0m",
      "\u001b[0;31mIndexError\u001b[0m                                Traceback (most recent call last)",
      "\u001b[0;32m/tmp/ipykernel_10314/3462117689.py\u001b[0m in \u001b[0;36m<module>\u001b[0;34m\u001b[0m\n\u001b[0;32m----> 1\u001b[0;31m \u001b[0mX\u001b[0m\u001b[0;34m[\u001b[0m\u001b[0;36m4\u001b[0m\u001b[0;34m]\u001b[0m\u001b[0;34m[\u001b[0m\u001b[0;36m85\u001b[0m\u001b[0;34m]\u001b[0m\u001b[0;34m\u001b[0m\u001b[0;34m\u001b[0m\u001b[0m\n\u001b[0m",
      "\u001b[0;31mIndexError\u001b[0m: list index out of range"
     ]
    }
   ],
   "source": [
    "X[4][85]"
   ]
  },
  {
   "cell_type": "code",
   "execution_count": null,
   "id": "fd5555e6",
   "metadata": {},
   "outputs": [],
   "source": [
    "reactor85.thermo.X[85]"
   ]
  },
  {
   "cell_type": "code",
   "execution_count": null,
   "id": "72f7f1b1",
   "metadata": {},
   "outputs": [],
   "source": [
    "sp85 = base_gas.species()[85].name\n",
    "\n",
    "# list the reactions that include that species\n",
    "relevant_reactions = []\n",
    "print('Base RMG Model')\n",
    "for i, rxn in enumerate(base_gas.reactions()):\n",
    "    if sp85 in rxn.reactants.keys():\n",
    "        relevant_reactions.append(i)\n",
    "        print(i, rxn, base_gas.net_rates_of_progress[i])\n",
    "    elif sp85 in rxn.products.keys():\n",
    "        relevant_reactions.append(i)\n",
    "        print(i, rxn, base_gas.net_rates_of_progress[i])\n"
   ]
  },
  {
   "cell_type": "code",
   "execution_count": 20,
   "id": "d22e39ed",
   "metadata": {},
   "outputs": [
    {
     "name": "stdout",
     "output_type": "stream",
     "text": [
      "Species 85 Changed\n",
      "832 S(787) + SC4H9(183) <=> S(229) + butane(1) -3.7629733990552614e-13\n",
      "833 PC4H9(182) + S(787) <=> S(229) + butane(1) -3.070759620233007e-14\n",
      "834 S(787) + SC4H9(183) <=> S(244) + butane(1) -3.012357214138884e-23\n",
      "835 PC4H9(182) + S(787) <=> S(244) + butane(1) -2.655687889198316e-24\n",
      "836 S(787) + SC4H9(183) <=> S(225) + butane(1) -1.0151940326256221e-12\n",
      "837 PC4H9(182) + S(787) <=> S(225) + butane(1) -8.284450915520552e-14\n",
      "838 S(787) + SC4H9(183) <=> S(238) + butane(1) -2.017203969562983e-22\n",
      "839 PC4H9(182) + S(787) <=> S(238) + butane(1) -4.3634269758789765e-23\n",
      "840 HO2(16) + S(229) <=> O2(2) + S(787) -1.3299757618985193e-27\n",
      "841 HO2(16) + S(225) <=> O2(2) + S(787) -8.706756189725674e-28\n",
      "842 H2O2(17) + S(225) <=> HO2(16) + S(787) -8.614213932283268e-34\n",
      "843 OH(15) + S(787) <=> H2O(8) + S(229) 5.946889298286441e-31\n",
      "844 OH(15) + S(787) <=> H2O(8) + S(225) 5.946888473707739e-31\n",
      "845 HCO(19) + S(787) <=> CH2O(9) + S(229) -5.2029339995981554e-45\n",
      "846 HCO(19) + S(787) <=> CH2O(9) + S(225) -1.403673900501967e-44\n",
      "847 C4H7(190) + S(787) <=> C4H8(189) + S(229) -5.479172152782315e-32\n",
      "848 C4H7(190) + S(787) <=> C4H8(189) + S(225) -1.4781988293167214e-31\n",
      "849 C4H8(188) + S(225) <=> C4H7(190) + S(787) 1.1006119341866107e-35\n",
      "850 H2O2(17) + S(229) <=> HO2(16) + S(787) -9.117239478072368e-34\n",
      "851 C4H8(188) + S(229) <=> C4H7(190) + S(787) 4.3009821565557775e-36\n",
      "852 CH2CHO(21) + S(787) <=> CH3CHO(35) + S(229) -3.7511733576543284e-35\n",
      "853 CH3CO(20) + S(787) <=> CH3CHO(35) + S(229) -1.957731414811956e-45\n",
      "854 CH2CHO(21) + S(787) <=> CH3CHO(35) + S(225) -1.0120108989844762e-34\n",
      "855 CH3CO(20) + S(787) <=> CH3CHO(35) + S(225) -5.281667019755737e-45\n",
      "856 C2H3(22) + S(787) <=> C2H4(11) + S(229) -2.221880760374695e-33\n",
      "857 C2H3(22) + S(787) <=> C2H4(11) + S(225) -5.994302510095854e-33\n",
      "858 C3H5-A(94) + S(787) <=> C3H6(12) + S(225) -1.610229952747898e-32\n",
      "859 C3H5-A(94) + S(787) <=> C3H6(12) + S(229) -5.9685658936358626e-33\n",
      "860 CH4(10) + S(225) <=> CH3(18) + S(787) -1.144303930653613e-35\n",
      "861 HO2(16) + S(219) <=> S(787) 4.669330124983664e-26\n",
      "862 HO2(16) + S(223) <=> S(787) 9.786717550444896e-28\n",
      "863 H(14) + S(225) <=> S(787) 5.742668842560322e-33\n",
      "864 H(14) + S(229) <=> S(787) 2.2432564426833583e-33\n",
      "865 H(14) + S(244) <=> S(787) -9.956785392108825e-38\n",
      "866 H(14) + S(238) <=> S(787) -2.700349184623662e-38\n",
      "867 H2O2(17) + S(244) <=> HO2(16) + S(787) -3.2026439423715435e-34\n",
      "868 HO2(16) + S(787) <=> H2O2(17) + S(238) 2.906204128814218e-30\n",
      "869 HO2(16) + S(244) <=> O2(2) + S(787) -6.368948835247907e-32\n",
      "870 HO2(16) + S(238) <=> O2(2) + S(787) -1.7254004639970534e-32\n",
      "871 CH3O(31) + S(225) <=> CH2O(9) + S(787) 7.174242558731385e-37\n",
      "872 CH3O(31) + S(229) <=> CH2O(9) + S(787) 2.803557573152446e-37\n",
      "873 CH3O(31) + S(244) <=> CH2O(9) + S(787) 9.332195046342564e-46\n",
      "874 CH3O(31) + S(238) <=> CH2O(9) + S(787) 2.1123892766218075e-45\n",
      "875 S(225) + SC4H9(183) <=> C4H8(189) + S(787) 2.3109738790863858e-29\n",
      "876 S(229) + SC4H9(183) <=> C4H8(189) + S(787) 9.030846485926156e-30\n",
      "877 S(244) + SC4H9(183) <=> C4H8(189) + S(787) 1.261825145299188e-36\n",
      "878 S(238) + SC4H9(183) <=> C4H8(189) + S(787) 5.1598749469086704e-36\n",
      "879 PC4H9(182) + S(225) <=> C4H8(188) + S(787) 7.692733230805926e-31\n",
      "880 PC4H9(182) + S(229) <=> C4H8(188) + S(787) 3.0061738686573087e-31\n",
      "881 PC4H9(182) + S(244) <=> C4H8(188) + S(787) 3.563974236211415e-37\n",
      "882 PC4H9(182) + S(238) <=> C4H8(188) + S(787) 1.4573858700917498e-36\n",
      "883 S(225) + SC4H9(183) <=> C4H8(188) + S(787) 4.750518189075363e-29\n",
      "884 S(229) + SC4H9(183) <=> C4H8(188) + S(787) 1.8564121768048703e-29\n",
      "885 S(244) + SC4H9(183) <=> C4H8(188) + S(787) 5.962525095023394e-38\n",
      "886 S(238) + SC4H9(183) <=> C4H8(188) + S(787) 1.3496475384114527e-37\n",
      "887 C2H4O(703) + S(225) <=> CH2CHO(21) + S(787) 7.680167026695828e-51\n",
      "888 C2H4O(703) + S(229) <=> CH2CHO(21) + S(787) 3.0012632350384637e-51\n",
      "889 C2H4O(703) + S(244) <=> CH2CHO(21) + S(787) 1.7453238978425365e-58\n",
      "890 C2H4O(703) + S(238) <=> CH2CHO(21) + S(787) 3.95062842187927e-58\n",
      "891 CH2CHO(21) + S(787) <=> CH3CHO(35) + S(244) 4.122651018300535e-42\n",
      "892 CH3CHO(35) + S(238) <=> CH2CHO(21) + S(787) 1.6917327670505906e-45\n",
      "893 CH3CO(20) + S(225) <=> CH2CO(24) + S(787) 1.7257998806830697e-44\n",
      "894 CH3CO(20) + S(229) <=> CH2CO(24) + S(787) 6.744097771472857e-45\n",
      "895 CH3CO(20) + S(244) <=> CH2CO(24) + S(787) 6.372444329572609e-53\n",
      "896 CH3CO(20) + S(238) <=> CH2CO(24) + S(787) 1.442434820839399e-52\n",
      "897 CH2CHO(21) + S(225) <=> CH2CO(24) + S(787) 2.2424610928368667e-40\n",
      "898 CH2CHO(21) + S(229) <=> CH2CO(24) + S(787) 8.763111545024495e-41\n",
      "899 CH2CHO(21) + S(244) <=> CH2CO(24) + S(787) 7.280786558810335e-49\n",
      "900 CH2CHO(21) + S(238) <=> CH2CO(24) + S(787) 1.648042649748996e-48\n",
      "901 HCO(19) + S(225) <=> CO(6) + S(787) 3.659303780922054e-43\n",
      "902 HCO(19) + S(229) <=> CO(6) + S(787) 1.4299863356283709e-43\n",
      "903 HCO(19) + S(244) <=> CO(6) + S(787) 2.5034182389226652e-51\n",
      "904 HCO(19) + S(238) <=> CO(6) + S(787) 5.666613070688083e-51\n",
      "905 C2H5(33) + S(225) <=> C2H4(11) + S(787) 2.4449443635616132e-30\n",
      "906 C2H5(33) + S(229) <=> C2H4(11) + S(787) 9.554377664659878e-31\n",
      "907 C2H5(33) + S(244) <=> C2H4(11) + S(787) 6.350572487102177e-39\n",
      "908 C2H5(33) + S(238) <=> C2H4(11) + S(787) 1.4374840169698547e-38\n",
      "909 NC3H7(92) + S(225) <=> C3H6(12) + S(787) 6.889119635049035e-32\n",
      "910 NC3H7(92) + S(229) <=> C3H6(12) + S(787) 2.6921369562127296e-32\n",
      "911 NC3H7(92) + S(244) <=> C3H6(12) + S(787) 3.76155890948904e-39\n",
      "912 NC3H7(92) + S(238) <=> C3H6(12) + S(787) 1.5381825010154818e-38\n",
      "913 IC3H7(93) + S(225) <=> C3H6(12) + S(787) 4.907299864064411e-38\n",
      "914 IC3H7(93) + S(229) <=> C3H6(12) + S(787) 1.917679474168332e-38\n",
      "915 IC3H7(93) + S(244) <=> C3H6(12) + S(787) 5.353547363205092e-47\n",
      "916 IC3H7(93) + S(238) <=> C3H6(12) + S(787) 1.211828511573957e-46\n",
      "917 S(229) + S(787) <=> S(225) + S(787) -4.976379369029292e-35\n",
      "918 S(244) + S(787) <=> S(229) + S(787) -3.99938945296969e-36\n",
      "919 S(238) + S(787) <=> S(229) + S(787) -1.0834606647413848e-36\n",
      "920 S(244) + S(787) <=> S(225) + S(787) -1.0789757077164796e-35\n",
      "921 S(238) + S(787) <=> S(225) + S(787) -2.9230290200959924e-36\n",
      "922 C3H6(12) + S(244) <=> C3H5-A(94) + S(787) 7.207359506529521e-44\n",
      "923 C3H6(12) + S(238) <=> C3H5-A(94) + S(787) 8.148433591767741e-44\n",
      "924 C4H8(748) + S(225) <=> C4H7(190) + S(787) 2.672483539269247e-49\n",
      "925 C4H8(748) + S(229) <=> C4H7(190) + S(787) 1.0443557496567875e-49\n",
      "926 C4H8(748) + S(244) <=> C4H7(190) + S(787) 1.6098334694394371e-55\n",
      "927 C4H8(748) + S(238) <=> C4H7(190) + S(787) 3.6439390217433476e-55\n",
      "928 C4H8(188) + S(244) <=> C4H7(190) + S(787) 4.7382049664168725e-43\n",
      "929 C4H8(188) + S(238) <=> C4H7(190) + S(787) 2.935948387559849e-44\n",
      "930 C4H8(189) + S(244) <=> C4H7(190) + S(787) 1.3985528625475427e-43\n",
      "931 C4H8(189) + S(238) <=> C4H7(190) + S(787) 3.987353663400627e-43\n",
      "932 C4H7(190) + S(225) <=> C4H6(194) + S(787) 1.8855246240706134e-42\n",
      "933 C4H7(190) + S(229) <=> C4H6(194) + S(787) 7.368271696842847e-43\n",
      "934 C4H7(190) + S(244) <=> C4H6(194) + S(787) 1.2562265749215875e-50\n",
      "935 C4H7(190) + S(238) <=> C4H6(194) + S(787) 2.8435320232709155e-50\n",
      "959 OH(15) + S(777) <=> S(787) -9.752346070714516e-22\n",
      "960 S(225) + S(777) <=> S(252) + S(787) 3.535858341117235e-42\n",
      "961 S(229) + S(777) <=> S(252) + S(787) 1.3817462050776233e-42\n",
      "962 S(244) + S(777) <=> S(252) + S(787) 8.035265460428951e-50\n",
      "963 S(238) + S(777) <=> S(252) + S(787) 1.8188227431881438e-49\n",
      "1007 C2H5O(49) + S(225) <=> CH3CHO(35) + S(787) 1.80344435944237e-42\n",
      "1008 C2H5O(49) + S(229) <=> CH3CHO(35) + S(787) 7.047517630304064e-43\n",
      "1009 C2H5O(49) + S(244) <=> CH3CHO(35) + S(787) 4.0983412697462283e-50\n",
      "1010 C2H5O(49) + S(238) <=> CH3CHO(35) + S(787) 9.27680155856717e-50\n",
      "1014 CH4(10) + S(229) <=> CH3(18) + S(787) -1.206406093378169e-35\n",
      "1015 H(14) + S(787) <=> H2(13) + S(229) 3.603599553239284e-38\n",
      "1016 H(14) + S(787) <=> H2(13) + S(225) 3.60285189518425e-38\n",
      "1048 C4H7(191) + S(787) <=> C4H8(188) + S(225) -2.4757144212285123e-31\n",
      "1049 C4H7(191) + S(787) <=> C4H8(188) + S(229) -9.176617682283113e-32\n",
      "1078 C4H7(191) + S(225) <=> C4H6(194) + S(787) 3.49181444663633e-51\n",
      "1079 C4H7(191) + S(229) <=> C4H6(194) + S(787) 1.3645346886125565e-51\n",
      "1080 C4H7(191) + S(244) <=> C4H6(194) + S(787) 1.6177252180244309e-57\n",
      "1081 C4H7(191) + S(238) <=> C4H6(194) + S(787) 6.615231261286368e-57\n",
      "1127 CH3O2(45) + S(787) <=> CH3O2H(46) + S(225) 1.489125179495412e-32\n",
      "1128 CH3O2(45) + S(787) <=> CH3O2H(46) + S(229) 1.4906412634589015e-32\n",
      "1129 CH3O2H(46) + S(244) <=> CH3O2(45) + S(787) -1.4533794314313059e-37\n",
      "1130 CH3O2H(46) + S(238) <=> CH3O2(45) + S(787) -3.93732850206367e-38\n",
      "1201 C4H7(192) + S(787) <=> C4H8(188) + S(225) -9.484073507600431e-34\n",
      "1202 C4H7(192) + S(787) <=> C4H8(188) + S(229) -3.5154182527535126e-34\n",
      "1269 C3H5O(129) + S(225) <=> C3H4O(74) + S(787) 1.9603625117227544e-54\n",
      "1270 C3H5O(129) + S(229) <=> C3H4O(74) + S(787) 7.660723931302832e-55\n",
      "1271 C3H5O(129) + S(244) <=> C3H4O(74) + S(787) 4.45493898834986e-62\n",
      "1272 C3H5O(129) + S(238) <=> C3H4O(74) + S(787) 1.0083978421186722e-61\n",
      "1307 C2H3(22) + S(225) <=> C2H2(25) + S(787) 2.566460606653725e-48\n",
      "1308 C2H3(22) + S(229) <=> C2H2(25) + S(787) 1.0029240036252403e-48\n",
      "1309 C2H3(22) + S(244) <=> C2H2(25) + S(787) 6.666202450706213e-57\n",
      "1310 C2H3(22) + S(238) <=> C2H2(25) + S(787) 1.5089284472747596e-56\n",
      "1341 C3H6O3(73) + S(225) <=> C3H5O3(72) + S(787) -1.1539633087611007e-47\n",
      "1342 C3H6O3(73) + S(229) <=> C3H5O3(72) + S(787) -1.2250200994936187e-47\n",
      "1343 C3H6O3(73) + S(244) <=> C3H5O3(72) + S(787) -1.6783411511813718e-48\n",
      "1344 C3H6O3(73) + S(238) <=> C3H5O3(72) + S(787) -4.546768820877472e-49\n",
      "1345 S(787) + S(911) <=> C3H6O3(73) + S(225) 1.013527398053418e-44\n",
      "1346 S(787) + S(911) <=> C3H6O3(73) + S(229) 1.0296554591917539e-44\n",
      "1347 S(787) + S(911) <=> C3H6O3(73) + S(244) 3.694741408258931e-45\n",
      "1348 C3H6O3(73) + S(238) <=> S(787) + S(911) -1.3652821895524624e-50\n",
      "1499 C2H6(32) + S(225) <=> C2H5(33) + S(787) -1.4233933596117032e-36\n",
      "1512 C2H6(32) + S(229) <=> C2H5(33) + S(787) -1.5006556680114421e-36\n",
      "1538 CH3O(31) + S(787) <=> CH3OH(30) + S(225) 1.4913598943009232e-42\n",
      "1539 CH3O(31) + S(787) <=> CH3OH(30) + S(229) 1.491363824229414e-42\n",
      "1540 CH3O(31) + S(787) <=> CH3OH(30) + S(244) 4.589678328996875e-41\n",
      "1541 CH3O(31) + S(787) <=> CH3OH(30) + S(238) 1.6798601723816114e-40\n",
      "1591 OCHO(38) + S(225) <=> CO2(7) + S(787) 1.9701776645027794e-52\n",
      "1592 OCHO(38) + S(229) <=> CO2(7) + S(787) 7.699079682007967e-53\n",
      "1593 OCHO(38) + S(244) <=> CO2(7) + S(787) 6.396741109132678e-61\n",
      "1594 OCHO(38) + S(238) <=> CO2(7) + S(787) 1.447934516703633e-60\n",
      "1634 OCHO(38) + S(787) <=> HOCHO(40) + S(229) 6.73363922507908e-59\n",
      "1635 OCHO(38) + S(787) <=> HOCHO(40) + S(225) 6.73352779845411e-59\n",
      "1688 C2H6O2(48) + S(225) <=> C2H5O2(47) + S(787) -1.7854549357760495e-37\n",
      "1689 C2H6O2(48) + S(229) <=> C2H5O2(47) + S(787) -1.9400570427836505e-37\n",
      "1690 C2H6O2(48) + S(244) <=> C2H5O2(47) + S(787) -2.6936242486817714e-38\n",
      "1691 C2H6O2(48) + S(238) <=> C2H5O2(47) + S(787) -7.297256314305167e-39\n",
      "1727 C2H(4) + S(787) <=> C2H2(25) + S(225) -1.3660887620189332e-61\n",
      "1751 S(187) + S(225) <=> S(186) + S(787) -3.676870094657264e-35\n",
      "1752 S(187) + S(229) <=> S(186) + S(787) -4.04741067667882e-35\n",
      "1753 S(187) + S(244) <=> S(186) + S(787) -5.66020107521071e-36\n",
      "1754 S(187) + S(238) <=> S(186) + S(787) -1.5333963492948145e-36\n",
      "1803 S(223) + S(787) <=> S(187) + S(229) 3.2495265514471734e-32\n",
      "1808 S(223) + S(787) <=> S(187) + S(225) 3.1035504867613844e-32\n"
     ]
    }
   ],
   "source": [
    "# list the reactions that include that species\n",
    "print('Species 85 Changed')\n",
    "relevant_reactions85 = []\n",
    "for i, rxn in enumerate(gas85.reactions()):\n",
    "    if sp85 in rxn.reactants.keys():\n",
    "        relevant_reactions.append(i)\n",
    "        print(i, rxn, gas85.net_rates_of_progress[i])\n",
    "    elif sp85 in rxn.products.keys():\n",
    "        relevant_reactions.append(i)\n",
    "        print(i, rxn, gas85.net_rates_of_progress[i])\n"
   ]
  },
  {
   "cell_type": "code",
   "execution_count": 42,
   "id": "c56dedcc",
   "metadata": {},
   "outputs": [
    {
     "name": "stdout",
     "output_type": "stream",
     "text": [
      "C[CH]CC\n",
      "CC(CCOO)OO\n",
      "CC(CCO[O])OO\n",
      "CCCC\n"
     ]
    }
   ],
   "source": [
    "print(reaction_list[804].reactants[0].smiles)\n",
    "print(reaction_list[804].reactants[1].smiles)\n",
    "print(reaction_list[804].products[0].smiles)\n",
    "print(reaction_list[804].products[1].smiles)"
   ]
  },
  {
   "cell_type": "code",
   "execution_count": 37,
   "id": "b5b8b160",
   "metadata": {},
   "outputs": [
    {
     "data": {
      "text/plain": [
       "Arrhenius(A=(1.12962e-19,'m^3/(mol*s)'), n=7.85677, Ea=(9.98934,'kJ/mol'), T0=(1,'K'), Tmin=(303.03,'K'), Tmax=(2000,'K'), comment=\"\"\"Fitted to 29 data points; dA = *|/ 1.29294, dn = +|- 0.0340129, dEa = +|- 0.177812 kJ/mol\"\"\")"
      ]
     },
     "execution_count": 37,
     "metadata": {},
     "output_type": "execute_result"
    }
   ],
   "source": [
    "reaction_list[804].generate_reverse_rate_coefficient()"
   ]
  },
  {
   "cell_type": "code",
   "execution_count": 32,
   "id": "34cabea2",
   "metadata": {},
   "outputs": [
    {
     "data": {
      "text/plain": [
       "['SurfaceArrhenius',\n",
       " '__class__',\n",
       " '__delattr__',\n",
       " '__dict__',\n",
       " '__dir__',\n",
       " '__doc__',\n",
       " '__eq__',\n",
       " '__format__',\n",
       " '__ge__',\n",
       " '__getattribute__',\n",
       " '__gt__',\n",
       " '__hash__',\n",
       " '__init__',\n",
       " '__init_subclass__',\n",
       " '__le__',\n",
       " '__lt__',\n",
       " '__module__',\n",
       " '__ne__',\n",
       " '__new__',\n",
       " '__pyx_vtable__',\n",
       " '__reduce__',\n",
       " '__reduce_ex__',\n",
       " '__repr__',\n",
       " '__setattr__',\n",
       " '__sizeof__',\n",
       " '__str__',\n",
       " '__subclasshook__',\n",
       " '__weakref__',\n",
       " '_degeneracy',\n",
       " '_repr_png_',\n",
       " 'allow_max_rate_violation',\n",
       " 'allow_pdep_route',\n",
       " 'calculate_coll_limit',\n",
       " 'calculate_microcanonical_rate_coefficient',\n",
       " 'calculate_tst_rate_coefficient',\n",
       " 'calculate_tst_rate_coefficients',\n",
       " 'can_tst',\n",
       " 'check_collision_limit_violation',\n",
       " 'comment',\n",
       " 'copy',\n",
       " 'degeneracy',\n",
       " 'draw',\n",
       " 'duplicate',\n",
       " 'elementary_high_p',\n",
       " 'ensure_species',\n",
       " 'estimator',\n",
       " 'family',\n",
       " 'fix_barrier_height',\n",
       " 'fix_diffusion_limited_a_factor',\n",
       " 'generate_3d_ts',\n",
       " 'generate_high_p_limit_kinetics',\n",
       " 'generate_pairs',\n",
       " 'generate_reverse_rate_coefficient',\n",
       " 'get_enthalpies_of_reaction',\n",
       " 'get_enthalpy_of_reaction',\n",
       " 'get_entropies_of_reaction',\n",
       " 'get_entropy_of_reaction',\n",
       " 'get_equilibrium_constant',\n",
       " 'get_equilibrium_constants',\n",
       " 'get_free_energies_of_reaction',\n",
       " 'get_free_energy_of_reaction',\n",
       " 'get_mean_sigma_and_epsilon',\n",
       " 'get_rate_coefficient',\n",
       " 'get_reduced_mass',\n",
       " 'get_source',\n",
       " 'get_stoichiometric_coefficient',\n",
       " 'get_surface_rate_coefficient',\n",
       " 'get_url',\n",
       " 'has_template',\n",
       " 'index',\n",
       " 'is_association',\n",
       " 'is_balanced',\n",
       " 'is_dissociation',\n",
       " 'is_forward',\n",
       " 'is_isomerization',\n",
       " 'is_isomorphic',\n",
       " 'is_surface_reaction',\n",
       " 'is_unimolecular',\n",
       " 'k_effective_cache',\n",
       " 'kinetics',\n",
       " 'label',\n",
       " 'labeled_atoms',\n",
       " 'matches_species',\n",
       " 'network_kinetics',\n",
       " 'pairs',\n",
       " 'products',\n",
       " 'rank',\n",
       " 'reactants',\n",
       " 'reverse',\n",
       " 'reverse_arrhenius_rate',\n",
       " 'reverse_sticking_coeff_rate',\n",
       " 'reverse_surface_arrhenius_rate',\n",
       " 'reversible',\n",
       " 'specific_collider',\n",
       " 'template',\n",
       " 'to_cantera',\n",
       " 'to_chemkin',\n",
       " 'to_labeled_str',\n",
       " 'transition_state']"
      ]
     },
     "execution_count": 32,
     "metadata": {},
     "output_type": "execute_result"
    }
   ],
   "source": [
    "dir(rxn)"
   ]
  },
  {
   "cell_type": "code",
   "execution_count": 15,
   "id": "0f179453",
   "metadata": {},
   "outputs": [
    {
     "name": "stdout",
     "output_type": "stream",
     "text": [
      "Arrhenius(A=(2.51e-11,'cm^3/(mol*s)'), n=6.77, Ea=(-8.6,'kcal/mol'), T0=(1,'K'), comment=\"\"\"Estimated using an average for rate rule [ROOH_sec;C_rad/H2/Cs]\n",
      "Euclidian distance = 0\n",
      "family: H_Abstraction\n",
      "Ea raised from -36.0 to -36.0 kJ/mol.\"\"\")\n"
     ]
    }
   ],
   "source": [
    "print(reaction_list[809].kinetics)"
   ]
  },
  {
   "cell_type": "code",
   "execution_count": 24,
   "id": "8d933339",
   "metadata": {},
   "outputs": [
    {
     "name": "stdout",
     "output_type": "stream",
     "text": [
      "0 Arrhenius(A=(2.51e-11,'cm^3/(mol*s)'), n=6.77, Ea=(-8.6,'kcal/mol'), T0=(1,'K'), comment=\"\"\"Estimated using an average for rate rule [ROOH_pri;C_rad/H/NonDeC]\n",
      "Euclidian distance = 0\n",
      "family: H_Abstraction\n",
      "Ea raised from -36.0 to -36.0 kJ/mol.\"\"\")\n",
      "\n",
      "1 Arrhenius(A=(2.51e-11,'cm^3/(mol*s)'), n=6.77, Ea=(-8.6,'kcal/mol'), T0=(1,'K'), comment=\"\"\"Estimated using an average for rate rule [ROOH_pri;C_rad/H2/Cs]\n",
      "Euclidian distance = 0\n",
      "family: H_Abstraction\n",
      "Ea raised from -36.0 to -36.0 kJ/mol.\"\"\")\n",
      "\n",
      "2 Arrhenius(A=(0.00877928,'cm^3/(mol*s)'), n=3.957, Ea=(4.189,'kcal/mol'), T0=(1,'K'), comment=\"\"\"Estimated using average of templates [C/H/NonDe;C_rad/H/NonDeC] + [C/H/Cs2O;Cs_rad] for rate rule [C/H/Cs2O;C_rad/H/NonDeC]\n",
      "Euclidian distance = 2.0\n",
      "family: H_Abstraction\"\"\")\n",
      "\n",
      "3 Arrhenius(A=(0.0102429,'cm^3/(mol*s)'), n=3.957, Ea=(4.296,'kcal/mol'), T0=(1,'K'), comment=\"\"\"Estimated using average of templates [C/H/NonDe;C_rad/H2/Cs] + [C/H/Cs2O;Cs_rad] for rate rule [C/H/Cs2O;C_rad/H2/Cs]\n",
      "Euclidian distance = 2.0\n",
      "family: H_Abstraction\"\"\")\n",
      "\n",
      "4 Arrhenius(A=(2.51e-11,'cm^3/(mol*s)'), n=6.77, Ea=(-8.6,'kcal/mol'), T0=(1,'K'), comment=\"\"\"Estimated using an average for rate rule [ROOH_sec;C_rad/H/NonDeC]\n",
      "Euclidian distance = 0\n",
      "family: H_Abstraction\n",
      "Ea raised from -36.0 to -36.0 kJ/mol.\"\"\")\n",
      "\n",
      "5 Arrhenius(A=(2.51e-11,'cm^3/(mol*s)'), n=6.77, Ea=(-8.6,'kcal/mol'), T0=(1,'K'), comment=\"\"\"Estimated using an average for rate rule [ROOH_sec;C_rad/H2/Cs]\n",
      "Euclidian distance = 0\n",
      "family: H_Abstraction\n",
      "Ea raised from -36.0 to -36.0 kJ/mol.\"\"\")\n",
      "\n",
      "6 Arrhenius(A=(2.12e-06,'cm^3/(mol*s)'), n=5.06, Ea=(4.89,'kcal/mol'), T0=(1,'K'), comment=\"\"\"Estimated using an average for rate rule [C/H2/CsO;C_rad/H/NonDeC]\n",
      "Euclidian distance = 0\n",
      "Multiplied by reaction path degeneracy 2.0\n",
      "family: H_Abstraction\"\"\")\n",
      "\n"
     ]
    }
   ],
   "source": [
    "for i, rxn in enumerate(reaction_list[804:811]):\n",
    "    print(i, rxn.kinetics)\n",
    "    print()"
   ]
  },
  {
   "cell_type": "code",
   "execution_count": 25,
   "id": "dacbf872",
   "metadata": {},
   "outputs": [],
   "source": [
    "def plot_kinetics(rxns, labels=None):\n",
    "    \"\"\"Function for plotting reaction kinetics\n",
    "    Takes in a list of RMG reactions (rmgpy.reaction.Reaction) or a single reaction\n",
    "    \"\"\"\n",
    "    plt.xlabel('1000 / T (K^-1)')\n",
    "    plt.ylabel('ln(k)')\n",
    "\n",
    "    if type(rxns) != list:\n",
    "        rxns = [rxns]\n",
    "    \n",
    "    T = np.linspace(300, 3000, 1001)\n",
    "    for rxn in rxns:\n",
    "        k = np.zeros(len(T))\n",
    "        for i in range(0, len(T)):\n",
    "            k[i] = rxn.get_rate_coefficient(T[i], 101325)\n",
    "        plt.plot(1000.0 / T, np.log(k))\n",
    "\n",
    "    if labels:\n",
    "        plt.legend(labels)\n",
    "    plt.show()"
   ]
  },
  {
   "cell_type": "code",
   "execution_count": 29,
   "id": "c7735b6c",
   "metadata": {},
   "outputs": [
    {
     "data": {
      "image/png": "[encoded data removed]",
      "text/plain": [
       "<Figure size 432x288 with 1 Axes>"
      ]
     },
     "metadata": {
      "needs_background": "light"
     },
     "output_type": "display_data"
    },
    {
     "data": {
      "image/png": "[encoded data removed]",
      "text/plain": [
       "<Figure size 432x288 with 1 Axes>"
      ]
     },
     "metadata": {
      "needs_background": "light"
     },
     "output_type": "display_data"
    },
    {
     "data": {
      "image/png": "[encoded data removed]",
      "text/plain": [
       "<Figure size 432x288 with 1 Axes>"
      ]
     },
     "metadata": {
      "needs_background": "light"
     },
     "output_type": "display_data"
    },
    {
     "data": {
      "image/png": "[encoded data removed]",
      "text/plain": [
       "<Figure size 432x288 with 1 Axes>"
      ]
     },
     "metadata": {
      "needs_background": "light"
     },
     "output_type": "display_data"
    },
    {
     "data": {
      "image/png": "[encoded data removed]",
      "text/plain": [
       "<Figure size 432x288 with 1 Axes>"
      ]
     },
     "metadata": {
      "needs_background": "light"
     },
     "output_type": "display_data"
    },
    {
     "data": {
      "image/png": "[encoded data removed]",
      "text/plain": [
       "<Figure size 432x288 with 1 Axes>"
      ]
     },
     "metadata": {
      "needs_background": "light"
     },
     "output_type": "display_data"
    },
    {
     "data": {
      "image/png": "[encoded data removed]",
      "text/plain": [
       "<Figure size 432x288 with 1 Axes>"
      ]
     },
     "metadata": {
      "needs_background": "light"
     },
     "output_type": "display_data"
    },
    {
     "data": {
      "image/png": "[encoded data removed]",
      "text/plain": [
       "<Figure size 432x288 with 1 Axes>"
      ]
     },
     "metadata": {
      "needs_background": "light"
     },
     "output_type": "display_data"
    }
   ],
   "source": [
    "for i in range(804, 812):\n",
    "    plot_kinetics(reaction_list[i], [str(i)])"
   ]
  },
  {
   "cell_type": "code",
   "execution_count": null,
   "id": "572a38cb",
   "metadata": {},
   "outputs": [],
   "source": []
  },
  {
   "cell_type": "code",
   "execution_count": null,
   "id": "5a3edfb0",
   "metadata": {},
   "outputs": [],
   "source": []
  },
  {
   "cell_type": "code",
   "execution_count": null,
   "id": "6e51dfb4",
   "metadata": {},
   "outputs": [],
   "source": [
    "def get_rmg_reaction(ct_index):\n",
    "    ct_reaction = base_gas.reactions()[ct_index]\n",
    "    new_rmg_rxn = rmgpy.reaction.Reaction()\n",
    "    new_rmg_rxn.reactants = []\n",
    "    new_rmg_rxn.products = []\n",
    "    for reactant in ct_reaction.reactants.keys():\n",
    "        new_rmg_rxn.reactants.append(spec_dict[reactant])\n",
    "    for product in ct_reaction.products.keys():\n",
    "        new_rmg_rxn.products.append(spec_dict[product])\n",
    "    return new_rmg_rxn"
   ]
  },
  {
   "cell_type": "code",
   "execution_count": null,
   "id": "8bd3d8b7",
   "metadata": {},
   "outputs": [],
   "source": [
    "for ct_index in range(832, 840):\n",
    "\n",
    "    ref_rmg_rxn = get_rmg_reaction(ct_index)\n",
    "    for i, rxn in enumerate(reaction_list):\n",
    "        if rxn.is_isomorphic(ref_rmg_rxn):\n",
    "            print(ct_index, i)\n",
    "            break"
   ]
  },
  {
   "cell_type": "code",
   "execution_count": null,
   "id": "6cd3de30",
   "metadata": {},
   "outputs": [],
   "source": [
    "print(gas85.forward_rates_of_progress[832])\n",
    "print(gas85.reverse_rates_of_progress[832])\n",
    "print(gas85.net_rates_of_progress[832])\n",
    "print(gas85.forward_rates_of_progress[832]-gas85.reverse_rates_of_progress[832])"
   ]
  },
  {
   "cell_type": "code",
   "execution_count": 22,
   "id": "9e97eff4",
   "metadata": {},
   "outputs": [
    {
     "data": {
      "text/plain": [
       "1850"
      ]
     },
     "execution_count": 22,
     "metadata": {},
     "output_type": "execute_result"
    }
   ],
   "source": [
    "len(base_gas.forward_rates_of_progress)"
   ]
  },
  {
   "cell_type": "code",
   "execution_count": null,
   "id": "e8128e54",
   "metadata": {},
   "outputs": [],
   "source": [
    "len(base_gas.reactions())"
   ]
  },
  {
   "cell_type": "code",
   "execution_count": null,
   "id": "5decfe8f",
   "metadata": {},
   "outputs": [],
   "source": [
    "print(len(relevant_reactions))"
   ]
  },
  {
   "cell_type": "code",
   "execution_count": 20,
   "id": "92bd47fc",
   "metadata": {},
   "outputs": [
    {
     "data": {
      "text/plain": [
       "['DP',\n",
       " 'DPX',\n",
       " 'DPY',\n",
       " 'HP',\n",
       " 'HPX',\n",
       " 'HPY',\n",
       " 'ID',\n",
       " 'P',\n",
       " 'P_sat',\n",
       " 'SP',\n",
       " 'SPX',\n",
       " 'SPY',\n",
       " 'SV',\n",
       " 'SVX',\n",
       " 'SVY',\n",
       " 'T',\n",
       " 'TD',\n",
       " 'TDX',\n",
       " 'TDY',\n",
       " 'TP',\n",
       " 'TPX',\n",
       " 'TPY',\n",
       " 'T_sat',\n",
       " 'UV',\n",
       " 'UVX',\n",
       " 'UVY',\n",
       " 'X',\n",
       " 'Y',\n",
       " '__call__',\n",
       " '__class__',\n",
       " '__composition_to_array',\n",
       " '__copy__',\n",
       " '__delattr__',\n",
       " '__dir__',\n",
       " '__doc__',\n",
       " '__eq__',\n",
       " '__format__',\n",
       " '__ge__',\n",
       " '__getattribute__',\n",
       " '__getitem__',\n",
       " '__gt__',\n",
       " '__hash__',\n",
       " '__init__',\n",
       " '__init_subclass__',\n",
       " '__le__',\n",
       " '__lt__',\n",
       " '__module__',\n",
       " '__ne__',\n",
       " '__new__',\n",
       " '__pyx_vtable__',\n",
       " '__reduce__',\n",
       " '__reduce_ex__',\n",
       " '__repr__',\n",
       " '__setattr__',\n",
       " '__sizeof__',\n",
       " '__slots__',\n",
       " '__str__',\n",
       " '__subclasshook__',\n",
       " '_check_kinetics_species_index',\n",
       " '_check_phase_index',\n",
       " '_check_reaction_index',\n",
       " '_full_states',\n",
       " '_init_cti_xml',\n",
       " '_init_parts',\n",
       " '_init_yaml',\n",
       " '_native_state',\n",
       " '_partial_states',\n",
       " '_references',\n",
       " 'activities',\n",
       " 'activity_coefficients',\n",
       " 'add_reaction',\n",
       " 'add_species',\n",
       " 'add_species_alias',\n",
       " 'atomic_weight',\n",
       " 'atomic_weights',\n",
       " 'basis',\n",
       " 'binary_diff_coeffs',\n",
       " 'case_sensitive_species_names',\n",
       " 'charges',\n",
       " 'chemical_potentials',\n",
       " 'composite',\n",
       " 'concentrations',\n",
       " 'cp',\n",
       " 'cp_mass',\n",
       " 'cp_mole',\n",
       " 'creation_rates',\n",
       " 'critical_density',\n",
       " 'critical_pressure',\n",
       " 'critical_temperature',\n",
       " 'cv',\n",
       " 'cv_mass',\n",
       " 'cv_mole',\n",
       " 'delta_enthalpy',\n",
       " 'delta_entropy',\n",
       " 'delta_gibbs',\n",
       " 'delta_standard_enthalpy',\n",
       " 'delta_standard_entropy',\n",
       " 'delta_standard_gibbs',\n",
       " 'density',\n",
       " 'density_mass',\n",
       " 'density_mole',\n",
       " 'destruction_rates',\n",
       " 'electric_potential',\n",
       " 'electrical_conductivity',\n",
       " 'electrochemical_potentials',\n",
       " 'element_index',\n",
       " 'element_name',\n",
       " 'element_names',\n",
       " 'elemental_mass_fraction',\n",
       " 'elemental_mole_fraction',\n",
       " 'enthalpy_mass',\n",
       " 'enthalpy_mole',\n",
       " 'entropy_mass',\n",
       " 'entropy_mole',\n",
       " 'equilibrate',\n",
       " 'equilibrium_constants',\n",
       " 'equivalence_ratio',\n",
       " 'find_isomers',\n",
       " 'forward_rate_constants',\n",
       " 'forward_rates_of_progress',\n",
       " 'g',\n",
       " 'get_equivalence_ratio',\n",
       " 'gibbs_mass',\n",
       " 'gibbs_mole',\n",
       " 'h',\n",
       " 'has_phase_transition',\n",
       " 'heat_production_rates',\n",
       " 'heat_release_rate',\n",
       " 'int_energy_mass',\n",
       " 'int_energy_mole',\n",
       " 'is_compressible',\n",
       " 'is_pure',\n",
       " 'is_reversible',\n",
       " 'isothermal_compressibility',\n",
       " 'kinetics_model',\n",
       " 'kinetics_species_index',\n",
       " 'kinetics_species_name',\n",
       " 'kinetics_species_names',\n",
       " 'mass_fraction_dict',\n",
       " 'max_temp',\n",
       " 'mean_molecular_weight',\n",
       " 'min_temp',\n",
       " 'mix_diff_coeffs',\n",
       " 'mix_diff_coeffs_mass',\n",
       " 'mix_diff_coeffs_mole',\n",
       " 'mixture_fraction',\n",
       " 'mobilities',\n",
       " 'modify_reaction',\n",
       " 'modify_species',\n",
       " 'mole_fraction_dict',\n",
       " 'molecular_weights',\n",
       " 'multi_diff_coeffs',\n",
       " 'multiplier',\n",
       " 'n_atoms',\n",
       " 'n_elements',\n",
       " 'n_phases',\n",
       " 'n_reactions',\n",
       " 'n_selected_species',\n",
       " 'n_species',\n",
       " 'n_total_species',\n",
       " 'name',\n",
       " 'net_production_rates',\n",
       " 'net_rates_of_progress',\n",
       " 'partial_molar_cp',\n",
       " 'partial_molar_enthalpies',\n",
       " 'partial_molar_entropies',\n",
       " 'partial_molar_int_energies',\n",
       " 'partial_molar_volumes',\n",
       " 'phase_of_matter',\n",
       " 'product_stoich_coeff',\n",
       " 'product_stoich_coeffs',\n",
       " 'products',\n",
       " 'reactant_stoich_coeff',\n",
       " 'reactant_stoich_coeffs',\n",
       " 'reactants',\n",
       " 'reaction',\n",
       " 'reaction_equation',\n",
       " 'reaction_equations',\n",
       " 'reaction_phase_index',\n",
       " 'reaction_type',\n",
       " 'reactions',\n",
       " 'reference_pressure',\n",
       " 'report',\n",
       " 'reverse_rate_constants',\n",
       " 'reverse_rates_of_progress',\n",
       " 's',\n",
       " 'selected_species',\n",
       " 'set_equivalence_ratio',\n",
       " 'set_mixture_fraction',\n",
       " 'set_multiplier',\n",
       " 'set_unnormalized_mass_fractions',\n",
       " 'set_unnormalized_mole_fractions',\n",
       " 'source',\n",
       " 'species',\n",
       " 'species_index',\n",
       " 'species_name',\n",
       " 'species_names',\n",
       " 'species_viscosities',\n",
       " 'standard_cp_R',\n",
       " 'standard_enthalpies_RT',\n",
       " 'standard_entropies_R',\n",
       " 'standard_gibbs_RT',\n",
       " 'standard_int_energies_RT',\n",
       " 'state',\n",
       " 'state_size',\n",
       " 'stoich_air_fuel_ratio',\n",
       " 'thermal_conductivity',\n",
       " 'thermal_diff_coeffs',\n",
       " 'thermal_expansion_coeff',\n",
       " 'thermo_model',\n",
       " 'transport_model',\n",
       " 'u',\n",
       " 'v',\n",
       " 'viscosity',\n",
       " 'volume_mass',\n",
       " 'volume_mole']"
      ]
     },
     "execution_count": 20,
     "metadata": {},
     "output_type": "execute_result"
    }
   ],
   "source": [
    "dir(gas85)"
   ]
  },
  {
   "cell_type": "code",
   "execution_count": null,
   "id": "8bd4b3b9",
   "metadata": {},
   "outputs": [],
   "source": [
    "reactor85.thermo.X[85]"
   ]
  },
  {
   "cell_type": "code",
   "execution_count": null,
   "id": "4dc7fef2",
   "metadata": {},
   "outputs": [],
   "source": [
    "gas85.species()[85]"
   ]
  },
  {
   "cell_type": "code",
   "execution_count": null,
   "id": "ef4ac569",
   "metadata": {},
   "outputs": [],
   "source": [
    "gas.species()[85]"
   ]
  },
  {
   "cell_type": "code",
   "execution_count": null,
   "id": "44aaa127",
   "metadata": {},
   "outputs": [],
   "source": [
    "T"
   ]
  },
  {
   "cell_type": "code",
   "execution_count": null,
   "id": "81d5d0df",
   "metadata": {},
   "outputs": [],
   "source": [
    "species_list[85].is_isomorphic(spec_dict['S(787)'])"
   ]
  },
  {
   "cell_type": "code",
   "execution_count": null,
   "id": "3465cc80",
   "metadata": {},
   "outputs": [],
   "source": [
    "spec_dict['S(787)']"
   ]
  },
  {
   "cell_type": "code",
   "execution_count": null,
   "id": "b4f58e26",
   "metadata": {},
   "outputs": [],
   "source": [
    "species_list[85]"
   ]
  },
  {
   "cell_type": "code",
   "execution_count": null,
   "id": "7a136937",
   "metadata": {},
   "outputs": [],
   "source": []
  }
 ],
 "metadata": {
  "kernelspec": {
   "display_name": "Python 3 (ipykernel)",
   "language": "python",
   "name": "python3"
  },
  "language_info": {
   "codemirror_mode": {
    "name": "ipython",
    "version": 3
   },
   "file_extension": ".py",
   "mimetype": "text/x-python",
   "name": "python",
   "nbconvert_exporter": "python",
   "pygments_lexer": "ipython3",
   "version": "3.7.12"
  }
 },
 "nbformat": 4,
 "nbformat_minor": 5
}
