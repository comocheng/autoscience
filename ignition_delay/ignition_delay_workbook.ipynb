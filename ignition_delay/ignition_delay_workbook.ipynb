{
 "cells": [
  {
   "cell_type": "code",
   "execution_count": 1,
   "id": "c0f1e265",
   "metadata": {},
   "outputs": [],
   "source": [
    "# notebook to get started running ignition delays\n",
    "# not going to use pyteck because it's too bulky for me to run 5000 and do global analysis"
   ]
  },
  {
   "cell_type": "code",
   "execution_count": 19,
   "id": "3bd89750",
   "metadata": {},
   "outputs": [],
   "source": [
    "import cantera as ct\n",
    "import numpy as np\n",
    "import pandas as pd\n",
    "\n",
    "import matplotlib.pyplot as plt\n",
    "%matplotlib inline"
   ]
  },
  {
   "cell_type": "code",
   "execution_count": 32,
   "id": "98dea50a",
   "metadata": {},
   "outputs": [],
   "source": [
    "# Load the model\n",
    "rmg_cti = '/work/westgroup/harris.se/autoscience/autoscience/butane/chem_annotated.cti'\n",
    "rmg_gas = ct.Solution(rmg_cti)\n",
    "\n",
    "\n",
    "# load aramco model\n",
    "aramco_cti = '/work/westgroup/harris.se/autoscience/aramco/AramcoMech3.0.MECH.cti'\n",
    "aramco_gas = ct.Solution(aramco_cti)"
   ]
  },
  {
   "cell_type": "code",
   "execution_count": 10,
   "id": "8c60994c",
   "metadata": {},
   "outputs": [],
   "source": [
    "# load experimental data\n",
    "ignition_delay_data = '../butane/butane_ignition_delay.csv'\n",
    "df = pd.read_csv(ignition_delay_data)\n",
    "\n",
    "# slice just table 7, where phi=1.0\n",
    "table7 = df[df['Table'] == 7]"
   ]
  },
  {
   "cell_type": "code",
   "execution_count": 86,
   "id": "75b3408f",
   "metadata": {},
   "outputs": [],
   "source": [
    "# Define Initial conditions using experimental data\n",
    "tau7 = table7['time (ms)'].values.astype(float)  # ignition delay\n",
    "T7 = table7['T_C'].values  # Temperatures\n",
    "P7 = table7['nominal pressure(atm)'].values * ct.one_atm  # pressures in atm\n",
    "\n",
    "# list of starting conditions\n",
    "# Mixture compositions taken from table 2 of \n",
    "# https://doi-org.ezproxy.neu.edu/10.1016/j.combustflame.2010.01.016\n",
    "concentrations = []\n",
    "# for phi = 1\n",
    "x_diluent = 0.7649\n",
    "conc_dict = {\n",
    "    'O2': 0.2038,\n",
    "    'C4H10': 0.03135\n",
    "}\n",
    "for i in range(0, len(table7)):\n",
    "    \n",
    "    x_N2 = table7['%N2'].values[i] / 100.0 * x_diluent\n",
    "    x_Ar = table7['%Ar'].values[i] / 100.0 * x_diluent\n",
    "    x_CO2 = table7['%CO2'].values[i] / 100.0 * x_diluent\n",
    "    conc_dict['N2'] = x_N2\n",
    "    conc_dict['AR'] = x_Ar\n",
    "    conc_dict['CO2'] = x_CO2\n",
    "    \n",
    "    concentrations.append(conc_dict)"
   ]
  },
  {
   "cell_type": "code",
   "execution_count": 35,
   "id": "ab0a942d",
   "metadata": {},
   "outputs": [],
   "source": [
    "# create empty arrays for the models\n",
    "aramco_tau7 = np.zeros(len(tau7))\n",
    "rmg_tau7 = np.zeros(len(tau7))"
   ]
  },
  {
   "cell_type": "code",
   "execution_count": 44,
   "id": "4ca7d8b4",
   "metadata": {},
   "outputs": [],
   "source": [
    "def run_simulation(gas, T, P, X):\n",
    "    # function to run a RCM simulation\n",
    "\n",
    "    t_end = 1.0  # time in seconds\n",
    "    gas.TPX = T, P, X\n",
    "    \n",
    "    \n",
    "    env = ct.Reservoir(ct.Solution('air.xml'))\n",
    "    reactor = ct.IdealGasReactor(gas)\n",
    "    wall = ct.Wall(reactor, env, A=1.0, velocity=0)\n",
    "    reactor_net = ct.ReactorNet([reactor])\n",
    "    \n",
    "    \n",
    "    times = [0]\n",
    "    T = [reactor.T]\n",
    "    P = [reactor.thermo.P]\n",
    "    X = [reactor.thermo.X]  # mol fractions\n",
    "    while reactor_net.time < t_end:\n",
    "        reactor_net.step()\n",
    "\n",
    "        times.append(reactor_net.time)\n",
    "        T.append(reactor.T)\n",
    "        P.append(reactor.thermo.P)\n",
    "        X.append(reactor.thermo.X)\n",
    "    \n",
    "    return (times, T, P, X)"
   ]
  },
  {
   "cell_type": "code",
   "execution_count": 67,
   "id": "3d555be7",
   "metadata": {},
   "outputs": [],
   "source": [
    "def get_ignition_delay(times, T, P, X, plot=False, title='', save=''):\n",
    "    # look for time with largest derivative\n",
    "    slopes = np.gradient(P, times)\n",
    "    i = np.argmax(slopes)\n",
    "    \n",
    "    \n",
    "    if plot:\n",
    "        # plot to check if the answer makes sense\n",
    "        plt.clf()\n",
    "        plt.plot(times, P)\n",
    "        plt.axvline(x=times[i], color='green')\n",
    "        max_time = min(times[i] * 1.1, times[-1])\n",
    "        plt.xlim([0, max_time])\n",
    "        plt.xlabel('Time (s)')\n",
    "        plt.ylabel('Pressure (Pa)')\n",
    "        \n",
    "        if title:\n",
    "            plt.title(title)\n",
    "        else:\n",
    "            plt.title('Ignition Delay')\n",
    "        \n",
    "        if save:\n",
    "            plt.savefig(save)\n",
    "\n",
    "    \n",
    "    return i, times[i]\n",
    "    # look for time when it reaches half of maximum pressure\n"
   ]
  },
  {
   "cell_type": "markdown",
   "id": "92de40c5",
   "metadata": {},
   "source": [
    "# Run the Simulations"
   ]
  },
  {
   "cell_type": "code",
   "execution_count": 70,
   "id": "f685ff7e",
   "metadata": {
    "scrolled": true
   },
   "outputs": [
    {
     "data": {
      "image/png": "[encoded data removed]",
      "text/plain": [
       "<Figure size 432x288 with 1 Axes>"
      ]
     },
     "metadata": {
      "needs_background": "light"
     },
     "output_type": "display_data"
    }
   ],
   "source": [
    "for i in range(0, len(table7)):\n",
    "    # aramco, keep as is\n",
    "    X = concentrations[i]\n",
    "    t, T, P, X = run_simulation(aramco_gas, T7[i], P7[i], X)\n",
    "    save_name = f'aramco_7-{i:04}.png'\n",
    "    index, delay_time = get_ignition_delay(t, T, P, X, plot=True, save=save_name)\n",
    "    aramco_tau7[i] = delay_time\n",
    "    \n",
    "    # rmg, modify \n",
    "    X = f'O2(2):{concentrations[i][\"O2\"]}, butane(1):{concentrations[i][\"C4H10\"]}, Ar:{concentrations[i][\"AR\"]},  CO2(7):{concentrations[i][\"CO2\"]}, N2:{concentrations[i][\"N2\"]}'\n",
    "    t, T, P, X = run_simulation(rmg_gas, T7[i], P7[i], X)\n",
    "    save_name = f'rmg_7-{i:04}.png'\n",
    "    index, delay_time = get_ignition_delay(t, T, P, X, plot=True, save=save_name)\n",
    "    rmg_tau7[i] = delay_time"
   ]
  },
  {
   "cell_type": "markdown",
   "id": "05c764dd",
   "metadata": {},
   "source": [
    "# Plot All Ignition Delays"
   ]
  },
  {
   "cell_type": "code",
   "execution_count": 89,
   "id": "8283ab95",
   "metadata": {},
   "outputs": [
    {
     "data": {
      "image/png": "[encoded data removed]",
      "text/plain": [
       "<Figure size 432x288 with 1 Axes>"
      ]
     },
     "metadata": {
      "needs_background": "light"
     },
     "output_type": "display_data"
    }
   ],
   "source": [
    "plt.plot(1000.0 / T7, rmg_tau7, marker='x')\n",
    "plt.plot(1000.0 / T7, aramco_tau7, marker='x')\n",
    "plt.scatter(1000.0 / T7, tau7 / 1000.0, color='black')\n",
    "ax = plt.gca()\n",
    "ax.set_yscale('log')\n",
    "plt.legend(['RMG', 'Aramco', 'Experiment'])\n",
    "plt.title('Ignition Delays Phi=1.0')\n",
    "plt.xlabel('1000K / T')\n",
    "plt.ylabel('Delay (s)')\n",
    "plt.savefig('table7.png')"
   ]
  }
 ],
 "metadata": {
  "kernelspec": {
   "display_name": "Python 3 (ipykernel)",
   "language": "python",
   "name": "python3"
  },
  "language_info": {
   "codemirror_mode": {
    "name": "ipython",
    "version": 3
   },
   "file_extension": ".py",
   "mimetype": "text/x-python",
   "name": "python",
   "nbconvert_exporter": "python",
   "pygments_lexer": "ipython3",
   "version": "3.7.12"
  }
 },
 "nbformat": 4,
 "nbformat_minor": 5
}
