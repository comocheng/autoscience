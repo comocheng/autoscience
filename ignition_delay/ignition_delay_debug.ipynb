{
 "cells": [
  {
   "cell_type": "code",
   "execution_count": 1,
   "id": "c0f1e265",
   "metadata": {},
   "outputs": [],
   "source": [
    "# notebook to check on individual ignition delay detections"
   ]
  },
  {
   "cell_type": "code",
   "execution_count": 1,
   "id": "3bd89750",
   "metadata": {},
   "outputs": [],
   "source": [
    "import cantera as ct\n",
    "import numpy as np\n",
    "import pandas as pd\n",
    "\n",
    "import matplotlib.pyplot as plt\n",
    "%matplotlib inline"
   ]
  },
  {
   "cell_type": "code",
   "execution_count": 2,
   "id": "98dea50a",
   "metadata": {},
   "outputs": [],
   "source": [
    "# Load the model\n",
    "cti_path = '/work/westgroup/harris.se/autoscience/autoscience/butane/improved_models/chem_2022-09-08.cti'\n",
    "gas = ct.Solution(cti_path)"
   ]
  },
  {
   "cell_type": "code",
   "execution_count": 3,
   "id": "8c60994c",
   "metadata": {},
   "outputs": [],
   "source": [
    "# load experimental data\n",
    "ignition_delay_data = '../butane/butane_ignition_delay.csv'\n",
    "df = pd.read_csv(ignition_delay_data)\n",
    "\n",
    "# slice just table 7, where phi=1.0\n",
    "table7 = df[df['Table'] == 7]"
   ]
  },
  {
   "cell_type": "code",
   "execution_count": 4,
   "id": "75b3408f",
   "metadata": {},
   "outputs": [],
   "source": [
    "# Load the experimental conditions\n",
    "ignition_delay_data = '/work/westgroup/harris.se/autoscience/autoscience/butane/butane_ignition_delay.csv'\n",
    "df_exp = pd.read_csv(ignition_delay_data)\n",
    "\n",
    "# slice just table 7, where phi=1.0\n",
    "table7 = df_exp[df_exp['Table'] == 7]\n",
    "# Define Initial conditions using experimental data\n",
    "tau7 = table7['time (ms)'].values.astype(float)  # ignition delay\n",
    "T7 = table7['T_C'].values  # Temperatures\n",
    "P7 = table7['nominal pressure(atm)'].values * ct.one_atm  # pressures in atm\n",
    "\n",
    "\n",
    "# list of starting conditions\n",
    "# Mixture compositions taken from table 2 of\n",
    "# https://doi-org.ezproxy.neu.edu/10.1016/j.combustflame.2010.01.016\n",
    "concentrations = []\n",
    "# for phi = 1\n",
    "x_diluent = 0.7649\n",
    "conc_dict = {\n",
    "    'O2(2)': 0.2038,\n",
    "    'butane(1)': 0.03135\n",
    "}\n",
    "\n",
    "for i in range(0, len(table7)):\n",
    "    x_N2 = table7['%N2'].values[i] / 100.0 * x_diluent\n",
    "    x_Ar = table7['%Ar'].values[i] / 100.0 * x_diluent\n",
    "    x_CO2 = table7['%CO2'].values[i] / 100.0 * x_diluent\n",
    "    conc_dict['N2'] = x_N2\n",
    "    conc_dict['Ar'] = x_Ar\n",
    "    conc_dict['CO2(7)'] = x_CO2\n",
    "    concentrations.append(conc_dict)"
   ]
  },
  {
   "cell_type": "code",
   "execution_count": null,
   "id": "cfbab198",
   "metadata": {},
   "outputs": [],
   "source": []
  },
  {
   "cell_type": "code",
   "execution_count": 5,
   "id": "ab0a942d",
   "metadata": {},
   "outputs": [],
   "source": [
    "# create empty arrays for the models\n",
    "rmg_tau7 = np.zeros(len(tau7))"
   ]
  },
  {
   "cell_type": "code",
   "execution_count": 6,
   "id": "4ca7d8b4",
   "metadata": {},
   "outputs": [],
   "source": [
    "def run_simulation(gas, T, P, X):\n",
    "    # function to run a RCM simulation\n",
    "\n",
    "    t_end = 1.0  # time in seconds\n",
    "    gas.TPX = T, P, X\n",
    "    \n",
    "    \n",
    "    env = ct.Reservoir(ct.Solution('air.xml'))\n",
    "    reactor = ct.IdealGasReactor(gas)\n",
    "    wall = ct.Wall(reactor, env, A=1.0, velocity=0)\n",
    "    reactor_net = ct.ReactorNet([reactor])\n",
    "    \n",
    "    \n",
    "    times = [0]\n",
    "    T = [reactor.T]\n",
    "    P = [reactor.thermo.P]\n",
    "    X = [reactor.thermo.X]  # mol fractions\n",
    "    while reactor_net.time < t_end:\n",
    "        reactor_net.step()\n",
    "\n",
    "        times.append(reactor_net.time)\n",
    "        T.append(reactor.T)\n",
    "        P.append(reactor.thermo.P)\n",
    "        X.append(reactor.thermo.X)\n",
    "    \n",
    "    return (times, T, P, X)"
   ]
  },
  {
   "cell_type": "code",
   "execution_count": 7,
   "id": "3d555be7",
   "metadata": {},
   "outputs": [],
   "source": [
    "def get_ignition_delay(times, T, P, X, plot=False, title='', save=''):\n",
    "    # look for time with largest derivative\n",
    "    slopes = np.gradient(P, times)\n",
    "    i = np.argmax(slopes)\n",
    "    \n",
    "    \n",
    "    if plot:\n",
    "        # plot to check if the answer makes sense\n",
    "        plt.clf()\n",
    "        plt.plot(times, P)\n",
    "        plt.axvline(x=times[i], color='green')\n",
    "        max_time = min(times[i] * 1.1, times[-1])\n",
    "        plt.xlim([0, max_time])\n",
    "        plt.xlabel('Time (s)')\n",
    "        plt.ylabel('Pressure (Pa)')\n",
    "        \n",
    "        if title:\n",
    "            plt.title(title)\n",
    "        else:\n",
    "            plt.title('Ignition Delay')\n",
    "        \n",
    "        if save:\n",
    "            plt.savefig(save)\n",
    "\n",
    "    \n",
    "    return i, times[i]\n",
    "    # look for time when it reaches half of maximum pressure\n"
   ]
  },
  {
   "cell_type": "markdown",
   "id": "92de40c5",
   "metadata": {},
   "source": [
    "# Run the Simulations"
   ]
  },
  {
   "cell_type": "code",
   "execution_count": 9,
   "id": "f685ff7e",
   "metadata": {
    "scrolled": true
   },
   "outputs": [
    {
     "data": {
      "image/png": "[encoded data removed]",
      "text/plain": [
       "<Figure size 432x288 with 1 Axes>"
      ]
     },
     "metadata": {
      "needs_background": "light"
     },
     "output_type": "display_data"
    }
   ],
   "source": [
    "# for i in range(0, len(table7)):\n",
    "for i in [7]:\n",
    "    # aramco, keep as is\n",
    "    X = concentrations[i]\n",
    "    t, T, P, X = run_simulation(gas, T7[i], P7[i], X)\n",
    "    save_name = f'rmg_7-{i:04}.png'\n",
    "    index, delay_time = get_ignition_delay(t, T, P, X, plot=True, save=save_name)\n",
    "    rmg_tau7[i] = delay_time"
   ]
  },
  {
   "cell_type": "code",
   "execution_count": 24,
   "id": "1aa759fe",
   "metadata": {},
   "outputs": [
    {
     "data": {
      "text/plain": [
       "Text(0, 0.5, 'Pressure (Pa)')"
      ]
     },
     "execution_count": 24,
     "metadata": {},
     "output_type": "execute_result"
    },
    {
     "data": {
      "image/png": "[encoded data removed]",
      "text/plain": [
       "<Figure size 432x288 with 1 Axes>"
      ]
     },
     "metadata": {
      "needs_background": "light"
     },
     "output_type": "display_data"
    }
   ],
   "source": [
    "plt.clf()\n",
    "N = 1000\n",
    "plt.plot(t[:N], P[:N])\n",
    "# plt.axvline(x=t[i], color='green')\n",
    "# max_time = min(t[i] * 1.1, t[-1])\n",
    "# plt.xlim([0, max_time])\n",
    "plt.xlabel('Time (s)')\n",
    "plt.ylabel('Pressure (Pa)')"
   ]
  }
 ],
 "metadata": {
  "kernelspec": {
   "display_name": "Python 3 (ipykernel)",
   "language": "python",
   "name": "python3"
  },
  "language_info": {
   "codemirror_mode": {
    "name": "ipython",
    "version": 3
   },
   "file_extension": ".py",
   "mimetype": "text/x-python",
   "name": "python",
   "nbconvert_exporter": "python",
   "pygments_lexer": "ipython3",
   "version": "3.7.12"
  }
 },
 "nbformat": 4,
 "nbformat_minor": 5
}
