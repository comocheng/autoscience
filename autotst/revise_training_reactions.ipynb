{
 "cells": [
  {
   "cell_type": "code",
   "execution_count": null,
   "id": "9601527f",
   "metadata": {},
   "outputs": [],
   "source": [
    "# script to collect all of the revised kinetic calculations for existing Disproportionation training reactions:\n",
    "# and put them together into a database\n"
   ]
  },
  {
   "cell_type": "code",
   "execution_count": 1,
   "id": "10a32eaf",
   "metadata": {},
   "outputs": [],
   "source": [
    "import os\n",
    "import re\n",
    "import glob\n",
    "\n",
    "import rmgpy.chemkin\n",
    "import rmgpy.data.kinetics\n",
    "\n",
    "import numpy as np\n",
    "import matplotlib.pyplot as plt\n",
    "from collections import OrderedDict\n",
    "\n",
    "\n",
    "import rmgpy.data.thermo\n",
    "import rmgpy.data.kinetics\n",
    "import rmgpy.reaction\n",
    "import rmgpy.species\n",
    "import rmgpy\n",
    "\n",
    "import sys\n",
    "sys.path.append('/work/westgroup/harris.se/autoscience/autoscience_workflow/workflow/scripts/kinetics')\n",
    "import kineticfun"
   ]
  },
  {
   "cell_type": "code",
   "execution_count": 2,
   "id": "0549f019",
   "metadata": {},
   "outputs": [],
   "source": [
    "DFT_DIR = \"/work/westgroup/harris.se/autoscience/autoscience/butane/dft/\"\n",
    "kinetics_libs = glob.glob(os.path.join(DFT_DIR, 'kinetics', 'reaction*', 'arkane', 'RMG_libraries'))"
   ]
  },
  {
   "cell_type": "code",
   "execution_count": 3,
   "id": "7e9ddd6d",
   "metadata": {},
   "outputs": [
    {
     "name": "stderr",
     "output_type": "stream",
     "text": [
      "823758660.py:8 <module> INFO Thermo file has default temperature range 300.0 to 1000.0 and 1000.0 to 5000.0\n"
     ]
    },
    {
     "name": "stdout",
     "output_type": "stream",
     "text": [
      "110 species, 1822 reactions\n"
     ]
    }
   ],
   "source": [
    "# only include reactions that belong to the disproportionation family\n",
    "\n",
    "# Load the base model\n",
    "basedir = '/work/westgroup/harris.se/autoscience/autoscience/butane/models/rmg_model'\n",
    "base_chemkin = os.path.join(basedir, 'chem_annotated.inp')\n",
    "dictionary = os.path.join(basedir, 'species_dictionary.txt')\n",
    "transport = os.path.join(basedir, 'tran.dat')\n",
    "species_list, reaction_list = rmgpy.chemkin.load_chemkin_file(base_chemkin, dictionary_path=dictionary, transport_path=transport)\n",
    "print(f'{len(species_list)} species, {len(reaction_list)} reactions')\n",
    "\n"
   ]
  },
  {
   "cell_type": "code",
   "execution_count": 4,
   "id": "cca5e080",
   "metadata": {},
   "outputs": [
    {
     "name": "stderr",
     "output_type": "stream",
     "text": [
      "database.py:255 load_libraries INFO Loading kinetics library  from /work/westgroup/harris.se/autoscience/autoscience/butane/dft/kinetics/reaction_0018/arkane/RMG_libraries/reactions.py...\n",
      "database.py:255 load_libraries INFO Loading kinetics library  from /work/westgroup/harris.se/autoscience/autoscience/butane/dft/kinetics/reaction_0127/arkane/RMG_libraries/reactions.py...\n",
      "database.py:255 load_libraries INFO Loading kinetics library  from /work/westgroup/harris.se/autoscience/autoscience/butane/dft/kinetics/reaction_0180/arkane/RMG_libraries/reactions.py...\n",
      "database.py:255 load_libraries INFO Loading kinetics library  from /work/westgroup/harris.se/autoscience/autoscience/butane/dft/kinetics/reaction_0211/arkane/RMG_libraries/reactions.py...\n",
      "database.py:255 load_libraries INFO Loading kinetics library  from /work/westgroup/harris.se/autoscience/autoscience/butane/dft/kinetics/reaction_0213/arkane/RMG_libraries/reactions.py...\n",
      "database.py:255 load_libraries INFO Loading kinetics library  from /work/westgroup/harris.se/autoscience/autoscience/butane/dft/kinetics/reaction_0247/arkane/RMG_libraries/reactions.py...\n",
      "database.py:255 load_libraries INFO Loading kinetics library  from /work/westgroup/harris.se/autoscience/autoscience/butane/dft/kinetics/reaction_0278/arkane/RMG_libraries/reactions.py...\n",
      "database.py:255 load_libraries INFO Loading kinetics library  from /work/westgroup/harris.se/autoscience/autoscience/butane/dft/kinetics/reaction_0288/arkane/RMG_libraries/reactions.py...\n",
      "database.py:255 load_libraries INFO Loading kinetics library  from /work/westgroup/harris.se/autoscience/autoscience/butane/dft/kinetics/reaction_0290/arkane/RMG_libraries/reactions.py...\n",
      "database.py:255 load_libraries INFO Loading kinetics library  from /work/westgroup/harris.se/autoscience/autoscience/butane/dft/kinetics/reaction_0294/arkane/RMG_libraries/reactions.py...\n",
      "database.py:255 load_libraries INFO Loading kinetics library  from /work/westgroup/harris.se/autoscience/autoscience/butane/dft/kinetics/reaction_0313/arkane/RMG_libraries/reactions.py...\n",
      "database.py:255 load_libraries INFO Loading kinetics library  from /work/westgroup/harris.se/autoscience/autoscience/butane/dft/kinetics/reaction_0324/arkane/RMG_libraries/reactions.py...\n",
      "database.py:255 load_libraries INFO Loading kinetics library  from /work/westgroup/harris.se/autoscience/autoscience/butane/dft/kinetics/reaction_0325/arkane/RMG_libraries/reactions.py...\n",
      "database.py:255 load_libraries INFO Loading kinetics library  from /work/westgroup/harris.se/autoscience/autoscience/butane/dft/kinetics/reaction_0326/arkane/RMG_libraries/reactions.py...\n",
      "database.py:255 load_libraries INFO Loading kinetics library  from /work/westgroup/harris.se/autoscience/autoscience/butane/dft/kinetics/reaction_0370/arkane/RMG_libraries/reactions.py...\n",
      "database.py:255 load_libraries INFO Loading kinetics library  from /work/westgroup/harris.se/autoscience/autoscience/butane/dft/kinetics/reaction_0371/arkane/RMG_libraries/reactions.py...\n",
      "database.py:255 load_libraries INFO Loading kinetics library  from /work/westgroup/harris.se/autoscience/autoscience/butane/dft/kinetics/reaction_0390/arkane/RMG_libraries/reactions.py...\n",
      "database.py:255 load_libraries INFO Loading kinetics library  from /work/westgroup/harris.se/autoscience/autoscience/butane/dft/kinetics/reaction_0391/arkane/RMG_libraries/reactions.py...\n",
      "database.py:255 load_libraries INFO Loading kinetics library  from /work/westgroup/harris.se/autoscience/autoscience/butane/dft/kinetics/reaction_0402/arkane/RMG_libraries/reactions.py...\n",
      "database.py:255 load_libraries INFO Loading kinetics library  from /work/westgroup/harris.se/autoscience/autoscience/butane/dft/kinetics/reaction_0403/arkane/RMG_libraries/reactions.py...\n",
      "database.py:255 load_libraries INFO Loading kinetics library  from /work/westgroup/harris.se/autoscience/autoscience/butane/dft/kinetics/reaction_0411/arkane/RMG_libraries/reactions.py...\n",
      "database.py:255 load_libraries INFO Loading kinetics library  from /work/westgroup/harris.se/autoscience/autoscience/butane/dft/kinetics/reaction_0418/arkane/RMG_libraries/reactions.py...\n",
      "database.py:255 load_libraries INFO Loading kinetics library  from /work/westgroup/harris.se/autoscience/autoscience/butane/dft/kinetics/reaction_0419/arkane/RMG_libraries/reactions.py...\n",
      "database.py:255 load_libraries INFO Loading kinetics library  from /work/westgroup/harris.se/autoscience/autoscience/butane/dft/kinetics/reaction_0420/arkane/RMG_libraries/reactions.py...\n",
      "database.py:255 load_libraries INFO Loading kinetics library  from /work/westgroup/harris.se/autoscience/autoscience/butane/dft/kinetics/reaction_0422/arkane/RMG_libraries/reactions.py...\n",
      "database.py:255 load_libraries INFO Loading kinetics library  from /work/westgroup/harris.se/autoscience/autoscience/butane/dft/kinetics/reaction_0427/arkane/RMG_libraries/reactions.py...\n",
      "database.py:255 load_libraries INFO Loading kinetics library  from /work/westgroup/harris.se/autoscience/autoscience/butane/dft/kinetics/reaction_0433/arkane/RMG_libraries/reactions.py...\n",
      "database.py:255 load_libraries INFO Loading kinetics library  from /work/westgroup/harris.se/autoscience/autoscience/butane/dft/kinetics/reaction_0438/arkane/RMG_libraries/reactions.py...\n",
      "database.py:255 load_libraries INFO Loading kinetics library  from /work/westgroup/harris.se/autoscience/autoscience/butane/dft/kinetics/reaction_0445/arkane/RMG_libraries/reactions.py...\n",
      "database.py:255 load_libraries INFO Loading kinetics library  from /work/westgroup/harris.se/autoscience/autoscience/butane/dft/kinetics/reaction_0507/arkane/RMG_libraries/reactions.py...\n",
      "database.py:255 load_libraries INFO Loading kinetics library  from /work/westgroup/harris.se/autoscience/autoscience/butane/dft/kinetics/reaction_0563/arkane/RMG_libraries/reactions.py...\n",
      "database.py:255 load_libraries INFO Loading kinetics library  from /work/westgroup/harris.se/autoscience/autoscience/butane/dft/kinetics/reaction_0574/arkane/RMG_libraries/reactions.py...\n",
      "database.py:255 load_libraries INFO Loading kinetics library  from /work/westgroup/harris.se/autoscience/autoscience/butane/dft/kinetics/reaction_0575/arkane/RMG_libraries/reactions.py...\n",
      "database.py:255 load_libraries INFO Loading kinetics library  from /work/westgroup/harris.se/autoscience/autoscience/butane/dft/kinetics/reaction_0579/arkane/RMG_libraries/reactions.py...\n",
      "database.py:255 load_libraries INFO Loading kinetics library  from /work/westgroup/harris.se/autoscience/autoscience/butane/dft/kinetics/reaction_0581/arkane/RMG_libraries/reactions.py...\n",
      "database.py:255 load_libraries INFO Loading kinetics library  from /work/westgroup/harris.se/autoscience/autoscience/butane/dft/kinetics/reaction_0591/arkane/RMG_libraries/reactions.py...\n",
      "database.py:255 load_libraries INFO Loading kinetics library  from /work/westgroup/harris.se/autoscience/autoscience/butane/dft/kinetics/reaction_0669/arkane/RMG_libraries/reactions.py...\n",
      "database.py:255 load_libraries INFO Loading kinetics library  from /work/westgroup/harris.se/autoscience/autoscience/butane/dft/kinetics/reaction_0674/arkane/RMG_libraries/reactions.py...\n",
      "database.py:255 load_libraries INFO Loading kinetics library  from /work/westgroup/harris.se/autoscience/autoscience/butane/dft/kinetics/reaction_0720/arkane/RMG_libraries/reactions.py...\n",
      "database.py:255 load_libraries INFO Loading kinetics library  from /work/westgroup/harris.se/autoscience/autoscience/butane/dft/kinetics/reaction_0722/arkane/RMG_libraries/reactions.py...\n",
      "database.py:255 load_libraries INFO Loading kinetics library  from /work/westgroup/harris.se/autoscience/autoscience/butane/dft/kinetics/reaction_0725/arkane/RMG_libraries/reactions.py...\n",
      "database.py:255 load_libraries INFO Loading kinetics library  from /work/westgroup/harris.se/autoscience/autoscience/butane/dft/kinetics/reaction_0728/arkane/RMG_libraries/reactions.py...\n",
      "database.py:255 load_libraries INFO Loading kinetics library  from /work/westgroup/harris.se/autoscience/autoscience/butane/dft/kinetics/reaction_0731/arkane/RMG_libraries/reactions.py...\n",
      "database.py:255 load_libraries INFO Loading kinetics library  from /work/westgroup/harris.se/autoscience/autoscience/butane/dft/kinetics/reaction_0739/arkane/RMG_libraries/reactions.py...\n"
     ]
    },
    {
     "name": "stderr",
     "output_type": "stream",
     "text": [
      "database.py:255 load_libraries INFO Loading kinetics library  from /work/westgroup/harris.se/autoscience/autoscience/butane/dft/kinetics/reaction_0748/arkane/RMG_libraries/reactions.py...\n",
      "database.py:255 load_libraries INFO Loading kinetics library  from /work/westgroup/harris.se/autoscience/autoscience/butane/dft/kinetics/reaction_0749/arkane/RMG_libraries/reactions.py...\n",
      "database.py:255 load_libraries INFO Loading kinetics library  from /work/westgroup/harris.se/autoscience/autoscience/butane/dft/kinetics/reaction_0754/arkane/RMG_libraries/reactions.py...\n",
      "database.py:255 load_libraries INFO Loading kinetics library  from /work/westgroup/harris.se/autoscience/autoscience/butane/dft/kinetics/reaction_0784/arkane/RMG_libraries/reactions.py...\n",
      "database.py:255 load_libraries INFO Loading kinetics library  from /work/westgroup/harris.se/autoscience/autoscience/butane/dft/kinetics/reaction_0793/arkane/RMG_libraries/reactions.py...\n",
      "database.py:255 load_libraries INFO Loading kinetics library  from /work/westgroup/harris.se/autoscience/autoscience/butane/dft/kinetics/reaction_0794/arkane/RMG_libraries/reactions.py...\n",
      "database.py:255 load_libraries INFO Loading kinetics library  from /work/westgroup/harris.se/autoscience/autoscience/butane/dft/kinetics/reaction_0795/arkane/RMG_libraries/reactions.py...\n",
      "database.py:255 load_libraries INFO Loading kinetics library  from /work/westgroup/harris.se/autoscience/autoscience/butane/dft/kinetics/reaction_0798/arkane/RMG_libraries/reactions.py...\n",
      "database.py:255 load_libraries INFO Loading kinetics library  from /work/westgroup/harris.se/autoscience/autoscience/butane/dft/kinetics/reaction_0802/arkane/RMG_libraries/reactions.py...\n",
      "database.py:255 load_libraries INFO Loading kinetics library  from /work/westgroup/harris.se/autoscience/autoscience/butane/dft/kinetics/reaction_0804/arkane/RMG_libraries/reactions.py...\n",
      "database.py:255 load_libraries INFO Loading kinetics library  from /work/westgroup/harris.se/autoscience/autoscience/butane/dft/kinetics/reaction_0805/arkane/RMG_libraries/reactions.py...\n",
      "database.py:255 load_libraries INFO Loading kinetics library  from /work/westgroup/harris.se/autoscience/autoscience/butane/dft/kinetics/reaction_0809/arkane/RMG_libraries/reactions.py...\n",
      "database.py:255 load_libraries INFO Loading kinetics library  from /work/westgroup/harris.se/autoscience/autoscience/butane/dft/kinetics/reaction_0810/arkane/RMG_libraries/reactions.py...\n",
      "database.py:255 load_libraries INFO Loading kinetics library  from /work/westgroup/harris.se/autoscience/autoscience/butane/dft/kinetics/reaction_0812/arkane/RMG_libraries/reactions.py...\n",
      "database.py:255 load_libraries INFO Loading kinetics library  from /work/westgroup/harris.se/autoscience/autoscience/butane/dft/kinetics/reaction_0894/arkane/RMG_libraries/reactions.py...\n",
      "database.py:255 load_libraries INFO Loading kinetics library  from /work/westgroup/harris.se/autoscience/autoscience/butane/dft/kinetics/reaction_0910/arkane/RMG_libraries/reactions.py...\n",
      "database.py:255 load_libraries INFO Loading kinetics library  from /work/westgroup/harris.se/autoscience/autoscience/butane/dft/kinetics/reaction_0915/arkane/RMG_libraries/reactions.py...\n",
      "database.py:255 load_libraries INFO Loading kinetics library  from /work/westgroup/harris.se/autoscience/autoscience/butane/dft/kinetics/reaction_0984/arkane/RMG_libraries/reactions.py...\n",
      "database.py:255 load_libraries INFO Loading kinetics library  from /work/westgroup/harris.se/autoscience/autoscience/butane/dft/kinetics/reaction_0994/arkane/RMG_libraries/reactions.py...\n",
      "database.py:255 load_libraries INFO Loading kinetics library  from /work/westgroup/harris.se/autoscience/autoscience/butane/dft/kinetics/reaction_1001/arkane/RMG_libraries/reactions.py...\n",
      "database.py:255 load_libraries INFO Loading kinetics library  from /work/westgroup/harris.se/autoscience/autoscience/butane/dft/kinetics/reaction_1016/arkane/RMG_libraries/reactions.py...\n",
      "database.py:255 load_libraries INFO Loading kinetics library  from /work/westgroup/harris.se/autoscience/autoscience/butane/dft/kinetics/reaction_1026/arkane/RMG_libraries/reactions.py...\n",
      "database.py:255 load_libraries INFO Loading kinetics library  from /work/westgroup/harris.se/autoscience/autoscience/butane/dft/kinetics/reaction_1063/arkane/RMG_libraries/reactions.py...\n",
      "database.py:255 load_libraries INFO Loading kinetics library  from /work/westgroup/harris.se/autoscience/autoscience/butane/dft/kinetics/reaction_1064/arkane/RMG_libraries/reactions.py...\n",
      "database.py:255 load_libraries INFO Loading kinetics library  from /work/westgroup/harris.se/autoscience/autoscience/butane/dft/kinetics/reaction_1103/arkane/RMG_libraries/reactions.py...\n",
      "database.py:255 load_libraries INFO Loading kinetics library  from /work/westgroup/harris.se/autoscience/autoscience/butane/dft/kinetics/reaction_1108/arkane/RMG_libraries/reactions.py...\n",
      "database.py:255 load_libraries INFO Loading kinetics library  from /work/westgroup/harris.se/autoscience/autoscience/butane/dft/kinetics/reaction_1114/arkane/RMG_libraries/reactions.py...\n",
      "database.py:255 load_libraries INFO Loading kinetics library  from /work/westgroup/harris.se/autoscience/autoscience/butane/dft/kinetics/reaction_1191/arkane/RMG_libraries/reactions.py...\n",
      "database.py:255 load_libraries INFO Loading kinetics library  from /work/westgroup/harris.se/autoscience/autoscience/butane/dft/kinetics/reaction_1214/arkane/RMG_libraries/reactions.py...\n",
      "database.py:255 load_libraries INFO Loading kinetics library  from /work/westgroup/harris.se/autoscience/autoscience/butane/dft/kinetics/reaction_1252/arkane/RMG_libraries/reactions.py...\n",
      "database.py:255 load_libraries INFO Loading kinetics library  from /work/westgroup/harris.se/autoscience/autoscience/butane/dft/kinetics/reaction_1254/arkane/RMG_libraries/reactions.py...\n",
      "database.py:255 load_libraries INFO Loading kinetics library  from /work/westgroup/harris.se/autoscience/autoscience/butane/dft/kinetics/reaction_1258/arkane/RMG_libraries/reactions.py...\n",
      "database.py:255 load_libraries INFO Loading kinetics library  from /work/westgroup/harris.se/autoscience/autoscience/butane/dft/kinetics/reaction_1287/arkane/RMG_libraries/reactions.py...\n",
      "database.py:255 load_libraries INFO Loading kinetics library  from /work/westgroup/harris.se/autoscience/autoscience/butane/dft/kinetics/reaction_1288/arkane/RMG_libraries/reactions.py...\n",
      "database.py:255 load_libraries INFO Loading kinetics library  from /work/westgroup/harris.se/autoscience/autoscience/butane/dft/kinetics/reaction_1289/arkane/RMG_libraries/reactions.py...\n",
      "database.py:255 load_libraries INFO Loading kinetics library  from /work/westgroup/harris.se/autoscience/autoscience/butane/dft/kinetics/reaction_1290/arkane/RMG_libraries/reactions.py...\n",
      "database.py:255 load_libraries INFO Loading kinetics library  from /work/westgroup/harris.se/autoscience/autoscience/butane/dft/kinetics/reaction_1301/arkane/RMG_libraries/reactions.py...\n",
      "database.py:255 load_libraries INFO Loading kinetics library  from /work/westgroup/harris.se/autoscience/autoscience/butane/dft/kinetics/reaction_1328/arkane/RMG_libraries/reactions.py...\n",
      "database.py:255 load_libraries INFO Loading kinetics library  from /work/westgroup/harris.se/autoscience/autoscience/butane/dft/kinetics/reaction_1342/arkane/RMG_libraries/reactions.py...\n",
      "database.py:255 load_libraries INFO Loading kinetics library  from /work/westgroup/harris.se/autoscience/autoscience/butane/dft/kinetics/reaction_1350/arkane/RMG_libraries/reactions.py...\n",
      "database.py:255 load_libraries INFO Loading kinetics library  from /work/westgroup/harris.se/autoscience/autoscience/butane/dft/kinetics/reaction_1369/arkane/RMG_libraries/reactions.py...\n",
      "database.py:255 load_libraries INFO Loading kinetics library  from /work/westgroup/harris.se/autoscience/autoscience/butane/dft/kinetics/reaction_1372/arkane/RMG_libraries/reactions.py...\n",
      "database.py:255 load_libraries INFO Loading kinetics library  from /work/westgroup/harris.se/autoscience/autoscience/butane/dft/kinetics/reaction_1398/arkane/RMG_libraries/reactions.py...\n",
      "database.py:255 load_libraries INFO Loading kinetics library  from /work/westgroup/harris.se/autoscience/autoscience/butane/dft/kinetics/reaction_1402/arkane/RMG_libraries/reactions.py...\n"
     ]
    },
    {
     "name": "stderr",
     "output_type": "stream",
     "text": [
      "database.py:255 load_libraries INFO Loading kinetics library  from /work/westgroup/harris.se/autoscience/autoscience/butane/dft/kinetics/reaction_1410/arkane/RMG_libraries/reactions.py...\n",
      "database.py:255 load_libraries INFO Loading kinetics library  from /work/westgroup/harris.se/autoscience/autoscience/butane/dft/kinetics/reaction_1509/arkane/RMG_libraries/reactions.py...\n",
      "database.py:255 load_libraries INFO Loading kinetics library  from /work/westgroup/harris.se/autoscience/autoscience/butane/dft/kinetics/reaction_1529/arkane/RMG_libraries/reactions.py...\n",
      "database.py:255 load_libraries INFO Loading kinetics library  from /work/westgroup/harris.se/autoscience/autoscience/butane/dft/kinetics/reaction_1625/arkane/RMG_libraries/reactions.py...\n",
      "database.py:255 load_libraries INFO Loading kinetics library  from /work/westgroup/harris.se/autoscience/autoscience/butane/dft/kinetics/reaction_1638/arkane/RMG_libraries/reactions.py...\n",
      "database.py:255 load_libraries INFO Loading kinetics library  from /work/westgroup/harris.se/autoscience/autoscience/butane/dft/kinetics/reaction_1646/arkane/RMG_libraries/reactions.py...\n",
      "database.py:255 load_libraries INFO Loading kinetics library  from /work/westgroup/harris.se/autoscience/autoscience/butane/dft/kinetics/reaction_1656/arkane/RMG_libraries/reactions.py...\n",
      "database.py:255 load_libraries INFO Loading kinetics library  from /work/westgroup/harris.se/autoscience/autoscience/butane/dft/kinetics/reaction_1658/arkane/RMG_libraries/reactions.py...\n",
      "database.py:255 load_libraries INFO Loading kinetics library  from /work/westgroup/harris.se/autoscience/autoscience/butane/dft/kinetics/reaction_1665/arkane/RMG_libraries/reactions.py...\n",
      "database.py:255 load_libraries INFO Loading kinetics library  from /work/westgroup/harris.se/autoscience/autoscience/butane/dft/kinetics/reaction_1685/arkane/RMG_libraries/reactions.py...\n",
      "database.py:255 load_libraries INFO Loading kinetics library  from /work/westgroup/harris.se/autoscience/autoscience/butane/dft/kinetics/reaction_1688/arkane/RMG_libraries/reactions.py...\n",
      "database.py:255 load_libraries INFO Loading kinetics library  from /work/westgroup/harris.se/autoscience/autoscience/butane/dft/kinetics/reaction_1692/arkane/RMG_libraries/reactions.py...\n",
      "database.py:255 load_libraries INFO Loading kinetics library  from /work/westgroup/harris.se/autoscience/autoscience/butane/dft/kinetics/reaction_1714/arkane/RMG_libraries/reactions.py...\n",
      "database.py:255 load_libraries INFO Loading kinetics library  from /work/westgroup/harris.se/autoscience/autoscience/butane/dft/kinetics/reaction_1717/arkane/RMG_libraries/reactions.py...\n",
      "database.py:255 load_libraries INFO Loading kinetics library  from /work/westgroup/harris.se/autoscience/autoscience/butane/dft/kinetics/reaction_1721/arkane/RMG_libraries/reactions.py...\n",
      "database.py:255 load_libraries INFO Loading kinetics library  from /work/westgroup/harris.se/autoscience/autoscience/butane/dft/kinetics/reaction_1736/arkane/RMG_libraries/reactions.py...\n",
      "database.py:255 load_libraries INFO Loading kinetics library  from /work/westgroup/harris.se/autoscience/autoscience/butane/dft/kinetics/reaction_1814/arkane/RMG_libraries/reactions.py...\n"
     ]
    },
    {
     "name": "stdout",
     "output_type": "stream",
     "text": [
      "105 entries found\n"
     ]
    }
   ],
   "source": [
    "# Load the Arkane reactions\n",
    "entries = []\n",
    "for i, lib_path in enumerate(kinetics_libs):\n",
    "    matches = re.search('reaction_([0-9]{4})', lib_path)\n",
    "    reaction_index = int(matches[1])\n",
    "    ark_kinetics_database = rmgpy.data.kinetics.KineticsDatabase()\n",
    "    ark_kinetics_database.load_libraries(lib_path)\n",
    "    \n",
    "    # TODO fix bug related to load_libraries not getting the actual name\n",
    "    for key in ark_kinetics_database.libraries[''].entries.keys():\n",
    "        entry = ark_kinetics_database.libraries[''].entries[key]\n",
    "        entry.index = reaction_index\n",
    "        entries.append(entry)\n",
    "print(len(entries), 'entries found')"
   ]
  },
  {
   "cell_type": "code",
   "execution_count": 5,
   "id": "e7a102e4",
   "metadata": {},
   "outputs": [
    {
     "name": "stdout",
     "output_type": "stream",
     "text": [
      "137 training reactions\n"
     ]
    }
   ],
   "source": [
    "# load the disproportionation family\n",
    "# Load Kinetics Database (quick, automatically loads recommended families)\n",
    "family = 'Disproportionation'\n",
    "ref_library_path = os.path.join(rmgpy.settings['database.directory'], 'kinetics')\n",
    "ref_database = rmgpy.data.kinetics.KineticsDatabase()\n",
    "ref_database.load(\n",
    "    ref_library_path,\n",
    "    libraries=[],\n",
    "    families=[family]\n",
    ")\n",
    "training_depo = ref_database.families['Disproportionation'].get_training_depository()\n",
    "print(len(training_depo.entries), 'training reactions')\n"
   ]
  },
  {
   "cell_type": "code",
   "execution_count": null,
   "id": "8e98eac2",
   "metadata": {},
   "outputs": [],
   "source": []
  },
  {
   "cell_type": "code",
   "execution_count": 6,
   "id": "662fd684",
   "metadata": {},
   "outputs": [
    {
     "name": "stdout",
     "output_type": "stream",
     "text": [
      "changing kinetics for reaction 563\tC2H5(33) + C3H5-A(94) <=> C3H6(12) + C2H4(11)\n",
      "changing kinetics for reaction 507\tC2H5(33) + NC3H7(92) <=> C2H6(32) + C3H6(12)\n",
      "changing kinetics for reaction 575\tC3H5-A(94) + NC3H7(92) <=> C3H6(12) + C3H6(12)\n",
      "changing kinetics for reaction 391\tNC3H7(92) + C2H3(22) <=> C2H4(11) + C3H6(12)\n",
      "changing kinetics for reaction 403\tNC3H7(92) + OH(15) <=> H2O(8) + C3H6(12)\n",
      "changing kinetics for reaction 784\tC4H7(190) + O2(2) <=> HO2(16) + C4H6(194)\n",
      "changing kinetics for reaction 1001\tC4H7(191) + O2(2) <=> HO2(16) + C4H6(194)\n",
      "changing kinetics for reaction 1001\tC4H7(191) + O2(2) <=> HO2(16) + C4H6(194)\n"
     ]
    }
   ],
   "source": [
    "for key in training_depo.entries: \n",
    "    for revised_entry in entries:\n",
    "        if revised_entry.item.is_isomorphic(training_depo.entries[key].item):\n",
    "            rmg_reaction_number = kineticfun.reaction_smiles2index(kineticfun.reaction2smiles(revised_entry.item))\n",
    "            print(f'changing kinetics for reaction {rmg_reaction_number}\\t{revised_entry}')\n",
    "            training_depo.entries[key].data = revised_entry.data\n",
    "            "
   ]
  },
  {
   "cell_type": "code",
   "execution_count": 7,
   "id": "5c9a67b7",
   "metadata": {},
   "outputs": [],
   "source": [
    "# Save the results over the previous reaction.py\n",
    "training_dir = os.path.join(rmgpy.settings['database.directory'], 'kinetics', 'families', family, 'training')\n",
    "training_depo.save(os.path.join(training_dir, 'reactions.py'))"
   ]
  },
  {
   "cell_type": "code",
   "execution_count": null,
   "id": "c0040206",
   "metadata": {},
   "outputs": [],
   "source": []
  },
  {
   "cell_type": "code",
   "execution_count": null,
   "id": "98d99608",
   "metadata": {},
   "outputs": [],
   "source": []
  },
  {
   "cell_type": "code",
   "execution_count": null,
   "id": "0fe3ce70",
   "metadata": {},
   "outputs": [],
   "source": []
  },
  {
   "cell_type": "code",
   "execution_count": null,
   "id": "b40bb439",
   "metadata": {},
   "outputs": [],
   "source": []
  },
  {
   "cell_type": "code",
   "execution_count": null,
   "id": "3b83ecf2",
   "metadata": {},
   "outputs": [],
   "source": []
  },
  {
   "cell_type": "code",
   "execution_count": null,
   "id": "9cf33915",
   "metadata": {},
   "outputs": [],
   "source": []
  }
 ],
 "metadata": {
  "kernelspec": {
   "display_name": "Python 3 (ipykernel)",
   "language": "python",
   "name": "python3"
  },
  "language_info": {
   "codemirror_mode": {
    "name": "ipython",
    "version": 3
   },
   "file_extension": ".py",
   "mimetype": "text/x-python",
   "name": "python",
   "nbconvert_exporter": "python",
   "pygments_lexer": "ipython3",
   "version": "3.7.12"
  }
 },
 "nbformat": 4,
 "nbformat_minor": 5
}
