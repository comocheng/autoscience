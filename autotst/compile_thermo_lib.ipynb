{
 "cells": [
  {
   "cell_type": "code",
   "execution_count": 1,
   "id": "9601527f",
   "metadata": {},
   "outputs": [],
   "source": [
    "# script to collect all of the thermo calculations and put them together into a database"
   ]
  },
  {
   "cell_type": "code",
   "execution_count": 8,
   "id": "10a32eaf",
   "metadata": {},
   "outputs": [],
   "source": [
    "import os\n",
    "import re\n",
    "import glob\n",
    "import rmgpy.data.thermo\n",
    "\n",
    "import numpy as np\n",
    "import matplotlib.pyplot as plt\n",
    "from collections import OrderedDict"
   ]
  },
  {
   "cell_type": "code",
   "execution_count": 9,
   "id": "0549f019",
   "metadata": {},
   "outputs": [
    {
     "name": "stdout",
     "output_type": "stream",
     "text": [
      "110 thermo libs\n"
     ]
    }
   ],
   "source": [
    "DFT_DIR = \"/work/westgroup/harris.se/autoscience/autoscience/butane/dft/\"\n",
    "thermo_libs = glob.glob(os.path.join(DFT_DIR, 'thermo', 'species*', 'arkane', 'RMG_libraries'))\n",
    "print(f'{len(thermo_libs)} thermo libs')"
   ]
  },
  {
   "cell_type": "code",
   "execution_count": 10,
   "id": "cca5e080",
   "metadata": {},
   "outputs": [
    {
     "name": "stdout",
     "output_type": "stream",
     "text": [
      "110 entries\n"
     ]
    }
   ],
   "source": [
    "# Load the Arkane thermo\n",
    "entries = []\n",
    "for i, lib_path in enumerate(thermo_libs):\n",
    "    matches = re.search('species_([0-9]{4})', lib_path)\n",
    "    species_index = int(matches[1])\n",
    "    ark_thermo_database = rmgpy.data.thermo.ThermoDatabase()\n",
    "    ark_thermo_database.load_libraries(\n",
    "        lib_path,\n",
    "    )\n",
    "\n",
    "    for key in ark_thermo_database.libraries['thermo'].entries.keys():\n",
    "        entry = ark_thermo_database.libraries['thermo'].entries[key]\n",
    "        entry.index = species_index\n",
    "        entry.label = entry.item.smiles\n",
    "        entries.append(entry)\n",
    "print(f'{len(entries)} entries')"
   ]
  },
  {
   "cell_type": "code",
   "execution_count": 11,
   "id": "767e36f5",
   "metadata": {},
   "outputs": [
    {
     "name": "stdout",
     "output_type": "stream",
     "text": [
      "110\n",
      "110\n"
     ]
    }
   ],
   "source": [
    "# check the number of entries and unique labels\n",
    "labels = [entry.item.smiles for entry in entries]\n",
    "print(len(labels))\n",
    "labels = set(labels)\n",
    "print(len(labels))"
   ]
  },
  {
   "cell_type": "code",
   "execution_count": 12,
   "id": "7801b288",
   "metadata": {},
   "outputs": [],
   "source": [
    "# compile it all into a single database and a single library which I'll call harris_butane\n",
    "ark_thermo_database = rmgpy.data.thermo.ThermoDatabase()\n",
    "ark_thermo_database.libraries['thermo'] = rmgpy.data.thermo.ThermoLibrary()\n",
    "ark_thermo_database.libraries['thermo'].label = 'harris_butane'\n",
    "ark_thermo_database.libraries['thermo'].entries = OrderedDict()\n",
    "for entry in entries:\n",
    "    ark_thermo_database.libraries['thermo'].entries[entry.label] = entry"
   ]
  },
  {
   "cell_type": "code",
   "execution_count": 13,
   "id": "20284bc2",
   "metadata": {},
   "outputs": [],
   "source": [
    "# save the results\n",
    "output_path = os.path.join(DFT_DIR, 'thermo', 'thermo')\n",
    "ark_thermo_database.save_libraries(output_path)"
   ]
  },
  {
   "cell_type": "code",
   "execution_count": 14,
   "id": "39937735",
   "metadata": {},
   "outputs": [
    {
     "data": {
      "text/plain": [
       "110"
      ]
     },
     "execution_count": 14,
     "metadata": {},
     "output_type": "execute_result"
    }
   ],
   "source": [
    "len(ark_thermo_database.libraries['thermo'].entries)"
   ]
  },
  {
   "cell_type": "code",
   "execution_count": null,
   "id": "ef8b773f",
   "metadata": {},
   "outputs": [],
   "source": []
  }
 ],
 "metadata": {
  "kernelspec": {
   "display_name": "Python 3 (ipykernel)",
   "language": "python",
   "name": "python3"
  },
  "language_info": {
   "codemirror_mode": {
    "name": "ipython",
    "version": 3
   },
   "file_extension": ".py",
   "mimetype": "text/x-python",
   "name": "python",
   "nbconvert_exporter": "python",
   "pygments_lexer": "ipython3",
   "version": "3.7.12"
  }
 },
 "nbformat": 4,
 "nbformat_minor": 5
}
