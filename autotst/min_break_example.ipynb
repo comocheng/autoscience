{
 "cells": [
  {
   "cell_type": "code",
   "execution_count": null,
   "id": "8c591535",
   "metadata": {},
   "outputs": [],
   "source": [
    "# script to test error where depository save adds properties it later can't read"
   ]
  },
  {
   "cell_type": "code",
   "execution_count": 1,
   "id": "6b66c012",
   "metadata": {},
   "outputs": [],
   "source": [
    "import os\n",
    "\n",
    "import rmgpy.data.kinetics\n",
    "import rmgpy.reaction\n",
    "import rmgpy.species\n",
    "import rmgpy.chemkin\n",
    "import rmgpy.kinetics\n",
    "from collections import OrderedDict"
   ]
  },
  {
   "cell_type": "code",
   "execution_count": 2,
   "id": "3cf45090",
   "metadata": {},
   "outputs": [
    {
     "name": "stdout",
     "output_type": "stream",
     "text": [
      "137 training reactions\n"
     ]
    }
   ],
   "source": [
    "ref_library_path = \"/home/harris.se/rmg/RMG-database/input/kinetics/\"\n",
    "family = 'Disproportionation'\n",
    "ref_database = rmgpy.data.kinetics.KineticsDatabase()\n",
    "ref_database.load(\n",
    "    ref_library_path,\n",
    "    libraries=[],\n",
    "    families=[family]\n",
    ")\n",
    "training_depo = ref_database.families[family].get_training_depository()\n",
    "print(len(training_depo.entries), 'training reactions')\n"
   ]
  },
  {
   "cell_type": "code",
   "execution_count": 3,
   "id": "86bbf2cd",
   "metadata": {},
   "outputs": [
    {
     "name": "stdout",
     "output_type": "stream",
     "text": [
      "[O]O + C[CH2] <=> OO + C=C\n"
     ]
    }
   ],
   "source": [
    "# define the species in the example\n",
    "r1 = rmgpy.species.Species(smiles='[O]O')\n",
    "r2 = rmgpy.species.Species(smiles='C[CH2]')\n",
    "p1 = rmgpy.species.Species(smiles='OO')\n",
    "p2 = rmgpy.species.Species(smiles='C=C')\n",
    "\n",
    "my_reaction = rmgpy.reaction.Reaction()\n",
    "my_reaction.reactants = [r1, r2]\n",
    "my_reaction.products = [p1, p2]\n",
    "my_reaction.elementary_high_p = True\n",
    "my_reaction.kinetics = rmgpy.kinetics.Arrhenius(\n",
    "    A=(100.07,'cm^3/(mol*s)'),\n",
    "    n=3.43775,\n",
    "    Ea=(48.6525,'kJ/mol'),\n",
    "    T0=(1,'K'),\n",
    "    Tmin=(298,'K'),\n",
    "    Tmax=(2500,'K'),\n",
    "    comment=\"\"\"Fitted to 50 data points; dA = *|/ 1.15458, dn = +|- 0.0188838, dEa = +|- 0.102765 kJ/mol\"\"\"\n",
    ")\n",
    "print(my_reaction)\n",
    "\n",
    "my_entry = rmgpy.data.base.Entry(\n",
    "    label=str(my_reaction),\n",
    "    item=my_reaction,\n",
    "    data=my_reaction.kinetics\n",
    ")\n"
   ]
  },
  {
   "cell_type": "code",
   "execution_count": 4,
   "id": "de5f84e1",
   "metadata": {},
   "outputs": [
    {
     "name": "stdout",
     "output_type": "stream",
     "text": [
      "137\n",
      "138\n"
     ]
    }
   ],
   "source": [
    "# add it to the training depo -- need to do it to the actual Disproportionation family\n",
    "print(len(training_depo.entries))\n",
    "training_depo.entries[1000] = my_entry\n",
    "print(len(training_depo.entries))\n"
   ]
  },
  {
   "cell_type": "code",
   "execution_count": 5,
   "id": "735f45e7",
   "metadata": {},
   "outputs": [],
   "source": [
    "# save the training depo\n",
    "training_depo.save_dictionary(os.path.join(ref_library_path, 'families', family, 'training', 'dictionary.txt'))\n",
    "training_depo.save(os.path.join(ref_library_path, 'families', family, 'training', 'reactions.py'))\n"
   ]
  },
  {
   "cell_type": "code",
   "execution_count": 6,
   "id": "2ea74cf6",
   "metadata": {},
   "outputs": [
    {
     "name": "stderr",
     "output_type": "stream",
     "text": [
      "ERROR:root:Error while reading database '/home/harris.se/rmg/RMG-database/input/kinetics/families/Disproportionation/training/reactions.py'.\n",
      "ERROR:root:Error when loading reaction family '/home/harris.se/rmg/RMG-database/input/kinetics/families/Disproportionation'\n"
     ]
    },
    {
     "ename": "TypeError",
     "evalue": "load_entry() got an unexpected keyword argument 'elementary_high_p'",
     "output_type": "error",
     "traceback": [
      "\u001b[0;31m---------------------------------------------------------------------------\u001b[0m",
      "\u001b[0;31mTypeError\u001b[0m                                 Traceback (most recent call last)",
      "\u001b[0;32m/tmp/ipykernel_10285/145653366.py\u001b[0m in \u001b[0;36m<module>\u001b[0;34m\u001b[0m\n\u001b[1;32m      7\u001b[0m     \u001b[0mref_library_path\u001b[0m\u001b[0;34m,\u001b[0m\u001b[0;34m\u001b[0m\u001b[0;34m\u001b[0m\u001b[0m\n\u001b[1;32m      8\u001b[0m     \u001b[0mlibraries\u001b[0m\u001b[0;34m=\u001b[0m\u001b[0;34m[\u001b[0m\u001b[0;34m]\u001b[0m\u001b[0;34m,\u001b[0m\u001b[0;34m\u001b[0m\u001b[0;34m\u001b[0m\u001b[0m\n\u001b[0;32m----> 9\u001b[0;31m     \u001b[0mfamilies\u001b[0m\u001b[0;34m=\u001b[0m\u001b[0;34m[\u001b[0m\u001b[0mfamily\u001b[0m\u001b[0;34m]\u001b[0m\u001b[0;34m\u001b[0m\u001b[0;34m\u001b[0m\u001b[0m\n\u001b[0m\u001b[1;32m     10\u001b[0m )\n\u001b[1;32m     11\u001b[0m \u001b[0mtraining_depo\u001b[0m \u001b[0;34m=\u001b[0m \u001b[0mref_database\u001b[0m\u001b[0;34m.\u001b[0m\u001b[0mfamilies\u001b[0m\u001b[0;34m[\u001b[0m\u001b[0mfamily\u001b[0m\u001b[0;34m]\u001b[0m\u001b[0;34m.\u001b[0m\u001b[0mget_training_depository\u001b[0m\u001b[0;34m(\u001b[0m\u001b[0;34m)\u001b[0m\u001b[0;34m\u001b[0m\u001b[0;34m\u001b[0m\u001b[0m\n",
      "\u001b[0;32m~/rmg/RMG-Py/rmgpy/data/kinetics/database.py\u001b[0m in \u001b[0;36mload\u001b[0;34m(self, path, families, libraries, depositories)\u001b[0m\n\u001b[1;32m    109\u001b[0m         \"\"\"\n\u001b[1;32m    110\u001b[0m         \u001b[0mself\u001b[0m\u001b[0;34m.\u001b[0m\u001b[0mload_recommended_families\u001b[0m\u001b[0;34m(\u001b[0m\u001b[0mos\u001b[0m\u001b[0;34m.\u001b[0m\u001b[0mpath\u001b[0m\u001b[0;34m.\u001b[0m\u001b[0mjoin\u001b[0m\u001b[0;34m(\u001b[0m\u001b[0mpath\u001b[0m\u001b[0;34m,\u001b[0m \u001b[0;34m'families'\u001b[0m\u001b[0;34m,\u001b[0m \u001b[0;34m'recommended.py'\u001b[0m\u001b[0;34m)\u001b[0m\u001b[0;34m)\u001b[0m\u001b[0;34m,\u001b[0m\u001b[0;34m\u001b[0m\u001b[0;34m\u001b[0m\u001b[0m\n\u001b[0;32m--> 111\u001b[0;31m         \u001b[0mself\u001b[0m\u001b[0;34m.\u001b[0m\u001b[0mload_families\u001b[0m\u001b[0;34m(\u001b[0m\u001b[0mos\u001b[0m\u001b[0;34m.\u001b[0m\u001b[0mpath\u001b[0m\u001b[0;34m.\u001b[0m\u001b[0mjoin\u001b[0m\u001b[0;34m(\u001b[0m\u001b[0mpath\u001b[0m\u001b[0;34m,\u001b[0m \u001b[0;34m'families'\u001b[0m\u001b[0;34m)\u001b[0m\u001b[0;34m,\u001b[0m \u001b[0mfamilies\u001b[0m\u001b[0;34m,\u001b[0m \u001b[0mdepositories\u001b[0m\u001b[0;34m)\u001b[0m\u001b[0;34m\u001b[0m\u001b[0;34m\u001b[0m\u001b[0m\n\u001b[0m\u001b[1;32m    112\u001b[0m         \u001b[0mself\u001b[0m\u001b[0;34m.\u001b[0m\u001b[0mload_libraries\u001b[0m\u001b[0;34m(\u001b[0m\u001b[0mos\u001b[0m\u001b[0;34m.\u001b[0m\u001b[0mpath\u001b[0m\u001b[0;34m.\u001b[0m\u001b[0mjoin\u001b[0m\u001b[0;34m(\u001b[0m\u001b[0mpath\u001b[0m\u001b[0;34m,\u001b[0m \u001b[0;34m'libraries'\u001b[0m\u001b[0;34m)\u001b[0m\u001b[0;34m,\u001b[0m \u001b[0mlibraries\u001b[0m\u001b[0;34m)\u001b[0m\u001b[0;34m\u001b[0m\u001b[0;34m\u001b[0m\u001b[0m\n\u001b[1;32m    113\u001b[0m \u001b[0;34m\u001b[0m\u001b[0m\n",
      "\u001b[0;32m~/rmg/RMG-Py/rmgpy/data/kinetics/database.py\u001b[0m in \u001b[0;36mload_families\u001b[0;34m(self, path, families, depositories)\u001b[0m\n\u001b[1;32m    213\u001b[0m             \u001b[0mfamily\u001b[0m \u001b[0;34m=\u001b[0m \u001b[0mKineticsFamily\u001b[0m\u001b[0;34m(\u001b[0m\u001b[0mlabel\u001b[0m\u001b[0;34m=\u001b[0m\u001b[0mlabel\u001b[0m\u001b[0;34m)\u001b[0m\u001b[0;34m\u001b[0m\u001b[0;34m\u001b[0m\u001b[0m\n\u001b[1;32m    214\u001b[0m             \u001b[0;32mtry\u001b[0m\u001b[0;34m:\u001b[0m\u001b[0;34m\u001b[0m\u001b[0;34m\u001b[0m\u001b[0m\n\u001b[0;32m--> 215\u001b[0;31m                 \u001b[0mfamily\u001b[0m\u001b[0;34m.\u001b[0m\u001b[0mload\u001b[0m\u001b[0;34m(\u001b[0m\u001b[0mfamily_path\u001b[0m\u001b[0;34m,\u001b[0m \u001b[0mself\u001b[0m\u001b[0;34m.\u001b[0m\u001b[0mlocal_context\u001b[0m\u001b[0;34m,\u001b[0m \u001b[0mself\u001b[0m\u001b[0;34m.\u001b[0m\u001b[0mglobal_context\u001b[0m\u001b[0;34m,\u001b[0m \u001b[0mdepository_labels\u001b[0m\u001b[0;34m=\u001b[0m\u001b[0mdepositories\u001b[0m\u001b[0;34m)\u001b[0m\u001b[0;34m\u001b[0m\u001b[0;34m\u001b[0m\u001b[0m\n\u001b[0m\u001b[1;32m    216\u001b[0m             \u001b[0;32mexcept\u001b[0m\u001b[0;34m:\u001b[0m\u001b[0;34m\u001b[0m\u001b[0;34m\u001b[0m\u001b[0m\n\u001b[1;32m    217\u001b[0m                 \u001b[0mlogging\u001b[0m\u001b[0;34m.\u001b[0m\u001b[0merror\u001b[0m\u001b[0;34m(\u001b[0m\u001b[0;34m\"Error when loading reaction family {!r}\"\u001b[0m\u001b[0;34m.\u001b[0m\u001b[0mformat\u001b[0m\u001b[0;34m(\u001b[0m\u001b[0mfamily_path\u001b[0m\u001b[0;34m)\u001b[0m\u001b[0;34m)\u001b[0m\u001b[0;34m\u001b[0m\u001b[0;34m\u001b[0m\u001b[0m\n",
      "\u001b[0;32m~/rmg/RMG-Py/rmgpy/data/kinetics/family.py\u001b[0m in \u001b[0;36mload\u001b[0;34m(self, path, local_context, global_context, depository_labels)\u001b[0m\n\u001b[1;32m    816\u001b[0m             \u001b[0mdepository\u001b[0m \u001b[0;34m=\u001b[0m \u001b[0mKineticsDepository\u001b[0m\u001b[0;34m(\u001b[0m\u001b[0mlabel\u001b[0m\u001b[0;34m=\u001b[0m\u001b[0mlabel\u001b[0m\u001b[0;34m)\u001b[0m\u001b[0;34m\u001b[0m\u001b[0;34m\u001b[0m\u001b[0m\n\u001b[1;32m    817\u001b[0m             \u001b[0mlogging\u001b[0m\u001b[0;34m.\u001b[0m\u001b[0mdebug\u001b[0m\u001b[0;34m(\u001b[0m\u001b[0;34m\"Loading kinetics family depository from {0}\"\u001b[0m\u001b[0;34m.\u001b[0m\u001b[0mformat\u001b[0m\u001b[0;34m(\u001b[0m\u001b[0mf_path\u001b[0m\u001b[0;34m)\u001b[0m\u001b[0;34m)\u001b[0m\u001b[0;34m\u001b[0m\u001b[0;34m\u001b[0m\u001b[0m\n\u001b[0;32m--> 818\u001b[0;31m             \u001b[0mdepository\u001b[0m\u001b[0;34m.\u001b[0m\u001b[0mload\u001b[0m\u001b[0;34m(\u001b[0m\u001b[0mf_path\u001b[0m\u001b[0;34m,\u001b[0m \u001b[0mlocal_context\u001b[0m\u001b[0;34m,\u001b[0m \u001b[0mglobal_context\u001b[0m\u001b[0;34m)\u001b[0m\u001b[0;34m\u001b[0m\u001b[0;34m\u001b[0m\u001b[0m\n\u001b[0m\u001b[1;32m    819\u001b[0m             \u001b[0mself\u001b[0m\u001b[0;34m.\u001b[0m\u001b[0mdepositories\u001b[0m\u001b[0;34m.\u001b[0m\u001b[0mappend\u001b[0m\u001b[0;34m(\u001b[0m\u001b[0mdepository\u001b[0m\u001b[0;34m)\u001b[0m\u001b[0;34m\u001b[0m\u001b[0;34m\u001b[0m\u001b[0m\n\u001b[1;32m    820\u001b[0m \u001b[0;34m\u001b[0m\u001b[0m\n",
      "\u001b[0;32m~/rmg/RMG-Py/rmgpy/data/kinetics/depository.py\u001b[0m in \u001b[0;36mload\u001b[0;34m(self, path, local_context, global_context)\u001b[0m\n\u001b[1;32m    128\u001b[0m     \u001b[0;32mdef\u001b[0m \u001b[0mload\u001b[0m\u001b[0;34m(\u001b[0m\u001b[0mself\u001b[0m\u001b[0;34m,\u001b[0m \u001b[0mpath\u001b[0m\u001b[0;34m,\u001b[0m \u001b[0mlocal_context\u001b[0m\u001b[0;34m=\u001b[0m\u001b[0;32mNone\u001b[0m\u001b[0;34m,\u001b[0m \u001b[0mglobal_context\u001b[0m\u001b[0;34m=\u001b[0m\u001b[0;32mNone\u001b[0m\u001b[0;34m)\u001b[0m\u001b[0;34m:\u001b[0m\u001b[0;34m\u001b[0m\u001b[0;34m\u001b[0m\u001b[0m\n\u001b[1;32m    129\u001b[0m         \u001b[0;32mimport\u001b[0m \u001b[0mos\u001b[0m\u001b[0;34m\u001b[0m\u001b[0;34m\u001b[0m\u001b[0m\n\u001b[0;32m--> 130\u001b[0;31m         \u001b[0mDatabase\u001b[0m\u001b[0;34m.\u001b[0m\u001b[0mload\u001b[0m\u001b[0;34m(\u001b[0m\u001b[0mself\u001b[0m\u001b[0;34m,\u001b[0m \u001b[0mpath\u001b[0m\u001b[0;34m,\u001b[0m \u001b[0mlocal_context\u001b[0m\u001b[0;34m,\u001b[0m \u001b[0mglobal_context\u001b[0m\u001b[0;34m)\u001b[0m\u001b[0;34m\u001b[0m\u001b[0;34m\u001b[0m\u001b[0m\n\u001b[0m\u001b[1;32m    131\u001b[0m \u001b[0;34m\u001b[0m\u001b[0m\n\u001b[1;32m    132\u001b[0m         \u001b[0;31m# Load the species in the kinetics library\u001b[0m\u001b[0;34m\u001b[0m\u001b[0;34m\u001b[0m\u001b[0;34m\u001b[0m\u001b[0m\n",
      "\u001b[0;32m~/rmg/RMG-Py/rmgpy/data/base.py\u001b[0m in \u001b[0;36mload\u001b[0;34m(self, path, local_context, global_context)\u001b[0m\n\u001b[1;32m    239\u001b[0m         \u001b[0mf\u001b[0m \u001b[0;34m=\u001b[0m \u001b[0mopen\u001b[0m\u001b[0;34m(\u001b[0m\u001b[0mpath\u001b[0m\u001b[0;34m,\u001b[0m \u001b[0;34m'r'\u001b[0m\u001b[0;34m)\u001b[0m\u001b[0;34m\u001b[0m\u001b[0;34m\u001b[0m\u001b[0m\n\u001b[1;32m    240\u001b[0m         \u001b[0;32mtry\u001b[0m\u001b[0;34m:\u001b[0m\u001b[0;34m\u001b[0m\u001b[0;34m\u001b[0m\u001b[0m\n\u001b[0;32m--> 241\u001b[0;31m             \u001b[0mexec\u001b[0m\u001b[0;34m(\u001b[0m\u001b[0mf\u001b[0m\u001b[0;34m.\u001b[0m\u001b[0mread\u001b[0m\u001b[0;34m(\u001b[0m\u001b[0;34m)\u001b[0m\u001b[0;34m,\u001b[0m \u001b[0mglobal_context\u001b[0m\u001b[0;34m,\u001b[0m \u001b[0mlocal_context\u001b[0m\u001b[0;34m)\u001b[0m\u001b[0;34m\u001b[0m\u001b[0;34m\u001b[0m\u001b[0m\n\u001b[0m\u001b[1;32m    242\u001b[0m         \u001b[0;32mexcept\u001b[0m \u001b[0mException\u001b[0m\u001b[0;34m:\u001b[0m\u001b[0;34m\u001b[0m\u001b[0;34m\u001b[0m\u001b[0m\n\u001b[1;32m    243\u001b[0m             \u001b[0mlogging\u001b[0m\u001b[0;34m.\u001b[0m\u001b[0merror\u001b[0m\u001b[0;34m(\u001b[0m\u001b[0;34m'Error while reading database {0!r}.'\u001b[0m\u001b[0;34m.\u001b[0m\u001b[0mformat\u001b[0m\u001b[0;34m(\u001b[0m\u001b[0mpath\u001b[0m\u001b[0;34m)\u001b[0m\u001b[0;34m)\u001b[0m\u001b[0;34m\u001b[0m\u001b[0;34m\u001b[0m\u001b[0m\n",
      "\u001b[0;32m<string>\u001b[0m in \u001b[0;36m<module>\u001b[0;34m\u001b[0m\n",
      "\u001b[0;31mTypeError\u001b[0m: load_entry() got an unexpected keyword argument 'elementary_high_p'"
     ]
    }
   ],
   "source": [
    "# try to read it again\n",
    "\n",
    "ref_library_path = \"/home/harris.se/rmg/RMG-database/input/kinetics/\"\n",
    "family = 'Disproportionation'\n",
    "ref_database = rmgpy.data.kinetics.KineticsDatabase()\n",
    "ref_database.load(\n",
    "    ref_library_path,\n",
    "    libraries=[],\n",
    "    families=[family]\n",
    ")\n",
    "training_depo = ref_database.families[family].get_training_depository()\n",
    "print(len(training_depo.entries), 'training reactions')"
   ]
  },
  {
   "cell_type": "code",
   "execution_count": null,
   "id": "a7645626",
   "metadata": {},
   "outputs": [],
   "source": []
  }
 ],
 "metadata": {
  "kernelspec": {
   "display_name": "Python 3 (ipykernel)",
   "language": "python",
   "name": "python3"
  },
  "language_info": {
   "codemirror_mode": {
    "name": "ipython",
    "version": 3
   },
   "file_extension": ".py",
   "mimetype": "text/x-python",
   "name": "python",
   "nbconvert_exporter": "python",
   "pygments_lexer": "ipython3",
   "version": "3.7.12"
  }
 },
 "nbformat": 4,
 "nbformat_minor": 5
}
