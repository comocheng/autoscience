{
 "cells": [
  {
   "cell_type": "code",
   "execution_count": 1,
   "id": "9601527f",
   "metadata": {},
   "outputs": [],
   "source": [
    "# script to collect all of the kinetic calculations for this node in Disproportionation:\n",
    "# Root_Ext-2R!H-R_2R!H->C_4R->C \n",
    "# and put them together into a database\n"
   ]
  },
  {
   "cell_type": "code",
   "execution_count": 2,
   "id": "10a32eaf",
   "metadata": {},
   "outputs": [],
   "source": [
    "import os\n",
    "import re\n",
    "import glob\n",
    "import itertools\n",
    "\n",
    "import rmgpy.reaction\n",
    "import rmgpy.chemkin\n",
    "import rmgpy.data.kinetics\n",
    "\n",
    "import numpy as np\n",
    "import matplotlib.pyplot as plt\n",
    "from collections import OrderedDict"
   ]
  },
  {
   "cell_type": "code",
   "execution_count": 3,
   "id": "0549f019",
   "metadata": {},
   "outputs": [],
   "source": [
    "DFT_DIR = \"/work/westgroup/harris.se/autoscience/autoscience/butane/dft/\"\n",
    "kinetics_libs = glob.glob(os.path.join(DFT_DIR, 'kinetics', 'reaction*', 'arkane', 'RMG_libraries'))"
   ]
  },
  {
   "cell_type": "code",
   "execution_count": 4,
   "id": "7e9ddd6d",
   "metadata": {},
   "outputs": [
    {
     "name": "stdout",
     "output_type": "stream",
     "text": [
      "110 species, 1822 reactions\n"
     ]
    }
   ],
   "source": [
    "# only include reactions that belong to the disproportionation family\n",
    "\n",
    "# Load the base model\n",
    "basedir = '/work/westgroup/harris.se/autoscience/autoscience/butane/models/rmg_model'\n",
    "base_chemkin = os.path.join(basedir, 'chem_annotated.inp')\n",
    "dictionary = os.path.join(basedir, 'species_dictionary.txt')\n",
    "transport = os.path.join(basedir, 'tran.dat')\n",
    "species_list, reaction_list = rmgpy.chemkin.load_chemkin_file(base_chemkin, dictionary_path=dictionary, transport_path=transport)\n",
    "print(f'{len(species_list)} species, {len(reaction_list)} reactions')\n",
    "\n"
   ]
  },
  {
   "cell_type": "code",
   "execution_count": 5,
   "id": "cca5e080",
   "metadata": {},
   "outputs": [],
   "source": [
    "# Load the Arkane kinetics\n",
    "entries = []\n",
    "for i, lib_path in enumerate(kinetics_libs):\n",
    "    matches = re.search('reaction_([0-9]{4})', lib_path)\n",
    "    reaction_index = int(matches[1])\n",
    "    # skip entries not in Disproportionation\n",
    "    if reaction_list[reaction_index].family != 'Disproportionation':\n",
    "        continue\n",
    "    ark_kinetics_database = rmgpy.data.kinetics.KineticsDatabase()\n",
    "    ark_kinetics_database.load_libraries(lib_path)\n",
    "    \n",
    "    # TODO fix bug related to load_libraries not getting the actual name\n",
    "    for key in ark_kinetics_database.libraries[''].entries.keys():\n",
    "        entry = ark_kinetics_database.libraries[''].entries[key]\n",
    "        entry.index = reaction_index\n",
    "        entries.append(entry)\n"
   ]
  },
  {
   "cell_type": "code",
   "execution_count": 6,
   "id": "7801b288",
   "metadata": {},
   "outputs": [],
   "source": [
    "# compile it all into a single database and a single library which I'll call harris_butane\n",
    "ark_kinetics_database = rmgpy.data.kinetics.KineticsDatabase()\n",
    "ark_kinetics_database.libraries['kinetics'] = rmgpy.data.kinetics.KineticsLibrary()\n",
    "ark_kinetics_database.libraries['kinetics'].label = 'harris_butane'\n",
    "ark_kinetics_database.libraries['kinetics'].name = 'harris_butane'\n",
    "ark_kinetics_database.libraries['kinetics'].entries = OrderedDict()\n",
    "for entry in entries:\n",
    "    ark_kinetics_database.libraries['kinetics'].entries[entry.label] = entry"
   ]
  },
  {
   "cell_type": "code",
   "execution_count": 7,
   "id": "20284bc2",
   "metadata": {},
   "outputs": [],
   "source": [
    "# save the results\n",
    "output_path = os.path.join(DFT_DIR, 'disproportionation_kinetics')\n",
    "ark_kinetics_database.save_libraries(output_path, reindex=False)"
   ]
  },
  {
   "cell_type": "code",
   "execution_count": 8,
   "id": "9483f088",
   "metadata": {},
   "outputs": [
    {
     "name": "stdout",
     "output_type": "stream",
     "text": [
      "64 saved\n"
     ]
    }
   ],
   "source": [
    "print(len(entries), 'saved')"
   ]
  },
  {
   "cell_type": "code",
   "execution_count": 9,
   "id": "13591973",
   "metadata": {
    "scrolled": true
   },
   "outputs": [],
   "source": [
    "# for entry in entries:\n",
    "#     print(entry.index)"
   ]
  },
  {
   "cell_type": "code",
   "execution_count": 10,
   "id": "5c9a67b7",
   "metadata": {},
   "outputs": [
    {
     "data": {
      "text/plain": [
       "<Entry index=213 label=\"C2H5(33) + HO2(16) <=> H2O2(17) + C2H4(11)\">"
      ]
     },
     "execution_count": 10,
     "metadata": {},
     "output_type": "execute_result"
    }
   ],
   "source": [
    "entries[0]"
   ]
  },
  {
   "cell_type": "code",
   "execution_count": null,
   "id": "c0040206",
   "metadata": {},
   "outputs": [],
   "source": []
  },
  {
   "cell_type": "code",
   "execution_count": null,
   "id": "98d99608",
   "metadata": {},
   "outputs": [],
   "source": []
  },
  {
   "cell_type": "code",
   "execution_count": 11,
   "id": "0fe3ce70",
   "metadata": {},
   "outputs": [],
   "source": [
    "# load the disproportionation database\n",
    "# load the thermo database\n",
    "thermo_libs = [\n",
    "    'BurkeH2O2',\n",
    "    'primaryThermoLibrary',\n",
    "    'FFCM1(-)',\n",
    "    'CurranPentane',\n",
    "    'Klippenstein_Glarborg2016',\n",
    "    'thermo_DFT_CCSDTF12_BAC',\n",
    "    'DFT_QCI_thermo',\n",
    "    'CBS_QB3_1dHR',\n",
    "]\n",
    "\n",
    "thermo_library_path = os.path.join(rmgpy.settings['database.directory'], 'thermo')\n",
    "thermo_database = rmgpy.data.thermo.ThermoDatabase()\n",
    "thermo_database.load(\n",
    "    thermo_library_path,\n",
    "    libraries=thermo_libs\n",
    ")\n",
    "\n",
    "\n",
    "# load the revised Disproportionation family\n",
    "family = 'Disproportionation'\n",
    "ref_library_path = os.path.join(rmgpy.settings['database.directory'], 'kinetics')\n",
    "kinetics_database = rmgpy.data.kinetics.KineticsDatabase()\n",
    "kinetics_database.load(\n",
    "    ref_library_path,\n",
    "    libraries=[],\n",
    "    families=[family]\n",
    ")\n",
    "\n",
    "# load the entire database\n",
    "ref_db = rmgpy.data.rmg.RMGDatabase()\n",
    "ref_db.kinetics = kinetics_database\n",
    "ref_db.thermo = thermo_database"
   ]
  },
  {
   "cell_type": "code",
   "execution_count": null,
   "id": "b40bb439",
   "metadata": {},
   "outputs": [],
   "source": [
    "# i = 213\n",
    "# templates = ref_db.kinetics.generate_reactions(\n",
    "#     reaction_list[i].reactants,\n",
    "#     products=reaction_list[i].products,\n",
    "#     only_families=[family]\n",
    "# )"
   ]
  },
  {
   "cell_type": "code",
   "execution_count": null,
   "id": "6c805b9d",
   "metadata": {},
   "outputs": [],
   "source": [
    "# def get_species(lib_sp):\n",
    "#     for mechanism_sp in species_list:\n",
    "#         if mechanism_sp.is_isomorphic(lib_sp):\n",
    "#             return mechanism_sp"
   ]
  },
  {
   "cell_type": "code",
   "execution_count": null,
   "id": "0031efe4",
   "metadata": {},
   "outputs": [],
   "source": []
  },
  {
   "cell_type": "code",
   "execution_count": 12,
   "id": "203ae53d",
   "metadata": {},
   "outputs": [],
   "source": [
    "def relabel(input_reaction):\n",
    "    # copied from AutoTST.autotst.reaction.py\n",
    "    def get_rmg_mol(smile):\n",
    "        smiles_conversions = {\n",
    "                \"[CH]\": \"[CH...]\",\n",
    "                \"CARBONMONOXIDE\": \"[C-]#[O+]\"\n",
    "            }\n",
    "\n",
    "        if smile.upper() in list(smiles_conversions.keys()):\n",
    "            smile = smiles_conversions[smile.upper()]\n",
    "        return rmgpy.molecule.Molecule(smiles=smile).generate_resonance_structures()\n",
    "    \n",
    "    rmg_reactants = [get_rmg_mol(sp.smiles) for sp in input_reaction.reactants]\n",
    "    rmg_products = [get_rmg_mol(sp.smiles) for sp in input_reaction.products]\n",
    "\n",
    "    combos_to_try = list(itertools.product(\n",
    "                list(itertools.product(*rmg_reactants)),\n",
    "                list(itertools.product(*rmg_products))\n",
    "            ))\n",
    "    \n",
    "    for rmg_reactants, rmg_products in combos_to_try:\n",
    "\n",
    "        test_reaction = rmgpy.reaction.Reaction(\n",
    "            reactants=list(rmg_reactants),\n",
    "            products=list(rmg_products)\n",
    "        )\n",
    "\n",
    "        try:\n",
    "            labeled_r, labeled_p = ref_db.kinetics.families[family].get_labeled_reactants_and_products(\n",
    "                test_reaction.reactants,\n",
    "                test_reaction.products\n",
    "            )\n",
    "\n",
    "            \n",
    "            for i in range(0, len(input_reaction.reactants)):\n",
    "                for reactant in labeled_r:\n",
    "                    if input_reaction.reactants[i].molecule[0].is_isomorphic(reactant):\n",
    "                        input_reaction.reactants[i].molecule[0] = reactant\n",
    "                        break\n",
    "            for i in range(0, len(input_reaction.products)):\n",
    "                for product in labeled_p:\n",
    "                    if input_reaction.products[i].molecule[0].is_isomorphic(product):\n",
    "                        input_reaction.products[i].molecule[0] = product\n",
    "            return True\n",
    "#             return labeled_r, labeled_p\n",
    "\n",
    "        except:\n",
    "            raise\n",
    "            pass\n",
    "    return False"
   ]
  },
  {
   "cell_type": "code",
   "execution_count": 13,
   "id": "0d9be32c",
   "metadata": {},
   "outputs": [],
   "source": [
    "def print_labels(rxn):\n",
    "    for sp in rxn.reactants + rxn.products:\n",
    "        print(sp.molecule[0].get_all_labeled_atoms())"
   ]
  },
  {
   "cell_type": "code",
   "execution_count": 17,
   "id": "71712b31",
   "metadata": {},
   "outputs": [
    {
     "name": "stdout",
     "output_type": "stream",
     "text": [
      "{'*1': <Atom 'O.'>}\n",
      "{'*2': <Atom 'C'>, '*3': <Atom 'C.'>, '*4': <Atom 'H'>}\n",
      "{'*1': <Atom 'O'>, '*4': <Atom 'H'>}\n",
      "{'*3': <Atom 'C'>, '*2': <Atom 'C'>}\n",
      "{'*1': <Atom 'O.'>}\n",
      "{'*2': <Atom 'C'>, '*3': <Atom 'C.'>, '*4': <Atom 'H'>}\n",
      "{'*1': <Atom 'O'>, '*4': <Atom 'H'>}\n",
      "{'*3': <Atom 'C'>, '*2': <Atom 'C'>}\n"
     ]
    }
   ],
   "source": [
    "idx = 213\n",
    "\n",
    "print_labels(reaction_list[idx])\n",
    "relabel(reaction_list[idx])\n",
    "print_labels(reaction_list[idx])\n",
    "\n"
   ]
  },
  {
   "cell_type": "code",
   "execution_count": null,
   "id": "5cf451a1",
   "metadata": {},
   "outputs": [],
   "source": []
  },
  {
   "cell_type": "code",
   "execution_count": null,
   "id": "c4d632b1",
   "metadata": {},
   "outputs": [],
   "source": [
    "ark_kinetics_database.libraries[\"kinetics\"].entries[idx].item.reactants[1].molecule[0].generate_resonance_structures()"
   ]
  },
  {
   "cell_type": "code",
   "execution_count": 21,
   "id": "3b83ecf2",
   "metadata": {},
   "outputs": [
    {
     "name": "stdout",
     "output_type": "stream",
     "text": [
      "{}\n",
      "{}\n",
      "{}\n",
      "{}\n",
      "{'*2': <Atom 'C'>, '*3': <Atom 'C.'>, '*4': <Atom 'H'>}\n",
      "{'*1': <Atom 'O.'>}\n",
      "{'*1': <Atom 'O'>, '*4': <Atom 'H'>}\n",
      "{'*2': <Atom 'C'>, '*3': <Atom 'C'>}\n"
     ]
    }
   ],
   "source": [
    "idx = 213\n",
    "\n",
    "print_labels(ark_kinetics_database.libraries[\"kinetics\"].entries[idx].item)\n",
    "relabel(ark_kinetics_database.libraries[\"kinetics\"].entries[idx].item)\n",
    "print_labels(ark_kinetics_database.libraries[\"kinetics\"].entries[idx].item)\n"
   ]
  },
  {
   "cell_type": "code",
   "execution_count": null,
   "id": "9cf33915",
   "metadata": {},
   "outputs": [],
   "source": []
  },
  {
   "cell_type": "code",
   "execution_count": null,
   "id": "e4e6d417",
   "metadata": {},
   "outputs": [],
   "source": [
    "# This portion copied from rmg_tools/database/add_training_reactions"
   ]
  },
  {
   "cell_type": "code",
   "execution_count": 18,
   "id": "1900f8ec",
   "metadata": {},
   "outputs": [],
   "source": [
    "import os\n",
    "import numpy as np\n",
    "import matplotlib.pyplot as plt\n",
    "\n",
    "import rmgpy.data.thermo\n",
    "import rmgpy.data.kinetics\n",
    "import rmgpy.reaction\n",
    "import rmgpy.species\n",
    "import rmgpy\n",
    "\n",
    "import rmgpy.chemkin"
   ]
  },
  {
   "cell_type": "code",
   "execution_count": 19,
   "id": "e16ba307",
   "metadata": {},
   "outputs": [],
   "source": [
    "def duplicate_exists(test_entry):\n",
    "    for entry in training_depo.entries:\n",
    "        if training_depo.entries[entry].item.is_isomorphic(test_entry.item):\n",
    "            return True\n",
    "    return False"
   ]
  },
  {
   "cell_type": "code",
   "execution_count": 20,
   "id": "a4ed0bb4",
   "metadata": {},
   "outputs": [
    {
     "name": "stdout",
     "output_type": "stream",
     "text": [
      "64 new reactions loaded\n"
     ]
    }
   ],
   "source": [
    "# load the new training reactions\n",
    "new_training_rxns = output_path\n",
    "ark_kinetics_database = rmgpy.data.kinetics.KineticsDatabase()\n",
    "ark_kinetics_database.load_libraries(new_training_rxns)\n",
    "print(f'{len(ark_kinetics_database.libraries[\"kinetics\"].entries)} new reactions loaded')"
   ]
  },
  {
   "cell_type": "code",
   "execution_count": 37,
   "id": "0b58a76f",
   "metadata": {},
   "outputs": [
    {
     "name": "stdout",
     "output_type": "stream",
     "text": [
      "213\n",
      "{'*1': <Atom 'C.'>}\n",
      "{'*1': <Atom 'O.'>}\n",
      "{'*1': <Atom 'O'>, '*4': <Atom 'H'>}\n",
      "{'*1': <Atom 'C'>, '*4': <Atom 'H'>}\n",
      "-----------------------------------------\n",
      "{'*2': <Atom 'C'>, '*3': <Atom 'C.'>, '*4': <Atom 'H'>}\n",
      "{'*1': <Atom 'O.'>}\n",
      "{'*1': <Atom 'O'>, '*4': <Atom 'H'>}\n",
      "{'*2': <Atom 'C'>, '*3': <Atom 'C'>}\n",
      "\n",
      "390\n",
      "{'*2': <Atom 'C'>, '*3': <Atom 'C.'>, '*4': <Atom 'H'>}\n",
      "{'*1': <Atom 'C..'>}\n",
      "{'*1': <Atom 'C.'>}\n",
      "{'*3': <Atom 'C'>, '*2': <Atom 'C'>}\n",
      "-----------------------------------------\n",
      "{'*2': <Atom 'C'>, '*3': <Atom 'C.'>, '*4': <Atom 'H'>}\n",
      "{'*1': <Atom 'C..'>}\n",
      "{'*1': <Atom 'C.'>, '*4': <Atom 'H'>}\n",
      "{'*3': <Atom 'C'>, '*2': <Atom 'C'>}\n",
      "\n",
      "391\n",
      "{'*2': <Atom 'C'>, '*3': <Atom 'C.'>, '*4': <Atom 'H'>}\n",
      "{'*1': <Atom 'C.'>}\n",
      "{'*2': <Atom 'C'>, '*3': <Atom 'C'>}\n",
      "{'*3': <Atom 'C'>, '*2': <Atom 'C'>}\n",
      "-----------------------------------------\n",
      "{'*2': <Atom 'C'>, '*3': <Atom 'C.'>, '*4': <Atom 'H'>}\n",
      "{'*1': <Atom 'C.'>}\n",
      "{'*1': <Atom 'C'>, '*4': <Atom 'H'>}\n",
      "{'*2': <Atom 'C'>, '*3': <Atom 'C'>}\n",
      "\n",
      "402\n",
      "{'*1': <Atom 'C'>, '*4': <Atom 'H'>}\n",
      "{'*1': <Atom 'C..'>}\n",
      "{'*1': <Atom 'C.'>, '*4': <Atom 'H'>}\n",
      "{'*3': <Atom 'C'>, '*2': <Atom 'C'>}\n",
      "-----------------------------------------\n",
      "{'*2': <Atom 'C'>, '*3': <Atom 'C.'>, '*4': <Atom 'H'>}\n",
      "{'*1': <Atom 'C..'>}\n",
      "{'*1': <Atom 'C.'>, '*4': <Atom 'H'>}\n",
      "{'*3': <Atom 'C'>, '*2': <Atom 'C'>}\n",
      "\n",
      "403\n",
      "{'*2': <Atom 'C'>, '*3': <Atom 'C.'>, '*4': <Atom 'H'>}\n",
      "{'*1': <Atom 'O.'>}\n",
      "{'*1': <Atom 'O'>, '*4': <Atom 'H'>}\n",
      "{'*2': <Atom 'C'>, '*3': <Atom 'C'>}\n",
      "-----------------------------------------\n",
      "{'*2': <Atom 'C'>, '*3': <Atom 'C.'>, '*4': <Atom 'H'>}\n",
      "{'*1': <Atom 'O.'>}\n",
      "{'*1': <Atom 'O'>, '*4': <Atom 'H'>}\n",
      "{'*2': <Atom 'C'>, '*3': <Atom 'C'>}\n",
      "\n",
      "411\n",
      "{'*2': <Atom 'C'>, '*3': <Atom 'C.'>, '*4': <Atom 'H'>}\n",
      "{'*1': <Atom 'C.'>, '*4': <Atom 'H'>}\n",
      "{'*1': <Atom 'C'>, '*4': <Atom 'H'>}\n",
      "{'*3': <Atom 'C'>, '*2': <Atom 'C'>}\n",
      "-----------------------------------------\n",
      "{'*2': <Atom 'C'>, '*3': <Atom 'C.'>, '*4': <Atom 'H'>}\n",
      "{'*1': <Atom 'C.'>}\n",
      "{'*1': <Atom 'C'>, '*4': <Atom 'H'>}\n",
      "{'*3': <Atom 'C'>, '*2': <Atom 'C'>}\n",
      "\n",
      "418\n",
      "{'*1': <Atom 'C.'>}\n",
      "{'*1': <Atom 'O.'>}\n",
      "{'*1': <Atom 'O'>, '*4': <Atom 'H'>}\n",
      "{'*3': <Atom 'C'>, '*2': <Atom 'C'>}\n",
      "-----------------------------------------\n",
      "{'*2': <Atom 'C'>, '*3': <Atom 'C.'>, '*4': <Atom 'H'>}\n",
      "{'*1': <Atom 'O.'>}\n",
      "{'*1': <Atom 'O'>, '*4': <Atom 'H'>}\n",
      "{'*2': <Atom 'C'>, '*3': <Atom 'C'>}\n",
      "\n",
      "419\n",
      "{'*3': <Atom 'C.'>, '*2': <Atom 'C'>, '*4': <Atom 'H'>}\n",
      "{'*1': <Atom 'O.'>}\n",
      "{'*1': <Atom 'O'>, '*4': <Atom 'H'>}\n",
      "{'*2': <Atom 'C'>, '*3': <Atom 'C'>}\n",
      "-----------------------------------------\n",
      "{'*3': <Atom 'C.'>, '*2': <Atom 'C'>, '*4': <Atom 'H'>}\n",
      "{'*1': <Atom 'O.'>}\n",
      "{'*1': <Atom 'O'>, '*4': <Atom 'H'>}\n",
      "{'*3': <Atom 'C'>, '*2': <Atom 'C'>}\n",
      "\n",
      "420\n",
      "{'*2': <Atom 'C'>, '*3': <Atom 'C.'>, '*4': <Atom 'H'>}\n",
      "{'*1': <Atom 'O.'>}\n",
      "{'*1': <Atom 'O'>, '*4': <Atom 'H'>}\n",
      "{'*2': <Atom 'C'>, '*3': <Atom 'C'>}\n",
      "-----------------------------------------\n",
      "{'*2': <Atom 'C'>, '*3': <Atom 'C.'>, '*4': <Atom 'H'>}\n",
      "{'*1': <Atom 'O.'>}\n",
      "{'*1': <Atom 'O'>, '*4': <Atom 'H'>}\n",
      "{'*2': <Atom 'C'>, '*3': <Atom 'C'>}\n",
      "\n",
      "422\n",
      "{'*2': <Atom 'C'>, '*3': <Atom 'C.'>, '*4': <Atom 'H'>}\n",
      "{'*1': <Atom 'O.'>}\n",
      "{'*1': <Atom 'O'>, '*4': <Atom 'H'>}\n",
      "{'*3': <Atom 'C'>, '*2': <Atom 'C'>}\n",
      "-----------------------------------------\n",
      "{'*2': <Atom 'C'>, '*3': <Atom 'C.'>, '*4': <Atom 'H'>}\n",
      "{'*1': <Atom 'O.'>}\n",
      "{'*1': <Atom 'O'>, '*4': <Atom 'H'>}\n",
      "{'*3': <Atom 'C'>, '*2': <Atom 'C'>}\n",
      "\n",
      "427\n",
      "{'*3': <Atom 'C.'>, '*2': <Atom 'C'>, '*4': <Atom 'H'>}\n",
      "{'*3': <Atom 'C.'>, '*2': <Atom 'C'>, '*4': <Atom 'H'>}\n",
      "{'*1': <Atom 'C'>, '*4': <Atom 'H'>}\n",
      "{'*3': <Atom 'C'>, '*2': <Atom 'C'>}\n",
      "-----------------------------------------\n",
      "{'*1': <Atom 'C.'>}\n",
      "{'*1': <Atom 'C.'>}\n",
      "{'*1': <Atom 'C'>, '*4': <Atom 'H'>}\n",
      "{'*3': <Atom 'C'>, '*2': <Atom 'C'>}\n",
      "\n",
      "433\n",
      "{'*2': <Atom 'C'>, '*3': <Atom 'C.'>, '*4': <Atom 'H'>}\n",
      "{'*1': <Atom 'C.'>}\n",
      "{'*3': <Atom 'O'>, '*2': <Atom 'C'>}\n",
      "{'*3': <Atom 'C'>, '*2': <Atom 'C'>}\n",
      "-----------------------------------------\n",
      "{'*2': <Atom 'C'>, '*3': <Atom 'C.'>, '*4': <Atom 'H'>}\n",
      "{'*1': <Atom 'C.'>}\n",
      "{'*1': <Atom 'C'>, '*4': <Atom 'H'>}\n",
      "{'*3': <Atom 'C'>, '*2': <Atom 'C'>}\n",
      "\n",
      "438\n",
      "{'*2': <Atom 'C'>, '*3': <Atom 'C.'>, '*4': <Atom 'H'>}\n",
      "{'*1': <Atom 'C.'>}\n",
      "{'*1': <Atom 'C'>, '*4': <Atom 'H'>}\n",
      "{'*2': <Atom 'C'>, '*3': <Atom 'C'>}\n",
      "-----------------------------------------\n",
      "{'*2': <Atom 'C'>, '*3': <Atom 'C.'>, '*4': <Atom 'H'>}\n",
      "{'*1': <Atom 'C.'>}\n",
      "{'*1': <Atom 'C'>, '*4': <Atom 'H'>}\n",
      "{'*3': <Atom 'C'>, '*2': <Atom 'C'>}\n",
      "\n",
      "445\n",
      "{'*2': <Atom 'C'>, '*3': <Atom 'C.'>, '*4': <Atom 'H'>}\n",
      "{'*2': <Atom 'C'>, '*3': <Atom 'C.'>, '*4': <Atom 'H'>}\n",
      "{'*1': <Atom 'C'>, '*4': <Atom 'H'>}\n",
      "{'*3': <Atom 'C'>, '*2': <Atom 'C'>}\n",
      "-----------------------------------------\n",
      "{'*2': <Atom 'C'>, '*3': <Atom 'C.'>, '*4': <Atom 'H'>}\n",
      "{'*1': <Atom 'C.'>}\n",
      "{'*1': <Atom 'C'>, '*4': <Atom 'H'>}\n",
      "{'*3': <Atom 'C'>, '*2': <Atom 'C'>}\n",
      "\n",
      "507\n",
      "{'*2': <Atom 'C'>, '*3': <Atom 'C.'>, '*4': <Atom 'H'>}\n",
      "{'*2': <Atom 'C'>, '*3': <Atom 'C.'>, '*4': <Atom 'H'>}\n",
      "{'*1': <Atom 'C'>, '*4': <Atom 'H'>}\n",
      "{'*3': <Atom 'C'>, '*2': <Atom 'C'>}\n",
      "-----------------------------------------\n",
      "{'*1': <Atom 'C.'>}\n",
      "{'*2': <Atom 'C'>, '*3': <Atom 'C.'>, '*4': <Atom 'H'>}\n",
      "{'*1': <Atom 'C'>, '*4': <Atom 'H'>}\n",
      "{'*2': <Atom 'C'>, '*3': <Atom 'C'>}\n",
      "\n",
      "574\n",
      "{'*3': <Atom 'O.'>, '*2': <Atom 'C'>, '*4': <Atom 'H'>}\n",
      "{'*1': <Atom 'C.'>}\n",
      "{'*2': <Atom 'C'>, '*3': <Atom 'C'>}\n",
      "{'*1': <Atom 'C'>, '*4': <Atom 'H'>}\n",
      "-----------------------------------------\n",
      "{'*3': <Atom 'O.'>, '*2': <Atom 'C'>, '*4': <Atom 'H'>}\n",
      "{'*1': <Atom 'C.'>}\n",
      "{'*1': <Atom 'C'>, '*4': <Atom 'H'>}\n",
      "{'*3': <Atom 'O'>, '*2': <Atom 'C'>}\n",
      "\n",
      "575\n",
      "{'*1': <Atom 'C.'>}\n",
      "{'*2': <Atom 'C'>, '*3': <Atom 'C.'>, '*4': <Atom 'H'>}\n",
      "{'*1': <Atom 'C'>, '*4': <Atom 'H'>}\n",
      "{'*1': <Atom 'C'>, '*4': <Atom 'H'>}\n",
      "-----------------------------------------\n",
      "{'*1': <Atom 'C.'>}\n",
      "{'*2': <Atom 'C'>, '*3': <Atom 'C.'>, '*4': <Atom 'H'>}\n",
      "{'*2': <Atom 'C'>, '*3': <Atom 'C'>}\n",
      "{'*2': <Atom 'C'>, '*3': <Atom 'C'>}\n",
      "\n",
      "579\n",
      "{'*2': <Atom 'C'>, '*3': <Atom 'C.'>, '*4': <Atom 'H'>}\n",
      "{'*1': <Atom 'C.'>}\n",
      "{'*2': <Atom 'C'>, '*3': <Atom 'C'>}\n",
      "{'*3': <Atom 'C'>, '*2': <Atom 'C'>}\n",
      "-----------------------------------------\n",
      "{'*2': <Atom 'C'>, '*3': <Atom 'C.'>, '*4': <Atom 'H'>}\n",
      "{'*1': <Atom 'C.'>}\n",
      "{'*1': <Atom 'C'>, '*4': <Atom 'H'>}\n",
      "{'*3': <Atom 'C'>, '*2': <Atom 'C'>}\n",
      "\n",
      "581\n",
      "{'*1': <Atom 'C.'>}\n",
      "{'*1': <Atom 'C.'>}\n",
      "{'*1': <Atom 'C'>, '*4': <Atom 'H'>}\n",
      "{'*3': <Atom 'C'>, '*2': <Atom 'C'>}\n",
      "-----------------------------------------\n",
      "{'*1': <Atom 'C.'>}\n",
      "{'*3': <Atom 'C.'>, '*2': <Atom 'C'>, '*4': <Atom 'H'>}\n",
      "{'*1': <Atom 'C'>, '*4': <Atom 'H'>}\n",
      "{'*3': <Atom 'C'>, '*2': <Atom 'C'>}\n",
      "\n",
      "669\n",
      "{'*2': <Atom 'C'>, '*3': <Atom 'C.'>, '*4': <Atom 'H'>}\n",
      "{'*1': <Atom 'C.'>}\n",
      "{'*2': <Atom 'C'>, '*3': <Atom 'C.'>, '*4': <Atom 'H'>}\n",
      "{'*1': <Atom 'C'>, '*4': <Atom 'H'>}\n",
      "-----------------------------------------\n",
      "{'*2': <Atom 'C'>, '*3': <Atom 'C.'>, '*4': <Atom 'H'>}\n",
      "{'*1': <Atom 'C.'>}\n",
      "{'*1': <Atom 'C'>, '*4': <Atom 'H'>}\n",
      "{'*3': <Atom 'C'>, '*2': <Atom 'C'>}\n",
      "\n",
      "674\n",
      "{'*1': <Atom 'C'>, '*4': <Atom 'H'>}\n",
      "{'*1': <Atom 'C.'>}\n",
      "{'*1': <Atom 'C'>, '*4': <Atom 'H'>}\n",
      "{'*3': <Atom 'C'>, '*2': <Atom 'C'>}\n",
      "-----------------------------------------\n",
      "{'*1': <Atom 'C'>, '*4': <Atom 'H'>}\n",
      "{'*1': <Atom 'C.'>}\n",
      "{'*1': <Atom 'C'>, '*4': <Atom 'H'>}\n",
      "{'*3': <Atom 'C'>, '*2': <Atom 'C'>}\n",
      "\n",
      "720\n",
      "{}\n",
      "{'*3': <Atom 'C.'>, '*2': <Atom 'C'>, '*4': <Atom 'H'>}\n",
      "{'*2': <Atom 'C'>, '*3': <Atom 'C'>}\n",
      "{'*3': <Atom 'C'>, '*2': <Atom 'C'>}\n"
     ]
    },
    {
     "ename": "ActionError",
     "evalue": "Something wrong with products that RMG cannot find a match!",
     "output_type": "error",
     "traceback": [
      "\u001b[0;31m---------------------------------------------------------------------------\u001b[0m",
      "\u001b[0;31mActionError\u001b[0m                               Traceback (most recent call last)",
      "\u001b[0;32m/tmp/ipykernel_7677/4251845410.py\u001b[0m in \u001b[0;36m<module>\u001b[0;34m\u001b[0m\n\u001b[1;32m      6\u001b[0m \u001b[0;31m#     print(index, ark_kinetics_database.libraries[\"kinetics\"].entries[entry].item.reactants[0].molecule[0].get_all_labeled_atoms())\u001b[0m\u001b[0;34m\u001b[0m\u001b[0;34m\u001b[0m\u001b[0;34m\u001b[0m\u001b[0m\n\u001b[1;32m      7\u001b[0m \u001b[0;31m#     print(index, ark_kinetics_database.libraries[\"kinetics\"].entries[entry].item.reactants[1].molecule[0].get_all_labeled_atoms())\u001b[0m\u001b[0;34m\u001b[0m\u001b[0;34m\u001b[0m\u001b[0;34m\u001b[0m\u001b[0m\n\u001b[0;32m----> 8\u001b[0;31m     \u001b[0mrelabel\u001b[0m\u001b[0;34m(\u001b[0m\u001b[0mark_kinetics_database\u001b[0m\u001b[0;34m.\u001b[0m\u001b[0mlibraries\u001b[0m\u001b[0;34m[\u001b[0m\u001b[0;34m\"kinetics\"\u001b[0m\u001b[0;34m]\u001b[0m\u001b[0;34m.\u001b[0m\u001b[0mentries\u001b[0m\u001b[0;34m[\u001b[0m\u001b[0mentry\u001b[0m\u001b[0;34m]\u001b[0m\u001b[0;34m.\u001b[0m\u001b[0mitem\u001b[0m\u001b[0;34m)\u001b[0m\u001b[0;34m\u001b[0m\u001b[0;34m\u001b[0m\u001b[0m\n\u001b[0m\u001b[1;32m      9\u001b[0m     \u001b[0mprint\u001b[0m\u001b[0;34m(\u001b[0m\u001b[0;34m'-----------------------------------------'\u001b[0m\u001b[0;34m)\u001b[0m\u001b[0;34m\u001b[0m\u001b[0;34m\u001b[0m\u001b[0m\n\u001b[1;32m     10\u001b[0m     \u001b[0mprint_labels\u001b[0m\u001b[0;34m(\u001b[0m\u001b[0mark_kinetics_database\u001b[0m\u001b[0;34m.\u001b[0m\u001b[0mlibraries\u001b[0m\u001b[0;34m[\u001b[0m\u001b[0;34m\"kinetics\"\u001b[0m\u001b[0;34m]\u001b[0m\u001b[0;34m.\u001b[0m\u001b[0mentries\u001b[0m\u001b[0;34m[\u001b[0m\u001b[0mentry\u001b[0m\u001b[0;34m]\u001b[0m\u001b[0;34m.\u001b[0m\u001b[0mitem\u001b[0m\u001b[0;34m)\u001b[0m\u001b[0;34m\u001b[0m\u001b[0;34m\u001b[0m\u001b[0m\n",
      "\u001b[0;32m/tmp/ipykernel_7677/2007763601.py\u001b[0m in \u001b[0;36mrelabel\u001b[0;34m(input_reaction)\u001b[0m\n\u001b[1;32m     29\u001b[0m             labeled_r, labeled_p = ref_db.kinetics.families[family].get_labeled_reactants_and_products(\n\u001b[1;32m     30\u001b[0m                 \u001b[0mtest_reaction\u001b[0m\u001b[0;34m.\u001b[0m\u001b[0mreactants\u001b[0m\u001b[0;34m,\u001b[0m\u001b[0;34m\u001b[0m\u001b[0;34m\u001b[0m\u001b[0m\n\u001b[0;32m---> 31\u001b[0;31m                 \u001b[0mtest_reaction\u001b[0m\u001b[0;34m.\u001b[0m\u001b[0mproducts\u001b[0m\u001b[0;34m\u001b[0m\u001b[0;34m\u001b[0m\u001b[0m\n\u001b[0m\u001b[1;32m     32\u001b[0m             )\n\u001b[1;32m     33\u001b[0m \u001b[0;34m\u001b[0m\u001b[0m\n",
      "\u001b[0;32m~/rmg/RMG-Py/rmgpy/data/kinetics/family.py\u001b[0m in \u001b[0;36mget_labeled_reactants_and_products\u001b[0;34m(self, reactants, products, relabel_atoms)\u001b[0m\n\u001b[1;32m   2829\u001b[0m         \u001b[0;31m# raise exception\u001b[0m\u001b[0;34m\u001b[0m\u001b[0;34m\u001b[0m\u001b[0;34m\u001b[0m\u001b[0m\n\u001b[1;32m   2830\u001b[0m         \u001b[0;32mif\u001b[0m \u001b[0mnum_mappings\u001b[0m \u001b[0;34m>\u001b[0m \u001b[0;36m0\u001b[0m\u001b[0;34m:\u001b[0m\u001b[0;34m\u001b[0m\u001b[0;34m\u001b[0m\u001b[0m\n\u001b[0;32m-> 2831\u001b[0;31m             \u001b[0;32mraise\u001b[0m \u001b[0mActionError\u001b[0m\u001b[0;34m(\u001b[0m\u001b[0;34m'Something wrong with products that RMG cannot find a match!'\u001b[0m\u001b[0;34m)\u001b[0m\u001b[0;34m\u001b[0m\u001b[0;34m\u001b[0m\u001b[0m\n\u001b[0m\u001b[1;32m   2832\u001b[0m \u001b[0;34m\u001b[0m\u001b[0m\n\u001b[1;32m   2833\u001b[0m         \u001b[0;32mreturn\u001b[0m \u001b[0;32mNone\u001b[0m\u001b[0;34m,\u001b[0m \u001b[0;32mNone\u001b[0m\u001b[0;34m\u001b[0m\u001b[0;34m\u001b[0m\u001b[0m\n",
      "\u001b[0;31mActionError\u001b[0m: Something wrong with products that RMG cannot find a match!"
     ]
    }
   ],
   "source": [
    "# actually relabel all of the atoms from the entry\n",
    "for entry in ark_kinetics_database.libraries[\"kinetics\"].entries:\n",
    "    index = ark_kinetics_database.libraries[\"kinetics\"].entries[entry].index\n",
    "    print(index)\n",
    "    print_labels(ark_kinetics_database.libraries[\"kinetics\"].entries[entry].item)\n",
    "#     print(index, ark_kinetics_database.libraries[\"kinetics\"].entries[entry].item.reactants[0].molecule[0].get_all_labeled_atoms())\n",
    "#     print(index, ark_kinetics_database.libraries[\"kinetics\"].entries[entry].item.reactants[1].molecule[0].get_all_labeled_atoms())\n",
    "    relabel(ark_kinetics_database.libraries[\"kinetics\"].entries[entry].item)\n",
    "    print('-----------------------------------------')\n",
    "    print_labels(ark_kinetics_database.libraries[\"kinetics\"].entries[entry].item)\n",
    "#     print(index, ark_kinetics_database.libraries[\"kinetics\"].entries[entry].item.reactants[0].molecule[0].get_all_labeled_atoms())\n",
    "#     print(index, ark_kinetics_database.libraries[\"kinetics\"].entries[entry].item.reactants[1].molecule[0].get_all_labeled_atoms())\n",
    "    print()"
   ]
  },
  {
   "cell_type": "code",
   "execution_count": 25,
   "id": "23b0f7a1",
   "metadata": {},
   "outputs": [
    {
     "name": "stdout",
     "output_type": "stream",
     "text": [
      "{'*1': <Atom 'C.'>}\n",
      "{'*1': <Atom 'O.'>}\n",
      "{'*1': <Atom 'O'>, '*4': <Atom 'H'>}\n",
      "{'*1': <Atom 'C'>, '*4': <Atom 'H'>}\n",
      "{'*2': <Atom 'C'>, '*3': <Atom 'C.'>, '*4': <Atom 'H'>}\n",
      "{'*1': <Atom 'O.'>}\n",
      "{'*1': <Atom 'O'>, '*4': <Atom 'H'>}\n",
      "{'*2': <Atom 'C'>, '*3': <Atom 'C'>}\n"
     ]
    }
   ],
   "source": [
    "idx = 213\n",
    "\n",
    "print_labels(ark_kinetics_database.libraries[\"kinetics\"].entries[idx].item)\n",
    "relabel(ark_kinetics_database.libraries[\"kinetics\"].entries[idx].item)\n",
    "print_labels(ark_kinetics_database.libraries[\"kinetics\"].entries[idx].item)\n"
   ]
  },
  {
   "cell_type": "code",
   "execution_count": null,
   "id": "a737db34",
   "metadata": {},
   "outputs": [],
   "source": []
  },
  {
   "cell_type": "code",
   "execution_count": null,
   "id": "aee9b76d",
   "metadata": {},
   "outputs": [],
   "source": [
    "# check labeling for reaction 213\n",
    "print(ark_kinetics_database.libraries[\"kinetics\"].entries[213].item)\n",
    "print()\n",
    "\n",
    "for sp in ark_kinetics_database.libraries[\"kinetics\"].entries[213].item.reactants + ark_kinetics_database.libraries[\"kinetics\"].entries[213].item.products:\n",
    "    print(sp, sp.molecule[0].get_all_labeled_atoms())"
   ]
  },
  {
   "cell_type": "code",
   "execution_count": null,
   "id": "f4eb5362",
   "metadata": {},
   "outputs": [],
   "source": []
  },
  {
   "cell_type": "code",
   "execution_count": null,
   "id": "ad861988",
   "metadata": {},
   "outputs": [],
   "source": []
  },
  {
   "cell_type": "code",
   "execution_count": null,
   "id": "65189960",
   "metadata": {},
   "outputs": [],
   "source": [
    "# Load Kinetics Database (quick, automatically loads recommended families)\n",
    "family = 'Disproportionation'\n",
    "ref_library_path = os.path.join(rmgpy.settings['database.directory'], 'kinetics')\n",
    "ref_database = rmgpy.data.kinetics.KineticsDatabase()\n",
    "ref_database.load(\n",
    "    ref_library_path,\n",
    "    libraries=[],\n",
    "    families=[family]\n",
    ")\n",
    "training_depo = ref_database.families['Disproportionation'].get_training_depository()\n",
    "print(len(training_depo.entries), 'training reactions')"
   ]
  },
  {
   "cell_type": "code",
   "execution_count": null,
   "id": "087ebe4e",
   "metadata": {},
   "outputs": [],
   "source": [
    "species_dict = training_depo.get_species(os.path.join(rmgpy.settings['database.directory'], 'kinetics', 'families', family, 'training', 'dictionary.txt'))"
   ]
  },
  {
   "cell_type": "markdown",
   "id": "b51f38e8",
   "metadata": {},
   "source": [
    "## Redo the species dictionary to include everything we'll need"
   ]
  },
  {
   "cell_type": "code",
   "execution_count": null,
   "id": "b0d532bf",
   "metadata": {},
   "outputs": [],
   "source": [
    "def equivalent_labels(dict1, dict2):\n",
    "    try:\n",
    "        for key in dict1.keys():\n",
    "            if dict2[key].atomtype != dict1[key].atomtype:\n",
    "                return False\n",
    "        for key in dict2.keys():\n",
    "            if dict2[key].atomtype != dict1[key].atomtype:\n",
    "                return False\n",
    "    except KeyError:\n",
    "        return False\n",
    "    return True\n",
    "\n",
    "# # should return true\n",
    "# equivalent_labels(\n",
    "#     ark_kinetics_database.libraries[\"kinetics\"].entries[213].item.reactants[0].molecule[0].get_all_labeled_atoms(),\n",
    "#     species_dict['C2H5'].molecule[0].get_all_labeled_atoms()\n",
    "# )"
   ]
  },
  {
   "cell_type": "code",
   "execution_count": null,
   "id": "4e472ac6",
   "metadata": {},
   "outputs": [],
   "source": [
    "def get_species(sp):\n",
    "    # look for the species in the training depo and return it IF it has same labeling\n",
    "    for key in species_dict.keys():\n",
    "        if sp.is_isomorphic(species_dict[key]):\n",
    "            if equivalent_labels(sp.molecule[0].get_all_labeled_atoms(), species_dict[key].molecule[0].get_all_labeled_atoms()):\n",
    "                return species_dict[key]"
   ]
  },
  {
   "cell_type": "code",
   "execution_count": null,
   "id": "82e8cd38",
   "metadata": {},
   "outputs": [],
   "source": [
    "print(ark_kinetics_database.libraries[\"kinetics\"].entries[213].item.reactants[0].molecule[0].get_all_labeled_atoms())\n",
    "\n",
    "dict_spec = get_species(ark_kinetics_database.libraries[\"kinetics\"].entries[213].item.reactants[0])\n",
    "print(dict_spec)\n",
    "\n",
    "print(dict_spec.molecule[0].get_all_labeled_atoms())"
   ]
  },
  {
   "cell_type": "code",
   "execution_count": null,
   "id": "ccd79451",
   "metadata": {},
   "outputs": [],
   "source": []
  },
  {
   "cell_type": "code",
   "execution_count": null,
   "id": "bb1a0412",
   "metadata": {},
   "outputs": [],
   "source": [
    "entries_to_add = set()\n",
    "for entry in ark_kinetics_database.libraries[\"kinetics\"].entries:\n",
    "    reactants = ark_kinetics_database.libraries[\"kinetics\"].entries[entry].item.reactants\n",
    "    products = ark_kinetics_database.libraries[\"kinetics\"].entries[entry].item.products\n",
    "    for sp in reactants + products:\n",
    "        dict_sp = get_species(sp)\n",
    "        if not dict_sp:\n",
    "#             print('Exact Entry not found:', sp, sp.molecule[0].get_all_labeled_atoms())\n",
    "            entries_to_add.add(sp)\n",
    "\n",
    "for sp in entries_to_add:\n",
    "    if sp.label in species_dict.keys():\n",
    "        raise ValueError(f'duplicate {sp.label}')\n",
    "\n",
    "    species_dict[sp.label] = sp"
   ]
  },
  {
   "cell_type": "code",
   "execution_count": null,
   "id": "944dfcf7",
   "metadata": {},
   "outputs": [],
   "source": [
    "# save and reload the dictionary\n",
    "training_dir = os.path.join(rmgpy.settings['database.directory'], 'kinetics', 'families', family, 'training')\n",
    "training_depo.save_dictionary(os.path.join(training_dir, 'dictionary.txt'))\n",
    "\n",
    "# Load Kinetics Database (quick, automatically loads recommended families)\n",
    "family = 'Disproportionation'\n",
    "ref_library_path = os.path.join(rmgpy.settings['database.directory'], 'kinetics')\n",
    "ref_database = rmgpy.data.kinetics.KineticsDatabase()\n",
    "ref_database.load(\n",
    "    ref_library_path,\n",
    "    libraries=[],\n",
    "    families=[family]\n",
    ")\n",
    "training_depo = ref_database.families['Disproportionation'].get_training_depository()\n",
    "print(len(training_depo.entries), 'training reactions')"
   ]
  },
  {
   "cell_type": "code",
   "execution_count": null,
   "id": "76d5a2dc",
   "metadata": {},
   "outputs": [],
   "source": []
  },
  {
   "cell_type": "code",
   "execution_count": null,
   "id": "eb8db0b7",
   "metadata": {},
   "outputs": [],
   "source": []
  },
  {
   "cell_type": "code",
   "execution_count": null,
   "id": "61fae4b8",
   "metadata": {},
   "outputs": [],
   "source": [
    "# check that there's nothing new to add now\n",
    "entries_to_add = set()\n",
    "for entry in ark_kinetics_database.libraries[\"kinetics\"].entries:\n",
    "    reactants = ark_kinetics_database.libraries[\"kinetics\"].entries[entry].item.reactants\n",
    "    products = ark_kinetics_database.libraries[\"kinetics\"].entries[entry].item.products\n",
    "    for sp in reactants + products:\n",
    "        dict_sp = get_species(sp)\n",
    "        if not dict_sp:\n",
    "            entries_to_add.add(sp)\n",
    "assert len(entries_to_add) == 0"
   ]
  },
  {
   "cell_type": "code",
   "execution_count": null,
   "id": "6eb28cf0",
   "metadata": {},
   "outputs": [],
   "source": [
    "# unused function for relabeling/incrementing species\n",
    "def increment_label(old_label):\n",
    "    if type(old_label) != str:\n",
    "        old_label = old_label.label\n",
    "    \n",
    "    tokens = old_label.split('-')\n",
    "    if len(tokens) == 1:\n",
    "        return f'{old_label}-2'\n",
    "    \n",
    "    new_num = str(int(tokens[-1]) + 1)\n",
    "    tokens[-1] = new_num\n",
    "    return '-'.join(tokens)\n",
    "\n",
    "# # tests should print 'C6H5-3' and HO2-2\n",
    "# print(increment_label(species_dict['C6H5-2']))\n",
    "# print(increment_label(reaction_list[213].reactants[0].label))"
   ]
  },
  {
   "cell_type": "code",
   "execution_count": null,
   "id": "a1d58eea",
   "metadata": {},
   "outputs": [],
   "source": []
  },
  {
   "cell_type": "code",
   "execution_count": null,
   "id": "ee83ff2b",
   "metadata": {},
   "outputs": [],
   "source": []
  },
  {
   "cell_type": "markdown",
   "id": "7f12598e",
   "metadata": {},
   "source": [
    "## Change the names to match the ones already in the species dictionary"
   ]
  },
  {
   "cell_type": "code",
   "execution_count": null,
   "id": "1580b36d",
   "metadata": {},
   "outputs": [],
   "source": [
    "# for entry in ark_kinetics_database.libraries[\"kinetics\"].entries:\n",
    "#     for i in range(0, len(ark_kinetics_database.libraries[\"kinetics\"].entries[entry].item.reactants)):\n",
    "#         old_reactant_name = ark_kinetics_database.libraries[\"kinetics\"].entries[entry].item.reactants[i].label\n",
    "#         official_sp = get_species(ark_kinetics_database.libraries[\"kinetics\"].entries[entry].item.reactants[i])\n",
    "#         # it already exists so we have to revise the label names in the entry\n",
    "#         if official_sp:\n",
    "#             print(f'changing species {}')\n",
    "#             ark_kinetics_database.libraries[\"kinetics\"].entries[entry].item.reactants[i] = official_sp\n",
    "#             ark_kinetics_database.libraries[\"kinetics\"].entries[entry].label = ark_kinetics_database.libraries[\"kinetics\"].entries[entry].label.replace(\n",
    "#                 old_reactant_name,\n",
    "#                 official_sp.label\n",
    "#         else:\n",
    "#             raise ValueError('did not successfully add to training depo species dictionary')\n",
    "#     break"
   ]
  },
  {
   "cell_type": "code",
   "execution_count": null,
   "id": "f5f2769f",
   "metadata": {},
   "outputs": [],
   "source": []
  },
  {
   "cell_type": "code",
   "execution_count": null,
   "id": "944b958d",
   "metadata": {},
   "outputs": [],
   "source": []
  },
  {
   "cell_type": "code",
   "execution_count": null,
   "id": "0a85bca7",
   "metadata": {},
   "outputs": [],
   "source": [
    "# go through the new training reactions and make sure they use existing species dictionary definition\n",
    "for entry in ark_kinetics_database.libraries[\"kinetics\"].entries:\n",
    "    for i in range(0, len(ark_kinetics_database.libraries[\"kinetics\"].entries[entry].item.reactants)):\n",
    "        old_reactant_name = ark_kinetics_database.libraries[\"kinetics\"].entries[entry].item.reactants[i].label\n",
    "        official_sp = get_species(ark_kinetics_database.libraries[\"kinetics\"].entries[entry].item.reactants[i])\n",
    "        # it already exists so we have to revise the label names in the entry\n",
    "        if official_sp:\n",
    "            ark_kinetics_database.libraries[\"kinetics\"].entries[entry].item.reactants[i] = official_sp\n",
    "            ark_kinetics_database.libraries[\"kinetics\"].entries[entry].label = ark_kinetics_database.libraries[\"kinetics\"].entries[entry].label.replace(\n",
    "                old_reactant_name,\n",
    "                official_sp.label\n",
    "            )\n",
    "        else:\n",
    "            raise ValueError('did not successfully add to training depo species dictionary')\n",
    "#             # check if it exists but with different labeling, in which case we need to change the name\n",
    "#             keys_to_add = {}\n",
    "#             for key in species_dict.keys():\n",
    "#                 entry_reactant = ark_kinetics_database.libraries[\"kinetics\"].entries[entry].item.reactants[i]\n",
    "#                 if entry_reactant.is_isomorphic(species_dict[key]) and \\\n",
    "#                     not same_labels(entry_reactant, species_dict[key]):\n",
    "                    \n",
    "#                     # we need to change the name to add -2 or -3 to the species name\n",
    "#                     new_label = increment_label(species_dict[key])\n",
    "#                     ark_kinetics_database.libraries[\"kinetics\"].entries[entry].item.reactants[i].label = new_label\n",
    "#                     keys_to_add[new_label] = ark_kinetics_database.libraries[\"kinetics\"].entries[entry].item.reactants[i]\n",
    "                    \n",
    "#                     ark_kinetics_database.libraries[\"kinetics\"].entries[entry].label = ark_kinetics_database.libraries[\"kinetics\"].entries[entry].label.replace(\n",
    "#                         old_reactant_name,\n",
    "#                         new_label\n",
    "#                     )\n",
    "#             for key in keys_to_add.keys():\n",
    "#                 species_dict[key] = keys_to_add[key]\n",
    "            \n",
    "\n",
    "    # copy of the above, but for products\n",
    "    for i in range(0, len(ark_kinetics_database.libraries[\"kinetics\"].entries[entry].item.products)):\n",
    "        old_product_name = ark_kinetics_database.libraries[\"kinetics\"].entries[entry].item.products[i].label\n",
    "        official_sp = get_species(ark_kinetics_database.libraries[\"kinetics\"].entries[entry].item.products[i])\n",
    "        if official_sp:\n",
    "            ark_kinetics_database.libraries[\"kinetics\"].entries[entry].item.products[i] = official_sp\n",
    "            ark_kinetics_database.libraries[\"kinetics\"].entries[entry].label = ark_kinetics_database.libraries[\"kinetics\"].entries[entry].label.replace(\n",
    "                old_product_name,\n",
    "                official_sp.label\n",
    "            )\n",
    "        else:\n",
    "            raise ValueError('did not successfully add to training depo species dictionary')\n",
    "#             # check if it exists but with different labeling, in which case we need to change the name\n",
    "#             keys_to_add = {}\n",
    "#             for key in species_dict.keys():\n",
    "#                 entry_product = ark_kinetics_database.libraries[\"kinetics\"].entries[entry].item.products[i]\n",
    "#                 if entry_product.is_isomorphic(species_dict[key]) and \\\n",
    "#                     not same_labels(entry_product, species_dict[key]):\n",
    "                    \n",
    "#                     # we need to change the name to add -2 or -3 to the species name\n",
    "#                     new_label = increment_label(species_dict[key])\n",
    "#                     ark_kinetics_database.libraries[\"kinetics\"].entries[entry].item.products[i].label = new_label\n",
    "#                     keys_to_add[new_label] = ark_kinetics_database.libraries[\"kinetics\"].entries[entry].item.products[i]\n",
    "\n",
    "#                     ark_kinetics_database.libraries[\"kinetics\"].entries[entry].label = ark_kinetics_database.libraries[\"kinetics\"].entries[entry].label.replace(\n",
    "#                         old_product_name,\n",
    "#                         new_label\n",
    "#                     )\n",
    "#             for key in keys_to_add.keys():\n",
    "#                 species_dict[key] = keys_to_add[key]\n"
   ]
  },
  {
   "cell_type": "code",
   "execution_count": null,
   "id": "eb36e19a",
   "metadata": {},
   "outputs": [],
   "source": []
  },
  {
   "cell_type": "code",
   "execution_count": null,
   "id": "7ad1e156",
   "metadata": {},
   "outputs": [],
   "source": [
    "# Splice the new training reactions into the training depo\n",
    "index_start = 100\n",
    "\n",
    "for i, entry in enumerate(ark_kinetics_database.libraries['kinetics'].entries):\n",
    "    \n",
    "    if duplicate_exists(ark_kinetics_database.libraries['kinetics'].entries[entry]):\n",
    "        continue\n",
    "    if ark_kinetics_database.libraries['kinetics'].entries[entry].item.elementary_high_p:\n",
    "        # manual fix to this issue \n",
    "        ark_kinetics_database.libraries['kinetics'].entries[entry].item.elementary_high_p = False\n",
    "    \n",
    "    j = index_start + i\n",
    "    while j in training_depo.entries.keys():\n",
    "#         print(f'skipping index {j}')\n",
    "        j += 1\n",
    "        continue\n",
    "#     print(j, ark_kinetics_database.libraries['kinetics'].entries[entry])\n",
    "    training_depo.entries[j] = ark_kinetics_database.libraries['kinetics'].entries[entry]\n",
    "print(len(training_depo.entries), 'training reactions')"
   ]
  },
  {
   "cell_type": "code",
   "execution_count": null,
   "id": "ce481115",
   "metadata": {},
   "outputs": [],
   "source": []
  },
  {
   "cell_type": "code",
   "execution_count": null,
   "id": "f248ce8a",
   "metadata": {},
   "outputs": [],
   "source": [
    "# is this the only mistake?\n",
    "# CH3-2 should be CH3_r1-2\n",
    "\n",
    "for entry in training_depo.entries:\n",
    "    if 'CH3-2' in training_depo.entries[entry].label:\n",
    "        print(training_depo.entries[entry].index, training_depo.entries[entry])\n",
    "        print(training_depo.entries[entry].item.products[0])"
   ]
  },
  {
   "cell_type": "code",
   "execution_count": null,
   "id": "d6b4ba81",
   "metadata": {},
   "outputs": [],
   "source": [
    "# of course not, CH@(23) should be CH2-2\n",
    "\n",
    "for entry in training_depo.entries:\n",
    "    if 'CH2(23)' in training_depo.entries[entry].label:\n",
    "        print(training_depo.entries[entry].index, training_depo.entries[entry])\n",
    "        print(training_depo.entries[entry].item.reactants[1])"
   ]
  },
  {
   "cell_type": "code",
   "execution_count": null,
   "id": "aaa43b64",
   "metadata": {},
   "outputs": [],
   "source": [
    "# of course not, CH@(23) should be CH2-2\n",
    "\n",
    "for entry in training_depo.entries:\n",
    "    if 'CH3(18)' in training_depo.entries[entry].label:\n",
    "        print(training_depo.entries[entry].index, training_depo.entries[entry])\n",
    "        print(training_depo.entries[entry].item.products[0])"
   ]
  },
  {
   "cell_type": "code",
   "execution_count": null,
   "id": "ad6b918a",
   "metadata": {},
   "outputs": [],
   "source": []
  },
  {
   "cell_type": "code",
   "execution_count": null,
   "id": "331f8d7c",
   "metadata": {
    "scrolled": true
   },
   "outputs": [],
   "source": [
    "training_depo.entries[entry]"
   ]
  },
  {
   "cell_type": "code",
   "execution_count": null,
   "id": "7b939cae",
   "metadata": {},
   "outputs": [],
   "source": []
  },
  {
   "cell_type": "code",
   "execution_count": null,
   "id": "3a810ca3",
   "metadata": {},
   "outputs": [],
   "source": [
    "dir(training_depo)"
   ]
  },
  {
   "cell_type": "code",
   "execution_count": null,
   "id": "fe618873",
   "metadata": {},
   "outputs": [],
   "source": [
    "# Save the results somewhere else\n",
    "training_dir = os.path.join(rmgpy.settings['database.directory'], 'kinetics', 'families', family, 'training')\n",
    "# training_depo.save_dictionary(os.path.join(training_dir, 'dictionary.txt'))\n",
    "training_depo.save(os.path.join(training_dir, 'reactions.py'))"
   ]
  },
  {
   "cell_type": "code",
   "execution_count": null,
   "id": "4ed59dac",
   "metadata": {},
   "outputs": [],
   "source": []
  },
  {
   "cell_type": "code",
   "execution_count": null,
   "id": "6e34efed",
   "metadata": {},
   "outputs": [],
   "source": []
  },
  {
   "cell_type": "code",
   "execution_count": null,
   "id": "4a9e5c25",
   "metadata": {},
   "outputs": [],
   "source": []
  },
  {
   "cell_type": "code",
   "execution_count": null,
   "id": "33c0c5cd",
   "metadata": {},
   "outputs": [],
   "source": []
  }
 ],
 "metadata": {
  "kernelspec": {
   "display_name": "Python 3 (ipykernel)",
   "language": "python",
   "name": "python3"
  },
  "language_info": {
   "codemirror_mode": {
    "name": "ipython",
    "version": 3
   },
   "file_extension": ".py",
   "mimetype": "text/x-python",
   "name": "python",
   "nbconvert_exporter": "python",
   "pygments_lexer": "ipython3",
   "version": "3.7.12"
  }
 },
 "nbformat": 4,
 "nbformat_minor": 5
}
