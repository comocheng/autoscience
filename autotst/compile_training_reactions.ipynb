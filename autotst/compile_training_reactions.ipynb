{
 "cells": [
  {
   "cell_type": "code",
   "execution_count": null,
   "id": "9601527f",
   "metadata": {},
   "outputs": [],
   "source": [
    "# script to collect all of the kinetic calculations for this node in Disproportionation:\n",
    "# Root_Ext-2R!H-R_2R!H->C_4R->C \n",
    "# and put them together into a database\n"
   ]
  },
  {
   "cell_type": "code",
   "execution_count": 1,
   "id": "10a32eaf",
   "metadata": {},
   "outputs": [],
   "source": [
    "import os\n",
    "import re\n",
    "import copy\n",
    "import glob\n",
    "import itertools\n",
    "\n",
    "from rmgpy.exceptions import ActionError\n",
    "import rmgpy.reaction\n",
    "import rmgpy.chemkin\n",
    "import rmgpy.data.kinetics\n",
    "\n",
    "import numpy as np\n",
    "import matplotlib.pyplot as plt\n",
    "from collections import OrderedDict"
   ]
  },
  {
   "cell_type": "code",
   "execution_count": 2,
   "id": "ba27a0e9",
   "metadata": {},
   "outputs": [],
   "source": [
    "# unused function for relabeling/incrementing species\n",
    "def increment_label(old_label):\n",
    "    if type(old_label) != str:\n",
    "        old_label = old_label.label\n",
    "    \n",
    "    tokens = old_label.split('-')\n",
    "    if len(tokens) == 1:\n",
    "        return f'{old_label}-2'\n",
    "    \n",
    "    new_num = str(int(tokens[-1]) + 1)\n",
    "    tokens[-1] = new_num\n",
    "    return '-'.join(tokens)\n",
    "\n",
    "# # tests should print 'C6H5-3' and HO2-2\n",
    "# print(increment_label(species_dict['C6H5-2']))\n",
    "# print(increment_label(reaction_list[213].reactants[0].label))"
   ]
  },
  {
   "cell_type": "code",
   "execution_count": 3,
   "id": "2e20fe7a",
   "metadata": {},
   "outputs": [],
   "source": [
    "def valid_labels(rxn):\n",
    "    ref = ['*1', '*2', '*3', '*4']\n",
    "    \n",
    "    reactants = rxn.reactants\n",
    "    \n",
    "    r0 = reactants[0].molecule[0].get_all_labeled_atoms()\n",
    "    r1 = reactants[1].molecule[0].get_all_labeled_atoms()\n",
    "    \n",
    "    reactant_keys = list(r0.keys()) + list(r1.keys())\n",
    "    reactant_keys.sort()\n",
    "    \n",
    "    if reactant_keys != ref:\n",
    "        return False\n",
    "    \n",
    "    products = rxn.products\n",
    "    \n",
    "    p0 = products[0].molecule[0].get_all_labeled_atoms()\n",
    "    p1 = products[1].molecule[0].get_all_labeled_atoms()\n",
    "    \n",
    "    product_keys = list(p0.keys()) + list(p1.keys())\n",
    "    product_keys.sort()\n",
    "    \n",
    "    if product_keys != ref:\n",
    "        return False\n",
    "    return True"
   ]
  },
  {
   "cell_type": "code",
   "execution_count": 4,
   "id": "b9ba8e2a",
   "metadata": {},
   "outputs": [],
   "source": [
    "def relabel(input_r):\n",
    "    input_reaction = copy.deepcopy(input_r)\n",
    "    \n",
    "    \n",
    "    # copied from AutoTST.autotst.reaction.py\n",
    "    def get_rmg_mol(smile):\n",
    "        smiles_conversions = {\n",
    "                \"[CH]\": \"[CH...]\",\n",
    "                \"CARBONMONOXIDE\": \"[C-]#[O+]\"\n",
    "            }\n",
    "\n",
    "        if smile.upper() in list(smiles_conversions.keys()):\n",
    "            smile = smiles_conversions[smile.upper()]\n",
    "        return rmgpy.molecule.Molecule(smiles=smile).generate_resonance_structures()\n",
    "    \n",
    "    rmg_reactants = [get_rmg_mol(sp.smiles) for sp in input_reaction.reactants]\n",
    "    rmg_products = [get_rmg_mol(sp.smiles) for sp in input_reaction.products]\n",
    "\n",
    "    combos_to_try = list(itertools.product(\n",
    "                list(itertools.product(*rmg_reactants)),\n",
    "                list(itertools.product(*rmg_products))\n",
    "            ))\n",
    "    \n",
    "    for rmg_reactants, rmg_products in combos_to_try:\n",
    "\n",
    "        test_reaction = rmgpy.reaction.Reaction(\n",
    "            reactants=list(rmg_reactants),\n",
    "            products=list(rmg_products)\n",
    "        )\n",
    "\n",
    "        try:\n",
    "            labeled_r, labeled_p = ref_db.kinetics.families[family].get_labeled_reactants_and_products(\n",
    "                test_reaction.reactants,\n",
    "                test_reaction.products\n",
    "            )\n",
    "            \n",
    "#             print(labeled_r[0].get_all_labeled_atoms())\n",
    "#             print(labeled_r[1].get_all_labeled_atoms())\n",
    "            \n",
    "#             #check for correct total labeling\n",
    "#             ref = ['*1', '*2', '*3', '*4']\n",
    "\n",
    "#             r0 = labeled_r[0].get_all_labeled_atoms()\n",
    "#             r1 = labeled_r[1].get_all_labeled_atoms()\n",
    "\n",
    "#             reactant_keys = list(r0.keys()) + list(r1.keys())\n",
    "#             reactant_keys.sort()\n",
    "\n",
    "#             if reactant_keys != ref:\n",
    "#                 raise ValueError('no good')\n",
    "\n",
    "#             p0 = labeled_p[0].get_all_labeled_atoms()\n",
    "#             p1 = labeled_p[0].get_all_labeled_atoms()\n",
    "\n",
    "#             product_keys = list(p0.keys()) + list(p1.keys())\n",
    "#             product_keys.sort()\n",
    "\n",
    "#             if product_keys != ref:\n",
    "#                 raise ActionError\n",
    "            \n",
    "            \n",
    "            \n",
    "            \n",
    "#             print(labeled_p)\n",
    "            \n",
    "            if input_reaction.reactants[0].molecule[0].is_isomorphic(labeled_r[0]):\n",
    "                input_reaction.reactants[0].molecule[0] = labeled_r[0]\n",
    "                input_reaction.reactants[1].molecule[0] = labeled_r[1]\n",
    "            else:\n",
    "                input_reaction.reactants[0].molecule[0] = labeled_r[1]\n",
    "                input_reaction.reactants[1].molecule[0] = labeled_r[0]\n",
    "                \n",
    "                \n",
    "            if input_reaction.products[0].molecule[0].is_isomorphic(labeled_p[0]):\n",
    "                input_reaction.products[0].molecule[0] = labeled_p[0]\n",
    "                input_reaction.products[1].molecule[0] = labeled_p[1]\n",
    "            else:\n",
    "                input_reaction.products[0].molecule[0] = labeled_p[1]\n",
    "                input_reaction.products[1].molecule[0] = labeled_p[0]\n",
    "                \n",
    "                \n",
    "            if not valid_labels(input_reaction):\n",
    "                print(f'Bad labeling on {input_reaction}')\n",
    "            return input_reaction\n",
    "\n",
    "# #             print(labeled_r)\n",
    "#             print([rmgpy.species.Species(molecule=[m]) for m in labeled_r])\n",
    "#             return\n",
    "            \n",
    "#             input_reaction.reactants = [rmgpy.species.Species(molecule=[m]) for m in labeled_r]\n",
    "#             input_reaction.products = [rmgpy.species.Species(molecule=[m]) for m in labeled_p]\n",
    "#             return input_reaction\n",
    "            \n",
    "#             for i in range(0, len(input_reaction.reactants)):\n",
    "#                 for reactant in labeled_r:\n",
    "#                     if input_reaction.reactants[i].molecule[0].is_isomorphic(reactant):\n",
    "#                         input_reaction.reactants[i].molecule[0] = reactant\n",
    "#                         break\n",
    "#             for i in range(0, len(input_reaction.products)):\n",
    "#                 for product in labeled_p:\n",
    "#                     if input_reaction.products[i].molecule[0].is_isomorphic(product):\n",
    "#                         input_reaction.products[i].molecule[0] = product\n",
    "#             return labeled_r, labeled_p\n",
    "\n",
    "        except ActionError:\n",
    "            pass\n",
    "    return False"
   ]
  },
  {
   "cell_type": "code",
   "execution_count": 5,
   "id": "1b19c5eb",
   "metadata": {},
   "outputs": [],
   "source": [
    "# # reload\n",
    "# # load the new training reactions\n",
    "# new_training_rxns = output_path\n",
    "# ark_kinetics_database = rmgpy.data.kinetics.KineticsDatabase()\n",
    "# ark_kinetics_database.load_libraries(new_training_rxns)\n",
    "# print(f'{len(ark_kinetics_database.libraries[\"kinetics\"].entries)} new reactions loaded')"
   ]
  },
  {
   "cell_type": "code",
   "execution_count": 6,
   "id": "f5940a9c",
   "metadata": {},
   "outputs": [],
   "source": [
    "# ark_kinetics_database.libraries[\"kinetics\"].entries[427].item.reactants[0].molecule[0].get_all_labeled_atoms()"
   ]
  },
  {
   "cell_type": "code",
   "execution_count": null,
   "id": "f8d68bc6",
   "metadata": {},
   "outputs": [],
   "source": []
  },
  {
   "cell_type": "code",
   "execution_count": 7,
   "id": "1668128a",
   "metadata": {},
   "outputs": [],
   "source": [
    "# relabel(ark_kinetics_database.libraries[\"kinetics\"].entries[427].item)"
   ]
  },
  {
   "cell_type": "code",
   "execution_count": null,
   "id": "ffb5ba41",
   "metadata": {},
   "outputs": [],
   "source": []
  },
  {
   "cell_type": "code",
   "execution_count": 8,
   "id": "b9eebea8",
   "metadata": {},
   "outputs": [],
   "source": [
    "def print_labels(rxn):\n",
    "    for sp in rxn.reactants + rxn.products:\n",
    "        print(sp.molecule[0].get_all_labeled_atoms())"
   ]
  },
  {
   "cell_type": "code",
   "execution_count": 9,
   "id": "a207b010",
   "metadata": {},
   "outputs": [],
   "source": [
    "def duplicate_exists(test_entry):\n",
    "    for entry in training_depo.entries:\n",
    "        if training_depo.entries[entry].item.is_isomorphic(test_entry.item):\n",
    "            return True\n",
    "    return False"
   ]
  },
  {
   "cell_type": "code",
   "execution_count": 10,
   "id": "0549f019",
   "metadata": {},
   "outputs": [],
   "source": [
    "DFT_DIR = \"/work/westgroup/harris.se/autoscience/autoscience/butane/dft/\"\n",
    "kinetics_libs = glob.glob(os.path.join(DFT_DIR, 'kinetics', 'reaction*', 'arkane', 'RMG_libraries'))"
   ]
  },
  {
   "cell_type": "code",
   "execution_count": 11,
   "id": "7e9ddd6d",
   "metadata": {},
   "outputs": [
    {
     "name": "stdout",
     "output_type": "stream",
     "text": [
      "110 species, 1822 reactions\n"
     ]
    }
   ],
   "source": [
    "# only include reactions that belong to the disproportionation family\n",
    "\n",
    "# Load the base model\n",
    "basedir = '/work/westgroup/harris.se/autoscience/autoscience/butane/models/rmg_model'\n",
    "base_chemkin = os.path.join(basedir, 'chem_annotated.inp')\n",
    "dictionary = os.path.join(basedir, 'species_dictionary.txt')\n",
    "transport = os.path.join(basedir, 'tran.dat')\n",
    "species_list, reaction_list = rmgpy.chemkin.load_chemkin_file(base_chemkin, dictionary_path=dictionary, transport_path=transport)\n",
    "print(f'{len(species_list)} species, {len(reaction_list)} reactions')\n",
    "\n"
   ]
  },
  {
   "cell_type": "code",
   "execution_count": 12,
   "id": "0843c53e",
   "metadata": {},
   "outputs": [],
   "source": [
    "# load the disproportionation database\n",
    "# load the thermo database\n",
    "thermo_libs = [\n",
    "    'BurkeH2O2',\n",
    "    'primaryThermoLibrary',\n",
    "    'FFCM1(-)',\n",
    "    'CurranPentane',\n",
    "    'Klippenstein_Glarborg2016',\n",
    "    'thermo_DFT_CCSDTF12_BAC',\n",
    "    'DFT_QCI_thermo',\n",
    "    'CBS_QB3_1dHR',\n",
    "]\n",
    "\n",
    "thermo_library_path = os.path.join(rmgpy.settings['database.directory'], 'thermo')\n",
    "thermo_database = rmgpy.data.thermo.ThermoDatabase()\n",
    "thermo_database.load(\n",
    "    thermo_library_path,\n",
    "    libraries=thermo_libs\n",
    ")\n",
    "\n",
    "\n",
    "# load the revised Disproportionation family\n",
    "family = 'Disproportionation'\n",
    "ref_library_path = os.path.join(rmgpy.settings['database.directory'], 'kinetics')\n",
    "kinetics_database = rmgpy.data.kinetics.KineticsDatabase()\n",
    "kinetics_database.load(\n",
    "    ref_library_path,\n",
    "    libraries=[],\n",
    "    families=[family]\n",
    ")\n",
    "\n",
    "# load the entire database\n",
    "ref_db = rmgpy.data.rmg.RMGDatabase()\n",
    "ref_db.kinetics = kinetics_database\n",
    "ref_db.thermo = thermo_database"
   ]
  },
  {
   "cell_type": "code",
   "execution_count": 13,
   "id": "cca5e080",
   "metadata": {},
   "outputs": [],
   "source": [
    "# Load the Arkane kinetics\n",
    "entries = []\n",
    "for i, lib_path in enumerate(kinetics_libs):\n",
    "    matches = re.search('reaction_([0-9]{4})', lib_path)\n",
    "    reaction_index = int(matches[1])\n",
    "    # skip entries not in Disproportionation\n",
    "    if reaction_list[reaction_index].family != 'Disproportionation':\n",
    "        continue\n",
    "    ark_kinetics_database = rmgpy.data.kinetics.KineticsDatabase()\n",
    "    ark_kinetics_database.load_libraries(lib_path)\n",
    "    \n",
    "    # TODO fix bug related to load_libraries not getting the actual name\n",
    "    for key in ark_kinetics_database.libraries[''].entries.keys():\n",
    "        entry = ark_kinetics_database.libraries[''].entries[key]\n",
    "        entry.index = reaction_index\n",
    "        entries.append(entry)\n"
   ]
  },
  {
   "cell_type": "code",
   "execution_count": 14,
   "id": "7801b288",
   "metadata": {},
   "outputs": [],
   "source": [
    "# compile it all into a single database and a single library which I'll call harris_butane\n",
    "ark_kinetics_database = rmgpy.data.kinetics.KineticsDatabase()\n",
    "ark_kinetics_database.libraries['kinetics'] = rmgpy.data.kinetics.KineticsLibrary()\n",
    "ark_kinetics_database.libraries['kinetics'].label = 'harris_butane'\n",
    "ark_kinetics_database.libraries['kinetics'].name = 'harris_butane'\n",
    "ark_kinetics_database.libraries['kinetics'].entries = OrderedDict()\n",
    "for entry in entries:\n",
    "#     relabel(entry.item)\n",
    "    ark_kinetics_database.libraries['kinetics'].entries[entry.label] = entry"
   ]
  },
  {
   "cell_type": "code",
   "execution_count": 15,
   "id": "20284bc2",
   "metadata": {},
   "outputs": [
    {
     "name": "stdout",
     "output_type": "stream",
     "text": [
      "64 saved\n"
     ]
    }
   ],
   "source": [
    "# save the results\n",
    "output_path = os.path.join(DFT_DIR, 'disproportionation_kinetics')\n",
    "ark_kinetics_database.save_libraries(output_path, reindex=False)\n",
    "print(len(entries), 'saved')"
   ]
  },
  {
   "cell_type": "code",
   "execution_count": 16,
   "id": "9483f088",
   "metadata": {},
   "outputs": [
    {
     "name": "stdout",
     "output_type": "stream",
     "text": [
      "64 new reactions loaded\n"
     ]
    }
   ],
   "source": [
    "# load the new training reactions\n",
    "new_training_rxns = output_path\n",
    "ark_kinetics_database = rmgpy.data.kinetics.KineticsDatabase()\n",
    "ark_kinetics_database.load_libraries(new_training_rxns)\n",
    "print(f'{len(ark_kinetics_database.libraries[\"kinetics\"].entries)} new reactions loaded')"
   ]
  },
  {
   "cell_type": "code",
   "execution_count": 17,
   "id": "49443ece",
   "metadata": {},
   "outputs": [
    {
     "name": "stdout",
     "output_type": "stream",
     "text": [
      "{}\n",
      "{}\n",
      "{}\n",
      "{}\n"
     ]
    }
   ],
   "source": [
    "print_labels(ark_kinetics_database.libraries[\"kinetics\"].entries[213].item)"
   ]
  },
  {
   "cell_type": "code",
   "execution_count": 18,
   "id": "f29e91db",
   "metadata": {},
   "outputs": [
    {
     "name": "stdout",
     "output_type": "stream",
     "text": [
      "Bad labeling on CH2CHO(21) + CH2CHO(21) <=> CH3CHO(35) + CH2CO(24)\n",
      "Bad labeling on C3H5-A(94) + NC3H7(92) <=> C3H6(12) + C3H6(12)\n",
      "Bad labeling on SC4H9(183) + C4H8(748) <=> SC4H9(183) + C4H8(188)\n",
      "Bad labeling on C4H7(190) + SC4H9(183) <=> C4H8(188) + C4H8(188)\n",
      "Bad labeling on C4H7(190) + C4H7(190) <=> C4H8(189) + C4H6(194)\n",
      "Bad labeling on SC4H9(183) + C4H7(191) <=> C4H8(188) + C4H8(188)\n",
      "Bad labeling on C4H7(191) + C4H8(748) <=> C4H8(188) + C4H7(191)\n",
      "Bad labeling on C4H7(190) + C4H6(2534) <=> C4H7(190) + C4H6(194)\n"
     ]
    }
   ],
   "source": [
    "for entry in ark_kinetics_database.libraries[\"kinetics\"].entries:\n",
    "    ark_kinetics_database.libraries[\"kinetics\"].entries[entry].item = relabel(ark_kinetics_database.libraries[\"kinetics\"].entries[entry].item)\n",
    "#     new_entries.append(entry)"
   ]
  },
  {
   "cell_type": "code",
   "execution_count": 19,
   "id": "98d2345c",
   "metadata": {},
   "outputs": [
    {
     "name": "stdout",
     "output_type": "stream",
     "text": [
      "{'*2': <Atom 'C'>, '*3': <Atom 'C.'>, '*4': <Atom 'H'>}\n",
      "{'*1': <Atom 'O.'>}\n",
      "{'*1': <Atom 'O'>, '*4': <Atom 'H'>}\n",
      "{'*2': <Atom 'C'>, '*3': <Atom 'C'>}\n"
     ]
    }
   ],
   "source": [
    "print_labels(ark_kinetics_database.libraries[\"kinetics\"].entries[213].item)"
   ]
  },
  {
   "cell_type": "code",
   "execution_count": null,
   "id": "255beea9",
   "metadata": {},
   "outputs": [],
   "source": []
  },
  {
   "cell_type": "code",
   "execution_count": null,
   "id": "0ac8bbac",
   "metadata": {},
   "outputs": [],
   "source": []
  },
  {
   "cell_type": "code",
   "execution_count": null,
   "id": "1da5e944",
   "metadata": {},
   "outputs": [],
   "source": []
  },
  {
   "cell_type": "code",
   "execution_count": null,
   "id": "be686be1",
   "metadata": {},
   "outputs": [],
   "source": []
  },
  {
   "cell_type": "markdown",
   "id": "937db1a9",
   "metadata": {},
   "source": [
    "## Redo the species dictionary to include everything we'll need"
   ]
  },
  {
   "cell_type": "code",
   "execution_count": 20,
   "id": "98d99608",
   "metadata": {},
   "outputs": [
    {
     "name": "stdout",
     "output_type": "stream",
     "text": [
      "137 training reactions\n"
     ]
    }
   ],
   "source": [
    "# load the training depository\n",
    "\n",
    "training_depo = ref_db.kinetics.families[family].get_training_depository()\n",
    "print(len(training_depo.entries), 'training reactions')\n",
    "training_depo_dict = os.path.join(os.path.join(rmgpy.settings['database.directory'], 'kinetics', 'families', family, 'training', 'dictionary.txt'))\n",
    "species_dict = training_depo.get_species(training_depo_dict)"
   ]
  },
  {
   "cell_type": "code",
   "execution_count": 21,
   "id": "0fe3ce70",
   "metadata": {},
   "outputs": [
    {
     "data": {
      "text/plain": [
       "True"
      ]
     },
     "execution_count": 21,
     "metadata": {},
     "output_type": "execute_result"
    }
   ],
   "source": [
    "def equivalent_labels(dict1, dict2):\n",
    "    try:\n",
    "        for key in dict1.keys():\n",
    "            if dict2[key].atomtype != dict1[key].atomtype:\n",
    "                return False\n",
    "        for key in dict2.keys():\n",
    "            if dict2[key].atomtype != dict1[key].atomtype:\n",
    "                return False\n",
    "    except KeyError:\n",
    "        return False\n",
    "    return True\n",
    "\n",
    "# should return true\n",
    "equivalent_labels(\n",
    "    ark_kinetics_database.libraries[\"kinetics\"].entries[213].item.reactants[0].molecule[0].get_all_labeled_atoms(),\n",
    "    species_dict['C2H5'].molecule[0].get_all_labeled_atoms()\n",
    ")"
   ]
  },
  {
   "cell_type": "code",
   "execution_count": 22,
   "id": "0031efe4",
   "metadata": {},
   "outputs": [],
   "source": [
    "def get_species(sp):\n",
    "    # look for the species in the training depo and return it IF it has same labeling\n",
    "    for key in species_dict.keys():\n",
    "        if sp.is_isomorphic(species_dict[key]):\n",
    "            if equivalent_labels(sp.molecule[0].get_all_labeled_atoms(), species_dict[key].molecule[0].get_all_labeled_atoms()):\n",
    "                return species_dict[key]"
   ]
  },
  {
   "cell_type": "code",
   "execution_count": 23,
   "id": "81ecce85",
   "metadata": {},
   "outputs": [],
   "source": [
    "# entries_to_add = set()\n",
    "entries_to_add = []\n",
    "for entry in ark_kinetics_database.libraries[\"kinetics\"].entries:\n",
    "    reactants = ark_kinetics_database.libraries[\"kinetics\"].entries[entry].item.reactants\n",
    "    products = ark_kinetics_database.libraries[\"kinetics\"].entries[entry].item.products\n",
    "    for sp in reactants + products:\n",
    "        dict_sp = get_species(sp)\n",
    "        if not dict_sp:\n",
    "#             print('Exact Entry not found:', sp, sp.molecule[0].get_all_labeled_atoms())\n",
    "#             entries_to_add.add(sp)\n",
    "            entries_to_add.append(sp)"
   ]
  },
  {
   "cell_type": "code",
   "execution_count": 24,
   "id": "39c43d42",
   "metadata": {},
   "outputs": [
    {
     "name": "stdout",
     "output_type": "stream",
     "text": [
      "IC3H7(93)\n",
      "SC4H9(183)\n",
      "C4H8(188)\n",
      "SC4H9(183)\n",
      "C4H8(188)\n",
      "CH3CO(20)\n",
      "CH2CO(24)\n",
      "CH2CHO(21)\n",
      "CH2CO(24)\n",
      "SC4H9(183)\n",
      "C4H8(189)\n",
      "SC4H9(183)\n",
      "C4H8(188)\n",
      "CH2CHO(21)\n",
      "CH2CHO(21)\n",
      "CH3CHO(35)\n",
      "CH2CO(24)\n",
      "SC4H9(183)\n",
      "C4H8(188)\n",
      "IC3H7(93)\n",
      "CH2CHO(21)\n",
      "CH3CHO(35)\n",
      "SC4H9(183)\n",
      "CH3CO(20)\n",
      "CH3CHO(35)\n",
      "C4H8(188)\n",
      "SC4H9(183)\n",
      "C4H8(188)\n",
      "CH2CHO(21)\n",
      "CH2CO(24)\n",
      "IC3H7(93)\n",
      "C4H8(748)\n",
      "SC4H9(183)\n",
      "SC4H9(183)\n",
      "C4H8(748)\n",
      "SC4H9(183)\n",
      "C4H8(188)\n",
      "C4H7(190)\n",
      "C4H8(189)\n",
      "CH2CO(24)\n",
      "CH2CHO(21)\n",
      "CH2CO(24)\n",
      "C4H8(189)\n",
      "SC4H9(183)\n",
      "C4H8(189)\n",
      "SC4H9(183)\n",
      "C4H8(188)\n",
      "C4H8(188)\n",
      "C4H8(189)\n",
      "SC4H9(183)\n",
      "butane(1)\n",
      "CH2CHO(21)\n",
      "CH3CHO(35)\n",
      "S(777)\n",
      "S(252)\n",
      "CH2CHO(21)\n",
      "C4H8(748)\n",
      "PC4H9(182)\n",
      "CH2CO(24)\n",
      "C4H8(748)\n",
      "PC4H9(182)\n",
      "SC4H9(183)\n",
      "C4H7(191)\n",
      "C4H8(188)\n",
      "C4H8(188)\n",
      "SC4H9(183)\n",
      "C4H8(748)\n",
      "butane(1)\n",
      "C4H7(191)\n",
      "PC4H9(182)\n",
      "C4H8(748)\n",
      "butane(1)\n",
      "C4H7(191)\n",
      "CH3O2(45)\n",
      "CH2CHO(21)\n",
      "CH3O2H(46)\n",
      "CH2CO(24)\n",
      "CH3O2(45)\n",
      "C2H4O(703)\n",
      "CH3O2H(46)\n",
      "CH2CHO(21)\n",
      "CH3O2(45)\n",
      "SC4H9(183)\n",
      "CH3O2H(46)\n",
      "C4H8(189)\n",
      "C4H7(192)\n",
      "C4H8(188)\n",
      "C3H5O(129)\n",
      "C3H4O(74)\n",
      "C4H8(748)\n",
      "C4H7(191)\n",
      "C4H7(191)\n",
      "C4H8(748)\n",
      "C4H7(191)\n",
      "CH3CO(20)\n",
      "C4H8(748)\n",
      "CH3CHO(35)\n",
      "C4H7(191)\n",
      "C3H5O3(72)\n",
      "C3H6O3(73)\n",
      "C3H5O3(72)\n",
      "C3H6O3(73)\n",
      "C3H5O3(72)\n",
      "PC4H9(182)\n",
      "C3H6O3(73)\n",
      "C4H8(188)\n",
      "IC3H7(93)\n",
      "C4H6(2534)\n",
      "C3H6(12)\n",
      "SC4H9(183)\n",
      "C4H6(2534)\n",
      "C4H7(190)\n",
      "C4H8(188)\n",
      "C4H6(2534)\n",
      "C4H6(194)\n",
      "IC3H7(93)\n",
      "C4H6(2534)\n",
      "C4H7(191)\n",
      "SC4H9(183)\n",
      "C4H6(2534)\n",
      "C4H7(191)\n",
      "C4H8(188)\n",
      "C2H5O(49)\n",
      "CH3CHO(35)\n",
      "C4H8(748)\n",
      "C4H7(191)\n",
      "C2H5O2(47)\n",
      "CH2CHO(21)\n",
      "C2H6O2(48)\n",
      "CH2CO(24)\n",
      "C2H5O2(47)\n",
      "C2H6O2(48)\n",
      "C2H5O2(47)\n",
      "C2H6O2(48)\n",
      "C2H5O2(47)\n",
      "SC4H9(183)\n",
      "C2H6O2(48)\n",
      "C4H8(189)\n",
      "C2H5O2(47)\n",
      "C2H5O(49)\n",
      "C2H6O2(48)\n",
      "CH3CHO(35)\n",
      "S(186)\n",
      "CH2CHO(21)\n",
      "S(187)\n",
      "CH2CO(24)\n",
      "S(186)\n",
      "S(187)\n",
      "S(5425)\n",
      "S(5951)\n"
     ]
    }
   ],
   "source": [
    "for entry in entries_to_add:\n",
    "    print(entry)"
   ]
  },
  {
   "cell_type": "code",
   "execution_count": null,
   "id": "554a104e",
   "metadata": {},
   "outputs": [],
   "source": []
  },
  {
   "cell_type": "code",
   "execution_count": 25,
   "id": "41dcc425",
   "metadata": {},
   "outputs": [],
   "source": [
    "# add the new species to the species dictionary\n",
    "for sp in entries_to_add:\n",
    "    # has it already been added?\n",
    "    dict_sp = get_species(sp)\n",
    "    \n",
    "    if dict_sp:\n",
    "        continue\n",
    "    \n",
    "    sp.molecule\n",
    "    if sp.label == '':\n",
    "        print(f'empty species label for {sp}')\n",
    "    # check if the molecule is isomorphic with anything in the dictionary\n",
    "    basename = sp.label\n",
    "#     isomorphic = False\n",
    "#     for key in species_dict.keys():\n",
    "#         if sp.is_isomorphic(species_dict[key]):\n",
    "#             isomorphic = True\n",
    "#             basename = key\n",
    "#             break\n",
    "    \n",
    "    while basename in species_dict.keys():\n",
    "        basename = increment_label(basename)\n",
    "        sp.label = basename\n",
    "\n",
    "    species_dict[basename] = sp"
   ]
  },
  {
   "cell_type": "code",
   "execution_count": 26,
   "id": "27e23377",
   "metadata": {},
   "outputs": [],
   "source": [
    "# check that there's nothing new to add now\n",
    "entries_to_add = []\n",
    "for entry in ark_kinetics_database.libraries[\"kinetics\"].entries:\n",
    "    reactants = ark_kinetics_database.libraries[\"kinetics\"].entries[entry].item.reactants\n",
    "    products = ark_kinetics_database.libraries[\"kinetics\"].entries[entry].item.products\n",
    "    for sp in reactants + products:\n",
    "        dict_sp = get_species(sp)\n",
    "        if not dict_sp:\n",
    "            entries_to_add.append(sp)\n",
    "assert len(entries_to_add) == 0"
   ]
  },
  {
   "cell_type": "code",
   "execution_count": 27,
   "id": "ea051a69",
   "metadata": {},
   "outputs": [],
   "source": [
    "# save it\n",
    "sd = []\n",
    "for key in species_dict:\n",
    "    sd.append(species_dict[key])\n",
    "\n",
    "rmgpy.chemkin.save_species_dictionary(training_depo_dict, sd)"
   ]
  },
  {
   "cell_type": "code",
   "execution_count": 28,
   "id": "8aac887f",
   "metadata": {},
   "outputs": [
    {
     "name": "stdout",
     "output_type": "stream",
     "text": [
      "137 training reactions\n"
     ]
    }
   ],
   "source": [
    "# reload the depo\n",
    "training_depo = ref_db.kinetics.families[family].get_training_depository()\n",
    "print(len(training_depo.entries), 'training reactions')\n",
    "training_depo_dict = os.path.join(os.path.join(rmgpy.settings['database.directory'], 'kinetics', 'families', family, 'training', 'dictionary.txt'))\n",
    "species_dict = training_depo.get_species(training_depo_dict)"
   ]
  },
  {
   "cell_type": "code",
   "execution_count": null,
   "id": "707209e3",
   "metadata": {},
   "outputs": [],
   "source": []
  },
  {
   "cell_type": "code",
   "execution_count": null,
   "id": "29f1bfc7",
   "metadata": {},
   "outputs": [],
   "source": []
  },
  {
   "cell_type": "code",
   "execution_count": null,
   "id": "cb85570a",
   "metadata": {},
   "outputs": [],
   "source": []
  },
  {
   "cell_type": "code",
   "execution_count": null,
   "id": "97217537",
   "metadata": {},
   "outputs": [],
   "source": []
  },
  {
   "cell_type": "code",
   "execution_count": null,
   "id": "d2bef110",
   "metadata": {},
   "outputs": [],
   "source": []
  },
  {
   "cell_type": "code",
   "execution_count": 29,
   "id": "a1f7848d",
   "metadata": {},
   "outputs": [],
   "source": [
    "# go through the new training reactions and make sure they use existing species dictionary definition\n",
    "for entry in ark_kinetics_database.libraries[\"kinetics\"].entries:\n",
    "\n",
    "    new_label = ''\n",
    "    \n",
    "    for i in range(0, len(ark_kinetics_database.libraries[\"kinetics\"].entries[entry].item.reactants)):\n",
    "        official_sp = get_species(ark_kinetics_database.libraries[\"kinetics\"].entries[entry].item.reactants[i])\n",
    "        # it already exists so we have to revise the label names in the entry\n",
    "        if official_sp:\n",
    "            ark_kinetics_database.libraries[\"kinetics\"].entries[entry].item.reactants[i] = official_sp\n",
    "        else:\n",
    "            raise ValueError('did not successfully add to training depo species dictionary')\n",
    "            \n",
    "        if i + 1 < len(ark_kinetics_database.libraries[\"kinetics\"].entries[entry].item.reactants):\n",
    "            new_label += official_sp.label + ' + '\n",
    "        else:\n",
    "            new_label += official_sp.label + ' <=> '\n",
    "            \n",
    "\n",
    "    # copy of the above, but for products\n",
    "    for i in range(0, len(ark_kinetics_database.libraries[\"kinetics\"].entries[entry].item.products)):\n",
    "        official_sp = get_species(ark_kinetics_database.libraries[\"kinetics\"].entries[entry].item.products[i])\n",
    "        if official_sp:\n",
    "            ark_kinetics_database.libraries[\"kinetics\"].entries[entry].item.products[i] = official_sp\n",
    "        else:\n",
    "            raise ValueError('did not successfully add to training depo species dictionary')\n",
    "            \n",
    "        if i + 1 < len(ark_kinetics_database.libraries[\"kinetics\"].entries[entry].item.products):\n",
    "            new_label += official_sp.label + ' + '\n",
    "        else:\n",
    "            new_label += official_sp.label\n",
    "    new_label = new_label.strip()\n",
    "\n",
    "    \n",
    "    # completely regenerate the \n",
    "    ark_kinetics_database.libraries[\"kinetics\"].entries[entry].item.label = new_label\n",
    "    \n",
    "    if 'C2H5(33)' in new_label:\n",
    "        print('problem', entry)\n",
    "    "
   ]
  },
  {
   "cell_type": "code",
   "execution_count": 30,
   "id": "604cc142",
   "metadata": {},
   "outputs": [
    {
     "name": "stdout",
     "output_type": "stream",
     "text": [
      "bad labels on 427, skipping...\n",
      "bad labels on 674, skipping...\n",
      "bad labels on 731, skipping...\n",
      "bad labels on 795, skipping...\n",
      "bad labels on 1016, skipping...\n",
      "bad labels on 1254, skipping...\n",
      "bad labels on 1398, skipping...\n",
      "190 training reactions\n"
     ]
    }
   ],
   "source": [
    "# Splice the new training reactions into the training depo\n",
    "index_start = 100\n",
    "\n",
    "for i, entry in enumerate(ark_kinetics_database.libraries['kinetics'].entries):\n",
    "    \n",
    "    if duplicate_exists(ark_kinetics_database.libraries['kinetics'].entries[entry]):\n",
    "        continue\n",
    "    if not valid_labels(ark_kinetics_database.libraries[\"kinetics\"].entries[entry].item):\n",
    "        print(f'bad labels on {entry}, skipping...')\n",
    "        continue\n",
    "    \n",
    "    if ark_kinetics_database.libraries['kinetics'].entries[entry].item.elementary_high_p:\n",
    "        # manual fix to this issue \n",
    "        ark_kinetics_database.libraries['kinetics'].entries[entry].item.elementary_high_p = False\n",
    "    \n",
    "    j = index_start + i\n",
    "    while j in training_depo.entries.keys():\n",
    "#         print(f'skipping index {j}')\n",
    "        j += 1\n",
    "        continue\n",
    "#     print(j, ark_kinetics_database.libraries['kinetics'].entries[entry])\n",
    "    training_depo.entries[j] = ark_kinetics_database.libraries['kinetics'].entries[entry]\n",
    "    training_depo.entries[j].label = ark_kinetics_database.libraries['kinetics'].entries[entry].item.label\n",
    "print(len(training_depo.entries), 'training reactions')"
   ]
  },
  {
   "cell_type": "code",
   "execution_count": null,
   "id": "99d591c2",
   "metadata": {},
   "outputs": [],
   "source": []
  },
  {
   "cell_type": "code",
   "execution_count": 31,
   "id": "6c27a7e5",
   "metadata": {},
   "outputs": [],
   "source": [
    "for entry in training_depo.entries:\n",
    "    if 'C2H5(33)' in training_depo.entries[entry].label:\n",
    "        print(entry)\n",
    "    for sp in training_depo.entries[entry].item.reactants + training_depo.entries[entry].item.products:\n",
    "        if str(sp) == 'C2H5(33)' or sp.label == 'C2H5(33)':\n",
    "            print(sp)"
   ]
  },
  {
   "cell_type": "code",
   "execution_count": null,
   "id": "636bbe31",
   "metadata": {},
   "outputs": [],
   "source": [
    "species_dict['C2H5(33)']"
   ]
  },
  {
   "cell_type": "code",
   "execution_count": null,
   "id": "a8277c3f",
   "metadata": {},
   "outputs": [],
   "source": []
  },
  {
   "cell_type": "code",
   "execution_count": null,
   "id": "f74c0e08",
   "metadata": {},
   "outputs": [],
   "source": []
  },
  {
   "cell_type": "code",
   "execution_count": null,
   "id": "ad124289",
   "metadata": {},
   "outputs": [],
   "source": []
  },
  {
   "cell_type": "code",
   "execution_count": 32,
   "id": "e643e784",
   "metadata": {},
   "outputs": [],
   "source": [
    "# Save the results somewhere else\n",
    "training_dir = os.path.join(rmgpy.settings['database.directory'], 'kinetics', 'families', family, 'training')\n",
    "training_depo.save_dictionary(os.path.join(training_dir, 'dictionary.txt'))\n",
    "training_depo.save(os.path.join(training_dir, 'reactions.py'))"
   ]
  },
  {
   "cell_type": "code",
   "execution_count": 33,
   "id": "1610b4d9",
   "metadata": {},
   "outputs": [
    {
     "name": "stderr",
     "output_type": "stream",
     "text": [
      "WARNING:root:An instance of RMGDatabase already exists. Re-initializing it.\n"
     ]
    }
   ],
   "source": [
    "# test that you can reload\n",
    "# load the disproportionation database\n",
    "# load the thermo database\n",
    "thermo_libs = [\n",
    "    'BurkeH2O2',\n",
    "    'primaryThermoLibrary',\n",
    "    'FFCM1(-)',\n",
    "    'CurranPentane',\n",
    "    'Klippenstein_Glarborg2016',\n",
    "    'thermo_DFT_CCSDTF12_BAC',\n",
    "    'DFT_QCI_thermo',\n",
    "    'CBS_QB3_1dHR',\n",
    "]\n",
    "\n",
    "thermo_library_path = os.path.join(rmgpy.settings['database.directory'], 'thermo')\n",
    "thermo_database = rmgpy.data.thermo.ThermoDatabase()\n",
    "thermo_database.load(\n",
    "    thermo_library_path,\n",
    "    libraries=thermo_libs\n",
    ")\n",
    "\n",
    "\n",
    "# load the revised Disproportionation family\n",
    "family = 'Disproportionation'\n",
    "ref_library_path = os.path.join(rmgpy.settings['database.directory'], 'kinetics')\n",
    "kinetics_database = rmgpy.data.kinetics.KineticsDatabase()\n",
    "kinetics_database.load(\n",
    "    ref_library_path,\n",
    "    libraries=[],\n",
    "    families=[family]\n",
    ")\n",
    "\n",
    "# load the entire database\n",
    "ref_db = rmgpy.data.rmg.RMGDatabase()\n",
    "ref_db.kinetics = kinetics_database\n",
    "ref_db.thermo = thermo_database"
   ]
  },
  {
   "cell_type": "code",
   "execution_count": null,
   "id": "26d301b5",
   "metadata": {},
   "outputs": [],
   "source": []
  },
  {
   "cell_type": "code",
   "execution_count": null,
   "id": "4994ce31",
   "metadata": {},
   "outputs": [],
   "source": []
  },
  {
   "cell_type": "code",
   "execution_count": null,
   "id": "61afa838",
   "metadata": {},
   "outputs": [],
   "source": []
  },
  {
   "cell_type": "code",
   "execution_count": null,
   "id": "263aa81c",
   "metadata": {},
   "outputs": [],
   "source": []
  },
  {
   "cell_type": "code",
   "execution_count": null,
   "id": "7d3c011a",
   "metadata": {},
   "outputs": [],
   "source": []
  },
  {
   "cell_type": "code",
   "execution_count": null,
   "id": "9cf33915",
   "metadata": {},
   "outputs": [],
   "source": []
  },
  {
   "cell_type": "code",
   "execution_count": null,
   "id": "453a11ae",
   "metadata": {},
   "outputs": [],
   "source": []
  }
 ],
 "metadata": {
  "kernelspec": {
   "display_name": "Python 3 (ipykernel)",
   "language": "python",
   "name": "python3"
  },
  "language_info": {
   "codemirror_mode": {
    "name": "ipython",
    "version": 3
   },
   "file_extension": ".py",
   "mimetype": "text/x-python",
   "name": "python",
   "nbconvert_exporter": "python",
   "pygments_lexer": "ipython3",
   "version": "3.7.12"
  }
 },
 "nbformat": 4,
 "nbformat_minor": 5
}
