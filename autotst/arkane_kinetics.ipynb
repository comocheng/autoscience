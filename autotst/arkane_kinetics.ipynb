{
 "cells": [
  {
   "cell_type": "code",
   "execution_count": 1,
   "id": "b5a94142",
   "metadata": {},
   "outputs": [],
   "source": [
    "import os\n",
    "import glob\n",
    "import shutil\n",
    "\n",
    "import autotst.reaction\n",
    "import rmgpy.chemkin\n",
    "\n",
    "from hotbit import Hotbit"
   ]
  },
  {
   "cell_type": "code",
   "execution_count": 2,
   "id": "cce7c979",
   "metadata": {},
   "outputs": [],
   "source": [
    "import sys\n",
    "\n",
    "\n",
    "sys.path.append('/work/westgroup/harris.se/autoscience/autoscience_workflow/workflow/scripts/thermo/')\n",
    "sys.path.append('/work/westgroup/harris.se/autoscience/autoscience_workflow/workflow/scripts/kinetics/')\n",
    "\n",
    "import job\n",
    "import importlib\n",
    "importlib.reload(job)\n",
    "import kineticfun"
   ]
  },
  {
   "cell_type": "code",
   "execution_count": 3,
   "id": "ebde03cc",
   "metadata": {},
   "outputs": [],
   "source": [
    "reaction_index = 288\n",
    "# reaction_index = 805\n",
    "# reaction_index = 748\n",
    "reaction_smiles = kineticfun.reaction_index2smiles(reaction_index)"
   ]
  },
  {
   "cell_type": "code",
   "execution_count": 13,
   "id": "f91925d7",
   "metadata": {},
   "outputs": [],
   "source": [
    "DFT_DIR = \"/work/westgroup/harris.se/autoscience/autoscience/butane/dft\"\n",
    "reaction_dir = os.path.join(DFT_DIR, 'kinetics', f'reaction_{reaction_index:04}')\n",
    "overall_dir = os.path.join(reaction_dir, 'overall')\n",
    "arkane_dir = os.path.join(reaction_dir, 'arkane')\n",
    "os.makedirs(arkane_dir, exist_ok=True)\n",
    "\n",
    "species_dict_file = \"/work/westgroup/harris.se/autoscience/autoscience/butane/rmg_model/species_dictionary.txt\"\n",
    "species_dict = rmgpy.chemkin.load_species_dictionary(species_dict_file)\n"
   ]
  },
  {
   "cell_type": "code",
   "execution_count": null,
   "id": "6b58b90f",
   "metadata": {},
   "outputs": [],
   "source": []
  },
  {
   "cell_type": "code",
   "execution_count": 5,
   "id": "89bbca89",
   "metadata": {},
   "outputs": [
    {
     "name": "stderr",
     "output_type": "stream",
     "text": [
      "reaction.py:168 load_databases INFO Loading RMG database from '/home/harris.se/rmg/RMG-database/input'\n",
      "transport.py:294 load_groups INFO Loading transport group database from /home/harris.se/rmg/RMG-database/input/transport/groups...\n",
      "statmech.py:541 load_libraries INFO Loading frequencies library from halogens_G4.py in /home/harris.se/rmg/RMG-database/input/statmech/libraries...\n",
      "statmech.py:555 load_groups INFO Loading frequencies group database from /home/harris.se/rmg/RMG-database/input/statmech/groups...\n",
      "thermo.py:945 load_libraries INFO Loading thermodynamics library from primaryThermoLibrary.py in /home/harris.se/rmg/RMG-database/input/thermo/libraries...\n",
      "thermo.py:945 load_libraries INFO Loading thermodynamics library from thermo_DFT_CCSDTF12_BAC.py in /home/harris.se/rmg/RMG-database/input/thermo/libraries...\n",
      "thermo.py:945 load_libraries INFO Loading thermodynamics library from CBS_QB3_1dHR.py in /home/harris.se/rmg/RMG-database/input/thermo/libraries...\n",
      "thermo.py:976 load_groups INFO Loading thermodynamics group database from /home/harris.se/rmg/RMG-database/input/thermo/groups...\n",
      "base.py:212 load INFO Loading transitions state family groups from /work/westgroup/harris.se/AutoTST/database/R_Addition_MultipleBond/TS_groups.py\n",
      "base.py:212 load INFO Loading transitions state family groups from /work/westgroup/harris.se/AutoTST/database/H_Abstraction/TS_groups.py\n",
      "base.py:212 load INFO Loading transitions state family groups from /work/westgroup/harris.se/AutoTST/database/intra_H_migration/TS_groups.py\n",
      "reaction.py:343 get_labeled_reaction INFO Trying to match reaction to <ReactionFamily \"H_Abstraction\">\n",
      "reaction.py:371 get_labeled_reaction INFO Matched reaction to H_Abstraction family\n",
      "reaction.py:343 get_labeled_reaction INFO Trying to match reaction to <ReactionFamily \"R_Addition_MultipleBond\">\n",
      "reaction.py:343 get_labeled_reaction INFO Trying to match reaction to <ReactionFamily \"intra_H_migration\">\n",
      "reaction.py:354 get_labeled_reaction ERROR Couldn't match <Molecule \"CCCC\"> + <Molecule \"[OH]\"> <=> <Molecule \"O\"> + <Molecule \"[CH2]CCC\"> to intra_H_migration, trying different combination...\n",
      "reaction.py:343 get_labeled_reaction INFO Trying to match reaction to <ReactionFamily \"H_Abstraction\">\n",
      "reaction.py:371 get_labeled_reaction INFO Matched reaction to H_Abstraction family\n",
      "reaction.py:343 get_labeled_reaction INFO Trying to match reaction to <ReactionFamily \"R_Addition_MultipleBond\">\n",
      "reaction.py:343 get_labeled_reaction INFO Trying to match reaction to <ReactionFamily \"intra_H_migration\">\n",
      "reaction.py:354 get_labeled_reaction ERROR Couldn't match <Molecule \"CCCC\"> + <Molecule \"[OH]\"> <=> <Molecule \"O\"> + <Molecule \"[CH2]CCC\"> to intra_H_migration, trying different combination...\n",
      "reaction.py:261 generate_distance_data INFO Distance between *1 and *3 is too small, setting it to lower bound of uncertainty\n",
      "reaction.py:265 generate_distance_data INFO The distance data is as follows: DistanceData(distances={'d12': 1.187490,'d13': 2.421977,'d23': 1.401509,}, uncertainties={'d12': 0.275827,'d13': 0.277984,'d23': 0.325502,}, comment='Matched node C/H3/Cs ([<Entry index=118 label=\"C/H3/Cs\">, <Entry index=262 label=\"Cdj_CdsCs\">])\\nMatched node OjH ([<Entry index=29 label=\"OOH\">, <Entry index=30 label=\"OjH\">])\\n')\n",
      "reaction.py:766 get_rdkit_mol INFO Initially embedded molecule\n",
      "reaction.py:771 get_rdkit_mol INFO Getting bounds matrix\n",
      "reaction.py:775 get_rdkit_mol INFO Editing bounds matrix\n",
      "reaction.py:805 set_limits INFO For atoms 3 and 9 we have a distance of: \t 1.1874900000000002\n",
      "reaction.py:805 set_limits INFO For atoms 9 and 0 we have a distance of: \t 1.401509\n",
      "reaction.py:805 set_limits INFO For atoms 3 and 0 we have a distance of: \t 2.4219769999999996\n",
      "reaction.py:840 bm_pre_edit INFO Changing lower limit 2.4 to 2.311763204001361\n",
      "reaction.py:778 get_rdkit_mol INFO Performing triangle smoothing on bounds matrix.\n",
      "reaction.py:781 get_rdkit_mol INFO Now attempting to embed using edited bounds matrix.\n"
     ]
    },
    {
     "data": {
      "text/plain": [
       "(<rdkit.Chem.rdchem.Mol at 0x2b23d1ca53a0>, Atoms(symbols='OC4H11', pbc=False))"
      ]
     },
     "execution_count": 5,
     "metadata": {},
     "output_type": "execute_result"
    }
   ],
   "source": [
    "direction = 'forward'\n",
    "reaction = autotst.reaction.Reaction(label=reaction_smiles)\n",
    "reaction.ts[direction][0].get_molecules()\n",
    "# reaction.generate_conformers(ase_calculator=Hotbit())\n",
    "\n"
   ]
  },
  {
   "cell_type": "code",
   "execution_count": 14,
   "id": "89fd6b6b",
   "metadata": {},
   "outputs": [],
   "source": []
  },
  {
   "cell_type": "code",
   "execution_count": 17,
   "id": "32bbd6c6",
   "metadata": {},
   "outputs": [],
   "source": [
    "# pick the lowest energy transition state:\n",
    "TS_logs = glob.glob(os.path.join(overall_dir, f'fwd_ts_*.log'))\n",
    "N_TS = len(TS_logs)\n",
    "\n"
   ]
  },
  {
   "cell_type": "code",
   "execution_count": null,
   "id": "acf1df5d",
   "metadata": {},
   "outputs": [],
   "source": [
    "TS_logs"
   ]
  },
  {
   "cell_type": "code",
   "execution_count": 18,
   "id": "aec45f48",
   "metadata": {},
   "outputs": [
    {
     "name": "stderr",
     "output_type": "stream",
     "text": [
      "stats.py:37 <module> WARNING Optional package dependency \"xlwt\" not loaded. Some output features will not work.\n"
     ]
    }
   ],
   "source": [
    "import arkane.ess.gaussian"
   ]
  },
  {
   "cell_type": "code",
   "execution_count": 25,
   "id": "3e4daa28",
   "metadata": {},
   "outputs": [
    {
     "name": "stdout",
     "output_type": "stream",
     "text": [
      "-614751286.657168\n",
      "-614751286.662419\n"
     ]
    }
   ],
   "source": [
    "path = \"/work/westgroup/harris.se/autoscience/autoscience/butane/dft/kinetics/reaction_0288/arkane/fwd_ts_0000.log\"\n",
    "for logfile in TS_logs:\n",
    "    g_reader = arkane.ess.gaussian.GaussianLog(logfile)\n",
    "    print(g_reader.load_energy())"
   ]
  },
  {
   "cell_type": "code",
   "execution_count": 23,
   "id": "4be31d50",
   "metadata": {},
   "outputs": [
    {
     "data": {
      "text/plain": [
       "-614751286.657168"
      ]
     },
     "execution_count": 23,
     "metadata": {},
     "output_type": "execute_result"
    }
   ],
   "source": [
    "energy"
   ]
  },
  {
   "cell_type": "code",
   "execution_count": null,
   "id": "60ffcb32",
   "metadata": {},
   "outputs": [],
   "source": []
  },
  {
   "cell_type": "code",
   "execution_count": 6,
   "id": "b0951b74",
   "metadata": {},
   "outputs": [],
   "source": [
    "def get_sp_name(smiles):\n",
    "    if smiles == '[CH2]C=CC':\n",
    "        smiles = 'C=C[CH]C'\n",
    "    for entry in species_dict.keys():\n",
    "        if species_dict[entry].smiles == smiles:\n",
    "            return str(species_dict[entry])"
   ]
  },
  {
   "cell_type": "code",
   "execution_count": 7,
   "id": "38bb2cb8",
   "metadata": {},
   "outputs": [],
   "source": [
    "def get_reaction_label(rmg_reaction):\n",
    "    label = ''\n",
    "    for reactant in rmg_reaction.reactants:\n",
    "        label += get_sp_name(reactant.smiles) + ' + '\n",
    "    label = label[:-2]\n",
    "    label += '<=> '\n",
    "    for product in rmg_reaction.products:\n",
    "        label += get_sp_name(product.smiles) + ' + '\n",
    "    label = label[:-3]\n",
    "    return label"
   ]
  },
  {
   "cell_type": "code",
   "execution_count": 16,
   "id": "f7097e50",
   "metadata": {},
   "outputs": [
    {
     "name": "stdout",
     "output_type": "stream",
     "text": [
      "CCCC\n",
      "[OH]\n",
      "O\n",
      "[CH2]CCC\n"
     ]
    }
   ],
   "source": [
    "# write the input file\n",
    "\n",
    "model_chemistry = 'M06-2X/cc-pVTZ'\n",
    "\n",
    "lines = [\n",
    "    f'modelChemistry = \"{model_chemistry}\"\\n',\n",
    "    'useHinderedRotors = False\\n',\n",
    "    'useBondCorrections = False\\n\\n',\n",
    "]\n",
    "\n",
    "for reactant in reaction.rmg_reaction.reactants + reaction.rmg_reaction.products:\n",
    "    species_smiles = reactant.smiles\n",
    "    print(species_smiles)\n",
    "    if species_smiles == '[CH2]C=CC':\n",
    "        species_smiles = 'C=C[CH]C'\n",
    "    \n",
    "    species_name = get_sp_name(species_smiles)\n",
    "    species_index = job.smiles2index(species_smiles)\n",
    "    species_arkane_dir = os.path.join(DFT_DIR, 'thermo', f'species_{species_index:04}', 'arkane')\n",
    "    \n",
    "    species_file = os.path.join(f'species_{species_index:04}', os.path.basename(glob.glob(os.path.join(species_arkane_dir, 'conformer_*.py'))[0]))\n",
    "\n",
    "    try:\n",
    "        shutil.copytree(species_arkane_dir, os.path.join(arkane_dir, f'species_{species_index:04}'))\n",
    "    except FileExistsError:\n",
    "        pass\n",
    "        \n",
    "    # TODO - copy the species into the destination so the arkane calculation can be copied and redone elsewhere\n",
    "    lines.append(f'species(\"{species_name}\", \"{species_file}\", structure=SMILES(\"{species_smiles}\"))\\n')\n",
    "    lines.append(f'thermo(\"{species_name}\", \"NASA\")\\n\\n')\n",
    "\n",
    "\n",
    "lines.append('\\n')\n",
    "\n",
    "\n",
    "\n",
    "# for i, ts in enumerate(reaction.ts[direction]):\n",
    "for i in range(0, N_TS):\n",
    "    TS_name = f'TS_{i:04}'\n",
    "    TS_file = f'TS_{i:04}.py'\n",
    "    TS_arkane_path = os.path.join(arkane_dir, TS_file)\n",
    "    TS_log = os.path.join(reaction_dir, 'overall', f'fwd_ts_{i:04}.log')\n",
    "    shutil.copy(TS_log, arkane_dir)\n",
    "    \n",
    "    lines.append(f'transitionState(\"{TS_name}\", \"{TS_file}\")\\n')\n",
    "    \n",
    "    reaction_label = get_reaction_label(reaction.rmg_reaction)\n",
    "    reactants = [get_sp_name(reactant.smiles) for reactant in reaction.rmg_reaction.reactants]\n",
    "    products = [get_sp_name(product.smiles) for product in reaction.rmg_reaction.products]\n",
    "    lines.append(f'reaction(\\n')\n",
    "    lines.append(f'    label = \"{reaction_label}\",\\n')\n",
    "    lines.append(f'    reactants = {reactants},\\n')\n",
    "    lines.append(f'    products = {products},\\n')\n",
    "    lines.append(f'    transitionState = \"{TS_name}\",\\n')\n",
    "    lines.append(f'    tunneling = \"Eckart\",\\n')\n",
    "    lines.append(f')\\n\\n')\n",
    "    \n",
    "    \n",
    "    lines.append(f'statmech(\"{TS_name}\")\\n')\n",
    "    lines.append(f'kinetics(\"{reaction_label}\")\\n\\n')\n",
    "    \n",
    "    # write the TS file\n",
    "    ts_lines = [\n",
    "        'energy = {\"' + f'{model_chemistry}\": Log(\"{os.path.basename(TS_log)}\")' + '}\\n\\n',\n",
    "        'geometry = Log(\"' + f'{os.path.basename(TS_log)}\")' + '\\n\\n',\n",
    "        'frequencies = Log(\"' + f'{os.path.basename(TS_log)}\")' + '\\n\\n',\n",
    "    ]\n",
    "    with open(TS_arkane_path, 'w') as g:\n",
    "        g.writelines(ts_lines)\n",
    "    \n",
    "#     break  # TODO manage other TS somehow\n",
    "\n",
    "\n",
    "arkane_input_file = os.path.join(arkane_dir, 'input.py')\n",
    "with open(arkane_input_file, 'w') as f:\n",
    "    f.writelines(lines)\n"
   ]
  },
  {
   "cell_type": "code",
   "execution_count": null,
   "id": "81103b7d",
   "metadata": {},
   "outputs": [],
   "source": [
    "for product in reaction.rmg_reaction.products:\n",
    "    print(get_sp_name(product.smiles))"
   ]
  },
  {
   "cell_type": "code",
   "execution_count": null,
   "id": "c1f63e99",
   "metadata": {},
   "outputs": [],
   "source": [
    "reaction_smiles"
   ]
  },
  {
   "cell_type": "code",
   "execution_count": null,
   "id": "5067aaac",
   "metadata": {},
   "outputs": [],
   "source": [
    "job.smiles2index('C=C[CH]C')"
   ]
  },
  {
   "cell_type": "code",
   "execution_count": null,
   "id": "246fd4dc",
   "metadata": {},
   "outputs": [],
   "source": [
    "get_sp_name('C=C[CH]C')"
   ]
  },
  {
   "cell_type": "code",
   "execution_count": null,
   "id": "731a310c",
   "metadata": {},
   "outputs": [],
   "source": []
  }
 ],
 "metadata": {
  "kernelspec": {
   "display_name": "Python 3 (ipykernel)",
   "language": "python",
   "name": "python3"
  },
  "language_info": {
   "codemirror_mode": {
    "name": "ipython",
    "version": 3
   },
   "file_extension": ".py",
   "mimetype": "text/x-python",
   "name": "python",
   "nbconvert_exporter": "python",
   "pygments_lexer": "ipython3",
   "version": "3.7.12"
  }
 },
 "nbformat": 4,
 "nbformat_minor": 5
}
