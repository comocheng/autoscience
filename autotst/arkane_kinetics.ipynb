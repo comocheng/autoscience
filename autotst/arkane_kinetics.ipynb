{
 "cells": [
  {
   "cell_type": "code",
   "execution_count": 1,
   "id": "9ef04e33",
   "metadata": {},
   "outputs": [
    {
     "name": "stderr",
     "output_type": "stream",
     "text": [
      "stats.py:37 <module> WARNING Optional package dependency \"xlwt\" not loaded. Some output features will not work.\n"
     ]
    }
   ],
   "source": [
    "import os\n",
    "import glob\n",
    "import shutil\n",
    "\n",
    "import autotst.reaction\n",
    "import arkane.ess.gaussian\n",
    "import rmgpy.chemkin\n",
    "\n",
    "# from hotbit import Hotbit"
   ]
  },
  {
   "cell_type": "code",
   "execution_count": null,
   "id": "7b4ba811",
   "metadata": {},
   "outputs": [],
   "source": []
  },
  {
   "cell_type": "code",
   "execution_count": 2,
   "id": "27defaa0",
   "metadata": {},
   "outputs": [],
   "source": [
    "import sys\n",
    "\n",
    "\n",
    "sys.path.append('/work/westgroup/harris.se/autoscience/autoscience_workflow/workflow/scripts/thermo/')\n",
    "sys.path.append('/work/westgroup/harris.se/autoscience/autoscience_workflow/workflow/scripts/kinetics/')\n",
    "\n",
    "import job\n",
    "import importlib\n",
    "importlib.reload(job)\n",
    "import kineticfun"
   ]
  },
  {
   "cell_type": "code",
   "execution_count": 3,
   "id": "9e86b0b9",
   "metadata": {},
   "outputs": [],
   "source": [
    "# reaction_index = 288\n",
    "# reaction_index = 805\n",
    "# reaction_index = 748\n",
    "reaction_index = 720\n",
    "reaction_index = 722\n",
    "reaction_smiles = kineticfun.reaction_index2smiles(reaction_index)"
   ]
  },
  {
   "cell_type": "code",
   "execution_count": 4,
   "id": "422578fb",
   "metadata": {},
   "outputs": [],
   "source": [
    "DFT_DIR = \"/work/westgroup/harris.se/autoscience/autoscience/butane/dft\"\n",
    "reaction_dir = os.path.join(DFT_DIR, 'kinetics', f'reaction_{reaction_index:04}')\n",
    "overall_dir = os.path.join(reaction_dir, 'overall')\n",
    "arkane_dir = os.path.join(reaction_dir, 'arkane')\n",
    "os.makedirs(arkane_dir, exist_ok=True)\n",
    "\n",
    "species_dict_file = \"/work/westgroup/harris.se/autoscience/autoscience/butane/models/rmg_model/species_dictionary.txt\"\n",
    "species_dict = rmgpy.chemkin.load_species_dictionary(species_dict_file)\n"
   ]
  },
  {
   "cell_type": "code",
   "execution_count": 5,
   "id": "8c898018",
   "metadata": {},
   "outputs": [
    {
     "name": "stderr",
     "output_type": "stream",
     "text": [
      "reaction.py:168 load_databases INFO Loading RMG database from '/home/harris.se/rmg/RMG-database/input'\n",
      "transport.py:294 load_groups INFO Loading transport group database from /home/harris.se/rmg/RMG-database/input/transport/groups...\n",
      "statmech.py:541 load_libraries INFO Loading frequencies library from halogens_G4.py in /home/harris.se/rmg/RMG-database/input/statmech/libraries...\n",
      "statmech.py:555 load_groups INFO Loading frequencies group database from /home/harris.se/rmg/RMG-database/input/statmech/groups...\n",
      "thermo.py:945 load_libraries INFO Loading thermodynamics library from primaryThermoLibrary.py in /home/harris.se/rmg/RMG-database/input/thermo/libraries...\n",
      "thermo.py:945 load_libraries INFO Loading thermodynamics library from thermo_DFT_CCSDTF12_BAC.py in /home/harris.se/rmg/RMG-database/input/thermo/libraries...\n",
      "thermo.py:945 load_libraries INFO Loading thermodynamics library from CBS_QB3_1dHR.py in /home/harris.se/rmg/RMG-database/input/thermo/libraries...\n",
      "thermo.py:976 load_groups INFO Loading thermodynamics group database from /home/harris.se/rmg/RMG-database/input/thermo/groups...\n",
      "base.py:212 load INFO Loading transitions state family groups from /work/westgroup/harris.se/AutoTST/database/R_Addition_MultipleBond/TS_groups.py\n",
      "base.py:212 load INFO Loading transitions state family groups from /work/westgroup/harris.se/AutoTST/database/H_Abstraction/TS_groups.py\n",
      "base.py:212 load INFO Loading transitions state family groups from /work/westgroup/harris.se/AutoTST/database/intra_H_migration/TS_groups.py\n",
      "base.py:212 load INFO Loading transitions state family groups from /work/westgroup/harris.se/AutoTST/database/Disproportionation/TS_groups.py\n",
      "reaction.py:348 get_labeled_reaction INFO Trying to match reaction to <ReactionFamily \"Disproportionation\">\n",
      "reaction.py:376 get_labeled_reaction INFO Matched reaction to Disproportionation family\n",
      "reaction.py:372 get_labeled_reaction WARNING This reaction has been already labeled...                                 it seems that resonance structures \f",
      "or reactants and products exist.\n",
      "reaction.py:373 get_labeled_reaction WARNING Skipping this duplicate for now\n",
      "reaction.py:359 get_labeled_reaction ERROR Couldn't match <Molecule \"[CH2]C=CC\"> + <Molecule \"[CH2]C=O\"> <=> <Molecule \"C=C=O\"> + <Molecule \"C=CCC\"> to Disproportionation, trying different combination...\n",
      "reaction.py:359 get_labeled_reaction ERROR Couldn't match <Molecule \"[CH2]C=CC\"> + <Molecule \"C=C[O]\"> <=> <Molecule \"C=C=O\"> + <Molecule \"C=CCC\"> to Disproportionation, trying different combination...\n",
      "reaction.py:348 get_labeled_reaction INFO Trying to match reaction to <ReactionFamily \"H_Abstraction\">\n",
      "reaction.py:359 get_labeled_reaction ERROR Couldn't match <Molecule \"C=C[CH]C\"> + <Molecule \"[CH2]C=O\"> <=> <Molecule \"C=C=O\"> + <Molecule \"C=CCC\"> to H_Abstraction, trying different combination...\n",
      "reaction.py:359 get_labeled_reaction ERROR Couldn't match <Molecule \"C=C[CH]C\"> + <Molecule \"C=C[O]\"> <=> <Molecule \"C=C=O\"> + <Molecule \"C=CCC\"> to H_Abstraction, trying different combination...\n",
      "reaction.py:359 get_labeled_reaction ERROR Couldn't match <Molecule \"[CH2]C=CC\"> + <Molecule \"[CH2]C=O\"> <=> <Molecule \"C=C=O\"> + <Molecule \"C=CCC\"> to H_Abstraction, trying different combination...\n",
      "reaction.py:359 get_labeled_reaction ERROR Couldn't match <Molecule \"[CH2]C=CC\"> + <Molecule \"C=C[O]\"> <=> <Molecule \"C=C=O\"> + <Molecule \"C=CCC\"> to H_Abstraction, trying different combination...\n",
      "reaction.py:348 get_labeled_reaction INFO Trying to match reaction to <ReactionFamily \"R_Addition_MultipleBond\">\n",
      "reaction.py:359 get_labeled_reaction ERROR Couldn't match <Molecule \"C=C[CH]C\"> + <Molecule \"[CH2]C=O\"> <=> <Molecule \"C=C=O\"> + <Molecule \"C=CCC\"> to R_Addition_MultipleBond, trying different combination...\n",
      "reaction.py:359 get_labeled_reaction ERROR Couldn't match <Molecule \"C=C[CH]C\"> + <Molecule \"C=C[O]\"> <=> <Molecule \"C=C=O\"> + <Molecule \"C=CCC\"> to R_Addition_MultipleBond, trying different combination...\n",
      "reaction.py:359 get_labeled_reaction ERROR Couldn't match <Molecule \"[CH2]C=CC\"> + <Molecule \"[CH2]C=O\"> <=> <Molecule \"C=C=O\"> + <Molecule \"C=CCC\"> to R_Addition_MultipleBond, trying different combination...\n",
      "reaction.py:359 get_labeled_reaction ERROR Couldn't match <Molecule \"[CH2]C=CC\"> + <Molecule \"C=C[O]\"> <=> <Molecule \"C=C=O\"> + <Molecule \"C=CCC\"> to R_Addition_MultipleBond, trying different combination...\n",
      "reaction.py:348 get_labeled_reaction INFO Trying to match reaction to <ReactionFamily \"intra_H_migration\">\n",
      "reaction.py:359 get_labeled_reaction ERROR Couldn't match <Molecule \"C=C[CH]C\"> + <Molecule \"[CH2]C=O\"> <=> <Molecule \"C=C=O\"> + <Molecule \"C=CCC\"> to intra_H_migration, trying different combination...\n",
      "reaction.py:359 get_labeled_reaction ERROR Couldn't match <Molecule \"C=C[CH]C\"> + <Molecule \"C=C[O]\"> <=> <Molecule \"C=C=O\"> + <Molecule \"C=CCC\"> to intra_H_migration, trying different combination...\n",
      "reaction.py:359 get_labeled_reaction ERROR Couldn't match <Molecule \"[CH2]C=CC\"> + <Molecule \"[CH2]C=O\"> <=> <Molecule \"C=C=O\"> + <Molecule \"C=CCC\"> to intra_H_migration, trying different combination...\n",
      "reaction.py:359 get_labeled_reaction ERROR Couldn't match <Molecule \"[CH2]C=CC\"> + <Molecule \"C=C[O]\"> <=> <Molecule \"C=C=O\"> + <Molecule \"C=CCC\"> to intra_H_migration, trying different combination...\n",
      "reaction.py:348 get_labeled_reaction INFO Trying to match reaction to <ReactionFamily \"Disproportionation\">\n",
      "reaction.py:376 get_labeled_reaction INFO Matched reaction to Disproportionation family\n",
      "reaction.py:372 get_labeled_reaction WARNING This reaction has been already labeled...                                 it seems that resonance structures \f",
      "or reactants and products exist.\n",
      "reaction.py:373 get_labeled_reaction WARNING Skipping this duplicate for now\n",
      "reaction.py:359 get_labeled_reaction ERROR Couldn't match <Molecule \"[CH2]C=CC\"> + <Molecule \"[CH2]C=O\"> <=> <Molecule \"C=C=O\"> + <Molecule \"C=CCC\"> to Disproportionation, trying different combination...\n",
      "reaction.py:359 get_labeled_reaction ERROR Couldn't match <Molecule \"[CH2]C=CC\"> + <Molecule \"C=C[O]\"> <=> <Molecule \"C=C=O\"> + <Molecule \"C=CCC\"> to Disproportionation, trying different combination...\n",
      "reaction.py:348 get_labeled_reaction INFO Trying to match reaction to <ReactionFamily \"H_Abstraction\">\n",
      "reaction.py:359 get_labeled_reaction ERROR Couldn't match <Molecule \"C=C[CH]C\"> + <Molecule \"[CH2]C=O\"> <=> <Molecule \"C=C=O\"> + <Molecule \"C=CCC\"> to H_Abstraction, trying different combination...\n",
      "reaction.py:359 get_labeled_reaction ERROR Couldn't match <Molecule \"C=C[CH]C\"> + <Molecule \"C=C[O]\"> <=> <Molecule \"C=C=O\"> + <Molecule \"C=CCC\"> to H_Abstraction, trying different combination...\n",
      "reaction.py:359 get_labeled_reaction ERROR Couldn't match <Molecule \"[CH2]C=CC\"> + <Molecule \"[CH2]C=O\"> <=> <Molecule \"C=C=O\"> + <Molecule \"C=CCC\"> to H_Abstraction, trying different combination...\n",
      "reaction.py:359 get_labeled_reaction ERROR Couldn't match <Molecule \"[CH2]C=CC\"> + <Molecule \"C=C[O]\"> <=> <Molecule \"C=C=O\"> + <Molecule \"C=CCC\"> to H_Abstraction, trying different combination...\n",
      "reaction.py:348 get_labeled_reaction INFO Trying to match reaction to <ReactionFamily \"R_Addition_MultipleBond\">\n",
      "reaction.py:359 get_labeled_reaction ERROR Couldn't match <Molecule \"C=C[CH]C\"> + <Molecule \"[CH2]C=O\"> <=> <Molecule \"C=C=O\"> + <Molecule \"C=CCC\"> to R_Addition_MultipleBond, trying different combination...\n",
      "reaction.py:359 get_labeled_reaction ERROR Couldn't match <Molecule \"C=C[CH]C\"> + <Molecule \"C=C[O]\"> <=> <Molecule \"C=C=O\"> + <Molecule \"C=CCC\"> to R_Addition_MultipleBond, trying different combination...\n",
      "reaction.py:359 get_labeled_reaction ERROR Couldn't match <Molecule \"[CH2]C=CC\"> + <Molecule \"[CH2]C=O\"> <=> <Molecule \"C=C=O\"> + <Molecule \"C=CCC\"> to R_Addition_MultipleBond, trying different combination...\n",
      "reaction.py:359 get_labeled_reaction ERROR Couldn't match <Molecule \"[CH2]C=CC\"> + <Molecule \"C=C[O]\"> <=> <Molecule \"C=C=O\"> + <Molecule \"C=CCC\"> to R_Addition_MultipleBond, trying different combination...\n",
      "reaction.py:348 get_labeled_reaction INFO Trying to match reaction to <ReactionFamily \"intra_H_migration\">\n",
      "reaction.py:359 get_labeled_reaction ERROR Couldn't match <Molecule \"C=C[CH]C\"> + <Molecule \"[CH2]C=O\"> <=> <Molecule \"C=C=O\"> + <Molecule \"C=CCC\"> to intra_H_migration, trying different combination...\n"
     ]
    },
    {
     "name": "stderr",
     "output_type": "stream",
     "text": [
      "reaction.py:359 get_labeled_reaction ERROR Couldn't match <Molecule \"C=C[CH]C\"> + <Molecule \"C=C[O]\"> <=> <Molecule \"C=C=O\"> + <Molecule \"C=CCC\"> to intra_H_migration, trying different combination...\n",
      "reaction.py:359 get_labeled_reaction ERROR Couldn't match <Molecule \"[CH2]C=CC\"> + <Molecule \"[CH2]C=O\"> <=> <Molecule \"C=C=O\"> + <Molecule \"C=CCC\"> to intra_H_migration, trying different combination...\n",
      "reaction.py:359 get_labeled_reaction ERROR Couldn't match <Molecule \"[CH2]C=CC\"> + <Molecule \"C=C[O]\"> <=> <Molecule \"C=C=O\"> + <Molecule \"C=CCC\"> to intra_H_migration, trying different combination...\n",
      "reaction.py:262 generate_distance_data INFO Distance between *1 and *3 is too small, setting it to lower bound of uncertainty\n",
      "reaction.py:268 generate_distance_data INFO The distance data is as follows: DistanceData(distances={'d12': 1.442920,'d13': 2.689288,'d23': 1.251105,}, uncertainties={'d12': 0.000809,'d13': 0.000463,'d23': 0.000067,})\n",
      "reaction.py:771 get_rdkit_mol INFO Initially embedded molecule\n",
      "reaction.py:776 get_rdkit_mol INFO Getting bounds matrix\n",
      "reaction.py:780 get_rdkit_mol INFO Editing bounds matrix\n",
      "reaction.py:810 set_limits INFO For atoms 6 and 16 we have a distance of: \t 1.44292\n",
      "reaction.py:810 set_limits INFO For atoms 16 and 2 we have a distance of: \t 1.251105\n",
      "reaction.py:810 set_limits INFO For atoms 6 and 2 we have a distance of: \t 2.6892884448\n",
      "reaction.py:845 bm_pre_edit INFO Changing lower limit 3.25 to 3.197457824625325\n",
      "reaction.py:845 bm_pre_edit INFO Changing lower limit 2.6792884448 to 2.614025\n",
      "reaction.py:845 bm_pre_edit INFO Changing lower limit 2.9 to 2.6851049999999996\n",
      "reaction.py:845 bm_pre_edit INFO Changing lower limit 2.9 to 2.6601049999999997\n",
      "reaction.py:845 bm_pre_edit INFO Changing lower limit 2.4 to 2.280505794877744\n",
      "reaction.py:783 get_rdkit_mol INFO Performing triangle smoothing on bounds matrix.\n",
      "reaction.py:786 get_rdkit_mol INFO Now attempting to embed using edited bounds matrix.\n"
     ]
    },
    {
     "data": {
      "text/plain": [
       "(<rdkit.Chem.rdchem.Mol at 0x2b2f2830d710>, Atoms(symbols='OC6H10', pbc=False))"
      ]
     },
     "execution_count": 5,
     "metadata": {},
     "output_type": "execute_result"
    }
   ],
   "source": [
    "direction = 'forward'\n",
    "reaction = autotst.reaction.Reaction(label=reaction_smiles)\n",
    "reaction.ts[direction][0].get_molecules()\n",
    "# reaction.generate_conformers(ase_calculator=Hotbit())\n",
    "\n"
   ]
  },
  {
   "cell_type": "code",
   "execution_count": 7,
   "id": "d28ac873",
   "metadata": {},
   "outputs": [
    {
     "ename": "LogError",
     "evalue": "There was an error (Unconverged) with Gaussian output file /work/westgroup/harris.se/autoscience/autoscience/butane/dft/kinetics/reaction_0722/overall/fwd_ts_0000.log due to line:\n Error termination via Lnk1e in /shared/centos7/gaussian/g16/l9999.exe at Thu Oct 13 21:36:40 2022.\n",
     "output_type": "error",
     "traceback": [
      "\u001b[0;31m---------------------------------------------------------------------------\u001b[0m",
      "\u001b[0;31mLogError\u001b[0m                                  Traceback (most recent call last)",
      "\u001b[0;32m/tmp/ipykernel_23427/1928659564.py\u001b[0m in \u001b[0;36m<module>\u001b[0;34m\u001b[0m\n\u001b[1;32m      4\u001b[0m \u001b[0mlowest_energy\u001b[0m \u001b[0;34m=\u001b[0m \u001b[0;36m0\u001b[0m\u001b[0;34m\u001b[0m\u001b[0;34m\u001b[0m\u001b[0m\n\u001b[1;32m      5\u001b[0m \u001b[0;32mfor\u001b[0m \u001b[0mlogfile\u001b[0m \u001b[0;32min\u001b[0m \u001b[0mTS_logs\u001b[0m\u001b[0;34m:\u001b[0m\u001b[0;34m\u001b[0m\u001b[0;34m\u001b[0m\u001b[0m\n\u001b[0;32m----> 6\u001b[0;31m     \u001b[0mg_reader\u001b[0m \u001b[0;34m=\u001b[0m \u001b[0markane\u001b[0m\u001b[0;34m.\u001b[0m\u001b[0mess\u001b[0m\u001b[0;34m.\u001b[0m\u001b[0mgaussian\u001b[0m\u001b[0;34m.\u001b[0m\u001b[0mGaussianLog\u001b[0m\u001b[0;34m(\u001b[0m\u001b[0mlogfile\u001b[0m\u001b[0;34m)\u001b[0m\u001b[0;34m\u001b[0m\u001b[0;34m\u001b[0m\u001b[0m\n\u001b[0m\u001b[1;32m      7\u001b[0m     \u001b[0menergy\u001b[0m \u001b[0;34m=\u001b[0m \u001b[0mg_reader\u001b[0m\u001b[0;34m.\u001b[0m\u001b[0mload_energy\u001b[0m\u001b[0;34m(\u001b[0m\u001b[0;34m)\u001b[0m\u001b[0;34m\u001b[0m\u001b[0;34m\u001b[0m\u001b[0m\n\u001b[1;32m      8\u001b[0m     \u001b[0;32mif\u001b[0m \u001b[0menergy\u001b[0m \u001b[0;34m<\u001b[0m \u001b[0mlowest_energy\u001b[0m\u001b[0;34m:\u001b[0m\u001b[0;34m\u001b[0m\u001b[0;34m\u001b[0m\u001b[0m\n",
      "\u001b[0;32m~/rmg/RMG-Py/arkane/ess/adapter.py\u001b[0m in \u001b[0;36m__init__\u001b[0;34m(self, path, check_for_errors)\u001b[0m\n\u001b[1;32m     49\u001b[0m         \u001b[0mself\u001b[0m\u001b[0;34m.\u001b[0m\u001b[0mpath\u001b[0m \u001b[0;34m=\u001b[0m \u001b[0mpath\u001b[0m\u001b[0;34m\u001b[0m\u001b[0;34m\u001b[0m\u001b[0m\n\u001b[1;32m     50\u001b[0m         \u001b[0;32mif\u001b[0m \u001b[0mcheck_for_errors\u001b[0m\u001b[0;34m:\u001b[0m\u001b[0;34m\u001b[0m\u001b[0;34m\u001b[0m\u001b[0m\n\u001b[0;32m---> 51\u001b[0;31m             \u001b[0mself\u001b[0m\u001b[0;34m.\u001b[0m\u001b[0mcheck_for_errors\u001b[0m\u001b[0;34m(\u001b[0m\u001b[0;34m)\u001b[0m\u001b[0;34m\u001b[0m\u001b[0;34m\u001b[0m\u001b[0m\n\u001b[0m\u001b[1;32m     52\u001b[0m \u001b[0;34m\u001b[0m\u001b[0m\n\u001b[1;32m     53\u001b[0m     \u001b[0;34m@\u001b[0m\u001b[0mabstractmethod\u001b[0m\u001b[0;34m\u001b[0m\u001b[0;34m\u001b[0m\u001b[0m\n",
      "\u001b[0;32m~/rmg/RMG-Py/arkane/ess/gaussian.py\u001b[0m in \u001b[0;36mcheck_for_errors\u001b[0;34m(self)\u001b[0m\n\u001b[1;32m     95\u001b[0m                         \u001b[0merror\u001b[0m \u001b[0;34m=\u001b[0m \u001b[0;34m'Maximum optimization cycles reached.'\u001b[0m\u001b[0;34m\u001b[0m\u001b[0;34m\u001b[0m\u001b[0m\n\u001b[1;32m     96\u001b[0m                     \u001b[0;32mif\u001b[0m \u001b[0merror\u001b[0m\u001b[0;34m:\u001b[0m\u001b[0;34m\u001b[0m\u001b[0;34m\u001b[0m\u001b[0m\n\u001b[0;32m---> 97\u001b[0;31m                         raise LogError(f'There was an error ({error}) with Gaussian output file {self.path} '\n\u001b[0m\u001b[1;32m     98\u001b[0m                                        f'due to line:\\n{line}')\n\u001b[1;32m     99\u001b[0m                     \u001b[0;32melse\u001b[0m\u001b[0;34m:\u001b[0m\u001b[0;34m\u001b[0m\u001b[0;34m\u001b[0m\u001b[0m\n",
      "\u001b[0;31mLogError\u001b[0m: There was an error (Unconverged) with Gaussian output file /work/westgroup/harris.se/autoscience/autoscience/butane/dft/kinetics/reaction_0722/overall/fwd_ts_0000.log due to line:\n Error termination via Lnk1e in /shared/centos7/gaussian/g16/l9999.exe at Thu Oct 13 21:36:40 2022.\n"
     ]
    }
   ],
   "source": [
    "# pick the lowest energy transition state:\n",
    "TS_logs = glob.glob(os.path.join(overall_dir, f'fwd_ts_*.log'))\n",
    "TS_log = ''\n",
    "lowest_energy = 0\n",
    "for logfile in TS_logs:\n",
    "    g_reader = arkane.ess.gaussian.GaussianLog(logfile)\n",
    "    energy = g_reader.load_energy()\n",
    "    if energy < lowest_energy:\n",
    "        lowest_energy = energy\n",
    "        TS_log = logfile"
   ]
  },
  {
   "cell_type": "code",
   "execution_count": null,
   "id": "54ee398a",
   "metadata": {},
   "outputs": [],
   "source": []
  },
  {
   "cell_type": "code",
   "execution_count": null,
   "id": "3e92d2c0",
   "metadata": {},
   "outputs": [],
   "source": [
    "def get_sp_name(smiles):\n",
    "    if smiles == '[CH2]C=CC':\n",
    "        smiles = 'C=C[CH]C'\n",
    "    for entry in species_dict.keys():\n",
    "        if species_dict[entry].smiles == smiles:\n",
    "            return str(species_dict[entry])"
   ]
  },
  {
   "cell_type": "code",
   "execution_count": null,
   "id": "a3e5b261",
   "metadata": {},
   "outputs": [],
   "source": [
    "def get_reaction_label(rmg_reaction):\n",
    "    label = ''\n",
    "    for reactant in rmg_reaction.reactants:\n",
    "        label += get_sp_name(reactant.smiles) + ' + '\n",
    "    label = label[:-2]\n",
    "    label += '<=> '\n",
    "    for product in rmg_reaction.products:\n",
    "        label += get_sp_name(product.smiles) + ' + '\n",
    "    label = label[:-3]\n",
    "    return label"
   ]
  },
  {
   "cell_type": "code",
   "execution_count": null,
   "id": "eaf483a8",
   "metadata": {},
   "outputs": [],
   "source": []
  },
  {
   "cell_type": "code",
   "execution_count": null,
   "id": "ee80e7ad",
   "metadata": {},
   "outputs": [],
   "source": []
  },
  {
   "cell_type": "code",
   "execution_count": null,
   "id": "d9ac8a19",
   "metadata": {},
   "outputs": [],
   "source": []
  },
  {
   "cell_type": "code",
   "execution_count": null,
   "id": "4ed98a84",
   "metadata": {},
   "outputs": [],
   "source": [
    "# write the input file\n",
    "\n",
    "model_chemistry = 'M06-2X/cc-pVTZ'\n",
    "\n",
    "lines = [\n",
    "    f'modelChemistry = \"{model_chemistry}\"\\n',\n",
    "    'useHinderedRotors = False\\n',\n",
    "    'useBondCorrections = False\\n\\n',\n",
    "]\n",
    "\n",
    "for reactant in reaction.rmg_reaction.reactants + reaction.rmg_reaction.products:\n",
    "    species_smiles = reactant.smiles\n",
    "    print(species_smiles)\n",
    "    if species_smiles == '[CH2]C=CC':\n",
    "        species_smiles = 'C=C[CH]C'\n",
    "    \n",
    "    species_name = get_sp_name(species_smiles)\n",
    "    species_index = job.smiles2index(species_smiles)\n",
    "    species_arkane_dir = os.path.join(DFT_DIR, 'thermo', f'species_{species_index:04}', 'arkane')\n",
    "    \n",
    "    species_file = os.path.join(f'species_{species_index:04}', os.path.basename(glob.glob(os.path.join(species_arkane_dir, 'conformer_*.py'))[0]))\n",
    "\n",
    "    try:\n",
    "        shutil.copytree(species_arkane_dir, os.path.join(arkane_dir, f'species_{species_index:04}'))\n",
    "    except FileExistsError:\n",
    "        pass\n",
    "        \n",
    "    # TODO - copy the species into the destination so the arkane calculation can be copied and redone elsewhere\n",
    "    lines.append(f'species(\"{species_name}\", \"{species_file}\", structure=SMILES(\"{species_smiles}\"))\\n')\n",
    "    lines.append(f'thermo(\"{species_name}\", \"NASA\")\\n\\n')\n",
    "\n",
    "\n",
    "lines.append('\\n')\n",
    "\n",
    "\n",
    "TS_name = f'TS'\n",
    "TS_file = f'TS.py'\n",
    "TS_arkane_path = os.path.join(arkane_dir, TS_file)\n",
    "shutil.copy(TS_log, arkane_dir)\n",
    "\n",
    "lines.append(f'transitionState(\"{TS_name}\", \"{TS_file}\")\\n')\n",
    "\n",
    "reaction_label = get_reaction_label(reaction.rmg_reaction)\n",
    "reactants = [get_sp_name(reactant.smiles) for reactant in reaction.rmg_reaction.reactants]\n",
    "products = [get_sp_name(product.smiles) for product in reaction.rmg_reaction.products]\n",
    "lines.append(f'reaction(\\n')\n",
    "lines.append(f'    label = \"{reaction_label}\",\\n')\n",
    "lines.append(f'    reactants = {reactants},\\n')\n",
    "lines.append(f'    products = {products},\\n')\n",
    "lines.append(f'    transitionState = \"{TS_name}\",\\n')\n",
    "lines.append(f'    tunneling = \"Eckart\",\\n')\n",
    "lines.append(f')\\n\\n')\n",
    "\n",
    "\n",
    "lines.append(f'statmech(\"{TS_name}\")\\n')\n",
    "lines.append(f'kinetics(\"{reaction_label}\")\\n\\n')\n",
    "\n",
    "# write the TS file\n",
    "ts_lines = [\n",
    "    'energy = {\"' + f'{model_chemistry}\": Log(\"{os.path.basename(TS_log)}\")' + '}\\n\\n',\n",
    "    'geometry = Log(\"' + f'{os.path.basename(TS_log)}\")' + '\\n\\n',\n",
    "    'frequencies = Log(\"' + f'{os.path.basename(TS_log)}\")' + '\\n\\n',\n",
    "]\n",
    "with open(TS_arkane_path, 'w') as g:\n",
    "    g.writelines(ts_lines)\n",
    "\n",
    "\n",
    "arkane_input_file = os.path.join(arkane_dir, 'input.py')\n",
    "with open(arkane_input_file, 'w') as f:\n",
    "    f.writelines(lines)\n"
   ]
  },
  {
   "cell_type": "code",
   "execution_count": null,
   "id": "d67b7d9b",
   "metadata": {},
   "outputs": [],
   "source": [
    "# make the slurm script to run arkane\n",
    "run_script = os.path.join(arkane_dir, 'run_arkane.sh')\n",
    "with open(run_script, 'w') as f:\n",
    "    # Run on express\n",
    "    f.write('#!/bin/bash\\n')\n",
    "    f.write('#SBATCH --partition=express,short,west\\n')\n",
    "    f.write('#SBATCH --time=00:20:00\\n\\n')\n",
    "    f.write('python ~/rmg/RMG-Py/Arkane.py input.py\\n\\n')\n"
   ]
  }
 ],
 "metadata": {
  "kernelspec": {
   "display_name": "Python 3 (ipykernel)",
   "language": "python",
   "name": "python3"
  },
  "language_info": {
   "codemirror_mode": {
    "name": "ipython",
    "version": 3
   },
   "file_extension": ".py",
   "mimetype": "text/x-python",
   "name": "python",
   "nbconvert_exporter": "python",
   "pygments_lexer": "ipython3",
   "version": "3.7.12"
  }
 },
 "nbformat": 4,
 "nbformat_minor": 5
}
