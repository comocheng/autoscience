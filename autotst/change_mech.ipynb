{
 "cells": [
  {
   "cell_type": "code",
   "execution_count": null,
   "id": "563c8103",
   "metadata": {},
   "outputs": [],
   "source": [
    "# script to replace the base mechanism with new reactions (every reaction calculated) and species (all species calculated for now)"
   ]
  },
  {
   "cell_type": "code",
   "execution_count": 1,
   "id": "8a10e21c",
   "metadata": {},
   "outputs": [],
   "source": [
    "import os\n",
    "import datetime\n",
    "import subprocess\n",
    "import numpy as np\n",
    "\n",
    "import rmgpy.chemkin\n",
    "import rmgpy.data.kinetics\n",
    "# import cantera as ct\n",
    "\n",
    "\n",
    "import matplotlib.pyplot as plt\n",
    "%matplotlib inline"
   ]
  },
  {
   "cell_type": "code",
   "execution_count": 2,
   "id": "210445c5",
   "metadata": {},
   "outputs": [],
   "source": [
    "def plot_kinetics(rxns, labels=None):\n",
    "    \"\"\"Function for plotting reaction kinetics\n",
    "    Takes in a list of RMG reactions (rmgpy.reaction.Reaction) or a single reaction\n",
    "    \"\"\"\n",
    "    plt.xlabel('1000 / T (K^-1)')\n",
    "    plt.ylabel('ln(k)')\n",
    "\n",
    "    if type(rxns) != list:\n",
    "        rxns = [rxns]\n",
    "    \n",
    "    T = np.linspace(300, 3000, 1001)\n",
    "    for rxn in rxns:\n",
    "        k = np.zeros(len(T))\n",
    "        for i in range(0, len(T)):\n",
    "            k[i] = rxn.get_rate_coefficient(T[i], 101325)\n",
    "        plt.plot(1000.0 / T, np.log(k))\n",
    "\n",
    "    if labels:\n",
    "        plt.legend(labels)\n",
    "    plt.show()"
   ]
  },
  {
   "cell_type": "code",
   "execution_count": 3,
   "id": "2bf57021",
   "metadata": {},
   "outputs": [],
   "source": [
    "def plot_thermos(thermos, labels=None):\n",
    "    %matplotlib inline\n",
    "    fig, ax = plt.subplots(1,3)\n",
    "    fig.set_size_inches(12, 3)\n",
    "    fig.tight_layout()\n",
    "    ax[0].set_xlabel('Temperature (K)')\n",
    "    ax[0].set_ylabel('H (kJ / mol)')\n",
    "    ax[0].set_title('Enthalpy vs. Temperature')\n",
    "    ax[1].set_xlabel('Temperature (K)')\n",
    "    ax[1].set_ylabel('S (kJ / mol K)')\n",
    "    ax[1].set_title('Entropy vs. Temperature')\n",
    "    ax[2].set_xlabel('Temperature (K)')\n",
    "    ax[2].set_ylabel('Cp (kJ / mol K)')\n",
    "    ax[2].set_title('Heat Capacity vs. Temperature')\n",
    "    T = np.linspace(300, 3000, 1001)\n",
    "    for thermo in thermos:\n",
    "        H = np.zeros(len(T))\n",
    "        S = np.zeros(len(T))\n",
    "        Cp = np.zeros(len(T))\n",
    "        for i in range(0, len(T)):\n",
    "            H[i] = thermo.get_enthalpy(T[i]) / 1000.0\n",
    "            S[i] = thermo.get_entropy(T[i]) / 1000.0\n",
    "            Cp[i] = thermo.get_heat_capacity(T[i]) / 1000.0\n",
    "        ax[0].plot(T, H)\n",
    "        ax[1].plot(T, S)\n",
    "        ax[2].plot(T, Cp)\n",
    "    ax[0].legend(labels)\n",
    "    ax[1].legend(labels)\n",
    "    ax[2].legend(labels)\n",
    "    plt.subplots_adjust(wspace=0.25)"
   ]
  },
  {
   "cell_type": "code",
   "execution_count": 4,
   "id": "dd6059e5",
   "metadata": {},
   "outputs": [],
   "source": [
    "# Load the base model\n",
    "basedir = '/work/westgroup/harris.se/autoscience/autoscience/butane/rmg_model'\n",
    "new_model_dir = '/work/westgroup/harris.se/autoscience/autoscience/butane/improved_models'\n",
    "base_chemkin = os.path.join(basedir, 'chem_annotated.inp')\n",
    "dictionary = os.path.join(basedir, 'species_dictionary.txt')\n",
    "transport = os.path.join(basedir, 'tran.dat')\n",
    "species_list, reaction_list = rmgpy.chemkin.load_chemkin_file(base_chemkin, dictionary_path=dictionary, transport_path=transport)\n",
    "\n"
   ]
  },
  {
   "cell_type": "code",
   "execution_count": 5,
   "id": "139ecacb",
   "metadata": {},
   "outputs": [],
   "source": [
    "# Load the new kinetics library\n",
    "DFT_DIR = \"/work/westgroup/harris.se/autoscience/autoscience/butane/dft/\"\n",
    "kinetics_lib = os.path.join(DFT_DIR, 'kinetics', 'kinetics')\n",
    "ark_kinetics_database = rmgpy.data.kinetics.KineticsDatabase()\n",
    "ark_kinetics_database.load_libraries(kinetics_lib)"
   ]
  },
  {
   "cell_type": "code",
   "execution_count": null,
   "id": "71399f0a",
   "metadata": {},
   "outputs": [],
   "source": [
    "# stitch each of the library reactions into the mechanism (depends on library index matching indexing in chemkin file)\n",
    "for key in ark_kinetics_database.libraries[''].entries.keys():\n",
    "    entry = ark_kinetics_database.libraries[''].entries[key]\n",
    "    index = entry.index\n",
    "#     print(index, '\\t', entry.label, '\\t', reaction_list[index])\n",
    "    \n",
    "    if entry.item.is_isomorphic(reaction_list[entry.index]):\n",
    "        rmg_rxn_index = entry.index\n",
    "    else:\n",
    "        print('Library reaction index does not match chemkin index')\n",
    "        for i, reaction in enumerate(reaction_list):\n",
    "            if entry.item.is_isomorphic(reaction):\n",
    "                rmg_rxn_index = i\n",
    "                break\n",
    "        else:\n",
    "            raise ValueError ('could not match reaction index')\n",
    "                \n",
    "    print(f'Changing reaction {rmg_rxn_index}')\n",
    "    if rmg_rxn_index == 288:\n",
    "        reaction_list[rmg_rxn_index].kinetics = entry.data\n",
    "#     break\n",
    "    # compare the kinetics\n",
    "    plot_kinetics([reaction_list[rmg_rxn_index], entry.data], ['RMG', 'DFT'])\n",
    "    "
   ]
  },
  {
   "cell_type": "code",
   "execution_count": null,
   "id": "d0026f80",
   "metadata": {},
   "outputs": [],
   "source": []
  },
  {
   "cell_type": "code",
   "execution_count": 6,
   "id": "c57f2454",
   "metadata": {},
   "outputs": [],
   "source": [
    "# Load the new thermo library\n",
    "thermo_lib = os.path.join(DFT_DIR, 'thermo', 'thermo')\n",
    "ark_thermo_database = rmgpy.data.thermo.ThermoDatabase()\n",
    "ark_thermo_database.load_libraries(thermo_lib)"
   ]
  },
  {
   "cell_type": "code",
   "execution_count": null,
   "id": "ce35df00",
   "metadata": {},
   "outputs": [],
   "source": [
    "ark_thermo_database.libraries"
   ]
  },
  {
   "cell_type": "code",
   "execution_count": 7,
   "id": "0a921a4d",
   "metadata": {},
   "outputs": [
    {
     "name": "stdout",
     "output_type": "stream",
     "text": [
      "79\n",
      "Changing estimated thermo 79: C[C]C(689)\n",
      "83\n",
      "Changing estimated thermo 83: C[C]CC-2(776)\n",
      "85\n",
      "Changing estimated thermo 85: CC(CCOO)OO(787)\n",
      "88\n",
      "Changing estimated thermo 88: O=C1COC1(917)\n",
      "96\n",
      "Changing estimated thermo 96: C1OO1(4213)\n",
      "101\n",
      "Changing estimated thermo 101: [C]1CCC1(4880)\n",
      "103\n",
      "Changing estimated thermo 103: OCCC1CO1(5151)\n"
     ]
    },
    {
     "data": {
      "image/png": "[encoded data removed]",
      "text/plain": [
       "<Figure size 864x216 with 3 Axes>"
      ]
     },
     "metadata": {
      "needs_background": "light"
     },
     "output_type": "display_data"
    }
   ],
   "source": [
    "# stitch each of the library thermos into the mechanism\n",
    "\n",
    "plot_index = [79]\n",
    "\n",
    "for key in ark_thermo_database.libraries['harris_butane'].entries.keys():\n",
    "    entry = ark_thermo_database.libraries['harris_butane'].entries[key]\n",
    "#     print(entry)\n",
    "\n",
    "    for i, species in enumerate(species_list):\n",
    "#         if entry.item.is_isomorphic(species.molecule[0]):\n",
    "        if entry.item.smiles == species.smiles:\n",
    "            rmg_species_index = i\n",
    "            break\n",
    "    else:\n",
    "        raise ValueError (f'could not match species index {entry}')\n",
    "    \n",
    "    if 'library' not in species_list[rmg_species_index].thermo.comment.lower():\n",
    "        print(rmg_species_index)\n",
    "        plot_thermos([species_list[rmg_species_index], entry.data], ['RMG', 'DFT'])\n",
    "        \n",
    "        print(f'Changing estimated thermo {rmg_species_index}: {species_list[rmg_species_index]}')\n",
    "        species_list[rmg_species_index].thermo = entry.data\n",
    "    \n",
    "#     if rmg_species_index in plot_index:\n",
    "#         plot_thermos([species_list[rmg_species_index], entry.data], ['RMG', 'DFT'])\n",
    "\n",
    "#     break\n",
    "#     print(species_list[rmg_species_index])\n",
    "#     print(f'Changing reaction {rmg_rxn_index}')\n",
    "#     if rmg_rxn_index == 288:\n",
    "#         reaction_list[rmg_rxn_index].kinetics = entry.data\n",
    "# #     break\n",
    "#     # compare the kinetics\n",
    "#     plot_kinetics([reaction_list[rmg_rxn_index], entry.data], ['RMG', 'DFT'])\n",
    "    "
   ]
  },
  {
   "cell_type": "code",
   "execution_count": 8,
   "id": "fd629252",
   "metadata": {},
   "outputs": [
    {
     "name": "stderr",
     "output_type": "stream",
     "text": [
      "WARNING:root:Marked reaction CH3(18) + C2H3(22) <=> C3H6(12) as duplicate of C3H6(12) <=> CH3(18) + C2H3(22) for saving to Chemkin file.\n"
     ]
    },
    {
     "name": "stdout",
     "output_type": "stream",
     "text": [
      "Wrote CTI mechanism file to '/work/westgroup/harris.se/autoscience/autoscience/butane/improved_models/chem_2022-08-22.cti'.\n",
      "Mechanism contains 110 species and 1850 reactions.\n",
      "Validating mechanism...PASSED.\n"
     ]
    },
    {
     "data": {
      "text/plain": [
       "CompletedProcess(args=['ck2cti', '--input=/work/westgroup/harris.se/autoscience/autoscience/butane/improved_models/chem_2022-08-22.inp', '--transport=/work/westgroup/harris.se/autoscience/autoscience/butane/rmg_model/tran.dat', '--output=/work/westgroup/harris.se/autoscience/autoscience/butane/improved_models/chem_2022-08-22.cti'], returncode=0)"
      ]
     },
     "execution_count": 8,
     "metadata": {},
     "output_type": "execute_result"
    }
   ],
   "source": [
    "# save the resulting mechanism\n",
    "timestamp_str = datetime.datetime.now().isoformat()[0:10]\n",
    "chemkin_file = os.path.join(new_model_dir, f'chem_{timestamp_str}.inp')\n",
    "rmgpy.chemkin.save_chemkin_file(chemkin_file, species_list, reaction_list, verbose=True, check_for_duplicates=True)\n",
    "subprocess.run(['ck2cti', f'--input={chemkin_file}', f'--transport={transport}', f'--output={new_model_dir}/chem_{timestamp_str}.cti'])\n",
    "# os.remove(chemkin_file)\n",
    "\n"
   ]
  },
  {
   "cell_type": "code",
   "execution_count": null,
   "id": "1a3c39c8",
   "metadata": {},
   "outputs": [],
   "source": [
    "reaction_list[749].kinetics"
   ]
  },
  {
   "cell_type": "code",
   "execution_count": null,
   "id": "dd5b2c6a",
   "metadata": {},
   "outputs": [],
   "source": [
    "entry.data"
   ]
  },
  {
   "cell_type": "code",
   "execution_count": null,
   "id": "e3921a99",
   "metadata": {},
   "outputs": [],
   "source": [
    "entry.item.is_isomorphic(reaction_list[749])"
   ]
  },
  {
   "cell_type": "code",
   "execution_count": null,
   "id": "3e109fd6",
   "metadata": {},
   "outputs": [],
   "source": [
    "dir(entry)"
   ]
  },
  {
   "cell_type": "code",
   "execution_count": null,
   "id": "db2f71ed",
   "metadata": {},
   "outputs": [],
   "source": [
    "ark_kinetics_database.libraries[''].entries"
   ]
  },
  {
   "cell_type": "code",
   "execution_count": null,
   "id": "4e98d1ef",
   "metadata": {},
   "outputs": [],
   "source": []
  }
 ],
 "metadata": {
  "kernelspec": {
   "display_name": "Python 3 (ipykernel)",
   "language": "python",
   "name": "python3"
  },
  "language_info": {
   "codemirror_mode": {
    "name": "ipython",
    "version": 3
   },
   "file_extension": ".py",
   "mimetype": "text/x-python",
   "name": "python",
   "nbconvert_exporter": "python",
   "pygments_lexer": "ipython3",
   "version": "3.7.12"
  }
 },
 "nbformat": 4,
 "nbformat_minor": 5
}
