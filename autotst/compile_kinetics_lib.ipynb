{
 "cells": [
  {
   "cell_type": "code",
   "execution_count": 1,
   "id": "9601527f",
   "metadata": {},
   "outputs": [],
   "source": [
    "# script to collect all of the thermo calculations and put them together into a database"
   ]
  },
  {
   "cell_type": "code",
   "execution_count": 2,
   "id": "10a32eaf",
   "metadata": {},
   "outputs": [],
   "source": [
    "import os\n",
    "import re\n",
    "import glob\n",
    "\n",
    "import rmgpy.data.kinetics\n",
    "\n",
    "# import importlib\n",
    "# importlib.reload(rmgpy.data.kinetics)\n",
    "\n",
    "import numpy as np\n",
    "import matplotlib.pyplot as plt\n",
    "from collections import OrderedDict"
   ]
  },
  {
   "cell_type": "code",
   "execution_count": 3,
   "id": "0549f019",
   "metadata": {},
   "outputs": [],
   "source": [
    "DFT_DIR = \"/work/westgroup/harris.se/autoscience/autoscience/butane/dft/\"\n",
    "kinetics_libs = glob.glob(os.path.join(DFT_DIR, 'kinetics', 'reaction*', 'arkane', 'RMG_libraries'))"
   ]
  },
  {
   "cell_type": "code",
   "execution_count": 4,
   "id": "cca5e080",
   "metadata": {},
   "outputs": [],
   "source": [
    "# Load the Arkane thermo\n",
    "entries = []\n",
    "for i, lib_path in enumerate(kinetics_libs):\n",
    "    matches = re.search('reaction_([0-9]{4})', lib_path)\n",
    "    reaction_index = int(matches[1])\n",
    "    ark_kinetics_database = rmgpy.data.kinetics.KineticsDatabase()\n",
    "    ark_kinetics_database.load_libraries(lib_path)\n",
    "    \n",
    "    # TODO fix bug related to load_libraries not getting the actual name\n",
    "    for key in ark_kinetics_database.libraries[''].entries.keys():\n",
    "        entry = ark_kinetics_database.libraries[''].entries[key]\n",
    "        entry.index = reaction_index\n",
    "        entries.append(entry)\n"
   ]
  },
  {
   "cell_type": "code",
   "execution_count": 5,
   "id": "7801b288",
   "metadata": {},
   "outputs": [],
   "source": [
    "# compile it all into a single database and a single library which I'll call harris_butane\n",
    "ark_kinetics_database = rmgpy.data.kinetics.KineticsDatabase()\n",
    "ark_kinetics_database.libraries['kinetics'] = rmgpy.data.kinetics.KineticsLibrary()\n",
    "ark_kinetics_database.libraries['kinetics'].label = 'harris_butane'\n",
    "ark_kinetics_database.libraries['kinetics'].name = 'harris_butane'\n",
    "ark_kinetics_database.libraries['kinetics'].entries = OrderedDict()\n",
    "for entry in entries:\n",
    "    ark_kinetics_database.libraries['kinetics'].entries[entry.label] = entry"
   ]
  },
  {
   "cell_type": "code",
   "execution_count": 6,
   "id": "20284bc2",
   "metadata": {},
   "outputs": [],
   "source": [
    "# save the results\n",
    "output_path = os.path.join(DFT_DIR, 'kinetics')\n",
    "ark_kinetics_database.save_libraries(output_path, reindex=False)"
   ]
  },
  {
   "cell_type": "code",
   "execution_count": 7,
   "id": "9483f088",
   "metadata": {},
   "outputs": [
    {
     "name": "stdout",
     "output_type": "stream",
     "text": [
      "105 saved\n"
     ]
    }
   ],
   "source": [
    "print(len(entries), 'saved')"
   ]
  },
  {
   "cell_type": "code",
   "execution_count": null,
   "id": "5c9a67b7",
   "metadata": {},
   "outputs": [],
   "source": []
  }
 ],
 "metadata": {
  "kernelspec": {
   "display_name": "Python 3 (ipykernel)",
   "language": "python",
   "name": "python3"
  },
  "language_info": {
   "codemirror_mode": {
    "name": "ipython",
    "version": 3
   },
   "file_extension": ".py",
   "mimetype": "text/x-python",
   "name": "python",
   "nbconvert_exporter": "python",
   "pygments_lexer": "ipython3",
   "version": "3.7.12"
  }
 },
 "nbformat": 4,
 "nbformat_minor": 5
}
