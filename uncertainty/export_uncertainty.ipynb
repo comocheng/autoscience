{
 "cells": [
  {
   "cell_type": "code",
   "execution_count": 1,
   "id": "ad18c8e4",
   "metadata": {},
   "outputs": [],
   "source": [
    "# This script takes an RMG mechanism and uses the special correlated uncertainty database (rules_node_sensitivity branch)\n",
    "# to produce the covariance matrix, along with a fake cantera mechanism that also includes training reactions for easy lookup"
   ]
  },
  {
   "cell_type": "code",
   "execution_count": 2,
   "id": "5bac0f26",
   "metadata": {},
   "outputs": [],
   "source": [
    "import numpy as np\n",
    "import rmgpy.tools.uncertainty\n",
    "import pickle\n",
    "import json"
   ]
  },
  {
   "cell_type": "code",
   "execution_count": 3,
   "id": "f8c507e3",
   "metadata": {},
   "outputs": [],
   "source": [
    "def unpack_sensitivity(long_desc):\n",
    "    start_str = 'sensitivities = '\n",
    "    if start_str not in long_desc:\n",
    "        return []\n",
    "    start_index = long_desc.find(start_str) + len(start_str)\n",
    "    sensitivities_str = long_desc[start_index:].replace(\"'\", '\"')\n",
    "    sensitivities_str = sensitivities_str.replace(\"nan\", '\"-9999999\"')\n",
    "    sensitivities_str = sensitivities_str.replace('name', 'training_rxn_name')\n",
    "    return json.loads(sensitivities_str)"
   ]
  },
  {
   "cell_type": "markdown",
   "id": "649fa205",
   "metadata": {},
   "source": [
    "# Load the RMG Model"
   ]
  },
  {
   "cell_type": "code",
   "execution_count": 4,
   "id": "3e75d199",
   "metadata": {},
   "outputs": [
    {
     "name": "stderr",
     "output_type": "stream",
     "text": [
      "WARNING:root:Only Arrhenius and PDepArrhenius kinetics supported for duplicate reactions.\n",
      "WARNING:root:Only Arrhenius and PDepArrhenius kinetics supported for duplicate reactions.\n",
      "WARNING:root:Only Arrhenius and PDepArrhenius kinetics supported for duplicate reactions.\n",
      "WARNING:root:Only Arrhenius and PDepArrhenius kinetics supported for duplicate reactions.\n"
     ]
    }
   ],
   "source": [
    "# load the model\n",
    "chemkin = '../butane/chem_annotated.inp'\n",
    "species_dict = '../butane/species_dictionary.txt'\n",
    "\n",
    "uncertainty = rmgpy.tools.uncertainty.Uncertainty(output_directory='rmg_uncertainty')\n",
    "uncertainty.load_model(chemkin, species_dict)\n",
    "\n",
    "\n",
    "\n",
    "\n",
    "# TODO - force the user to provide the input file used to generate the mechanism to ensure databases are really the same\n",
    "# load the database\n",
    "# --------------- CAUTION!!! Databases here must match the ones used to generate the mechanism\n",
    "# note - this cell stalls out on Discovery\n",
    "thermo_libs = [\n",
    "    'BurkeH2O2',\n",
    "    'primaryThermoLibrary',\n",
    "    'FFCM1(-)',\n",
    "    'CurranPentane',\n",
    "    'Klippenstein_Glarborg2016',\n",
    "    'thermo_DFT_CCSDTF12_BAC',\n",
    "    'DFT_QCI_thermo',\n",
    "    'CBS_QB3_1dHR',\n",
    "]\n",
    "\n",
    "kinetic_libs = [\n",
    "    'FFCM1(-)',\n",
    "    'CurranPentane',\n",
    "    'combustion_core/version5',\n",
    "    'Klippenstein_Glarborg2016',\n",
    "    'BurkeH2O2inArHe',\n",
    "    'BurkeH2O2inN2',\n",
    "]\n",
    "uncertainty.load_database(\n",
    "    thermo_libraries=thermo_libs,\n",
    "    kinetics_families='default',\n",
    "    reaction_libraries=kinetic_libs,\n",
    "    kinetics_depositories=['training'],\n",
    ")\n"
   ]
  },
  {
   "cell_type": "code",
   "execution_count": 5,
   "id": "785e1fdf",
   "metadata": {},
   "outputs": [],
   "source": [
    "# Get the different kinetic and thermo sources\n",
    "uncertainty.extract_sources_from_model()\n",
    "uncertainty.assign_parameter_uncertainties()"
   ]
  },
  {
   "cell_type": "code",
   "execution_count": 6,
   "id": "e1750a56",
   "metadata": {},
   "outputs": [],
   "source": [
    "# Create a giant dictionary with all of the reaction family information in it\n",
    "auto_gen_families = {}\n",
    "for family_name in uncertainty.database.kinetics.families.keys():\n",
    "    if family_name == 'Intra_R_Add_Endocyclic' or family_name == 'Intra_R_Add_Exocyclic':\n",
    "        continue\n",
    "    if uncertainty.database.kinetics.families[family_name].auto_generated and family_name not in auto_gen_families.keys():\n",
    "        auto_gen_families[family_name] = uncertainty.database.kinetics.families[family_name].rules.get_entries()\n",
    "        auto_gen_families[f'{family_name}_labels'] = [entry.label for entry in uncertainty.database.kinetics.families[family_name].rules.get_entries()]\n",
    "        auto_gen_families[f'{family_name}_rxn_map'] = uncertainty.database.kinetics.families[family_name].get_reaction_matches(\n",
    "            thermo_database=uncertainty.database.thermo,\n",
    "            remove_degeneracy=True,\n",
    "            get_reverse=True,\n",
    "            exact_matches_only=False,\n",
    "            fix_labels=True)"
   ]
  },
  {
   "cell_type": "code",
   "execution_count": 7,
   "id": "5050db0b",
   "metadata": {},
   "outputs": [],
   "source": [
    "# put the autogenerated tree info into the kinetic sources dictionary\n",
    "for rxn in uncertainty.reaction_list:\n",
    "    if 'Rate Rules' in uncertainty.reaction_sources_dict[rxn] and uncertainty.reaction_sources_dict[rxn]['Rate Rules'][1]['node']:\n",
    "        node_name = uncertainty.reaction_sources_dict[rxn]['Rate Rules'][1]['node']\n",
    "\n",
    "        training_reactions = auto_gen_families[f'{rxn.family}_rxn_map'][node_name]\n",
    "        \n",
    "        # TODO use sensitivity instead of equal weight\n",
    "        w = 1.0 / len(training_reactions)\n",
    "        \n",
    "        uncertainty.reaction_sources_dict[rxn]['Rate Rules'][1]['training'] = [(x, x, w) for x in training_reactions]"
   ]
  },
  {
   "cell_type": "code",
   "execution_count": 102,
   "id": "3773c605",
   "metadata": {},
   "outputs": [],
   "source": [
    "# Define Uncertainty Constants\n",
    "k_nonexact = 3.5\n",
    "k_rule = 0.5\n",
    "k_family = 1.0\n",
    "k_library = 0.5\n",
    "k_train = 0.5"
   ]
  },
  {
   "cell_type": "code",
   "execution_count": 94,
   "id": "5a1f7dd3",
   "metadata": {},
   "outputs": [],
   "source": [
    "def get_intrinsic_correlation(source1, source2):\n",
    "    # expects the training dictionary\n",
    "    correlation = 0\n",
    "    \n",
    "    if 'Rate Rules' in source1:\n",
    "        training1 = source1['Rate Rules'][1]['training']\n",
    "    elif 'Training' in source1:\n",
    "        training1 = [(source1['Training'][1].item, source1['Training'][1].item, 1.0)]\n",
    "    if 'Rate Rules' in source2:\n",
    "        training2 = source2['Rate Rules'][1]['training']\n",
    "    elif 'Training' in source2:\n",
    "        training2 = [(source2['Training'][1].item, source2['Training'][1].item, 1.0)]\n",
    "    \n",
    "    for i in range(0, len(training1)):\n",
    "        for j in range(0, len(training2)):\n",
    "            if training1[i][0] == training2[j][0]:\n",
    "                weight_i = training1[i][2]\n",
    "                weight_j = training2[j][2]\n",
    "                correlation += weight_i * weight_j * k_rule\n",
    "                break\n",
    "    return correlation"
   ]
  },
  {
   "cell_type": "code",
   "execution_count": 86,
   "id": "f6277031",
   "metadata": {},
   "outputs": [
    {
     "data": {
      "text/plain": [
       "0.015151515151515152"
      ]
     },
     "execution_count": 86,
     "metadata": {},
     "output_type": "execute_result"
    }
   ],
   "source": [
    "# i = 370\n",
    "# j = 1289\n",
    "\n",
    "i = 296\n",
    "j = 257\n",
    "get_intrinsic_correlation(\n",
    "    uncertainty.reaction_sources_dict[uncertainty.reaction_list[i]],\n",
    "    uncertainty.reaction_sources_dict[uncertainty.reaction_list[j]]\n",
    ")"
   ]
  },
  {
   "cell_type": "code",
   "execution_count": 105,
   "id": "7a1b32ea",
   "metadata": {},
   "outputs": [],
   "source": [
    "# Construct the covariance matrix\n",
    "Sigma_k = np.zeros((len(uncertainty.reaction_list), len(uncertainty.reaction_list)))\n",
    "\n",
    "\n",
    "for i in range(0, len(uncertainty.reaction_list)):\n",
    "    for j in range(0, i + 1):\n",
    "        source_entry_i = uncertainty.reaction_sources_dict[uncertainty.reaction_list[i]]\n",
    "        source_entry_j = uncertainty.reaction_sources_dict[uncertainty.reaction_list[j]]\n",
    "        if i == j:\n",
    "            if 'Library' in source_entry_i:\n",
    "                Sigma_k[i,i] = k_library\n",
    "            elif 'PDep' in source_entry_i:\n",
    "                Sigma_k[i,i] = k_library\n",
    "            elif 'Training' in source_entry_i:\n",
    "                Sigma_k[i,i] = k_train\n",
    "            elif 'Rate Rules' in source_entry_i:\n",
    "                N = len(source_entry_i['Rate Rules'][1]['training'])\n",
    "                Sigma_k[i,i] = get_intrinsic_correlation(source_entry_i, source_entry_j) + k_family + np.float_power(np.log10(N + 1), 2.0) * k_nonexact\n",
    "            else:\n",
    "                raise NotImplementedError\n",
    "        \n",
    "        else:  # off-diagonals\n",
    "            # If they're library reactions, off diagonal is zero\n",
    "            if 'Library' in source_entry_i:\n",
    "                continue\n",
    "            if 'Library' in source_entry_j:\n",
    "                continue\n",
    "            \n",
    "            # If they're PDEP, just assume off-diagonal is zero\n",
    "            if 'PDep' in source_entry_i:\n",
    "                continue\n",
    "            if 'PDep' in source_entry_j:\n",
    "                continue\n",
    "            \n",
    "            # If they're not from the same family, off-diagonal is zero\n",
    "            if uncertainty.reaction_list[i].family != uncertainty.reaction_list[j].family:\n",
    "                continue\n",
    "            \n",
    "            intrinsic_corr = get_intrinsic_correlation(source_entry_i, source_entry_j)\n",
    "            correlation = intrinsic_corr + k_family\n",
    "            Sigma_k[i,j] = correlation\n",
    "            Sigma_k[j,i] = correlation"
   ]
  },
  {
   "cell_type": "code",
   "execution_count": 107,
   "id": "13a0c267",
   "metadata": {},
   "outputs": [
    {
     "data": {
      "text/plain": [
       "13.478967944700427"
      ]
     },
     "execution_count": 107,
     "metadata": {},
     "output_type": "execute_result"
    }
   ],
   "source": [
    "np.max(np.max(Sigma_k))"
   ]
  },
  {
   "cell_type": "code",
   "execution_count": 106,
   "id": "fdc91c38",
   "metadata": {},
   "outputs": [
    {
     "data": {
      "text/plain": [
       "447571.8798107839"
      ]
     },
     "execution_count": 106,
     "metadata": {},
     "output_type": "execute_result"
    }
   ],
   "source": [
    "np.sum(np.sum(Sigma_k))"
   ]
  },
  {
   "cell_type": "code",
   "execution_count": 90,
   "id": "8cc0e2b3",
   "metadata": {},
   "outputs": [
    {
     "data": {
      "text/plain": [
       "443904.29557472677"
      ]
     },
     "execution_count": 90,
     "metadata": {},
     "output_type": "execute_result"
    }
   ],
   "source": [
    "np.sum(np.sum(Sigma_k))"
   ]
  },
  {
   "cell_type": "code",
   "execution_count": null,
   "id": "43eeda4f",
   "metadata": {},
   "outputs": [],
   "source": [
    "uncertainty.reaction_sources_dict[uncertainty.reaction_list[0]]"
   ]
  },
  {
   "cell_type": "code",
   "execution_count": 55,
   "id": "22095e13",
   "metadata": {},
   "outputs": [
    {
     "name": "stdout",
     "output_type": "stream",
     "text": [
      "211 {'Training': ['H_Abstraction', <Entry index=434 label=\"H2O2 + C2H3 <=> C2H4 + HO2_r3\">, False]}\n",
      "215 {'Training': ['Disproportionation', <Entry index=3 label=\"CH2 + C2H5 <=> CH3 + C2H4\">, False]}\n",
      "218 {'Training': ['H_Abstraction', <Entry index=351 label=\"C2H2 + O2 <=> HO2_r12 + C2H\">, False]}\n",
      "389 {'Training': ['Disproportionation', <Entry index=16 label=\"CH2 + C3H7-2 <=> CH3 + C3H6-2\">, False]}\n",
      "391 {'Training': ['Disproportionation', <Entry index=29 label=\"C2H3-2 + C3H7-2 <=> C2H4-2 + C3H6-2\">, False]}\n",
      "403 {'Training': ['Disproportionation', <Entry index=33 label=\"HO + C3H7-2 <=> H2O + C3H6-2\">, False]}\n",
      "408 {'Training': ['Disproportionation', <Entry index=20 label=\"CH3_r1 + C3H7-2 <=> CH4 + C3H6-2\">, False]}\n",
      "415 {'Training': ['Disproportionation', <Entry index=18 label=\"H + C3H7-2 <=> H2 + C3H6-2\">, False]}\n",
      "483 {'Training': ['Disproportionation', <Entry index=12 label=\"C2H + C2H5 <=> C2H2 + C2H4\">, False]}\n",
      "484 {'Training': ['Disproportionation', <Entry index=31 label=\"C2H + C3H7-2 <=> C2H2 + C3H6-2\">, False]}\n",
      "505 {'Training': ['H_Abstraction', <Entry index=774 label=\"C2H3 + C2H6 <=> C2H4 + C2H5\">, False]}\n",
      "507 {'Training': ['Disproportionation', <Entry index=21 label=\"C3H7-2 + C2H5-2 <=> C2H6 + C3H6-2\">, False]}\n",
      "575 {'Training': ['Disproportionation', <Entry index=23 label=\"C3H5 + C3H7-2 <=> C3H6 + C3H6-2\">, False]}\n",
      "590 {'Training': ['H_Abstraction', <Entry index=1012 label=\"C2H3 + C3H6 <=> C2H4 + C3H5\">, False]}\n",
      "591 {'Training': ['H_Abstraction', <Entry index=374 label=\"C3H5 + C2H4O <=> C3H6 + C2H3O\">, False]}\n",
      "599 {'Training': ['H_Abstraction', <Entry index=326 label=\"C2H3O + C2H6 <=> C2H4O + C2H5\">, False]}\n",
      "735 {'Training': ['H_Abstraction', <Entry index=871 label=\"C4H7-4 + C2H6 <=> C4H8-4 + C2H5\">, False]}\n",
      "764 {'Training': ['H_Abstraction', <Entry index=1054 label=\"C2H3 + C4H8-4 <=> C2H4 + C4H7-4\">, False]}\n",
      "1157 {'Training': ['H_Abstraction', <Entry index=35 label=\"H2O2 + C4H7-5 <=> HO2 + C4H8-5\">, False]}\n",
      "1247 {'Training': ['H_Abstraction', <Entry index=366 label=\"CH2O + C2H3O <=> C2H4O + HCO_r3\">, False]}\n",
      "1521 {'Training': ['CO_Disproportionation', <Entry index=4 label=\"HCO + CH3O <=> CO + CH3OH\">, False]}\n",
      "1624 {'Training': ['H_Abstraction', <Entry index=323 label=\"C2H + C2H6 <=> C2H2 + C2H5\">, False]}\n",
      "1627 {'Training': ['H_Abstraction', <Entry index=375 label=\"C2H3 + C2H4O <=> C2H4 + C2H3O\">, False]}\n"
     ]
    }
   ],
   "source": [
    "for i in range(0, len(uncertainty.reaction_list)):\n",
    "    if 'Training' in uncertainty.reaction_sources_dict[uncertainty.reaction_list[i]]:\n",
    "        print(i,uncertainty.reaction_sources_dict[uncertainty.reaction_list[i]])"
   ]
  },
  {
   "cell_type": "code",
   "execution_count": 84,
   "id": "0b112502",
   "metadata": {},
   "outputs": [
    {
     "data": {
      "image/png": "[encoded data removed]",
      "text/plain": [
       "Reaction(reactants=[Species(label=\"H2O2\", molecule=[Molecule(smiles=\"OO\")], molecular_weight=(34.0147,'amu')), Species(label=\"C2H3\", molecule=[Molecule(smiles=\"[CH]=C\")], molecular_weight=(27.0452,'amu'))], products=[Species(label=\"C2H4\", molecule=[Molecule(smiles=\"C=C\")], molecular_weight=(28.0532,'amu')), Species(label=\"HO2_r3\", molecule=[Molecule(smiles=\"[O]O\")], molecular_weight=(33.0068,'amu'))], degeneracy=2.0)"
      ]
     },
     "execution_count": 84,
     "metadata": {},
     "output_type": "execute_result"
    }
   ],
   "source": [
    "uncertainty.reaction_sources_dict[uncertainty.reaction_list[211]]['Training'][1].item"
   ]
  },
  {
   "cell_type": "code",
   "execution_count": null,
   "id": "424659cf",
   "metadata": {},
   "outputs": [],
   "source": [
    "for i in range(0, len(uncertainty.reaction_list)):\n",
    "    if 'Training' in uncertainty.reaction_sources_dict[uncertainty.reaction_list[i]]:\n",
    "        print(i,uncertainty.reaction_sources_dict[uncertainty.reaction_list[i]])"
   ]
  },
  {
   "cell_type": "code",
   "execution_count": null,
   "id": "f49c1cec",
   "metadata": {},
   "outputs": [],
   "source": []
  },
  {
   "cell_type": "code",
   "execution_count": null,
   "id": "658ddc87",
   "metadata": {},
   "outputs": [],
   "source": []
  },
  {
   "cell_type": "code",
   "execution_count": null,
   "id": "afee9185",
   "metadata": {},
   "outputs": [],
   "source": []
  },
  {
   "cell_type": "code",
   "execution_count": null,
   "id": "91d40a65",
   "metadata": {},
   "outputs": [],
   "source": []
  },
  {
   "cell_type": "code",
   "execution_count": null,
   "id": "74b02d78",
   "metadata": {},
   "outputs": [],
   "source": []
  },
  {
   "cell_type": "code",
   "execution_count": null,
   "id": "33c243d9",
   "metadata": {},
   "outputs": [],
   "source": []
  },
  {
   "cell_type": "code",
   "execution_count": null,
   "id": "8a96d668",
   "metadata": {},
   "outputs": [],
   "source": [
    "for rxn in uncertainty.reaction_list:\n",
    "    if 'Rate Rules' in uncertainty.reaction_sources_dict[rxn] and uncertainty.reaction_sources_dict[rxn]['Rate Rules'][1]['node']:\n",
    "        node_name = uncertainty.reaction_sources_dict[rxn]['Rate Rules'][1]['node']\n",
    "#         print(node_name)\n",
    "#         print(uncertainty.reaction_sources_dict[rxn])\n",
    "\n",
    "        # store the result in uncertainty.reaction_sources_dict[rxn]['Rate Rules'][1]['training']\n",
    "        # number of training reactions\n",
    "        training_reactions = auto_gen_families[f'{rxn.family}_rxn_map'][node_name]\n",
    "        \n",
    "        # TODO use sensitivity instead of equal weight\n",
    "        w = 1.0 / len(training_reactions)\n",
    "        \n",
    "        uncertainty.reaction_sources_dict[rxn]['Rate Rules'][1]['training'] = [(x, x, w) for x in training_reactions]"
   ]
  },
  {
   "cell_type": "code",
   "execution_count": null,
   "id": "edc82a79",
   "metadata": {},
   "outputs": [],
   "source": []
  },
  {
   "cell_type": "code",
   "execution_count": null,
   "id": "ed3c92e7",
   "metadata": {},
   "outputs": [],
   "source": []
  },
  {
   "cell_type": "code",
   "execution_count": null,
   "id": "e0e9667e",
   "metadata": {},
   "outputs": [],
   "source": [
    "auto_gen_families[f'Disproportionation_rxn_map']['Root']"
   ]
  },
  {
   "cell_type": "code",
   "execution_count": null,
   "id": "073d18c5",
   "metadata": {},
   "outputs": [],
   "source": [
    "sens = unpack_sensitivity(auto_gen_families['Disproportionation'][0].long_desc)"
   ]
  },
  {
   "cell_type": "code",
   "execution_count": null,
   "id": "6043788b",
   "metadata": {},
   "outputs": [],
   "source": [
    "weird_count = 0\n",
    "for i in range(0, len(auto_gen_families['Disproportionation'])):\n",
    "    sens = unpack_sensitivity(auto_gen_families['Disproportionation'][i].long_desc)\n",
    "    dAs = [x['dA'] for x in sens]\n",
    "    if np.round(np.sum(dAs)) != 1:\n",
    "        weird_count += 1\n",
    "#     dEAs = [x['dA_dEa'] for x in sens]\n",
    "        print(np.sum(dAs), np.sum(dEAs))\n",
    "    \n",
    "print()\n",
    "print(weird_count)"
   ]
  },
  {
   "cell_type": "code",
   "execution_count": null,
   "id": "9a79d401",
   "metadata": {},
   "outputs": [],
   "source": [
    "dAs = [x['dA'] for x in sens]"
   ]
  },
  {
   "cell_type": "code",
   "execution_count": null,
   "id": "31a4d987",
   "metadata": {},
   "outputs": [],
   "source": [
    "np.sum(dAs)"
   ]
  },
  {
   "cell_type": "code",
   "execution_count": null,
   "id": "4013637c",
   "metadata": {},
   "outputs": [],
   "source": [
    "sens[1]"
   ]
  },
  {
   "cell_type": "code",
   "execution_count": null,
   "id": "66984989",
   "metadata": {},
   "outputs": [],
   "source": [
    "len(auto_gen_families['Disproportionation_rxn_map']['Root_Ext-2R!H-R_2R!H->C_N-4R->C'])"
   ]
  },
  {
   "cell_type": "code",
   "execution_count": null,
   "id": "a22ae088",
   "metadata": {},
   "outputs": [],
   "source": []
  },
  {
   "cell_type": "code",
   "execution_count": null,
   "id": "34b03bdb",
   "metadata": {},
   "outputs": [],
   "source": []
  },
  {
   "cell_type": "code",
   "execution_count": null,
   "id": "5ed4efaa",
   "metadata": {},
   "outputs": [],
   "source": []
  },
  {
   "cell_type": "code",
   "execution_count": null,
   "id": "97942fce",
   "metadata": {},
   "outputs": [],
   "source": []
  },
  {
   "cell_type": "code",
   "execution_count": null,
   "id": "f796f226",
   "metadata": {},
   "outputs": [],
   "source": []
  },
  {
   "cell_type": "code",
   "execution_count": null,
   "id": "e53d2334",
   "metadata": {},
   "outputs": [],
   "source": []
  },
  {
   "cell_type": "code",
   "execution_count": null,
   "id": "d0911a42",
   "metadata": {},
   "outputs": [],
   "source": []
  },
  {
   "cell_type": "code",
   "execution_count": null,
   "id": "f0e3a821",
   "metadata": {},
   "outputs": [],
   "source": [
    "with open('uncorrelated_var.pickle', 'wb') as handle:\n",
    "    pickle.dump(uncertainty.kinetic_input_uncertainties, handle, protocol=pickle.HIGHEST_PROTOCOL)"
   ]
  },
  {
   "cell_type": "code",
   "execution_count": null,
   "id": "4fc9931e",
   "metadata": {},
   "outputs": [],
   "source": []
  },
  {
   "cell_type": "code",
   "execution_count": null,
   "id": "e0cd49a0",
   "metadata": {},
   "outputs": [],
   "source": []
  },
  {
   "cell_type": "code",
   "execution_count": null,
   "id": "3ff33488",
   "metadata": {},
   "outputs": [],
   "source": []
  },
  {
   "cell_type": "code",
   "execution_count": null,
   "id": "4f2b13a0",
   "metadata": {},
   "outputs": [],
   "source": []
  },
  {
   "cell_type": "code",
   "execution_count": null,
   "id": "e8bda400",
   "metadata": {},
   "outputs": [],
   "source": [
    "uncertainty.extract_sources_from_model()\n",
    "uncertainty.assign_parameter_uncertainties(correlated=True)"
   ]
  },
  {
   "cell_type": "code",
   "execution_count": null,
   "id": "385f3705",
   "metadata": {},
   "outputs": [],
   "source": [
    "with open('correlated_var.pickle', 'wb') as handle:\n",
    "    pickle.dump(uncertainty.kinetic_input_uncertainties, handle, protocol=pickle.HIGHEST_PROTOCOL)"
   ]
  },
  {
   "cell_type": "code",
   "execution_count": null,
   "id": "b8a25df6",
   "metadata": {},
   "outputs": [],
   "source": [
    "\n",
    "Sigma, labels = uncertainty.get_uncertainty_covariance_matrix()"
   ]
  },
  {
   "cell_type": "code",
   "execution_count": null,
   "id": "a56c0d15",
   "metadata": {},
   "outputs": [],
   "source": [
    "Sigma"
   ]
  },
  {
   "cell_type": "code",
   "execution_count": null,
   "id": "83b21fda",
   "metadata": {},
   "outputs": [],
   "source": [
    "uncorrelated"
   ]
  },
  {
   "cell_type": "code",
   "execution_count": null,
   "id": "b2b22a46",
   "metadata": {},
   "outputs": [],
   "source": []
  },
  {
   "cell_type": "code",
   "execution_count": null,
   "id": "7946da76",
   "metadata": {},
   "outputs": [],
   "source": [
    "r = 1289\n",
    "print(uncertainty.reaction_list[r])\n",
    "# print(uncertainty.kinetic_input_uncertainties[r])\n",
    "try:\n",
    "    d = uncertainty.reaction_sources_dict[uncertainty.reaction_list[r]]['Rate Rules'][1]['degeneracy']\n",
    "    training = uncertainty.reaction_sources_dict[uncertainty.reaction_list[r]]['Rate Rules'][1]['training']\n",
    "    for item in training:\n",
    "        print(item)\n",
    "#     print(training)\n",
    "except KeyError:\n",
    "    pass\n",
    "# print(uncertainty.reaction_sources_dict[uncertainty.reaction_list[r]])"
   ]
  },
  {
   "cell_type": "code",
   "execution_count": null,
   "id": "dd596d5c",
   "metadata": {},
   "outputs": [],
   "source": [
    "training[0][0].data"
   ]
  },
  {
   "cell_type": "code",
   "execution_count": null,
   "id": "dc4cd174",
   "metadata": {},
   "outputs": [],
   "source": [
    "training[0][1].data"
   ]
  },
  {
   "cell_type": "code",
   "execution_count": null,
   "id": "92e5fd84",
   "metadata": {},
   "outputs": [],
   "source": [
    "dir(training[0][0])"
   ]
  },
  {
   "cell_type": "code",
   "execution_count": null,
   "id": "0aec602b",
   "metadata": {},
   "outputs": [],
   "source": [
    "type(training[0][0])"
   ]
  },
  {
   "cell_type": "code",
   "execution_count": null,
   "id": "05c525e9",
   "metadata": {},
   "outputs": [],
   "source": [
    "# look at reactions 370 and 1289 and\n",
    "uncertainty.kinetic_input_uncertainties[r]"
   ]
  },
  {
   "cell_type": "code",
   "execution_count": null,
   "id": "d31d0ba4",
   "metadata": {},
   "outputs": [],
   "source": [
    "uncertainty.reaction_sources_dict[uncertainty.reaction_list[370]]"
   ]
  },
  {
   "cell_type": "code",
   "execution_count": null,
   "id": "75e4fd45",
   "metadata": {},
   "outputs": [],
   "source": []
  },
  {
   "cell_type": "code",
   "execution_count": null,
   "id": "29c0b56b",
   "metadata": {},
   "outputs": [],
   "source": []
  },
  {
   "cell_type": "code",
   "execution_count": null,
   "id": "9748a7b4",
   "metadata": {},
   "outputs": [],
   "source": []
  },
  {
   "cell_type": "code",
   "execution_count": null,
   "id": "a5330692",
   "metadata": {},
   "outputs": [],
   "source": [
    "for sp in uncertainty.species_list:\n",
    "#     print(sp.molecule[0].smiles)\n",
    "    if sp.molecule[0].smiles == \"CCO\":\n",
    "        print(uncertainty.species_list.index(sp))"
   ]
  },
  {
   "cell_type": "code",
   "execution_count": null,
   "id": "b5e181ac",
   "metadata": {},
   "outputs": [],
   "source": [
    "[uncertainty.species_list[110]]"
   ]
  },
  {
   "cell_type": "code",
   "execution_count": null,
   "id": "3bc7a101",
   "metadata": {},
   "outputs": [],
   "source": []
  },
  {
   "cell_type": "code",
   "execution_count": null,
   "id": "ba712787",
   "metadata": {},
   "outputs": [],
   "source": []
  },
  {
   "cell_type": "code",
   "execution_count": null,
   "id": "04f8eb0e",
   "metadata": {},
   "outputs": [],
   "source": [
    "dir(uncertainty)"
   ]
  },
  {
   "cell_type": "code",
   "execution_count": null,
   "id": "26e21304",
   "metadata": {},
   "outputs": [],
   "source": []
  },
  {
   "cell_type": "code",
   "execution_count": null,
   "id": "924f644d",
   "metadata": {},
   "outputs": [],
   "source": [
    "uncertainty.species_sources_dict"
   ]
  },
  {
   "cell_type": "code",
   "execution_count": null,
   "id": "d3ee78c0",
   "metadata": {},
   "outputs": [],
   "source": [
    "uncertainty.kinetic_input_uncertainties"
   ]
  },
  {
   "cell_type": "code",
   "execution_count": null,
   "id": "6ff68d49",
   "metadata": {},
   "outputs": [],
   "source": [
    "dir(uncertainty)"
   ]
  },
  {
   "cell_type": "code",
   "execution_count": null,
   "id": "fd867077",
   "metadata": {},
   "outputs": [],
   "source": [
    "for rxn in uncertainty.kinetic_input_uncertainties:\n",
    "    keys = rxn.keys()\n",
    "    for key in keys:\n",
    "        if 'Disproportionation' in key:\n",
    "            print(rxn)"
   ]
  },
  {
   "cell_type": "code",
   "execution_count": null,
   "id": "af421ea4",
   "metadata": {},
   "outputs": [],
   "source": [
    "len(uncertainty.reaction_list)"
   ]
  },
  {
   "cell_type": "code",
   "execution_count": null,
   "id": "55c2d547",
   "metadata": {},
   "outputs": [],
   "source": [
    "my_dict = {}\n",
    "\n",
    "for i, rxn in enumerate(uncertainty.reaction_list):\n",
    "    try:\n",
    "        if rxn.family == 'H_Abstraction':\n",
    "            print(i, rxn)\n",
    "            my_dict[i] = uncertainty.kinetic_input_uncertainties[i].keys()\n",
    "    except AttributeError:\n",
    "        pass"
   ]
  },
  {
   "cell_type": "code",
   "execution_count": null,
   "id": "34aeb588",
   "metadata": {},
   "outputs": [],
   "source": [
    "uncertainty.kinetic_input_uncertainties[1289]"
   ]
  },
  {
   "cell_type": "code",
   "execution_count": null,
   "id": "5abb0474",
   "metadata": {},
   "outputs": [],
   "source": [
    "for key1 in my_dict.keys():\n",
    "    if 'H_Abstraction C/H3/Ct;C_rad/H/Cs\\H3/Cs\\H3' in my_dict[key1]:\n",
    "        print(key1)\n",
    "    "
   ]
  },
  {
   "cell_type": "code",
   "execution_count": null,
   "id": "d88bf378",
   "metadata": {},
   "outputs": [],
   "source": [
    "with open('correlated.pickle', 'wb') as handle:\n",
    "    pickle.dump(uncertainty.kinetic_input_uncertainties, handle, protocol=pickle.HIGHEST_PROTOCOL)"
   ]
  },
  {
   "cell_type": "code",
   "execution_count": null,
   "id": "247b521c",
   "metadata": {},
   "outputs": [],
   "source": []
  },
  {
   "cell_type": "code",
   "execution_count": null,
   "id": "504714df",
   "metadata": {},
   "outputs": [],
   "source": [
    "uncertainty.reaction_sources_dict[uncertainty.reaction_list[1289]]"
   ]
  },
  {
   "cell_type": "code",
   "execution_count": null,
   "id": "79573658",
   "metadata": {},
   "outputs": [],
   "source": [
    "with open('uncorrelated_var.pickle', 'rb') as handle:\n",
    "    uncorrelated = pickle.load(handle)\n",
    "with open('correlated_var.pickle', 'rb') as handle:\n",
    "    correlated = pickle.load(handle)"
   ]
  },
  {
   "cell_type": "code",
   "execution_count": null,
   "id": "6437fab9",
   "metadata": {},
   "outputs": [],
   "source": [
    "f=0\n",
    "for i in correlated:\n",
    "    total = 0\n",
    "    for item in i:\n",
    "        total += i[item]\n",
    "    if total != uncorrelated[f]:\n",
    "        print(uncertainty.reaction_list[f].family)\n",
    "        print(f, total, uncorrelated[f])\n",
    "    \n",
    "    \n",
    "    f+=1"
   ]
  },
  {
   "cell_type": "code",
   "execution_count": null,
   "id": "0a24bd69",
   "metadata": {},
   "outputs": [],
   "source": [
    "total = 0\n",
    "for item in correlated[1289]:\n",
    "    total += correlated[1289][item]\n",
    "    print(correlated[1289][item])\n",
    "    \n",
    "print()\n",
    "print(total)"
   ]
  },
  {
   "cell_type": "code",
   "execution_count": null,
   "id": "2d47939a",
   "metadata": {},
   "outputs": [],
   "source": [
    "uncorrelated[1289]"
   ]
  },
  {
   "cell_type": "code",
   "execution_count": null,
   "id": "881abbb4",
   "metadata": {},
   "outputs": [],
   "source": [
    "dir(uncertainty)"
   ]
  },
  {
   "cell_type": "code",
   "execution_count": null,
   "id": "041a8f95",
   "metadata": {},
   "outputs": [],
   "source": []
  }
 ],
 "metadata": {
  "kernelspec": {
   "display_name": "Python 3 (ipykernel)",
   "language": "python",
   "name": "python3"
  },
  "language_info": {
   "codemirror_mode": {
    "name": "ipython",
    "version": 3
   },
   "file_extension": ".py",
   "mimetype": "text/x-python",
   "name": "python",
   "nbconvert_exporter": "python",
   "pygments_lexer": "ipython3",
   "version": "3.7.12"
  }
 },
 "nbformat": 4,
 "nbformat_minor": 5
}
