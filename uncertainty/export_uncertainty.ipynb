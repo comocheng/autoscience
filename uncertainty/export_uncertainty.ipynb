{
 "cells": [
  {
   "cell_type": "code",
   "execution_count": 1,
   "id": "ad18c8e4",
   "metadata": {},
   "outputs": [],
   "source": [
    "# This script takes an RMG mechanism and uses the special correlated uncertainty database (rules_node_sensitivity branch)\n",
    "# to produce the covariance matrix, along with a fake cantera mechanism that also includes training reactions for easy lookup"
   ]
  },
  {
   "cell_type": "code",
   "execution_count": 2,
   "id": "5bac0f26",
   "metadata": {},
   "outputs": [],
   "source": [
    "import numpy as np\n",
    "import rmgpy.tools.uncertainty\n",
    "import pickle\n",
    "import json\n",
    "import matplotlib.pyplot as plt"
   ]
  },
  {
   "cell_type": "code",
   "execution_count": 3,
   "id": "2a019211",
   "metadata": {},
   "outputs": [],
   "source": [
    "def unpack_sensitivity(long_desc):\n",
    "    start_str = 'sensitivities = '\n",
    "    if start_str not in long_desc:\n",
    "        return []\n",
    "    start_index = long_desc.find(start_str) + len(start_str)\n",
    "    sensitivities_str = long_desc[start_index:].replace(\"'\", '\"')\n",
    "    sensitivities_str = sensitivities_str.replace(\"nan\", '\"-9999999\"')\n",
    "    sensitivities_str = sensitivities_str.replace('name', 'training_rxn_name')\n",
    "    return json.loads(sensitivities_str)"
   ]
  },
  {
   "cell_type": "markdown",
   "id": "649fa205",
   "metadata": {},
   "source": [
    "# Load the RMG Model"
   ]
  },
  {
   "cell_type": "code",
   "execution_count": 4,
   "id": "3e75d199",
   "metadata": {},
   "outputs": [
    {
     "name": "stderr",
     "output_type": "stream",
     "text": [
      "WARNING:root:Only Arrhenius and PDepArrhenius kinetics supported for duplicate reactions.\n",
      "WARNING:root:Only Arrhenius and PDepArrhenius kinetics supported for duplicate reactions.\n",
      "WARNING:root:Only Arrhenius and PDepArrhenius kinetics supported for duplicate reactions.\n",
      "WARNING:root:Only Arrhenius and PDepArrhenius kinetics supported for duplicate reactions.\n"
     ]
    }
   ],
   "source": [
    "# load the model\n",
    "chemkin = '../butane/chem_annotated.inp'\n",
    "species_dict = '../butane/species_dictionary.txt'\n",
    "\n",
    "uncertainty = rmgpy.tools.uncertainty.Uncertainty(output_directory='rmg_uncertainty')\n",
    "uncertainty.load_model(chemkin, species_dict)\n",
    "\n",
    "\n",
    "\n",
    "\n",
    "# TODO - force the user to provide the input file used to generate the mechanism to ensure databases are really the same\n",
    "# load the database\n",
    "# --------------- CAUTION!!! Databases here must match the ones used to generate the mechanism\n",
    "# note - this cell stalls out on Discovery\n",
    "thermo_libs = [\n",
    "    'BurkeH2O2',\n",
    "    'primaryThermoLibrary',\n",
    "    'FFCM1(-)',\n",
    "    'CurranPentane',\n",
    "    'Klippenstein_Glarborg2016',\n",
    "    'thermo_DFT_CCSDTF12_BAC',\n",
    "    'DFT_QCI_thermo',\n",
    "    'CBS_QB3_1dHR',\n",
    "]\n",
    "\n",
    "kinetic_libs = [\n",
    "    'FFCM1(-)',\n",
    "    'CurranPentane',\n",
    "    'combustion_core/version5',\n",
    "    'Klippenstein_Glarborg2016',\n",
    "    'BurkeH2O2inArHe',\n",
    "    'BurkeH2O2inN2',\n",
    "]\n",
    "uncertainty.load_database(\n",
    "    thermo_libraries=thermo_libs,\n",
    "    kinetics_families='default',\n",
    "    reaction_libraries=kinetic_libs,\n",
    "    kinetics_depositories=['training'],\n",
    ")\n"
   ]
  },
  {
   "cell_type": "code",
   "execution_count": 5,
   "id": "785e1fdf",
   "metadata": {},
   "outputs": [],
   "source": [
    "# Get the different kinetic and thermo sources\n",
    "uncertainty.extract_sources_from_model()\n",
    "uncertainty.assign_parameter_uncertainties()"
   ]
  },
  {
   "cell_type": "code",
   "execution_count": 6,
   "id": "37daf1de",
   "metadata": {},
   "outputs": [],
   "source": [
    "# Create a giant dictionary with all of the reaction family information in it\n",
    "auto_gen_families = {}\n",
    "for family_name in uncertainty.database.kinetics.families.keys():\n",
    "    if family_name == 'Intra_R_Add_Endocyclic' or family_name == 'Intra_R_Add_Exocyclic':\n",
    "        continue\n",
    "    if uncertainty.database.kinetics.families[family_name].auto_generated and family_name not in auto_gen_families.keys():\n",
    "        auto_gen_families[family_name] = uncertainty.database.kinetics.families[family_name].rules.get_entries()\n",
    "        auto_gen_families[f'{family_name}_labels'] = [entry.label for entry in uncertainty.database.kinetics.families[family_name].rules.get_entries()]\n",
    "        auto_gen_families[f'{family_name}_rxn_map'] = uncertainty.database.kinetics.families[family_name].get_reaction_matches(\n",
    "            thermo_database=uncertainty.database.thermo,\n",
    "            remove_degeneracy=True,\n",
    "            get_reverse=True,\n",
    "            exact_matches_only=False,\n",
    "            fix_labels=True)"
   ]
  },
  {
   "cell_type": "code",
   "execution_count": 7,
   "id": "2d08486d",
   "metadata": {},
   "outputs": [],
   "source": [
    "# put the autogenerated tree info into the kinetic sources dictionary\n",
    "for rxn in uncertainty.reaction_list:\n",
    "    if 'Rate Rules' in uncertainty.reaction_sources_dict[rxn] and uncertainty.reaction_sources_dict[rxn]['Rate Rules'][1]['node']:\n",
    "        node_name = uncertainty.reaction_sources_dict[rxn]['Rate Rules'][1]['node']\n",
    "\n",
    "        training_reactions = auto_gen_families[f'{rxn.family}_rxn_map'][node_name]\n",
    "        \n",
    "        # TODO use sensitivity instead of equal weight\n",
    "        w = 1.0 / len(training_reactions)\n",
    "        \n",
    "        uncertainty.reaction_sources_dict[rxn]['Rate Rules'][1]['training'] = [(x, x, w) for x in training_reactions]"
   ]
  },
  {
   "cell_type": "code",
   "execution_count": 8,
   "id": "2dca0ca1",
   "metadata": {},
   "outputs": [],
   "source": [
    "# Define Uncertainty Constants\n",
    "k_nonexact = 3.5\n",
    "k_rule = 0.5\n",
    "k_family = 1.0\n",
    "k_library = 0.5\n",
    "k_train = 0.5"
   ]
  },
  {
   "cell_type": "code",
   "execution_count": 9,
   "id": "d5f6b881",
   "metadata": {},
   "outputs": [],
   "source": [
    "def get_intrinsic_correlation(source1, source2):\n",
    "    # expects the training dictionary\n",
    "    correlation = 0\n",
    "    \n",
    "    if 'Rate Rules' in source1:\n",
    "        training1 = source1['Rate Rules'][1]['training']\n",
    "    elif 'Training' in source1:\n",
    "        training1 = [(source1['Training'][1].item, source1['Training'][1].item, 1.0)]\n",
    "    if 'Rate Rules' in source2:\n",
    "        training2 = source2['Rate Rules'][1]['training']\n",
    "    elif 'Training' in source2:\n",
    "        training2 = [(source2['Training'][1].item, source2['Training'][1].item, 1.0)]\n",
    "    \n",
    "    for i in range(0, len(training1)):\n",
    "        for j in range(0, len(training2)):\n",
    "            if training1[i][0] == training2[j][0]:\n",
    "                weight_i = training1[i][2]\n",
    "                weight_j = training2[j][2]\n",
    "                correlation += weight_i * weight_j * k_rule\n",
    "                break\n",
    "    return correlation"
   ]
  },
  {
   "cell_type": "code",
   "execution_count": null,
   "id": "a9143ce5",
   "metadata": {},
   "outputs": [],
   "source": [
    "# i = 370\n",
    "# j = 1289\n",
    "\n",
    "i = 296\n",
    "j = 257\n",
    "get_intrinsic_correlation(\n",
    "    uncertainty.reaction_sources_dict[uncertainty.reaction_list[i]],\n",
    "    uncertainty.reaction_sources_dict[uncertainty.reaction_list[j]]\n",
    ")"
   ]
  },
  {
   "cell_type": "code",
   "execution_count": 10,
   "id": "60b395eb",
   "metadata": {},
   "outputs": [],
   "source": [
    "# Construct the covariance matrix\n",
    "Sigma_k = np.zeros((len(uncertainty.reaction_list), len(uncertainty.reaction_list)))\n",
    "\n",
    "\n",
    "for i in range(0, len(uncertainty.reaction_list)):\n",
    "    for j in range(0, i + 1):\n",
    "        source_entry_i = uncertainty.reaction_sources_dict[uncertainty.reaction_list[i]]\n",
    "        source_entry_j = uncertainty.reaction_sources_dict[uncertainty.reaction_list[j]]\n",
    "        if i == j:\n",
    "            if 'Library' in source_entry_i:\n",
    "                Sigma_k[i,i] = k_library\n",
    "            elif 'PDep' in source_entry_i:\n",
    "                Sigma_k[i,i] = k_library\n",
    "            elif 'Training' in source_entry_i:\n",
    "                Sigma_k[i,i] = k_train\n",
    "            elif 'Rate Rules' in source_entry_i:\n",
    "                N = len(source_entry_i['Rate Rules'][1]['training'])\n",
    "                Sigma_k[i,i] = get_intrinsic_correlation(source_entry_i, source_entry_j) + k_family + np.float_power(np.log10(N + 1), 2.0) * k_nonexact\n",
    "            else:\n",
    "                raise NotImplementedError\n",
    "        \n",
    "        else:  # off-diagonals\n",
    "            # If they're library reactions, off diagonal is zero\n",
    "            if 'Library' in source_entry_i:\n",
    "                continue\n",
    "            if 'Library' in source_entry_j:\n",
    "                continue\n",
    "            \n",
    "            # If they're PDEP, just assume off-diagonal is zero\n",
    "            if 'PDep' in source_entry_i:\n",
    "                continue\n",
    "            if 'PDep' in source_entry_j:\n",
    "                continue\n",
    "            \n",
    "            # If they're not from the same family, off-diagonal is zero\n",
    "            if uncertainty.reaction_list[i].family != uncertainty.reaction_list[j].family:\n",
    "                continue\n",
    "            \n",
    "            intrinsic_corr = get_intrinsic_correlation(source_entry_i, source_entry_j)\n",
    "            correlation = intrinsic_corr + k_family\n",
    "            Sigma_k[i,j] = correlation\n",
    "            Sigma_k[j,i] = correlation"
   ]
  },
  {
   "cell_type": "code",
   "execution_count": null,
   "id": "727cef06",
   "metadata": {},
   "outputs": [],
   "source": []
  },
  {
   "cell_type": "code",
   "execution_count": 11,
   "id": "1489cca5",
   "metadata": {},
   "outputs": [],
   "source": [
    "import pickle"
   ]
  },
  {
   "cell_type": "code",
   "execution_count": 12,
   "id": "8a6b8402",
   "metadata": {},
   "outputs": [],
   "source": [
    "with open('correlation_matrix.pickle', 'wb') as handle:\n",
    "    pickle.dump(Sigma_k, handle, protocol=pickle.HIGHEST_PROTOCOL)"
   ]
  },
  {
   "cell_type": "code",
   "execution_count": 13,
   "id": "1fb81e5e",
   "metadata": {},
   "outputs": [
    {
     "data": {
      "text/plain": [
       "<matplotlib.image.AxesImage at 0x7fcf67d5b650>"
      ]
     },
     "execution_count": 13,
     "metadata": {},
     "output_type": "execute_result"
    }
   ],
   "source": [
    "plt.imshow(Sigma_k)"
   ]
  },
  {
   "cell_type": "code",
   "execution_count": null,
   "id": "21565cb3",
   "metadata": {},
   "outputs": [],
   "source": [
    "np.max(np.max(Sigma_k))"
   ]
  },
  {
   "cell_type": "code",
   "execution_count": null,
   "id": "85af9192",
   "metadata": {},
   "outputs": [],
   "source": [
    "np.sum(np.sum(Sigma_k))"
   ]
  },
  {
   "cell_type": "code",
   "execution_count": null,
   "id": "fd41c0cb",
   "metadata": {},
   "outputs": [],
   "source": [
    "np.sum(np.sum(Sigma_k))"
   ]
  },
  {
   "cell_type": "code",
   "execution_count": null,
   "id": "668aa4bf",
   "metadata": {},
   "outputs": [],
   "source": [
    "uncertainty.reaction_sources_dict[uncertainty.reaction_list[0]]"
   ]
  },
  {
   "cell_type": "code",
   "execution_count": null,
   "id": "b2994c00",
   "metadata": {},
   "outputs": [],
   "source": [
    "for i in range(0, len(uncertainty.reaction_list)):\n",
    "    if 'Training' in uncertainty.reaction_sources_dict[uncertainty.reaction_list[i]]:\n",
    "        print(i,uncertainty.reaction_sources_dict[uncertainty.reaction_list[i]])"
   ]
  },
  {
   "cell_type": "code",
   "execution_count": null,
   "id": "9adacdd7",
   "metadata": {},
   "outputs": [],
   "source": [
    "uncertainty.reaction_sources_dict[uncertainty.reaction_list[211]]['Training'][1].item"
   ]
  },
  {
   "cell_type": "code",
   "execution_count": null,
   "id": "ae5e57ff",
   "metadata": {},
   "outputs": [],
   "source": [
    "for i in range(0, len(uncertainty.reaction_list)):\n",
    "    if 'Training' in uncertainty.reaction_sources_dict[uncertainty.reaction_list[i]]:\n",
    "        print(i,uncertainty.reaction_sources_dict[uncertainty.reaction_list[i]])"
   ]
  },
  {
   "cell_type": "code",
   "execution_count": 1,
   "id": "e61bc883",
   "metadata": {},
   "outputs": [
    {
     "ename": "NameError",
     "evalue": "name 'np' is not defined",
     "output_type": "error",
     "traceback": [
      "\u001b[0;31m---------------------------------------------------------------------------\u001b[0m",
      "\u001b[0;31mNameError\u001b[0m                                 Traceback (most recent call last)",
      "\u001b[0;32m/tmp/ipykernel_3521/3746913618.py\u001b[0m in \u001b[0;36m<module>\u001b[0;34m\u001b[0m\n\u001b[1;32m      1\u001b[0m \u001b[0;31m# plot the correlation matrix\u001b[0m\u001b[0;34m\u001b[0m\u001b[0;34m\u001b[0m\u001b[0;34m\u001b[0m\u001b[0m\n\u001b[0;32m----> 2\u001b[0;31m \u001b[0mx\u001b[0m \u001b[0;34m=\u001b[0m \u001b[0mnp\u001b[0m\u001b[0;34m.\u001b[0m\u001b[0marange\u001b[0m\u001b[0;34m(\u001b[0m\u001b[0;36m0\u001b[0m\u001b[0;34m,\u001b[0m \u001b[0mlen\u001b[0m\u001b[0;34m(\u001b[0m\u001b[0muncertainty\u001b[0m\u001b[0;34m.\u001b[0m\u001b[0mreaction_list\u001b[0m\u001b[0;34m)\u001b[0m\u001b[0;34m)\u001b[0m\u001b[0;34m\u001b[0m\u001b[0;34m\u001b[0m\u001b[0m\n\u001b[0m\u001b[1;32m      3\u001b[0m \u001b[0my\u001b[0m \u001b[0;34m=\u001b[0m \u001b[0mnp\u001b[0m\u001b[0;34m.\u001b[0m\u001b[0marange\u001b[0m\u001b[0;34m(\u001b[0m\u001b[0;36m0\u001b[0m\u001b[0;34m,\u001b[0m \u001b[0mlen\u001b[0m\u001b[0;34m(\u001b[0m\u001b[0muncertainty\u001b[0m\u001b[0;34m.\u001b[0m\u001b[0mreaction_list\u001b[0m\u001b[0;34m)\u001b[0m\u001b[0;34m)\u001b[0m\u001b[0;34m\u001b[0m\u001b[0;34m\u001b[0m\u001b[0m\n\u001b[1;32m      4\u001b[0m \u001b[0mX\u001b[0m\u001b[0;34m,\u001b[0m \u001b[0mY\u001b[0m \u001b[0;34m=\u001b[0m \u001b[0mnp\u001b[0m\u001b[0;34m.\u001b[0m\u001b[0mmeshgrid\u001b[0m\u001b[0;34m(\u001b[0m\u001b[0mx\u001b[0m\u001b[0;34m,\u001b[0m\u001b[0my\u001b[0m\u001b[0;34m)\u001b[0m\u001b[0;34m\u001b[0m\u001b[0;34m\u001b[0m\u001b[0m\n",
      "\u001b[0;31mNameError\u001b[0m: name 'np' is not defined"
     ]
    }
   ],
   "source": [
    "# plot the correlation matrix\n",
    "x = np.arange(0, len(uncertainty.reaction_list))\n",
    "y = np.arange(0, len(uncertainty.reaction_list))\n",
    "X, Y = np.meshgrid(x,y)"
   ]
  },
  {
   "cell_type": "code",
   "execution_count": null,
   "id": "9205fc56",
   "metadata": {},
   "outputs": [],
   "source": [
    "plt.pcolor(X,Y, Sigma_k)"
   ]
  },
  {
   "cell_type": "code",
   "execution_count": null,
   "id": "3273d8d4",
   "metadata": {},
   "outputs": [],
   "source": []
  },
  {
   "cell_type": "code",
   "execution_count": null,
   "id": "cd75664a",
   "metadata": {},
   "outputs": [],
   "source": []
  },
  {
   "cell_type": "code",
   "execution_count": null,
   "id": "fe53b8e8",
   "metadata": {},
   "outputs": [],
   "source": []
  },
  {
   "cell_type": "code",
   "execution_count": null,
   "id": "a61c8842",
   "metadata": {},
   "outputs": [],
   "source": []
  },
  {
   "cell_type": "code",
   "execution_count": null,
   "id": "7428d14a",
   "metadata": {},
   "outputs": [],
   "source": [
    "for rxn in uncertainty.reaction_list:\n",
    "    if 'Rate Rules' in uncertainty.reaction_sources_dict[rxn] and uncertainty.reaction_sources_dict[rxn]['Rate Rules'][1]['node']:\n",
    "        node_name = uncertainty.reaction_sources_dict[rxn]['Rate Rules'][1]['node']\n",
    "#         print(node_name)\n",
    "#         print(uncertainty.reaction_sources_dict[rxn])\n",
    "\n",
    "        # store the result in uncertainty.reaction_sources_dict[rxn]['Rate Rules'][1]['training']\n",
    "        # number of training reactions\n",
    "        training_reactions = auto_gen_families[f'{rxn.family}_rxn_map'][node_name]\n",
    "        \n",
    "        # TODO use sensitivity instead of equal weight\n",
    "        w = 1.0 / len(training_reactions)\n",
    "        \n",
    "        uncertainty.reaction_sources_dict[rxn]['Rate Rules'][1]['training'] = [(x, x, w) for x in training_reactions]"
   ]
  },
  {
   "cell_type": "code",
   "execution_count": null,
   "id": "8849cde1",
   "metadata": {},
   "outputs": [],
   "source": []
  },
  {
   "cell_type": "code",
   "execution_count": null,
   "id": "cef6cc60",
   "metadata": {},
   "outputs": [],
   "source": []
  },
  {
   "cell_type": "code",
   "execution_count": null,
   "id": "ab6dbf75",
   "metadata": {},
   "outputs": [],
   "source": [
    "auto_gen_families[f'Disproportionation_rxn_map']['Root']"
   ]
  },
  {
   "cell_type": "code",
   "execution_count": null,
   "id": "0e6329e9",
   "metadata": {},
   "outputs": [],
   "source": [
    "sens = unpack_sensitivity(auto_gen_families['Disproportionation'][0].long_desc)"
   ]
  },
  {
   "cell_type": "code",
   "execution_count": null,
   "id": "f80ee8d3",
   "metadata": {},
   "outputs": [],
   "source": [
    "weird_count = 0\n",
    "for i in range(0, len(auto_gen_families['Disproportionation'])):\n",
    "    sens = unpack_sensitivity(auto_gen_families['Disproportionation'][i].long_desc)\n",
    "    dAs = [x['dA'] for x in sens]\n",
    "    if np.round(np.sum(dAs)) != 1:\n",
    "        weird_count += 1\n",
    "#     dEAs = [x['dA_dEa'] for x in sens]\n",
    "        print(np.sum(dAs), np.sum(dEAs))\n",
    "    \n",
    "print()\n",
    "print(weird_count)"
   ]
  },
  {
   "cell_type": "code",
   "execution_count": null,
   "id": "1828cb01",
   "metadata": {},
   "outputs": [],
   "source": [
    "dAs = [x['dA'] for x in sens]"
   ]
  },
  {
   "cell_type": "code",
   "execution_count": null,
   "id": "01f250bc",
   "metadata": {},
   "outputs": [],
   "source": [
    "np.sum(dAs)"
   ]
  },
  {
   "cell_type": "code",
   "execution_count": null,
   "id": "aa213e0e",
   "metadata": {},
   "outputs": [],
   "source": [
    "sens[1]"
   ]
  },
  {
   "cell_type": "code",
   "execution_count": null,
   "id": "3ec17e8c",
   "metadata": {},
   "outputs": [],
   "source": [
    "len(auto_gen_families['Disproportionation_rxn_map']['Root_Ext-2R!H-R_2R!H->C_N-4R->C'])"
   ]
  },
  {
   "cell_type": "code",
   "execution_count": null,
   "id": "916b5a61",
   "metadata": {},
   "outputs": [],
   "source": []
  },
  {
   "cell_type": "code",
   "execution_count": null,
   "id": "1cd5a353",
   "metadata": {},
   "outputs": [],
   "source": []
  },
  {
   "cell_type": "code",
   "execution_count": null,
   "id": "0d5fe4c6",
   "metadata": {},
   "outputs": [],
   "source": []
  },
  {
   "cell_type": "code",
   "execution_count": null,
   "id": "91b6bf56",
   "metadata": {},
   "outputs": [],
   "source": []
  },
  {
   "cell_type": "code",
   "execution_count": null,
   "id": "cb569c31",
   "metadata": {},
   "outputs": [],
   "source": []
  },
  {
   "cell_type": "code",
   "execution_count": null,
   "id": "13f35d68",
   "metadata": {},
   "outputs": [],
   "source": []
  },
  {
   "cell_type": "code",
   "execution_count": null,
   "id": "169294e9",
   "metadata": {},
   "outputs": [],
   "source": []
  },
  {
   "cell_type": "code",
   "execution_count": null,
   "id": "f0e3a821",
   "metadata": {},
   "outputs": [],
   "source": [
    "with open('uncorrelated_var.pickle', 'wb') as handle:\n",
    "    pickle.dump(uncertainty.kinetic_input_uncertainties, handle, protocol=pickle.HIGHEST_PROTOCOL)"
   ]
  },
  {
   "cell_type": "code",
   "execution_count": null,
   "id": "aefab7c4",
   "metadata": {},
   "outputs": [],
   "source": []
  },
  {
   "cell_type": "code",
   "execution_count": null,
   "id": "66535bfb",
   "metadata": {},
   "outputs": [],
   "source": []
  },
  {
   "cell_type": "code",
   "execution_count": null,
   "id": "cbd90012",
   "metadata": {},
   "outputs": [],
   "source": []
  },
  {
   "cell_type": "code",
   "execution_count": null,
   "id": "604ccd5b",
   "metadata": {},
   "outputs": [],
   "source": []
  },
  {
   "cell_type": "code",
   "execution_count": null,
   "id": "e8bda400",
   "metadata": {},
   "outputs": [],
   "source": [
    "uncertainty.extract_sources_from_model()\n",
    "uncertainty.assign_parameter_uncertainties(correlated=True)"
   ]
  },
  {
   "cell_type": "code",
   "execution_count": null,
   "id": "385f3705",
   "metadata": {},
   "outputs": [],
   "source": [
    "with open('correlated_var.pickle', 'wb') as handle:\n",
    "    pickle.dump(uncertainty.kinetic_input_uncertainties, handle, protocol=pickle.HIGHEST_PROTOCOL)"
   ]
  },
  {
   "cell_type": "code",
   "execution_count": null,
   "id": "b8a25df6",
   "metadata": {},
   "outputs": [],
   "source": [
    "\n",
    "Sigma, labels = uncertainty.get_uncertainty_covariance_matrix()"
   ]
  },
  {
   "cell_type": "code",
   "execution_count": null,
   "id": "a56c0d15",
   "metadata": {},
   "outputs": [],
   "source": [
    "Sigma"
   ]
  },
  {
   "cell_type": "code",
   "execution_count": null,
   "id": "83b21fda",
   "metadata": {},
   "outputs": [],
   "source": [
    "uncorrelated"
   ]
  },
  {
   "cell_type": "code",
   "execution_count": null,
   "id": "b2b22a46",
   "metadata": {},
   "outputs": [],
   "source": []
  },
  {
   "cell_type": "code",
   "execution_count": null,
   "id": "7946da76",
   "metadata": {},
   "outputs": [],
   "source": [
    "r = 1289\n",
    "print(uncertainty.reaction_list[r])\n",
    "# print(uncertainty.kinetic_input_uncertainties[r])\n",
    "try:\n",
    "    d = uncertainty.reaction_sources_dict[uncertainty.reaction_list[r]]['Rate Rules'][1]['degeneracy']\n",
    "    training = uncertainty.reaction_sources_dict[uncertainty.reaction_list[r]]['Rate Rules'][1]['training']\n",
    "    for item in training:\n",
    "        print(item)\n",
    "#     print(training)\n",
    "except KeyError:\n",
    "    pass\n",
    "# print(uncertainty.reaction_sources_dict[uncertainty.reaction_list[r]])"
   ]
  },
  {
   "cell_type": "code",
   "execution_count": null,
   "id": "dd596d5c",
   "metadata": {},
   "outputs": [],
   "source": [
    "training[0][0].data"
   ]
  },
  {
   "cell_type": "code",
   "execution_count": null,
   "id": "dc4cd174",
   "metadata": {},
   "outputs": [],
   "source": [
    "training[0][1].data"
   ]
  },
  {
   "cell_type": "code",
   "execution_count": null,
   "id": "92e5fd84",
   "metadata": {},
   "outputs": [],
   "source": [
    "dir(training[0][0])"
   ]
  },
  {
   "cell_type": "code",
   "execution_count": null,
   "id": "0aec602b",
   "metadata": {},
   "outputs": [],
   "source": [
    "type(training[0][0])"
   ]
  },
  {
   "cell_type": "code",
   "execution_count": null,
   "id": "05c525e9",
   "metadata": {},
   "outputs": [],
   "source": [
    "# look at reactions 370 and 1289 and\n",
    "uncertainty.kinetic_input_uncertainties[r]"
   ]
  },
  {
   "cell_type": "code",
   "execution_count": null,
   "id": "d31d0ba4",
   "metadata": {},
   "outputs": [],
   "source": [
    "uncertainty.reaction_sources_dict[uncertainty.reaction_list[370]]"
   ]
  },
  {
   "cell_type": "code",
   "execution_count": null,
   "id": "75e4fd45",
   "metadata": {},
   "outputs": [],
   "source": []
  },
  {
   "cell_type": "code",
   "execution_count": null,
   "id": "29c0b56b",
   "metadata": {},
   "outputs": [],
   "source": []
  },
  {
   "cell_type": "code",
   "execution_count": null,
   "id": "9748a7b4",
   "metadata": {},
   "outputs": [],
   "source": []
  },
  {
   "cell_type": "code",
   "execution_count": null,
   "id": "a5330692",
   "metadata": {},
   "outputs": [],
   "source": [
    "for sp in uncertainty.species_list:\n",
    "#     print(sp.molecule[0].smiles)\n",
    "    if sp.molecule[0].smiles == \"CCO\":\n",
    "        print(uncertainty.species_list.index(sp))"
   ]
  },
  {
   "cell_type": "code",
   "execution_count": null,
   "id": "b5e181ac",
   "metadata": {},
   "outputs": [],
   "source": [
    "[uncertainty.species_list[110]]"
   ]
  },
  {
   "cell_type": "code",
   "execution_count": null,
   "id": "3bc7a101",
   "metadata": {},
   "outputs": [],
   "source": []
  },
  {
   "cell_type": "code",
   "execution_count": null,
   "id": "ba712787",
   "metadata": {},
   "outputs": [],
   "source": []
  },
  {
   "cell_type": "code",
   "execution_count": null,
   "id": "04f8eb0e",
   "metadata": {},
   "outputs": [],
   "source": [
    "dir(uncertainty)"
   ]
  },
  {
   "cell_type": "code",
   "execution_count": null,
   "id": "26e21304",
   "metadata": {},
   "outputs": [],
   "source": []
  },
  {
   "cell_type": "code",
   "execution_count": null,
   "id": "924f644d",
   "metadata": {},
   "outputs": [],
   "source": [
    "uncertainty.species_sources_dict"
   ]
  },
  {
   "cell_type": "code",
   "execution_count": null,
   "id": "d3ee78c0",
   "metadata": {},
   "outputs": [],
   "source": [
    "uncertainty.kinetic_input_uncertainties"
   ]
  },
  {
   "cell_type": "code",
   "execution_count": null,
   "id": "6ff68d49",
   "metadata": {},
   "outputs": [],
   "source": [
    "dir(uncertainty)"
   ]
  },
  {
   "cell_type": "code",
   "execution_count": null,
   "id": "fd867077",
   "metadata": {},
   "outputs": [],
   "source": [
    "for rxn in uncertainty.kinetic_input_uncertainties:\n",
    "    keys = rxn.keys()\n",
    "    for key in keys:\n",
    "        if 'Disproportionation' in key:\n",
    "            print(rxn)"
   ]
  },
  {
   "cell_type": "code",
   "execution_count": null,
   "id": "af421ea4",
   "metadata": {},
   "outputs": [],
   "source": [
    "len(uncertainty.reaction_list)"
   ]
  },
  {
   "cell_type": "code",
   "execution_count": null,
   "id": "55c2d547",
   "metadata": {},
   "outputs": [],
   "source": [
    "my_dict = {}\n",
    "\n",
    "for i, rxn in enumerate(uncertainty.reaction_list):\n",
    "    try:\n",
    "        if rxn.family == 'H_Abstraction':\n",
    "            print(i, rxn)\n",
    "            my_dict[i] = uncertainty.kinetic_input_uncertainties[i].keys()\n",
    "    except AttributeError:\n",
    "        pass"
   ]
  },
  {
   "cell_type": "code",
   "execution_count": null,
   "id": "34aeb588",
   "metadata": {},
   "outputs": [],
   "source": [
    "uncertainty.kinetic_input_uncertainties[1289]"
   ]
  },
  {
   "cell_type": "code",
   "execution_count": null,
   "id": "5abb0474",
   "metadata": {},
   "outputs": [],
   "source": [
    "for key1 in my_dict.keys():\n",
    "    if 'H_Abstraction C/H3/Ct;C_rad/H/Cs\\H3/Cs\\H3' in my_dict[key1]:\n",
    "        print(key1)\n",
    "    "
   ]
  },
  {
   "cell_type": "code",
   "execution_count": null,
   "id": "d88bf378",
   "metadata": {},
   "outputs": [],
   "source": [
    "with open('correlated.pickle', 'wb') as handle:\n",
    "    pickle.dump(uncertainty.kinetic_input_uncertainties, handle, protocol=pickle.HIGHEST_PROTOCOL)"
   ]
  },
  {
   "cell_type": "code",
   "execution_count": null,
   "id": "247b521c",
   "metadata": {},
   "outputs": [],
   "source": []
  },
  {
   "cell_type": "code",
   "execution_count": null,
   "id": "504714df",
   "metadata": {},
   "outputs": [],
   "source": [
    "uncertainty.reaction_sources_dict[uncertainty.reaction_list[1289]]"
   ]
  },
  {
   "cell_type": "code",
   "execution_count": null,
   "id": "79573658",
   "metadata": {},
   "outputs": [],
   "source": [
    "with open('uncorrelated_var.pickle', 'rb') as handle:\n",
    "    uncorrelated = pickle.load(handle)\n",
    "with open('correlated_var.pickle', 'rb') as handle:\n",
    "    correlated = pickle.load(handle)"
   ]
  },
  {
   "cell_type": "code",
   "execution_count": null,
   "id": "6437fab9",
   "metadata": {},
   "outputs": [],
   "source": [
    "f=0\n",
    "for i in correlated:\n",
    "    total = 0\n",
    "    for item in i:\n",
    "        total += i[item]\n",
    "    if total != uncorrelated[f]:\n",
    "        print(uncertainty.reaction_list[f].family)\n",
    "        print(f, total, uncorrelated[f])\n",
    "    \n",
    "    \n",
    "    f+=1"
   ]
  },
  {
   "cell_type": "code",
   "execution_count": null,
   "id": "0a24bd69",
   "metadata": {},
   "outputs": [],
   "source": [
    "total = 0\n",
    "for item in correlated[1289]:\n",
    "    total += correlated[1289][item]\n",
    "    print(correlated[1289][item])\n",
    "    \n",
    "print()\n",
    "print(total)"
   ]
  },
  {
   "cell_type": "code",
   "execution_count": null,
   "id": "2d47939a",
   "metadata": {},
   "outputs": [],
   "source": [
    "uncorrelated[1289]"
   ]
  },
  {
   "cell_type": "code",
   "execution_count": null,
   "id": "881abbb4",
   "metadata": {},
   "outputs": [],
   "source": [
    "dir(uncertainty)"
   ]
  },
  {
   "cell_type": "code",
   "execution_count": null,
   "id": "a2736a30",
   "metadata": {},
   "outputs": [],
   "source": []
  }
 ],
 "metadata": {
  "kernelspec": {
   "display_name": "Python 3 (ipykernel)",
   "language": "python",
   "name": "python3"
  },
  "language_info": {
   "codemirror_mode": {
    "name": "ipython",
    "version": 3
   },
   "file_extension": ".py",
   "mimetype": "text/x-python",
   "name": "python",
   "nbconvert_exporter": "python",
   "pygments_lexer": "ipython3",
   "version": "3.7.12"
  }
 },
 "nbformat": 4,
 "nbformat_minor": 5
}
