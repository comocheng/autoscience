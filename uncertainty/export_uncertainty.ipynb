{
 "cells": [
  {
   "cell_type": "code",
   "execution_count": 1,
   "id": "ad18c8e4",
   "metadata": {},
   "outputs": [],
   "source": [
    "# This script takes an RMG mechanism and uses the special correlated uncertainty database (rules_node_sensitivity branch)\n",
    "# to produce the covariance matrix, along with a fake cantera mechanism that also includes training reactions for easy lookup"
   ]
  },
  {
   "cell_type": "code",
   "execution_count": 1,
   "id": "5bac0f26",
   "metadata": {},
   "outputs": [],
   "source": [
    "import rmgpy.tools.uncertainty"
   ]
  },
  {
   "cell_type": "markdown",
   "id": "649fa205",
   "metadata": {},
   "source": [
    "# Load the RMG Model"
   ]
  },
  {
   "cell_type": "code",
   "execution_count": null,
   "id": "3e75d199",
   "metadata": {},
   "outputs": [
    {
     "name": "stderr",
     "output_type": "stream",
     "text": [
      "WARNING:root:Only Arrhenius and PDepArrhenius kinetics supported for duplicate reactions.\n",
      "WARNING:root:Only Arrhenius and PDepArrhenius kinetics supported for duplicate reactions.\n",
      "WARNING:root:Only Arrhenius and PDepArrhenius kinetics supported for duplicate reactions.\n",
      "WARNING:root:Only Arrhenius and PDepArrhenius kinetics supported for duplicate reactions.\n"
     ]
    }
   ],
   "source": [
    "# load the model\n",
    "chemkin = '../butane/chem_annotated.inp'\n",
    "species_dict = '../butane/species_dictionary.txt'\n",
    "\n",
    "uncertainty = rmgpy.tools.uncertainty.Uncertainty(output_directory='rmg_uncertainty')\n",
    "uncertainty.load_model(chemkin, species_dict)\n",
    "\n",
    "\n",
    "\n",
    "\n",
    "# TODO - force the user to provide the input file used to generate the mechanism to ensure databases are really the same\n",
    "# load the database\n",
    "# --------------- CAUTION!!! Databases here must match the ones used to generate the mechanism\n",
    "thermo_libs = [\n",
    "    'BurkeH2O2',\n",
    "    'primaryThermoLibrary',\n",
    "    'FFCM1(-)',\n",
    "    'CurranPentane',\n",
    "    'Klippenstein_Glarborg2016',\n",
    "    'thermo_DFT_CCSDTF12_BAC',\n",
    "    'DFT_QCI_thermo',\n",
    "    'CBS_QB3_1dHR',\n",
    "]\n",
    "\n",
    "kinetic_libs = [\n",
    "    'FFCM1(-)',\n",
    "    'CurranPentane',\n",
    "    'combustion_core/version5',\n",
    "    'Klippenstein_Glarborg2016',\n",
    "    'BurkeH2O2inArHe',\n",
    "    'BurkeH2O2inN2',\n",
    "]\n",
    "uncertainty.load_database(\n",
    "    thermo_libraries=thermo_libs,\n",
    "    kinetics_families='default',\n",
    "    reaction_libraries=kinetic_libs,\n",
    "    kinetics_depositories=['training'],\n",
    ")\n"
   ]
  },
  {
   "cell_type": "code",
   "execution_count": null,
   "id": "785e1fdf",
   "metadata": {},
   "outputs": [],
   "source": [
    "# Get the different kinetic and thermo sources\n",
    "uncertainty.extract_sources_from_model()\n",
    "uncertainty.assign_parameter_uncertainties()"
   ]
  }
 ],
 "metadata": {
  "kernelspec": {
   "display_name": "Python 3 (ipykernel)",
   "language": "python",
   "name": "python3"
  },
  "language_info": {
   "codemirror_mode": {
    "name": "ipython",
    "version": 3
   },
   "file_extension": ".py",
   "mimetype": "text/x-python",
   "name": "python",
   "nbconvert_exporter": "python",
   "pygments_lexer": "ipython3",
   "version": "3.7.12"
  }
 },
 "nbformat": 4,
 "nbformat_minor": 5
}
