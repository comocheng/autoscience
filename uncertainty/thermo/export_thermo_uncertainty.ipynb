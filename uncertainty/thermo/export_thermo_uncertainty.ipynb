{
 "cells": [
  {
   "cell_type": "code",
   "execution_count": 1,
   "id": "48f24cdc",
   "metadata": {},
   "outputs": [],
   "source": [
    "import numpy as np\n",
    "import rmgpy.tools.uncertainty\n",
    "import pickle\n",
    "import json\n",
    "import matplotlib.pyplot as plt\n"
   ]
  },
  {
   "cell_type": "code",
   "execution_count": 2,
   "id": "9e03c3aa",
   "metadata": {
    "scrolled": true
   },
   "outputs": [],
   "source": [
    "# # load the model : ethane for now\n",
    "\n",
    "# chemkin = '/home/moon/autoscience/autoscience/uncertainty/thermo/ethane/chemkin/chem_annotated.inp'\n",
    "# species_dict = '/home/moon/autoscience/autoscience/uncertainty/thermo/ethane/chemkin/species_dictionary.txt'\n",
    "\n",
    "# uncertainty = rmgpy.tools.uncertainty.Uncertainty(output_directory='rmg_uncertainty')\n",
    "# uncertainty.load_model(chemkin, species_dict)\n",
    "\n",
    "# thermo_libs = [\n",
    "#     'primaryThermoLibrary',\n",
    "# ]\n",
    "\n",
    "# kinetic_libs = []\n",
    "# uncertainty.load_database(\n",
    "#     thermo_libraries=thermo_libs,\n",
    "#     kinetics_families='default',\n",
    "#     reaction_libraries=kinetic_libs,\n",
    "#     kinetics_depositories=['training'],\n",
    "# )\n"
   ]
  },
  {
   "cell_type": "code",
   "execution_count": 3,
   "id": "5f008687",
   "metadata": {},
   "outputs": [
    {
     "name": "stderr",
     "output_type": "stream",
     "text": [
      "WARNING:root:Only Arrhenius and PDepArrhenius kinetics supported for duplicate reactions.\n",
      "WARNING:root:Only Arrhenius and PDepArrhenius kinetics supported for duplicate reactions.\n",
      "WARNING:root:Only Arrhenius and PDepArrhenius kinetics supported for duplicate reactions.\n",
      "WARNING:root:Only Arrhenius and PDepArrhenius kinetics supported for duplicate reactions.\n"
     ]
    }
   ],
   "source": [
    "chemkin = '/home/moon/autoscience/autoscience/butane/models/rmg_model/chem_annotated.inp'\n",
    "species_dict = '/home/moon/autoscience/autoscience/butane/models/rmg_model/species_dictionary.txt'\n",
    "\n",
    "uncertainty = rmgpy.tools.uncertainty.Uncertainty(output_directory='rmg_uncertainty')\n",
    "uncertainty.load_model(chemkin, species_dict)\n",
    "\n",
    "thermo_libs = [\n",
    "    'BurkeH2O2',\n",
    "    'primaryThermoLibrary',\n",
    "    'FFCM1(-)',\n",
    "    'CurranPentane',\n",
    "    'Klippenstein_Glarborg2016',\n",
    "    'thermo_DFT_CCSDTF12_BAC',\n",
    "    'DFT_QCI_thermo',\n",
    "    'CBS_QB3_1dHR',\n",
    "]\n",
    "\n",
    "kinetic_libs = [\n",
    "    'FFCM1(-)',\n",
    "    'CurranPentane',\n",
    "    'combustion_core/version5',\n",
    "    'Klippenstein_Glarborg2016',\n",
    "    'BurkeH2O2inArHe',\n",
    "    'BurkeH2O2inN2',\n",
    "]\n",
    "uncertainty.load_database(\n",
    "    thermo_libraries=thermo_libs,\n",
    "    kinetics_families='default',\n",
    "    reaction_libraries=kinetic_libs,\n",
    "    kinetics_depositories=['training'],\n",
    ")"
   ]
  },
  {
   "cell_type": "code",
   "execution_count": 4,
   "id": "b42e05dc",
   "metadata": {},
   "outputs": [],
   "source": [
    "uncertainty.extract_sources_from_model()\n",
    "uncertainty.assign_parameter_uncertainties()"
   ]
  },
  {
   "cell_type": "code",
   "execution_count": null,
   "id": "7805582e",
   "metadata": {},
   "outputs": [],
   "source": []
  },
  {
   "cell_type": "code",
   "execution_count": 5,
   "id": "bf1d0504",
   "metadata": {},
   "outputs": [],
   "source": [
    "covariance_matrix, parameter_labels = uncertainty.get_uncertainty_covariance_matrix()"
   ]
  },
  {
   "cell_type": "code",
   "execution_count": 10,
   "id": "b27a1ad3",
   "metadata": {},
   "outputs": [
    {
     "data": {
      "text/plain": [
       "array([[1.5, 0. , 0. , ..., 0. , 0. , 0. ],\n",
       "       [0. , 1.5, 0. , ..., 0. , 0. , 0. ],\n",
       "       [0. , 0. , 1.5, ..., 0. , 0. , 0. ],\n",
       "       ...,\n",
       "       [0. , 0. , 0. , ..., 2. , 0. , 0. ],\n",
       "       [0. , 0. , 0. , ..., 0. , 2. , 0. ],\n",
       "       [0. , 0. , 0. , ..., 0. , 0. , 2. ]])"
      ]
     },
     "execution_count": 10,
     "metadata": {},
     "output_type": "execute_result"
    }
   ],
   "source": [
    "covariance_matrix"
   ]
  },
  {
   "cell_type": "code",
   "execution_count": 7,
   "id": "97e39440",
   "metadata": {},
   "outputs": [],
   "source": [
    "with open('total_covariance_matrix.pickle', 'wb') as handle:\n",
    "    pickle.dump(covariance_matrix, handle, protocol=pickle.HIGHEST_PROTOCOL)"
   ]
  },
  {
   "cell_type": "code",
   "execution_count": 8,
   "id": "d48e86a4",
   "metadata": {},
   "outputs": [],
   "source": [
    "N = len(uncertainty.species_list)"
   ]
  },
  {
   "cell_type": "code",
   "execution_count": 9,
   "id": "f222e3d2",
   "metadata": {},
   "outputs": [
    {
     "data": {
      "text/plain": [
       "110"
      ]
     },
     "execution_count": 9,
     "metadata": {},
     "output_type": "execute_result"
    }
   ],
   "source": [
    "N"
   ]
  },
  {
   "cell_type": "code",
   "execution_count": null,
   "id": "99d03800",
   "metadata": {},
   "outputs": [],
   "source": [
    "for a in range(0, N):\n",
    "    for b in range(0, N):\n",
    "        if a == b:\n",
    "            continue\n",
    "        if covariance_matrix[a, b] > 0:\n",
    "            print(a, b, '\\t', covariance_matrix[a, b])\n",
    "        if b > N:\n",
    "            break\n",
    "    if a > N:\n",
    "        break"
   ]
  },
  {
   "cell_type": "code",
   "execution_count": null,
   "id": "0231335e",
   "metadata": {},
   "outputs": [],
   "source": []
  },
  {
   "cell_type": "code",
   "execution_count": null,
   "id": "d181d5ca",
   "metadata": {},
   "outputs": [],
   "source": [
    "uncertainty.species_sources_dict"
   ]
  },
  {
   "cell_type": "code",
   "execution_count": null,
   "id": "31352056",
   "metadata": {},
   "outputs": [],
   "source": [
    "N = len(uncertainty.species_list)\n",
    "Sigma_G = np.zeros((N, N))\n",
    "\n",
    "\n",
    "for i in range(0, N):\n",
    "    entry_i = uncertainty.species_sources_dict[uncertainty.species_list[i]]\n",
    "    \n",
    "    correlated_uncertainty = 0\n",
    "    for j in range(0, N):\n",
    "        entry_j = uncertainty.species_sources_dict[uncertainty.species_list[j]]\n",
    "        \n",
    "        if 'Library' in entry_i and 'Library' in entry_j:\n",
    "            Sigma_G[i, i] = 1.5\n",
    "    \n",
    "        print(uncertainty.species_sources_dict[uncertainty.species_list[i]])\n",
    "    #     for j in range(0, N):\n",
    "        \n",
    "    \n"
   ]
  },
  {
   "cell_type": "code",
   "execution_count": null,
   "id": "c7e85e22",
   "metadata": {},
   "outputs": [],
   "source": [
    "Sigma_G[0,0]"
   ]
  },
  {
   "cell_type": "code",
   "execution_count": 12,
   "id": "bfb2ab64",
   "metadata": {},
   "outputs": [
    {
     "data": {
      "text/plain": [
       "{'GAV': {'group': [(<Entry index=2335 label=\"O2s-OsCs\">, 2),\n",
       "   (<Entry index=2317 label=\"O2s-OsH\">, 2),\n",
       "   (<Entry index=1908 label=\"Cs-CsCsOsH\">, 1),\n",
       "   (<Entry index=953 label=\"Cs-CsCsHH\">, 1),\n",
       "   (<Entry index=1952 label=\"Cs-CsOsHH\">, 1),\n",
       "   (<Entry index=921 label=\"Cs-CsHHH\">, 1)]}}"
      ]
     },
     "execution_count": 12,
     "metadata": {},
     "output_type": "execute_result"
    }
   ],
   "source": [
    "uncertainty.species_sources_dict[uncertainty.species_list[85]]"
   ]
  },
  {
   "cell_type": "code",
   "execution_count": null,
   "id": "5b074c53",
   "metadata": {},
   "outputs": [],
   "source": []
  },
  {
   "cell_type": "code",
   "execution_count": null,
   "id": "88f9f921",
   "metadata": {},
   "outputs": [],
   "source": [
    "# chemkin = '/home/moon/autoscience/autoscience/butane/models/rmg_model/chem_annotated.inp'\n",
    "# species_dict = '/home/moon/autoscience/autoscience/butane/models/rmg_model/species_dictionary.txt'\n",
    "\n",
    "# thermo_libs = [\n",
    "#     'BurkeH2O2',\n",
    "#     'primaryThermoLibrary',\n",
    "#     'FFCM1(-)',\n",
    "#     'CurranPentane',\n",
    "#     'Klippenstein_Glarborg2016',\n",
    "#     'thermo_DFT_CCSDTF12_BAC',\n",
    "#     'DFT_QCI_thermo',\n",
    "#     'CBS_QB3_1dHR',\n",
    "# ]\n",
    "\n",
    "# kinetic_libs = [\n",
    "#     'FFCM1(-)',\n",
    "#     'CurranPentane',\n",
    "#     'combustion_core/version5',\n",
    "#     'Klippenstein_Glarborg2016',\n",
    "#     'BurkeH2O2inArHe',\n",
    "#     'BurkeH2O2inN2',\n",
    "# ]\n",
    "# uncertainty.load_database(\n",
    "#     thermo_libraries=thermo_libs,\n",
    "#     kinetics_families='default',\n",
    "#     reaction_libraries=kinetic_libs,\n",
    "#     kinetics_depositories=['training'],\n",
    "# )"
   ]
  },
  {
   "cell_type": "code",
   "execution_count": null,
   "id": "675839b9",
   "metadata": {},
   "outputs": [],
   "source": []
  },
  {
   "cell_type": "code",
   "execution_count": null,
   "id": "37249b1f",
   "metadata": {},
   "outputs": [],
   "source": []
  }
 ],
 "metadata": {
  "kernelspec": {
   "display_name": "Python 3 (ipykernel)",
   "language": "python",
   "name": "python3"
  },
  "language_info": {
   "codemirror_mode": {
    "name": "ipython",
    "version": 3
   },
   "file_extension": ".py",
   "mimetype": "text/x-python",
   "name": "python",
   "nbconvert_exporter": "python",
   "pygments_lexer": "ipython3",
   "version": "3.7.12"
  }
 },
 "nbformat": 4,
 "nbformat_minor": 5
}
