{
 "cells": [
  {
   "cell_type": "code",
   "execution_count": 1,
   "id": "137dcd40",
   "metadata": {},
   "outputs": [],
   "source": [
    "# List all the species thermo using group additivity in the mechanism"
   ]
  },
  {
   "cell_type": "code",
   "execution_count": 15,
   "id": "88a8ef9f",
   "metadata": {},
   "outputs": [],
   "source": [
    "import os\n",
    "import cantera as ct\n",
    "import rmgpy.chemkin"
   ]
  },
  {
   "cell_type": "code",
   "execution_count": 16,
   "id": "df0706e4",
   "metadata": {},
   "outputs": [],
   "source": [
    "# Load the model\n",
    "\n",
    "# Load the base model\n",
    "basedir = '/work/westgroup/harris.se/autoscience/autoscience/butane/rmg_model'\n",
    "\n",
    "base_chemkin = os.path.join(basedir, 'chem_annotated.inp')\n",
    "dictionary = os.path.join(basedir, 'species_dictionary.txt')\n",
    "transport = os.path.join(basedir, 'tran.dat')\n",
    "species_list, reaction_list = rmgpy.chemkin.load_chemkin_file(base_chemkin, dictionary_path=dictionary, transport_path=transport)\n",
    "cti_path = os.path.join(basedir, 'chem_annotated.cti')\n",
    "gas = ct.Solution(cti_path)\n",
    "\n",
    "# # does aramco have nheptane? looks like no\n",
    "# cti_path = '/work/westgroup/harris.se/autoscience/aramco/AramcoMech3.0.MECH.cti'\n",
    "# gas = ct.Solution(cti_path)\n",
    "# for sp in gas.species():\n",
    "#     if 'C7H16' in sp.name:\n",
    "#         print(sp)"
   ]
  },
  {
   "cell_type": "code",
   "execution_count": 28,
   "id": "befe4f97",
   "metadata": {},
   "outputs": [
    {
     "name": "stdout",
     "output_type": "stream",
     "text": [
      "79 C[C]C(689)\n",
      "83 C[C]CC-2(776)\n",
      "84 CC(CC[O])OO(777)\n",
      "85 CC(CCOO)OO(787)\n",
      "86 CC(=O)CC[O](818)\n",
      "88 O=C1COC1(917)\n",
      "89 C=C([O])C[O](920)\n",
      "92 C1=CCC1(2530)\n",
      "96 C1OO1(4213)\n",
      "101 [C]1CCC1(4880)\n",
      "102 [CH2]C(CCO)OO(5093)\n",
      "103 OCCC1CO1(5151)\n",
      "105 [CH]1CCOOC1(5425)\n",
      "106 [O]C=CCC[O](5753)\n",
      "107 O=CC1CCO1(5761)\n",
      "108 C1=COOCC1(5951)\n",
      "109 [O]OC1CCOOC1(9510)\n",
      "17 estimated species\n"
     ]
    }
   ],
   "source": [
    "count = 0\n",
    "for i in range(0, len(species_list)):\n",
    "    if 'Thermo library' in species_list[i].thermo.comment:\n",
    "        continue\n",
    "    count += 1\n",
    "    print(i, species_list[i])\n",
    "print(f'{count} estimated species')"
   ]
  },
  {
   "cell_type": "code",
   "execution_count": 30,
   "id": "450ee36d",
   "metadata": {},
   "outputs": [
    {
     "name": "stdout",
     "output_type": "stream",
     "text": [
      "1  C u0 p0 c0 {2,S} {4,S} {5,S} {6,S}\n",
      "2  C u0 p0 c0 {1,S} {7,S} {8,S} {9,S}\n",
      "3  C u0 p0 c0 {4,S} {10,S} {11,S} {12,S}\n",
      "4  C u0 p1 c0 {1,S} {3,S}\n",
      "5  H u0 p0 c0 {1,S}\n",
      "6  H u0 p0 c0 {1,S}\n",
      "7  H u0 p0 c0 {2,S}\n",
      "8  H u0 p0 c0 {2,S}\n",
      "9  H u0 p0 c0 {2,S}\n",
      "10 H u0 p0 c0 {3,S}\n",
      "11 H u0 p0 c0 {3,S}\n",
      "12 H u0 p0 c0 {3,S}\n",
      "\n"
     ]
    }
   ],
   "source": [
    "print(species_list[83].molecule[0].to_adjacency_list())"
   ]
  },
  {
   "cell_type": "code",
   "execution_count": 27,
   "id": "cdd9d069",
   "metadata": {},
   "outputs": [
    {
     "data": {
      "text/plain": [
       "'Thermo group additivity estimation: group(Cs-CsCsHH) + group(Cs-CsHHH) + group(Cs-CsHHH) + group(CsJ2_singlet-CsH)'"
      ]
     },
     "execution_count": 27,
     "metadata": {},
     "output_type": "execute_result"
    }
   ],
   "source": [
    "species_list[83].thermo.comment"
   ]
  },
  {
   "cell_type": "code",
   "execution_count": 21,
   "id": "33bbdf26",
   "metadata": {},
   "outputs": [
    {
     "data": {
      "text/plain": [
       "['__class__',\n",
       " '__delattr__',\n",
       " '__dir__',\n",
       " '__doc__',\n",
       " '__eq__',\n",
       " '__format__',\n",
       " '__ge__',\n",
       " '__getattribute__',\n",
       " '__gt__',\n",
       " '__hash__',\n",
       " '__init__',\n",
       " '__init_subclass__',\n",
       " '__le__',\n",
       " '__lt__',\n",
       " '__ne__',\n",
       " '__new__',\n",
       " '__pyx_vtable__',\n",
       " '__reduce__',\n",
       " '__reduce_ex__',\n",
       " '__repr__',\n",
       " '__setattr__',\n",
       " '__sizeof__',\n",
       " '__str__',\n",
       " '__subclasshook__',\n",
       " '_molecular_weight',\n",
       " '_repr_png_',\n",
       " 'aug_inchi',\n",
       " 'calculate_cp0',\n",
       " 'calculate_cpinf',\n",
       " 'conformer',\n",
       " 'contains_surface_site',\n",
       " 'copy',\n",
       " 'creation_iteration',\n",
       " 'energy_transfer_model',\n",
       " 'explicitly_allowed',\n",
       " 'fingerprint',\n",
       " 'from_adjacency_list',\n",
       " 'from_smiles',\n",
       " 'generate_aug_inchi',\n",
       " 'generate_energy_transfer_model',\n",
       " 'generate_resonance_structures',\n",
       " 'generate_statmech',\n",
       " 'generate_transport_data',\n",
       " 'get_augmented_inchi',\n",
       " 'get_density_of_states',\n",
       " 'get_enthalpy',\n",
       " 'get_entropy',\n",
       " 'get_free_energy',\n",
       " 'get_heat_capacity',\n",
       " 'get_henry_law_constant_data',\n",
       " 'get_liquid_volumetric_mass_transfer_coefficient_data',\n",
       " 'get_partition_function',\n",
       " 'get_resonance_hybrid',\n",
       " 'get_sum_of_states',\n",
       " 'get_symmetry_number',\n",
       " 'get_thermo_data',\n",
       " 'get_transport_data',\n",
       " 'has_reactive_molecule',\n",
       " 'has_statmech',\n",
       " 'has_thermo',\n",
       " 'henry_law_constant_data',\n",
       " 'inchi',\n",
       " 'index',\n",
       " 'is_identical',\n",
       " 'is_isomorphic',\n",
       " 'is_solvent',\n",
       " 'is_structure_in_list',\n",
       " 'is_surface_site',\n",
       " 'label',\n",
       " 'liquid_volumetric_mass_transfer_coefficient_data',\n",
       " 'molecular_weight',\n",
       " 'molecule',\n",
       " 'multiplicity',\n",
       " 'props',\n",
       " 'reactive',\n",
       " 'set_e0_with_thermo',\n",
       " 'set_structure',\n",
       " 'smiles',\n",
       " 'sorting_key',\n",
       " 'symmetry_number',\n",
       " 'thermo',\n",
       " 'to_adjacency_list',\n",
       " 'to_cantera',\n",
       " 'to_chemkin',\n",
       " 'transport_data']"
      ]
     },
     "execution_count": 21,
     "metadata": {},
     "output_type": "execute_result"
    }
   ],
   "source": [
    "dir(species_list[4])"
   ]
  },
  {
   "cell_type": "code",
   "execution_count": null,
   "id": "426758a7",
   "metadata": {},
   "outputs": [],
   "source": []
  },
  {
   "cell_type": "code",
   "execution_count": null,
   "id": "fff2599d",
   "metadata": {},
   "outputs": [],
   "source": []
  },
  {
   "cell_type": "code",
   "execution_count": null,
   "id": "babc0e90",
   "metadata": {},
   "outputs": [],
   "source": []
  }
 ],
 "metadata": {
  "kernelspec": {
   "display_name": "Python 3 (ipykernel)",
   "language": "python",
   "name": "python3"
  },
  "language_info": {
   "codemirror_mode": {
    "name": "ipython",
    "version": 3
   },
   "file_extension": ".py",
   "mimetype": "text/x-python",
   "name": "python",
   "nbconvert_exporter": "python",
   "pygments_lexer": "ipython3",
   "version": "3.7.12"
  }
 },
 "nbformat": 4,
 "nbformat_minor": 5
}
