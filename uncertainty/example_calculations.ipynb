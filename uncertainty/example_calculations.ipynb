{
 "cells": [
  {
   "cell_type": "code",
   "execution_count": 1,
   "id": "98727967",
   "metadata": {},
   "outputs": [],
   "source": [
    "import numpy as np\n",
    "import rmgpy.tools.uncertainty\n",
    "\n",
    "import matplotlib.pyplot as plt\n",
    "%matplotlib inline"
   ]
  },
  {
   "cell_type": "code",
   "execution_count": 2,
   "id": "3f65a63a",
   "metadata": {},
   "outputs": [
    {
     "name": "stderr",
     "output_type": "stream",
     "text": [
      "WARNING:root:Only Arrhenius and PDepArrhenius kinetics supported for duplicate reactions.\n",
      "WARNING:root:Only Arrhenius and PDepArrhenius kinetics supported for duplicate reactions.\n",
      "WARNING:root:Only Arrhenius and PDepArrhenius kinetics supported for duplicate reactions.\n",
      "WARNING:root:Only Arrhenius and PDepArrhenius kinetics supported for duplicate reactions.\n"
     ]
    }
   ],
   "source": [
    "# load the model\n",
    "chemkin = '../butane/chem_annotated.inp'\n",
    "species_dict = '../butane/species_dictionary.txt'\n",
    "\n",
    "uncertainty = rmgpy.tools.uncertainty.Uncertainty(output_directory='rmg_uncertainty')\n",
    "uncertainty.load_model(chemkin, species_dict)\n",
    "\n",
    "\n",
    "\n",
    "\n",
    "# TODO - force the user to provide the input file used to generate the mechanism to ensure databases are really the same\n",
    "# load the database\n",
    "# --------------- CAUTION!!! Databases here must match the ones used to generate the mechanism\n",
    "# note - this cell stalls out on Discovery\n",
    "thermo_libs = [\n",
    "    'BurkeH2O2',\n",
    "    'primaryThermoLibrary',\n",
    "    'FFCM1(-)',\n",
    "    'CurranPentane',\n",
    "    'Klippenstein_Glarborg2016',\n",
    "    'thermo_DFT_CCSDTF12_BAC',\n",
    "    'DFT_QCI_thermo',\n",
    "    'CBS_QB3_1dHR',\n",
    "]\n",
    "\n",
    "kinetic_libs = [\n",
    "    'FFCM1(-)',\n",
    "    'CurranPentane',\n",
    "    'combustion_core/version5',\n",
    "    'Klippenstein_Glarborg2016',\n",
    "    'BurkeH2O2inArHe',\n",
    "    'BurkeH2O2inN2',\n",
    "]\n",
    "uncertainty.load_database(\n",
    "    thermo_libraries=thermo_libs,\n",
    "    kinetics_families='default',\n",
    "    reaction_libraries=kinetic_libs,\n",
    "    kinetics_depositories=['training'],\n",
    ")\n"
   ]
  },
  {
   "cell_type": "code",
   "execution_count": 3,
   "id": "f236c430",
   "metadata": {},
   "outputs": [],
   "source": [
    "# Get the different kinetic and thermo sources\n",
    "uncertainty.extract_sources_from_model()\n",
    "uncertainty.assign_parameter_uncertainties()"
   ]
  },
  {
   "cell_type": "code",
   "execution_count": 4,
   "id": "27a91ecc",
   "metadata": {},
   "outputs": [],
   "source": [
    "Sigma, labels = uncertainty.get_uncertainty_covariance_matrix()"
   ]
  },
  {
   "cell_type": "code",
   "execution_count": 5,
   "id": "66641d1b",
   "metadata": {},
   "outputs": [
    {
     "data": {
      "text/plain": [
       "(1932, 1932)"
      ]
     },
     "execution_count": 5,
     "metadata": {},
     "output_type": "execute_result"
    }
   ],
   "source": [
    "Sigma.shape"
   ]
  },
  {
   "cell_type": "code",
   "execution_count": 6,
   "id": "aa334a77",
   "metadata": {},
   "outputs": [
    {
     "data": {
      "text/plain": [
       "1932"
      ]
     },
     "execution_count": 6,
     "metadata": {},
     "output_type": "execute_result"
    }
   ],
   "source": [
    "len(uncertainty.reaction_list)+len(uncertainty.species_list)"
   ]
  },
  {
   "cell_type": "code",
   "execution_count": 7,
   "id": "667eca7a",
   "metadata": {},
   "outputs": [
    {
     "data": {
      "image/png": "[encoded data removed]",
      "text/plain": [
       "Reaction(index=1850, reactants=[Species(index=5753, label=\"S\", thermo=NASA(polynomials=[NASAPolynomial(coeffs=[1.53849,0.0474158,-3.21122e-05,9.24246e-09,-5.18256e-13,-2067.57,23.7523], Tmin=(100,'K'), Tmax=(1174.98,'K')), NASAPolynomial(coeffs=[11.7179,0.0207522,-8.27333e-06,1.50415e-09,-1.0319e-13,-5011.23,-29.3457], Tmin=(1174.98,'K'), Tmax=(5000,'K'))], Tmin=(100,'K'), Tmax=(5000,'K'), comment=\"\"\"Thermo group additivity estimation: group(O2s-CsH) + group(O2s-(Cds-Cd)H) + group(Cs-(Cds-Cds)CsHH) + group(Cs-CsOsHH) + group(Cds-CdsCsH) +\n",
       "group(Cds-CdsOsH) + radical(CCOJ) + radical(C=COJ)\"\"\"), molecule=[Molecule(smiles=\"[O]C=CCC[O]\"), Molecule(smiles=\"[O]CC[CH]C=O\")], molecular_weight=(86.0892,'amu'))], products=[Species(index=5761, label=\"S\", thermo=NASA(polynomials=[NASAPolynomial(coeffs=[2.59469,0.0137283,7.44385e-05,-1.12111e-07,4.68003e-11,-25545.6,18.9058], Tmin=(100,'K'), Tmax=(897.65,'K')), NASAPolynomial(coeffs=[12.6897,0.0138371,-1.0951e-06,-5.11675e-11,5.1862e-15,-29174.7,-38.8259], Tmin=(897.65,'K'), Tmax=(5000,'K'))], Tmin=(100,'K'), Tmax=(5000,'K'), comment=\"\"\"Thermo group additivity estimation: group(O2s-CsCs) + group(Cs-(Cds-O2d)CsOsH) + group(Cs-CsCsHH) + group(Cs-CsOsHH) + group(Cds-OdCsH) +\n",
       "ring(Oxetane)\"\"\"), molecule=[Molecule(smiles=\"O=CC1CCO1\")], molecular_weight=(86.0892,'amu'))], kinetics=Chebyshev(coeffs=[[9.395,2.294,-0.03225,0.007699],[-1.196,0.4888,-0.0392,0.0086],[-0.6944,0.276,0.005115,-0.001543],[-0.3795,0.09288,0.02622,-0.004361],[-0.1707,0.005058,0.01967,-0.001904],[-0.06204,-0.01046,0.005606,-0.0001074]], kunits='s^-1', Tmin=(300,'K'), Tmax=(2000,'K'), Pmin=(0.01,'atm'), Pmax=(98.692,'atm')), pairs=[(Species(index=5753, label=\"S\", thermo=NASA(polynomials=[NASAPolynomial(coeffs=[1.53849,0.0474158,-3.21122e-05,9.24246e-09,-5.18256e-13,-2067.57,23.7523], Tmin=(100,'K'), Tmax=(1174.98,'K')), NASAPolynomial(coeffs=[11.7179,0.0207522,-8.27333e-06,1.50415e-09,-1.0319e-13,-5011.23,-29.3457], Tmin=(1174.98,'K'), Tmax=(5000,'K'))], Tmin=(100,'K'), Tmax=(5000,'K'), comment=\"\"\"Thermo group additivity estimation: group(O2s-CsH) + group(O2s-(Cds-Cd)H) + group(Cs-(Cds-Cds)CsHH) + group(Cs-CsOsHH) + group(Cds-CdsCsH) +\n",
       "group(Cds-CdsOsH) + radical(CCOJ) + radical(C=COJ)\"\"\"), molecule=[Molecule(smiles=\"[O]C=CCC[O]\"), Molecule(smiles=\"[O]CC[CH]C=O\")], molecular_weight=(86.0892,'amu')), Species(index=5761, label=\"S\", thermo=NASA(polynomials=[NASAPolynomial(coeffs=[2.59469,0.0137283,7.44385e-05,-1.12111e-07,4.68003e-11,-25545.6,18.9058], Tmin=(100,'K'), Tmax=(897.65,'K')), NASAPolynomial(coeffs=[12.6897,0.0138371,-1.0951e-06,-5.11675e-11,5.1862e-15,-29174.7,-38.8259], Tmin=(897.65,'K'), Tmax=(5000,'K'))], Tmin=(100,'K'), Tmax=(5000,'K'), comment=\"\"\"Thermo group additivity estimation: group(O2s-CsCs) + group(Cs-(Cds-O2d)CsOsH) + group(Cs-CsCsHH) + group(Cs-CsOsHH) + group(Cds-OdCsH) +\n",
       "ring(Oxetane)\"\"\"), molecule=[Molecule(smiles=\"O=CC1CCO1\")], molecular_weight=(86.0892,'amu')))])"
      ]
     },
     "execution_count": 7,
     "metadata": {},
     "output_type": "execute_result"
    }
   ],
   "source": [
    "labels[-1]"
   ]
  },
  {
   "cell_type": "markdown",
   "id": "37f795e7",
   "metadata": {},
   "source": [
    "## Example for Cov(rxn370, rxn370)"
   ]
  },
  {
   "cell_type": "code",
   "execution_count": 8,
   "id": "5221b326",
   "metadata": {},
   "outputs": [
    {
     "name": "stdout",
     "output_type": "stream",
     "text": [
      "H_Abstraction\n",
      "CH3CHO(35) + SC4H9(183) <=> CH2CHO(21) + butane(1)\n",
      "4.2527664246144505\n"
     ]
    }
   ],
   "source": [
    "i = 370\n",
    "print(uncertainty.reaction_list[i].family)\n",
    "print(uncertainty.reaction_list[i])\n",
    "print(uncertainty.kinetic_input_uncertainties[i])\n"
   ]
  },
  {
   "cell_type": "code",
   "execution_count": 9,
   "id": "4e35aabd",
   "metadata": {},
   "outputs": [],
   "source": [
    "entry = uncertainty.reaction_sources_dict[uncertainty.reaction_list[i]]['Rate Rules'][1]"
   ]
  },
  {
   "cell_type": "code",
   "execution_count": 10,
   "id": "ae3532cf",
   "metadata": {},
   "outputs": [],
   "source": [
    "training_rxns = [x for x in entry['training']]\n",
    "weights = [x[2] for x in training_rxns]\n",
    "d = uncertainty.reaction_sources_dict[uncertainty.reaction_list[i]]['Rate Rules'][1]['degeneracy']\n",
    "# d = 1.0\n",
    "k_nonexact = 3.5\n",
    "k_rule = 0.5\n",
    "k_family = 1.0\n",
    "N = len(training_rxns)"
   ]
  },
  {
   "cell_type": "markdown",
   "id": "3ddb621e",
   "metadata": {},
   "source": [
    "### Variance\n",
    "$Var(\\ln k_{370}) = d^2 \\left[ \\sum_{i=1}^N \\omega_i^2 Var(\\ln k_{rule,i}) +  Var(\\ln k_{family}) + \\left[\\log_{10}({N+1})\\right]^2 Var(\\ln k_{nonexact})\\right]$"
   ]
  },
  {
   "cell_type": "code",
   "execution_count": null,
   "id": "2fdc9458",
   "metadata": {},
   "outputs": [],
   "source": [
    "nonexact_scaling = np.log10(N + 1) ** 2.0\n",
    "var_370 = d ** 2.0 * (np.sum(np.float_power(weights, 2.0) * k_rule) + k_family + nonexact_scaling * k_nonexact)"
   ]
  },
  {
   "cell_type": "code",
   "execution_count": null,
   "id": "b9c9ff90",
   "metadata": {},
   "outputs": [],
   "source": [
    "var_370"
   ]
  },
  {
   "cell_type": "code",
   "execution_count": null,
   "id": "5d33f2e6",
   "metadata": {},
   "outputs": [],
   "source": [
    "var_370 / d / d"
   ]
  },
  {
   "cell_type": "markdown",
   "id": "c4a6bbd9",
   "metadata": {},
   "source": [
    "### Std Dev\n",
    "$std(\\ln k_{370}) = d \\left[ \\sum_{i=1}^N \\omega_i \\Delta\\ln k_{rule,i} +  \\Delta\\ln k_{family} + \\left[\\log_{10}({N+1})\\right] \\Delta\\ln k_{nonexact}\\right]$"
   ]
  },
  {
   "cell_type": "code",
   "execution_count": null,
   "id": "d2734fb2",
   "metadata": {},
   "outputs": [],
   "source": [
    "std_370 = d * (np.sum(np.array(weights) * k_rule) + k_family + np.log10(N + 1) * k_nonexact)"
   ]
  },
  {
   "cell_type": "code",
   "execution_count": null,
   "id": "a267b76a",
   "metadata": {},
   "outputs": [],
   "source": [
    "std_370"
   ]
  },
  {
   "cell_type": "code",
   "execution_count": null,
   "id": "f29b23cb",
   "metadata": {},
   "outputs": [],
   "source": [
    "std_370 / d"
   ]
  },
  {
   "cell_type": "code",
   "execution_count": null,
   "id": "1dead6ca",
   "metadata": {},
   "outputs": [],
   "source": [
    "entry"
   ]
  },
  {
   "cell_type": "code",
   "execution_count": null,
   "id": "77902ac3",
   "metadata": {},
   "outputs": [],
   "source": [
    "# Compute uncorrelated uncertainties for all reactions and plot intrinsic vs. extrinsic"
   ]
  },
  {
   "cell_type": "code",
   "execution_count": 11,
   "id": "50b47dd8",
   "metadata": {},
   "outputs": [],
   "source": [
    "k_nonexact = 3.5\n",
    "k_rule = 0.5\n",
    "k_family = 1.0\n",
    "k_train = 0.5\n",
    "k_library = 0.5\n",
    "\n",
    "stddevs = np.zeros(len(uncertainty.reaction_list))\n",
    "variances = np.zeros(len(uncertainty.reaction_list))\n",
    "std_int = np.zeros(len(uncertainty.reaction_list))\n",
    "std_ext = np.zeros(len(uncertainty.reaction_list))\n",
    "var_int = np.zeros(len(uncertainty.reaction_list))\n",
    "var_ext = np.zeros(len(uncertainty.reaction_list))\n",
    "\n",
    "for i in range(0, len(stddevs)):\n",
    "    try:\n",
    "        entry = uncertainty.reaction_sources_dict[uncertainty.reaction_list[i]]['Rate Rules'][1]\n",
    "\n",
    "        training_rxns = [x for x in entry['training']]\n",
    "        weights = [x[2] for x in training_rxns]\n",
    "#         d = uncertainty.reaction_sources_dict[uncertainty.reaction_list[i]]['Rate Rules'][1]['degeneracy']\n",
    "        d = 1.0\n",
    "        N = len(training_rxns)\n",
    "        \n",
    "        nonexact_scaling = np.log10(N + 1) ** 2.0\n",
    "        variances[i] = d ** 2.0 * (np.sum(np.float_power(weights, 2.0) * k_rule) + k_family + nonexact_scaling * k_nonexact)\n",
    "        var_int[i] = np.sum(np.float_power(weights, 2.0) * k_rule)\n",
    "        var_ext[i] = k_family + nonexact_scaling * k_nonexact\n",
    "        \n",
    "        stddevs[i] = d * (np.sum(np.array(weights) * k_rule) + k_family + np.log10(N + 1) * k_nonexact)\n",
    "        std_int[i] = np.sum(np.array(weights) * k_rule)\n",
    "        std_ext[i] = k_family + np.log10(N + 1) * k_nonexact\n",
    "        \n",
    "        # Reaction matches a training reaction exactly\n",
    "        if entry['exact']:\n",
    "            variances[i] = k_train\n",
    "            var_int[i] = k_train\n",
    "            var_ext[i] = 0\n",
    "\n",
    "            stddevs[i] = k_train\n",
    "            std_int[i] = k_train\n",
    "            std_ext[i] = 0\n",
    "        \n",
    "        # Autogenerated trees\n",
    "        if entry['node']:\n",
    "            if entry['node_std_dev'] == 0:\n",
    "                print(i)\n",
    "            variances[i] = entry['node_std_dev']\n",
    "            var_int[i] = entry['node_std_dev']\n",
    "            var_ext[i] = 0\n",
    "\n",
    "            stddevs[i] = entry['node_std_dev']\n",
    "            std_int[i] = entry['node_std_dev']\n",
    "            std_ext[i] = 0\n",
    "\n",
    "\n",
    "        \n",
    "    except KeyError:\n",
    "        variances[i] = k_library\n",
    "        var_int[i] = k_library\n",
    "        var_ext[i] = 0\n",
    "\n",
    "        stddevs[i] = k_library\n",
    "        std_int[i] = k_library\n",
    "        std_ext[i] = 0\n",
    "\n"
   ]
  },
  {
   "cell_type": "code",
   "execution_count": 12,
   "id": "79001607",
   "metadata": {},
   "outputs": [
    {
     "data": {
      "text/plain": [
       "{'Library': 188}"
      ]
     },
     "execution_count": 12,
     "metadata": {},
     "output_type": "execute_result"
    }
   ],
   "source": [
    "uncertainty.reaction_sources_dict[uncertainty.reaction_list[188]]"
   ]
  },
  {
   "cell_type": "code",
   "execution_count": 13,
   "id": "2f4d8254",
   "metadata": {},
   "outputs": [
    {
     "data": {
      "text/plain": [
       "0.0"
      ]
     },
     "execution_count": 13,
     "metadata": {},
     "output_type": "execute_result"
    }
   ],
   "source": [
    "std_ext[188]"
   ]
  },
  {
   "cell_type": "code",
   "execution_count": 14,
   "id": "96241cab",
   "metadata": {},
   "outputs": [
    {
     "data": {
      "text/plain": [
       "Text(0, 0.5, 'Uncertainty (variance)')"
      ]
     },
     "execution_count": 14,
     "metadata": {},
     "output_type": "execute_result"
    },
    {
     "data": {
      "image/png": "[encoded data removed]",
      "text/plain": [
       "<Figure size 864x432 with 1 Axes>"
      ]
     },
     "metadata": {
      "needs_background": "light"
     },
     "output_type": "display_data"
    }
   ],
   "source": [
    "plt.figure(figsize=(12, 6))\n",
    "ax = plt.gca()\n",
    "\n",
    "ax.bar(np.arange(0, len(uncertainty.reaction_list)), variances, align='edge', width=1.0)\n",
    "\n",
    "plt.title('Uncertainty Composition')\n",
    "plt.legend(['Intrinsic Error', 'Extrinsic Error'])\n",
    "plt.xlabel('Reaction Number')\n",
    "plt.ylabel('Uncertainty (variance)')"
   ]
  },
  {
   "cell_type": "code",
   "execution_count": 15,
   "id": "968a7247",
   "metadata": {},
   "outputs": [],
   "source": [
    "a=np.arange(0, len(uncertainty.reaction_list))"
   ]
  },
  {
   "cell_type": "code",
   "execution_count": 16,
   "id": "4a4a1b16",
   "metadata": {},
   "outputs": [
    {
     "data": {
      "text/plain": [
       "210"
      ]
     },
     "execution_count": 16,
     "metadata": {},
     "output_type": "execute_result"
    }
   ],
   "source": [
    "a[210]"
   ]
  },
  {
   "cell_type": "code",
   "execution_count": 17,
   "id": "b1c5a05e",
   "metadata": {},
   "outputs": [
    {
     "data": {
      "text/plain": [
       "0.5"
      ]
     },
     "execution_count": 17,
     "metadata": {},
     "output_type": "execute_result"
    }
   ],
   "source": [
    "variances[200]"
   ]
  },
  {
   "cell_type": "code",
   "execution_count": 18,
   "id": "b7f1ff27",
   "metadata": {},
   "outputs": [
    {
     "data": {
      "text/plain": [
       "Text(0, 0.5, 'Uncertainty (variance)')"
      ]
     },
     "execution_count": 18,
     "metadata": {},
     "output_type": "execute_result"
    },
    {
     "data": {
      "image/png": "[encoded data removed]",
      "text/plain": [
       "<Figure size 864x432 with 1 Axes>"
      ]
     },
     "metadata": {
      "needs_background": "light"
     },
     "output_type": "display_data"
    }
   ],
   "source": [
    "plt.figure(figsize=(12, 6))\n",
    "ax = plt.gca()\n",
    "\n",
    "ax.bar(np.arange(0, len(uncertainty.reaction_list)), var_int, width=1.0)\n",
    "ax.bar(np.arange(0, len(uncertainty.reaction_list)), var_ext, bottom=var_int, width=1.0)\n",
    "\n",
    "plt.title('Uncertainty Composition')\n",
    "plt.legend(['Intrinsic Error', 'Extrinsic Error'])\n",
    "plt.xlabel('Reaction Number')\n",
    "plt.ylabel('Uncertainty (variance)')"
   ]
  },
  {
   "cell_type": "code",
   "execution_count": 19,
   "id": "f6fda4d4",
   "metadata": {},
   "outputs": [
    {
     "data": {
      "text/plain": [
       "Text(0, 0.5, 'Uncertainty (std dev)')"
      ]
     },
     "execution_count": 19,
     "metadata": {},
     "output_type": "execute_result"
    },
    {
     "data": {
      "image/png": "[encoded data removed]",
      "text/plain": [
       "<Figure size 864x432 with 1 Axes>"
      ]
     },
     "metadata": {
      "needs_background": "light"
     },
     "output_type": "display_data"
    }
   ],
   "source": [
    "\n",
    "plt.figure(figsize=(12, 6))\n",
    "ax = plt.gca()\n",
    "\n",
    "ax.bar(np.arange(0, len(uncertainty.reaction_list)), std_int, width=1.0)\n",
    "ax.bar(np.arange(0, len(uncertainty.reaction_list)), std_ext, bottom=std_int, width=1.0)\n",
    "\n",
    "plt.title('Uncertainty Composition')\n",
    "plt.legend(['Intrinsic Error', 'Extrinsic Error'])\n",
    "plt.xlabel('Reaction Number')\n",
    "plt.ylabel('Uncertainty (std dev)')"
   ]
  },
  {
   "cell_type": "code",
   "execution_count": null,
   "id": "3397af55",
   "metadata": {},
   "outputs": [],
   "source": [
    "stddevs[valid_indices]"
   ]
  },
  {
   "cell_type": "code",
   "execution_count": null,
   "id": "38e4bada",
   "metadata": {},
   "outputs": [],
   "source": [
    "# plot bar graph of uncertainties"
   ]
  },
  {
   "cell_type": "code",
   "execution_count": null,
   "id": "08ccfa3b",
   "metadata": {},
   "outputs": [],
   "source": []
  },
  {
   "cell_type": "code",
   "execution_count": null,
   "id": "22bd0050",
   "metadata": {},
   "outputs": [],
   "source": [
    "stddevs"
   ]
  },
  {
   "cell_type": "code",
   "execution_count": null,
   "id": "70030f2a",
   "metadata": {},
   "outputs": [],
   "source": [
    "str(uncertainty.reaction_list[0])"
   ]
  },
  {
   "cell_type": "code",
   "execution_count": null,
   "id": "43d385f9",
   "metadata": {},
   "outputs": [],
   "source": [
    "reaction_order = np.arange(0, len(uncertainty.reaction_list))"
   ]
  },
  {
   "cell_type": "code",
   "execution_count": null,
   "id": "a15f0ef7",
   "metadata": {},
   "outputs": [],
   "source": [
    "# List top 10 most uncertain reactions:\n",
    "sorted_indices = [x for _,x in sorted(zip(variances,reaction_order))]"
   ]
  },
  {
   "cell_type": "code",
   "execution_count": null,
   "id": "a64a57f5",
   "metadata": {},
   "outputs": [],
   "source": [
    "# Top ten are the same because the autogenerated tree node dominate this list"
   ]
  },
  {
   "cell_type": "code",
   "execution_count": null,
   "id": "852dc2c7",
   "metadata": {},
   "outputs": [],
   "source": [
    "for i in range(1, 11):\n",
    "    print(uncertainty.reaction_list[sorted_indices[-i]])\n",
    "    print(uncertainty.reaction_sources_dict[uncertainty.reaction_list[sorted_indices[-i]]])\n",
    "    print(uncertainty.reaction_sources_dict[uncertainty.reaction_list[sorted_indices[-i]]]['Rate Rules'][1]['node'])\n",
    "    print()\n",
    "    print()\n",
    "                                    "
   ]
  },
  {
   "cell_type": "code",
   "execution_count": null,
   "id": "e28a8466",
   "metadata": {},
   "outputs": [],
   "source": [
    "uncertainty.reaction_sources_dict[uncertainty.reaction_list[sorted_indices[-1]]]"
   ]
  },
  {
   "cell_type": "code",
   "execution_count": null,
   "id": "4e0a6b24",
   "metadata": {},
   "outputs": [],
   "source": [
    "uncertainty.kinetic_input_uncertainties[sorted_indices[0]]"
   ]
  },
  {
   "cell_type": "code",
   "execution_count": null,
   "id": "28b6243b",
   "metadata": {},
   "outputs": [],
   "source": []
  }
 ],
 "metadata": {
  "kernelspec": {
   "display_name": "Python 3 (ipykernel)",
   "language": "python",
   "name": "python3"
  },
  "language_info": {
   "codemirror_mode": {
    "name": "ipython",
    "version": 3
   },
   "file_extension": ".py",
   "mimetype": "text/x-python",
   "name": "python",
   "nbconvert_exporter": "python",
   "pygments_lexer": "ipython3",
   "version": "3.7.12"
  }
 },
 "nbformat": 4,
 "nbformat_minor": 5
}
