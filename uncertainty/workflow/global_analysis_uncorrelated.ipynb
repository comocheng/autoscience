{
 "cells": [
  {
   "cell_type": "code",
   "execution_count": 1,
   "id": "7b08f578",
   "metadata": {},
   "outputs": [],
   "source": [
    "# notebook with functions for analyzing the ignition delay results"
   ]
  },
  {
   "cell_type": "code",
   "execution_count": 50,
   "id": "e4c15da8",
   "metadata": {},
   "outputs": [],
   "source": [
    "import matplotlib.pyplot as plt\n",
    "import numpy as np\n",
    "import pandas as pd\n",
    "import pickle\n",
    "\n",
    "import os\n",
    "\n",
    "\n",
    "import cantera as ct\n",
    "import cantera.ck2cti\n",
    "import rmgpy.chemkin\n",
    "%matplotlib inline"
   ]
  },
  {
   "cell_type": "code",
   "execution_count": 3,
   "id": "17c3e958",
   "metadata": {},
   "outputs": [],
   "source": [
    "# load the base model so we know which reactions are which\n",
    "basedir = '/work/westgroup/harris.se/autoscience/autoscience/butane'\n",
    "base_chemkin = os.path.join(basedir, 'chem_annotated.inp')\n",
    "dictionary = os.path.join(basedir, 'species_dictionary.txt')\n",
    "transport = os.path.join(basedir, 'tran.dat')\n",
    "species_list, reaction_list = rmgpy.chemkin.load_chemkin_file(base_chemkin, dictionary_path=dictionary, transport_path=transport)\n"
   ]
  },
  {
   "cell_type": "code",
   "execution_count": 51,
   "id": "025bf592",
   "metadata": {},
   "outputs": [],
   "source": [
    "covariance_file = '/work/westgroup/harris.se/autoscience/autoscience/uncertainty/butane_covariance.pickle'\n",
    "with open(covariance_file, 'rb') as handle:\n",
    "    Sigma_k = pickle.load(handle)"
   ]
  },
  {
   "cell_type": "code",
   "execution_count": 4,
   "id": "673f474c",
   "metadata": {},
   "outputs": [],
   "source": [
    "# recreate the orders of reactions\n",
    "n_ign_delays = 5000\n",
    "np.random.seed(400)\n",
    "n_to_perturb = 30\n",
    "\n",
    "orders = np.zeros((n_ign_delays, len(reaction_list)))\n",
    "for i in range(0, n_ign_delays):\n",
    "    orders[i, :] = np.random.permutation(len(reaction_list))\n",
    "orders = orders.astype(int)"
   ]
  },
  {
   "cell_type": "code",
   "execution_count": null,
   "id": "a7d02492",
   "metadata": {},
   "outputs": [],
   "source": []
  },
  {
   "cell_type": "code",
   "execution_count": 5,
   "id": "1be444eb",
   "metadata": {},
   "outputs": [],
   "source": [
    "# Pick out the runs with the largest deviations from the base run"
   ]
  },
  {
   "cell_type": "code",
   "execution_count": 6,
   "id": "ff906ed7",
   "metadata": {},
   "outputs": [],
   "source": [
    "logfile = '/scratch/harris.se/autoscience/not_correlated/ignition_delays/ignition_delays_007.csv'\n",
    "\n",
    "df = pd.read_csv(logfile, skiprows=1, names=['model', 'delay'])\n",
    "# df = pd.read_csv(logfile, header=None, names=['model', 'conditions', 'delay'])"
   ]
  },
  {
   "cell_type": "code",
   "execution_count": 7,
   "id": "d9e69cdc",
   "metadata": {},
   "outputs": [
    {
     "data": {
      "text/plain": [
       "0.1103356599273211"
      ]
     },
     "execution_count": 7,
     "metadata": {},
     "output_type": "execute_result"
    }
   ],
   "source": [
    "np.min(df['delay'].values[0:1000])"
   ]
  },
  {
   "cell_type": "code",
   "execution_count": 8,
   "id": "178020a2",
   "metadata": {},
   "outputs": [
    {
     "data": {
      "text/plain": [
       "0.1872484657234126"
      ]
     },
     "execution_count": 8,
     "metadata": {},
     "output_type": "execute_result"
    }
   ],
   "source": [
    "np.max(df['delay'].values[0:1000])"
   ]
  },
  {
   "cell_type": "code",
   "execution_count": 9,
   "id": "c7f1dea0",
   "metadata": {},
   "outputs": [
    {
     "data": {
      "text/plain": [
       "0.14864684750139726"
      ]
     },
     "execution_count": 9,
     "metadata": {},
     "output_type": "execute_result"
    }
   ],
   "source": [
    "np.mean(df['delay'].values[0:1000])"
   ]
  },
  {
   "cell_type": "code",
   "execution_count": 10,
   "id": "d12b1643",
   "metadata": {},
   "outputs": [],
   "source": [
    "base_delay = 0.14857534592261107"
   ]
  },
  {
   "cell_type": "code",
   "execution_count": 11,
   "id": "9e97bab4",
   "metadata": {},
   "outputs": [],
   "source": [
    "# get the top 50 runs\n",
    "delta = np.abs(df['delay'].values[0:1000] - base_delay)\n",
    "\n"
   ]
  },
  {
   "cell_type": "code",
   "execution_count": 12,
   "id": "f3673ce4",
   "metadata": {},
   "outputs": [],
   "source": [
    "best_runs = [x for _, x in sorted(zip(delta, np.arange(0, 1000)))][::-1]"
   ]
  },
  {
   "cell_type": "code",
   "execution_count": 13,
   "id": "482f613f",
   "metadata": {},
   "outputs": [
    {
     "data": {
      "text/plain": [
       "994"
      ]
     },
     "execution_count": 13,
     "metadata": {},
     "output_type": "execute_result"
    }
   ],
   "source": [
    "best_runs[0]"
   ]
  },
  {
   "cell_type": "code",
   "execution_count": 14,
   "id": "d54a584f",
   "metadata": {},
   "outputs": [
    {
     "name": "stdout",
     "output_type": "stream",
     "text": [
      "0.1872484657234126\n",
      "0.1103356599273211\n",
      "0.1853060299279509\n",
      "0.1120423188982754\n",
      "0.1127217201526698\n",
      "0.1134507960358912\n",
      "0.113519343177388\n",
      "0.1138817268835155\n",
      "0.1144655439986231\n",
      "0.1821034907086406\n"
     ]
    }
   ],
   "source": [
    "for i in range(0, 10):\n",
    "    print(df['delay'].values[0:1000][best_runs[i]])"
   ]
  },
  {
   "cell_type": "code",
   "execution_count": 23,
   "id": "d83ac2b4",
   "metadata": {},
   "outputs": [
    {
     "data": {
      "text/plain": [
       "994"
      ]
     },
     "execution_count": 23,
     "metadata": {},
     "output_type": "execute_result"
    }
   ],
   "source": [
    "best_runs[0]"
   ]
  },
  {
   "cell_type": "code",
   "execution_count": 27,
   "id": "5daa074f",
   "metadata": {},
   "outputs": [],
   "source": [
    "color_matrix = np.zeros((50, len(reaction_list)))"
   ]
  },
  {
   "cell_type": "code",
   "execution_count": null,
   "id": "d867da66",
   "metadata": {},
   "outputs": [],
   "source": []
  },
  {
   "cell_type": "code",
   "execution_count": 29,
   "id": "2842853c",
   "metadata": {},
   "outputs": [],
   "source": [
    "# mark the reactions that changed\n",
    "for k, run_index in enumerate(best_runs[:50]):\n",
    "\n",
    "    perturbed_reactions = 0\n",
    "    i = 0\n",
    "    while perturbed_reactions < 50:\n",
    "        reaction_index = orders[run_index, i]\n",
    "        i += 1\n",
    "        if type(reaction_list[reaction_index].kinetics) == rmgpy.kinetics.arrhenius.MultiArrhenius:\n",
    "            continue\n",
    "        if type(reaction_list[reaction_index].kinetics) == rmgpy.kinetics.falloff.ThirdBody:\n",
    "            continue\n",
    "        if type(reaction_list[reaction_index].kinetics) == rmgpy.kinetics.falloff.Troe:\n",
    "            continue\n",
    "        if type(reaction_list[reaction_index].kinetics) == rmgpy.kinetics.arrhenius.PDepArrhenius:\n",
    "            continue\n",
    "        if type(reaction_list[reaction_index].kinetics) == rmgpy.kinetics.arrhenius.MultiPDepArrhenius:\n",
    "            continue\n",
    "        if type(reaction_list[reaction_index].kinetics) == rmgpy.kinetics.falloff.Lindemann:\n",
    "            continue\n",
    "        if type(reaction_list[reaction_index].kinetics) == rmgpy.kinetics.chebyshev.Chebyshev:\n",
    "            continue\n",
    "\n",
    "        color_matrix[k, reaction_index] = 1.0\n",
    "        perturbed_reactions += 1\n",
    "\n",
    "            \n"
   ]
  },
  {
   "cell_type": "code",
   "execution_count": 30,
   "id": "c414158a",
   "metadata": {},
   "outputs": [
    {
     "data": {
      "text/plain": [
       "<matplotlib.image.AxesImage at 0x2b2d65c70910>"
      ]
     },
     "execution_count": 30,
     "metadata": {},
     "output_type": "execute_result"
    },
    {
     "data": {
      "image/png": "[encoded data removed]",
      "text/plain": [
       "<Figure size 432x288 with 1 Axes>"
      ]
     },
     "metadata": {
      "needs_background": "light"
     },
     "output_type": "display_data"
    }
   ],
   "source": [
    "plt.imshow(color_matrix)"
   ]
  },
  {
   "cell_type": "code",
   "execution_count": 31,
   "id": "23fe3ac8",
   "metadata": {},
   "outputs": [],
   "source": [
    "sums =np.sum(color_matrix, 0)"
   ]
  },
  {
   "cell_type": "code",
   "execution_count": 32,
   "id": "3f200f97",
   "metadata": {},
   "outputs": [],
   "source": [
    "top_rxns = [x for _, x in sorted(zip(sums, np.arange(0, len(reaction_list))))][::-1]"
   ]
  },
  {
   "cell_type": "code",
   "execution_count": 33,
   "id": "92cd697c",
   "metadata": {},
   "outputs": [
    {
     "data": {
      "text/plain": [
       "288"
      ]
     },
     "execution_count": 33,
     "metadata": {},
     "output_type": "execute_result"
    }
   ],
   "source": [
    "top_rxns[0]"
   ]
  },
  {
   "cell_type": "code",
   "execution_count": null,
   "id": "77767cbd",
   "metadata": {},
   "outputs": [],
   "source": []
  },
  {
   "cell_type": "code",
   "execution_count": 53,
   "id": "33a3e300",
   "metadata": {},
   "outputs": [
    {
     "name": "stdout",
     "output_type": "stream",
     "text": [
      "Reactants:\n",
      "\t CCO[O]\n",
      "\t C[CH]CC\n",
      "Products:\n",
      "\t CCOO\n",
      "\t CC=CC\n",
      "4.24952568387371\n"
     ]
    }
   ],
   "source": [
    "reaction_index = 1688\n",
    "print('Reactants:')\n",
    "for reactant in reaction_list[reaction_index].reactants:\n",
    "    print('\\t', reactant.smiles)\n",
    "\n",
    "print('Products:')\n",
    "for product in reaction_list[reaction_index].products:\n",
    "    print('\\t', product.smiles)\n",
    "\n",
    "print(Sigma_k[reaction_index][reaction_index])"
   ]
  },
  {
   "cell_type": "code",
   "execution_count": 58,
   "id": "fa65ba87",
   "metadata": {},
   "outputs": [
    {
     "name": "stdout",
     "output_type": "stream",
     "text": [
      "idx \t delta \t sum \t family \t reaction\n",
      "288 \t 0.5 \t 20.0 \t CurranPentane \t OH(15) + butane(1) <=> H2O(8) + PC4H9(182)\n",
      "247 \t 0.5 \t 13.0 \t CurranPentane \t OH(15) + butane(1) <=> H2O(8) + SC4H9(183)\n",
      "279 \t 0.5 \t 11.0 \t CurranPentane \t SC4H9O2(186) <=> HO2(16) + C4H8-2(189)\n",
      "281 \t 0.5 \t 8.0 \t CurranPentane \t O2(2) + C4H8OOH2-4(223) <=> C4H8OOH2-4O2(229)\n",
      "1702 \t 0.5 \t 6.0 \t CurranPentane \t C4H8-1(188) + SC4H9O2(186) <=> C4H71-3(190) + SC4H9O2H(187)\n",
      "1688 \t 4.2 \t 6.0 \t Disproportionation \t C2H5O2(47) + SC4H9(183) <=> C2H5O2H(48) + C4H8-2(189)\n",
      "1663 \t 1.8 \t 6.0 \t H_Abstraction \t C2H5O2H(48) + C4H71-1,3OOH(238) <=> C2H5O2(47) + CC(CCOO)OO(787)\n",
      "1592 \t 1.8 \t 6.0 \t Disproportionation \t OCHO(38) + SC4H9(183) <=> HOCHO(40) + C4H8-1(188)\n",
      "1529 \t 10.7 \t 6.0 \t Disproportionation \t CH3O(31) + C2H5O(49) <=> CH3OH(30) + CH3CHO(35)\n",
      "1398 \t 1.8 \t 6.0 \t Disproportionation \t [CH2]C=C[CH2](2534) + C4H71-3(190) <=> C4H6(194) + C4H71-3(190)\n",
      "877 \t 3.2 \t 6.0 \t Disproportionation \t C2H5(33) + C4H8OOH1-3O2(225) <=> C2H4(11) + CC(CCOO)OO(787)\n",
      "754 \t 3.2 \t 6.0 \t H_Abstraction \t CH2(23) + C4H8-2(189) <=> CH3(18) + C4H71-3(190)\n",
      "674 \t 1.8 \t 6.0 \t Disproportionation \t [CH2]C[CH]C(748) + SC4H9(183) <=> C4H8-1(188) + SC4H9(183)\n",
      "448 \t 0.5 \t 6.0 \t CurranPentane \t IC3H7O2(97) <=> HO2(16) + C3H6(12)\n",
      "1784 \t 3.6 \t 5.0 \t H_Abstraction \t C3KET21(73) + C4H8OOH2-4(223) <=> [CH2]C(=O)COO(911) + SC4H9O2H(187)\n",
      "1759 \t 3.2 \t 5.0 \t Disproportionation \t C2H3(22) + SC4H9O2(186) <=> C2H2(25) + SC4H9O2H(187)\n",
      "1638 \t 0.5 \t 5.0 \t CurranPentane \t CH2O(9) + C2H5O2(47) <=> HCO(19) + C2H5O2H(48)\n",
      "1526 \t 2.0 \t 5.0 \t Disproportionation \t CH3O(31) + PC4H9(182) <=> CH3OH(30) + C4H8-1(188)\n",
      "1401 \t 2.0 \t 5.0 \t Disproportionation \t NC3H7(92) + [CH2]C=C[CH2](2534) <=> C3H6(12) + C4H71-4(191)\n",
      "1350 \t 2.8 \t 5.0 \t Disproportionation \t CH3COCH2O2(72) + PC4H9(182) <=> C3KET21(73) + C4H8-1(188)\n",
      "1301 \t 1.0 \t 5.0 \t H_Abstraction \t HO2(16) + C3KET21(73) <=> H2O2(17) + [CH2]C(=O)COO(911)\n",
      "1214 \t 6.3 \t 5.0 \t Disproportionation \t CH2(23) + C3H5O(129) <=> CH3(18) + C2H3CHO(74)\n",
      "1191 \t 1.8 \t 5.0 \t Disproportionation \t C4H71-1(192) + C4H71-3(190) <=> C4H6(194) + C4H8-1(188)\n",
      "1170 \t 3.9 \t 5.0 \t Disproportionation \t C4H71-1(192) + CC(CC[O])OO(777) <=> C4H8-1(188) + NC4KET13(252)\n",
      "1108 \t 10.7 \t 5.0 \t Disproportionation \t CH3O2(45) + [CH2]C[O](703) <=> CH3O2H(46) + CH2CHO(21)\n",
      "1094 \t 0.5 \t 5.0 \t Klippenstein_Glarborg2016 \t CH2O(9) + CH3O2(45) <=> H(14) + CO(6) + CH3O2H(46)\n",
      "984 \t 9.2 \t 5.0 \t Disproportionation \t CH2CHO(21) + [CH2]C[CH]C(748) <=> CH2CO(24) + PC4H9(182)\n",
      "894 \t 2.0 \t 5.0 \t H_Abstraction \t C3H6(12) + C4H72-2,4OOH(244) <=> C3H5-A(94) + CC(CCOO)OO(787)\n",
      "851 \t 2.8 \t 5.0 \t Disproportionation \t PC4H9(182) + C4H8OOH1-3O2(225) <=> C4H8-1(188) + CC(CCOO)OO(787)\n",
      "826 \t 1.0 \t 5.0 \t H_Abstraction \t CH2CHO(21) + CC(CCOO)OO(787) <=> CH3CHO(35) + C4H8OOH1-3O2(225)\n",
      "769 \t 1.0 \t 5.0 \t H_Abstraction \t C4H71-3(190) + C4H8-1(188) <=> C4H71-3(190) + C4H8-2(189)\n",
      "758 \t 2.8 \t 5.0 \t Disproportionation \t [CH2]C[CH]C(748) + SC4H9(183) <=> C4H71-3(190) + butane(1)\n",
      "706 \t 0.5 \t 5.0 \t CurranPentane \t H(14) + C4H71-3(190) <=> C4H8-2(189)\n",
      "631 \t 4.6 \t 5.0 \t Disproportionation \t HCO(19) + [CH2]C[O](703) <=> CH2O(9) + CH2CHO(21)\n",
      "630 \t 10.7 \t 5.0 \t Disproportionation \t OH(15) + [CH2]C[O](703) <=> H2O(8) + CH2CHO(21)\n",
      "423 \t 3.6 \t 5.0 \t Disproportionation \t HCO(19) + CH3CO(20) <=> CH2O(9) + CH2CO(24)\n",
      "326 \t 0.5 \t 5.0 \t CurranPentane \t C4H8OOH1-3O2(225) <=> C4H71-1,3OOH(238)\n",
      "320 \t 1.8 \t 5.0 \t Disproportionation \t SC4H9(183) + SC4H9(183) <=> C4H8-1(188) + butane(1)\n",
      "277 \t 0.5 \t 5.0 \t CurranPentane \t H(14) + C4H8-2(189) <=> SC4H9(183)\n",
      "243 \t 0.5 \t 5.0 \t CurranPentane \t O2(2) + butane(1) <=> HO2(16) + SC4H9(183)\n",
      "188 \t 0.5 \t 5.0 \t FFCM1(-) \t H2(13) + C2H(4) <=> H(14) + C2H2(25)\n",
      "107 \t 0.5 \t 5.0 \t FFCM1(-) \t O(5) + CH3CO(20) <=> CO2(7) + CH3(18)\n",
      "49 \t 0.5 \t 5.0 \t FFCM1(-) \t O2(2) + C2H3(22) <=> HO2(16) + C2H2(25)\n",
      "1787 \t 2.0 \t 4.0 \t H_Abstraction \t C3H6(12) + C4H8OOH2-4(223) <=> C3H5-A(94) + SC4H9O2H(187)\n",
      "1771 \t 1.8 \t 4.0 \t Disproportionation \t IC3H7(93) + C4H8OOH2-4(223) <=> C3H6(12) + SC4H9O2H(187)\n",
      "1729 \t 1.8 \t 4.0 \t Disproportionation \t C4H71-3(190) + SC4H9O2(186) <=> C4H6(194) + SC4H9O2H(187)\n",
      "1701 \t 0.5 \t 4.0 \t CurranPentane \t SC4H9O2(186) + butane(1) <=> SC4H9(183) + SC4H9O2H(187)\n",
      "1700 \t 0.5 \t 4.0 \t CurranPentane \t SC4H9O2(186) + butane(1) <=> PC4H9(182) + SC4H9O2H(187)\n",
      "1684 \t 10.7 \t 4.0 \t Disproportionation \t OCHO(38) + C2H5O2(47) <=> CO2(7) + C2H5O2H(48)\n",
      "1683 \t 1.8 \t 4.0 \t CO_Disproportionation \t HCO(19) + C2H5O2(47) <=> CO(6) + C2H5O2H(48)\n"
     ]
    }
   ],
   "source": [
    "print('idx', '\\t', 'delta', '\\t', 'sum', '\\t', 'family', '\\t', 'reaction')\n",
    "for i in range(0, 50):\n",
    "#     print(sums[top_rxns[i]])\n",
    "    delta = np.round(Sigma_k[top_rxns[i]][top_rxns[i]],1)\n",
    "    print(top_rxns[i], '\\t', delta, '\\t', sums[top_rxns[i]], '\\t', reaction_list[top_rxns[i]].family, '\\t', reaction_list[top_rxns[i]])"
   ]
  },
  {
   "cell_type": "code",
   "execution_count": 36,
   "id": "bca0e50a",
   "metadata": {},
   "outputs": [
    {
     "data": {
      "text/plain": [
       "20.0"
      ]
     },
     "execution_count": 36,
     "metadata": {},
     "output_type": "execute_result"
    }
   ],
   "source": [
    "sums[288]"
   ]
  },
  {
   "cell_type": "code",
   "execution_count": null,
   "id": "5b35306b",
   "metadata": {},
   "outputs": [],
   "source": []
  }
 ],
 "metadata": {
  "kernelspec": {
   "display_name": "Python 3 (ipykernel)",
   "language": "python",
   "name": "python3"
  },
  "language_info": {
   "codemirror_mode": {
    "name": "ipython",
    "version": 3
   },
   "file_extension": ".py",
   "mimetype": "text/x-python",
   "name": "python",
   "nbconvert_exporter": "python",
   "pygments_lexer": "ipython3",
   "version": "3.7.12"
  }
 },
 "nbformat": 4,
 "nbformat_minor": 5
}
