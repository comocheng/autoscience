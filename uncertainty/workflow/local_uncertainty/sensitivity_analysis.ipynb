{
 "cells": [
  {
   "cell_type": "code",
   "execution_count": 1,
   "id": "bea55ed0",
   "metadata": {},
   "outputs": [],
   "source": [
    "import pandas as pd\n",
    "import numpy as np\n",
    "import os\n",
    "import glob\n",
    "import rmgpy.chemkin"
   ]
  },
  {
   "cell_type": "code",
   "execution_count": 2,
   "id": "d29c2521",
   "metadata": {},
   "outputs": [],
   "source": [
    "results_dir = '/scratch/harris.se/autoscience/local_sensitivity/results'\n",
    "\n"
   ]
  },
  {
   "cell_type": "code",
   "execution_count": 3,
   "id": "9c67abd3",
   "metadata": {},
   "outputs": [],
   "source": [
    "# load the model to get reaction names\n",
    "basedir = '/work/westgroup/harris.se/autoscience/autoscience/butane/rmg_model'\n",
    "base_chemkin = os.path.join(basedir, 'chem_annotated.inp')\n",
    "dictionary = os.path.join(basedir, 'species_dictionary.txt')\n",
    "transport = os.path.join(basedir, 'tran.dat')\n",
    "species_list, reaction_list = rmgpy.chemkin.load_chemkin_file(base_chemkin, dictionary_path=dictionary, transport_path=transport, use_chemkin_names=True)\n"
   ]
  },
  {
   "cell_type": "code",
   "execution_count": 4,
   "id": "b725b6bc",
   "metadata": {},
   "outputs": [
    {
     "name": "stdout",
     "output_type": "stream",
     "text": [
      "[0.14848026 0.14857535 0.14857593 ... 0.14857535 0.14857535 0.14857535]\n"
     ]
    }
   ],
   "source": [
    "# compile results into single csv\n",
    "results_files = glob.glob(os.path.join(results_dir, 'delay_*.txt'))\n",
    "base_delay = 0.14857535\n",
    "delays = np.ones(2000) * base_delay\n",
    "for result_file in results_files:\n",
    "    index = int(result_file[-8:-4])\n",
    "    with open(result_file, 'r') as f:\n",
    "        lines = f.readlines()\n",
    "        if lines:\n",
    "            delays[index] = float(lines[0].strip())\n",
    "\n",
    "print(delays)"
   ]
  },
  {
   "cell_type": "code",
   "execution_count": 5,
   "id": "85969b4e",
   "metadata": {},
   "outputs": [],
   "source": [
    "diffs = np.abs(delays - base_delay)\n",
    "order = np.arange(0, 2000)"
   ]
  },
  {
   "cell_type": "code",
   "execution_count": 6,
   "id": "d5f5e386",
   "metadata": {},
   "outputs": [],
   "source": [
    "# sort them\n",
    "most_sensitive = [x for _, x in sorted(zip(diffs, order))][::-1]"
   ]
  },
  {
   "cell_type": "code",
   "execution_count": 7,
   "id": "31561686",
   "metadata": {},
   "outputs": [
    {
     "name": "stdout",
     "output_type": "stream",
     "text": [
      "288 \t OH(15) + butane(1) <=> H2O(8) + PC4H9(182) 0.019524574850561804 \t CurranPentane\n",
      "247 \t OH(15) + butane(1) <=> H2O(8) + SC4H9(183) 0.018156952575075186 \t CurranPentane\n",
      "279 \t S(186) <=> HO2(16) + C4H8(189) 0.009628634705537958 \t CurranPentane\n",
      "323 \t O2(2) + S(219) <=> S(225) 0.009549356651322227 \t CurranPentane\n",
      "281 \t O2(2) + S(223) <=> S(229) 0.009093028738618475 \t CurranPentane\n",
      "316 \t S(184) <=> HO2(16) + C4H8(188) 0.008057546174715186 \t CurranPentane\n",
      "249 \t HO2(16) + butane(1) <=> H2O2(17) + SC4H9(183) 0.006978453491937736 \t CurranPentane\n",
      "449 \t S(219) <=> OH(15) + C4H8O(214) 0.006933879675263155 \t CurranPentane\n",
      "317 \t S(186) <=> HO2(16) + C4H8(188) 0.006169593286501712 \t CurranPentane\n",
      "326 \t S(225) <=> S(238) 0.0051394326065439255 \t CurranPentane\n",
      "290 \t HO2(16) + butane(1) <=> H2O2(17) + PC4H9(182) 0.00402852884394872 \t CurranPentane\n",
      "282 \t S(229) <=> S(244) 0.0018886313667140775 \t CurranPentane\n",
      "1701 \t S(186) + butane(1) <=> SC4H9(183) + S(187) 0.0011416674122504133 \t CurranPentane\n",
      "354 \t HO2(16) + CH3CHO(35) <=> H2O2(17) + CH3CO(20) 0.0009299950259731293 \t FFCM1(-)\n",
      "450 \t S(223) <=> OH(15) + C4H8O(214) 0.0008803809255153727 \t CurranPentane\n",
      "306 \t S(219) => OH(15) + CH2O(9) + C3H6(12) 0.0008390801778263013 \t CurranPentane\n",
      "305 \t S(184) <=> S(219) 0.0007040448127368093 \t CurranPentane\n",
      "129 \t HO2(16) + CH2O(9) <=> H2O2(17) + HCO(19) 0.0006247576356008255 \t FFCM1(-)\n",
      "127 \t OH(15) + CH2O(9) <=> H2O(8) + HCO(19) 0.000574202886094749 \t FFCM1(-)\n",
      "1700 \t S(186) + butane(1) <=> PC4H9(182) + S(187) 0.0005437103501292895 \t CurranPentane\n",
      "363 \t S(223) => OH(15) + C2H4(11) + CH3CHO(35) 0.000486737925970232 \t CurranPentane\n",
      "1262 \t HO2(16) + C4H7(190) <=> OH(15) + C4H7O(202) 0.0004488671577591863 \t CurranPentane\n",
      "203 \t O2(2) + C2H5(33) <=> HO2(16) + C2H4(11) 0.0004219861723929186 \t FFCM1(-)\n",
      "303 \t O2(2) + PC4H9(182) <=> S(184) 0.00040500104807969506 \t CurranPentane\n",
      "1646 \t C2H5O2(47) + butane(1) <=> C2H6O2(48) + SC4H9(183) 0.00037168032450030086 \t CurranPentane\n",
      "1085 \t CH3O2(45) + butane(1) <=> CH3O2H(46) + SC4H9(183) 0.0003613639552977055 \t CurranPentane\n",
      "784 \t O2(2) + C4H7(190) <=> HO2(16) + C4H6(194) 0.0003379612097882956 \t CurranPentane\n",
      "287 \t H(14) + butane(1) <=> H2(13) + PC4H9(182) 0.0002815371474081396 \t CurranPentane\n",
      "1472 \t HO2(16) + C3H5O(70) <=> OH(15) + C3H5O2(71) 0.0002800274064168884 \t CurranPentane\n",
      "151 \t HO2(16) + CH3(18) <=> O2(2) + CH4(10) 0.000265579476522837 \t FFCM1(-)\n",
      "1712 \t H2O2(17) + S(186) <=> HO2(16) + S(187) 0.0002586080119793832 \t CurranPentane\n",
      "263 \t S(186) <=> S(223) 0.0002557639485460672 \t CurranPentane\n",
      "1081 \t CH3O2(45) + CH3CHO(35) <=> CH3O2H(46) + CH3CO(20) 0.00020356566994741976 \t CurranPentane\n",
      "245 \t CH3(18) + butane(1) <=> CH4(10) + SC4H9(183) 0.00017812365906952343 \t CurranPentane\n",
      "512 \t HO2(16) + CH3(18) <=> OH(15) + CH3O(31) 0.00013096170625523373 \t FFCM1(-)\n",
      "364 \t S(252) => OH(15) + CH2CHO(21) + CH3CHO(35) 0.00012949982614818278 \t CurranPentane\n",
      "609 \t HO2(16) + SC4H9(183) <=> OH(15) + C4H9O(217) 0.0001239516191613721 \t CurranPentane\n",
      "260 \t O2(2) + SC4H9(183) <=> S(186) 0.00012272589536879708 \t CurranPentane\n",
      "156 \t HO2(16) + CH4(10) <=> H2O2(17) + CH3(18) 0.00012085385145196859 \t FFCM1(-)\n",
      "1093 \t HO2(16) + CH3O2H(46) <=> H2O2(17) + CH3O2(45) 0.00011920054426822757 \t Klippenstein_Glarborg2016\n",
      "572 \t HO2(16) + C4H8O(214) => H2O2(17) + CH2O(9) + C3H5-A(94) 0.00011763839242404095 \t CurranPentane\n",
      "17 \t OH(15) + HO2(16) <=> O2(2) + H2O(8) 0.00011612418194373308 \t BurkeH2O2inN2\n",
      "352 \t OH(15) + CH3CHO(35) <=> H2O(8) + CH3CO(20) 0.00010528834821715849 \t FFCM1(-)\n",
      "522 \t CH3(18) + CH3O2(45) <=> CH3O(31) + CH3O(31) 0.00010357490456255891 \t CurranPentane\n",
      "65 \t O2(2) + C2H3(22) <=> O(5) + CH2CHO(21) 9.846304463326239e-05 \t FFCM1(-)\n",
      "1075 \t CH2O(9) + CH3O2(45) <=> HCO(19) + CH3O2H(46) 9.837664029230253e-05 \t CurranPentane\n",
      "1645 \t C2H5O2(47) + butane(1) <=> C2H6O2(48) + PC4H9(182) 9.737250783892204e-05 \t CurranPentane\n",
      "0 \t O2(2) + H(14) <=> O(5) + OH(15) 9.508936226917952e-05 \t BurkeH2O2inN2\n",
      "518 \t O2(2) + CH3O(31) <=> HO2(16) + CH2O(9) 9.44292874088537e-05 \t FFCM1(-)\n",
      "1084 \t CH3O2(45) + butane(1) <=> CH3O2H(46) + PC4H9(182) 9.356862115322828e-05 \t CurranPentane\n"
     ]
    }
   ],
   "source": [
    "for i in range(0, 50):\n",
    "    print(most_sensitive[i], '\\t', reaction_list[most_sensitive[i]], diffs[most_sensitive[i]], '\\t', reaction_list[most_sensitive[i]].family)"
   ]
  },
  {
   "cell_type": "code",
   "execution_count": 19,
   "id": "9ea0de19",
   "metadata": {},
   "outputs": [
    {
     "data": {
      "text/plain": [
       "0.019524574850561804"
      ]
     },
     "execution_count": 19,
     "metadata": {},
     "output_type": "execute_result"
    }
   ],
   "source": [
    "np.max(diffs)"
   ]
  },
  {
   "cell_type": "code",
   "execution_count": null,
   "id": "f6843b87",
   "metadata": {},
   "outputs": [],
   "source": []
  }
 ],
 "metadata": {
  "kernelspec": {
   "display_name": "Python 3 (ipykernel)",
   "language": "python",
   "name": "python3"
  },
  "language_info": {
   "codemirror_mode": {
    "name": "ipython",
    "version": 3
   },
   "file_extension": ".py",
   "mimetype": "text/x-python",
   "name": "python",
   "nbconvert_exporter": "python",
   "pygments_lexer": "ipython3",
   "version": "3.7.12"
  }
 },
 "nbformat": 4,
 "nbformat_minor": 5
}
