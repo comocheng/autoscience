{
 "cells": [
  {
   "cell_type": "code",
   "execution_count": 1,
   "id": "bc5eb6ce",
   "metadata": {},
   "outputs": [],
   "source": [
    "# Script to generate uncorrelated models for a mechanism"
   ]
  },
  {
   "cell_type": "code",
   "execution_count": 2,
   "id": "fba97ad9",
   "metadata": {},
   "outputs": [],
   "source": [
    "# note, avoids deepcopy due to some issues copying"
   ]
  },
  {
   "cell_type": "code",
   "execution_count": 4,
   "id": "6323bc5c",
   "metadata": {},
   "outputs": [],
   "source": [
    "import os\n",
    "import sys\n",
    "import copy\n",
    "import pickle\n",
    "\n",
    "import numpy as np\n",
    "import rmgpy.chemkin\n",
    "\n",
    "import matplotlib.pyplot as plt\n",
    "%matplotlib inline"
   ]
  },
  {
   "cell_type": "code",
   "execution_count": 4,
   "id": "4f4d1026",
   "metadata": {},
   "outputs": [],
   "source": [
    "# hooks for parallelizing\n",
    "# models_per_script = 100\n",
    "# model_num = int(sys.argv[1])\n",
    "models_per_script = 1\n",
    "model_num = 0\n"
   ]
  },
  {
   "cell_type": "code",
   "execution_count": 7,
   "id": "8ae2bfe2",
   "metadata": {},
   "outputs": [],
   "source": [
    "# Load the model and the saved uncertainty covariance matrix.\n",
    "# Only looks at uncorrelated parameters, so you can fill the\n",
    "# diagonal of a zero matrix and get the same results as using\n",
    "# the full covariance matrix\n",
    "\n",
    "basedir = '/work/westgroup/harris.se/autoscience/autoscience/butane/models/rmg_model'\n",
    "model_dir = '/scratch/harris.se/autoscience/uncorrelated/models'  # where the output cti's go\n",
    "\n",
    "base_chemkin = os.path.join(basedir, 'chem_annotated.inp')\n",
    "dictionary = os.path.join(basedir, 'species_dictionary.txt')\n",
    "transport = os.path.join(basedir, 'tran.dat')\n",
    "# RMG_cti_path = os.path.join(basedir, 'chem_annotated.cti')\n",
    "\n",
    "species_list, reaction_list = rmgpy.chemkin.load_chemkin_file(base_chemkin, dictionary_path=dictionary, transport_path=transport)\n",
    "# RMG_gas = ct.Solution(RMG_cti_path)\n",
    "\n",
    "\n",
    "covariance_file = '/work/westgroup/harris.se/autoscience/autoscience/uncertainty/butane_covariance.pickle'\n",
    "with open(covariance_file, 'rb') as handle:\n",
    "    Sigma_k = pickle.load(handle)\n"
   ]
  },
  {
   "cell_type": "code",
   "execution_count": 8,
   "id": "3fdb5e3e",
   "metadata": {},
   "outputs": [
    {
     "name": "stdout",
     "output_type": "stream",
     "text": [
      "1822\n"
     ]
    }
   ],
   "source": [
    "print(len(reaction_list))"
   ]
  },
  {
   "cell_type": "code",
   "execution_count": 5,
   "id": "b9813a57",
   "metadata": {},
   "outputs": [],
   "source": [
    "def perturb_reaction(rxn, delta):\n",
    "    # takes in an RMG reaction object\n",
    "    # delta is the ln(k) amount to perturb the A factor\n",
    "    # delta is a multiplicative factor- units don't matter, yay!\n",
    "    # does not deepycopy because there's some issues with rmgpy.reactions copying\n",
    "\n",
    "    rxn.kinetics.A.value *= np.exp(delta)\n",
    "\n",
    "#     return rxn"
   ]
  },
  {
   "cell_type": "code",
   "execution_count": 6,
   "id": "1db10d95",
   "metadata": {},
   "outputs": [],
   "source": [
    "def plot_reaction_perturbation(original_reaction, perturbed_reaction, uncertainty):\n",
    "    # function to show how the reaction kinetics have been changed\n",
    "    \n",
    "    plt.xlabel('1000 / T (K^-1)')\n",
    "    plt.ylabel('ln(k)')\n",
    "\n",
    "    T = np.linspace(300, 3000, 1001)\n",
    "\n",
    "    k_orig = np.zeros(len(T))\n",
    "    k_perturb = np.zeros(len(T))\n",
    "    for i in range(0, len(T)):\n",
    "        k_orig[i] = original_reaction.kinetics.get_rate_coefficient(T[i], 101325)\n",
    "        k_perturb[i] = perturbed_reaction.kinetics.get_rate_coefficient(T[i], 101325)\n",
    "    plt.plot(1000.0 / T, np.log(k_orig))\n",
    "    plt.plot(1000.0 / T, np.log(k_perturb))\n",
    "    \n",
    "    plt.plot(1000.0 / T, np.log(k_orig) + uncertainty, color='grey')\n",
    "    plt.plot(1000.0 / T, np.log(k_orig) - uncertainty, color='grey')\n",
    "\n",
    "    plt.legend(['Original', 'Perturbed'])\n",
    "    plt.show()"
   ]
  },
  {
   "cell_type": "code",
   "execution_count": null,
   "id": "0dec0b5f",
   "metadata": {},
   "outputs": [],
   "source": []
  },
  {
   "cell_type": "markdown",
   "id": "a8a9dcc1",
   "metadata": {},
   "source": [
    "### Generate Random Uniform Perturbations for A Factor\n",
    "\n",
    "Bounds are determined by variance\n",
    "https://en.wikipedia.org/wiki/Continuous_uniform_distribution\n",
    "\n",
    "$var = \\frac{1}{12}\\frac{1}{(b-a)^2}$\n",
    "\n",
    "We're constructing our perturbation centered around zero, so $b=-a$\n",
    "\n",
    "$var = \\frac{1}{12}\\frac{1}{(-2a)^2} = \\frac{1}{12}\\frac{1}{4a^2}$\n",
    "\n",
    "\n",
    "$a^2 = \\frac{1}{48 var}$\n",
    "\n",
    "$a = \\frac{1}{4\\sqrt{3 var}}$"
   ]
  },
  {
   "cell_type": "code",
   "execution_count": 8,
   "id": "560b0cbe",
   "metadata": {
    "scrolled": false
   },
   "outputs": [],
   "source": [
    "np.random.seed(400)\n",
    "\n",
    "for i in range(0, len(reaction_list)):\n",
    "    if type(reaction_list[i].kinetics) == rmgpy.kinetics.arrhenius.MultiArrhenius:\n",
    "        continue\n",
    "    if type(reaction_list[i].kinetics) == rmgpy.kinetics.falloff.ThirdBody:\n",
    "        continue\n",
    "    if type(reaction_list[i].kinetics) == rmgpy.kinetics.falloff.Troe:\n",
    "        continue\n",
    "    if type(reaction_list[i].kinetics) == rmgpy.kinetics.arrhenius.PDepArrhenius:\n",
    "        continue\n",
    "    if type(reaction_list[i].kinetics) == rmgpy.kinetics.arrhenius.MultiPDepArrhenius:\n",
    "        continue\n",
    "    if type(reaction_list[i].kinetics) == rmgpy.kinetics.falloff.Lindemann:\n",
    "        continue\n",
    "    if type(reaction_list[i].kinetics) == rmgpy.kinetics.chebyshev.Chebyshev:\n",
    "        continue\n",
    "\n",
    "\n",
    "    a = 1.0 / (4.0 * np.sqrt(3.0 * Sigma_k[i, i]))\n",
    "    delta = np.random.uniform(low=-a, high=a)\n",
    "    perturb_reaction(reaction_list[i], delta)\n",
    "\n",
    "\n",
    "#     plot_reaction_perturbation(reaction_list[i], new_rxn, Sigma_k[i, i])"
   ]
  },
  {
   "cell_type": "code",
   "execution_count": 9,
   "id": "79c323cf",
   "metadata": {},
   "outputs": [
    {
     "ename": "NameError",
     "evalue": "name 'k' is not defined",
     "output_type": "error",
     "traceback": [
      "\u001b[0;31m---------------------------------------------------------------------------\u001b[0m",
      "\u001b[0;31mNameError\u001b[0m                                 Traceback (most recent call last)",
      "\u001b[0;32m/tmp/ipykernel_11621/1216758804.py\u001b[0m in \u001b[0;36m<module>\u001b[0;34m\u001b[0m\n\u001b[1;32m      1\u001b[0m \u001b[0;31m# save the new mechanism\u001b[0m\u001b[0;34m\u001b[0m\u001b[0;34m\u001b[0m\u001b[0;34m\u001b[0m\u001b[0m\n\u001b[0;32m----> 2\u001b[0;31m \u001b[0mchemkin_file\u001b[0m \u001b[0;34m=\u001b[0m \u001b[0mos\u001b[0m\u001b[0;34m.\u001b[0m\u001b[0mpath\u001b[0m\u001b[0;34m.\u001b[0m\u001b[0mjoin\u001b[0m\u001b[0;34m(\u001b[0m\u001b[0mmodel_dir\u001b[0m\u001b[0;34m,\u001b[0m \u001b[0;34mf'chem_{k:04}.inp'\u001b[0m\u001b[0;34m)\u001b[0m\u001b[0;34m\u001b[0m\u001b[0;34m\u001b[0m\u001b[0m\n\u001b[0m\u001b[1;32m      3\u001b[0m \u001b[0mrmgpy\u001b[0m\u001b[0;34m.\u001b[0m\u001b[0mchemkin\u001b[0m\u001b[0;34m.\u001b[0m\u001b[0msave_chemkin_file\u001b[0m\u001b[0;34m(\u001b[0m\u001b[0mchemkin_file\u001b[0m\u001b[0;34m,\u001b[0m \u001b[0mspecies_list\u001b[0m\u001b[0;34m,\u001b[0m \u001b[0mreaction_list\u001b[0m\u001b[0;34m,\u001b[0m \u001b[0mverbose\u001b[0m\u001b[0;34m=\u001b[0m\u001b[0;32mTrue\u001b[0m\u001b[0;34m,\u001b[0m \u001b[0mcheck_for_duplicates\u001b[0m\u001b[0;34m=\u001b[0m\u001b[0;32mTrue\u001b[0m\u001b[0;34m)\u001b[0m\u001b[0;34m\u001b[0m\u001b[0;34m\u001b[0m\u001b[0m\n\u001b[1;32m      4\u001b[0m \u001b[0msubprocess\u001b[0m\u001b[0;34m.\u001b[0m\u001b[0mrun\u001b[0m\u001b[0;34m(\u001b[0m\u001b[0;34m[\u001b[0m\u001b[0;34m'ck2cti'\u001b[0m\u001b[0;34m,\u001b[0m \u001b[0;34mf'--input={chemkin_file}'\u001b[0m\u001b[0;34m,\u001b[0m \u001b[0;34mf'--transport={transport}'\u001b[0m\u001b[0;34m,\u001b[0m \u001b[0;34mf'--output={model_dir}/chem_{k:04}.cti'\u001b[0m\u001b[0;34m]\u001b[0m\u001b[0;34m)\u001b[0m\u001b[0;34m\u001b[0m\u001b[0;34m\u001b[0m\u001b[0m\n\u001b[1;32m      5\u001b[0m \u001b[0mos\u001b[0m\u001b[0;34m.\u001b[0m\u001b[0mremove\u001b[0m\u001b[0;34m(\u001b[0m\u001b[0mchemkin_file\u001b[0m\u001b[0;34m)\u001b[0m\u001b[0;34m\u001b[0m\u001b[0;34m\u001b[0m\u001b[0m\n",
      "\u001b[0;31mNameError\u001b[0m: name 'k' is not defined"
     ]
    }
   ],
   "source": [
    "# save the new mechanism\n",
    "chemkin_file = os.path.join(model_dir, f'chem_{k:04}.inp')\n",
    "rmgpy.chemkin.save_chemkin_file(chemkin_file, species_list, reaction_list, verbose=True, check_for_duplicates=True)\n",
    "subprocess.run(['ck2cti', f'--input={chemkin_file}', f'--transport={transport}', f'--output={model_dir}/chem_{k:04}.cti'])\n",
    "os.remove(chemkin_file)"
   ]
  },
  {
   "cell_type": "code",
   "execution_count": 18,
   "id": "2f4ac45f",
   "metadata": {},
   "outputs": [
    {
     "name": "stdout",
     "output_type": "stream",
     "text": [
      "OH(15) + butane(1) <=> H2O(8) + PC4H9(182)\n",
      "Arrhenius(A=(2.86507e+10,'cm^3/(mol*s)'), n=0.97, Ea=(1.586,'kcal/mol'), T0=(1,'K'))\n"
     ]
    },
    {
     "data": {
      "image/png": "[encoded data removed]",
      "text/plain": [
       "<Figure size 432x288 with 1 Axes>"
      ]
     },
     "metadata": {
      "needs_background": "light"
     },
     "output_type": "display_data"
    },
    {
     "name": "stdout",
     "output_type": "stream",
     "text": [
      "Arrhenius(A=(7.1018e+07,'cm^3/(mol*s)'), n=0.97, Ea=(1.586,'kcal/mol'), T0=(1,'K'))\n"
     ]
    }
   ],
   "source": [
    "print(reaction_list[288])\n",
    "print(reaction_list[288].kinetics)\n",
    "\n",
    "rxn288 = copy.copy(reaction_list[288])\n",
    "rxn288_2 = copy.copy(reaction_list[288])\n",
    "perturb_reaction(rxn288_2, -6)\n",
    "\n",
    "plot_reaction_perturbation(rxn288, rxn288_2, 1.0)\n",
    "\n",
    "print(rxn288_2.kinetics)"
   ]
  },
  {
   "cell_type": "code",
   "execution_count": null,
   "id": "b9533e0f",
   "metadata": {},
   "outputs": [],
   "source": []
  },
  {
   "cell_type": "code",
   "execution_count": null,
   "id": "d44066d2",
   "metadata": {},
   "outputs": [],
   "source": []
  }
 ],
 "metadata": {
  "kernelspec": {
   "display_name": "Python 3 (ipykernel)",
   "language": "python",
   "name": "python3"
  },
  "language_info": {
   "codemirror_mode": {
    "name": "ipython",
    "version": 3
   },
   "file_extension": ".py",
   "mimetype": "text/x-python",
   "name": "python",
   "nbconvert_exporter": "python",
   "pygments_lexer": "ipython3",
   "version": "3.7.12"
  }
 },
 "nbformat": 4,
 "nbformat_minor": 5
}
