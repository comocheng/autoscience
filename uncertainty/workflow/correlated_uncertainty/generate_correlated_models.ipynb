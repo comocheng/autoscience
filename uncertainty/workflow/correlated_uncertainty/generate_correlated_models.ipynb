{
 "cells": [
  {
   "cell_type": "code",
   "execution_count": null,
   "id": "bc5eb6ce",
   "metadata": {},
   "outputs": [],
   "source": [
    "# Script to generate uncorrelated models for a mechanism"
   ]
  },
  {
   "cell_type": "code",
   "execution_count": null,
   "id": "fba97ad9",
   "metadata": {},
   "outputs": [],
   "source": [
    "# note, avoids deepcopy due to some issues copying"
   ]
  },
  {
   "cell_type": "code",
   "execution_count": 1,
   "id": "6323bc5c",
   "metadata": {},
   "outputs": [],
   "source": [
    "import os\n",
    "import sys\n",
    "import copy\n",
    "import pickle\n",
    "import subprocess\n",
    "\n",
    "import numpy as np\n",
    "import rmgpy.chemkin\n",
    "\n",
    "import matplotlib.pyplot as plt\n",
    "%matplotlib inline"
   ]
  },
  {
   "cell_type": "code",
   "execution_count": 2,
   "id": "8ae2bfe2",
   "metadata": {},
   "outputs": [],
   "source": [
    "# Load the model and the saved uncertainty covariance matrix.\n",
    "# Only looks at uncorrelated parameters, so you can fill the\n",
    "# diagonal of a zero matrix and get the same results as using\n",
    "# the full covariance matrix\n",
    "\n",
    "basedir = '/work/westgroup/harris.se/autoscience/autoscience/butane/rmg_model'\n",
    "model_dir = '/scratch/harris.se/autoscience/correlated/models'  # where the output cti's go\n",
    "\n",
    "base_chemkin = os.path.join(basedir, 'chem_annotated.inp')\n",
    "dictionary = os.path.join(basedir, 'species_dictionary.txt')\n",
    "transport = os.path.join(basedir, 'tran.dat')\n",
    "# RMG_cti_path = os.path.join(basedir, 'chem_annotated.cti')\n",
    "\n",
    "species_list, reaction_list = rmgpy.chemkin.load_chemkin_file(base_chemkin, dictionary_path=dictionary, transport_path=transport)\n",
    "# RMG_gas = ct.Solution(RMG_cti_path)\n",
    "\n",
    "\n",
    "covariance_file = '/work/westgroup/harris.se/autoscience/autoscience/uncertainty/butane_covariance.pickle'\n",
    "with open(covariance_file, 'rb') as handle:\n",
    "    Sigma_k = pickle.load(handle)\n"
   ]
  },
  {
   "cell_type": "code",
   "execution_count": 3,
   "id": "37866919",
   "metadata": {},
   "outputs": [],
   "source": [
    "uniform_randoms = np.load('randoms1001.npy')"
   ]
  },
  {
   "cell_type": "markdown",
   "id": "7a64cddb",
   "metadata": {},
   "source": [
    "## Generate the correlated random uniform variables"
   ]
  },
  {
   "cell_type": "code",
   "execution_count": null,
   "id": "313ef6ca",
   "metadata": {},
   "outputs": [],
   "source": [
    "# Generate the random numbers\n",
    "np.random.seed(400)\n",
    "mean_vec = np.zeros(Sigma_k.shape[0])  # Sigma_k is a square matrix\n",
    "N = 5000\n",
    "normal_randoms = np.random.multivariate_normal(mean_vec, Sigma_k, size=N)"
   ]
  },
  {
   "cell_type": "code",
   "execution_count": null,
   "id": "f8d6b149",
   "metadata": {},
   "outputs": [],
   "source": [
    "# compute the CDF using the first 1001 of the random samples\n",
    "sorted_normals = np.sort(normal_randoms, axis=0)\n",
    "CDF = np.zeros((1001, sorted_normals.shape[1]))\n",
    "for rxn_index in range(0, sorted_normals.shape[1]):\n",
    "    # the variance represents the 1/12*(b-a)^2\n",
    "    # the variance represents the a^2/3\n",
    "    var = Sigma_k[rxn_index, rxn_index]\n",
    "    a = np.sqrt(3 * var)  # assumed uniform distribution is symmetric about zero\n",
    "    CDF[:, rxn_index] = np.linspace(-a, a, CDF.shape[0])"
   ]
  },
  {
   "cell_type": "code",
   "execution_count": null,
   "id": "6e9f17ef",
   "metadata": {},
   "outputs": [],
   "source": [
    "# function to actually convert the normal randoms into uniform randoms\n",
    "def normal_to_uniform(sample, rxn_index):\n",
    "    # assumes CDF is already defined\n",
    "    # find the closest value to the input\n",
    "    distance = np.abs(CDF[:, rxn_index] - sample)\n",
    "    closest_index = np.argmin(distance)\n",
    "    return CDF[closest_index, rxn_index]"
   ]
  },
  {
   "cell_type": "code",
   "execution_count": null,
   "id": "90896167",
   "metadata": {},
   "outputs": [],
   "source": [
    "# convert all those normal variables to uniforms\n",
    "uniform_randoms = np.zeros(normal_randoms.shape)\n",
    "for i in range(0, normal_randoms.shape[0]):\n",
    "    for j in range(0, normal_randoms.shape[1]):\n",
    "        uniform_randoms[i, j] = normal_to_uniform(normal_randoms[i, j], j)\n",
    "np.save('uniform_randoms.npy', uniform_randoms)"
   ]
  },
  {
   "cell_type": "code",
   "execution_count": null,
   "id": "5b21e5ce",
   "metadata": {},
   "outputs": [],
   "source": [
    "# check correlation coefficients with a few examples\n",
    "# reaction 0 is independent, then 324 is correlated with 325, and 327\n",
    "print(np.corrcoef(uniform_randoms[:, 324], uniform_randoms[:, 325]))\n",
    "print()\n",
    "print(np.corrcoef(uniform_randoms[:, 324], uniform_randoms[:, 0]))"
   ]
  },
  {
   "cell_type": "code",
   "execution_count": 4,
   "id": "b9813a57",
   "metadata": {},
   "outputs": [],
   "source": [
    "def perturb_reaction(rxn, delta):\n",
    "    # takes in an RMG reaction object\n",
    "    # delta is the ln(k) amount to perturb the A factor\n",
    "    # delta is a multiplicative factor- units don't matter, yay!\n",
    "    # does not deepycopy because there's some issues with rmgpy.reactions copying\n",
    "\n",
    "    rxn.kinetics.A.value *= np.exp(delta)\n",
    "\n",
    "#     return rxn"
   ]
  },
  {
   "cell_type": "code",
   "execution_count": null,
   "id": "1db10d95",
   "metadata": {},
   "outputs": [],
   "source": [
    "def plot_reaction_perturbation(original_reaction, perturbed_reaction, uncertainty):\n",
    "    # function to show how the reaction kinetics have been changed\n",
    "    \n",
    "    plt.xlabel('1000 / T (K^-1)')\n",
    "    plt.ylabel('ln(k)')\n",
    "\n",
    "    T = np.linspace(300, 3000, 1001)\n",
    "\n",
    "    k_orig = np.zeros(len(T))\n",
    "    k_perturb = np.zeros(len(T))\n",
    "    for i in range(0, len(T)):\n",
    "        k_orig[i] = original_reaction.kinetics.get_rate_coefficient(T[i], 101325)\n",
    "        k_perturb[i] = perturbed_reaction.kinetics.get_rate_coefficient(T[i], 101325)\n",
    "    plt.plot(1000.0 / T, np.log(k_orig))\n",
    "    plt.plot(1000.0 / T, np.log(k_perturb))\n",
    "    \n",
    "    plt.plot(1000.0 / T, np.log(k_orig) + uncertainty, color='grey')\n",
    "    plt.plot(1000.0 / T, np.log(k_orig) - uncertainty, color='grey')\n",
    "\n",
    "    plt.legend(['Original', 'Perturbed'])\n",
    "    plt.show()"
   ]
  },
  {
   "cell_type": "code",
   "execution_count": null,
   "id": "0dec0b5f",
   "metadata": {},
   "outputs": [],
   "source": [
    "\n",
    "rxn = copy.deepcopy(reaction_list[324])\n",
    "rxn.family\n",
    "\n",
    "perturb_reaction(reaction_list[324], 1.0)\n",
    "\n",
    "\n",
    "plot_reaction_perturbation(rxn, reaction_list[324], 2.0)"
   ]
  },
  {
   "cell_type": "markdown",
   "id": "a8a9dcc1",
   "metadata": {},
   "source": [
    "### Generate Random Uniform Perturbations for A Factor\n",
    "\n",
    "Bounds are determined by variance\n",
    "https://en.wikipedia.org/wiki/Continuous_uniform_distribution\n",
    "\n",
    "$var = \\frac{1}{12}\\frac{1}{(b-a)^2}$\n",
    "\n",
    "We're constructing our perturbation centered around zero, so $b=-a$\n",
    "\n",
    "$var = \\frac{1}{12}\\frac{1}{(-2a)^2} = \\frac{1}{12}\\frac{1}{4a^2}$\n",
    "\n",
    "\n",
    "$a^2 = \\frac{1}{48 var}$\n",
    "\n",
    "$a = \\frac{1}{4\\sqrt{3 var}}$"
   ]
  },
  {
   "cell_type": "code",
   "execution_count": null,
   "id": "ce78ce59",
   "metadata": {},
   "outputs": [],
   "source": [
    "print(uniform_randoms.shape)"
   ]
  },
  {
   "cell_type": "code",
   "execution_count": null,
   "id": "ea3015be",
   "metadata": {},
   "outputs": [],
   "source": [
    "uniform_randoms[5, 324]"
   ]
  },
  {
   "cell_type": "code",
   "execution_count": 5,
   "id": "c6d1d0cd",
   "metadata": {},
   "outputs": [
    {
     "data": {
      "text/plain": [
       "Arrhenius(A=(474158,'s^-1'), n=1.155, Ea=(16.101,'kcal/mol'), T0=(1,'K'), comment=\"\"\"Estimated using template [R7H_OOCs4;O_rad_out;XH_out] for rate rule [R7H_OOCs4;O_rad_out;O_H_out]\n",
       "Euclidian distance = 1.0\n",
       "family: intra_H_migration\"\"\")"
      ]
     },
     "execution_count": 5,
     "metadata": {},
     "output_type": "execute_result"
    }
   ],
   "source": [
    "reaction_list[324].kinetics"
   ]
  },
  {
   "cell_type": "code",
   "execution_count": 8,
   "id": "71937073",
   "metadata": {},
   "outputs": [
    {
     "name": "stdout",
     "output_type": "stream",
     "text": [
      "0\n"
     ]
    },
    {
     "name": "stderr",
     "output_type": "stream",
     "text": [
      "WARNING:root:Marked reaction CH3(18) + C2H3(22) <=> C3H6(12) as duplicate of C3H6(12) <=> CH3(18) + C2H3(22) for saving to Chemkin file.\n"
     ]
    },
    {
     "name": "stdout",
     "output_type": "stream",
     "text": [
      "Wrote CTI mechanism file to '/scratch/harris.se/autoscience/correlated/models/chem_0000.cti'.\n",
      "Mechanism contains 110 species and 1850 reactions.\n",
      "Validating mechanism...PASSED.\n",
      "1\n"
     ]
    },
    {
     "name": "stderr",
     "output_type": "stream",
     "text": [
      "WARNING:root:Marked reaction CH3(18) + C2H3(22) <=> C3H6(12) as duplicate of C3H6(12) <=> CH3(18) + C2H3(22) for saving to Chemkin file.\n"
     ]
    },
    {
     "name": "stdout",
     "output_type": "stream",
     "text": [
      "Wrote CTI mechanism file to '/scratch/harris.se/autoscience/correlated/models/chem_0001.cti'.\n",
      "Mechanism contains 110 species and 1850 reactions.\n",
      "Validating mechanism...PASSED.\n",
      "2\n"
     ]
    },
    {
     "name": "stderr",
     "output_type": "stream",
     "text": [
      "WARNING:root:Marked reaction CH3(18) + C2H3(22) <=> C3H6(12) as duplicate of C3H6(12) <=> CH3(18) + C2H3(22) for saving to Chemkin file.\n"
     ]
    },
    {
     "name": "stdout",
     "output_type": "stream",
     "text": [
      "Wrote CTI mechanism file to '/scratch/harris.se/autoscience/correlated/models/chem_0002.cti'.\n",
      "Mechanism contains 110 species and 1850 reactions.\n",
      "Validating mechanism...PASSED.\n",
      "3\n"
     ]
    },
    {
     "name": "stderr",
     "output_type": "stream",
     "text": [
      "WARNING:root:Marked reaction CH3(18) + C2H3(22) <=> C3H6(12) as duplicate of C3H6(12) <=> CH3(18) + C2H3(22) for saving to Chemkin file.\n"
     ]
    },
    {
     "name": "stdout",
     "output_type": "stream",
     "text": [
      "Wrote CTI mechanism file to '/scratch/harris.se/autoscience/correlated/models/chem_0003.cti'.\n",
      "Mechanism contains 110 species and 1850 reactions.\n",
      "Validating mechanism...PASSED.\n",
      "4\n"
     ]
    },
    {
     "name": "stderr",
     "output_type": "stream",
     "text": [
      "WARNING:root:Marked reaction CH3(18) + C2H3(22) <=> C3H6(12) as duplicate of C3H6(12) <=> CH3(18) + C2H3(22) for saving to Chemkin file.\n"
     ]
    },
    {
     "name": "stdout",
     "output_type": "stream",
     "text": [
      "Wrote CTI mechanism file to '/scratch/harris.se/autoscience/correlated/models/chem_0004.cti'.\n",
      "Mechanism contains 110 species and 1850 reactions.\n",
      "Validating mechanism...PASSED.\n",
      "5\n"
     ]
    },
    {
     "name": "stderr",
     "output_type": "stream",
     "text": [
      "WARNING:root:Marked reaction CH3(18) + C2H3(22) <=> C3H6(12) as duplicate of C3H6(12) <=> CH3(18) + C2H3(22) for saving to Chemkin file.\n"
     ]
    },
    {
     "name": "stdout",
     "output_type": "stream",
     "text": [
      "Wrote CTI mechanism file to '/scratch/harris.se/autoscience/correlated/models/chem_0005.cti'.\n",
      "Mechanism contains 110 species and 1850 reactions.\n",
      "Validating mechanism...PASSED.\n",
      "6\n"
     ]
    },
    {
     "name": "stderr",
     "output_type": "stream",
     "text": [
      "WARNING:root:Marked reaction CH3(18) + C2H3(22) <=> C3H6(12) as duplicate of C3H6(12) <=> CH3(18) + C2H3(22) for saving to Chemkin file.\n"
     ]
    },
    {
     "name": "stdout",
     "output_type": "stream",
     "text": [
      "Wrote CTI mechanism file to '/scratch/harris.se/autoscience/correlated/models/chem_0006.cti'.\n",
      "Mechanism contains 110 species and 1850 reactions.\n",
      "Validating mechanism...PASSED.\n",
      "7\n"
     ]
    },
    {
     "name": "stderr",
     "output_type": "stream",
     "text": [
      "WARNING:root:Marked reaction CH3(18) + C2H3(22) <=> C3H6(12) as duplicate of C3H6(12) <=> CH3(18) + C2H3(22) for saving to Chemkin file.\n"
     ]
    },
    {
     "name": "stdout",
     "output_type": "stream",
     "text": [
      "Wrote CTI mechanism file to '/scratch/harris.se/autoscience/correlated/models/chem_0007.cti'.\n",
      "Mechanism contains 110 species and 1850 reactions.\n",
      "Validating mechanism...PASSED.\n",
      "8\n"
     ]
    },
    {
     "name": "stderr",
     "output_type": "stream",
     "text": [
      "WARNING:root:Marked reaction CH3(18) + C2H3(22) <=> C3H6(12) as duplicate of C3H6(12) <=> CH3(18) + C2H3(22) for saving to Chemkin file.\n"
     ]
    },
    {
     "name": "stdout",
     "output_type": "stream",
     "text": [
      "Wrote CTI mechanism file to '/scratch/harris.se/autoscience/correlated/models/chem_0008.cti'.\n",
      "Mechanism contains 110 species and 1850 reactions.\n",
      "Validating mechanism...PASSED.\n",
      "9\n"
     ]
    },
    {
     "name": "stderr",
     "output_type": "stream",
     "text": [
      "WARNING:root:Marked reaction CH3(18) + C2H3(22) <=> C3H6(12) as duplicate of C3H6(12) <=> CH3(18) + C2H3(22) for saving to Chemkin file.\n"
     ]
    },
    {
     "name": "stdout",
     "output_type": "stream",
     "text": [
      "Wrote CTI mechanism file to '/scratch/harris.se/autoscience/correlated/models/chem_0009.cti'.\n",
      "Mechanism contains 110 species and 1850 reactions.\n",
      "Validating mechanism...PASSED.\n"
     ]
    }
   ],
   "source": [
    "# for j in range(0, N):\n",
    "for k in range(0, 10):\n",
    "    print(k)\n",
    "    # load a fresh mechanism\n",
    "    species_list, reaction_list = rmgpy.chemkin.load_chemkin_file(base_chemkin, dictionary_path=dictionary, transport_path=transport)\n",
    "\n",
    "    # perturb all of the reactions\n",
    "    for i in range(0, len(reaction_list)):\n",
    "#         if type(reaction_list[i].kinetics) == rmgpy.kinetics.arrhenius.MultiArrhenius:\n",
    "#             continue\n",
    "#         if type(reaction_list[i].kinetics) == rmgpy.kinetics.falloff.ThirdBody:\n",
    "#             continue\n",
    "#         if type(reaction_list[i].kinetics) == rmgpy.kinetics.falloff.Troe:\n",
    "#             continue\n",
    "#         if type(reaction_list[i].kinetics) == rmgpy.kinetics.arrhenius.PDepArrhenius:\n",
    "#             continue\n",
    "#         if type(reaction_list[i].kinetics) == rmgpy.kinetics.arrhenius.MultiPDepArrhenius:\n",
    "#             continue\n",
    "#         if type(reaction_list[i].kinetics) == rmgpy.kinetics.falloff.Lindemann:\n",
    "#             continue\n",
    "#         if type(reaction_list[i].kinetics) == rmgpy.kinetics.chebyshev.Chebyshev:\n",
    "#             continue\n",
    "        try:\n",
    "\n",
    "            delta = uniform_randoms[k, i]\n",
    "            perturb_reaction(reaction_list[i], delta)\n",
    "        except AttributeError:\n",
    "            continue\n",
    "        \n",
    "    # save the new mechanism\n",
    "    chemkin_file = os.path.join(model_dir, f'chem_{k:04}.inp')\n",
    "    rmgpy.chemkin.save_chemkin_file(chemkin_file, species_list, reaction_list, verbose=True, check_for_duplicates=True)\n",
    "    subprocess.run(['ck2cti', f'--input={chemkin_file}', f'--transport={transport}', f'--output={model_dir}/chem_{k:04}.cti'])\n",
    "    os.remove(chemkin_file)"
   ]
  },
  {
   "cell_type": "code",
   "execution_count": null,
   "id": "560b0cbe",
   "metadata": {
    "scrolled": false
   },
   "outputs": [],
   "source": [
    "\n",
    "\n",
    "\n",
    "#     plot_reaction_perturbation(reaction_list[i], new_rxn, Sigma_k[i, i])"
   ]
  },
  {
   "cell_type": "code",
   "execution_count": null,
   "id": "79c323cf",
   "metadata": {},
   "outputs": [],
   "source": []
  },
  {
   "cell_type": "code",
   "execution_count": null,
   "id": "2f4ac45f",
   "metadata": {},
   "outputs": [],
   "source": [
    "print(reaction_list[288])\n",
    "print(reaction_list[288].kinetics)\n",
    "\n",
    "rxn288 = copy.copy(reaction_list[288])\n",
    "rxn288_2 = copy.copy(reaction_list[288])\n",
    "perturb_reaction(rxn288_2, -6)\n",
    "\n",
    "plot_reaction_perturbation(rxn288, rxn288_2, 1.0)\n",
    "\n",
    "print(rxn288_2.kinetics)"
   ]
  },
  {
   "cell_type": "code",
   "execution_count": null,
   "id": "b9533e0f",
   "metadata": {},
   "outputs": [],
   "source": []
  },
  {
   "cell_type": "code",
   "execution_count": null,
   "id": "d44066d2",
   "metadata": {},
   "outputs": [],
   "source": []
  }
 ],
 "metadata": {
  "kernelspec": {
   "display_name": "Python 3 (ipykernel)",
   "language": "python",
   "name": "python3"
  },
  "language_info": {
   "codemirror_mode": {
    "name": "ipython",
    "version": 3
   },
   "file_extension": ".py",
   "mimetype": "text/x-python",
   "name": "python",
   "nbconvert_exporter": "python",
   "pygments_lexer": "ipython3",
   "version": "3.7.12"
  }
 },
 "nbformat": 4,
 "nbformat_minor": 5
}
