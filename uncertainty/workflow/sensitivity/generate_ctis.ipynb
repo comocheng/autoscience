{
 "cells": [
  {
   "cell_type": "code",
   "execution_count": null,
   "id": "d2a0804a",
   "metadata": {},
   "outputs": [],
   "source": [
    "# script to generate slightly perturbed models in RMG reaction order"
   ]
  },
  {
   "cell_type": "code",
   "execution_count": 1,
   "id": "4045ccb2",
   "metadata": {},
   "outputs": [],
   "source": [
    "import os\n",
    "import sys\n",
    "import subprocess\n",
    "\n",
    "\n",
    "import numpy as np\n",
    "import rmgpy.chemkin\n",
    "\n",
    "import matplotlib.pyplot as plt\n",
    "%matplotlib inline"
   ]
  },
  {
   "cell_type": "code",
   "execution_count": 49,
   "id": "23d04cff",
   "metadata": {},
   "outputs": [],
   "source": [
    "# Load the base model\n",
    "basedir = '/work/westgroup/harris.se/autoscience/autoscience/butane/rmg_model'\n",
    "model_dir = '/scratch/harris.se/autoscience/local_sensitivity/models'  # where the output cti's go\n",
    "\n",
    "base_chemkin = os.path.join(basedir, 'chem_annotated.inp')\n",
    "dictionary = os.path.join(basedir, 'species_dictionary.txt')\n",
    "transport = os.path.join(basedir, 'tran.dat')\n",
    "species_list, reaction_list = rmgpy.chemkin.load_chemkin_file(base_chemkin, dictionary_path=dictionary, transport_path=transport)\n"
   ]
  },
  {
   "cell_type": "code",
   "execution_count": 4,
   "id": "2f94744e",
   "metadata": {},
   "outputs": [],
   "source": [
    "def perturb_reaction(rxn, delta):\n",
    "    # takes in an RMG reaction object\n",
    "    # delta is the ln(k) amount to perturb the A factor\n",
    "    # delta is a multiplicative factor- units don't matter, yay!\n",
    "    # does not deepycopy because there's some issues with rmgpy.reactions copying\n",
    "\n",
    "    rxn.kinetics.A.value *= np.exp(delta)"
   ]
  },
  {
   "cell_type": "code",
   "execution_count": 54,
   "id": "47787a4d",
   "metadata": {},
   "outputs": [],
   "source": [
    "def perturb_species(species, delta):\n",
    "    # takes in an RMG species object\n",
    "    # change the enthalpy offset\n",
    "    for poly in species.thermo.polynomials:\n",
    "        new_coeffs = poly.coeffs\n",
    "        new_coeffs[5] *= (1.0 + delta)\n",
    "        poly.coeffs = new_coeffs"
   ]
  },
  {
   "cell_type": "code",
   "execution_count": null,
   "id": "fed7c05e",
   "metadata": {},
   "outputs": [],
   "source": [
    "def save_new_cti(param_index, reaction=True):\n",
    "    # if false, we're perturbing a species\n",
    "    \n",
    "    # load a fresh model\n",
    "    species_list, reaction_list = rmgpy.chemkin.load_chemkin_file(base_chemkin, dictionary_path=dictionary, transport_path=transport)\n",
    "    \n",
    "    \n",
    "    if reaction:\n",
    "        model_index = param_index\n",
    "        delta = 0.1\n",
    "        try:\n",
    "            perturb_reaction(reaction_list[param_index], delta)\n",
    "        except AttributeError:\n",
    "            print(f'skipping reaction {param_index} {type(reaction_list[param_index])}')\n",
    "            return\n",
    "    else:  # perturb the thermo\n",
    "        model_index = param_index + len(reaction_list)\n",
    "        delta = 0.1\n",
    "        perturb_species(species_list[param_index], delta)\n",
    "        \n",
    "        \n",
    "    # save the new mechanism\n",
    "    chemkin_file = os.path.join(model_dir, f'chem_{model_index:04}.inp')\n",
    "    rmgpy.chemkin.save_chemkin_file(chemkin_file, species_list, reaction_list, verbose=True, check_for_duplicates=True)\n",
    "    subprocess.run(['ck2cti', f'--input={chemkin_file}', f'--transport={transport}', f'--output={model_dir}/chem_{reaction_index:04}.cti'])\n",
    "    os.remove(chemkin_file)"
   ]
  },
  {
   "cell_type": "code",
   "execution_count": null,
   "id": "b72f7c4b",
   "metadata": {
    "scrolled": true
   },
   "outputs": [],
   "source": [
    "for i in range(0, 5):\n",
    "    save_new_cti(i)"
   ]
  },
  {
   "cell_type": "code",
   "execution_count": null,
   "id": "c719113e",
   "metadata": {},
   "outputs": [],
   "source": []
  }
 ],
 "metadata": {
  "kernelspec": {
   "display_name": "Python 3 (ipykernel)",
   "language": "python",
   "name": "python3"
  },
  "language_info": {
   "codemirror_mode": {
    "name": "ipython",
    "version": 3
   },
   "file_extension": ".py",
   "mimetype": "text/x-python",
   "name": "python",
   "nbconvert_exporter": "python",
   "pygments_lexer": "ipython3",
   "version": "3.7.12"
  }
 },
 "nbformat": 4,
 "nbformat_minor": 5
}
