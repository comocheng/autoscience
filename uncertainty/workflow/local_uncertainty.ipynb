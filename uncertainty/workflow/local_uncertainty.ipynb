{
 "cells": [
  {
   "cell_type": "code",
   "execution_count": 1,
   "id": "d79ba899",
   "metadata": {},
   "outputs": [],
   "source": [
    "# Script to run local sensitivity/uncertainty analysis:\n",
    "# to be converted into a plain Python script into a Jupyter notebook"
   ]
  },
  {
   "cell_type": "code",
   "execution_count": 22,
   "id": "e642e373",
   "metadata": {},
   "outputs": [],
   "source": [
    "import os\n",
    "import sys\n",
    "import copy\n",
    "import pickle\n",
    "import concurrent.futures\n",
    "import numpy as np\n",
    "import pandas as pd\n",
    "\n",
    "import cantera as ct\n",
    "import rmgpy.chemkin\n",
    "\n",
    "import matplotlib.pyplot as plt\n",
    "%matplotlib inline"
   ]
  },
  {
   "cell_type": "code",
   "execution_count": 8,
   "id": "cf94d0ef",
   "metadata": {},
   "outputs": [],
   "source": [
    "def perturb_reaction_rmg(rxn, delta):\n",
    "    # takes in an RMG reaction object\n",
    "    # delta is the ln(k) amount to perturb the A factor\n",
    "    # delta is a multiplicative factor- units don't matter, yay!\n",
    "    # does not deepycopy because there's some issues with rmgpy.reactions copying\n",
    "\n",
    "    rxn.kinetics.A.value *= np.exp(delta)\n",
    "\n",
    "#     return rxn"
   ]
  },
  {
   "cell_type": "code",
   "execution_count": 44,
   "id": "fed6db3e",
   "metadata": {},
   "outputs": [],
   "source": [
    "def perturb_reaction_ct(rxn, delta):\n",
    "    # should just be Arrhenius types\n",
    "    new_kinetics = ct._cantera.Arrhenius(\n",
    "        np.exp(delta) * rxn.rate.pre_exponential_factor, \n",
    "        rxn.rate.temperature_exponent,\n",
    "        rxn.rate.activation_energy\n",
    "    )\n",
    "    rxn.rate = new_kinetics\n"
   ]
  },
  {
   "cell_type": "code",
   "execution_count": 3,
   "id": "fd016507",
   "metadata": {},
   "outputs": [],
   "source": [
    "# load covariance matrix\n",
    "covariance_file = '/work/westgroup/harris.se/autoscience/autoscience/uncertainty/butane_covariance.pickle'\n",
    "with open(covariance_file, 'rb') as handle:\n",
    "    Sigma_k = pickle.load(handle)"
   ]
  },
  {
   "cell_type": "code",
   "execution_count": 48,
   "id": "a3ff9e77",
   "metadata": {},
   "outputs": [],
   "source": [
    "# Load the base model\n",
    "basedir = '/work/westgroup/harris.se/autoscience/autoscience/butane'\n",
    "\n",
    "base_chemkin = os.path.join(basedir, 'chem_annotated.inp')\n",
    "dictionary = os.path.join(basedir, 'species_dictionary.txt')\n",
    "transport = os.path.join(basedir, 'tran.dat')\n",
    "species_list, reaction_list = rmgpy.chemkin.load_chemkin_file(base_chemkin, dictionary_path=dictionary, transport_path=transport)\n",
    "\n",
    "\n",
    "cti_path = os.path.join(basedir, 'chem_annotated.cti')\n",
    "gas = ct.Solution(cti_path)"
   ]
  },
  {
   "cell_type": "code",
   "execution_count": 51,
   "id": "310efc86",
   "metadata": {},
   "outputs": [],
   "source": [
    "# Take Reactor Conditions from Table 7 of supplementary info in\n",
    "# https://doi-org.ezproxy.neu.edu/10.1016/j.combustflame.2010.01.016\n",
    "def run_simulation(gas, T, P, X):\n",
    "    # function to run a RCM simulation\n",
    "\n",
    "    t_end = 1.0  # time in seconds\n",
    "    gas.TPX = T, P, X\n",
    "\n",
    "    env = ct.Reservoir(ct.Solution('air.yaml'))\n",
    "    # env = ct.Reservoir(ct.Solution('air.xml'))\n",
    "    reactor = ct.IdealGasReactor(gas)\n",
    "    wall = ct.Wall(reactor, env, A=1.0, velocity=0)\n",
    "    reactor_net = ct.ReactorNet([reactor])\n",
    "    # # allegedly faster solving\n",
    "    # reactor_net.derivative_settings = {\"skip-third-bodies\": True, \"skip-falloff\": True}\n",
    "    # reactor_net.preconditioner = ct.AdaptivePreconditioner()\n",
    "\n",
    "    times = [0]\n",
    "    T = [reactor.T]\n",
    "    P = [reactor.thermo.P]\n",
    "    X = [reactor.thermo.X]  # mol fractions\n",
    "    while reactor_net.time < t_end:\n",
    "        reactor_net.step()\n",
    "\n",
    "        times.append(reactor_net.time)\n",
    "        T.append(reactor.T)\n",
    "        P.append(reactor.thermo.P)\n",
    "        X.append(reactor.thermo.X)\n",
    "\n",
    "    return (times, T, P, X)"
   ]
  },
  {
   "cell_type": "code",
   "execution_count": 52,
   "id": "daf61f82",
   "metadata": {},
   "outputs": [],
   "source": [
    "def get_ignition_delay(times, T, P, X, plot=False, title='', save=''):\n",
    "    # look for time with largest derivative\n",
    "    slopes = np.gradient(P, times)\n",
    "    i = np.argmax(slopes)\n",
    "    return i, times[i]"
   ]
  },
  {
   "cell_type": "code",
   "execution_count": 55,
   "id": "5a036c96",
   "metadata": {},
   "outputs": [],
   "source": [
    "result_dir = '/scratch/harris.se/autoscience/local_sensitivity'\n",
    "n_ign_delays = len(gas.reactions())\n",
    "delay_times = np.zeros(n_ign_delays)"
   ]
  },
  {
   "cell_type": "code",
   "execution_count": 57,
   "id": "7b658317",
   "metadata": {},
   "outputs": [],
   "source": [
    "# Load the experimental conditions\n",
    "ignition_delay_data = '/work/westgroup/harris.se/autoscience/autoscience/butane/butane_ignition_delay.csv'\n",
    "df_exp = pd.read_csv(ignition_delay_data)\n",
    "\n",
    "# slice just table 7, where phi=1.0\n",
    "table7 = df_exp[df_exp['Table'] == 7]\n",
    "# Define Initial conditions using experimental data\n",
    "tau7 = table7['time (ms)'].values.astype(float)  # ignition delay\n",
    "T7 = table7['T_C'].values  # Temperatures\n",
    "P7 = table7['nominal pressure(atm)'].values * ct.one_atm  # pressures in atm\n",
    "\n",
    "\n",
    "# list of starting conditions\n",
    "# Mixture compositions taken from table 2 of\n",
    "# https://doi-org.ezproxy.neu.edu/10.1016/j.combustflame.2010.01.016\n",
    "concentrations = []\n",
    "# for phi = 1\n",
    "x_diluent = 0.7649\n",
    "conc_dict = {\n",
    "    'O2(2)': 0.2038,\n",
    "    'butane(1)': 0.03135\n",
    "}\n",
    "\n",
    "for i in range(0, len(table7)):\n",
    "    x_N2 = table7['%N2'].values[i] / 100.0 * x_diluent\n",
    "    x_Ar = table7['%Ar'].values[i] / 100.0 * x_diluent\n",
    "    x_CO2 = table7['%CO2'].values[i] / 100.0 * x_diluent\n",
    "    conc_dict['N2'] = x_N2\n",
    "    conc_dict['Ar'] = x_Ar\n",
    "    conc_dict['CO2(7)'] = x_CO2\n",
    "    concentrations.append(conc_dict)\n"
   ]
  },
  {
   "cell_type": "code",
   "execution_count": 61,
   "id": "2b637459",
   "metadata": {},
   "outputs": [],
   "source": [
    "def process_model(reaction_number):\n",
    "    gas = ct.Solution(cti_path)\n",
    "    delta = 0.1\n",
    "    if type(gas.reactions()[reaction_number]) == ct._cantera.Arrhenius:\n",
    "        perturb_reaction_ct(gas.reactions()[reaction_number], delta)\n",
    "    \n",
    "    # run the simulations at condition #7\n",
    "    i = 7\n",
    "    X = concentrations[i]\n",
    "    t, T, P, X = run_simulation(gas, T7[i], P7[i], X)\n",
    "\n",
    "    index, delay_time = get_ignition_delay(t, T, P, X)\n",
    "    return delay_time\n"
   ]
  },
  {
   "cell_type": "code",
   "execution_count": 62,
   "id": "92fdea4b",
   "metadata": {},
   "outputs": [],
   "source": [
    "# for i in range(0, len(table7)):\n",
    "for i in [7]:  # just do one initial condition\n",
    "\n",
    "    rxn_indices = np.arange(0, 2)\n",
    "\n",
    "    with concurrent.futures.ProcessPoolExecutor(max_workers=8) as executor:\n",
    "        for reaction_index, delay_time in zip(rxn_indices, executor.map(process_model, rxn_indices)):\n",
    "            delay_times[reaction_index] = delay_time\n",
    "\n",
    "    csv_path = os.path.join(result_dir, f'ignition_delays_{i:03}.csv')\n",
    "    delay_df = pd.DataFrame(delay_times)\n",
    "    delay_df.to_csv(csv_path)"
   ]
  },
  {
   "cell_type": "code",
   "execution_count": 63,
   "id": "e7464b81",
   "metadata": {},
   "outputs": [
    {
     "data": {
      "text/plain": [
       "<cantera.composite.Solution at 0x2ae102293290>"
      ]
     },
     "execution_count": 63,
     "metadata": {},
     "output_type": "execute_result"
    }
   ],
   "source": [
    "gas"
   ]
  },
  {
   "cell_type": "code",
   "execution_count": 66,
   "id": "c71098a1",
   "metadata": {},
   "outputs": [
    {
     "data": {
      "text/plain": [
       "Arrhenius(A=1.04e+11, b=0, E=6.39566e+07)"
      ]
     },
     "execution_count": 66,
     "metadata": {},
     "output_type": "execute_result"
    }
   ],
   "source": [
    "gas.reactions()[0].rate"
   ]
  },
  {
   "cell_type": "code",
   "execution_count": null,
   "id": "9d63d04d",
   "metadata": {},
   "outputs": [],
   "source": []
  }
 ],
 "metadata": {
  "kernelspec": {
   "display_name": "Python 3 (ipykernel)",
   "language": "python",
   "name": "python3"
  },
  "language_info": {
   "codemirror_mode": {
    "name": "ipython",
    "version": 3
   },
   "file_extension": ".py",
   "mimetype": "text/x-python",
   "name": "python",
   "nbconvert_exporter": "python",
   "pygments_lexer": "ipython3",
   "version": "3.7.12"
  }
 },
 "nbformat": 4,
 "nbformat_minor": 5
}
