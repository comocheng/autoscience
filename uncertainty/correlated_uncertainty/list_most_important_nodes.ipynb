{
 "cells": [
  {
   "cell_type": "code",
   "execution_count": 1,
   "id": "b4af704a",
   "metadata": {},
   "outputs": [],
   "source": [
    "# trying to get the most important nodes in the mechanism"
   ]
  },
  {
   "cell_type": "code",
   "execution_count": 11,
   "id": "5a0af377",
   "metadata": {},
   "outputs": [],
   "source": [
    "import os\n",
    "import sys\n",
    "import copy\n",
    "import pickle\n",
    "\n",
    "import numpy as np\n",
    "import rmgpy.chemkin\n",
    "import rmgpy.tools.uncertainty\n",
    "\n",
    "import matplotlib.pyplot as plt\n",
    "%matplotlib inline"
   ]
  },
  {
   "cell_type": "code",
   "execution_count": 3,
   "id": "01d5454a",
   "metadata": {},
   "outputs": [],
   "source": [
    "# Load the RMG mechanism\n",
    "\n",
    "# Load the base model and the covariance matrix\n",
    "basedir = '/work/westgroup/harris.se/autoscience/autoscience/butane/models/rmg_model'\n",
    "\n",
    "base_chemkin = os.path.join(basedir, 'chem_annotated.inp')\n",
    "dictionary = os.path.join(basedir, 'species_dictionary.txt')\n",
    "transport = os.path.join(basedir, 'tran.dat')\n",
    "\n",
    "species_list, reaction_list = rmgpy.chemkin.load_chemkin_file(base_chemkin, dictionary_path=dictionary, transport_path=transport)\n",
    "\n",
    "covariance_file = '/work/westgroup/harris.se/autoscience/autoscience/uncertainty/butane_covariance.pickle'\n",
    "with open(covariance_file, 'rb') as handle:\n",
    "    Sigma_k = pickle.load(handle)\n"
   ]
  },
  {
   "cell_type": "code",
   "execution_count": 5,
   "id": "b85b0f4e",
   "metadata": {},
   "outputs": [],
   "source": [
    "# Get the most sensitive list\n",
    "reaction_indices = np.arange(0, len(reaction_list))\n",
    "base_delay = 0.14857535\n",
    "delay_file = '/work/westgroup/harris.se/autoscience/autoscience/butane/sensitivity_analysis/base_rmg24/reaction_ignition_delay.npy'\n",
    "ignition_delay_diffs = np.load(delay_file)\n",
    "# len(ignition_delays)\n",
    "sensitivity_order = [x for _,x in sorted(zip(np.abs(ignition_delay_diffs), reaction_indices))][::-1]"
   ]
  },
  {
   "cell_type": "code",
   "execution_count": 9,
   "id": "15d02aa6",
   "metadata": {},
   "outputs": [
    {
     "data": {
      "text/plain": [
       "247"
      ]
     },
     "execution_count": 9,
     "metadata": {},
     "output_type": "execute_result"
    }
   ],
   "source": [
    "sensitivity_order[1]"
   ]
  },
  {
   "cell_type": "markdown",
   "id": "8696749c",
   "metadata": {},
   "source": [
    "# Load the RMG Model"
   ]
  },
  {
   "cell_type": "code",
   "execution_count": null,
   "id": "17e76f4b",
   "metadata": {},
   "outputs": [
    {
     "name": "stderr",
     "output_type": "stream",
     "text": [
      "WARNING:root:Only Arrhenius and PDepArrhenius kinetics supported for duplicate reactions.\n",
      "WARNING:root:Only Arrhenius and PDepArrhenius kinetics supported for duplicate reactions.\n",
      "WARNING:root:Only Arrhenius and PDepArrhenius kinetics supported for duplicate reactions.\n",
      "WARNING:root:Only Arrhenius and PDepArrhenius kinetics supported for duplicate reactions.\n"
     ]
    }
   ],
   "source": [
    "# load the model\n",
    "\n",
    "uncertainty = rmgpy.tools.uncertainty.Uncertainty(output_directory='rmg_uncertainty')\n",
    "uncertainty.load_model(base_chemkin, dictionary)\n",
    "\n",
    "\n",
    "\n",
    "\n",
    "# TODO - force the user to provide the input file used to generate the mechanism to ensure databases are really the same\n",
    "# load the database\n",
    "# --------------- CAUTION!!! Databases here must match the ones used to generate the mechanism\n",
    "# note - this cell stalls out on Discovery\n",
    "thermo_libs = [\n",
    "    'BurkeH2O2',\n",
    "    'primaryThermoLibrary',\n",
    "    'FFCM1(-)',\n",
    "    'CurranPentane',\n",
    "    'Klippenstein_Glarborg2016',\n",
    "    'thermo_DFT_CCSDTF12_BAC',\n",
    "    'DFT_QCI_thermo',\n",
    "    'CBS_QB3_1dHR',\n",
    "]\n",
    "\n",
    "kinetic_libs = [\n",
    "    'FFCM1(-)',\n",
    "    'CurranPentane',\n",
    "    'combustion_core/version5',\n",
    "    'Klippenstein_Glarborg2016',\n",
    "    'BurkeH2O2inArHe',\n",
    "    'BurkeH2O2inN2',\n",
    "]\n",
    "uncertainty.load_database(\n",
    "    thermo_libraries=thermo_libs,\n",
    "    kinetics_families='default',\n",
    "    reaction_libraries=kinetic_libs,\n",
    "    kinetics_depositories=['training'],\n",
    ")\n"
   ]
  },
  {
   "cell_type": "code",
   "execution_count": null,
   "id": "380f34ff",
   "metadata": {},
   "outputs": [],
   "source": [
    "# Get the different kinetic and thermo sources\n",
    "uncertainty.extract_sources_from_model()\n",
    "uncertainty.assign_parameter_uncertainties()"
   ]
  },
  {
   "cell_type": "code",
   "execution_count": null,
   "id": "15fd45ac",
   "metadata": {},
   "outputs": [],
   "source": [
    "# Create a giant dictionary with all of the reaction family information in it\n",
    "auto_gen_families = {}\n",
    "for family_name in uncertainty.database.kinetics.families.keys():\n",
    "    if family_name == 'Intra_R_Add_Endocyclic' or family_name == 'Intra_R_Add_Exocyclic':\n",
    "        continue\n",
    "    if uncertainty.database.kinetics.families[family_name].auto_generated and family_name not in auto_gen_families.keys():\n",
    "        auto_gen_families[family_name] = uncertainty.database.kinetics.families[family_name].rules.get_entries()\n",
    "        auto_gen_families[f'{family_name}_labels'] = [entry.label for entry in uncertainty.database.kinetics.families[family_name].rules.get_entries()]\n",
    "        auto_gen_families[f'{family_name}_rxn_map'] = uncertainty.database.kinetics.families[family_name].get_reaction_matches(\n",
    "            thermo_database=uncertainty.database.thermo,\n",
    "            remove_degeneracy=True,\n",
    "            get_reverse=True,\n",
    "            exact_matches_only=False,\n",
    "            fix_labels=True)"
   ]
  },
  {
   "cell_type": "code",
   "execution_count": null,
   "id": "7fbe6075",
   "metadata": {},
   "outputs": [],
   "source": []
  },
  {
   "cell_type": "code",
   "execution_count": null,
   "id": "67947982",
   "metadata": {},
   "outputs": [],
   "source": []
  },
  {
   "cell_type": "code",
   "execution_count": null,
   "id": "b26bcc0b",
   "metadata": {},
   "outputs": [],
   "source": []
  }
 ],
 "metadata": {
  "kernelspec": {
   "display_name": "Python 3 (ipykernel)",
   "language": "python",
   "name": "python3"
  },
  "language_info": {
   "codemirror_mode": {
    "name": "ipython",
    "version": 3
   },
   "file_extension": ".py",
   "mimetype": "text/x-python",
   "name": "python",
   "nbconvert_exporter": "python",
   "pygments_lexer": "ipython3",
   "version": "3.7.12"
  }
 },
 "nbformat": 4,
 "nbformat_minor": 5
}
