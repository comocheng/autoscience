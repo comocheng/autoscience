{
 "cells": [
  {
   "cell_type": "code",
   "execution_count": 1,
   "id": "0d85170b",
   "metadata": {},
   "outputs": [],
   "source": [
    "import os\n",
    "import sys\n",
    "import copy\n",
    "import json\n",
    "import pickle\n",
    "\n",
    "import numpy as np\n",
    "import rmgpy.chemkin\n",
    "import rmgpy.tools.uncertainty\n",
    "\n",
    "import matplotlib.pyplot as plt\n",
    "%matplotlib inline"
   ]
  },
  {
   "cell_type": "code",
   "execution_count": 2,
   "id": "d6c4f88c",
   "metadata": {},
   "outputs": [],
   "source": [
    "def unpack_sensitivity(long_desc):\n",
    "    start_str = 'sensitivities = '\n",
    "    if start_str not in long_desc:\n",
    "        return []\n",
    "    start_index = long_desc.find(start_str) + len(start_str)\n",
    "    sensitivities_str = long_desc[start_index:].replace(\"'\", '\"')\n",
    "    sensitivities_str = sensitivities_str.replace(\"nan\", '\"-9999999\"')\n",
    "    sensitivities_str = sensitivities_str.replace('name', 'training_rxn_name')\n",
    "    return json.loads(sensitivities_str)"
   ]
  },
  {
   "cell_type": "code",
   "execution_count": 3,
   "id": "8bc40278",
   "metadata": {
    "scrolled": true
   },
   "outputs": [],
   "source": [
    "# Load the RMG mechanism\n",
    "\n",
    "# Load the base model and the covariance matrix\n",
    "basedir = '/work/westgroup/harris.se/autoscience/autoscience/butane/models/rmg_model'\n",
    "# basedir = '/home/moon/autoscience/autoscience/butane/models/rmg_model'\n",
    "\n",
    "base_chemkin = os.path.join(basedir, 'chem_annotated.inp')\n",
    "dictionary = os.path.join(basedir, 'species_dictionary.txt')\n",
    "transport = os.path.join(basedir, 'tran.dat')\n",
    "\n",
    "species_list, reaction_list = rmgpy.chemkin.load_chemkin_file(base_chemkin, dictionary_path=dictionary, transport_path=transport)\n",
    "\n",
    "covariance_file = '/work/westgroup/harris.se/autoscience/autoscience/uncertainty/butane_covariance.pickle'\n",
    "# covariance_file = '/home/moon/autoscience/autoscience/uncertainty/butane_covariance.pickle'\n",
    "with open(covariance_file, 'rb') as handle:\n",
    "    Sigma_k = pickle.load(handle)\n"
   ]
  },
  {
   "cell_type": "markdown",
   "id": "679d4669",
   "metadata": {},
   "source": [
    "# Load the RMG Database"
   ]
  },
  {
   "cell_type": "code",
   "execution_count": null,
   "id": "682b0389",
   "metadata": {},
   "outputs": [],
   "source": [
    "# load the model\n",
    "\n",
    "uncertainty = rmgpy.tools.uncertainty.Uncertainty(output_directory='rmg_uncertainty')\n",
    "uncertainty.load_model(base_chemkin, dictionary)\n",
    "\n",
    "\n",
    "\n",
    "\n",
    "# TODO - force the user to provide the input file used to generate the mechanism to ensure databases are really the same\n",
    "# load the database\n",
    "# --------------- CAUTION!!! Databases here must match the ones used to generate the mechanism\n",
    "# note - this cell stalls out on Discovery\n",
    "thermo_libs = [\n",
    "#     'BurkeH2O2',\n",
    "    'primaryThermoLibrary',\n",
    "#     'FFCM1(-)',\n",
    "#     'CurranPentane',\n",
    "#     'Klippenstein_Glarborg2016',\n",
    "#     'thermo_DFT_CCSDTF12_BAC',\n",
    "#     'DFT_QCI_thermo',\n",
    "#     'CBS_QB3_1dHR',\n",
    "]\n",
    "\n",
    "kinetic_libs = [\n",
    "#     'FFCM1(-)',\n",
    "#     'CurranPentane',\n",
    "#     'combustion_core/version5',\n",
    "#     'Klippenstein_Glarborg2016',\n",
    "#     'BurkeH2O2inArHe',\n",
    "#     'BurkeH2O2inN2',\n",
    "]\n",
    "uncertainty.load_database(\n",
    "    thermo_libraries=thermo_libs,\n",
    "#     kinetics_families='default',\n",
    "    kinetics_families=['Disproportionation'],\n",
    "    reaction_libraries=kinetic_libs,\n",
    "    kinetics_depositories=['training'],\n",
    ")\n"
   ]
  },
  {
   "cell_type": "code",
   "execution_count": null,
   "id": "d2d2b51e",
   "metadata": {},
   "outputs": [],
   "source": [
    "# don't just count the nodes to get popularity. Use the sensitivity of each reaction\n",
    "\n",
    "# start by loading sensitivity of reactions\n",
    "rxn_sensitivity_file = '/home/moon/autoscience/autoscience/butane/sensitivity_analysis/base_rmg24/reaction_ignition_delay_plain.npy'\n",
    "base_delay = 0.14857535\n",
    "ignition_delay = np.load(rxn_sensitivity_file)\n",
    "sensitivities = np.abs(ignition_delay - base_delay) / base_delay"
   ]
  },
  {
   "cell_type": "code",
   "execution_count": null,
   "id": "9b4e1e57",
   "metadata": {},
   "outputs": [],
   "source": [
    "# Get the different kinetic and thermo sources\n",
    "uncertainty.extract_sources_from_model()\n",
    "uncertainty.assign_parameter_uncertainties()"
   ]
  },
  {
   "cell_type": "code",
   "execution_count": null,
   "id": "246dbae2",
   "metadata": {},
   "outputs": [],
   "source": [
    "# Create a giant dictionary with all of the reaction family information in it\n",
    "auto_gen_families = {}\n",
    "for family_name in uncertainty.database.kinetics.families.keys():\n",
    "    if family_name == 'Intra_R_Add_Endocyclic' or family_name == 'Intra_R_Add_Exocyclic':\n",
    "        continue\n",
    "    if uncertainty.database.kinetics.families[family_name].auto_generated and family_name not in auto_gen_families.keys():\n",
    "        auto_gen_families[family_name] = uncertainty.database.kinetics.families[family_name].rules.get_entries()\n",
    "        auto_gen_families[f'{family_name}_labels'] = [entry.label for entry in uncertainty.database.kinetics.families[family_name].rules.get_entries()]\n",
    "        auto_gen_families[f'{family_name}_rxn_map'] = uncertainty.database.kinetics.families[family_name].get_reaction_matches(\n",
    "            thermo_database=uncertainty.database.thermo,\n",
    "            remove_degeneracy=True,\n",
    "            get_reverse=True,\n",
    "            exact_matches_only=False,\n",
    "            fix_labels=True)"
   ]
  },
  {
   "cell_type": "markdown",
   "id": "f900d5c2",
   "metadata": {},
   "source": [
    "## Just Look at Disproportionation"
   ]
  },
  {
   "cell_type": "code",
   "execution_count": null,
   "id": "dec79698",
   "metadata": {},
   "outputs": [],
   "source": [
    "# Make a set of all the training reactions in the Disproportionation Family Tree\n",
    "family_name = 'Disproportionation'\n",
    "training_reactions = set()\n",
    "for node_name in uncertainty.database.kinetics.families[family_name].rules.entries.keys():\n",
    "    for training_rxn in auto_gen_families[f'{family_name}_rxn_map'][node_name]:\n",
    "        training_reactions.add(training_rxn)\n",
    "training_reactions = list(training_reactions)\n",
    "print(len(training_reactions), 'training reactions')\n"
   ]
  },
  {
   "cell_type": "code",
   "execution_count": null,
   "id": "b37e138f",
   "metadata": {},
   "outputs": [],
   "source": [
    "for training_reaction in training_reactions:\n",
    "    print(training_reaction)"
   ]
  },
  {
   "cell_type": "code",
   "execution_count": null,
   "id": "91161b7b",
   "metadata": {},
   "outputs": [],
   "source": [
    "training_reaction_scores = np.zeros(len(training_reactions))\n",
    "for i, reaction in enumerate(uncertainty.reaction_list):\n",
    "#     reaction_sensitivity = 1.0\n",
    "    reaction_sensitivity = sensitivities[i]\n",
    "\n",
    "    try:\n",
    "        if reaction.family == family_name:\n",
    "            # Get the node\n",
    "            node_name = ''\n",
    "#                 print(i, reaction, node_name)\n",
    "            print(i, reaction)\n",
    "            if 'Rate Rules' in uncertainty.reaction_sources_dict[uncertainty.reaction_list[i]].keys():\n",
    "\n",
    "                node_name = uncertainty.reaction_sources_dict[uncertainty.reaction_list[i]]['Rate Rules'][1]['node']\n",
    "                node_sensitivities = unpack_sensitivity(uncertainty.database.kinetics.families['Disproportionation'].rules.entries[node_name][0].long_desc)\n",
    "                    \n",
    "                # find each training reaction in the node\n",
    "                for t, train in enumerate(auto_gen_families[f'{family_name}_rxn_map'][node_name]):\n",
    "                    # Get the partial sensitivity dNode / dtraining_reaction (A factor)\n",
    "                    # equal division\n",
    "                    partial_sensitivity = 1.0 / len(auto_gen_families[f'{family_name}_rxn_map'][node_name])\n",
    "                    \n",
    "                    # use calculated derivatives\n",
    "#                     partial_sensitivity = node_sensitivities[t]['dA']\n",
    "                    # use the chain rule and multiply by this mechanism reaction's sensitivity\n",
    "                    total_sensitivity = reaction_sensitivity * partial_sensitivity\n",
    "                    \n",
    "                    for j, training_rxn in enumerate(training_reactions):\n",
    "                        if training_rxn.is_isomorphic(train):\n",
    "                            training_reaction_scores[j] += total_sensitivity  # or whatever the reaction sensitivity is\n",
    "                            print('\\t', training_rxn, '\\t', np.round(total_sensitivity, 8))\n",
    "                            break\n",
    "                    else:\n",
    "                        raise ValueError('could not match training reaction in node')\n",
    "                \n",
    "\n",
    "            elif 'Training' in uncertainty.reaction_sources_dict[uncertainty.reaction_list[i]].keys():\n",
    "                for j, training_rxn in enumerate(training_reactions):\n",
    "                    if training_rxn.is_isomorphic(uncertainty.reaction_sources_dict[uncertainty.reaction_list[i]]['Training'][1].item):\n",
    "                        training_reaction_scores[j] += reaction_sensitivity  # or whatever the reaction sensitivity is\n",
    "                        print('matched training reaction exactly!')\n",
    "                        break\n",
    "            print()\n",
    "            \n",
    "    except AttributeError:\n",
    "        continue\n"
   ]
  },
  {
   "cell_type": "code",
   "execution_count": null,
   "id": "d9bd02e2",
   "metadata": {},
   "outputs": [],
   "source": [
    "# print the results\n",
    "order = np.arange(0, len(training_reaction_scores))\n",
    "train_rxn_order = [x for _, x in sorted(zip(training_reaction_scores, order))][::-1]\n",
    "\n",
    "\n",
    "print('\\tTraining Reaction\\t\\tSensitivity')\n",
    "for i in range(0, len(training_reaction_scores)):\n",
    "    index = train_rxn_order[i]\n",
    "    print(index,'\\t', training_reactions[index], '\\t', training_reaction_scores[index])\n",
    "\n"
   ]
  },
  {
   "cell_type": "code",
   "execution_count": null,
   "id": "c40f79f6",
   "metadata": {},
   "outputs": [],
   "source": []
  },
  {
   "cell_type": "code",
   "execution_count": null,
   "id": "446ee289",
   "metadata": {},
   "outputs": [],
   "source": []
  }
 ],
 "metadata": {
  "kernelspec": {
   "display_name": "Python 3 (ipykernel)",
   "language": "python",
   "name": "python3"
  },
  "language_info": {
   "codemirror_mode": {
    "name": "ipython",
    "version": 3
   },
   "file_extension": ".py",
   "mimetype": "text/x-python",
   "name": "python",
   "nbconvert_exporter": "python",
   "pygments_lexer": "ipython3",
   "version": "3.7.12"
  }
 },
 "nbformat": 4,
 "nbformat_minor": 5
}
