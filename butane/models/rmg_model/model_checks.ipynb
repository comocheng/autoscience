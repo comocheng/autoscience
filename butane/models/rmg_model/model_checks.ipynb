{
 "cells": [
  {
   "cell_type": "code",
   "execution_count": 14,
   "id": "a06d9e3f",
   "metadata": {},
   "outputs": [],
   "source": [
    "import os\n",
    "import numpy as np\n",
    "import rmgpy.chemkin\n",
    "import cantera as ct"
   ]
  },
  {
   "cell_type": "code",
   "execution_count": null,
   "id": "587cb783",
   "metadata": {},
   "outputs": [],
   "source": []
  },
  {
   "cell_type": "code",
   "execution_count": null,
   "id": "7e50b8df",
   "metadata": {},
   "outputs": [],
   "source": []
  },
  {
   "cell_type": "code",
   "execution_count": 6,
   "id": "47ebea9a",
   "metadata": {},
   "outputs": [],
   "source": [
    "# Load the base model\n",
    "basedir = '/work/westgroup/harris.se/autoscience/autoscience/butane/rmg_model'\n",
    "\n",
    "# cti_path = os.path.join(basedir, 'chem_annotated.cti')\n",
    "# gas = ct.Solution(cti_path)\n",
    "\n",
    "base_chemkin = os.path.join(basedir, 'chem_annotated.inp')\n",
    "dictionary = os.path.join(basedir, 'species_dictionary.txt')\n",
    "transport = os.path.join(basedir, 'tran.dat')\n",
    "species_list, reaction_list = rmgpy.chemkin.load_chemkin_file(base_chemkin, dictionary_path=dictionary, transport_path=transport, use_chemkin_names=True)\n"
   ]
  },
  {
   "cell_type": "code",
   "execution_count": 9,
   "id": "464e1ffc",
   "metadata": {},
   "outputs": [
    {
     "name": "stdout",
     "output_type": "stream",
     "text": [
      "CO(6)\n"
     ]
    }
   ],
   "source": [
    "print(species_list[9])"
   ]
  },
  {
   "cell_type": "code",
   "execution_count": 11,
   "id": "8cfdfd2e",
   "metadata": {},
   "outputs": [
    {
     "name": "stdout",
     "output_type": "stream",
     "text": [
      "1 O u0 p2 c0 {2,S} {6,S}\n",
      "2 C u0 p0 c0 {1,S} {3,S} {4,S} {5,S}\n",
      "3 H u0 p0 c0 {2,S}\n",
      "4 H u0 p0 c0 {2,S}\n",
      "5 H u0 p0 c0 {2,S}\n",
      "6 H u0 p0 c0 {1,S}\n",
      "\n"
     ]
    }
   ],
   "source": [
    "print(species_list[29].molecule[0].to_adjacency_list())"
   ]
  },
  {
   "cell_type": "code",
   "execution_count": null,
   "id": "c09c1c37",
   "metadata": {},
   "outputs": [],
   "source": []
  },
  {
   "cell_type": "code",
   "execution_count": 23,
   "id": "2e7b669a",
   "metadata": {},
   "outputs": [
    {
     "name": "stdout",
     "output_type": "stream",
     "text": [
      "0.0001353155149226122\n",
      "8.18049647818061e-05\n",
      "0.00022382857357875177\n",
      "\n",
      "0.604549780035134\n"
     ]
    }
   ],
   "source": [
    "R = 1.987 / 1000.0  # cal/molK\n",
    "kb = 3.297623483e-21 * 6.022e23 # kcal/mol \n",
    "T = 1000\n",
    "Ea = 17.7\n",
    "print(np.exp(-Ea/(R*T)))\n",
    "print(np.exp(-(Ea+1.0)/(R*T)))\n",
    "print(np.exp(-(Ea-1.0)/(R*T)))\n",
    "\n",
    "\n",
    "print()\n",
    "print(np.exp(-(Ea+1.0)/(R*T)) / np.exp(-Ea/(R*T)))"
   ]
  },
  {
   "cell_type": "code",
   "execution_count": null,
   "id": "ccd8674c",
   "metadata": {},
   "outputs": [],
   "source": []
  }
 ],
 "metadata": {
  "kernelspec": {
   "display_name": "Python 3 (ipykernel)",
   "language": "python",
   "name": "python3"
  },
  "language_info": {
   "codemirror_mode": {
    "name": "ipython",
    "version": 3
   },
   "file_extension": ".py",
   "mimetype": "text/x-python",
   "name": "python",
   "nbconvert_exporter": "python",
   "pygments_lexer": "ipython3",
   "version": "3.7.12"
  }
 },
 "nbformat": 4,
 "nbformat_minor": 5
}
