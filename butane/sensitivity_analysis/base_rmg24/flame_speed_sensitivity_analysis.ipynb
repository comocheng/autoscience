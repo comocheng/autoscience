{
 "cells": [
  {
   "cell_type": "code",
   "execution_count": 1,
   "id": "7a483e87",
   "metadata": {},
   "outputs": [],
   "source": [
    "import os\n",
    "import sys\n",
    "import copy\n",
    "import pickle\n",
    "import concurrent.futures\n",
    "import numpy as np\n",
    "import pandas as pd\n",
    "\n",
    "import cantera as ct\n",
    "import rmgpy.chemkin\n",
    "\n",
    "sys.path.append('/work/westgroup/harris.se/autoscience/autoscience_workflow/workflow/scripts/kinetics')\n",
    "import kineticfun\n",
    "\n",
    "\n",
    "import matplotlib.pyplot as plt\n",
    "%matplotlib inline"
   ]
  },
  {
   "cell_type": "code",
   "execution_count": 2,
   "id": "04a14534",
   "metadata": {},
   "outputs": [
    {
     "name": "stderr",
     "output_type": "stream",
     "text": [
      "1556030143.py:7 <module> INFO Thermo file has default temperature range 300.0 to 1000.0 and 1000.0 to 5000.0\n"
     ]
    },
    {
     "name": "stdout",
     "output_type": "stream",
     "text": [
      "1822 reactions and 110 species\n"
     ]
    }
   ],
   "source": [
    "# Load the base model\n",
    "basedir = '/work/westgroup/harris.se/autoscience/autoscience/butane/sensitivity_analysis/base_rmg24'\n",
    "\n",
    "base_chemkin = os.path.join(basedir, 'chem_annotated.inp')\n",
    "dictionary = os.path.join(basedir, 'species_dictionary.txt')\n",
    "transport = os.path.join(basedir, 'tran.dat')\n",
    "species_list, reaction_list = rmgpy.chemkin.load_chemkin_file(base_chemkin, dictionary_path=dictionary, transport_path=transport)\n",
    "print(f'{len(reaction_list)} reactions and {len(species_list)} species')"
   ]
  },
  {
   "cell_type": "code",
   "execution_count": 3,
   "id": "895b8bd4",
   "metadata": {},
   "outputs": [],
   "source": [
    "base_flame_speed = 0.41552749"
   ]
  },
  {
   "cell_type": "code",
   "execution_count": 6,
   "id": "0ff39098",
   "metadata": {},
   "outputs": [],
   "source": [
    "flame_speeds_rxns = base_flame_speed * np.ones(len(reaction_list))\n",
    "flame_speeds_sp = base_flame_speed * np.ones(len(species_list))"
   ]
  },
  {
   "cell_type": "code",
   "execution_count": 7,
   "id": "c9afdc85",
   "metadata": {},
   "outputs": [],
   "source": [
    "# load individual flame speed files\n",
    "results_dir = '/work/westgroup/harris.se/autoscience/autoscience/butane/sensitivity_analysis/base_rmg24/results/flame_speeds'\n",
    "for i in range(0, len(reaction_list)):\n",
    "    result_file = os.path.join(results_dir, f'flame_speed_{i:04}.txt')\n",
    "    if not os.path.exists(result_file):\n",
    "        continue\n",
    "    with open(result_file, 'r') as f:\n",
    "        result = f.read()\n",
    "        flame_speeds_rxns[i] = result\n",
    "        \n",
    "for i in range(0, len(species_list)):\n",
    "    j = i + len(reaction_list)\n",
    "    result_file = os.path.join(results_dir, f'flame_speed_{j:04}.txt')\n",
    "    if not os.path.exists(result_file):\n",
    "        continue\n",
    "    with open(result_file, 'r') as f:\n",
    "        result = f.read()\n",
    "        flame_speeds_sp[i] = result"
   ]
  },
  {
   "cell_type": "code",
   "execution_count": 12,
   "id": "15c2b0a8",
   "metadata": {},
   "outputs": [],
   "source": [
    "# sort the reaction list by difference in flame speed\n",
    "order_rxn = np.arange(0, len(flame_speeds_rxns))\n",
    "fs_diff = np.abs(flame_speeds_rxns - base_flame_speed)\n",
    "most_sensitive_rxn = [x for _, x in sorted(zip(fs_diff, order_rxn))][::-1]\n",
    "\n",
    "\n",
    "order_sp = np.arange(0, len(flame_speeds_sp))\n",
    "fs_diff = np.abs(flame_speeds_sp - base_flame_speed)\n",
    "most_sensitive_sp = [x for _, x in sorted(zip(fs_diff, order_sp))][::-1]"
   ]
  },
  {
   "cell_type": "code",
   "execution_count": 19,
   "id": "a0eb9fb1",
   "metadata": {},
   "outputs": [
    {
     "data": {
      "text/plain": [
       "0.2256325676932963"
      ]
     },
     "execution_count": 19,
     "metadata": {},
     "output_type": "execute_result"
    }
   ],
   "source": [
    "flame_speeds_sp[17]"
   ]
  },
  {
   "cell_type": "code",
   "execution_count": 18,
   "id": "355f8913",
   "metadata": {},
   "outputs": [
    {
     "data": {
      "text/plain": [
       "0.4155011033078316"
      ]
     },
     "execution_count": 18,
     "metadata": {},
     "output_type": "execute_result"
    }
   ],
   "source": [
    "flame_speeds_sp[85]"
   ]
  },
  {
   "cell_type": "code",
   "execution_count": 16,
   "id": "eecf4f11",
   "metadata": {},
   "outputs": [
    {
     "name": "stdout",
     "output_type": "stream",
     "text": [
      "17 \t H(14)\n",
      "10 \t CO2(7)\n",
      "8 \t O(5)\n",
      "9 \t CO(6)\n",
      "26 \t CH2(23)\n",
      "21 \t CH3(18)\n",
      "11 \t H2O(8)\n",
      "25 \t C2H3(22)\n",
      "63 \t C4H71-3(190)\n",
      "4 \t butane(1)\n",
      "6 \t CH(3)\n",
      "18 \t OH(15)\n",
      "66 \t C4H6(194)\n",
      "5 \t O2(2)\n",
      "14 \t C2H4(11)\n",
      "57 \t SC4H9(183)\n",
      "20 \t H2O2(17)\n",
      "16 \t H2(13)\n",
      "61 \t C4H8-1(188)\n",
      "97 \t C=CC(C)O[O](4243)\n",
      "62 \t C4H8-2(189)\n",
      "32 \t C2H5(33)\n",
      "59 \t SC4H9O2(186)\n",
      "50 \t C3H5-A(94)\n",
      "7 \t C2H(4)\n",
      "28 \t C2H2(25)\n",
      "31 \t C2H6(32)\n",
      "15 \t C3H6(12)\n",
      "83 \t C[C]CC-2(776)\n",
      "12 \t CH2O(9)\n",
      "64 \t C4H71-4(191)\n",
      "74 \t C4H8OOH2-4O2(229)\n",
      "33 \t CH3CHO(35)\n",
      "60 \t SC4H9O2H(187)\n",
      "98 \t CC=CCO[O](4244)\n",
      "39 \t C2H5O2H(48)\n",
      "45 \t CH3COCH2O2(72)\n",
      "22 \t HCO(19)\n",
      "37 \t CH3O2H(46)\n",
      "47 \t C2H3CHO(74)\n",
      "70 \t C4H8OOH1-3(219)\n",
      "27 \t CH2CO(24)\n",
      "73 \t C4H8OOH1-3O2(225)\n",
      "13 \t CH4(10)\n",
      "38 \t C2H5O2(47)\n",
      "35 \t HOCHO(40)\n",
      "72 \t C4H8OOH2-4(223)\n",
      "58 \t PC4H9O2(184)\n",
      "29 \t CH3OH(30)\n",
      "30 \t CH3O(31)\n"
     ]
    }
   ],
   "source": [
    "# print the top species\n",
    "for i in range(0, 50):\n",
    "    \n",
    "    index = most_sensitive_sp[i]\n",
    "    \n",
    "    print(index, '\\t', species_list[index])"
   ]
  },
  {
   "cell_type": "code",
   "execution_count": 17,
   "id": "c313b054",
   "metadata": {},
   "outputs": [
    {
     "name": "stdout",
     "output_type": "stream",
     "text": [
      "0 \t O2(2) + H(14) <=> O(5) + OH(15)\n",
      "78 \t O(5) + C2H2(25) <=> CO(6) + CH2(23)\n",
      "179 \t H(14) + HCO(19) <=> H2(13) + CO(6)\n",
      "199 \t CH3(18) + CH3(18) <=> H(14) + C2H5(33)\n",
      "113 \t OH(15) + HCO(19) <=> H2O(8) + CO(6)\n",
      "12 \t H2O(8) + H2O(8) <=> H(14) + OH(15) + H2O(8)\n",
      "121 \t O2(2) + H(14) + H2O(8) <=> HO2(16) + H2O(8)\n",
      "1262 \t HO2(16) + C4H71-3(190) <=> OH(15) + C4H7O(202)\n",
      "1263 \t CH3O2(45) + C4H71-3(190) <=> CH3O(31) + C4H7O(202)\n",
      "184 \t H(14) + CH2O(9) <=> H2(13) + HCO(19)\n",
      "2 \t OH(15) + H2(13) <=> H(14) + H2O(8)\n",
      "246 \t H(14) + butane(1) <=> H2(13) + SC4H9(183)\n",
      "697 \t H(14) + C4H71-3(190) <=> C4H8-1(188)\n",
      "180 \t H2(13) + CH(3) <=> H(14) + CH2(23)\n",
      "706 \t H(14) + C4H71-3(190) <=> C4H8-2(189)\n",
      "34 \t O(5) + C2H4(11) <=> CH2(23) + CH2O(9)\n",
      "185 \t O(5) + CH3(18) <=> H(14) + H2(13) + CO(6)\n",
      "116 \t OH(15) + CH3(18) <=> H2O(8) + CH2(23)\n",
      "556 \t OH(15) + C3H6(12) <=> H2O(8) + C3H5-A(94)\n",
      "558 \t H(14) + C3H6(12) <=> H2(13) + C3H5-A(94)\n",
      "65 \t O2(2) + C2H3(22) <=> O(5) + CH2CHO(21)\n",
      "136 \t O2(2) + C2H3(22) <=> HCO(19) + CH2O(9)\n",
      "15 \t H(14) + HO2(16) <=> OH(15) + OH(15)\n",
      "555 \t O(5) + C3H6(12) <=> OH(15) + C3H5-A(94)\n",
      "165 \t OH(15) + C2H4(11) <=> H2O(8) + C2H3(22)\n",
      "782 \t H(14) + C4H6(194) <=> C4H71-3(190)\n",
      "512 \t HO2(16) + CH3(18) <=> OH(15) + CH3O(31)\n",
      "570 \t H(14) + C4H8O1-3(214) => H2(13) + CH2O(9) + C3H5-A(94)\n",
      "449 \t C4H8OOH1-3(219) <=> OH(15) + C4H8O1-3(214)\n",
      "118 \t OH(15) + C2H3(22) <=> H2O(8) + C2H2(25)\n",
      "312 \t H(14) + C4H8-1(188) <=> SC4H9(183)\n",
      "24 \t H(14) + HO2(16) <=> O(5) + H2O(8)\n",
      "123 \t OH(15) + CH2(23) <=> H(14) + CH2O(9)\n",
      "14 \t H(14) + HO2(16) <=> O2(2) + H2(13)\n",
      "88 \t O(5) + C2H3(22) <=> CO(6) + CH3(18)\n",
      "64 \t O(5) + C2H3(22) <=> H(14) + CH2CO(24)\n",
      "785 \t H(14) + C4H71-3(190) <=> H2(13) + C4H6(194)\n",
      "106 \t O(5) + CH2CHO(21) <=> H(14) + CO2(7) + CH2(23)\n",
      "999 \t C2H3(22) + C2H4(11) <=> C4H71-4(191)\n",
      "17 \t OH(15) + HO2(16) <=> O2(2) + H2O(8)\n",
      "51 \t O2(2) + CH2(23) <=> OH(15) + HCO(19)\n",
      "247 \t OH(15) + butane(1) <=> H2O(8) + SC4H9(183)\n",
      "287 \t H(14) + butane(1) <=> H2(13) + PC4H9(182)\n",
      "277 \t H(14) + C4H8-2(189) <=> SC4H9(183)\n",
      "1201 \t O(5) + C3H5-A(94) <=> H(14) + C2H3CHO(74)\n",
      "182 \t H2(13) + CH2(23) <=> H(14) + CH3(18)\n",
      "194 \t O(5) + CH2(23) <=> H2(13) + CO(6)\n",
      "1245 \t O(5) + C2H3(22) <=> OH(15) + C2H2(25)\n",
      "92 \t O2(2) + C2H(4) <=> H(14) + CO(6) + CO(6)\n",
      "159 \t CH3(18) + C2H3(22) <=> CH4(10) + C2H2(25)\n"
     ]
    }
   ],
   "source": [
    "# print the top reactions\n",
    "for i in range(0, 50):\n",
    "    \n",
    "    \n",
    "    index = most_sensitive_rxn[i]\n",
    "    \n",
    "    print(index, '\\t', reaction_list[index])\n",
    "    \n",
    "#     if index > len(reaction_list):\n",
    "#         index = index - len(reaction_list)\n",
    "#         print(index, '\\t', species_list[index])\n",
    "#     else:\n",
    "#         try:\n",
    "#             if reaction_list[index].family != 'H_Abstraction' and \\\n",
    "#                 reaction_list[index].family != 'Disproportionation' and \\\n",
    "#                 reaction_list[index].family != 'intra_H_migration' and \\\n",
    "#                 reaction_list[index].family != 'R_Addition_MultipleBond':\n",
    "#                 continue\n",
    "#             print(index, '\\t', reaction_list[index], '\\t', reaction_list[index].family)\n",
    "#         except AttributeError:\n",
    "#             continue\n",
    "#             print(index, '\\t', reaction_list[index], '\\t', 'PDEP')"
   ]
  },
  {
   "cell_type": "code",
   "execution_count": null,
   "id": "4257b606",
   "metadata": {},
   "outputs": [],
   "source": []
  }
 ],
 "metadata": {
  "kernelspec": {
   "display_name": "Python 3 (ipykernel)",
   "language": "python",
   "name": "python3"
  },
  "language_info": {
   "codemirror_mode": {
    "name": "ipython",
    "version": 3
   },
   "file_extension": ".py",
   "mimetype": "text/x-python",
   "name": "python",
   "nbconvert_exporter": "python",
   "pygments_lexer": "ipython3",
   "version": "3.7.12"
  }
 },
 "nbformat": 4,
 "nbformat_minor": 5
}
