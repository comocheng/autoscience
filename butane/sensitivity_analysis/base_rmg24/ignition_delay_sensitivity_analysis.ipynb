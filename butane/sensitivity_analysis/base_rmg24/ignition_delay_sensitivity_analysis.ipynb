{
 "cells": [
  {
   "cell_type": "code",
   "execution_count": 1,
   "id": "7a483e87",
   "metadata": {},
   "outputs": [],
   "source": [
    "import os\n",
    "import sys\n",
    "import copy\n",
    "import pickle\n",
    "import concurrent.futures\n",
    "import numpy as np\n",
    "import pandas as pd\n",
    "\n",
    "import cantera as ct\n",
    "import rmgpy.chemkin\n",
    "\n",
    "sys.path.append('/work/westgroup/harris.se/autoscience/autoscience_workflow/workflow/scripts/kinetics')\n",
    "import kineticfun\n",
    "\n",
    "\n",
    "import matplotlib.pyplot as plt\n",
    "%matplotlib inline"
   ]
  },
  {
   "cell_type": "code",
   "execution_count": 2,
   "id": "04a14534",
   "metadata": {},
   "outputs": [
    {
     "name": "stderr",
     "output_type": "stream",
     "text": [
      "1556030143.py:7 <module> INFO Thermo file has default temperature range 300.0 to 1000.0 and 1000.0 to 5000.0\n"
     ]
    },
    {
     "name": "stdout",
     "output_type": "stream",
     "text": [
      "1822 reactions and 110 species\n"
     ]
    }
   ],
   "source": [
    "# Load the base model\n",
    "basedir = '/work/westgroup/harris.se/autoscience/autoscience/butane/sensitivity_analysis/base_rmg24'\n",
    "\n",
    "base_chemkin = os.path.join(basedir, 'chem_annotated.inp')\n",
    "dictionary = os.path.join(basedir, 'species_dictionary.txt')\n",
    "transport = os.path.join(basedir, 'tran.dat')\n",
    "species_list, reaction_list = rmgpy.chemkin.load_chemkin_file(base_chemkin, dictionary_path=dictionary, transport_path=transport)\n",
    "print(f'{len(reaction_list)} reactions and {len(species_list)} species')"
   ]
  },
  {
   "cell_type": "code",
   "execution_count": 3,
   "id": "895b8bd4",
   "metadata": {},
   "outputs": [],
   "source": [
    "base_delay = 0.14857535"
   ]
  },
  {
   "cell_type": "code",
   "execution_count": 4,
   "id": "0ff39098",
   "metadata": {},
   "outputs": [],
   "source": [
    "ignition_delay_rxns = base_delay * np.ones(len(reaction_list))\n",
    "ignition_delay_sp = base_delay * np.ones(len(species_list))"
   ]
  },
  {
   "cell_type": "code",
   "execution_count": 5,
   "id": "c9afdc85",
   "metadata": {},
   "outputs": [],
   "source": [
    "# load individual ignition delay files\n",
    "results_dir = '/work/westgroup/harris.se/autoscience/autoscience/butane/sensitivity_analysis/base_rmg24/models/reactions'\n",
    "for i in range(0, len(reaction_list)):\n",
    "    result_file = os.path.join(results_dir, f'delay_{i:04}.txt')\n",
    "    if not os.path.exists(result_file):\n",
    "        continue\n",
    "    with open(result_file, 'r') as f:\n",
    "        result = f.read()\n",
    "        try:\n",
    "            ignition_delay_rxns[i] = result\n",
    "        except ValueError:\n",
    "            continue\n",
    "            \n",
    "results_dir = '/work/westgroup/harris.se/autoscience/autoscience/butane/sensitivity_analysis/base_rmg24/models/species'\n",
    "for i in range(0, len(species_list)):\n",
    "    result_file = os.path.join(results_dir, f'delay_{i:04}.txt')\n",
    "    if not os.path.exists(result_file):\n",
    "        continue\n",
    "    with open(result_file, 'r') as f:\n",
    "        result = f.read()\n",
    "        try:\n",
    "            ignition_delay_sp[i] = result\n",
    "        except ValueError:\n",
    "            continue\n",
    "\n",
    "rxn_df = pd.DataFrame(ignition_delay_rxns, columns=['delay'])\n",
    "rxn_df.to_csv(os.path.join(results_dir, 'reaction_delays.csv'))\n",
    "species_df = pd.DataFrame(ignition_delay_sp, columns=['delay'])\n",
    "species_df.to_csv(os.path.join(results_dir, 'species_delays.csv'))\n",
    "\n",
    "# results_dir = '.'\n",
    "# rxn_df = pd.read_csv(os.path.join(results_dir, 'reaction_delays.csv'))\n",
    "# species_df = pd.read_csv(os.path.join(results_dir, 'species_delays.csv'))\n",
    "# ignition_delay_rxns = rxn_df['delay'].values\n",
    "# ignition_delay_sp = species_df['delay'].values"
   ]
  },
  {
   "cell_type": "code",
   "execution_count": 6,
   "id": "84d31d13",
   "metadata": {},
   "outputs": [
    {
     "data": {
      "text/plain": [
       "0.12905077586632863"
      ]
     },
     "execution_count": 6,
     "metadata": {},
     "output_type": "execute_result"
    }
   ],
   "source": [
    "ignition_delay_rxns[288]"
   ]
  },
  {
   "cell_type": "code",
   "execution_count": 7,
   "id": "0faf9b51",
   "metadata": {},
   "outputs": [
    {
     "data": {
      "text/plain": [
       "0.14856756683843467"
      ]
     },
     "execution_count": 7,
     "metadata": {},
     "output_type": "execute_result"
    }
   ],
   "source": [
    "np.average(ignition_delay_rxns)"
   ]
  },
  {
   "cell_type": "code",
   "execution_count": 8,
   "id": "49c973ca",
   "metadata": {},
   "outputs": [
    {
     "data": {
      "text/plain": [
       "0.17446256129346216"
      ]
     },
     "execution_count": 8,
     "metadata": {},
     "output_type": "execute_result"
    }
   ],
   "source": [
    "ignition_delay_sp[85]"
   ]
  },
  {
   "cell_type": "code",
   "execution_count": 9,
   "id": "9c254a92",
   "metadata": {},
   "outputs": [
    {
     "data": {
      "text/plain": [
       "0.149834571732"
      ]
     },
     "execution_count": 9,
     "metadata": {},
     "output_type": "execute_result"
    }
   ],
   "source": [
    "np.average(ignition_delay_sp)"
   ]
  },
  {
   "cell_type": "code",
   "execution_count": 10,
   "id": "15c2b0a8",
   "metadata": {},
   "outputs": [],
   "source": [
    "# sort the reaction list by difference in delay\n",
    "order_rxn = np.arange(0, len(ignition_delay_rxns))\n",
    "fs_diff_rxn = np.abs(ignition_delay_rxns - base_delay)\n",
    "most_sensitive_rxn = [x for _, x in sorted(zip(fs_diff_rxn, order_rxn))][::-1]\n",
    "\n",
    "\n",
    "order_sp = np.arange(0, len(ignition_delay_sp))\n",
    "fs_diff = np.abs(ignition_delay_sp - base_delay)\n",
    "most_sensitive_sp = [x for _, x in sorted(zip(fs_diff, order_sp))][::-1]"
   ]
  },
  {
   "cell_type": "code",
   "execution_count": 12,
   "id": "973cdd68",
   "metadata": {},
   "outputs": [
    {
     "data": {
      "text/plain": [
       "[59,\n",
       " 58,\n",
       " 73,\n",
       " 72,\n",
       " 74,\n",
       " 85,\n",
       " 46,\n",
       " 5,\n",
       " 32,\n",
       " 21,\n",
       " 11,\n",
       " 57,\n",
       " 37,\n",
       " 4,\n",
       " 56,\n",
       " 45,\n",
       " 17,\n",
       " 60,\n",
       " 87,\n",
       " 50,\n",
       " 38,\n",
       " 13,\n",
       " 43,\n",
       " 63,\n",
       " 12,\n",
       " 70,\n",
       " 20,\n",
       " 39,\n",
       " 29,\n",
       " 9,\n",
       " 69,\n",
       " 25,\n",
       " 18,\n",
       " 22,\n",
       " 30,\n",
       " 62,\n",
       " 27,\n",
       " 36,\n",
       " 68,\n",
       " 15,\n",
       " 61,\n",
       " 31,\n",
       " 42,\n",
       " 35,\n",
       " 84,\n",
       " 23,\n",
       " 14,\n",
       " 66,\n",
       " 19,\n",
       " 105,\n",
       " 47,\n",
       " 10,\n",
       " 103,\n",
       " 90,\n",
       " 54,\n",
       " 65,\n",
       " 51,\n",
       " 55,\n",
       " 16,\n",
       " 28,\n",
       " 26,\n",
       " 64,\n",
       " 33,\n",
       " 24,\n",
       " 102,\n",
       " 76,\n",
       " 48,\n",
       " 67,\n",
       " 109,\n",
       " 41,\n",
       " 95,\n",
       " 52,\n",
       " 40,\n",
       " 99,\n",
       " 104,\n",
       " 75,\n",
       " 8,\n",
       " 107,\n",
       " 83,\n",
       " 92,\n",
       " 53,\n",
       " 34,\n",
       " 49,\n",
       " 98,\n",
       " 71,\n",
       " 80,\n",
       " 77,\n",
       " 7,\n",
       " 100,\n",
       " 78,\n",
       " 97,\n",
       " 88,\n",
       " 81,\n",
       " 6,\n",
       " 101,\n",
       " 94,\n",
       " 79,\n",
       " 106,\n",
       " 86,\n",
       " 44,\n",
       " 108,\n",
       " 91,\n",
       " 1,\n",
       " 82,\n",
       " 3,\n",
       " 2,\n",
       " 0,\n",
       " 96,\n",
       " 93,\n",
       " 89]"
      ]
     },
     "execution_count": 12,
     "metadata": {},
     "output_type": "execute_result"
    }
   ],
   "source": [
    "most_sensitive_sp"
   ]
  },
  {
   "cell_type": "code",
   "execution_count": 21,
   "id": "4a49fe90",
   "metadata": {},
   "outputs": [],
   "source": [
    "# save the reaction sensitivity results\n",
    "len(fs_diff_rxn)\n",
    "np.save('reaction_ignition_delay.npy', fs_diff_rxn)"
   ]
  },
  {
   "cell_type": "code",
   "execution_count": 13,
   "id": "d76c341a",
   "metadata": {},
   "outputs": [],
   "source": [
    "# save the species sensitivity results\n",
    "len(fs_diff)\n",
    "np.save('species_ignition_delay.npy', fs_diff)"
   ]
  },
  {
   "cell_type": "code",
   "execution_count": 11,
   "id": "0192cb26",
   "metadata": {},
   "outputs": [
    {
     "data": {
      "text/plain": [
       "NASA(polynomials=[NASAPolynomial(coeffs=[3.61263,-0.00100893,2.49898e-06,-1.43375e-09,2.58634e-13,-1051.1,2.65271], Tmin=(100,'K'), Tmax=(1817.05,'K')), NASAPolynomial(coeffs=[2.97593,0.00164137,-7.19704e-07,1.25374e-10,-7.915e-15,-1025.86,5.53741], Tmin=(1817.05,'K'), Tmax=(5000,'K'))], Tmin=(100,'K'), Tmax=(5000,'K'), comment=\"\"\"Thermo library: BurkeH2O2\"\"\")"
      ]
     },
     "execution_count": 11,
     "metadata": {},
     "output_type": "execute_result"
    }
   ],
   "source": [
    "species_list[0].thermo"
   ]
  },
  {
   "cell_type": "code",
   "execution_count": 12,
   "id": "eecf4f11",
   "metadata": {
    "scrolled": true
   },
   "outputs": [
    {
     "name": "stdout",
     "output_type": "stream",
     "text": [
      "Rank\tIndex\tSource\t\tSpecies\n",
      "0 \t 59 \t library \t CCC(C)O[O]\n",
      "1 \t 58 \t library \t CCCCO[O]\n",
      "2 \t 73 \t library \t CC(CCOO)O[O]\n",
      "3 \t 72 \t library \t [CH2]CC(C)OO\n",
      "4 \t 74 \t library \t CC(CCO[O])OO\n",
      "5 \t 85 \t GAV     \t CC(CCOO)OO\n",
      "6 \t 46 \t library \t CC(=O)COO\n",
      "7 \t 5 \t library \t [O][O]\n",
      "8 \t 32 \t library \t C[CH2]\n",
      "9 \t 21 \t library \t [CH3]\n",
      "10 \t 11 \t library \t O\n",
      "11 \t 57 \t library \t C[CH]CC\n",
      "12 \t 37 \t library \t COO\n",
      "13 \t 4 \t library \t CCCC\n",
      "14 \t 56 \t library \t [CH2]CCC\n",
      "15 \t 45 \t library \t CC(=O)CO[O]\n",
      "16 \t 17 \t library \t [H]\n",
      "17 \t 60 \t library \t CCC(C)OO\n",
      "18 \t 87 \t library \t [CH2]C(=O)COO\n",
      "19 \t 50 \t library \t [CH2]C=C\n",
      "20 \t 38 \t library \t CCO[O]\n",
      "21 \t 13 \t library \t C\n",
      "22 \t 43 \t library \t [CH2]C(C)=O\n",
      "23 \t 63 \t library \t C=C[CH]C\n",
      "24 \t 12 \t library \t C=O\n",
      "25 \t 70 \t library \t C[CH]CCOO\n",
      "26 \t 20 \t library \t OO\n",
      "27 \t 39 \t library \t CCOO\n",
      "28 \t 29 \t library \t CO\n",
      "29 \t 9 \t library \t [C-]#[O+]\n",
      "30 \t 69 \t library \t CCC(C)[O]\n",
      "31 \t 25 \t library \t [CH]=C\n",
      "32 \t 18 \t library \t [OH]\n",
      "33 \t 22 \t library \t [CH]=O\n",
      "34 \t 30 \t library \t C[O]\n",
      "35 \t 62 \t library \t CC=CC\n",
      "36 \t 27 \t library \t C=C=O\n",
      "37 \t 36 \t library \t CO[O]\n",
      "38 \t 68 \t library \t CC1CCO1\n",
      "39 \t 15 \t library \t C=CC\n",
      "40 \t 61 \t library \t C=CCC\n",
      "41 \t 31 \t library \t CC\n",
      "42 \t 42 \t library \t [O]OCC=O\n",
      "43 \t 35 \t library \t O=CO\n",
      "44 \t 84 \t GAV     \t CC(CC[O])OO\n",
      "45 \t 23 \t library \t C[C]=O\n",
      "46 \t 14 \t library \t C=C\n",
      "47 \t 66 \t library \t C=CC=C\n",
      "48 \t 19 \t library \t [O]O\n",
      "49 \t 105 \t GAV     \t [CH]1CCOOC1\n"
     ]
    }
   ],
   "source": [
    "# print the top species\n",
    "print('Rank\\tIndex\\tSource\\t\\tSpecies')\n",
    "for i in range(0, 50):\n",
    "    index = most_sensitive_sp[i]\n",
    "    source = 'library'\n",
    "    if 'library' not in species_list[index].thermo.comment.lower():\n",
    "        source = 'GAV    '\n",
    "#     print(i, '\\t', index, '\\t', source, '\\t', np.round(ignition_delay_sp[index] - base_delay, 6),'\\t', species_list[index])\n",
    "    print(i, '\\t', index, '\\t', source, '\\t', species_list[index].smiles)"
   ]
  },
  {
   "cell_type": "code",
   "execution_count": 13,
   "id": "c313b054",
   "metadata": {},
   "outputs": [
    {
     "name": "stdout",
     "output_type": "stream",
     "text": [
      "Rank\tIndex\tFamily\t\tReaction\n",
      "0 \t 288 \t CurranPentane \t OH(15) + butane(1) <=> H2O(8) + PC4H9(182) \t\n",
      "1 \t 247 \t CurranPentane \t OH(15) + butane(1) <=> H2O(8) + SC4H9(183) \t\n",
      "2 \t 279 \t CurranPentane \t SC4H9O2(186) <=> HO2(16) + C4H8-2(189) \t\n",
      "3 \t 323 \t CurranPentane \t O2(2) + C4H8OOH1-3(219) <=> C4H8OOH1-3O2(225) \t\n",
      "4 \t 281 \t CurranPentane \t O2(2) + C4H8OOH2-4(223) <=> C4H8OOH2-4O2(229) \t\n",
      "5 \t 316 \t CurranPentane \t PC4H9O2(184) <=> HO2(16) + C4H8-1(188) \t\n",
      "6 \t 249 \t CurranPentane \t HO2(16) + butane(1) <=> H2O2(17) + SC4H9(183) \t\n",
      "7 \t 449 \t CurranPentane \t C4H8OOH1-3(219) <=> OH(15) + C4H8O1-3(214) \t\n",
      "8 \t 317 \t CurranPentane \t SC4H9O2(186) <=> HO2(16) + C4H8-1(188) \t\n",
      "9 \t 326 \t CurranPentane \t C4H8OOH1-3O2(225) <=> C4H71-1,3OOH(238) \t\n",
      "10 \t 290 \t CurranPentane \t HO2(16) + butane(1) <=> H2O2(17) + PC4H9(182) \t\n",
      "11 \t 282 \t CurranPentane \t C4H8OOH2-4O2(229) <=> C4H72-2,4OOH(244) \t\n",
      "12 \t 1701 \t CurranPentane \t SC4H9O2(186) + butane(1) <=> SC4H9(183) + SC4H9O2H(187) \t\n",
      "13 \t 354 \t FFCM1(-) \t HO2(16) + CH3CHO(35) <=> H2O2(17) + CH3CO(20) \t\n",
      "14 \t 450 \t CurranPentane \t C4H8OOH2-4(223) <=> OH(15) + C4H8O1-3(214) \t\n",
      "15 \t 306 \t CurranPentane \t C4H8OOH1-3(219) => OH(15) + CH2O(9) + C3H6(12) \t\n",
      "16 \t 305 \t CurranPentane \t PC4H9O2(184) <=> C4H8OOH1-3(219) \t\n",
      "17 \t 129 \t FFCM1(-) \t HO2(16) + CH2O(9) <=> H2O2(17) + HCO(19) \t\n",
      "18 \t 127 \t FFCM1(-) \t OH(15) + CH2O(9) <=> H2O(8) + HCO(19) \t\n",
      "19 \t 1700 \t CurranPentane \t SC4H9O2(186) + butane(1) <=> PC4H9(182) + SC4H9O2H(187) \t\n",
      "20 \t 363 \t CurranPentane \t C4H8OOH2-4(223) => OH(15) + C2H4(11) + CH3CHO(35) \t\n",
      "21 \t 1262 \t CurranPentane \t HO2(16) + C4H71-3(190) <=> OH(15) + C4H7O(202) \t\n",
      "22 \t 203 \t FFCM1(-) \t O2(2) + C2H5(33) <=> HO2(16) + C2H4(11) \t\n",
      "23 \t 303 \t CurranPentane \t O2(2) + PC4H9(182) <=> PC4H9O2(184) \t\n",
      "24 \t 1646 \t CurranPentane \t C2H5O2(47) + butane(1) <=> C2H5O2H(48) + SC4H9(183) \t\n",
      "25 \t 1085 \t CurranPentane \t CH3O2(45) + butane(1) <=> CH3O2H(46) + SC4H9(183) \t\n",
      "26 \t 784 \t CurranPentane \t O2(2) + C4H71-3(190) <=> HO2(16) + C4H6(194) \t\n",
      "27 \t 287 \t CurranPentane \t H(14) + butane(1) <=> H2(13) + PC4H9(182) \t\n",
      "28 \t 1472 \t CurranPentane \t HO2(16) + CH3COCH2(70) <=> OH(15) + CH3COCH2O(71) \t\n",
      "29 \t 151 \t FFCM1(-) \t HO2(16) + CH3(18) <=> O2(2) + CH4(10) \t\n",
      "30 \t 1712 \t CurranPentane \t H2O2(17) + SC4H9O2(186) <=> HO2(16) + SC4H9O2H(187) \t\n",
      "31 \t 263 \t CurranPentane \t SC4H9O2(186) <=> C4H8OOH2-4(223) \t\n",
      "32 \t 1081 \t CurranPentane \t CH3O2(45) + CH3CHO(35) <=> CH3O2H(46) + CH3CO(20) \t\n",
      "33 \t 245 \t CurranPentane \t CH3(18) + butane(1) <=> CH4(10) + SC4H9(183) \t\n",
      "34 \t 512 \t FFCM1(-) \t HO2(16) + CH3(18) <=> OH(15) + CH3O(31) \t\n",
      "35 \t 364 \t CurranPentane \t NC4KET13(252) => OH(15) + CH2CHO(21) + CH3CHO(35) \t\n",
      "36 \t 609 \t CurranPentane \t HO2(16) + SC4H9(183) <=> OH(15) + SC4H9O(217) \t\n",
      "37 \t 260 \t CurranPentane \t O2(2) + SC4H9(183) <=> SC4H9O2(186) \t\n",
      "38 \t 156 \t FFCM1(-) \t HO2(16) + CH4(10) <=> H2O2(17) + CH3(18) \t\n",
      "39 \t 1093 \t Klippenstein_Glarborg2016 \t HO2(16) + CH3O2H(46) <=> H2O2(17) + CH3O2(45) \t\n",
      "40 \t 572 \t CurranPentane \t HO2(16) + C4H8O1-3(214) => H2O2(17) + CH2O(9) + C3H5-A(94) \t\n",
      "41 \t 17 \t BurkeH2O2inN2 \t OH(15) + HO2(16) <=> O2(2) + H2O(8) \t\n",
      "42 \t 352 \t FFCM1(-) \t OH(15) + CH3CHO(35) <=> H2O(8) + CH3CO(20) \t\n",
      "43 \t 522 \t CurranPentane \t CH3(18) + CH3O2(45) <=> CH3O(31) + CH3O(31) \t\n",
      "44 \t 65 \t FFCM1(-) \t O2(2) + C2H3(22) <=> O(5) + CH2CHO(21) \t\n",
      "45 \t 1075 \t CurranPentane \t CH2O(9) + CH3O2(45) <=> HCO(19) + CH3O2H(46) \t\n",
      "46 \t 1645 \t CurranPentane \t C2H5O2(47) + butane(1) <=> C2H5O2H(48) + PC4H9(182) \t\n",
      "47 \t 0 \t BurkeH2O2inN2 \t O2(2) + H(14) <=> O(5) + OH(15) \t\n",
      "48 \t 518 \t FFCM1(-) \t O2(2) + CH3O(31) <=> HO2(16) + CH2O(9) \t\n",
      "49 \t 1084 \t CurranPentane \t CH3O2(45) + butane(1) <=> CH3O2H(46) + PC4H9(182) \t\n"
     ]
    }
   ],
   "source": [
    "# print the top reactions\n",
    "print('Rank\\tIndex\\tFamily\\t\\tReaction')\n",
    "for i in range(0, 50):\n",
    "\n",
    "    index = most_sensitive_rxn[i]\n",
    "#     print(index, '\\t', reaction_list[index])\n",
    "    try:\n",
    "#         if reaction_list[index].family != 'H_Abstraction' and \\\n",
    "#             reaction_list[index].family != 'Disproportionation' and \\\n",
    "#             reaction_list[index].family != 'intra_H_migration' and \\\n",
    "#             reaction_list[index].family != 'R_Addition_MultipleBond':\n",
    "#             continue\n",
    "        print(i,'\\t', index, '\\t', reaction_list[index].family, '\\t', reaction_list[index], '\\t')\n",
    "    except AttributeError:\n",
    "        continue\n",
    "        print(i,'\\t', index, '\\t', 'PDEP', '\\t', reaction_list[index], '\\t')"
   ]
  },
  {
   "cell_type": "code",
   "execution_count": 20,
   "id": "d953d45a",
   "metadata": {},
   "outputs": [],
   "source": [
    "covariance_file = '/work/westgroup/harris.se/autoscience/autoscience/uncertainty/butane_covariance.pickle'\n",
    "with open(covariance_file, 'rb') as handle:\n",
    "    Sigma_k = pickle.load(handle)"
   ]
  },
  {
   "cell_type": "code",
   "execution_count": 26,
   "id": "4257b606",
   "metadata": {},
   "outputs": [],
   "source": [
    "# sort the reaction list by uncertainty * sensitivity\n",
    "order_rxn_importance = np.arange(0, len(ignition_delay_rxns))\n",
    "delay_diff = np.multiply(np.abs(ignition_delay_rxns - base_delay), np.diagonal(Sigma_k))\n",
    "most_important_rxn = [x for _, x in sorted(zip(delay_diff, order_rxn_importance))][::-1]\n"
   ]
  },
  {
   "cell_type": "code",
   "execution_count": 27,
   "id": "551f06ea",
   "metadata": {
    "scrolled": false
   },
   "outputs": [
    {
     "name": "stdout",
     "output_type": "stream",
     "text": [
      "Rank\tIndex\tFamily\t\tReaction\n",
      "0 \t 288 \t CurranPentane \t OH(15) + butane(1) <=> H2O(8) + PC4H9(182) \t\n",
      "1 \t 247 \t CurranPentane \t OH(15) + butane(1) <=> H2O(8) + SC4H9(183) \t\n",
      "2 \t 279 \t CurranPentane \t SC4H9O2(186) <=> HO2(16) + C4H8-2(189) \t\n",
      "3 \t 323 \t CurranPentane \t O2(2) + C4H8OOH1-3(219) <=> C4H8OOH1-3O2(225) \t\n",
      "4 \t 281 \t CurranPentane \t O2(2) + C4H8OOH2-4(223) <=> C4H8OOH2-4O2(229) \t\n",
      "5 \t 316 \t CurranPentane \t PC4H9O2(184) <=> HO2(16) + C4H8-1(188) \t\n",
      "6 \t 249 \t CurranPentane \t HO2(16) + butane(1) <=> H2O2(17) + SC4H9(183) \t\n",
      "7 \t 449 \t CurranPentane \t C4H8OOH1-3(219) <=> OH(15) + C4H8O1-3(214) \t\n",
      "8 \t 317 \t CurranPentane \t SC4H9O2(186) <=> HO2(16) + C4H8-1(188) \t\n",
      "9 \t 326 \t CurranPentane \t C4H8OOH1-3O2(225) <=> C4H71-1,3OOH(238) \t\n",
      "10 \t 290 \t CurranPentane \t HO2(16) + butane(1) <=> H2O2(17) + PC4H9(182) \t\n",
      "11 \t 282 \t CurranPentane \t C4H8OOH2-4O2(229) <=> C4H72-2,4OOH(244) \t\n",
      "12 \t 1701 \t CurranPentane \t SC4H9O2(186) + butane(1) <=> SC4H9(183) + SC4H9O2H(187) \t\n",
      "13 \t 354 \t FFCM1(-) \t HO2(16) + CH3CHO(35) <=> H2O2(17) + CH3CO(20) \t\n",
      "14 \t 450 \t CurranPentane \t C4H8OOH2-4(223) <=> OH(15) + C4H8O1-3(214) \t\n",
      "15 \t 306 \t CurranPentane \t C4H8OOH1-3(219) => OH(15) + CH2O(9) + C3H6(12) \t\n",
      "16 \t 305 \t CurranPentane \t PC4H9O2(184) <=> C4H8OOH1-3(219) \t\n",
      "17 \t 129 \t FFCM1(-) \t HO2(16) + CH2O(9) <=> H2O2(17) + HCO(19) \t\n",
      "18 \t 127 \t FFCM1(-) \t OH(15) + CH2O(9) <=> H2O(8) + HCO(19) \t\n",
      "19 \t 1700 \t CurranPentane \t SC4H9O2(186) + butane(1) <=> PC4H9(182) + SC4H9O2H(187) \t\n",
      "20 \t 363 \t CurranPentane \t C4H8OOH2-4(223) => OH(15) + C2H4(11) + CH3CHO(35) \t\n",
      "21 \t 324 \t intra_H_migration \t C4H8OOH2-4O2(229) <=> C4H8OOH1-3O2(225) \t\n",
      "22 \t 1262 \t CurranPentane \t HO2(16) + C4H71-3(190) <=> OH(15) + C4H7O(202) \t\n",
      "23 \t 203 \t FFCM1(-) \t O2(2) + C2H5(33) <=> HO2(16) + C2H4(11) \t\n",
      "24 \t 303 \t CurranPentane \t O2(2) + PC4H9(182) <=> PC4H9O2(184) \t\n",
      "25 \t 1646 \t CurranPentane \t C2H5O2(47) + butane(1) <=> C2H5O2H(48) + SC4H9(183) \t\n",
      "26 \t 1085 \t CurranPentane \t CH3O2(45) + butane(1) <=> CH3O2H(46) + SC4H9(183) \t\n",
      "27 \t 784 \t CurranPentane \t O2(2) + C4H71-3(190) <=> HO2(16) + C4H6(194) \t\n",
      "28 \t 915 \t Disproportionation \t O2(2) + CC(CC[O])OO(777) <=> HO2(16) + NC4KET13(252) \t\n",
      "29 \t 287 \t CurranPentane \t H(14) + butane(1) <=> H2(13) + PC4H9(182) \t\n",
      "30 \t 1472 \t CurranPentane \t HO2(16) + CH3COCH2(70) <=> OH(15) + CH3COCH2O(71) \t\n",
      "31 \t 151 \t FFCM1(-) \t HO2(16) + CH3(18) <=> O2(2) + CH4(10) \t\n",
      "32 \t 1712 \t CurranPentane \t H2O2(17) + SC4H9O2(186) <=> HO2(16) + SC4H9O2H(187) \t\n",
      "33 \t 748 \t H_Abstraction \t HCO(19) + C4H8-2(189) <=> CH2O(9) + C4H71-3(190) \t\n",
      "34 \t 263 \t CurranPentane \t SC4H9O2(186) <=> C4H8OOH2-4(223) \t\n",
      "35 \t 1081 \t CurranPentane \t CH3O2(45) + CH3CHO(35) <=> CH3O2H(46) + CH3CO(20) \t\n",
      "36 \t 1287 \t H_Abstraction \t C3KET21(73) + SC4H9(183) <=> CH3COCH2O2(72) + butane(1) \t\n",
      "37 \t 245 \t CurranPentane \t CH3(18) + butane(1) <=> CH4(10) + SC4H9(183) \t\n",
      "38 \t 749 \t H_Abstraction \t HCO(19) + C4H8-1(188) <=> CH2O(9) + C4H71-3(190) \t\n",
      "39 \t 512 \t FFCM1(-) \t HO2(16) + CH3(18) <=> OH(15) + CH3O(31) \t\n",
      "40 \t 364 \t CurranPentane \t NC4KET13(252) => OH(15) + CH2CHO(21) + CH3CHO(35) \t\n",
      "41 \t 609 \t CurranPentane \t HO2(16) + SC4H9(183) <=> OH(15) + SC4H9O(217) \t\n",
      "42 \t 260 \t CurranPentane \t O2(2) + SC4H9(183) <=> SC4H9O2(186) \t\n",
      "43 \t 156 \t FFCM1(-) \t HO2(16) + CH4(10) <=> H2O2(17) + CH3(18) \t\n",
      "44 \t 809 \t H_Abstraction \t PC4H9(182) + CC(CCOO)OO(787) <=> C4H8OOH1-3O2(225) + butane(1) \t\n",
      "45 \t 1093 \t Klippenstein_Glarborg2016 \t HO2(16) + CH3O2H(46) <=> H2O2(17) + CH3O2(45) \t\n",
      "46 \t 572 \t CurranPentane \t HO2(16) + C4H8O1-3(214) => H2O2(17) + CH2O(9) + C3H5-A(94) \t\n",
      "47 \t 17 \t BurkeH2O2inN2 \t OH(15) + HO2(16) <=> O2(2) + H2O(8) \t\n",
      "48 \t 352 \t FFCM1(-) \t OH(15) + CH3CHO(35) <=> H2O(8) + CH3CO(20) \t\n",
      "49 \t 522 \t CurranPentane \t CH3(18) + CH3O2(45) <=> CH3O(31) + CH3O(31) \t\n"
     ]
    }
   ],
   "source": [
    "# print the top reactions by importance: uncertainty*sensitivity\n",
    "print('Rank\\tIndex\\tFamily\\t\\tReaction')\n",
    "for i in range(0, 50):\n",
    "\n",
    "    index = most_important_rxn[i]\n",
    "#     print(index, '\\t', reaction_list[index])\n",
    "    try:\n",
    "#         if reaction_list[index].family != 'H_Abstraction' and \\\n",
    "#             reaction_list[index].family != 'Disproportionation' and \\\n",
    "#             reaction_list[index].family != 'intra_H_migration' and \\\n",
    "#             reaction_list[index].family != 'R_Addition_MultipleBond':\n",
    "#             continue\n",
    "        print(i,'\\t', index, '\\t', reaction_list[index].family, '\\t', reaction_list[index], '\\t')\n",
    "    except AttributeError:\n",
    "        continue\n",
    "        print(i,'\\t', index, '\\t', 'PDEP', '\\t', reaction_list[index], '\\t')"
   ]
  },
  {
   "cell_type": "code",
   "execution_count": null,
   "id": "d75504af",
   "metadata": {},
   "outputs": [],
   "source": []
  }
 ],
 "metadata": {
  "kernelspec": {
   "display_name": "Python 3 (ipykernel)",
   "language": "python",
   "name": "python3"
  },
  "language_info": {
   "codemirror_mode": {
    "name": "ipython",
    "version": 3
   },
   "file_extension": ".py",
   "mimetype": "text/x-python",
   "name": "python",
   "nbconvert_exporter": "python",
   "pygments_lexer": "ipython3",
   "version": "3.7.12"
  }
 },
 "nbformat": 4,
 "nbformat_minor": 5
}
