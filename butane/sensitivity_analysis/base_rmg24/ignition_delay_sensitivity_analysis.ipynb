{
 "cells": [
  {
   "cell_type": "code",
   "execution_count": 1,
   "id": "7a483e87",
   "metadata": {},
   "outputs": [],
   "source": [
    "import os\n",
    "import sys\n",
    "import copy\n",
    "import pickle\n",
    "import concurrent.futures\n",
    "import numpy as np\n",
    "import pandas as pd\n",
    "\n",
    "import cantera as ct\n",
    "import rmgpy.chemkin\n",
    "\n",
    "sys.path.append('/work/westgroup/harris.se/autoscience/autoscience_workflow/workflow/scripts/kinetics')\n",
    "import kineticfun\n",
    "\n",
    "\n",
    "import matplotlib.pyplot as plt\n",
    "%matplotlib inline"
   ]
  },
  {
   "cell_type": "code",
   "execution_count": 2,
   "id": "04a14534",
   "metadata": {},
   "outputs": [
    {
     "name": "stderr",
     "output_type": "stream",
     "text": [
      "1556030143.py:7 <module> INFO Thermo file has default temperature range 300.0 to 1000.0 and 1000.0 to 5000.0\n"
     ]
    },
    {
     "name": "stdout",
     "output_type": "stream",
     "text": [
      "1822 reactions and 110 species\n"
     ]
    }
   ],
   "source": [
    "# Load the base model\n",
    "basedir = '/work/westgroup/harris.se/autoscience/autoscience/butane/sensitivity_analysis/base_rmg24'\n",
    "\n",
    "base_chemkin = os.path.join(basedir, 'chem_annotated.inp')\n",
    "dictionary = os.path.join(basedir, 'species_dictionary.txt')\n",
    "transport = os.path.join(basedir, 'tran.dat')\n",
    "species_list, reaction_list = rmgpy.chemkin.load_chemkin_file(base_chemkin, dictionary_path=dictionary, transport_path=transport)\n",
    "print(f'{len(reaction_list)} reactions and {len(species_list)} species')"
   ]
  },
  {
   "cell_type": "code",
   "execution_count": 3,
   "id": "895b8bd4",
   "metadata": {},
   "outputs": [],
   "source": [
    "base_delay = 0.14857535"
   ]
  },
  {
   "cell_type": "code",
   "execution_count": 4,
   "id": "0ff39098",
   "metadata": {},
   "outputs": [],
   "source": [
    "ignition_delay_rxns = base_delay * np.ones(len(reaction_list))\n",
    "ignition_delay_sp = base_delay * np.ones(len(species_list))"
   ]
  },
  {
   "cell_type": "code",
   "execution_count": 11,
   "id": "c9afdc85",
   "metadata": {},
   "outputs": [],
   "source": [
    "# load individual ignition delay files\n",
    "results_dir = '/work/westgroup/harris.se/autoscience/autoscience/butane/sensitivity_analysis/base_rmg24/models/reactions'\n",
    "for i in range(0, len(reaction_list)):\n",
    "    result_file = os.path.join(results_dir, f'delay_{i:04}.txt')\n",
    "    if not os.path.exists(result_file):\n",
    "        continue\n",
    "    with open(result_file, 'r') as f:\n",
    "        result = f.read()\n",
    "        try:\n",
    "            ignition_delay_rxns[i] = result\n",
    "        except ValueError:\n",
    "            continue\n",
    "            \n",
    "results_dir = '/work/westgroup/harris.se/autoscience/autoscience/butane/sensitivity_analysis/base_rmg24/models/species'\n",
    "for i in range(0, len(species_list)):\n",
    "    result_file = os.path.join(results_dir, f'delay_{i:04}.txt')\n",
    "    if not os.path.exists(result_file):\n",
    "        continue\n",
    "    with open(result_file, 'r') as f:\n",
    "        result = f.read()\n",
    "        try:\n",
    "            ignition_delay_sp[i] = result\n",
    "        except ValueError:\n",
    "            continue\n",
    "\n",
    "rxn_df = pd.DataFrame(ignition_delay_rxns, columns=['delay'])\n",
    "rxn_df.to_csv(os.path.join(results_dir, 'reaction_delays.csv'))\n",
    "species_df = pd.DataFrame(ignition_delay_sp, columns=['delay'])\n",
    "species_df.to_csv(os.path.join(results_dir, 'species_delays.csv'))\n",
    "\n",
    "\n",
    "# rxn_df = pd.read_csv(os.path.join(results_dir, 'reaction_delays.csv'))\n",
    "# species_df = pd.read_csv(os.path.join(results_dir, 'species_delays.csv'))\n",
    "# ignition_delay_rxns = rxn_df['delay'].values\n",
    "# ignition_delay_sp = species_df['delay'].values"
   ]
  },
  {
   "cell_type": "code",
   "execution_count": 13,
   "id": "84d31d13",
   "metadata": {},
   "outputs": [
    {
     "data": {
      "text/plain": [
       "0.12905077586632863"
      ]
     },
     "execution_count": 13,
     "metadata": {},
     "output_type": "execute_result"
    }
   ],
   "source": [
    "ignition_delay_rxns[288]"
   ]
  },
  {
   "cell_type": "code",
   "execution_count": 14,
   "id": "0faf9b51",
   "metadata": {},
   "outputs": [
    {
     "data": {
      "text/plain": [
       "0.14856756683843467"
      ]
     },
     "execution_count": 14,
     "metadata": {},
     "output_type": "execute_result"
    }
   ],
   "source": [
    "np.average(ignition_delay_rxns)"
   ]
  },
  {
   "cell_type": "code",
   "execution_count": 9,
   "id": "49c973ca",
   "metadata": {},
   "outputs": [
    {
     "data": {
      "text/plain": [
       "0.17446256129346216"
      ]
     },
     "execution_count": 9,
     "metadata": {},
     "output_type": "execute_result"
    }
   ],
   "source": [
    "ignition_delay_sp[85]"
   ]
  },
  {
   "cell_type": "code",
   "execution_count": 11,
   "id": "9c254a92",
   "metadata": {},
   "outputs": [
    {
     "data": {
      "text/plain": [
       "0.149834571732"
      ]
     },
     "execution_count": 11,
     "metadata": {},
     "output_type": "execute_result"
    }
   ],
   "source": [
    "np.average(ignition_delay_sp)"
   ]
  },
  {
   "cell_type": "code",
   "execution_count": 15,
   "id": "15c2b0a8",
   "metadata": {},
   "outputs": [],
   "source": [
    "# sort the reaction list by difference in flame speed\n",
    "order_rxn = np.arange(0, len(ignition_delay_rxns))\n",
    "fs_diff = np.abs(ignition_delay_rxns - base_delay)\n",
    "most_sensitive_rxn = [x for _, x in sorted(zip(fs_diff, order_rxn))][::-1]\n",
    "\n",
    "\n",
    "order_sp = np.arange(0, len(ignition_delay_sp))\n",
    "fs_diff = np.abs(ignition_delay_sp - base_delay)\n",
    "most_sensitive_sp = [x for _, x in sorted(zip(fs_diff, order_sp))][::-1]"
   ]
  },
  {
   "cell_type": "code",
   "execution_count": 23,
   "id": "0192cb26",
   "metadata": {},
   "outputs": [
    {
     "data": {
      "text/plain": [
       "NASA(polynomials=[NASAPolynomial(coeffs=[3.61263,-0.00100893,2.49898e-06,-1.43375e-09,2.58634e-13,-1051.1,2.65271], Tmin=(100,'K'), Tmax=(1817.05,'K')), NASAPolynomial(coeffs=[2.97593,0.00164137,-7.19704e-07,1.25374e-10,-7.915e-15,-1025.86,5.53741], Tmin=(1817.05,'K'), Tmax=(5000,'K'))], Tmin=(100,'K'), Tmax=(5000,'K'), comment=\"\"\"Thermo library: BurkeH2O2\"\"\")"
      ]
     },
     "execution_count": 23,
     "metadata": {},
     "output_type": "execute_result"
    }
   ],
   "source": [
    "species_list[0].thermo"
   ]
  },
  {
   "cell_type": "code",
   "execution_count": 22,
   "id": "582042f0",
   "metadata": {},
   "outputs": [
    {
     "data": {
      "text/plain": [
       "['__class__',\n",
       " '__delattr__',\n",
       " '__dir__',\n",
       " '__doc__',\n",
       " '__eq__',\n",
       " '__format__',\n",
       " '__ge__',\n",
       " '__getattribute__',\n",
       " '__gt__',\n",
       " '__hash__',\n",
       " '__init__',\n",
       " '__init_subclass__',\n",
       " '__le__',\n",
       " '__lt__',\n",
       " '__ne__',\n",
       " '__new__',\n",
       " '__pyx_vtable__',\n",
       " '__reduce__',\n",
       " '__reduce_ex__',\n",
       " '__repr__',\n",
       " '__setattr__',\n",
       " '__sizeof__',\n",
       " '__str__',\n",
       " '__subclasshook__',\n",
       " '_molecular_weight',\n",
       " '_repr_png_',\n",
       " 'aug_inchi',\n",
       " 'calculate_cp0',\n",
       " 'calculate_cpinf',\n",
       " 'conformer',\n",
       " 'contains_surface_site',\n",
       " 'copy',\n",
       " 'creation_iteration',\n",
       " 'energy_transfer_model',\n",
       " 'explicitly_allowed',\n",
       " 'fingerprint',\n",
       " 'from_adjacency_list',\n",
       " 'from_smiles',\n",
       " 'generate_aug_inchi',\n",
       " 'generate_energy_transfer_model',\n",
       " 'generate_resonance_structures',\n",
       " 'generate_statmech',\n",
       " 'generate_transport_data',\n",
       " 'get_augmented_inchi',\n",
       " 'get_density_of_states',\n",
       " 'get_enthalpy',\n",
       " 'get_entropy',\n",
       " 'get_free_energy',\n",
       " 'get_heat_capacity',\n",
       " 'get_henry_law_constant_data',\n",
       " 'get_liquid_volumetric_mass_transfer_coefficient_data',\n",
       " 'get_partition_function',\n",
       " 'get_resonance_hybrid',\n",
       " 'get_sum_of_states',\n",
       " 'get_symmetry_number',\n",
       " 'get_thermo_data',\n",
       " 'get_transport_data',\n",
       " 'has_reactive_molecule',\n",
       " 'has_statmech',\n",
       " 'has_thermo',\n",
       " 'henry_law_constant_data',\n",
       " 'inchi',\n",
       " 'index',\n",
       " 'is_identical',\n",
       " 'is_isomorphic',\n",
       " 'is_solvent',\n",
       " 'is_structure_in_list',\n",
       " 'is_surface_site',\n",
       " 'label',\n",
       " 'liquid_volumetric_mass_transfer_coefficient_data',\n",
       " 'molecular_weight',\n",
       " 'molecule',\n",
       " 'multiplicity',\n",
       " 'props',\n",
       " 'reactive',\n",
       " 'set_e0_with_thermo',\n",
       " 'set_structure',\n",
       " 'smiles',\n",
       " 'sorting_key',\n",
       " 'symmetry_number',\n",
       " 'thermo',\n",
       " 'to_adjacency_list',\n",
       " 'to_cantera',\n",
       " 'to_chemkin',\n",
       " 'transport_data']"
      ]
     },
     "execution_count": 22,
     "metadata": {},
     "output_type": "execute_result"
    }
   ],
   "source": [
    "dir(species_list[0])"
   ]
  },
  {
   "cell_type": "code",
   "execution_count": 27,
   "id": "eecf4f11",
   "metadata": {},
   "outputs": [
    {
     "name": "stdout",
     "output_type": "stream",
     "text": [
      "59 \t 0.152401 \t SC4H9O2(186) \t library\n",
      "58 \t 0.15061 \t PC4H9O2(184) \t library\n",
      "73 \t -0.061233 \t C4H8OOH1-3O2(225) \t library\n",
      "72 \t -0.055475 \t C4H8OOH2-4(223) \t library\n",
      "74 \t -0.053398 \t C4H8OOH2-4O2(229) \t library\n",
      "85 \t 0.025887 \t CC(CCOO)OO(787) \t GAV\n",
      "46 \t -0.018037 \t C3KET21(73) \t library\n",
      "5 \t 0.011104 \t O2(2) \t library\n",
      "32 \t -0.005936 \t C2H5(33) \t library\n",
      "21 \t -0.005687 \t CH3(18) \t library\n",
      "11 \t -0.00521 \t H2O(8) \t library\n",
      "57 \t 0.005001 \t SC4H9(183) \t library\n",
      "37 \t -0.004698 \t CH3O2H(46) \t library\n",
      "4 \t 0.004518 \t butane(1) \t library\n",
      "56 \t -0.00388 \t PC4H9(182) \t library\n",
      "45 \t -0.003723 \t CH3COCH2O2(72) \t library\n",
      "17 \t 0.003346 \t H(14) \t library\n",
      "60 \t 0.003181 \t SC4H9O2H(187) \t library\n",
      "87 \t 0.003009 \t [CH2]C(=O)COO(911) \t library\n",
      "50 \t 0.00272 \t C3H5-A(94) \t library\n",
      "38 \t -0.002513 \t C2H5O2(47) \t library\n",
      "13 \t 0.002506 \t CH4(10) \t library\n",
      "43 \t -0.002469 \t CH3COCH2(70) \t library\n",
      "63 \t 0.002464 \t C4H71-3(190) \t library\n",
      "12 \t -0.001761 \t CH2O(9) \t library\n",
      "70 \t -0.001585 \t C4H8OOH1-3(219) \t library\n",
      "20 \t -0.001582 \t H2O2(17) \t library\n",
      "39 \t -0.001246 \t C2H5O2H(48) \t library\n",
      "29 \t 0.001129 \t CH3OH(30) \t library\n",
      "9 \t -0.000793 \t CO(6) \t library\n",
      "69 \t -0.000316 \t SC4H9O(217) \t library\n",
      "25 \t 0.000264 \t C2H3(22) \t library\n",
      "18 \t 0.000207 \t OH(15) \t library\n",
      "22 \t -0.000178 \t HCO(19) \t library\n",
      "30 \t -9.9e-05 \t CH3O(31) \t library\n",
      "62 \t 8.3e-05 \t C4H8-2(189) \t library\n",
      "27 \t 8e-05 \t CH2CO(24) \t library\n",
      "36 \t -8e-05 \t CH3O2(45) \t library\n",
      "68 \t -6.2e-05 \t C4H8O1-3(214) \t library\n",
      "15 \t -6e-05 \t C3H6(12) \t library\n",
      "61 \t 5.3e-05 \t C4H8-1(188) \t library\n",
      "31 \t 5.2e-05 \t C2H6(32) \t library\n",
      "42 \t 4.5e-05 \t O2CH2CHO(56) \t library\n",
      "35 \t -4.4e-05 \t HOCHO(40) \t library\n",
      "84 \t -4.4e-05 \t CC(CC[O])OO(777) \t GAV\n",
      "23 \t -4.1e-05 \t CH3CO(20) \t library\n",
      "14 \t 3.4e-05 \t C2H4(11) \t library\n",
      "66 \t -3.3e-05 \t C4H6(194) \t library\n",
      "19 \t 2.6e-05 \t HO2(16) \t library\n",
      "105 \t 2.4e-05 \t [CH]1CCOOC1(5425) \t GAV\n"
     ]
    }
   ],
   "source": [
    "# print the top species\n",
    "for i in range(0, 50):\n",
    "    index = most_sensitive_sp[i]\n",
    "    source = 'library'\n",
    "    if 'library' not in species_list[index].thermo.comment.lower():\n",
    "        source = 'GAV'\n",
    "    print(index, '\\t', np.round(ignition_delay_sp[index] - base_delay, 6),'\\t', species_list[index], '\\t', source)"
   ]
  },
  {
   "cell_type": "code",
   "execution_count": 30,
   "id": "c313b054",
   "metadata": {},
   "outputs": [
    {
     "name": "stdout",
     "output_type": "stream",
     "text": [
      "288 \t OH(15) + butane(1) <=> H2O(8) + PC4H9(182) \t CurranPentane\n",
      "247 \t OH(15) + butane(1) <=> H2O(8) + SC4H9(183) \t CurranPentane\n",
      "279 \t SC4H9O2(186) <=> HO2(16) + C4H8-2(189) \t CurranPentane\n",
      "323 \t O2(2) + C4H8OOH1-3(219) <=> C4H8OOH1-3O2(225) \t CurranPentane\n",
      "281 \t O2(2) + C4H8OOH2-4(223) <=> C4H8OOH2-4O2(229) \t CurranPentane\n",
      "316 \t PC4H9O2(184) <=> HO2(16) + C4H8-1(188) \t CurranPentane\n",
      "249 \t HO2(16) + butane(1) <=> H2O2(17) + SC4H9(183) \t CurranPentane\n",
      "449 \t C4H8OOH1-3(219) <=> OH(15) + C4H8O1-3(214) \t CurranPentane\n",
      "317 \t SC4H9O2(186) <=> HO2(16) + C4H8-1(188) \t CurranPentane\n",
      "326 \t C4H8OOH1-3O2(225) <=> C4H71-1,3OOH(238) \t CurranPentane\n",
      "290 \t HO2(16) + butane(1) <=> H2O2(17) + PC4H9(182) \t CurranPentane\n",
      "282 \t C4H8OOH2-4O2(229) <=> C4H72-2,4OOH(244) \t CurranPentane\n",
      "1701 \t SC4H9O2(186) + butane(1) <=> SC4H9(183) + SC4H9O2H(187) \t CurranPentane\n",
      "354 \t HO2(16) + CH3CHO(35) <=> H2O2(17) + CH3CO(20) \t FFCM1(-)\n",
      "450 \t C4H8OOH2-4(223) <=> OH(15) + C4H8O1-3(214) \t CurranPentane\n",
      "306 \t C4H8OOH1-3(219) => OH(15) + CH2O(9) + C3H6(12) \t CurranPentane\n",
      "305 \t PC4H9O2(184) <=> C4H8OOH1-3(219) \t CurranPentane\n",
      "129 \t HO2(16) + CH2O(9) <=> H2O2(17) + HCO(19) \t FFCM1(-)\n",
      "127 \t OH(15) + CH2O(9) <=> H2O(8) + HCO(19) \t FFCM1(-)\n",
      "1700 \t SC4H9O2(186) + butane(1) <=> PC4H9(182) + SC4H9O2H(187) \t CurranPentane\n",
      "363 \t C4H8OOH2-4(223) => OH(15) + C2H4(11) + CH3CHO(35) \t CurranPentane\n",
      "1262 \t HO2(16) + C4H71-3(190) <=> OH(15) + C4H7O(202) \t CurranPentane\n",
      "203 \t O2(2) + C2H5(33) <=> HO2(16) + C2H4(11) \t FFCM1(-)\n",
      "303 \t O2(2) + PC4H9(182) <=> PC4H9O2(184) \t CurranPentane\n",
      "1646 \t C2H5O2(47) + butane(1) <=> C2H5O2H(48) + SC4H9(183) \t CurranPentane\n",
      "1085 \t CH3O2(45) + butane(1) <=> CH3O2H(46) + SC4H9(183) \t CurranPentane\n",
      "784 \t O2(2) + C4H71-3(190) <=> HO2(16) + C4H6(194) \t CurranPentane\n",
      "287 \t H(14) + butane(1) <=> H2(13) + PC4H9(182) \t CurranPentane\n",
      "1472 \t HO2(16) + CH3COCH2(70) <=> OH(15) + CH3COCH2O(71) \t CurranPentane\n",
      "151 \t HO2(16) + CH3(18) <=> O2(2) + CH4(10) \t FFCM1(-)\n",
      "1712 \t H2O2(17) + SC4H9O2(186) <=> HO2(16) + SC4H9O2H(187) \t CurranPentane\n",
      "263 \t SC4H9O2(186) <=> C4H8OOH2-4(223) \t CurranPentane\n",
      "1081 \t CH3O2(45) + CH3CHO(35) <=> CH3O2H(46) + CH3CO(20) \t CurranPentane\n",
      "245 \t CH3(18) + butane(1) <=> CH4(10) + SC4H9(183) \t CurranPentane\n",
      "512 \t HO2(16) + CH3(18) <=> OH(15) + CH3O(31) \t FFCM1(-)\n",
      "364 \t NC4KET13(252) => OH(15) + CH2CHO(21) + CH3CHO(35) \t CurranPentane\n",
      "609 \t HO2(16) + SC4H9(183) <=> OH(15) + SC4H9O(217) \t CurranPentane\n",
      "260 \t O2(2) + SC4H9(183) <=> SC4H9O2(186) \t CurranPentane\n",
      "156 \t HO2(16) + CH4(10) <=> H2O2(17) + CH3(18) \t FFCM1(-)\n",
      "1093 \t HO2(16) + CH3O2H(46) <=> H2O2(17) + CH3O2(45) \t Klippenstein_Glarborg2016\n",
      "572 \t HO2(16) + C4H8O1-3(214) => H2O2(17) + CH2O(9) + C3H5-A(94) \t CurranPentane\n",
      "17 \t OH(15) + HO2(16) <=> O2(2) + H2O(8) \t BurkeH2O2inN2\n",
      "352 \t OH(15) + CH3CHO(35) <=> H2O(8) + CH3CO(20) \t FFCM1(-)\n",
      "522 \t CH3(18) + CH3O2(45) <=> CH3O(31) + CH3O(31) \t CurranPentane\n",
      "65 \t O2(2) + C2H3(22) <=> O(5) + CH2CHO(21) \t FFCM1(-)\n",
      "1075 \t CH2O(9) + CH3O2(45) <=> HCO(19) + CH3O2H(46) \t CurranPentane\n",
      "1645 \t C2H5O2(47) + butane(1) <=> C2H5O2H(48) + PC4H9(182) \t CurranPentane\n",
      "0 \t O2(2) + H(14) <=> O(5) + OH(15) \t BurkeH2O2inN2\n",
      "518 \t O2(2) + CH3O(31) <=> HO2(16) + CH2O(9) \t FFCM1(-)\n",
      "1084 \t CH3O2(45) + butane(1) <=> CH3O2H(46) + PC4H9(182) \t CurranPentane\n"
     ]
    }
   ],
   "source": [
    "# print the top reactions\n",
    "for i in range(0, 50):\n",
    "\n",
    "    index = most_sensitive_rxn[i]\n",
    "#     print(index, '\\t', reaction_list[index])\n",
    "    try:\n",
    "#         if reaction_list[index].family != 'H_Abstraction' and \\\n",
    "#             reaction_list[index].family != 'Disproportionation' and \\\n",
    "#             reaction_list[index].family != 'intra_H_migration' and \\\n",
    "#             reaction_list[index].family != 'R_Addition_MultipleBond':\n",
    "#             continue\n",
    "        print(index, '\\t', reaction_list[index], '\\t', reaction_list[index].family)\n",
    "    except AttributeError:\n",
    "        continue\n",
    "        print(index, '\\t', reaction_list[index], '\\t', 'PDEP')"
   ]
  },
  {
   "cell_type": "code",
   "execution_count": null,
   "id": "4257b606",
   "metadata": {},
   "outputs": [],
   "source": []
  }
 ],
 "metadata": {
  "kernelspec": {
   "display_name": "Python 3 (ipykernel)",
   "language": "python",
   "name": "python3"
  },
  "language_info": {
   "codemirror_mode": {
    "name": "ipython",
    "version": 3
   },
   "file_extension": ".py",
   "mimetype": "text/x-python",
   "name": "python",
   "nbconvert_exporter": "python",
   "pygments_lexer": "ipython3",
   "version": "3.7.12"
  }
 },
 "nbformat": 4,
 "nbformat_minor": 5
}
