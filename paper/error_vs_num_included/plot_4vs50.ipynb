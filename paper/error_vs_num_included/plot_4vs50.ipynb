{
 "cells": [
  {
   "cell_type": "code",
   "execution_count": 1,
   "id": "006a65f1",
   "metadata": {},
   "outputs": [],
   "source": [
    "# check against table 7"
   ]
  },
  {
   "cell_type": "code",
   "execution_count": 13,
   "id": "8b238c78",
   "metadata": {},
   "outputs": [],
   "source": [
    "import cantera as ct\n",
    "import numpy as np\n",
    "import pandas as pd\n",
    "import concurrent.futures\n",
    "\n",
    "\n",
    "import matplotlib.pyplot as plt\n",
    "%matplotlib inline"
   ]
  },
  {
   "cell_type": "code",
   "execution_count": 14,
   "id": "58c0d088",
   "metadata": {},
   "outputs": [],
   "source": [
    "# # Load the model\n",
    "\n",
    "cti_path = '/home/moon/autoscience/autoscience/paper/error_vs_num_included/change3.cti'\n",
    "cti_path = '/home/moon/autoscience/autoscience/paper/error_vs_num_included/change4.cti'\n",
    "\n",
    "cti_path = '/home/moon/autoscience/autoscience/paper/error_vs_num_included/mechs/top_50.cti'\n",
    "\n",
    "gas = ct.Solution(cti_path)"
   ]
  },
  {
   "cell_type": "code",
   "execution_count": 15,
   "id": "5a9557e9",
   "metadata": {},
   "outputs": [],
   "source": [
    "# Load the experimental conditions\n",
    "ignition_delay_data = '/work/westgroup/harris.se/autoscience/autoscience/butane/experimental_data/butane_ignition_delay.csv'\n",
    "ignition_delay_data = '/home/moon/autoscience/autoscience/butane/experimental_data/butane_ignition_delay.csv'\n",
    "df_exp = pd.read_csv(ignition_delay_data)\n",
    "\n",
    "# slice just table 7, where phi=1.0\n",
    "table7 = df_exp[df_exp['Table'] == 7]\n",
    "# Define Initial conditions using experimental data\n",
    "tau7 = table7['time (ms)'].values.astype(float)  # ignition delay\n",
    "T7 = table7['T_C'].values  # Temperatures\n",
    "P7 = table7['nominal pressure(atm)'].values * ct.one_atm  # pressures in atm\n",
    "\n",
    "\n",
    "# list of starting conditions\n",
    "# Mixture compositions taken from table 2 of\n",
    "# https://doi-org.ezproxy.neu.edu/10.1016/j.combustflame.2010.01.016\n",
    "concentrations = []\n",
    "# for phi = 1\n",
    "x_diluent = 0.7649\n",
    "conc_dict = {\n",
    "    'O2(2)': 0.2038,\n",
    "    'butane(1)': 0.03135\n",
    "}\n",
    "\n",
    "for i in range(0, len(table7)):\n",
    "    x_N2 = table7['%N2'].values[i] / 100.0 * x_diluent\n",
    "    x_Ar = table7['%Ar'].values[i] / 100.0 * x_diluent\n",
    "    x_CO2 = table7['%CO2'].values[i] / 100.0 * x_diluent\n",
    "    conc_dict['N2'] = x_N2\n",
    "    conc_dict['Ar'] = x_Ar\n",
    "    conc_dict['CO2(7)'] = x_CO2\n",
    "    concentrations.append(conc_dict)\n",
    "\n",
    "    \n",
    "# # Aramco naming:\n",
    "# x_diluent = 0.7649\n",
    "# conc_dict = {\n",
    "#     'O2': 0.2038,\n",
    "#     'C4H10': 0.03135\n",
    "# }\n",
    "\n",
    "# for i in range(0, len(table7)):\n",
    "#     x_N2 = table7['%N2'].values[i] / 100.0 * x_diluent\n",
    "#     x_Ar = table7['%Ar'].values[i] / 100.0 * x_diluent\n",
    "#     x_CO2 = table7['%CO2'].values[i] / 100.0 * x_diluent\n",
    "#     conc_dict['N2'] = x_N2\n",
    "#     conc_dict['AR'] = x_Ar\n",
    "#     conc_dict['CO2'] = x_CO2\n",
    "#     concentrations.append(conc_dict)\n"
   ]
  },
  {
   "cell_type": "code",
   "execution_count": 16,
   "id": "50162c25",
   "metadata": {},
   "outputs": [],
   "source": [
    "# Take Reactor Conditions from Table 7 of supplementary info in\n",
    "# https://doi-org.ezproxy.neu.edu/10.1016/j.combustflame.2010.01.016\n",
    "def get_delay(gas, T, P, X):\n",
    "    # function to run a RCM simulation\n",
    "\n",
    "    t_end = 1.0  # time in seconds\n",
    "    gas.TPX = T, P, X\n",
    "\n",
    "    env = ct.Reservoir(ct.Solution('air.yaml'))\n",
    "    # env = ct.Reservoir(ct.Solution('air.xml'))\n",
    "    reactor = ct.IdealGasReactor(gas)\n",
    "    wall = ct.Wall(reactor, env, A=1.0, velocity=0)\n",
    "    reactor_net = ct.ReactorNet([reactor])\n",
    "    # # allegedly faster solving\n",
    "    # reactor_net.derivative_settings = {\"skip-third-bodies\": True, \"skip-falloff\": True}\n",
    "    # reactor_net.preconditioner = ct.AdaptivePreconditioner()\n",
    "\n",
    "    times = [0]\n",
    "    T = [reactor.T]\n",
    "    P = [reactor.thermo.P]\n",
    "    X = [reactor.thermo.X]  # mol fractions\n",
    "    while reactor_net.time < t_end:\n",
    "        reactor_net.step()\n",
    "\n",
    "        times.append(reactor_net.time)\n",
    "        T.append(reactor.T)\n",
    "        P.append(reactor.thermo.P)\n",
    "        X.append(reactor.thermo.X)\n",
    "\n",
    "    slopes = np.gradient(P, times)\n",
    "    i = np.argmax(slopes)\n",
    "    return times[i]"
   ]
  },
  {
   "cell_type": "code",
   "execution_count": 17,
   "id": "70e0317d",
   "metadata": {},
   "outputs": [],
   "source": [
    "def run_simulation(condition_index):\n",
    "    gas = ct.Solution(cti_path)\n",
    "    X = concentrations[condition_index]\n",
    "    delay = get_delay(gas, T7[condition_index], P7[condition_index], X)\n",
    "    print(f'Completed {condition_index}:\\t {delay}')\n",
    "    return delay"
   ]
  },
  {
   "cell_type": "code",
   "execution_count": 18,
   "id": "3d0f1c72",
   "metadata": {},
   "outputs": [
    {
     "name": "stdout",
     "output_type": "stream",
     "text": [
      "Completed 13:\t 0.023056581172137203\n",
      "Completed 12:\t 0.03232850670612388\n",
      "Completed 11:\t 0.04832536247053643\n",
      "Completed 8:\t 0.07773079397739042\n",
      "Completed 15:\t 0.013349980117965045\n",
      "Completed 10:\t 0.05510943850230538\n",
      "Completed 14:\t 0.021915103574382273\n",
      "Completed 6:\t 0.06233078793116345Completed 7:\t 0.06325819694043666\n",
      "\n",
      "Completed 9:\t 0.07245250627918526\n",
      "Completed 5:\t 0.038312926811012345\n",
      "Completed 4:\t 0.03802088337196897\n",
      "Completed 3:\t 0.036390418853613486\n",
      "Completed 1:\t 0.05074970042020011\n",
      "Completed 2:\t 0.036543565962512646\n",
      "Completed 0:\t 0.05161143653921929\n"
     ]
    }
   ],
   "source": [
    "# Run all simulations in parallel\n",
    "delays = np.zeros(len(table7))\n",
    "condition_indices = np.arange(0, len(table7))\n",
    "with concurrent.futures.ProcessPoolExecutor(max_workers=16) as executor:\n",
    "    for condition_index, delay_time in zip(condition_indices, executor.map(run_simulation, condition_indices)):\n",
    "        delays[condition_index] = delay_time"
   ]
  },
  {
   "cell_type": "code",
   "execution_count": 19,
   "id": "a2d619c7",
   "metadata": {},
   "outputs": [
    {
     "data": {
      "text/plain": [
       "array([0.05161144, 0.0507497 , 0.03654357, 0.03639042, 0.03802088,\n",
       "       0.03831293, 0.06233079, 0.0632582 , 0.07773079, 0.07245251,\n",
       "       0.05510944, 0.04832536, 0.03232851, 0.02305658, 0.0219151 ,\n",
       "       0.01334998])"
      ]
     },
     "execution_count": 19,
     "metadata": {},
     "output_type": "execute_result"
    }
   ],
   "source": [
    "delays"
   ]
  },
  {
   "cell_type": "code",
   "execution_count": 22,
   "id": "29c38b41",
   "metadata": {},
   "outputs": [],
   "source": [
    "# Saved ignition delays for comparison:\n",
    "\n",
    "top50 = np.array([0.05161144, 0.0507497 , 0.03654357, 0.03639042, 0.03802088,\n",
    "       0.03831293, 0.06233079, 0.0632582 , 0.07773079, 0.07245251,\n",
    "       0.05510944, 0.04832536, 0.03232851, 0.02305658, 0.0219151 ,\n",
    "       0.01334998])\n",
    "\n",
    "ultra4 = np.array([0.04065677, 0.03994381, 0.02927439, 0.02921865, 0.03305727,\n",
    "       0.03343595, 0.05951802, 0.06046236, 0.07695574, 0.07194765,\n",
    "       0.05499949, 0.0483019 , 0.03244368, 0.0232204 , 0.02208335,\n",
    "       0.01353823])\n",
    "\n",
    "base_rmg7 = np.array([0.04908328, 0.04854439, 0.04814446, 0.04868176, 0.075588  ,\n",
    "       0.07737167, 0.14791668, 0.14857535, 0.1085917 , 0.0952434 ,\n",
    "       0.06520823, 0.05563237, 0.03535775, 0.02462961, 0.02334903,\n",
    "       0.01398333])  # 24 hour RMG run - 110 species\n",
    "\n",
    "aramco7 = np.array([0.03945921, 0.03874611, 0.02817182, 0.02812066, 0.03236667,\n",
    "       0.03278732, 0.06009581, 0.06085926, 0.06020536, 0.05459522,\n",
    "       0.03965133, 0.03435827, 0.02245863, 0.01580939, 0.01499945,\n",
    "       0.00896072])\n",
    "experiment7 = np.array([0.0865 , 0.0739 , 0.0313 , 0.033  , 0.0309 , 0.03   , 0.056  ,\n",
    "       0.0566 , 0.0679 , 0.0664 , 0.0652 , 0.0671 , 0.047  , 0.0279 ,\n",
    "       0.02805, 0.012  ])\n"
   ]
  },
  {
   "cell_type": "code",
   "execution_count": 35,
   "id": "134bdf5e",
   "metadata": {},
   "outputs": [
    {
     "data": {
      "image/png": "[encoded data removed]",
      "text/plain": [
       "<Figure size 432x288 with 1 Axes>"
      ]
     },
     "metadata": {
      "needs_background": "light"
     },
     "output_type": "display_data"
    }
   ],
   "source": [
    "# plot the ignition delay\n",
    "plt.plot(1000.0 / T7, base_rmg7, marker='x')\n",
    "plt.plot(1000.0 / T7, top50, marker='x')\n",
    "plt.plot(1000.0 / T7, ultra4, marker='x')\n",
    "plt.scatter(1000.0 / T7, tau7 / 1000.0, color='black')\n",
    "ax = plt.gca()\n",
    "ax.set_yscale('log')\n",
    "plt.legend(['Base RMG', 'Top 50 Parameters', '4 Handpicked Parameters', 'Experiment'])\n",
    "plt.title('Ignition Delays Phi=1.0')\n",
    "plt.xlabel('1000K / T')\n",
    "plt.ylabel('Delay (s)')\n",
    "plt.savefig('table7.png')\n",
    "# plt.legend(bbox_to_anchor=(0, 1), , ncol=1)"
   ]
  },
  {
   "cell_type": "code",
   "execution_count": 14,
   "id": "8ba6a7b1",
   "metadata": {},
   "outputs": [
    {
     "data": {
      "text/plain": [
       "array([86.5 , 73.9 , 31.3 , 33.  , 30.9 , 30.  , 56.  , 56.6 , 67.9 ,\n",
       "       66.4 , 65.2 , 67.1 , 47.  , 27.9 , 28.05, 12.  ])"
      ]
     },
     "execution_count": 14,
     "metadata": {},
     "output_type": "execute_result"
    }
   ],
   "source": [
    "tau7"
   ]
  },
  {
   "cell_type": "markdown",
   "id": "dc71058d",
   "metadata": {},
   "source": [
    "## Calculate Simple Linear Squared Error"
   ]
  },
  {
   "cell_type": "code",
   "execution_count": 26,
   "id": "74f310b9",
   "metadata": {},
   "outputs": [],
   "source": [
    "def get_error(points):\n",
    "    return np.dot(points - experiment7, points - experiment7)"
   ]
  },
  {
   "cell_type": "code",
   "execution_count": 34,
   "id": "11bacc22",
   "metadata": {},
   "outputs": [
    {
     "name": "stdout",
     "output_type": "stream",
     "text": [
      "Errors:\n",
      "  Base RMG\t 0.026513337786497698\n",
      "  Top 50\t 0.002862114847202599\n",
      "  4 Handpicked\t 0.004158734122786998\n",
      "  Aramco\t 0.006378394111488899\n"
     ]
    }
   ],
   "source": [
    "print('Errors:')\n",
    "print('  Base RMG\\t', get_error(base_rmg7))\n",
    "print('  Top 50\\t', get_error(top50))\n",
    "print('  4 Handpicked\\t', get_error(ultra4))\n",
    "print('  Aramco\\t', get_error(aramco7))"
   ]
  },
  {
   "cell_type": "code",
   "execution_count": null,
   "id": "c3f2d44c",
   "metadata": {},
   "outputs": [],
   "source": []
  },
  {
   "cell_type": "code",
   "execution_count": null,
   "id": "dc3989d0",
   "metadata": {},
   "outputs": [],
   "source": []
  },
  {
   "cell_type": "code",
   "execution_count": null,
   "id": "57e47ee9",
   "metadata": {},
   "outputs": [],
   "source": []
  },
  {
   "cell_type": "code",
   "execution_count": null,
   "id": "0e5291be",
   "metadata": {},
   "outputs": [],
   "source": []
  },
  {
   "cell_type": "code",
   "execution_count": null,
   "id": "9045296c",
   "metadata": {},
   "outputs": [],
   "source": []
  }
 ],
 "metadata": {
  "kernelspec": {
   "display_name": "Python 3 (ipykernel)",
   "language": "python",
   "name": "python3"
  },
  "language_info": {
   "codemirror_mode": {
    "name": "ipython",
    "version": 3
   },
   "file_extension": ".py",
   "mimetype": "text/x-python",
   "name": "python",
   "nbconvert_exporter": "python",
   "pygments_lexer": "ipython3",
   "version": "3.7.12"
  }
 },
 "nbformat": 4,
 "nbformat_minor": 5
}
