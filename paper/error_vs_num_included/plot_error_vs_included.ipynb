{
 "cells": [
  {
   "cell_type": "code",
   "execution_count": 1,
   "id": "8b23e8f6",
   "metadata": {},
   "outputs": [],
   "source": [
    "# script to plot the error in ignition delay for table 7 vs. number of parameters replaced"
   ]
  },
  {
   "cell_type": "code",
   "execution_count": 7,
   "id": "82eea176",
   "metadata": {},
   "outputs": [],
   "source": [
    "import os\n",
    "import pandas as pd\n",
    "import numpy as np\n",
    "import cantera as ct\n",
    "\n",
    "import matplotlib.pyplot as plt\n",
    "%matplotlib inline"
   ]
  },
  {
   "cell_type": "code",
   "execution_count": 8,
   "id": "fc1b31ca",
   "metadata": {},
   "outputs": [],
   "source": [
    "# Load the experimental conditions\n",
    "ignition_delay_data = '/work/westgroup/harris.se/autoscience/autoscience/butane/experimental_data/butane_ignition_delay.csv'\n",
    "ignition_delay_data = '/home/moon/autoscience/autoscience/butane/experimental_data/butane_ignition_delay.csv'\n",
    "df_exp = pd.read_csv(ignition_delay_data)\n",
    "\n",
    "# slice just table 7, where phi=1.0\n",
    "table7 = df_exp[df_exp['Table'] == 7]\n",
    "# Define Initial conditions using experimental data\n",
    "tau7 = table7['time (ms)'].values.astype(float)  # ignition delay\n",
    "T7 = table7['T_C'].values  # Temperatures\n",
    "P7 = table7['nominal pressure(atm)'].values * ct.one_atm  # pressures in atm\n",
    "\n",
    "\n",
    "# list of starting conditions\n",
    "# Mixture compositions taken from table 2 of\n",
    "# https://doi-org.ezproxy.neu.edu/10.1016/j.combustflame.2010.01.016\n",
    "concentrations = []\n",
    "# for phi = 1\n",
    "x_diluent = 0.7649\n",
    "conc_dict = {\n",
    "    'O2(2)': 0.2038,\n",
    "    'butane(1)': 0.03135\n",
    "}\n",
    "\n",
    "for i in range(0, len(table7)):\n",
    "    x_N2 = table7['%N2'].values[i] / 100.0 * x_diluent\n",
    "    x_Ar = table7['%Ar'].values[i] / 100.0 * x_diluent\n",
    "    x_CO2 = table7['%CO2'].values[i] / 100.0 * x_diluent\n",
    "    conc_dict['N2'] = x_N2\n",
    "    conc_dict['Ar'] = x_Ar\n",
    "    conc_dict['CO2(7)'] = x_CO2\n",
    "    concentrations.append(conc_dict)\n"
   ]
  },
  {
   "cell_type": "code",
   "execution_count": 9,
   "id": "a5e2322b",
   "metadata": {},
   "outputs": [],
   "source": [
    "results_dir = '/home/moon/autoscience/autoscience/paper/error_vs_num_included/results'\n"
   ]
  },
  {
   "cell_type": "code",
   "execution_count": 10,
   "id": "2a07376d",
   "metadata": {},
   "outputs": [
    {
     "data": {
      "text/plain": [
       "array([86.5 , 73.9 , 31.3 , 33.  , 30.9 , 30.  , 56.  , 56.6 , 67.9 ,\n",
       "       66.4 , 65.2 , 67.1 , 47.  , 27.9 , 28.05, 12.  ])"
      ]
     },
     "execution_count": 10,
     "metadata": {},
     "output_type": "execute_result"
    }
   ],
   "source": [
    "tau7"
   ]
  },
  {
   "cell_type": "code",
   "execution_count": 17,
   "id": "f625e186",
   "metadata": {},
   "outputs": [],
   "source": [
    "def calculate_error(delays):\n",
    "    return np.sum(np.float_power(delays - (tau7 / 1000), 2.0))\n"
   ]
  },
  {
   "cell_type": "code",
   "execution_count": 32,
   "id": "8a7df418",
   "metadata": {},
   "outputs": [],
   "source": [
    "N = 26\n",
    "N=51\n",
    "error = np.zeros(N)\n",
    "indices = np.arange(0, N)\n",
    "for i in range(0, N):\n",
    "    delay_file = os.path.join(results_dir, f'delays_{i}.npy')\n",
    "    delays = np.load(delay_file)\n",
    "    error[i] = calculate_error(delays)"
   ]
  },
  {
   "cell_type": "code",
   "execution_count": 44,
   "id": "90fea150",
   "metadata": {},
   "outputs": [
    {
     "data": {
      "text/plain": [
       "Text(0, 0.5, 'Sum of Squared Error')"
      ]
     },
     "execution_count": 44,
     "metadata": {},
     "output_type": "execute_result"
    },
    {
     "data": {
      "image/png": "[encoded data removed]",
      "text/plain": [
       "<Figure size 432x288 with 1 Axes>"
      ]
     },
     "metadata": {
      "needs_background": "light"
     },
     "output_type": "display_data"
    }
   ],
   "source": [
    "plt.scatter(indices, error)\n",
    "plt.title('Ignition Delay Error vs. Parameters Replaced')\n",
    "plt.xlabel('Parameters Recalculated')\n",
    "plt.ylabel('Sum of Squared Error')"
   ]
  },
  {
   "cell_type": "code",
   "execution_count": null,
   "id": "c29ddddb",
   "metadata": {},
   "outputs": [],
   "source": [
    "error[3]"
   ]
  },
  {
   "cell_type": "code",
   "execution_count": null,
   "id": "32ba7724",
   "metadata": {},
   "outputs": [],
   "source": []
  },
  {
   "cell_type": "code",
   "execution_count": 34,
   "id": "9ae6e23a",
   "metadata": {},
   "outputs": [
    {
     "data": {
      "text/plain": [
       "0.0028620900548737174"
      ]
     },
     "execution_count": 34,
     "metadata": {},
     "output_type": "execute_result"
    }
   ],
   "source": [
    "error[32]"
   ]
  },
  {
   "cell_type": "code",
   "execution_count": 35,
   "id": "b526e893",
   "metadata": {},
   "outputs": [
    {
     "data": {
      "text/plain": [
       "0.008187065368145396"
      ]
     },
     "execution_count": 35,
     "metadata": {},
     "output_type": "execute_result"
    }
   ],
   "source": [
    "error[31]"
   ]
  },
  {
   "cell_type": "code",
   "execution_count": 38,
   "id": "7eb305de",
   "metadata": {},
   "outputs": [
    {
     "data": {
      "text/plain": [
       "0.026513336889486067"
      ]
     },
     "execution_count": 38,
     "metadata": {},
     "output_type": "execute_result"
    }
   ],
   "source": [
    "error[0]"
   ]
  },
  {
   "cell_type": "code",
   "execution_count": null,
   "id": "8f72d69f",
   "metadata": {},
   "outputs": [],
   "source": []
  }
 ],
 "metadata": {
  "kernelspec": {
   "display_name": "Python 3 (ipykernel)",
   "language": "python",
   "name": "python3"
  },
  "language_info": {
   "codemirror_mode": {
    "name": "ipython",
    "version": 3
   },
   "file_extension": ".py",
   "mimetype": "text/x-python",
   "name": "python",
   "nbconvert_exporter": "python",
   "pygments_lexer": "ipython3",
   "version": "3.7.12"
  }
 },
 "nbformat": 4,
 "nbformat_minor": 5
}
