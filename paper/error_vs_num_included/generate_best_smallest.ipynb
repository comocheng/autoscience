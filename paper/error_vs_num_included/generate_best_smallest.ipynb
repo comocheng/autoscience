{
 "cells": [
  {
   "cell_type": "code",
   "execution_count": 1,
   "id": "2afaeff7",
   "metadata": {},
   "outputs": [],
   "source": [
    "# script to generate 20 mechanisms with the top 20 parameters to include"
   ]
  },
  {
   "cell_type": "markdown",
   "id": "742fbd91",
   "metadata": {},
   "source": [
    "# generate the lists of top parameters"
   ]
  },
  {
   "cell_type": "code",
   "execution_count": 2,
   "id": "6102a89f",
   "metadata": {},
   "outputs": [],
   "source": [
    "import os\n",
    "import sys\n",
    "import copy\n",
    "import pickle\n",
    "import subprocess\n",
    "\n",
    "import numpy as np\n",
    "import rmgpy.chemkin\n",
    "\n",
    "import matplotlib.pyplot as plt\n",
    "%matplotlib inline"
   ]
  },
  {
   "cell_type": "code",
   "execution_count": 3,
   "id": "3ccd8d01",
   "metadata": {},
   "outputs": [],
   "source": [
    "basedir = '/home/moon/autoscience/autoscience/butane/models/rmg_model'\n",
    "\n",
    "base_chemkin = os.path.join(basedir, 'chem_annotated.inp')\n",
    "dictionary = os.path.join(basedir, 'species_dictionary.txt')\n",
    "transport = os.path.join(basedir, 'tran.dat')\n",
    "\n",
    "species_list, reaction_list = rmgpy.chemkin.load_chemkin_file(base_chemkin, dictionary_path=dictionary, transport_path=transport)\n",
    "\n",
    "\n"
   ]
  },
  {
   "cell_type": "code",
   "execution_count": 3,
   "id": "3fe0f580",
   "metadata": {},
   "outputs": [],
   "source": [
    "# get most uncertain reactions\n",
    "covariance_file = '/home/moon/autoscience/autoscience/uncertainty/butane_covariance.pickle'\n",
    "with open(covariance_file, 'rb') as handle:\n",
    "    Sigma_k = pickle.load(handle)\n",
    "uncorrelated_uncertainties = np.diagonal(Sigma_k)\n",
    "\n",
    "reaction_indices = np.arange(0, len(reaction_list))\n",
    "reaction_uncertainty_order = [x for _,x in sorted(zip(uncorrelated_uncertainties, reaction_indices))][::-1]"
   ]
  },
  {
   "cell_type": "code",
   "execution_count": 4,
   "id": "cdbf034c",
   "metadata": {},
   "outputs": [],
   "source": [
    "# get most sensitive reactions\n",
    "base_delay = 0.14857535\n",
    "reaction_delay_file = '/home/moon/autoscience/autoscience/butane/sensitivity_analysis/base_rmg24/reaction_ignition_delays_raw.npy'\n",
    "reaction_delays_raw = np.load(reaction_delay_file)\n",
    "reaction_sensitivities = ((reaction_delays_raw - base_delay) / base_delay) / 0.1\n",
    "\n",
    "reaction_sensitivity_order = [x for _,x in sorted(zip(np.abs(reaction_sensitivities), reaction_indices))][::-1]\n"
   ]
  },
  {
   "cell_type": "code",
   "execution_count": 5,
   "id": "1630843c",
   "metadata": {},
   "outputs": [],
   "source": [
    "# Calculate Improvement Score\n",
    "DFT_error = 3.0\n",
    "improvement_score = np.abs(reaction_sensitivities) * (uncorrelated_uncertainties - DFT_error)\n",
    "improvement_score_order = [x for _,x in sorted(zip(improvement_score, reaction_indices))][::-1]\n"
   ]
  },
  {
   "cell_type": "code",
   "execution_count": 6,
   "id": "130211ab",
   "metadata": {},
   "outputs": [],
   "source": [
    "# get most uncertain species\n",
    "species_uncertainty = '/home/moon/autoscience/autoscience/paper/models/base_rmg/thermo_uncertainty.npy'\n",
    "species_indices = np.arange(0, len(reaction_list))\n",
    "uncorrelated_species_uncertainties = np.load(species_uncertainty)\n",
    "species_uncertainty_order = [x for _,x in sorted(zip(uncorrelated_species_uncertainties, species_indices))][::-1]"
   ]
  },
  {
   "cell_type": "code",
   "execution_count": 7,
   "id": "bd122fdb",
   "metadata": {},
   "outputs": [],
   "source": [
    "# get most sensitive species\n",
    "base_delay = 0.14857535\n",
    "species_delay_file = '/home/moon/autoscience/autoscience/butane/sensitivity_analysis/base_rmg24/species_ignition_delays_raw.npy'\n",
    "species_delays_raw = np.load(species_delay_file)\n",
    "species_sensitivities = ((species_delays_raw - base_delay) / base_delay) / 0.1\n",
    "\n",
    "species_sensitivity_order = [x for _,x in sorted(zip(np.abs(species_sensitivities), species_indices))][::-1]\n"
   ]
  },
  {
   "cell_type": "code",
   "execution_count": 8,
   "id": "8baf0d3f",
   "metadata": {},
   "outputs": [],
   "source": [
    "# Calculate Improvement Score\n",
    "DFT_error = 3.0\n",
    "species_improvement_score = np.abs(species_sensitivities) * (uncorrelated_species_uncertainties - DFT_error)\n",
    "species_improvement_score_order = [x for _,x in sorted(zip(species_improvement_score, species_indices))][::-1]"
   ]
  },
  {
   "cell_type": "code",
   "execution_count": 9,
   "id": "3cb42b92",
   "metadata": {},
   "outputs": [],
   "source": [
    "# concatenate species then reactions to sort total\n",
    "total_sensitivities = np.concatenate((species_sensitivities, reaction_sensitivities))\n",
    "total_uncertainties = np.concatenate((uncorrelated_species_uncertainties, uncorrelated_uncertainties))\n",
    "total_indices = np.arange(0, len(species_list) + len(reaction_list))\n",
    "\n",
    "\n",
    "total_improvement_score = np.abs(total_sensitivities) * (total_uncertainties - DFT_error)\n",
    "total_improvement_score_order = [x for _,x in sorted(zip(total_improvement_score, total_indices))][::-1]\n"
   ]
  },
  {
   "cell_type": "code",
   "execution_count": 11,
   "id": "1e974198",
   "metadata": {},
   "outputs": [
    {
     "data": {
      "text/plain": [
       "87"
      ]
     },
     "execution_count": 11,
     "metadata": {},
     "output_type": "execute_result"
    }
   ],
   "source": [
    "total_improvement_score_order[0]"
   ]
  },
  {
   "cell_type": "code",
   "execution_count": 4,
   "id": "44da7ff8",
   "metadata": {},
   "outputs": [
    {
     "data": {
      "image/png": "[encoded data removed]",
      "text/plain": [
       "Species(index=911, label=\"[CH2]C(=O)COO\", thermo=NASA(polynomials=[NASAPolynomial(coeffs=[1.36989,0.0472371,-2.25693e-05,-9.30379e-09,7.74311e-12,-14793.8,26.6664], Tmin=(100,'K'), Tmax=(1021.7,'K')), NASAPolynomial(coeffs=[15.8615,0.0130323,-5.42944e-06,1.09562e-09,-8.27388e-14,-18930.9,-49.3129], Tmin=(1021.7,'K'), Tmax=(5000,'K'))], Tmin=(100,'K'), Tmax=(5000,'K'), comment=\"\"\"Thermo library: CurranPentane + radical(C2JC=O)\"\"\"), molecule=[Molecule(smiles=\"[CH2]C(=O)COO\"), Molecule(smiles=\"C=C([O])COO\")], transport_data=TransportData(shapeIndex=2, epsilon=(3915.5,'J/mol'), sigma=(6.256,'angstrom'), dipoleMoment=(0,'De'), polarizability=(0,'angstrom^3'), rotrelaxcollnum=0.0, comment=\"\"\"Epsilon & sigma estimated with Tc=611.59 K, Pc=36.29 bar (from Joback method)\"\"\"), molecular_weight=(89.07,'amu'))"
      ]
     },
     "execution_count": 4,
     "metadata": {},
     "output_type": "execute_result"
    }
   ],
   "source": [
    "species_list[87]"
   ]
  },
  {
   "cell_type": "code",
   "execution_count": 12,
   "id": "98c54894",
   "metadata": {},
   "outputs": [
    {
     "data": {
      "text/plain": [
       "434"
      ]
     },
     "execution_count": 12,
     "metadata": {},
     "output_type": "execute_result"
    }
   ],
   "source": [
    "total_improvement_score_order[3]"
   ]
  },
  {
   "cell_type": "code",
   "execution_count": 5,
   "id": "1d2416a3",
   "metadata": {},
   "outputs": [
    {
     "data": {
      "image/png": "[encoded data removed]",
      "text/plain": [
       "TemplateReaction(index=347, reactants=[Species(index=229, label=\"C4H8OOH2-4O2\", thermo=NASA(polynomials=[NASAPolynomial(coeffs=[4.97809,0.0630222,-5.08369e-05,2.14022e-08,-3.61838e-12,-23378.6,9.92186], Tmin=(200,'K'), Tmax=(1407,'K')), NASAPolynomial(coeffs=[22.0048,0.0184525,-5.96542e-06,8.91557e-10,-5.03719e-14,-28719.5,-79.666], Tmin=(1407,'K'), Tmax=(5000,'K'))], Tmin=(200,'K'), Tmax=(5000,'K'), comment=\"\"\"Thermo library: CurranPentane\"\"\"), molecule=[Molecule(smiles=\"CC(CCO[O])OO\")], transport_data=TransportData(shapeIndex=2, epsilon=(4363.18,'J/mol'), sigma=(7.265,'angstrom'), dipoleMoment=(0,'De'), polarizability=(0,'angstrom^3'), rotrelaxcollnum=0.0, comment=\"\"\"Epsilon & sigma estimated with Tc=681.52 K, Pc=25.82 bar (from Joback method)\"\"\"), molecular_weight=(121.112,'amu'))], products=[Species(index=225, label=\"C4H8OOH1-3O2\", thermo=NASA(polynomials=[NASAPolynomial(coeffs=[4.62285,0.0629063,-4.88786e-05,1.94853e-08,-3.10968e-12,-23281.3,11.9093], Tmin=(200,'K'), Tmax=(1403,'K')), NASAPolynomial(coeffs=[22.5294,0.0179966,-5.8986e-06,8.9046e-10,-5.06833e-14,-29083.3,-82.9866], Tmin=(1403,'K'), Tmax=(5000,'K'))], Tmin=(200,'K'), Tmax=(5000,'K'), comment=\"\"\"Thermo library: CurranPentane\"\"\"), molecule=[Molecule(smiles=\"CC(CCOO)O[O]\")], transport_data=TransportData(shapeIndex=2, epsilon=(4363.18,'J/mol'), sigma=(7.265,'angstrom'), dipoleMoment=(0,'De'), polarizability=(0,'angstrom^3'), rotrelaxcollnum=0.0, comment=\"\"\"Epsilon & sigma estimated with Tc=681.52 K, Pc=25.82 bar (from Joback method)\"\"\"), molecular_weight=(121.112,'amu'))], kinetics=Arrhenius(A=(474158,'s^-1'), n=1.155, Ea=(16.101,'kcal/mol'), T0=(1,'K'), comment=\"\"\"Estimated using template [R7H_OOCs4;O_rad_out;XH_out] for rate rule [R7H_OOCs4;O_rad_out;O_H_out]\n",
       "Euclidian distance = 1.0\n",
       "family: intra_H_migration\"\"\"), pairs=[(Species(index=229, label=\"C4H8OOH2-4O2\", thermo=NASA(polynomials=[NASAPolynomial(coeffs=[4.97809,0.0630222,-5.08369e-05,2.14022e-08,-3.61838e-12,-23378.6,9.92186], Tmin=(200,'K'), Tmax=(1407,'K')), NASAPolynomial(coeffs=[22.0048,0.0184525,-5.96542e-06,8.91557e-10,-5.03719e-14,-28719.5,-79.666], Tmin=(1407,'K'), Tmax=(5000,'K'))], Tmin=(200,'K'), Tmax=(5000,'K'), comment=\"\"\"Thermo library: CurranPentane\"\"\"), molecule=[Molecule(smiles=\"CC(CCO[O])OO\")], transport_data=TransportData(shapeIndex=2, epsilon=(4363.18,'J/mol'), sigma=(7.265,'angstrom'), dipoleMoment=(0,'De'), polarizability=(0,'angstrom^3'), rotrelaxcollnum=0.0, comment=\"\"\"Epsilon & sigma estimated with Tc=681.52 K, Pc=25.82 bar (from Joback method)\"\"\"), molecular_weight=(121.112,'amu')), Species(index=225, label=\"C4H8OOH1-3O2\", thermo=NASA(polynomials=[NASAPolynomial(coeffs=[4.62285,0.0629063,-4.88786e-05,1.94853e-08,-3.10968e-12,-23281.3,11.9093], Tmin=(200,'K'), Tmax=(1403,'K')), NASAPolynomial(coeffs=[22.5294,0.0179966,-5.8986e-06,8.9046e-10,-5.06833e-14,-29083.3,-82.9866], Tmin=(1403,'K'), Tmax=(5000,'K'))], Tmin=(200,'K'), Tmax=(5000,'K'), comment=\"\"\"Thermo library: CurranPentane\"\"\"), molecule=[Molecule(smiles=\"CC(CCOO)O[O]\")], transport_data=TransportData(shapeIndex=2, epsilon=(4363.18,'J/mol'), sigma=(7.265,'angstrom'), dipoleMoment=(0,'De'), polarizability=(0,'angstrom^3'), rotrelaxcollnum=0.0, comment=\"\"\"Epsilon & sigma estimated with Tc=681.52 K, Pc=25.82 bar (from Joback method)\"\"\"), molecular_weight=(121.112,'amu')))], family='intra_H_migration', template=['R7H_OOCs4', 'O_rad_out', 'O_H_out'])"
      ]
     },
     "execution_count": 5,
     "metadata": {},
     "output_type": "execute_result"
    }
   ],
   "source": [
    "reaction_list[324]"
   ]
  },
  {
   "cell_type": "code",
   "execution_count": 13,
   "id": "3f59162a",
   "metadata": {},
   "outputs": [
    {
     "data": {
      "text/plain": [
       "1398"
      ]
     },
     "execution_count": 13,
     "metadata": {},
     "output_type": "execute_result"
    }
   ],
   "source": [
    "total_improvement_score_order[8]"
   ]
  },
  {
   "cell_type": "code",
   "execution_count": 6,
   "id": "b4fa1a60",
   "metadata": {},
   "outputs": [
    {
     "data": {
      "image/png": "[encoded data removed]",
      "text/plain": [
       "TemplateReaction(index=1317, reactants=[Species(index=73, label=\"C3KET21\", thermo=NASA(polynomials=[NASAPolynomial(coeffs=[-0.874353,0.0612501,-5.51475e-05,2.48491e-08,-4.42613e-12,-35806.1,35.9306], Tmin=(200,'K'), Tmax=(1394,'K')), NASAPolynomial(coeffs=[17.5768,0.0120312,-4.11634e-06,6.40149e-10,-3.72128e-14,-41550.2,-60.9097], Tmin=(1394,'K'), Tmax=(5000,'K'))], Tmin=(200,'K'), Tmax=(5000,'K'), comment=\"\"\"Thermo library: CurranPentane\"\"\"), molecule=[Molecule(smiles=\"CC(=O)COO\")], transport_data=TransportData(shapeIndex=2, epsilon=(3915.5,'J/mol'), sigma=(6.256,'angstrom'), dipoleMoment=(0,'De'), polarizability=(0,'angstrom^3'), rotrelaxcollnum=0.0, comment=\"\"\"Epsilon & sigma estimated with Tc=611.59 K, Pc=36.29 bar (from Joback method)\"\"\"), molecular_weight=(90.078,'amu')), Species(index=182, label=\"PC4H9\", thermo=NASA(polynomials=[NASAPolynomial(coeffs=[0.350939,0.0447617,-2.76331e-05,9.10558e-09,-1.28318e-12,7745.08,25.3924], Tmin=(200,'K'), Tmax=(1393,'K')), NASAPolynomial(coeffs=[11.8227,0.0197585,-6.73845e-06,1.04383e-09,-6.04576e-14,3503.34,-36.9846], Tmin=(1393,'K'), Tmax=(5000,'K'))], Tmin=(200,'K'), Tmax=(5000,'K'), comment=\"\"\"Thermo library: CurranPentane\"\"\"), molecule=[Molecule(smiles=\"[CH2]CCC\")], transport_data=TransportData(shapeIndex=2, epsilon=(2968.28,'J/mol'), sigma=(5.176,'angstrom'), dipoleMoment=(0,'De'), polarizability=(0,'angstrom^3'), rotrelaxcollnum=1.0, comment=\"\"\"GRI-Mech\"\"\"), molecular_weight=(57.1143,'amu'))], products=[Species(index=72, label=\"CH3COCH2O2\", thermo=NASA(polynomials=[NASAPolynomial(coeffs=[1.19378,0.0498027,-4.18e-05,1.74528e-08,-2.88199e-12,-19324.4,26.7877], Tmin=(200,'K'), Tmax=(1397,'K')), NASAPolynomial(coeffs=[16.5756,0.0106465,-3.61369e-06,5.59054e-10,-3.23832e-14,-24254.1,-54.5305], Tmin=(1397,'K'), Tmax=(5000,'K'))], Tmin=(200,'K'), Tmax=(5000,'K'), comment=\"\"\"Thermo library: CurranPentane\"\"\"), molecule=[Molecule(smiles=\"CC(=O)CO[O]\")], transport_data=TransportData(shapeIndex=2, epsilon=(3915.5,'J/mol'), sigma=(6.256,'angstrom'), dipoleMoment=(0,'De'), polarizability=(0,'angstrom^3'), rotrelaxcollnum=0.0, comment=\"\"\"Epsilon & sigma estimated with Tc=611.59 K, Pc=36.29 bar (from Joback method)\"\"\"), molecular_weight=(89.07,'amu')), Species(index=1, label=\"butane\", thermo=NASA(polynomials=[NASAPolynomial(coeffs=[-0.402516,0.0479826,-2.65876e-05,7.07078e-09,-6.98493e-13,-16879.5,26.3199], Tmin=(200,'K'), Tmax=(1389,'K')), NASAPolynomial(coeffs=[12.5232,0.0218667,-7.50126e-06,1.16671e-09,-6.77697e-14,-21847.6,-44.6643], Tmin=(1389,'K'), Tmax=(5000,'K'))], Tmin=(200,'K'), Tmax=(5000,'K'), comment=\"\"\"Thermo library: CurranPentane\"\"\"), molecule=[Molecule(smiles=\"CCCC\")], transport_data=TransportData(shapeIndex=2, epsilon=(2896.89,'J/mol'), sigma=(5.415,'angstrom'), dipoleMoment=(0,'De'), polarizability=(0,'angstrom^3'), rotrelaxcollnum=0.0, comment=\"\"\"Epsilon & sigma estimated with Tc=452.49 K, Pc=41.41 bar (from Joback method)\"\"\"), molecular_weight=(58.1223,'amu'))], kinetics=Arrhenius(A=(0.00063914,'cm^3/(mol*s)'), n=4.352, Ea=(-1.737,'kcal/mol'), T0=(1,'K'), comment=\"\"\"Estimated using an average for rate rule [O/H/NonDeO;C_rad/H2/Cs]\n",
       "Euclidian distance = 0\n",
       "family: H_Abstraction\n",
       "Ea raised from -7.3 to -7.3 kJ/mol.\"\"\"), pairs=[(Species(index=73, label=\"C3KET21\", thermo=NASA(polynomials=[NASAPolynomial(coeffs=[-0.874353,0.0612501,-5.51475e-05,2.48491e-08,-4.42613e-12,-35806.1,35.9306], Tmin=(200,'K'), Tmax=(1394,'K')), NASAPolynomial(coeffs=[17.5768,0.0120312,-4.11634e-06,6.40149e-10,-3.72128e-14,-41550.2,-60.9097], Tmin=(1394,'K'), Tmax=(5000,'K'))], Tmin=(200,'K'), Tmax=(5000,'K'), comment=\"\"\"Thermo library: CurranPentane\"\"\"), molecule=[Molecule(smiles=\"CC(=O)COO\")], transport_data=TransportData(shapeIndex=2, epsilon=(3915.5,'J/mol'), sigma=(6.256,'angstrom'), dipoleMoment=(0,'De'), polarizability=(0,'angstrom^3'), rotrelaxcollnum=0.0, comment=\"\"\"Epsilon & sigma estimated with Tc=611.59 K, Pc=36.29 bar (from Joback method)\"\"\"), molecular_weight=(90.078,'amu')), Species(index=72, label=\"CH3COCH2O2\", thermo=NASA(polynomials=[NASAPolynomial(coeffs=[1.19378,0.0498027,-4.18e-05,1.74528e-08,-2.88199e-12,-19324.4,26.7877], Tmin=(200,'K'), Tmax=(1397,'K')), NASAPolynomial(coeffs=[16.5756,0.0106465,-3.61369e-06,5.59054e-10,-3.23832e-14,-24254.1,-54.5305], Tmin=(1397,'K'), Tmax=(5000,'K'))], Tmin=(200,'K'), Tmax=(5000,'K'), comment=\"\"\"Thermo library: CurranPentane\"\"\"), molecule=[Molecule(smiles=\"CC(=O)CO[O]\")], transport_data=TransportData(shapeIndex=2, epsilon=(3915.5,'J/mol'), sigma=(6.256,'angstrom'), dipoleMoment=(0,'De'), polarizability=(0,'angstrom^3'), rotrelaxcollnum=0.0, comment=\"\"\"Epsilon & sigma estimated with Tc=611.59 K, Pc=36.29 bar (from Joback method)\"\"\"), molecular_weight=(89.07,'amu'))), (Species(index=182, label=\"PC4H9\", thermo=NASA(polynomials=[NASAPolynomial(coeffs=[0.350939,0.0447617,-2.76331e-05,9.10558e-09,-1.28318e-12,7745.08,25.3924], Tmin=(200,'K'), Tmax=(1393,'K')), NASAPolynomial(coeffs=[11.8227,0.0197585,-6.73845e-06,1.04383e-09,-6.04576e-14,3503.34,-36.9846], Tmin=(1393,'K'), Tmax=(5000,'K'))], Tmin=(200,'K'), Tmax=(5000,'K'), comment=\"\"\"Thermo library: CurranPentane\"\"\"), molecule=[Molecule(smiles=\"[CH2]CCC\")], transport_data=TransportData(shapeIndex=2, epsilon=(2968.28,'J/mol'), sigma=(5.176,'angstrom'), dipoleMoment=(0,'De'), polarizability=(0,'angstrom^3'), rotrelaxcollnum=1.0, comment=\"\"\"GRI-Mech\"\"\"), molecular_weight=(57.1143,'amu')), Species(index=1, label=\"butane\", thermo=NASA(polynomials=[NASAPolynomial(coeffs=[-0.402516,0.0479826,-2.65876e-05,7.07078e-09,-6.98493e-13,-16879.5,26.3199], Tmin=(200,'K'), Tmax=(1389,'K')), NASAPolynomial(coeffs=[12.5232,0.0218667,-7.50126e-06,1.16671e-09,-6.77697e-14,-21847.6,-44.6643], Tmin=(1389,'K'), Tmax=(5000,'K'))], Tmin=(200,'K'), Tmax=(5000,'K'), comment=\"\"\"Thermo library: CurranPentane\"\"\"), molecule=[Molecule(smiles=\"CCCC\")], transport_data=TransportData(shapeIndex=2, epsilon=(2896.89,'J/mol'), sigma=(5.415,'angstrom'), dipoleMoment=(0,'De'), polarizability=(0,'angstrom^3'), rotrelaxcollnum=0.0, comment=\"\"\"Epsilon & sigma estimated with Tc=452.49 K, Pc=41.41 bar (from Joback method)\"\"\"), molecular_weight=(58.1223,'amu')))], family='H_Abstraction', template=['O/H/NonDeO', 'C_rad/H2/Cs'])"
      ]
     },
     "execution_count": 6,
     "metadata": {},
     "output_type": "execute_result"
    }
   ],
   "source": [
    "reaction_list[1288]"
   ]
  },
  {
   "cell_type": "code",
   "execution_count": 16,
   "id": "f62d5d0e",
   "metadata": {},
   "outputs": [
    {
     "data": {
      "text/plain": [
       "1824"
      ]
     },
     "execution_count": 16,
     "metadata": {},
     "output_type": "execute_result"
    }
   ],
   "source": [
    "total_improvement_score_order[31]"
   ]
  },
  {
   "cell_type": "code",
   "execution_count": 7,
   "id": "c7665fa0",
   "metadata": {},
   "outputs": [
    {
     "data": {
      "image/png": "[encoded data removed]",
      "text/plain": [
       "TemplateReaction(index=1743, reactants=[Species(index=223, label=\"C4H8OOH2-4\", thermo=NASA(polynomials=[NASAPolynomial(coeffs=[1.17741,0.0615983,-5.08528e-05,2.20416e-08,-3.84993e-12,-4548.49,24.6741], Tmin=(200,'K'), Tmax=(1399,'K')), NASAPolynomial(coeffs=[17.7802,0.0177014,-5.77664e-06,8.69169e-10,-4.93475e-14,-9757.28,-62.6039], Tmin=(1399,'K'), Tmax=(5000,'K'))], Tmin=(200,'K'), Tmax=(5000,'K'), comment=\"\"\"Thermo library: CurranPentane\"\"\"), molecule=[Molecule(smiles=\"[CH2]CC(C)OO\")], transport_data=TransportData(shapeIndex=2, epsilon=(3658.62,'J/mol'), sigma=(6.371,'angstrom'), dipoleMoment=(0,'De'), polarizability=(0,'angstrom^3'), rotrelaxcollnum=0.0, comment=\"\"\"Epsilon & sigma estimated with Tc=571.47 K, Pc=32.1 bar (from Joback method)\"\"\"), molecular_weight=(89.1131,'amu')), Species(index=1, label=\"butane\", thermo=NASA(polynomials=[NASAPolynomial(coeffs=[-0.402516,0.0479826,-2.65876e-05,7.07078e-09,-6.98493e-13,-16879.5,26.3199], Tmin=(200,'K'), Tmax=(1389,'K')), NASAPolynomial(coeffs=[12.5232,0.0218667,-7.50126e-06,1.16671e-09,-6.77697e-14,-21847.6,-44.6643], Tmin=(1389,'K'), Tmax=(5000,'K'))], Tmin=(200,'K'), Tmax=(5000,'K'), comment=\"\"\"Thermo library: CurranPentane\"\"\"), molecule=[Molecule(smiles=\"CCCC\")], transport_data=TransportData(shapeIndex=2, epsilon=(2896.89,'J/mol'), sigma=(5.415,'angstrom'), dipoleMoment=(0,'De'), polarizability=(0,'angstrom^3'), rotrelaxcollnum=0.0, comment=\"\"\"Epsilon & sigma estimated with Tc=452.49 K, Pc=41.41 bar (from Joback method)\"\"\"), molecular_weight=(58.1223,'amu'))], products=[Species(index=183, label=\"SC4H9\", thermo=NASA(polynomials=[NASAPolynomial(coeffs=[0.623604,0.039929,-1.89597e-05,3.45938e-09,-2.39236e-14,6176.89,25.2738], Tmin=(200,'K'), Tmax=(1388,'K')), NASAPolynomial(coeffs=[11.137,0.0204039,-6.97571e-06,1.08245e-09,-6.27715e-14,1955.91,-33.0856], Tmin=(1388,'K'), Tmax=(5000,'K'))], Tmin=(200,'K'), Tmax=(5000,'K'), comment=\"\"\"Thermo library: CurranPentane\"\"\"), molecule=[Molecule(smiles=\"C[CH]CC\")], transport_data=TransportData(shapeIndex=2, epsilon=(2968.28,'J/mol'), sigma=(5.176,'angstrom'), dipoleMoment=(0,'De'), polarizability=(0,'angstrom^3'), rotrelaxcollnum=1.0, comment=\"\"\"GRI-Mech\"\"\"), molecular_weight=(57.1143,'amu')), Species(index=187, label=\"SC4H9O2H\", thermo=NASA(polynomials=[NASAPolynomial(coeffs=[0.405945,0.064897,-4.98858e-05,2.00009e-08,-3.25194e-12,-29170.4,26.374], Tmin=(200,'K'), Tmax=(1395,'K')), NASAPolynomial(coeffs=[18.5277,0.0196998,-6.48704e-06,9.82426e-10,-5.60434e-14,-35115.3,-69.8323], Tmin=(1395,'K'), Tmax=(5000,'K'))], Tmin=(200,'K'), Tmax=(5000,'K'), comment=\"\"\"Thermo library: CurranPentane\"\"\"), molecule=[Molecule(smiles=\"CCC(C)OO\")], transport_data=TransportData(shapeIndex=2, epsilon=(3658.62,'J/mol'), sigma=(6.371,'angstrom'), dipoleMoment=(0,'De'), polarizability=(0,'angstrom^3'), rotrelaxcollnum=0.0, comment=\"\"\"Epsilon & sigma estimated with Tc=571.47 K, Pc=32.1 bar (from Joback method)\"\"\"), molecular_weight=(90.1211,'amu'))], kinetics=Arrhenius(A=(0.00432773,'cm^3/(mol*s)'), n=4.29, Ea=(7.536,'kcal/mol'), T0=(1,'K'), comment=\"\"\"Estimated using template [C/H2/NonDeC;C_rad/H2/Cs] for rate rule [C/H2/NonDeC;C_rad/H2/Cs\\H2\\Cs|Cs|O]\n",
       "Euclidian distance = 1.0\n",
       "Multiplied by reaction path degeneracy 4.0\n",
       "family: H_Abstraction\"\"\"), degeneracy=4.0, pairs=[(Species(index=223, label=\"C4H8OOH2-4\", thermo=NASA(polynomials=[NASAPolynomial(coeffs=[1.17741,0.0615983,-5.08528e-05,2.20416e-08,-3.84993e-12,-4548.49,24.6741], Tmin=(200,'K'), Tmax=(1399,'K')), NASAPolynomial(coeffs=[17.7802,0.0177014,-5.77664e-06,8.69169e-10,-4.93475e-14,-9757.28,-62.6039], Tmin=(1399,'K'), Tmax=(5000,'K'))], Tmin=(200,'K'), Tmax=(5000,'K'), comment=\"\"\"Thermo library: CurranPentane\"\"\"), molecule=[Molecule(smiles=\"[CH2]CC(C)OO\")], transport_data=TransportData(shapeIndex=2, epsilon=(3658.62,'J/mol'), sigma=(6.371,'angstrom'), dipoleMoment=(0,'De'), polarizability=(0,'angstrom^3'), rotrelaxcollnum=0.0, comment=\"\"\"Epsilon & sigma estimated with Tc=571.47 K, Pc=32.1 bar (from Joback method)\"\"\"), molecular_weight=(89.1131,'amu')), Species(index=187, label=\"SC4H9O2H\", thermo=NASA(polynomials=[NASAPolynomial(coeffs=[0.405945,0.064897,-4.98858e-05,2.00009e-08,-3.25194e-12,-29170.4,26.374], Tmin=(200,'K'), Tmax=(1395,'K')), NASAPolynomial(coeffs=[18.5277,0.0196998,-6.48704e-06,9.82426e-10,-5.60434e-14,-35115.3,-69.8323], Tmin=(1395,'K'), Tmax=(5000,'K'))], Tmin=(200,'K'), Tmax=(5000,'K'), comment=\"\"\"Thermo library: CurranPentane\"\"\"), molecule=[Molecule(smiles=\"CCC(C)OO\")], transport_data=TransportData(shapeIndex=2, epsilon=(3658.62,'J/mol'), sigma=(6.371,'angstrom'), dipoleMoment=(0,'De'), polarizability=(0,'angstrom^3'), rotrelaxcollnum=0.0, comment=\"\"\"Epsilon & sigma estimated with Tc=571.47 K, Pc=32.1 bar (from Joback method)\"\"\"), molecular_weight=(90.1211,'amu'))), (Species(index=1, label=\"butane\", thermo=NASA(polynomials=[NASAPolynomial(coeffs=[-0.402516,0.0479826,-2.65876e-05,7.07078e-09,-6.98493e-13,-16879.5,26.3199], Tmin=(200,'K'), Tmax=(1389,'K')), NASAPolynomial(coeffs=[12.5232,0.0218667,-7.50126e-06,1.16671e-09,-6.77697e-14,-21847.6,-44.6643], Tmin=(1389,'K'), Tmax=(5000,'K'))], Tmin=(200,'K'), Tmax=(5000,'K'), comment=\"\"\"Thermo library: CurranPentane\"\"\"), molecule=[Molecule(smiles=\"CCCC\")], transport_data=TransportData(shapeIndex=2, epsilon=(2896.89,'J/mol'), sigma=(5.415,'angstrom'), dipoleMoment=(0,'De'), polarizability=(0,'angstrom^3'), rotrelaxcollnum=0.0, comment=\"\"\"Epsilon & sigma estimated with Tc=452.49 K, Pc=41.41 bar (from Joback method)\"\"\"), molecular_weight=(58.1223,'amu')), Species(index=183, label=\"SC4H9\", thermo=NASA(polynomials=[NASAPolynomial(coeffs=[0.623604,0.039929,-1.89597e-05,3.45938e-09,-2.39236e-14,6176.89,25.2738], Tmin=(200,'K'), Tmax=(1388,'K')), NASAPolynomial(coeffs=[11.137,0.0204039,-6.97571e-06,1.08245e-09,-6.27715e-14,1955.91,-33.0856], Tmin=(1388,'K'), Tmax=(5000,'K'))], Tmin=(200,'K'), Tmax=(5000,'K'), comment=\"\"\"Thermo library: CurranPentane\"\"\"), molecule=[Molecule(smiles=\"C[CH]CC\")], transport_data=TransportData(shapeIndex=2, epsilon=(2968.28,'J/mol'), sigma=(5.176,'angstrom'), dipoleMoment=(0,'De'), polarizability=(0,'angstrom^3'), rotrelaxcollnum=1.0, comment=\"\"\"GRI-Mech\"\"\"), molecular_weight=(57.1143,'amu')))], family='H_Abstraction', template=['C/H2/NonDeC', 'C_rad/H2/Cs\\\\H2\\\\Cs|Cs|O'])"
      ]
     },
     "execution_count": 7,
     "metadata": {},
     "output_type": "execute_result"
    }
   ],
   "source": [
    "reaction_list[1714]"
   ]
  },
  {
   "cell_type": "markdown",
   "id": "b9e72aec",
   "metadata": {},
   "source": [
    "# Generate the Mechanisms"
   ]
  },
  {
   "cell_type": "code",
   "execution_count": 17,
   "id": "df195e2a",
   "metadata": {},
   "outputs": [
    {
     "name": "stdout",
     "output_type": "stream",
     "text": [
      "129 kinetics entries loaded\n",
      "178 thermo entries loaded\n",
      "changing reaction 324 C4H8OOH2-4O2(229) <=> C4H8OOH1-3O2(225)\n",
      "changing reaction 1288 C3KET21(73) + PC4H9(182) <=> CH3COCH2O2(72) + butane(1)\n",
      "changing reaction 1714 C4H8OOH2-4(223) + butane(1) <=> SC4H9(183) + SC4H9O2H(187)\n",
      "could not match reaction index 2014\n",
      "could not match reaction index 2474\n",
      "could not match reaction index 2477\n",
      "could not match reaction index 2478\n",
      "could not match reaction index 2479\n",
      "could not match reaction index 2486\n",
      "could not match reaction index 2488\n",
      "could not match reaction index 2489\n",
      "could not match reaction index 2492\n",
      "could not match reaction index 2494\n",
      "could not match reaction index 2495\n",
      "could not match reaction index 2496\n",
      "could not match reaction index 2497\n",
      "could not match reaction index 2499\n",
      "could not match reaction index 2500\n",
      "could not match reaction index 2507\n",
      "could not match reaction index 2566\n",
      "3 kinetics changed\n",
      "Changing estimated thermo 87: [CH2]C(=O)COO(911)\n"
     ]
    },
    {
     "name": "stderr",
     "output_type": "stream",
     "text": [
      "WARNING:root:Marked reaction CH3(18) + C2H3(22) <=> C3H6(12) as duplicate of C3H6(12) <=> CH3(18) + C2H3(22) for saving to Chemkin file.\n"
     ]
    },
    {
     "name": "stdout",
     "output_type": "stream",
     "text": [
      "1 species changed\n",
      "Wrote CTI mechanism file to '/home/moon/autoscience/autoscience/paper/error_vs_num_included/change4.cti'.\n",
      "Mechanism contains 110 species and 1850 reactions.\n",
      "Validating mechanism...PASSED.\n",
      "Wrote YAML mechanism file to '/home/moon/autoscience/autoscience/paper/error_vs_num_included/change4.yaml'.\n",
      "Mechanism contains 110 species and 1850 reactions.\n",
      "Validating mechanism...\n",
      "PASSED\n"
     ]
    },
    {
     "data": {
      "text/plain": [
       "CompletedProcess(args=['ck2yaml', '--input=/home/moon/autoscience/autoscience/paper/error_vs_num_included/change4.inp', '--transport=/home/moon/autoscience/autoscience/butane/models/rmg_model/tran.dat', '--output=/home/moon/autoscience/autoscience/paper/error_vs_num_included/change4.yaml'], returncode=0)"
      ]
     },
     "execution_count": 17,
     "metadata": {},
     "output_type": "execute_result"
    }
   ],
   "source": [
    "save_dir = '/home/moon/autoscience/autoscience/paper/error_vs_num_included'\n",
    "# for e in range(0, 51):\n",
    "\n",
    "# load the base mechanism\n",
    "basedir = '/home/moon/autoscience/autoscience/butane/models/rmg_model'\n",
    "base_chemkin = os.path.join(basedir, 'chem_annotated.inp')\n",
    "dictionary = os.path.join(basedir, 'species_dictionary.txt')\n",
    "transport = os.path.join(basedir, 'tran.dat')\n",
    "species_list, reaction_list = rmgpy.chemkin.load_chemkin_file(base_chemkin, dictionary_path=dictionary, transport_path=transport)\n",
    "\n",
    "# Load the new kinetics library\n",
    "#     DFT_DIR = \"/work/westgroup/harris.se/autoscience/autoscience/butane/dft/\"\n",
    "DFT_DIR = \"/home/moon/autoscience/autoscience/butane/dft/\"\n",
    "kinetics_lib = os.path.join(DFT_DIR, 'kinetics', 'kinetics')\n",
    "ark_kinetics_database = rmgpy.data.kinetics.KineticsDatabase()\n",
    "ark_kinetics_database.load_libraries(kinetics_lib)\n",
    "print(f'{len(ark_kinetics_database.libraries[\"\"].entries)} kinetics entries loaded')\n",
    "\n",
    "# Load the new thermo library\n",
    "thermo_lib = os.path.join(DFT_DIR, 'thermo', 'thermo')\n",
    "ark_thermo_database = rmgpy.data.thermo.ThermoDatabase()\n",
    "ark_thermo_database.load_libraries(thermo_lib)\n",
    "print(f'{len(ark_thermo_database.libraries[\"harris_butane\"].entries)} thermo entries loaded')\n",
    "\n",
    "\n",
    "species_change_list = [87]\n",
    "reaction_change_list = [324, 1288, 1714]\n",
    "\n",
    "# change relevant kinetics\n",
    "total_changed = 0\n",
    "for key in ark_kinetics_database.libraries[''].entries.keys():\n",
    "    entry = ark_kinetics_database.libraries[''].entries[key]\n",
    "    index = entry.index\n",
    "    for i in range(0, len(reaction_list)):\n",
    "        if entry.item.is_isomorphic(reaction_list[i]):\n",
    "            rmg_rxn_index = i\n",
    "            break\n",
    "    else:  \n",
    "        print(f'could not match reaction index {index}')\n",
    "        continue\n",
    "\n",
    "    if rmg_rxn_index in reaction_change_list:\n",
    "        print(f'changing reaction {rmg_rxn_index} {reaction_list[rmg_rxn_index]}')\n",
    "        reaction_list[rmg_rxn_index].kinetics = entry.data\n",
    "        total_changed += 1\n",
    "print(total_changed, 'kinetics changed')\n",
    "\n",
    "\n",
    "# change the relevant thermo\n",
    "sp_changed = 0\n",
    "for key in ark_thermo_database.libraries['harris_butane'].entries.keys():\n",
    "    entry = ark_thermo_database.libraries['harris_butane'].entries[key]\n",
    "\n",
    "    for i, species in enumerate(species_list):\n",
    "        if entry.item.smiles == species.smiles:\n",
    "            rmg_species_index = i\n",
    "            break\n",
    "    else:\n",
    "        entry_sp = rmgpy.species.Species(smiles=entry.item.smiles)\n",
    "        for j, species in enumerate(species_list):\n",
    "            if entry_sp.is_isomorphic(species.molecule[0]):\n",
    "                rmg_species_index = i\n",
    "                'matched'\n",
    "                break\n",
    "        else:\n",
    "            continue\n",
    "            raise ValueError (f'could not match species index {entry}')\n",
    "\n",
    "    if rmg_species_index in species_change_list:\n",
    "        print(f'Changing estimated thermo {rmg_species_index}: {species_list[rmg_species_index]}')\n",
    "        species_list[rmg_species_index].thermo = entry.data\n",
    "\n",
    "        sp_changed += 1\n",
    "\n",
    "print(sp_changed, 'species changed')\n",
    "\n",
    "# export the mechanism\n",
    "chemkin_file = os.path.join(save_dir, f'change4.inp')\n",
    "rmgpy.chemkin.save_chemkin_file(chemkin_file, species_list, reaction_list, verbose=True, check_for_duplicates=True)\n",
    "subprocess.run(['ck2cti', f'--input={chemkin_file}', f'--transport={transport}', f'--output={chemkin_file[:-4]}.cti'])\n",
    "subprocess.run(['ck2yaml', f'--input={chemkin_file}', f'--transport={transport}', f'--output={chemkin_file[:-4]}.yaml'])"
   ]
  },
  {
   "cell_type": "code",
   "execution_count": null,
   "id": "719a5adc",
   "metadata": {},
   "outputs": [],
   "source": []
  }
 ],
 "metadata": {
  "kernelspec": {
   "display_name": "Python 3 (ipykernel)",
   "language": "python",
   "name": "python3"
  },
  "language_info": {
   "codemirror_mode": {
    "name": "ipython",
    "version": 3
   },
   "file_extension": ".py",
   "mimetype": "text/x-python",
   "name": "python",
   "nbconvert_exporter": "python",
   "pygments_lexer": "ipython3",
   "version": "3.7.12"
  }
 },
 "nbformat": 4,
 "nbformat_minor": 5
}
