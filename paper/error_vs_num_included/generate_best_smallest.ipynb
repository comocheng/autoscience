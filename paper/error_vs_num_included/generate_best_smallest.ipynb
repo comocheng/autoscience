{
 "cells": [
  {
   "cell_type": "code",
   "execution_count": 1,
   "id": "2afaeff7",
   "metadata": {},
   "outputs": [],
   "source": [
    "# script to generate 20 mechanisms with the top 20 parameters to include"
   ]
  },
  {
   "cell_type": "markdown",
   "id": "742fbd91",
   "metadata": {},
   "source": [
    "# generate the lists of top parameters"
   ]
  },
  {
   "cell_type": "code",
   "execution_count": 1,
   "id": "6102a89f",
   "metadata": {},
   "outputs": [],
   "source": [
    "import os\n",
    "import sys\n",
    "import copy\n",
    "import pickle\n",
    "import subprocess\n",
    "\n",
    "import numpy as np\n",
    "import rmgpy.chemkin\n",
    "\n",
    "import matplotlib.pyplot as plt\n",
    "%matplotlib inline"
   ]
  },
  {
   "cell_type": "code",
   "execution_count": 2,
   "id": "3ccd8d01",
   "metadata": {},
   "outputs": [],
   "source": [
    "basedir = '/home/moon/autoscience/autoscience/butane/models/rmg_model'\n",
    "\n",
    "base_chemkin = os.path.join(basedir, 'chem_annotated.inp')\n",
    "dictionary = os.path.join(basedir, 'species_dictionary.txt')\n",
    "transport = os.path.join(basedir, 'tran.dat')\n",
    "\n",
    "species_list, reaction_list = rmgpy.chemkin.load_chemkin_file(base_chemkin, dictionary_path=dictionary, transport_path=transport)\n",
    "\n",
    "\n"
   ]
  },
  {
   "cell_type": "code",
   "execution_count": 3,
   "id": "3fe0f580",
   "metadata": {},
   "outputs": [],
   "source": [
    "# get most uncertain reactions\n",
    "covariance_file = '/home/moon/autoscience/autoscience/uncertainty/butane_covariance.pickle'\n",
    "with open(covariance_file, 'rb') as handle:\n",
    "    Sigma_k = pickle.load(handle)\n",
    "uncorrelated_uncertainties = np.diagonal(Sigma_k)\n",
    "\n",
    "reaction_indices = np.arange(0, len(reaction_list))\n",
    "reaction_uncertainty_order = [x for _,x in sorted(zip(uncorrelated_uncertainties, reaction_indices))][::-1]"
   ]
  },
  {
   "cell_type": "code",
   "execution_count": 4,
   "id": "cdbf034c",
   "metadata": {},
   "outputs": [],
   "source": [
    "# get most sensitive reactions\n",
    "base_delay = 0.14857535\n",
    "reaction_delay_file = '/home/moon/autoscience/autoscience/butane/sensitivity_analysis/base_rmg24/reaction_ignition_delays_raw.npy'\n",
    "reaction_delays_raw = np.load(reaction_delay_file)\n",
    "reaction_sensitivities = ((reaction_delays_raw - base_delay) / base_delay) / 0.1\n",
    "\n",
    "reaction_sensitivity_order = [x for _,x in sorted(zip(np.abs(reaction_sensitivities), reaction_indices))][::-1]\n"
   ]
  },
  {
   "cell_type": "code",
   "execution_count": 5,
   "id": "1630843c",
   "metadata": {},
   "outputs": [],
   "source": [
    "# Calculate Improvement Score\n",
    "DFT_error = 3.0\n",
    "improvement_score = np.abs(reaction_sensitivities) * (uncorrelated_uncertainties - DFT_error)\n",
    "improvement_score_order = [x for _,x in sorted(zip(improvement_score, reaction_indices))][::-1]\n"
   ]
  },
  {
   "cell_type": "code",
   "execution_count": 6,
   "id": "130211ab",
   "metadata": {},
   "outputs": [],
   "source": [
    "# get most uncertain species\n",
    "species_uncertainty = '/home/moon/autoscience/autoscience/paper/models/base_rmg/thermo_uncertainty.npy'\n",
    "species_indices = np.arange(0, len(reaction_list))\n",
    "uncorrelated_species_uncertainties = np.load(species_uncertainty)\n",
    "species_uncertainty_order = [x for _,x in sorted(zip(uncorrelated_species_uncertainties, species_indices))][::-1]"
   ]
  },
  {
   "cell_type": "code",
   "execution_count": 7,
   "id": "bd122fdb",
   "metadata": {},
   "outputs": [],
   "source": [
    "# get most sensitive species\n",
    "base_delay = 0.14857535\n",
    "species_delay_file = '/home/moon/autoscience/autoscience/butane/sensitivity_analysis/base_rmg24/species_ignition_delays_raw.npy'\n",
    "species_delays_raw = np.load(species_delay_file)\n",
    "species_sensitivities = ((species_delays_raw - base_delay) / base_delay) / 0.1\n",
    "\n",
    "species_sensitivity_order = [x for _,x in sorted(zip(np.abs(species_sensitivities), species_indices))][::-1]\n"
   ]
  },
  {
   "cell_type": "code",
   "execution_count": 8,
   "id": "8baf0d3f",
   "metadata": {},
   "outputs": [],
   "source": [
    "# Calculate Improvement Score\n",
    "DFT_error = 3.0\n",
    "species_improvement_score = np.abs(species_sensitivities) * (uncorrelated_species_uncertainties - DFT_error)\n",
    "species_improvement_score_order = [x for _,x in sorted(zip(species_improvement_score, species_indices))][::-1]"
   ]
  },
  {
   "cell_type": "code",
   "execution_count": 9,
   "id": "3cb42b92",
   "metadata": {},
   "outputs": [],
   "source": [
    "# concatenate species then reactions to sort total\n",
    "total_sensitivities = np.concatenate((species_sensitivities, reaction_sensitivities))\n",
    "total_uncertainties = np.concatenate((uncorrelated_species_uncertainties, uncorrelated_uncertainties))\n",
    "total_indices = np.arange(0, len(species_list) + len(reaction_list))\n",
    "\n",
    "\n",
    "total_improvement_score = np.abs(total_sensitivities) * (total_uncertainties - DFT_error)\n",
    "total_improvement_score_order = [x for _,x in sorted(zip(total_improvement_score, total_indices))][::-1]\n"
   ]
  },
  {
   "cell_type": "code",
   "execution_count": 11,
   "id": "1e974198",
   "metadata": {},
   "outputs": [
    {
     "data": {
      "text/plain": [
       "87"
      ]
     },
     "execution_count": 11,
     "metadata": {},
     "output_type": "execute_result"
    }
   ],
   "source": [
    "total_improvement_score_order[0]"
   ]
  },
  {
   "cell_type": "code",
   "execution_count": 12,
   "id": "98c54894",
   "metadata": {},
   "outputs": [
    {
     "data": {
      "text/plain": [
       "434"
      ]
     },
     "execution_count": 12,
     "metadata": {},
     "output_type": "execute_result"
    }
   ],
   "source": [
    "total_improvement_score_order[3]"
   ]
  },
  {
   "cell_type": "code",
   "execution_count": 13,
   "id": "3f59162a",
   "metadata": {},
   "outputs": [
    {
     "data": {
      "text/plain": [
       "1398"
      ]
     },
     "execution_count": 13,
     "metadata": {},
     "output_type": "execute_result"
    }
   ],
   "source": [
    "total_improvement_score_order[8]"
   ]
  },
  {
   "cell_type": "code",
   "execution_count": 16,
   "id": "f62d5d0e",
   "metadata": {},
   "outputs": [
    {
     "data": {
      "text/plain": [
       "1824"
      ]
     },
     "execution_count": 16,
     "metadata": {},
     "output_type": "execute_result"
    }
   ],
   "source": [
    "total_improvement_score_order[31]"
   ]
  },
  {
   "cell_type": "markdown",
   "id": "b9e72aec",
   "metadata": {},
   "source": [
    "# Generate the Mechanisms"
   ]
  },
  {
   "cell_type": "code",
   "execution_count": 17,
   "id": "df195e2a",
   "metadata": {},
   "outputs": [
    {
     "name": "stdout",
     "output_type": "stream",
     "text": [
      "129 kinetics entries loaded\n",
      "178 thermo entries loaded\n",
      "changing reaction 324 C4H8OOH2-4O2(229) <=> C4H8OOH1-3O2(225)\n",
      "changing reaction 1288 C3KET21(73) + PC4H9(182) <=> CH3COCH2O2(72) + butane(1)\n",
      "changing reaction 1714 C4H8OOH2-4(223) + butane(1) <=> SC4H9(183) + SC4H9O2H(187)\n",
      "could not match reaction index 2014\n",
      "could not match reaction index 2474\n",
      "could not match reaction index 2477\n",
      "could not match reaction index 2478\n",
      "could not match reaction index 2479\n",
      "could not match reaction index 2486\n",
      "could not match reaction index 2488\n",
      "could not match reaction index 2489\n",
      "could not match reaction index 2492\n",
      "could not match reaction index 2494\n",
      "could not match reaction index 2495\n",
      "could not match reaction index 2496\n",
      "could not match reaction index 2497\n",
      "could not match reaction index 2499\n",
      "could not match reaction index 2500\n",
      "could not match reaction index 2507\n",
      "could not match reaction index 2566\n",
      "3 kinetics changed\n",
      "Changing estimated thermo 87: [CH2]C(=O)COO(911)\n"
     ]
    },
    {
     "name": "stderr",
     "output_type": "stream",
     "text": [
      "WARNING:root:Marked reaction CH3(18) + C2H3(22) <=> C3H6(12) as duplicate of C3H6(12) <=> CH3(18) + C2H3(22) for saving to Chemkin file.\n"
     ]
    },
    {
     "name": "stdout",
     "output_type": "stream",
     "text": [
      "1 species changed\n",
      "Wrote CTI mechanism file to '/home/moon/autoscience/autoscience/paper/error_vs_num_included/change4.cti'.\n",
      "Mechanism contains 110 species and 1850 reactions.\n",
      "Validating mechanism...PASSED.\n",
      "Wrote YAML mechanism file to '/home/moon/autoscience/autoscience/paper/error_vs_num_included/change4.yaml'.\n",
      "Mechanism contains 110 species and 1850 reactions.\n",
      "Validating mechanism...\n",
      "PASSED\n"
     ]
    },
    {
     "data": {
      "text/plain": [
       "CompletedProcess(args=['ck2yaml', '--input=/home/moon/autoscience/autoscience/paper/error_vs_num_included/change4.inp', '--transport=/home/moon/autoscience/autoscience/butane/models/rmg_model/tran.dat', '--output=/home/moon/autoscience/autoscience/paper/error_vs_num_included/change4.yaml'], returncode=0)"
      ]
     },
     "execution_count": 17,
     "metadata": {},
     "output_type": "execute_result"
    }
   ],
   "source": [
    "save_dir = '/home/moon/autoscience/autoscience/paper/error_vs_num_included'\n",
    "# for e in range(0, 51):\n",
    "\n",
    "# load the base mechanism\n",
    "basedir = '/home/moon/autoscience/autoscience/butane/models/rmg_model'\n",
    "base_chemkin = os.path.join(basedir, 'chem_annotated.inp')\n",
    "dictionary = os.path.join(basedir, 'species_dictionary.txt')\n",
    "transport = os.path.join(basedir, 'tran.dat')\n",
    "species_list, reaction_list = rmgpy.chemkin.load_chemkin_file(base_chemkin, dictionary_path=dictionary, transport_path=transport)\n",
    "\n",
    "# Load the new kinetics library\n",
    "#     DFT_DIR = \"/work/westgroup/harris.se/autoscience/autoscience/butane/dft/\"\n",
    "DFT_DIR = \"/home/moon/autoscience/autoscience/butane/dft/\"\n",
    "kinetics_lib = os.path.join(DFT_DIR, 'kinetics', 'kinetics')\n",
    "ark_kinetics_database = rmgpy.data.kinetics.KineticsDatabase()\n",
    "ark_kinetics_database.load_libraries(kinetics_lib)\n",
    "print(f'{len(ark_kinetics_database.libraries[\"\"].entries)} kinetics entries loaded')\n",
    "\n",
    "# Load the new thermo library\n",
    "thermo_lib = os.path.join(DFT_DIR, 'thermo', 'thermo')\n",
    "ark_thermo_database = rmgpy.data.thermo.ThermoDatabase()\n",
    "ark_thermo_database.load_libraries(thermo_lib)\n",
    "print(f'{len(ark_thermo_database.libraries[\"harris_butane\"].entries)} thermo entries loaded')\n",
    "\n",
    "\n",
    "species_change_list = [87]\n",
    "reaction_change_list = [324, 1288, 1714]\n",
    "\n",
    "# change relevant kinetics\n",
    "total_changed = 0\n",
    "for key in ark_kinetics_database.libraries[''].entries.keys():\n",
    "    entry = ark_kinetics_database.libraries[''].entries[key]\n",
    "    index = entry.index\n",
    "    for i in range(0, len(reaction_list)):\n",
    "        if entry.item.is_isomorphic(reaction_list[i]):\n",
    "            rmg_rxn_index = i\n",
    "            break\n",
    "    else:  \n",
    "        print(f'could not match reaction index {index}')\n",
    "        continue\n",
    "\n",
    "    if rmg_rxn_index in reaction_change_list:\n",
    "        print(f'changing reaction {rmg_rxn_index} {reaction_list[rmg_rxn_index]}')\n",
    "        reaction_list[rmg_rxn_index].kinetics = entry.data\n",
    "        total_changed += 1\n",
    "print(total_changed, 'kinetics changed')\n",
    "\n",
    "\n",
    "# change the relevant thermo\n",
    "sp_changed = 0\n",
    "for key in ark_thermo_database.libraries['harris_butane'].entries.keys():\n",
    "    entry = ark_thermo_database.libraries['harris_butane'].entries[key]\n",
    "\n",
    "    for i, species in enumerate(species_list):\n",
    "        if entry.item.smiles == species.smiles:\n",
    "            rmg_species_index = i\n",
    "            break\n",
    "    else:\n",
    "        entry_sp = rmgpy.species.Species(smiles=entry.item.smiles)\n",
    "        for j, species in enumerate(species_list):\n",
    "            if entry_sp.is_isomorphic(species.molecule[0]):\n",
    "                rmg_species_index = i\n",
    "                'matched'\n",
    "                break\n",
    "        else:\n",
    "            continue\n",
    "            raise ValueError (f'could not match species index {entry}')\n",
    "\n",
    "    if rmg_species_index in species_change_list:\n",
    "        print(f'Changing estimated thermo {rmg_species_index}: {species_list[rmg_species_index]}')\n",
    "        species_list[rmg_species_index].thermo = entry.data\n",
    "\n",
    "        sp_changed += 1\n",
    "\n",
    "print(sp_changed, 'species changed')\n",
    "\n",
    "# export the mechanism\n",
    "chemkin_file = os.path.join(save_dir, f'change4.inp')\n",
    "rmgpy.chemkin.save_chemkin_file(chemkin_file, species_list, reaction_list, verbose=True, check_for_duplicates=True)\n",
    "subprocess.run(['ck2cti', f'--input={chemkin_file}', f'--transport={transport}', f'--output={chemkin_file[:-4]}.cti'])\n",
    "subprocess.run(['ck2yaml', f'--input={chemkin_file}', f'--transport={transport}', f'--output={chemkin_file[:-4]}.yaml'])"
   ]
  },
  {
   "cell_type": "code",
   "execution_count": null,
   "id": "719a5adc",
   "metadata": {},
   "outputs": [],
   "source": []
  }
 ],
 "metadata": {
  "kernelspec": {
   "display_name": "Python 3 (ipykernel)",
   "language": "python",
   "name": "python3"
  },
  "language_info": {
   "codemirror_mode": {
    "name": "ipython",
    "version": 3
   },
   "file_extension": ".py",
   "mimetype": "text/x-python",
   "name": "python",
   "nbconvert_exporter": "python",
   "pygments_lexer": "ipython3",
   "version": "3.7.12"
  }
 },
 "nbformat": 4,
 "nbformat_minor": 5
}
