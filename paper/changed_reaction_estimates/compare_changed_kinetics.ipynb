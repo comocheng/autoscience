{
 "cells": [
  {
   "cell_type": "code",
   "execution_count": 1,
   "id": "6d68b439",
   "metadata": {},
   "outputs": [
    {
     "name": "stderr",
     "output_type": "stream",
     "text": [
      "species.py:52 <module> INFO Error importing py3Dmol\n",
      "reaction.py:61 <module> INFO Error importing py3Dmol\n"
     ]
    }
   ],
   "source": [
    "import os\n",
    "os.environ['DFT_DIR'] = '/home/moon/autoscience/autoscience/butane/dft'\n",
    "import pickle\n",
    "import datetime\n",
    "import subprocess\n",
    "import numpy as np\n",
    "\n",
    "import pandas as pd\n",
    "\n",
    "import rmgpy.chemkin\n",
    "import rmgpy.data.kinetics\n",
    "# import cantera as ct\n",
    "\n",
    "\n",
    "import sys\n",
    "sys.path.append('/home/moon/autoscience/autoscience_workflow/workflow/scripts/kinetics')\n",
    "import kineticfun\n",
    "\n",
    "\n",
    "\n",
    "\n",
    "import matplotlib.pyplot as plt\n",
    "%matplotlib inline"
   ]
  },
  {
   "cell_type": "code",
   "execution_count": 2,
   "id": "52078b6a",
   "metadata": {},
   "outputs": [],
   "source": [
    "def plot_kinetics(rxns, labels=None):\n",
    "    \"\"\"Function for plotting reaction kinetics\n",
    "    Takes in a list of RMG reactions (rmgpy.reaction.Reaction) or a single reaction\n",
    "    \"\"\"\n",
    "    plt.xlabel('1000 / T (K^-1)')\n",
    "    plt.ylabel('log10(k)')\n",
    "\n",
    "    if type(rxns) != list:\n",
    "        rxns = [rxns]\n",
    "    \n",
    "    T = np.linspace(300, 3000, 1001)\n",
    "    for rxn in rxns:\n",
    "        k = np.zeros(len(T))\n",
    "        for i in range(0, len(T)):\n",
    "            k[i] = rxn.get_rate_coefficient(T[i], 101325)\n",
    "        plt.plot(1000.0 / T, np.log10(k))\n",
    "\n",
    "    if labels:\n",
    "        plt.legend(labels)\n",
    "    plt.show()"
   ]
  },
  {
   "cell_type": "code",
   "execution_count": 3,
   "id": "b591d71b",
   "metadata": {},
   "outputs": [
    {
     "name": "stderr",
     "output_type": "stream",
     "text": [
      "2223405438.py:6 <module> INFO Thermo file has default temperature range 300.0 to 1000.0 and 1000.0 to 5000.0\n",
      "2223405438.py:10 <module> INFO Thermo file has default temperature range 300.0 to 1000.0 and 1000.0 to 5000.0\n"
     ]
    },
    {
     "name": "stdout",
     "output_type": "stream",
     "text": [
      "122 species, 1400 reactions\n",
      "122 species, 1400 reactions\n"
     ]
    }
   ],
   "source": [
    "# Load the base model\n",
    "basedir = '/home/moon/autoscience/autoscience/paper/models/pentane24hr/'\n",
    "base_chemkin = os.path.join(basedir, 'chem_annotated_fixed.inp')\n",
    "dictionary = os.path.join(basedir, 'species_dictionary.txt')\n",
    "transport = os.path.join(basedir, 'tran.dat')\n",
    "base_species_list, base_reaction_list = rmgpy.chemkin.load_chemkin_file(base_chemkin, dictionary_path=dictionary, transport_path=transport)\n",
    "print(f'{len(base_species_list)} species, {len(base_reaction_list)} reactions')\n",
    "\n",
    "new_chemkin = os.path.join(basedir, 'refit_model_20230117.inp')\n",
    "new_species_list, new_reaction_list = rmgpy.chemkin.load_chemkin_file(new_chemkin, dictionary_path=dictionary, transport_path=transport)\n",
    "print(f'{len(new_species_list)} species, {len(new_reaction_list)} reactions')\n"
   ]
  },
  {
   "cell_type": "code",
   "execution_count": 4,
   "id": "df415eea",
   "metadata": {},
   "outputs": [],
   "source": [
    "T = 740.0\n",
    "P = 100000"
   ]
  },
  {
   "cell_type": "code",
   "execution_count": 5,
   "id": "6c4efdf4",
   "metadata": {},
   "outputs": [],
   "source": [
    "# check for different kinetics\n",
    "def different_kinetics(r1, r2):\n",
    "    return r1.kinetics.get_rate_coefficient(T, P) != r2.kinetics.get_rate_coefficient(T, P)"
   ]
  },
  {
   "cell_type": "code",
   "execution_count": 6,
   "id": "75492063",
   "metadata": {},
   "outputs": [],
   "source": [
    "def kinetics_difference(r1, r2):\n",
    "    kdiff = np.abs(r1.kinetics.get_rate_coefficient(T, P) / r2.kinetics.get_rate_coefficient(T, P))\n",
    "    if kdiff < 1.0:\n",
    "        kdiff = 1.0 / kdiff\n",
    "    return kdiff"
   ]
  },
  {
   "cell_type": "code",
   "execution_count": 7,
   "id": "08921c74",
   "metadata": {},
   "outputs": [
    {
     "name": "stdout",
     "output_type": "stream",
     "text": [
      "379 different reactions\n"
     ]
    }
   ],
   "source": [
    "kdiff = np.zeros(len(base_reaction_list))\n",
    "\n",
    "count = 0\n",
    "for i in range(0, len(new_reaction_list)):\n",
    "    if different_kinetics(base_reaction_list[i], new_reaction_list[i]):\n",
    "#         print(reaction_list[i])\n",
    "        kdiff[i] = kinetics_difference(base_reaction_list[i], new_reaction_list[i])\n",
    "        count += 1\n",
    "print(f'{count} different reactions')"
   ]
  },
  {
   "cell_type": "code",
   "execution_count": 8,
   "id": "37c058af",
   "metadata": {},
   "outputs": [],
   "source": [
    "# sort by reaction difference\n",
    "order = np.arange(0, len(base_reaction_list))\n",
    "kdiff_order = [x for _, x in sorted(zip(kdiff, order))][::-1]\n"
   ]
  },
  {
   "cell_type": "code",
   "execution_count": 9,
   "id": "c57526d6",
   "metadata": {},
   "outputs": [
    {
     "ename": "NameError",
     "evalue": "name 'reaction_list' is not defined",
     "output_type": "error",
     "traceback": [
      "\u001b[0;31m---------------------------------------------------------------------------\u001b[0m",
      "\u001b[0;31mNameError\u001b[0m                                 Traceback (most recent call last)",
      "\u001b[0;32m/tmp/ipykernel_1447/2085928138.py\u001b[0m in \u001b[0;36m<module>\u001b[0;34m\u001b[0m\n\u001b[0;32m----> 1\u001b[0;31m \u001b[0mreaction_list\u001b[0m\u001b[0;34m[\u001b[0m\u001b[0;36m0\u001b[0m\u001b[0;34m]\u001b[0m\u001b[0;34m.\u001b[0m\u001b[0mfamily\u001b[0m\u001b[0;34m\u001b[0m\u001b[0;34m\u001b[0m\u001b[0m\n\u001b[0m",
      "\u001b[0;31mNameError\u001b[0m: name 'reaction_list' is not defined"
     ]
    }
   ],
   "source": [
    "reaction_list[0].family"
   ]
  },
  {
   "cell_type": "code",
   "execution_count": 10,
   "id": "747c6f9e",
   "metadata": {},
   "outputs": [],
   "source": [
    "def print_reaction_smiles(r1):\n",
    "    smiles_str = ''\n",
    "    for r in r1.reactants:\n",
    "        smiles_str += f'{r.smiles} + '\n",
    "    smiles_str = smiles_str[:-2] + '<=> '\n",
    "    for r in r1.products:\n",
    "        smiles_str += f'{r.smiles} + '\n",
    "    smiles_str = smiles_str[:-2]\n",
    "    print(smiles_str)"
   ]
  },
  {
   "cell_type": "code",
   "execution_count": 11,
   "id": "671ba83e",
   "metadata": {},
   "outputs": [
    {
     "name": "stdout",
     "output_type": "stream",
     "text": [
      "C[C]=O + CC[CH]CC <=> CC=O + CC=CCC \n",
      "\n",
      "Base kinetics\n",
      "Arrhenius(A=(4.2106e+14,'cm^3/(mol*s)'), n=-0.55, Ea=(0,'kcal/mol'), T0=(1,'K'), comment=\"\"\"Estimated from node Root_Ext-1R!H-R_N-4R->O_N-Sp-5R!H=1R!H_Ext-4CHNS-R_N-6R!H->S_4CHNS->C_N-Sp-6BrBrBrCCCClClClFFFIIINNNOOOPPPSiSiSi#4C_6BrCClFINOPSi->C_N-1R!H-inRing_Ext-4C-R_2R!H->C\n",
      "Multiplied by reaction path degeneracy 4.0\"\"\")\n",
      "Refit kinetics\n",
      "Arrhenius(A=(4.47472,'cm^3/(mol*s)'), n=2.938, Ea=(13.002,'kcal/mol'), T0=(1,'K'), comment=\"\"\"Estimated from node Root_1R!H->C_Ext-4R-R_N-Sp-5R!H#4R_N-5R!H->S_5CO-u0_Ext-1C-R_N-Sp-6R!H=1C_4R->C_Sp-5CCOO=4C\"\"\")\n"
     ]
    },
    {
     "data": {
      "image/png": "[encoded data removed]",
      "text/plain": [
       "<Figure size 432x288 with 1 Axes>"
      ]
     },
     "metadata": {
      "needs_background": "light"
     },
     "output_type": "display_data"
    },
    {
     "name": "stdout",
     "output_type": "stream",
     "text": [
      "C[C]=O + [CH2]CCCC <=> CC=O + C=CCCC \n",
      "\n",
      "Base kinetics\n",
      "Arrhenius(A=(2.1053e+14,'cm^3/(mol*s)'), n=-0.55, Ea=(0,'kcal/mol'), T0=(1,'K'), comment=\"\"\"Estimated from node Root_Ext-1R!H-R_N-4R->O_N-Sp-5R!H=1R!H_Ext-4CHNS-R_N-6R!H->S_4CHNS->C_N-Sp-6BrBrBrCCCClClClFFFIIINNNOOOPPPSiSiSi#4C_6BrCClFINOPSi->C_N-1R!H-inRing_Ext-4C-R_2R!H->C\n",
      "Multiplied by reaction path degeneracy 2.0\"\"\")\n",
      "Refit kinetics\n",
      "Arrhenius(A=(4.47472,'cm^3/(mol*s)'), n=2.938, Ea=(13.002,'kcal/mol'), T0=(1,'K'), comment=\"\"\"Estimated from node Root_1R!H->C_Ext-4R-R_N-Sp-5R!H#4R_N-5R!H->S_5CO-u0_Ext-1C-R_N-Sp-6R!H=1C_4R->C_Sp-5CCOO=4C\"\"\")\n"
     ]
    },
    {
     "data": {
      "image/png": "[encoded data removed]",
      "text/plain": [
       "<Figure size 432x288 with 1 Axes>"
      ]
     },
     "metadata": {
      "needs_background": "light"
     },
     "output_type": "display_data"
    },
    {
     "name": "stdout",
     "output_type": "stream",
     "text": [
      "C[C]=O + [CH2]CC <=> CC=O + C=CC \n",
      "\n",
      "Base kinetics\n",
      "Arrhenius(A=(2.1053e+14,'cm^3/(mol*s)'), n=-0.55, Ea=(0,'kcal/mol'), T0=(1,'K'), comment=\"\"\"Estimated from node Root_Ext-1R!H-R_N-4R->O_N-Sp-5R!H=1R!H_Ext-4CHNS-R_N-6R!H->S_4CHNS->C_N-Sp-6BrBrBrCCCClClClFFFIIINNNOOOPPPSiSiSi#4C_6BrCClFINOPSi->C_N-1R!H-inRing_Ext-4C-R_2R!H->C\n",
      "Multiplied by reaction path degeneracy 2.0\"\"\")\n",
      "Refit kinetics\n",
      "Arrhenius(A=(4.47472,'cm^3/(mol*s)'), n=2.938, Ea=(13.002,'kcal/mol'), T0=(1,'K'), comment=\"\"\"Estimated from node Root_1R!H->C_Ext-4R-R_N-Sp-5R!H#4R_N-5R!H->S_5CO-u0_Ext-1C-R_N-Sp-6R!H=1C_4R->C_Sp-5CCOO=4C\"\"\")\n"
     ]
    },
    {
     "data": {
      "image/png": "[encoded data removed]",
      "text/plain": [
       "<Figure size 432x288 with 1 Axes>"
      ]
     },
     "metadata": {
      "needs_background": "light"
     },
     "output_type": "display_data"
    },
    {
     "name": "stdout",
     "output_type": "stream",
     "text": [
      "C[C]=O + C[CH]CCC <=> CC=O + CC=CCC \n",
      "\n",
      "Base kinetics\n",
      "Arrhenius(A=(2.1053e+14,'cm^3/(mol*s)'), n=-0.55, Ea=(0,'kcal/mol'), T0=(1,'K'), comment=\"\"\"Estimated from node Root_Ext-1R!H-R_N-4R->O_N-Sp-5R!H=1R!H_Ext-4CHNS-R_N-6R!H->S_4CHNS->C_N-Sp-6BrBrBrCCCClClClFFFIIINNNOOOPPPSiSiSi#4C_6BrCClFINOPSi->C_N-1R!H-inRing_Ext-4C-R_2R!H->C\n",
      "Multiplied by reaction path degeneracy 2.0\"\"\")\n",
      "Refit kinetics\n",
      "Arrhenius(A=(4.47472,'cm^3/(mol*s)'), n=2.938, Ea=(13.002,'kcal/mol'), T0=(1,'K'), comment=\"\"\"Estimated from node Root_1R!H->C_Ext-4R-R_N-Sp-5R!H#4R_N-5R!H->S_5CO-u0_Ext-1C-R_N-Sp-6R!H=1C_4R->C_Sp-5CCOO=4C\"\"\")\n"
     ]
    },
    {
     "data": {
      "image/png": "[encoded data removed]",
      "text/plain": [
       "<Figure size 432x288 with 1 Axes>"
      ]
     },
     "metadata": {
      "needs_background": "light"
     },
     "output_type": "display_data"
    },
    {
     "name": "stdout",
     "output_type": "stream",
     "text": [
      "[CH]=C + CC[CH]CC <=> C=C + CC=CCC \n",
      "\n",
      "Base kinetics\n",
      "Arrhenius(A=(4.84e+12,'cm^3/(mol*s)'), n=0, Ea=(0,'kcal/mol'), T0=(1,'K'), comment=\"\"\"Estimated from node Root_Ext-1R!H-R_N-4R->O_N-Sp-5R!H=1R!H_Ext-4CHNS-R_N-6R!H->S_4CHNS->C_N-Sp-6BrBrBrCCCClClClFFFIIINNNOOOPPPSiSiSi#4C_6BrCClFINOPSi->C_N-1R!H-inRing_N-Sp-6C-4C\n",
      "Multiplied by reaction path degeneracy 4.0\"\"\")\n",
      "Refit kinetics\n",
      "Arrhenius(A=(4.47472,'cm^3/(mol*s)'), n=2.938, Ea=(13.002,'kcal/mol'), T0=(1,'K'), comment=\"\"\"Estimated from node Root_1R!H->C_Ext-4R-R_N-Sp-5R!H#4R_N-5R!H->S_5CO-u0_Ext-1C-R_N-Sp-6R!H=1C_4R->C_Sp-5CCOO=4C\"\"\")\n"
     ]
    },
    {
     "data": {
      "image/png": "[encoded data removed]",
      "text/plain": [
       "<Figure size 432x288 with 1 Axes>"
      ]
     },
     "metadata": {
      "needs_background": "light"
     },
     "output_type": "display_data"
    }
   ],
   "source": [
    "for i in range(0, 5):\n",
    "    rmg_index = kdiff_order[i]\n",
    "#     print(base_reaction_list[rmg_index])\n",
    "\n",
    "    \n",
    "    print_reaction_smiles(base_reaction_list[rmg_index])\n",
    "    print()\n",
    "    print('Base kinetics')\n",
    "    print(base_reaction_list[rmg_index].kinetics)\n",
    "    print('Refit kinetics')\n",
    "    print(new_reaction_list[rmg_index].kinetics)\n",
    "    plot_kinetics([base_reaction_list[rmg_index], new_reaction_list[rmg_index]], labels=['Base Pentane', 'Refit Tree'])"
   ]
  },
  {
   "cell_type": "code",
   "execution_count": null,
   "id": "03deeb41",
   "metadata": {},
   "outputs": [],
   "source": [
    "# get the list of species and reactions to add to https://github.com/comocheng/autoscience/blob/main/butane/dft/species_list.csv\n",
    "\n",
    "\n",
    "\n"
   ]
  },
  {
   "cell_type": "code",
   "execution_count": 12,
   "id": "af2c7d2b",
   "metadata": {},
   "outputs": [],
   "source": [
    "# lookup the reaction indices in the csv\n",
    "DFT_DIR = '/home/moon/autoscience/autoscience/butane/dft'\n",
    "\n",
    "reaction_csv = os.path.join(DFT_DIR, 'reaction_list.csv')\n",
    "reaction_df = pd.read_csv(reaction_csv)\n",
    "\n",
    "if 'Unnamed: 0' in reaction_df.keys():\n",
    "    reaction_df = reaction_df.drop(columns=['Unnamed: 0'])"
   ]
  },
  {
   "cell_type": "code",
   "execution_count": 13,
   "id": "f177d553",
   "metadata": {},
   "outputs": [],
   "source": [
    "def sort_reaction_smiles(reaction_smiles):\n",
    "    # sort the reactants and products in the reaction smiles\n",
    "\n",
    "    # handle charged species\n",
    "\n",
    "    reaction_smiles = reaction_smiles.replace('[C-]#[O+]', 'carbonmonoxide')\n",
    "    reaction_smiles = reaction_smiles.replace('[O-][N+]#C', 'formonitrileoxide')\n",
    "    reaction_smiles = reaction_smiles.replace('[O-][N+]=C', 'methylenenitroxide')\n",
    "\n",
    "    reactants, products = reaction_smiles.split('_')\n",
    "    reactants = reactants.split('+')\n",
    "    products = products.split('+')\n",
    "    reactants.sort()\n",
    "    products.sort()\n",
    "    reactants = '+'.join(reactants)\n",
    "    products = '+'.join(products)\n",
    "    reaction_smiles = reactants + '_' + products\n",
    "\n",
    "    reaction_smiles = reaction_smiles.replace('carbonmonoxide', '[C-]#[O+]')\n",
    "    reaction_smiles = reaction_smiles.replace('formonitrileoxide', '[O-][N+]#C')\n",
    "    reaction_smiles = reaction_smiles.replace('methylenenitroxide', '[O-][N+]=C')\n",
    "\n",
    "    return reaction_smiles"
   ]
  },
  {
   "cell_type": "code",
   "execution_count": null,
   "id": "d09c57e4",
   "metadata": {},
   "outputs": [],
   "source": []
  },
  {
   "cell_type": "code",
   "execution_count": 15,
   "id": "ee99d2a9",
   "metadata": {},
   "outputs": [
    {
     "name": "stdout",
     "output_type": "stream",
     "text": [
      "377 CH3CO(20) + C5H11-3(422) <=> CH3CHO(35) + C5H10-2(424) 2665\n",
      "825 CH3CO(20) + C5H11-1(420) <=> CH3CHO(35) + C5H10-1(423) 2831\n",
      "482 CH3CO(20) + NC3H7(92) <=> CH3CHO(35) + C3H6(12) 437\n",
      "375 CH3CO(20) + C5H11-2(421) <=> CH3CHO(35) + C5H10-2(424) 2663\n",
      "478 C2H3(22) + C5H11-3(422) <=> C2H4(11) + C5H10-2(424) 2701\n",
      "1385 CH3CO(20) + C3H5O(129) <=> CH3CHO(35) + C2H3CHO(74) 1230\n",
      "773 CH3CO(20) + C2H5O(49) <=> CH3CHO(35) + CH3CHO(35) 970\n",
      "1381 C2H3(22) + C3H5O(129) <=> C2H4(11) + C2H3CHO(74) 1221\n",
      "770 C2H3(22) + C2H5O(49) <=> C2H4(11) + CH3CHO(35) 965\n",
      "817 C2H3(22) + C5H11-1(420) <=> C2H4(11) + C5H10-1(423) 2823\n",
      "477 C2H3(22) + C5H11-2(421) <=> C2H4(11) + C5H10-2(424) 2700\n",
      "267 C2H3(22) + NC3H7(92) <=> C2H4(11) + C3H6(12) 391\n",
      "474 HCO(19) + C5H11-3(422) <=> CH2O(9) + C5H10-2(424) 2697\n",
      "1379 HCO(19) + C3H5O(129) <=> CH2O(9) + C2H3CHO(74) 1219\n",
      "813 HCO(19) + C5H11-1(420) <=> CH2O(9) + C5H10-1(423) 2819\n",
      "768 HCO(19) + C2H5O(49) <=> CH2O(9) + CH3CHO(35) 964\n",
      "473 HCO(19) + C5H11-2(421) <=> CH2O(9) + C5H10-2(424) 2696\n",
      "471 HCO(19) + NC3H7(92) <=> CH2O(9) + C3H6(12) 406\n",
      "298 C5H11-2(421) + C5H11-3(422) <=> C5H10-2(424) + pentane(1) 2612\n",
      "1134 CH2O2H(292) + C5H11-3(422) <=> CH3O2H(46) + C5H10-2(424) 2958\n"
     ]
    }
   ],
   "source": [
    "# print a reaction's number in the database\n",
    "for i in range(0, 20):\n",
    "    rmg_index = kdiff_order[i]\n",
    "    reaction_smiles = kineticfun.reaction2smiles(base_reaction_list[rmg_index])\n",
    "    db_index = kineticfun.reaction_smiles2index(reaction_smiles)\n",
    "    print(rmg_index, base_reaction_list[rmg_index], db_index)\n"
   ]
  },
  {
   "cell_type": "code",
   "execution_count": 18,
   "id": "38b1d7dd",
   "metadata": {},
   "outputs": [
    {
     "name": "stdout",
     "output_type": "stream",
     "text": [
      "23\n",
      "193\n",
      "33\n",
      "195\n",
      "\n",
      "23\n",
      "191\n",
      "33\n",
      "194\n",
      "\n",
      "23\n",
      "48\n",
      "33\n",
      "15\n",
      "\n",
      "23\n",
      "192\n",
      "33\n",
      "195\n",
      "\n",
      "25\n",
      "193\n",
      "14\n",
      "195\n",
      "\n",
      "23\n",
      "54\n",
      "33\n",
      "47\n",
      "\n",
      "23\n",
      "40\n",
      "33\n",
      "33\n",
      "\n",
      "25\n",
      "54\n",
      "14\n",
      "47\n",
      "\n",
      "25\n",
      "40\n",
      "14\n",
      "33\n",
      "\n",
      "25\n",
      "191\n",
      "14\n",
      "194\n",
      "\n",
      "25\n",
      "192\n",
      "14\n",
      "195\n",
      "\n",
      "25\n",
      "48\n",
      "14\n",
      "15\n",
      "\n",
      "22\n",
      "193\n",
      "12\n",
      "195\n",
      "\n",
      "22\n",
      "54\n",
      "12\n",
      "47\n",
      "\n",
      "22\n",
      "191\n",
      "12\n",
      "194\n",
      "\n",
      "22\n",
      "40\n",
      "12\n",
      "33\n",
      "\n",
      "22\n",
      "192\n",
      "12\n",
      "195\n",
      "\n",
      "22\n",
      "48\n",
      "12\n",
      "15\n",
      "\n",
      "192\n",
      "193\n",
      "195\n",
      "179\n",
      "\n",
      "190\n",
      "193\n",
      "37\n",
      "195\n",
      "\n",
      "193\n",
      "193\n",
      "195\n",
      "179\n",
      "\n",
      "50\n",
      "193\n",
      "15\n",
      "195\n",
      "\n",
      "63\n",
      "193\n",
      "61\n",
      "195\n",
      "\n",
      "190\n",
      "191\n",
      "37\n",
      "194\n",
      "\n",
      "190\n",
      "192\n",
      "37\n",
      "195\n",
      "\n",
      "190\n",
      "48\n",
      "37\n",
      "15\n",
      "\n",
      "34\n",
      "30\n",
      "12\n",
      "35\n",
      "\n",
      "50\n",
      "81\n",
      "15\n",
      "63\n",
      "\n",
      "30\n",
      "242\n",
      "12\n",
      "245\n",
      "\n",
      "30\n",
      "45\n",
      "12\n",
      "46\n",
      "\n",
      "30\n",
      "38\n",
      "12\n",
      "39\n",
      "\n",
      "50\n",
      "48\n",
      "15\n",
      "15\n",
      "\n",
      "63\n",
      "191\n",
      "61\n",
      "194\n",
      "\n",
      "48\n",
      "63\n",
      "15\n",
      "61\n",
      "\n",
      "191\n",
      "193\n",
      "194\n",
      "179\n",
      "\n",
      "192\n",
      "192\n",
      "195\n",
      "179\n",
      "\n",
      "48\n",
      "192\n",
      "15\n",
      "179\n",
      "\n",
      "48\n",
      "193\n",
      "15\n",
      "179\n",
      "\n",
      "63\n",
      "193\n",
      "62\n",
      "195\n",
      "\n",
      "87\n",
      "193\n",
      "46\n",
      "195\n",
      "\n"
     ]
    }
   ],
   "source": [
    "sys.path.append('/home/moon/autoscience/autoscience_workflow/workflow/scripts/thermo')\n",
    "import job\n",
    "\n",
    "# print all of the species involved\n",
    "for i in range(0, 40):\n",
    "    rmg_index = kdiff_order[i]\n",
    "    for sp in base_reaction_list[rmg_index].reactants + base_reaction_list[rmg_index].products:\n",
    "        db_index = job.smiles2index(sp.smiles)\n",
    "        print(db_index)\n",
    "    print()"
   ]
  },
  {
   "cell_type": "code",
   "execution_count": null,
   "id": "8f5784e2",
   "metadata": {},
   "outputs": [],
   "source": [
    "reaction_df"
   ]
  },
  {
   "cell_type": "code",
   "execution_count": null,
   "id": "ea44ce81",
   "metadata": {},
   "outputs": [],
   "source": []
  }
 ],
 "metadata": {
  "kernelspec": {
   "display_name": "Python 3 (ipykernel)",
   "language": "python",
   "name": "python3"
  },
  "language_info": {
   "codemirror_mode": {
    "name": "ipython",
    "version": 3
   },
   "file_extension": ".py",
   "mimetype": "text/x-python",
   "name": "python",
   "nbconvert_exporter": "python",
   "pygments_lexer": "ipython3",
   "version": "3.7.12"
  }
 },
 "nbformat": 4,
 "nbformat_minor": 5
}
