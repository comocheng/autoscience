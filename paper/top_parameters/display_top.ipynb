{
 "cells": [
  {
   "cell_type": "code",
   "execution_count": 1,
   "id": "11060b0a",
   "metadata": {},
   "outputs": [],
   "source": [
    "import os\n",
    "import sys\n",
    "import copy\n",
    "import pickle\n",
    "\n",
    "import numpy as np\n",
    "import rmgpy.chemkin\n",
    "\n",
    "import matplotlib.pyplot as plt\n",
    "%matplotlib inline"
   ]
  },
  {
   "cell_type": "code",
   "execution_count": 2,
   "id": "6cb4bf04",
   "metadata": {},
   "outputs": [],
   "source": [
    "basedir = '/home/moon/autoscience/autoscience/butane/models/rmg_model'\n",
    "\n",
    "base_chemkin = os.path.join(basedir, 'chem_annotated.inp')\n",
    "dictionary = os.path.join(basedir, 'species_dictionary.txt')\n",
    "transport = os.path.join(basedir, 'tran.dat')\n",
    "\n",
    "species_list, reaction_list = rmgpy.chemkin.load_chemkin_file(base_chemkin, dictionary_path=dictionary, transport_path=transport)\n",
    "\n",
    "\n"
   ]
  },
  {
   "cell_type": "code",
   "execution_count": 3,
   "id": "67823798",
   "metadata": {},
   "outputs": [],
   "source": [
    "# get most uncertain reactions\n",
    "covariance_file = '/home/moon/autoscience/autoscience/uncertainty/butane_covariance.pickle'\n",
    "with open(covariance_file, 'rb') as handle:\n",
    "    Sigma_k = pickle.load(handle)\n",
    "uncorrelated_uncertainties = np.diagonal(Sigma_k)\n",
    "uncorrelated_uncertainties = np.diagonal(Sigma_k)\n",
    "reaction_indices = np.arange(0, len(reaction_list))\n",
    "reaction_uncertainty_order = [x for _,x in sorted(zip(uncorrelated_uncertainties, reaction_indices))][::-1]"
   ]
  },
  {
   "cell_type": "code",
   "execution_count": 4,
   "id": "1da11935",
   "metadata": {},
   "outputs": [],
   "source": [
    "# get most sensitive reactions\n",
    "base_delay = 0.14857535\n",
    "reaction_delay_file = '/home/moon/autoscience/autoscience/butane/sensitivity_analysis/base_rmg24/reaction_ignition_delays_raw.npy'\n",
    "reaction_delays_raw = np.load(reaction_delay_file)\n",
    "reaction_sensitivities = ((reaction_delays_raw - base_delay) / base_delay) / 0.1\n",
    "\n",
    "reaction_sensitivity_order = [x for _,x in sorted(zip(np.abs(reaction_sensitivities), reaction_indices))][::-1]\n"
   ]
  },
  {
   "cell_type": "code",
   "execution_count": 5,
   "id": "184159d4",
   "metadata": {},
   "outputs": [],
   "source": [
    "# Calculate Improvement Score\n",
    "DFT_error = 3.0\n",
    "improvement_score = np.abs(reaction_sensitivities) * (uncorrelated_uncertainties - DFT_error)\n",
    "improvement_score_order = [x for _,x in sorted(zip(improvement_score, reaction_indices))][::-1]\n"
   ]
  },
  {
   "cell_type": "code",
   "execution_count": 18,
   "id": "99cc3707",
   "metadata": {},
   "outputs": [
    {
     "name": "stdout",
     "output_type": "stream",
     "text": [
      "Top Uncertain Reactions\n",
      "i\tDelta\tReaction\tSensitivity\tImprovement Score\n",
      "655 \t 13.479 \t HO2(16) + [CH2]C[CH]C(748) <=> O2(2) + PC4H9(182) \t -3.229e-07 \t 3.384e-06\n",
      "1003 \t 13.408 \t HO2(16) + C4H71-4(191) <=> O2(2) + C4H8-1(188) \t -3.095e-07 \t 3.222e-06\n",
      "985 \t 13.408 \t HO2(16) + [CH2]C[O](703) <=> O2(2) + C2H5O(49) \t -2.786e-07 \t 2.899e-06\n",
      "692 \t 13.408 \t HO2(16) + [CH2]CC(C)[O](766) <=> O2(2) + SC4H9O(217) \t -2.575e-07 \t 2.680e-06\n",
      "650 \t 13.408 \t HO2(16) + [CH2]C[CH]C(748) <=> O2(2) + SC4H9(183) \t -2.926e-07 \t 3.045e-06\n",
      "604 \t 11.92 \t C2H(4) + C3H6(12) <=> C2H2(25) + C3H5-A(94) \t -2.813e-07 \t 2.509e-06\n",
      "585 \t 11.92 \t CH2(23) + C3H6(12) <=> CH3(18) + C3H5-A(94) \t -3.162e-07 \t 2.820e-06\n",
      "773 \t 11.238 \t CH3CO(20) + C4H8-1(188) <=> CH3CHO(35) + C4H71-3(190) \t -3.042e-07 \t 2.506e-06\n",
      "756 \t 11.041 \t C2H(4) + C4H8-1(188) <=> C2H2(25) + C4H71-3(190) \t -2.321e-07 \t 1.867e-06\n",
      "753 \t 11.041 \t CH2(23) + C4H8-1(188) <=> CH3(18) + C4H71-3(190) \t -3.060e-07 \t 2.461e-06\n"
     ]
    }
   ],
   "source": [
    "print('Top Uncertain Reactions')\n",
    "print('i\\tDelta\\tReaction\\tSensitivity\\tImprovement Score')\n",
    "for i in range(0, 10):\n",
    "    rmg_index = reaction_uncertainty_order[i]\n",
    "    print(rmg_index, '\\t', np.round(uncorrelated_uncertainties[rmg_index], 3),\n",
    "          '\\t', reaction_list[rmg_index],\n",
    "          '\\t', f'{reaction_sensitivities[rmg_index]:.3e}',\n",
    "          '\\t', f'{improvement_score[rmg_index]:.3e}')"
   ]
  },
  {
   "cell_type": "code",
   "execution_count": 19,
   "id": "c699747a",
   "metadata": {},
   "outputs": [
    {
     "name": "stdout",
     "output_type": "stream",
     "text": [
      "Top Sensitive Reactions\n",
      "i\tDelta\tReaction\tSensitivity\n",
      "288 \t 0.5 \t OH(15) + butane(1) <=> H2O(8) + PC4H9(182) \t -1.314e+00 \t -3.285e+00\n",
      "247 \t 0.5 \t OH(15) + butane(1) <=> H2O(8) + SC4H9(183) \t 1.222e+00 \t -3.055e+00\n",
      "279 \t 0.5 \t SC4H9O2(186) <=> HO2(16) + C4H8-2(189) \t 6.481e-01 \t -1.620e+00\n",
      "323 \t 0.5 \t O2(2) + C4H8OOH1-3(219) <=> C4H8OOH1-3O2(225) \t -6.427e-01 \t -1.607e+00\n",
      "281 \t 0.5 \t O2(2) + C4H8OOH2-4(223) <=> C4H8OOH2-4O2(229) \t -6.120e-01 \t -1.530e+00\n",
      "316 \t 0.5 \t PC4H9O2(184) <=> HO2(16) + C4H8-1(188) \t 5.423e-01 \t -1.356e+00\n",
      "249 \t 0.5 \t HO2(16) + butane(1) <=> H2O2(17) + SC4H9(183) \t -4.697e-01 \t -1.174e+00\n",
      "449 \t 0.5 \t C4H8OOH1-3(219) <=> OH(15) + C4H8O1-3(214) \t 4.667e-01 \t -1.167e+00\n",
      "317 \t 0.5 \t SC4H9O2(186) <=> HO2(16) + C4H8-1(188) \t 4.153e-01 \t -1.038e+00\n",
      "326 \t 0.5 \t C4H8OOH1-3O2(225) <=> C4H71-1,3OOH(238) \t -3.459e-01 \t -8.648e-01\n"
     ]
    }
   ],
   "source": [
    "print('Top Sensitive Reactions')\n",
    "print('i\\tDelta\\tReaction\\tSensitivity')\n",
    "for i in range(0, 10):\n",
    "    rmg_index = reaction_sensitivity_order[i]\n",
    "    print(rmg_index, '\\t', np.round(uncorrelated_uncertainties[rmg_index], 3),\n",
    "          '\\t', reaction_list[rmg_index],\n",
    "          '\\t', f'{reaction_sensitivities[rmg_index]:.3e}',\n",
    "          '\\t', f'{improvement_score[rmg_index]:.3e}')"
   ]
  },
  {
   "cell_type": "code",
   "execution_count": null,
   "id": "23ee210c",
   "metadata": {},
   "outputs": [],
   "source": []
  },
  {
   "cell_type": "code",
   "execution_count": 22,
   "id": "e7f72106",
   "metadata": {},
   "outputs": [
    {
     "name": "stdout",
     "output_type": "stream",
     "text": [
      "Top Improvement Score Reactions\n",
      "i\tDelta\tReaction\tSensitivity\n",
      "915 \t 10.688 \t O2(2) + CC(CC[O])OO(777) <=> HO2(16) + NC4KET13(252) \t -1.025e-03 \t 7.883e-03\n",
      "749 \t 11.041 \t HCO(19) + C4H8-1(188) <=> CH2O(9) + C4H71-3(190) \t 5.078e-04 \t 4.083e-03\n",
      "324 \t 3.617 \t C4H8OOH2-4O2(229) <=> C4H8OOH1-3O2(225) \t -4.290e-03 \t 2.649e-03\n",
      "419 \t 10.688 \t HO2(16) + CH2CHO(21) <=> H2O2(17) + CH2CO(24) \t 2.961e-04 \t 2.276e-03\n",
      "1814 \t 10.688 \t O2(2) + [CH]1CCOOC1(5425) <=> HO2(16) + C1=COOCC1(5951) \t -2.031e-04 \t 1.561e-03\n",
      "1287 \t 3.93 \t C3KET21(73) + SC4H9(183) <=> CH3COCH2O2(72) + butane(1) \t -1.563e-03 \t 1.453e-03\n",
      "748 \t 3.229 \t HCO(19) + C4H8-2(189) <=> CH2O(9) + C4H71-3(190) \t 2.681e-03 \t 6.130e-04\n",
      "1288 \t 4.253 \t C3KET21(73) + PC4H9(182) <=> CH3COCH2O2(72) + butane(1) \t -4.743e-04 \t 5.941e-04\n",
      "370 \t 4.253 \t CH3CHO(35) + SC4H9(183) <=> CH2CHO(21) + butane(1) \t 3.559e-04 \t 4.459e-04\n",
      "1103 \t 10.688 \t CH3O2(45) + CH2CHO(21) <=> CH3O2H(46) + CH2CO(24) \t 2.013e-05 \t 1.547e-04\n"
     ]
    }
   ],
   "source": [
    "print('Top Improvement Score Reactions')\n",
    "print('i\\tDelta\\tReaction\\tSensitivity')\n",
    "for i in range(0, 10):\n",
    "    rmg_index = improvement_score_order[i]\n",
    "    print(rmg_index, '\\t', np.round(uncorrelated_uncertainties[rmg_index], 3),\n",
    "          '\\t', reaction_list[rmg_index],\n",
    "          '\\t', f'{reaction_sensitivities[rmg_index]:.3e}',\n",
    "          '\\t', f'{improvement_score[rmg_index]:.3e}')"
   ]
  },
  {
   "cell_type": "code",
   "execution_count": null,
   "id": "1f35baa2",
   "metadata": {},
   "outputs": [],
   "source": []
  }
 ],
 "metadata": {
  "kernelspec": {
   "display_name": "Python 3 (ipykernel)",
   "language": "python",
   "name": "python3"
  },
  "language_info": {
   "codemirror_mode": {
    "name": "ipython",
    "version": 3
   },
   "file_extension": ".py",
   "mimetype": "text/x-python",
   "name": "python",
   "nbconvert_exporter": "python",
   "pygments_lexer": "ipython3",
   "version": "3.7.12"
  }
 },
 "nbformat": 4,
 "nbformat_minor": 5
}
