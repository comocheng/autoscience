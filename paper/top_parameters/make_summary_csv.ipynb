{
 "cells": [
  {
   "cell_type": "code",
   "execution_count": 16,
   "id": "11060b0a",
   "metadata": {},
   "outputs": [],
   "source": [
    "import os\n",
    "import sys\n",
    "import copy\n",
    "import pickle\n",
    "import pandas as pd\n",
    "\n",
    "import numpy as np\n",
    "import rmgpy.chemkin\n",
    "\n",
    "import matplotlib.pyplot as plt\n",
    "%matplotlib inline"
   ]
  },
  {
   "cell_type": "code",
   "execution_count": 2,
   "id": "6cb4bf04",
   "metadata": {},
   "outputs": [],
   "source": [
    "basedir = '/home/moon/autoscience/autoscience/butane/models/rmg_model'\n",
    "\n",
    "base_chemkin = os.path.join(basedir, 'chem_annotated.inp')\n",
    "dictionary = os.path.join(basedir, 'species_dictionary.txt')\n",
    "transport = os.path.join(basedir, 'tran.dat')\n",
    "\n",
    "species_list, reaction_list = rmgpy.chemkin.load_chemkin_file(base_chemkin, dictionary_path=dictionary, transport_path=transport)\n",
    "\n",
    "\n"
   ]
  },
  {
   "cell_type": "code",
   "execution_count": null,
   "id": "83faa453",
   "metadata": {},
   "outputs": [],
   "source": []
  },
  {
   "cell_type": "markdown",
   "id": "daa48b21",
   "metadata": {},
   "source": [
    "# Kinetics"
   ]
  },
  {
   "cell_type": "code",
   "execution_count": 4,
   "id": "67823798",
   "metadata": {},
   "outputs": [],
   "source": [
    "# get most uncertain reactions\n",
    "covariance_file = '/home/moon/autoscience/autoscience/uncertainty/butane_covariance.pickle'\n",
    "with open(covariance_file, 'rb') as handle:\n",
    "    Sigma_k = pickle.load(handle)\n",
    "uncorrelated_uncertainties = np.diagonal(Sigma_k)\n",
    "uncorrelated_uncertainties = np.diagonal(Sigma_k)\n",
    "reaction_indices = np.arange(0, len(reaction_list))\n",
    "reaction_uncertainty_order = [x for _,x in sorted(zip(uncorrelated_uncertainties, reaction_indices))][::-1]"
   ]
  },
  {
   "cell_type": "code",
   "execution_count": 5,
   "id": "1da11935",
   "metadata": {},
   "outputs": [],
   "source": [
    "# get most sensitive reactions\n",
    "base_delay = 0.14857535\n",
    "reaction_delay_file = '/home/moon/autoscience/autoscience/butane/sensitivity_analysis/base_rmg24/reaction_ignition_delays_raw.npy'\n",
    "reaction_delays_raw = np.load(reaction_delay_file)\n",
    "reaction_sensitivities = ((reaction_delays_raw - base_delay) / base_delay) / 0.1\n",
    "\n",
    "reaction_sensitivity_order = [x for _,x in sorted(zip(np.abs(reaction_sensitivities), reaction_indices))][::-1]\n"
   ]
  },
  {
   "cell_type": "code",
   "execution_count": 6,
   "id": "184159d4",
   "metadata": {},
   "outputs": [],
   "source": [
    "# Calculate Improvement Score\n",
    "DFT_error = 3.0\n",
    "improvement_score = np.abs(reaction_sensitivities) * (uncorrelated_uncertainties - DFT_error)\n",
    "improvement_score_order = [x for _,x in sorted(zip(improvement_score, reaction_indices))][::-1]\n"
   ]
  },
  {
   "cell_type": "code",
   "execution_count": 7,
   "id": "99cc3707",
   "metadata": {},
   "outputs": [
    {
     "name": "stdout",
     "output_type": "stream",
     "text": [
      "Top Uncertain Reactions\n",
      "i\tDelta\tReaction\tSensitivity\tImprovement Score\n",
      "655 \t 13.479 \t HO2(16) + [CH2]C[CH]C(748) <=> O2(2) + PC4H9(182) \t -3.229e-07 \t 3.384e-06\n",
      "1003 \t 13.408 \t HO2(16) + C4H71-4(191) <=> O2(2) + C4H8-1(188) \t -3.095e-07 \t 3.222e-06\n",
      "985 \t 13.408 \t HO2(16) + [CH2]C[O](703) <=> O2(2) + C2H5O(49) \t -2.786e-07 \t 2.899e-06\n",
      "692 \t 13.408 \t HO2(16) + [CH2]CC(C)[O](766) <=> O2(2) + SC4H9O(217) \t -2.575e-07 \t 2.680e-06\n",
      "650 \t 13.408 \t HO2(16) + [CH2]C[CH]C(748) <=> O2(2) + SC4H9(183) \t -2.926e-07 \t 3.045e-06\n",
      "604 \t 11.92 \t C2H(4) + C3H6(12) <=> C2H2(25) + C3H5-A(94) \t -2.813e-07 \t 2.509e-06\n",
      "585 \t 11.92 \t CH2(23) + C3H6(12) <=> CH3(18) + C3H5-A(94) \t -3.162e-07 \t 2.820e-06\n",
      "773 \t 11.238 \t CH3CO(20) + C4H8-1(188) <=> CH3CHO(35) + C4H71-3(190) \t -3.042e-07 \t 2.506e-06\n",
      "756 \t 11.041 \t C2H(4) + C4H8-1(188) <=> C2H2(25) + C4H71-3(190) \t -2.321e-07 \t 1.867e-06\n",
      "753 \t 11.041 \t CH2(23) + C4H8-1(188) <=> CH3(18) + C4H71-3(190) \t -3.060e-07 \t 2.461e-06\n",
      "\n",
      "H_Abstraction\n",
      "H_Abstraction\n",
      "H_Abstraction\n",
      "H_Abstraction\n",
      "H_Abstraction\n",
      "H_Abstraction\n",
      "H_Abstraction\n",
      "H_Abstraction\n",
      "H_Abstraction\n",
      "H_Abstraction\n"
     ]
    }
   ],
   "source": [
    "print('Top Uncertain Reactions')\n",
    "print('i\\tDelta\\tReaction\\tSensitivity\\tImprovement Score')\n",
    "for i in range(0, 10):\n",
    "    rmg_index = reaction_uncertainty_order[i]\n",
    "    print(rmg_index, '\\t', np.round(uncorrelated_uncertainties[rmg_index], 3),\n",
    "          '\\t', reaction_list[rmg_index],\n",
    "          '\\t', f'{reaction_sensitivities[rmg_index]:.3e}',\n",
    "          '\\t', f'{improvement_score[rmg_index]:.3e}')\n",
    "    \n",
    "    \n",
    "print()\n",
    "for i in range(0, 10):\n",
    "    rmg_index = reaction_uncertainty_order[i]\n",
    "    print(reaction_list[rmg_index].family)"
   ]
  },
  {
   "cell_type": "code",
   "execution_count": 8,
   "id": "c699747a",
   "metadata": {},
   "outputs": [
    {
     "name": "stdout",
     "output_type": "stream",
     "text": [
      "Top Sensitive Reactions\n",
      "i\tDelta\tReaction\tSensitivity\n",
      "288 \t 0.5 \t OH(15) + butane(1) <=> H2O(8) + PC4H9(182) \t -1.314e+00 \t -3.285e+00\n",
      "247 \t 0.5 \t OH(15) + butane(1) <=> H2O(8) + SC4H9(183) \t 1.222e+00 \t -3.055e+00\n",
      "279 \t 0.5 \t SC4H9O2(186) <=> HO2(16) + C4H8-2(189) \t 6.481e-01 \t -1.620e+00\n",
      "323 \t 0.5 \t O2(2) + C4H8OOH1-3(219) <=> C4H8OOH1-3O2(225) \t -6.427e-01 \t -1.607e+00\n",
      "281 \t 0.5 \t O2(2) + C4H8OOH2-4(223) <=> C4H8OOH2-4O2(229) \t -6.120e-01 \t -1.530e+00\n",
      "316 \t 0.5 \t PC4H9O2(184) <=> HO2(16) + C4H8-1(188) \t 5.423e-01 \t -1.356e+00\n",
      "249 \t 0.5 \t HO2(16) + butane(1) <=> H2O2(17) + SC4H9(183) \t -4.697e-01 \t -1.174e+00\n",
      "449 \t 0.5 \t C4H8OOH1-3(219) <=> OH(15) + C4H8O1-3(214) \t 4.667e-01 \t -1.167e+00\n",
      "317 \t 0.5 \t SC4H9O2(186) <=> HO2(16) + C4H8-1(188) \t 4.153e-01 \t -1.038e+00\n",
      "326 \t 0.5 \t C4H8OOH1-3O2(225) <=> C4H71-1,3OOH(238) \t -3.459e-01 \t -8.648e-01\n"
     ]
    }
   ],
   "source": [
    "print('Top Sensitive Reactions')\n",
    "print('i\\tDelta\\tReaction\\tSensitivity')\n",
    "for i in range(0, 10):\n",
    "    rmg_index = reaction_sensitivity_order[i]\n",
    "    print(rmg_index, '\\t', np.round(uncorrelated_uncertainties[rmg_index], 3),\n",
    "          '\\t', reaction_list[rmg_index],\n",
    "          '\\t', f'{reaction_sensitivities[rmg_index]:.3e}',\n",
    "          '\\t', f'{improvement_score[rmg_index]:.3e}')"
   ]
  },
  {
   "cell_type": "code",
   "execution_count": 9,
   "id": "e7f72106",
   "metadata": {},
   "outputs": [
    {
     "name": "stdout",
     "output_type": "stream",
     "text": [
      "Top Improvement Score Reactions\n",
      "i\tDelta\tReaction\tSensitivity\n",
      "915 \t 10.688 \t O2(2) + CC(CC[O])OO(777) <=> HO2(16) + NC4KET13(252) \t -1.025e-03 \t 7.883e-03\n",
      "749 \t 11.041 \t HCO(19) + C4H8-1(188) <=> CH2O(9) + C4H71-3(190) \t 5.078e-04 \t 4.083e-03\n",
      "324 \t 3.617 \t C4H8OOH2-4O2(229) <=> C4H8OOH1-3O2(225) \t -4.290e-03 \t 2.649e-03\n",
      "419 \t 10.688 \t HO2(16) + CH2CHO(21) <=> H2O2(17) + CH2CO(24) \t 2.961e-04 \t 2.276e-03\n",
      "1814 \t 10.688 \t O2(2) + [CH]1CCOOC1(5425) <=> HO2(16) + C1=COOCC1(5951) \t -2.031e-04 \t 1.561e-03\n",
      "1287 \t 3.93 \t C3KET21(73) + SC4H9(183) <=> CH3COCH2O2(72) + butane(1) \t -1.563e-03 \t 1.453e-03\n",
      "748 \t 3.229 \t HCO(19) + C4H8-2(189) <=> CH2O(9) + C4H71-3(190) \t 2.681e-03 \t 6.130e-04\n",
      "1288 \t 4.253 \t C3KET21(73) + PC4H9(182) <=> CH3COCH2O2(72) + butane(1) \t -4.743e-04 \t 5.941e-04\n",
      "370 \t 4.253 \t CH3CHO(35) + SC4H9(183) <=> CH2CHO(21) + butane(1) \t 3.559e-04 \t 4.459e-04\n",
      "1103 \t 10.688 \t CH3O2(45) + CH2CHO(21) <=> CH3O2H(46) + CH2CO(24) \t 2.013e-05 \t 1.547e-04\n"
     ]
    }
   ],
   "source": [
    "print('Top Improvement Score Reactions')\n",
    "print('i\\tDelta\\tReaction\\tSensitivity')\n",
    "for i in range(0, 10):\n",
    "    rmg_index = improvement_score_order[i]\n",
    "    print(rmg_index, '\\t', np.round(uncorrelated_uncertainties[rmg_index], 3),\n",
    "          '\\t', reaction_list[rmg_index],\n",
    "          '\\t', f'{reaction_sensitivities[rmg_index]:.3e}',\n",
    "          '\\t', f'{improvement_score[rmg_index]:.3e}')"
   ]
  },
  {
   "cell_type": "code",
   "execution_count": null,
   "id": "1f35baa2",
   "metadata": {},
   "outputs": [],
   "source": []
  },
  {
   "cell_type": "markdown",
   "id": "c6a694a4",
   "metadata": {},
   "source": [
    "# Thermodynamics"
   ]
  },
  {
   "cell_type": "code",
   "execution_count": 10,
   "id": "7a3169ac",
   "metadata": {},
   "outputs": [],
   "source": [
    "# get most uncertain species\n",
    "species_uncertainty = '/home/moon/autoscience/autoscience/paper/models/base_rmg/thermo_uncertainty.npy'\n",
    "species_indices = np.arange(0, len(reaction_list))\n",
    "uncorrelated_species_uncertainties = np.load(species_uncertainty)\n",
    "species_uncertainty_order = [x for _,x in sorted(zip(uncorrelated_species_uncertainties, species_indices))][::-1]"
   ]
  },
  {
   "cell_type": "code",
   "execution_count": 11,
   "id": "b72dacee",
   "metadata": {},
   "outputs": [],
   "source": [
    "# get most sensitive species\n",
    "base_delay = 0.14857535\n",
    "species_delay_file = '/home/moon/autoscience/autoscience/butane/sensitivity_analysis/base_rmg24/species_ignition_delays_raw.npy'\n",
    "species_delays_raw = np.load(species_delay_file)\n",
    "species_sensitivities = ((species_delays_raw - base_delay) / base_delay) / 0.1\n",
    "\n",
    "species_sensitivity_order = [x for _,x in sorted(zip(np.abs(species_sensitivities), species_indices))][::-1]\n"
   ]
  },
  {
   "cell_type": "code",
   "execution_count": 12,
   "id": "9eec2f5e",
   "metadata": {},
   "outputs": [],
   "source": [
    "# Calculate Improvement Score\n",
    "DFT_error = 3.0\n",
    "species_improvement_score = np.abs(species_sensitivities) * (uncorrelated_species_uncertainties - DFT_error)\n",
    "species_improvement_score_order = [x for _,x in sorted(zip(species_improvement_score, species_indices))][::-1]"
   ]
  },
  {
   "cell_type": "code",
   "execution_count": 13,
   "id": "ee48abb2",
   "metadata": {},
   "outputs": [
    {
     "name": "stdout",
     "output_type": "stream",
     "text": [
      "Top Uncertain Species\n",
      "i\tSpecies\tUncertainty\tSensitivity\tImprovement Score\n",
      "93 \t [CH2]C=C[CH2](2534) \t 3.4 \t -2.522e-07 \t 1.009e-07\n",
      "91 \t [O]C[O](988) \t 3.4 \t -3.067e-07 \t 1.227e-07\n",
      "109 \t [O]OC1CCOOC1(9510) \t 3.3 \t -6.172e-05 \t 1.852e-05\n",
      "82 \t [CH2]CC(C)[O](766) \t 3.2 \t -2.838e-07 \t 5.675e-08\n",
      "81 \t [CH2]C[CH]C(748) \t 3.2 \t -7.727e-07 \t 1.545e-07\n",
      "80 \t [CH2]C[O](703) \t 3.2 \t 2.254e-06 \t 4.508e-07\n",
      "100 \t C=CCCO[O](4407) \t 3.1 \t -1.677e-06 \t 1.677e-07\n",
      "99 \t [CH2]C1CC1(4343) \t 3.1 \t 2.941e-05 \t 2.941e-06\n",
      "98 \t CC=CCO[O](4244) \t 3.1 \t -3.493e-06 \t 3.493e-07\n",
      "97 \t C=CC(C)O[O](4243) \t 3.1 \t -9.326e-07 \t 9.326e-08\n",
      "90 \t [O]OCC(=O)COO(928) \t 3.1 \t 1.160e-03 \t 1.160e-04\n",
      "87 \t [CH2]C(=O)COO(911) \t 3.1 \t 2.025e-01 \t 2.025e-02\n",
      "105 \t [CH]1CCOOC1(5425) \t 2.9 \t 1.587e-03 \t -1.587e-04\n",
      "85 \t CC(CCOO)OO(787) \t 2.7 \t 1.742e+00 \t -5.227e-01\n",
      "101 \t [C]1CCC1(4880) \t 2.6 \t -3.580e-07 \t -1.432e-07\n",
      "103 \t OCCC1CO1(5151) \t 2.4 \t -1.164e-03 \t -6.982e-04\n",
      "92 \t C1=CCC1(2530) \t 2.4 \t -8.035e-06 \t -4.821e-06\n",
      "106 \t [O]C=CCC[O](5753) \t 2.3 \t -3.227e-07 \t -2.259e-07\n",
      "102 \t [CH2]C(CCO)OO(5093) \t 2.3 \t 1.169e-04 \t -8.183e-05\n",
      "84 \t CC(CC[O])OO(777) \t 2.3 \t -2.932e-03 \t -2.052e-03\n",
      "\n",
      "Thermo library: CurranPentane + radical(Allyl_P) + radical(Allyl_P)\n",
      "Thermo library: thermo_DFT_CCSDTF12_BAC + radical(OCOJ) + radical(OCOJ)\n",
      "Thermo group additivity estimation: group(O2s-OsCs) + group(O2s-OsCs) + group(O2s-OsCs) + group(O2s-OsH) + group(Cs-CsCsOsH) + group(Cs-CsCsHH) +\n",
      "group(Cs-CsOsHH) + group(Cs-CsOsHH) + ring(12dioxane) + radical(ROOJ)\n",
      "Thermo library: CBS_QB3_1dHR + radical(CC(C)OJ) + radical(RCCJ)\n",
      "Thermo library: CurranPentane + radical(RCCJC) + radical(RCCJ)\n",
      "Thermo library: FFCM1(-) + radical(CCOJ) + radical(CJCO)\n",
      "Thermo library: CurranPentane + radical(ROOJ)\n",
      "Thermo library: CurranPentane + radical(Isobutyl)\n",
      "Thermo library: CurranPentane + radical(ROOJ)\n",
      "Thermo library: CurranPentane + radical(ROOJ)\n",
      "Thermo library: CurranPentane + radical(ROOJ)\n",
      "Thermo library: CurranPentane + radical(C2JC=O)\n",
      "Thermo group additivity estimation: group(O2s-OsCs) + group(O2s-OsCs) + group(Cs-CsCsHH) + group(Cs-CsCsHH) + group(Cs-CsOsHH) + group(Cs-CsOsHH) +\n",
      "ring(12dioxane) + radical(CCJCOOH)\n",
      "Thermo group additivity estimation: group(O2s-OsCs) + group(O2s-OsCs) + group(O2s-OsH) + group(O2s-OsH) + group(Cs-CsCsOsH) + group(Cs-CsCsHH) +\n",
      "group(Cs-CsOsHH) + group(Cs-CsHHH)\n",
      "Thermo group additivity estimation: group(Cs-CsCsHH) + group(Cs-CsCsHH) + group(Cs-CsCsHH) + group(CsJ2_singlet-CsH) + ring(Cyclobutane)\n",
      "Thermo group additivity estimation: group(O2s-CsCs) + group(O2s-CsH) + group(Cs-CsCsOsH) + group(Cs-CsCsHH) + group(Cs-CsOsHH) + group(Cs-CsOsHH) +\n",
      "ring(Ethylene_oxide)\n",
      "Thermo group additivity estimation: group(Cs-(Cds-Cds)CsHH) + group(Cs-(Cds-Cds)CsHH) + group(Cds-CdsCsH) + group(Cds-CdsCsH) + ring(Cyclobutene)\n",
      "Thermo group additivity estimation: group(O2s-CsH) + group(O2s-(Cds-Cd)H) + group(Cs-(Cds-Cds)CsHH) + group(Cs-CsOsHH) + group(Cds-CdsCsH) +\n",
      "group(Cds-CdsOsH) + radical(CCOJ) + radical(C=COJ)\n",
      "Thermo group additivity estimation: group(O2s-OsCs) + group(O2s-CsH) + group(O2s-OsH) + group(Cs-CsCsOsH) + group(Cs-CsCsHH) + group(Cs-CsOsHH) +\n",
      "group(Cs-CsHHH) + radical(CJCOOH)\n",
      "Thermo group additivity estimation: group(O2s-OsCs) + group(O2s-CsH) + group(O2s-OsH) + group(Cs-CsCsOsH) + group(Cs-CsCsHH) + group(Cs-CsOsHH) +\n",
      "group(Cs-CsHHH) + radical(CCOJ)\n"
     ]
    }
   ],
   "source": [
    "print('Top Uncertain Species')\n",
    "print('i\\tSpecies\\tUncertainty\\tSensitivity\\tImprovement Score')\n",
    "for i in range(0, 20):\n",
    "    rmg_sp_index = species_uncertainty_order[i]\n",
    "    print(rmg_sp_index, '\\t', species_list[rmg_sp_index], '\\t',\n",
    "          np.round(uncorrelated_species_uncertainties[rmg_sp_index], 3),\n",
    "          '\\t', f'{species_sensitivities[rmg_sp_index]:.3e}',\n",
    "          '\\t', f'{species_improvement_score[rmg_sp_index]:.3e}')\n",
    "    \n",
    "print()\n",
    "for i in range(0, 20):\n",
    "    rmg_sp_index = species_uncertainty_order[i]\n",
    "    print(species_list[rmg_sp_index].thermo.comment)"
   ]
  },
  {
   "cell_type": "code",
   "execution_count": 14,
   "id": "b7a3f71f",
   "metadata": {},
   "outputs": [
    {
     "name": "stdout",
     "output_type": "stream",
     "text": [
      "Top Sensitive Species\n",
      "i\tSpecies\tUncertainty\tSensitivity\tImprovement Score\n",
      "59 \t SC4H9O2(186) \t 1.5 \t 1.026e+01 \t -1.539e+01\n",
      "58 \t PC4H9O2(184) \t 1.5 \t 1.014e+01 \t -1.521e+01\n",
      "73 \t C4H8OOH1-3O2(225) \t 1.5 \t -4.121e+00 \t -6.182e+00\n",
      "72 \t C4H8OOH2-4(223) \t 1.5 \t -3.734e+00 \t -5.601e+00\n",
      "74 \t C4H8OOH2-4O2(229) \t 1.5 \t -3.594e+00 \t -5.391e+00\n",
      "85 \t CC(CCOO)OO(787) \t 2.7 \t 1.742e+00 \t -5.227e-01\n",
      "46 \t C3KET21(73) \t 1.5 \t -1.214e+00 \t -1.821e+00\n",
      "5 \t O2(2) \t 1.5 \t 7.474e-01 \t -1.121e+00\n",
      "32 \t C2H5(33) \t 1.5 \t -3.995e-01 \t -5.993e-01\n",
      "21 \t CH3(18) \t 1.5 \t -3.828e-01 \t -5.742e-01\n"
     ]
    }
   ],
   "source": [
    "print('Top Sensitive Species')\n",
    "print('i\\tSpecies\\tUncertainty\\tSensitivity\\tImprovement Score')\n",
    "for i in range(0, 10):\n",
    "    rmg_sp_index = species_sensitivity_order[i]\n",
    "    print(rmg_sp_index, '\\t', species_list[rmg_sp_index], '\\t',\n",
    "          np.round(uncorrelated_species_uncertainties[rmg_sp_index], 3),\n",
    "          '\\t', f'{species_sensitivities[rmg_sp_index]:.3e}',\n",
    "          '\\t', f'{species_improvement_score[rmg_sp_index]:.3e}')"
   ]
  },
  {
   "cell_type": "code",
   "execution_count": 15,
   "id": "1d142b79",
   "metadata": {},
   "outputs": [
    {
     "name": "stdout",
     "output_type": "stream",
     "text": [
      "Top Improvement Species\n",
      "i\tSpecies\tUncertainty\tSensitivity\tImprovement Score\n",
      "87 \t [CH2]C(=O)COO(911) \t 3.1 \t 2.025e-01 \t 2.025e-02\n",
      "90 \t [O]OCC(=O)COO(928) \t 3.1 \t 1.160e-03 \t 1.160e-04\n",
      "109 \t [O]OC1CCOOC1(9510) \t 3.3 \t -6.172e-05 \t 1.852e-05\n",
      "99 \t [CH2]C1CC1(4343) \t 3.1 \t 2.941e-05 \t 2.941e-06\n",
      "80 \t [CH2]C[O](703) \t 3.2 \t 2.254e-06 \t 4.508e-07\n",
      "98 \t CC=CCO[O](4244) \t 3.1 \t -3.493e-06 \t 3.493e-07\n",
      "100 \t C=CCCO[O](4407) \t 3.1 \t -1.677e-06 \t 1.677e-07\n",
      "81 \t [CH2]C[CH]C(748) \t 3.2 \t -7.727e-07 \t 1.545e-07\n",
      "91 \t [O]C[O](988) \t 3.4 \t -3.067e-07 \t 1.227e-07\n",
      "93 \t [CH2]C=C[CH2](2534) \t 3.4 \t -2.522e-07 \t 1.009e-07\n"
     ]
    }
   ],
   "source": [
    "print('Top Improvement Species')\n",
    "print('i\\tSpecies\\tUncertainty\\tSensitivity\\tImprovement Score')\n",
    "for i in range(0, 10):\n",
    "    rmg_sp_index = species_improvement_score_order[i]\n",
    "    print(rmg_sp_index, '\\t', species_list[rmg_sp_index], '\\t',\n",
    "          np.round(uncorrelated_species_uncertainties[rmg_sp_index], 3),\n",
    "          '\\t', f'{species_sensitivities[rmg_sp_index]:.3e}',\n",
    "          '\\t', f'{species_improvement_score[rmg_sp_index]:.3e}')"
   ]
  },
  {
   "cell_type": "code",
   "execution_count": 17,
   "id": "e63252f1",
   "metadata": {},
   "outputs": [
    {
     "data": {
      "text/plain": [
       "'N#N'"
      ]
     },
     "execution_count": 17,
     "metadata": {},
     "output_type": "execute_result"
    }
   ],
   "source": [
    "species_list[0].smiles"
   ]
  },
  {
   "cell_type": "code",
   "execution_count": 23,
   "id": "63234cf0",
   "metadata": {},
   "outputs": [],
   "source": [
    "# Now combine them into top everything\n",
    "total_df = pd.DataFrame()\n",
    "\n",
    "\n",
    "# indices = []\n",
    "rmg_indices = []\n",
    "names = []\n",
    "entry_types = []\n",
    "sensitivities = []\n",
    "uncertainties = []\n",
    "improvement_scores = []\n",
    "\n",
    "for i in range(0, len(species_list)):\n",
    "    rmg_indices.append(i)\n",
    "    names.append(species_list[i].smiles)\n",
    "    entry_types.append('species')\n",
    "    sensitivities.append(species_sensitivities[i])\n",
    "    uncertainties.append(uncorrelated_species_uncertainties[i])\n",
    "    improvement_scores.append(species_improvement_score[i])\n",
    "    \n",
    "\n",
    "for i in range(0, len(reaction_list)):\n",
    "    rmg_indices.append(i)\n",
    "    names.append(str(reaction_list[i]))\n",
    "    entry_types.append('reaction')\n",
    "    sensitivities.append(reaction_sensitivities[i])\n",
    "    uncertainties.append(uncorrelated_uncertainties[i])\n",
    "    improvement_scores.append(improvement_score[i])\n",
    "    \n",
    "\n",
    "total_df['rmg_index'] = rmg_indices\n",
    "total_df['name'] = names\n",
    "total_df['entry_type'] = entry_types\n",
    "total_df['sensitivity'] = sensitivities\n",
    "total_df['uncertaintie'] = uncertainties\n",
    "total_df['improvement_score'] = improvement_scores\n",
    "total_df.to_csv('mechanism_summary.csv')\n",
    "\n"
   ]
  },
  {
   "cell_type": "code",
   "execution_count": 26,
   "id": "05081079",
   "metadata": {},
   "outputs": [
    {
     "name": "stdout",
     "output_type": "stream",
     "text": [
      "      rmg_index                                         name entry_type  \\\n",
      "0             0                                          N#N    species   \n",
      "1             1                                         [Ar]    species   \n",
      "2             2                                         [He]    species   \n",
      "3             3                                         [Ne]    species   \n",
      "4             4                                         CCCC    species   \n",
      "...         ...                                          ...        ...   \n",
      "1927       1817  [O]C=CCC[O](5753) <=> CH2O(9) + C2H3CHO(74)   reaction   \n",
      "1928       1818        [O]C=CCC[O](5753) <=> C1=COOCC1(5951)   reaction   \n",
      "1929       1819    O=CC1CCO1(5761) <=> CH2O(9) + C2H3CHO(74)   reaction   \n",
      "1930       1820          C1=COOCC1(5951) <=> O=CC1CCO1(5761)   reaction   \n",
      "1931       1821        [O]C=CCC[O](5753) <=> O=CC1CCO1(5761)   reaction   \n",
      "\n",
      "       sensitivity  uncertaintie  improvement_score  \n",
      "0    -2.822246e-07           1.5      -4.233369e-07  \n",
      "1    -2.927195e-07           1.5      -4.390792e-07  \n",
      "2    -2.822246e-07           1.5      -4.233369e-07  \n",
      "3    -2.822246e-07           1.5      -4.233369e-07  \n",
      "4     3.040639e-01           1.5      -4.560958e-01  \n",
      "...            ...           ...                ...  \n",
      "1927  0.000000e+00           0.5      -0.000000e+00  \n",
      "1928  0.000000e+00           0.5      -0.000000e+00  \n",
      "1929  0.000000e+00           0.5      -0.000000e+00  \n",
      "1930  0.000000e+00           0.5      -0.000000e+00  \n",
      "1931  0.000000e+00           0.5      -0.000000e+00  \n",
      "\n",
      "[1932 rows x 6 columns]\n"
     ]
    }
   ],
   "source": [
    "# read the dataframe\n",
    "\n",
    "df = pd.read_csv('mechanism_summary.csv')\n",
    "if 'Unnamed: 0' in df .keys():  \n",
    "    df  = df .drop(columns=['Unnamed: 0'])\n",
    "print(df)\n"
   ]
  },
  {
   "cell_type": "code",
   "execution_count": null,
   "id": "d3d4f454",
   "metadata": {},
   "outputs": [],
   "source": []
  }
 ],
 "metadata": {
  "kernelspec": {
   "display_name": "Python 3 (ipykernel)",
   "language": "python",
   "name": "python3"
  },
  "language_info": {
   "codemirror_mode": {
    "name": "ipython",
    "version": 3
   },
   "file_extension": ".py",
   "mimetype": "text/x-python",
   "name": "python",
   "nbconvert_exporter": "python",
   "pygments_lexer": "ipython3",
   "version": "3.7.12"
  }
 },
 "nbformat": 4,
 "nbformat_minor": 5
}
