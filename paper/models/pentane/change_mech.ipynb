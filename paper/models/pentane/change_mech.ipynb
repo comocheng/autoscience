{
 "cells": [
  {
   "cell_type": "code",
   "execution_count": null,
   "id": "793748b4",
   "metadata": {},
   "outputs": [],
   "source": [
    "# script to replace the base mechanism with new reactions (every reaction calculated) and species (all species calculated for now)"
   ]
  },
  {
   "cell_type": "code",
   "execution_count": 1,
   "id": "f934e7bc",
   "metadata": {},
   "outputs": [],
   "source": [
    "import os\n",
    "import pickle\n",
    "import datetime\n",
    "import subprocess\n",
    "import numpy as np\n",
    "\n",
    "import rmgpy.chemkin\n",
    "import rmgpy.data.kinetics\n",
    "# import cantera as ct\n",
    "\n",
    "\n",
    "import matplotlib.pyplot as plt\n",
    "%matplotlib inline"
   ]
  },
  {
   "cell_type": "code",
   "execution_count": 2,
   "id": "2f102141",
   "metadata": {},
   "outputs": [
    {
     "name": "stdout",
     "output_type": "stream",
     "text": [
      "189 species, 3837 reactions\n"
     ]
    }
   ],
   "source": [
    "# Load the base model\n",
    "basedir = '/home/moon/autoscience/autoscience/paper/models/pentane'\n",
    "new_model_dir = basedir\n",
    "base_chemkin = os.path.join(basedir, 'chem_annotated_fixed.inp')\n",
    "dictionary = os.path.join(basedir, 'species_dictionary.txt')\n",
    "transport = os.path.join(basedir, 'tran.dat')\n",
    "species_list, reaction_list = rmgpy.chemkin.load_chemkin_file(base_chemkin, dictionary_path=dictionary, transport_path=transport)\n",
    "print(f'{len(species_list)} species, {len(reaction_list)} reactions')\n"
   ]
  },
  {
   "cell_type": "code",
   "execution_count": null,
   "id": "80d2e617",
   "metadata": {},
   "outputs": [],
   "source": []
  },
  {
   "cell_type": "code",
   "execution_count": 3,
   "id": "dceece7e",
   "metadata": {},
   "outputs": [
    {
     "name": "stdout",
     "output_type": "stream",
     "text": [
      "105 entries loaded\n"
     ]
    }
   ],
   "source": [
    "# Load the new kinetics library\n",
    "DFT_DIR = \"/home/moon/autoscience/autoscience/butane/dft/\"\n",
    "kinetics_lib = os.path.join(DFT_DIR, 'kinetics', 'kinetics')\n",
    "ark_kinetics_database = rmgpy.data.kinetics.KineticsDatabase()\n",
    "ark_kinetics_database.load_libraries(kinetics_lib)\n",
    "print(f'{len(ark_kinetics_database.libraries[\"\"].entries)} entries loaded')"
   ]
  },
  {
   "cell_type": "code",
   "execution_count": 10,
   "id": "11b81b95",
   "metadata": {},
   "outputs": [],
   "source": [
    "# load the uncertainty matrix\n",
    "thermo_uncertainty_file = '/home/moon/autoscience/autoscience/paper/models/pentane/species_uncertainty.npy'\n",
    "kinetic_uncertainty_file = '/home/moon/autoscience/autoscience/paper/models/pentane/reaction_uncertainty.npy'\n",
    "\n",
    "thermo_uncertainty = np.load(thermo_uncertainty_file)\n",
    "kinetic_uncertainty = np.load(kinetic_uncertainty_file)\n",
    "\n",
    "assert len(kinetic_uncertainty) == len(reaction_list)\n",
    "assert len(thermo_uncertainty) == len(species_list)\n",
    "\n",
    "uncertainty_cutoff = 2.5\n",
    "\n",
    "reaction_change_list = []\n",
    "for i in range(0, len(reaction_list)):\n",
    "    if kinetic_uncertainty[i] > uncertainty_cutoff:\n",
    "        reaction_change_list.append(i)\n",
    "\n",
    "thermo_change_list = []\n",
    "for i in range(0, len(species_list)):\n",
    "    if thermo_uncertainty[i] > uncertainty_cutoff:\n",
    "        thermo_change_list.append(i)\n",
    "\n"
   ]
  },
  {
   "cell_type": "code",
   "execution_count": 11,
   "id": "d6002d40",
   "metadata": {},
   "outputs": [
    {
     "data": {
      "text/plain": [
       "945"
      ]
     },
     "execution_count": 11,
     "metadata": {},
     "output_type": "execute_result"
    }
   ],
   "source": [
    "len(reaction_change_list)"
   ]
  },
  {
   "cell_type": "code",
   "execution_count": 12,
   "id": "1e088af5",
   "metadata": {},
   "outputs": [
    {
     "data": {
      "image/png": "[encoded data removed]",
      "text/plain": [
       "Species(index=685, label=\"[CH2]C[CH]C\", thermo=NASA(polynomials=[NASAPolynomial(coeffs=[3.59694,0.039833,-7.72303e-05,1.67106e-07,-1.32921e-10,30858,10.7663], Tmin=(10,'K'), Tmax=(458.939,'K')), NASAPolynomial(coeffs=[1.53269,0.0405451,-2.30817e-05,6.4098e-09,-6.94955e-13,31229.4,21.1], Tmin=(458.939,'K'), Tmax=(3000,'K'))], Tmin=(10,'K'), Tmax=(3000,'K'), E0=(256.558,'kJ/mol'), Cp0=(33.2579,'J/(mol*K)'), CpInf=(282.692,'J/(mol*K)')), molecule=[Molecule(smiles=\"[CH2]C[CH]C\")], transport_data=TransportData(shapeIndex=2, epsilon=(2896.89,'J/mol'), sigma=(5.415,'angstrom'), dipoleMoment=(0,'De'), polarizability=(0,'angstrom^3'), rotrelaxcollnum=0.0, comment=\"\"\"Epsilon & sigma estimated with Tc=452.49 K, Pc=41.41 bar (from Joback method)\"\"\"), molecular_weight=(56.1063,'amu'))"
      ]
     },
     "metadata": {},
     "output_type": "display_data"
    },
    {
     "data": {
      "image/png": "[encoded data removed]",
      "text/plain": [
       "Species(index=705, label=\"[CH2]C[CH2]\", thermo=NASA(polynomials=[NASAPolynomial(coeffs=[3.16054,0.0130926,1.84209e-05,-2.68369e-08,9.41216e-12,35083.9,13.4372], Tmin=(100,'K'), Tmax=(1060.58,'K')), NASAPolynomial(coeffs=[5.62536,0.0174641,-7.09202e-06,1.35086e-09,-9.64244e-14,33792.4,-2.22295], Tmin=(1060.58,'K'), Tmax=(5000,'K'))], Tmin=(100,'K'), Tmax=(5000,'K'), comment=\"\"\"Thermo library: CurranPentane + radical(RCCJ) + radical(RCCJ)\"\"\"), molecule=[Molecule(smiles=\"[CH2]C[CH2]\")], transport_data=TransportData(shapeIndex=2, epsilon=(2737.71,'J/mol'), sigma=(5.092,'angstrom'), dipoleMoment=(0,'De'), polarizability=(0,'angstrom^3'), rotrelaxcollnum=0.0, comment=\"\"\"Epsilon & sigma estimated with Tc=427.62 K, Pc=47.04 bar (from Joback method)\"\"\"), molecular_weight=(42.0798,'amu'))"
      ]
     },
     "metadata": {},
     "output_type": "display_data"
    },
    {
     "data": {
      "image/png": "[encoded data removed]",
      "text/plain": [
       "Species(index=761, label=\"[CH2]C[O]\", thermo=NASA(polynomials=[NASAPolynomial(coeffs=[3.9794,0.00131992,6.09229e-05,-1.16165e-07,7.27118e-11,21650.3,10.3099], Tmin=(10,'K'), Tmax=(409.834,'K')), NASAPolynomial(coeffs=[1.91624,0.0214568,-1.27798e-05,3.72774e-09,-4.24185e-13,21819.5,18.423], Tmin=(409.834,'K'), Tmax=(3000,'K'))], Tmin=(10,'K'), Tmax=(3000,'K'), E0=(180.006,'kJ/mol'), Cp0=(33.2579,'J/(mol*K)'), CpInf=(153.818,'J/(mol*K)')), molecule=[Molecule(smiles=\"[CH2]C[O]\")], transport_data=TransportData(shapeIndex=2, epsilon=(3197.09,'J/mol'), sigma=(5.509,'angstrom'), dipoleMoment=(0,'De'), polarizability=(0,'angstrom^3'), rotrelaxcollnum=0.0, comment=\"\"\"Epsilon & sigma estimated with Tc=499.38 K, Pc=43.4 bar (from Joback method)\"\"\"), molecular_weight=(44.0526,'amu'))"
      ]
     },
     "metadata": {},
     "output_type": "display_data"
    },
    {
     "data": {
      "image/png": "[encoded data removed]",
      "text/plain": [
       "Species(index=766, label=\"C[CH]CC(C)[O]\", thermo=NASA(polynomials=[NASAPolynomial(coeffs=[1.56731,0.0539585,-3.15905e-05,9.53093e-09,-1.22414e-12,10219.6,25.4706], Tmin=(100,'K'), Tmax=(1654.09,'K')), NASAPolynomial(coeffs=[9.44512,0.0349079,-1.43146e-05,2.56801e-09,-1.71753e-13,7613.52,-16.4998], Tmin=(1654.09,'K'), Tmax=(5000,'K'))], Tmin=(100,'K'), Tmax=(5000,'K'), comment=\"\"\"Thermo group additivity estimation: group(O2s-CsH) + group(Cs-CsCsOsH) + group(Cs-CsCsHH) + group(Cs-CsCsHH) + group(Cs-CsHHH) + group(Cs-CsHHH) +\n",
       "radical(CC(C)OJ) + radical(RCCJC)\"\"\"), molecule=[Molecule(smiles=\"C[CH]CC(C)[O]\")], transport_data=TransportData(shapeIndex=2, epsilon=(3655.69,'J/mol'), sigma=(6.487,'angstrom'), dipoleMoment=(0,'De'), polarizability=(0,'angstrom^3'), rotrelaxcollnum=0.0, comment=\"\"\"Epsilon & sigma estimated with Tc=571.01 K, Pc=30.39 bar (from Joback method)\"\"\"), molecular_weight=(86.1323,'amu'))"
      ]
     },
     "metadata": {},
     "output_type": "display_data"
    },
    {
     "data": {
      "image/png": "[encoded data removed]",
      "text/plain": [
       "Species(index=790, label=\"C[C]=CCC\", thermo=NASA(polynomials=[NASAPolynomial(coeffs=[2.12717,0.0414845,-1.98531e-05,4.12796e-09,-3.05402e-13,22450.8,18.2452], Tmin=(100,'K'), Tmax=(2178.04,'K')), NASAPolynomial(coeffs=[16.0604,0.0199782,-7.85346e-06,1.31559e-09,-8.13691e-14,15413,-62.0435], Tmin=(2178.04,'K'), Tmax=(5000,'K'))], Tmin=(100,'K'), Tmax=(5000,'K'), comment=\"\"\"Thermo library: CurranPentane + radical(Cds_S)\"\"\"), molecule=[Molecule(smiles=\"C[C]=CCC\")], transport_data=TransportData(shapeIndex=2, epsilon=(3138.16,'J/mol'), sigma=(5.608,'angstrom'), dipoleMoment=(0,'De'), polarizability=(0,'angstrom^3'), rotrelaxcollnum=0.0, comment=\"\"\"Epsilon & sigma estimated with Tc=490.17 K, Pc=40.36 bar (from Joback method)\"\"\"), molecular_weight=(69.1249,'amu'))"
      ]
     },
     "metadata": {},
     "output_type": "display_data"
    },
    {
     "data": {
      "image/png": "[encoded data removed]",
      "text/plain": [
       "Species(index=885, label=\"CC1OC1CC[O]\", thermo=NASA(polynomials=[NASAPolynomial(coeffs=[1.1255,0.0597494,-3.45004e-05,2.80243e-09,4.49432e-12,-11650.5,24.0954], Tmin=(100,'K'), Tmax=(865.28,'K')), NASAPolynomial(coeffs=[9.51441,0.0336515,-1.12439e-05,1.82328e-09,-1.16931e-13,-13577,-17.9058], Tmin=(865.28,'K'), Tmax=(5000,'K'))], Tmin=(100,'K'), Tmax=(5000,'K'), comment=\"\"\"Thermo group additivity estimation: group(O2s-CsCs) + group(O2s-CsH) + group(Cs-CsCsOsH) + group(Cs-CsCsOsH) + group(Cs-CsCsHH) + group(Cs-CsOsHH) +\n",
       "group(Cs-CsHHH) + ring(Ethylene_oxide) + radical(CCOJ)\"\"\"), molecule=[Molecule(smiles=\"CC1OC1CC[O]\")], transport_data=TransportData(shapeIndex=2, epsilon=(3907.94,'J/mol'), sigma=(6.672,'angstrom'), dipoleMoment=(0,'De'), polarizability=(0,'angstrom^3'), rotrelaxcollnum=0.0, comment=\"\"\"Epsilon & sigma estimated with Tc=610.41 K, Pc=29.86 bar (from Joback method)\"\"\"), molecular_weight=(101.124,'amu'))"
      ]
     },
     "metadata": {},
     "output_type": "display_data"
    },
    {
     "data": {
      "image/png": "[encoded data removed]",
      "text/plain": [
       "Species(index=892, label=\"[CH2]C1OC1C\", thermo=NASA(polynomials=[NASAPolynomial(coeffs=[1.98072,0.0324617,1.38209e-05,-4.13824e-08,1.79375e-11,7723.71,16.9961], Tmin=(100,'K'), Tmax=(992.73,'K')), NASAPolynomial(coeffs=[12.7836,0.0174582,-6.60897e-06,1.28085e-09,-9.53452e-14,4173.28,-42.1219], Tmin=(992.73,'K'), Tmax=(5000,'K'))], Tmin=(100,'K'), Tmax=(5000,'K'), comment=\"\"\"Thermo library: CurranPentane + radical(CJCO)\"\"\"), molecule=[Molecule(smiles=\"[CH2]C1OC1C\")], transport_data=TransportData(shapeIndex=2, epsilon=(3200.66,'J/mol'), sigma=(5.655,'angstrom'), dipoleMoment=(0,'De'), polarizability=(0,'angstrom^3'), rotrelaxcollnum=0.0, comment=\"\"\"Epsilon & sigma estimated with Tc=499.94 K, Pc=40.16 bar (from Joback method)\"\"\"), molecular_weight=(71.0978,'amu'))"
      ]
     },
     "metadata": {},
     "output_type": "display_data"
    },
    {
     "data": {
      "image/png": "[encoded data removed]",
      "text/plain": [
       "Species(index=947, label=\"C[CH][O]\", thermo=NASA(polynomials=[NASAPolynomial(coeffs=[3.65563,0.0114443,2.34959e-06,-4.83183e-09,1.17971e-12,18963.9,10.3625], Tmin=(100,'K'), Tmax=(1718.62,'K')), NASAPolynomial(coeffs=[6.06245,0.0136329,-6.35986e-06,1.18414e-09,-7.90693e-14,16986.2,-5.89948], Tmin=(1718.62,'K'), Tmax=(5000,'K'))], Tmin=(100,'K'), Tmax=(5000,'K'), comment=\"\"\"Thermo library: FFCM1(-) + radical(CCOJ) + radical(CCsJOH)\"\"\"), molecule=[Molecule(smiles=\"C[CH][O]\")], transport_data=TransportData(shapeIndex=2, epsilon=(3197.09,'J/mol'), sigma=(5.509,'angstrom'), dipoleMoment=(0,'De'), polarizability=(0,'angstrom^3'), rotrelaxcollnum=0.0, comment=\"\"\"Epsilon & sigma estimated with Tc=499.38 K, Pc=43.4 bar (from Joback method)\"\"\"), molecular_weight=(44.0526,'amu'))"
      ]
     },
     "metadata": {},
     "output_type": "display_data"
    },
    {
     "data": {
      "image/png": "[encoded data removed]",
      "text/plain": [
       "Species(index=986, label=\"[CH2]C(=O)COO\", thermo=NASA(polynomials=[NASAPolynomial(coeffs=[3.84863,0.0110266,0.00015254,-3.93026e-07,3.06755e-10,-15052.9,12.029], Tmin=(10,'K'), Tmax=(423.409,'K')), NASAPolynomial(coeffs=[3.07037,0.0398988,-2.59832e-05,8.10086e-09,-9.64807e-13,-15179.9,12.8368], Tmin=(423.409,'K'), Tmax=(3000,'K'))], Tmin=(10,'K'), Tmax=(3000,'K'), E0=(-125.162,'kJ/mol'), Cp0=(33.2579,'J/(mol*K)'), CpInf=(257.749,'J/(mol*K)')), molecule=[Molecule(smiles=\"[CH2]C(=O)COO\"), Molecule(smiles=\"C=C([O])COO\")], transport_data=TransportData(shapeIndex=2, epsilon=(3915.5,'J/mol'), sigma=(6.256,'angstrom'), dipoleMoment=(0,'De'), polarizability=(0,'angstrom^3'), rotrelaxcollnum=0.0, comment=\"\"\"Epsilon & sigma estimated with Tc=611.59 K, Pc=36.29 bar (from Joback method)\"\"\"), molecular_weight=(89.07,'amu'))"
      ]
     },
     "metadata": {},
     "output_type": "display_data"
    },
    {
     "data": {
      "image/png": "[encoded data removed]",
      "text/plain": [
       "Species(index=1064, label=\"[O]OCC(=O)COO\", thermo=NASA(polynomials=[NASAPolynomial(coeffs=[3.57536,0.0484923,-2.93527e-05,6.53024e-09,6.94693e-14,-28120.9,13.8967], Tmin=(10,'K'), Tmax=(1245.89,'K')), NASAPolynomial(coeffs=[12.5585,0.0275976,-1.37632e-05,3.30753e-09,-3.11063e-13,-30976.1,-33.8918], Tmin=(1245.89,'K'), Tmax=(3000,'K'))], Tmin=(10,'K'), Tmax=(3000,'K'), E0=(-233.815,'kJ/mol'), Cp0=(33.2579,'J/(mol*K)'), CpInf=(307.635,'J/(mol*K)')), molecule=[Molecule(smiles=\"[O]OCC(=O)COO\")], transport_data=TransportData(shapeIndex=2, epsilon=(4606.26,'J/mol'), sigma=(7.132,'angstrom'), dipoleMoment=(0,'De'), polarizability=(0,'angstrom^3'), rotrelaxcollnum=0.0, comment=\"\"\"Epsilon & sigma estimated with Tc=719.49 K, Pc=28.81 bar (from Joback method)\"\"\"), molecular_weight=(121.069,'amu'))"
      ]
     },
     "metadata": {},
     "output_type": "display_data"
    },
    {
     "data": {
      "image/png": "[encoded data removed]",
      "text/plain": [
       "Species(index=3198, label=\"[O]C[O]\", thermo=NASA(polynomials=[NASAPolynomial(coeffs=[4.04334,-0.00399707,4.67212e-05,-2.42647e-08,-5.65106e-11,13614.2,7.10606], Tmin=(10,'K'), Tmax=(310.496,'K')), NASAPolynomial(coeffs=[1.64294,0.0175171,-1.17574e-05,3.69573e-09,-4.39949e-13,13808.6,16.6095], Tmin=(310.496,'K'), Tmax=(3000,'K'))], Tmin=(10,'K'), Tmax=(3000,'K'), E0=(113.196,'kJ/mol'), Cp0=(33.2579,'J/(mol*K)'), CpInf=(108.088,'J/(mol*K)')), molecule=[Molecule(smiles=\"[O]C[O]\")], transport_data=TransportData(shapeIndex=2, epsilon=(3630.86,'J/mol'), sigma=(5.898,'angstrom'), dipoleMoment=(0,'De'), polarizability=(0,'angstrom^3'), rotrelaxcollnum=0.0, comment=\"\"\"Epsilon & sigma estimated with Tc=567.13 K, Pc=40.16 bar (from Joback method)\"\"\"), molecular_weight=(46.0254,'amu'))"
      ]
     },
     "metadata": {},
     "output_type": "display_data"
    },
    {
     "data": {
      "image/png": "[encoded data removed]",
      "text/plain": [
       "Species(index=3731, label=\"[CH2]C=C[CH2]\", thermo=NASA(polynomials=[NASAPolynomial(coeffs=[3.87149,0.00774875,0.000119787,-2.57578e-07,1.62155e-10,40100.3,10.0897], Tmin=(10,'K'), Tmax=(551.008,'K')), NASAPolynomial(coeffs=[4.77648,0.0300819,-1.96923e-05,6.37502e-09,-7.96143e-13,39561.8,2.28157], Tmin=(551.008,'K'), Tmax=(3000,'K'))], Tmin=(10,'K'), Tmax=(3000,'K'), E0=(333.366,'kJ/mol'), Cp0=(33.2579,'J/(mol*K)'), CpInf=(224.491,'J/(mol*K)')), molecule=[Molecule(smiles=\"[CH2]C=C[CH2]\"), Molecule(smiles=\"[CH2][CH]C=C\"), Molecule(smiles=\"[CH2][CH]C=C\")], transport_data=TransportData(shapeIndex=2, epsilon=(2985.34,'J/mol'), sigma=(5.289,'angstrom'), dipoleMoment=(0,'De'), polarizability=(0,'angstrom^3'), rotrelaxcollnum=0.0, comment=\"\"\"Epsilon & sigma estimated with Tc=466.30 K, Pc=45.78 bar (from Joback method)\"\"\"), molecular_weight=(54.0904,'amu'))"
      ]
     },
     "metadata": {},
     "output_type": "display_data"
    },
    {
     "data": {
      "image/png": "[encoded data removed]",
      "text/plain": [
       "Species(index=3824, label=\"CC1O[CH]COO1\", thermo=NASA(polynomials=[NASAPolynomial(coeffs=[1.10929,0.0437219,3.90129e-05,-1.05287e-07,5.28825e-11,-17557.5,20.3491], Tmin=(100,'K'), Tmax=(860.75,'K')), NASAPolynomial(coeffs=[21.8744,0.00499487,5.82564e-06,-1.60722e-09,1.21789e-13,-23272.3,-89.1484], Tmin=(860.75,'K'), Tmax=(5000,'K'))], Tmin=(100,'K'), Tmax=(5000,'K'), comment=\"\"\"Thermo group additivity estimation: group(O2s-CsCs) + group(O2s-OsCs) + group(O2s-OsCs) + group(Cs-CsOsOsH) + group(Cs-CsOsHH) + group(Cs-CsOsHH) +\n",
       "group(Cs-CsHHH) + ring(124trioxane) + radical(CCsJOCs)\"\"\"), molecule=[Molecule(smiles=\"CC1O[CH]COO1\")], transport_data=TransportData(shapeIndex=2, epsilon=(3848.25,'J/mol'), sigma=(6.555,'angstrom'), dipoleMoment=(0,'De'), polarizability=(0,'angstrom^3'), rotrelaxcollnum=0.0, comment=\"\"\"Epsilon & sigma estimated with Tc=601.09 K, Pc=31 bar (from Joback method)\"\"\"), molecular_weight=(103.097,'amu'))"
      ]
     },
     "metadata": {},
     "output_type": "display_data"
    },
    {
     "data": {
      "image/png": "[encoded data removed]",
      "text/plain": [
       "Species(index=3825, label=\"[CH2]C1OOC(C)O1\", thermo=NASA(polynomials=[NASAPolynomial(coeffs=[1.47493,0.0315329,6.83721e-05,-1.28339e-07,5.75161e-11,-15378.9,24.5056], Tmin=(100,'K'), Tmax=(898.68,'K')), NASAPolynomial(coeffs=[21.3893,0.00675642,3.13507e-06,-8.71746e-10,5.98942e-14,-21537,-83.7901], Tmin=(898.68,'K'), Tmax=(5000,'K'))], Tmin=(100,'K'), Tmax=(5000,'K'), comment=\"\"\"Thermo group additivity estimation: group(O2s-CsCs) + group(O2s-OsCs) + group(O2s-OsCs) + group(Cs-CsOsOsH) + group(Cs-CsOsOsH) + group(Cs-CsHHH) +\n",
       "group(Cs-CsHHH) + ring(124trioxolane) + radical(CJCOOH)\"\"\"), molecule=[Molecule(smiles=\"[CH2]C1OOC(C)O1\")], transport_data=TransportData(shapeIndex=2, epsilon=(3731.24,'J/mol'), sigma=(6.347,'angstrom'), dipoleMoment=(0,'De'), polarizability=(0,'angstrom^3'), rotrelaxcollnum=0.0, comment=\"\"\"Epsilon & sigma estimated with Tc=582.81 K, Pc=33.11 bar (from Joback method)\"\"\"), molecular_weight=(103.097,'amu'))"
      ]
     },
     "metadata": {},
     "output_type": "display_data"
    },
    {
     "data": {
      "image/png": "[encoded data removed]",
      "text/plain": [
       "Species(index=4018, label=\"[CH]1COOCO1\", thermo=NASA(polynomials=[NASAPolynomial(coeffs=[1.55398,0.0205293,0.000109245,-1.98088e-07,9.26066e-11,-12049.5,16.3702], Tmin=(100,'K'), Tmax=(863.37,'K')), NASAPolynomial(coeffs=[30.7966,-0.0216905,2.05658e-05,-4.49638e-09,3.20342e-13,-20574.7,-140.542], Tmin=(863.37,'K'), Tmax=(5000,'K'))], Tmin=(100,'K'), Tmax=(5000,'K'), comment=\"\"\"Thermo group additivity estimation: group(O2s-CsCs) + group(O2s-OsCs) + group(O2s-OsCs) + group(Cs-CsOsHH) + group(Cs-CsOsHH) + group(Cs-OsOsHH) +\n",
       "ring(124trioxane) + radical(CCsJOCs)\"\"\"), molecule=[Molecule(smiles=\"[CH]1COOCO1\")], transport_data=TransportData(shapeIndex=2, epsilon=(3747.07,'J/mol'), sigma=(6.344,'angstrom'), dipoleMoment=(0,'De'), polarizability=(0,'angstrom^3'), rotrelaxcollnum=0.0, comment=\"\"\"Epsilon & sigma estimated with Tc=585.28 K, Pc=33.3 bar (from Joback method)\"\"\"), molecular_weight=(89.07,'amu'))"
      ]
     },
     "metadata": {},
     "output_type": "display_data"
    },
    {
     "data": {
      "image/png": "[encoded data removed]",
      "text/plain": [
       "Species(index=4071, label=\"CC1OOCC(O[O])O1\", thermo=NASA(polynomials=[NASAPolynomial(coeffs=[0.33273,0.0649294,-5.01351e-06,-5.81992e-08,3.42542e-11,-36437.6,27.6743], Tmin=(100,'K'), Tmax=(870.92,'K')), NASAPolynomial(coeffs=[21.1775,0.0157337,-4.41046e-07,-3.40593e-10,3.25846e-14,-41833.5,-80.1423], Tmin=(870.92,'K'), Tmax=(5000,'K'))], Tmin=(100,'K'), Tmax=(5000,'K'), comment=\"\"\"Thermo group additivity estimation: group(O2s-CsCs) + group(O2s-OsCs) + group(O2s-OsCs) + group(O2s-OsCs) + group(O2s-OsH) + group(Cs-CsOsOsH) +\n",
       "group(Cs-CsOsOsH) + group(Cs-CsOsHH) + group(Cs-CsHHH) + ring(124trioxane) + radical(ROOJ)\"\"\"), molecule=[Molecule(smiles=\"CC1OOCC(O[O])O1\")], transport_data=TransportData(shapeIndex=2, epsilon=(4468.59,'J/mol'), sigma=(7.318,'angstrom'), dipoleMoment=(0,'De'), polarizability=(0,'angstrom^3'), rotrelaxcollnum=0.0, comment=\"\"\"Epsilon & sigma estimated with Tc=697.98 K, Pc=25.87 bar (from Joback method)\"\"\"), molecular_weight=(135.095,'amu'))"
      ]
     },
     "metadata": {},
     "output_type": "display_data"
    },
    {
     "data": {
      "image/png": "[encoded data removed]",
      "text/plain": [
       "Species(index=4075, label=\"[O]OC1COOCO1\", thermo=NASA(polynomials=[NASAPolynomial(coeffs=[0.783148,0.041663,6.55088e-05,-1.51428e-07,7.41869e-11,-30929.9,23.6751], Tmin=(100,'K'), Tmax=(869.14,'K')), NASAPolynomial(coeffs=[30.0877,-0.0109302,1.42862e-05,-3.22664e-09,2.30874e-13,-39131.3,-131.469], Tmin=(869.14,'K'), Tmax=(5000,'K'))], Tmin=(100,'K'), Tmax=(5000,'K'), comment=\"\"\"Thermo group additivity estimation: group(O2s-CsCs) + group(O2s-OsCs) + group(O2s-OsCs) + group(O2s-OsCs) + group(O2s-OsH) + group(Cs-CsOsOsH) +\n",
       "group(Cs-CsOsHH) + group(Cs-OsOsHH) + ring(124trioxane) + radical(ROOJ)\"\"\"), molecule=[Molecule(smiles=\"[O]OC1COOCO1\")], transport_data=TransportData(shapeIndex=2, epsilon=(4370.13,'J/mol'), sigma=(7.108,'angstrom'), dipoleMoment=(0,'De'), polarizability=(0,'angstrom^3'), rotrelaxcollnum=0.0, comment=\"\"\"Epsilon & sigma estimated with Tc=682.60 K, Pc=27.61 bar (from Joback method)\"\"\"), molecular_weight=(121.069,'amu'))"
      ]
     },
     "metadata": {},
     "output_type": "display_data"
    },
    {
     "data": {
      "image/png": "[encoded data removed]",
      "text/plain": [
       "Species(index=4087, label=\"CC1OOC(CO[O])O1\", thermo=NASA(polynomials=[NASAPolynomial(coeffs=[0.395156,0.0620055,-2.20261e-07,-5.89386e-08,3.23617e-11,-33420.9,30.6093], Tmin=(100,'K'), Tmax=(901.59,'K')), NASAPolynomial(coeffs=[21.2733,0.0162561,-2.09835e-06,1.20255e-10,-5.74379e-15,-39090.9,-78.519], Tmin=(901.59,'K'), Tmax=(5000,'K'))], Tmin=(100,'K'), Tmax=(5000,'K'), comment=\"\"\"Thermo group additivity estimation: group(O2s-CsCs) + group(O2s-OsCs) + group(O2s-OsCs) + group(O2s-OsCs) + group(O2s-OsH) + group(Cs-CsOsOsH) +\n",
       "group(Cs-CsOsOsH) + group(Cs-CsOsHH) + group(Cs-CsHHH) + ring(124trioxolane) + radical(ROOJ)\"\"\"), molecule=[Molecule(smiles=\"CC1OOC(CO[O])O1\")], transport_data=TransportData(shapeIndex=2, epsilon=(4396.84,'J/mol'), sigma=(7.217,'angstrom'), dipoleMoment=(0,'De'), polarizability=(0,'angstrom^3'), rotrelaxcollnum=0.0, comment=\"\"\"Epsilon & sigma estimated with Tc=686.78 K, Pc=26.54 bar (from Joback method)\"\"\"), molecular_weight=(135.095,'amu'))"
      ]
     },
     "metadata": {},
     "output_type": "display_data"
    },
    {
     "data": {
      "image/png": "[encoded data removed]",
      "text/plain": [
       "Species(index=4088, label=\"CC1OOCC(OO)O1\", thermo=NASA(polynomials=[NASAPolynomial(coeffs=[0.0360652,0.0689443,-1.99339e-06,-6.4946e-08,3.67081e-11,-54706.7,27.9778], Tmin=(100,'K'), Tmax=(886.81,'K')), NASAPolynomial(coeffs=[22.9184,0.0171256,-1.27329e-06,-1.38076e-10,1.56703e-14,-60786,-91.0615], Tmin=(886.81,'K'), Tmax=(5000,'K'))], Tmin=(100,'K'), Tmax=(5000,'K'), comment=\"\"\"Thermo group additivity estimation: group(O2s-CsCs) + group(O2s-OsCs) + group(O2s-OsCs) + group(O2s-OsCs) + group(O2s-OsH) + group(Cs-CsOsOsH) +\n",
       "group(Cs-CsOsOsH) + group(Cs-CsOsHH) + group(Cs-CsHHH) + ring(124trioxane)\"\"\"), molecule=[Molecule(smiles=\"CC1OOCC(OO)O1\")], transport_data=TransportData(shapeIndex=2, epsilon=(4468.59,'J/mol'), sigma=(7.318,'angstrom'), dipoleMoment=(0,'De'), polarizability=(0,'angstrom^3'), rotrelaxcollnum=0.0, comment=\"\"\"Epsilon & sigma estimated with Tc=697.98 K, Pc=25.87 bar (from Joback method)\"\"\"), molecular_weight=(136.103,'amu'))"
      ]
     },
     "metadata": {},
     "output_type": "display_data"
    },
    {
     "data": {
      "image/png": "[encoded data removed]",
      "text/plain": [
       "Species(index=4411, label=\"CC1OOC(COO)O1\", thermo=NASA(polynomials=[NASAPolynomial(coeffs=[0.102479,0.0659512,3.16913e-06,-6.64016e-08,3.52556e-11,-51690.1,30.8998], Tmin=(100,'K'), Tmax=(914.29,'K')), NASAPolynomial(coeffs=[23.0676,0.0175586,-2.87963e-06,3.10839e-10,-2.16749e-14,-58066.2,-89.7394], Tmin=(914.29,'K'), Tmax=(5000,'K'))], Tmin=(100,'K'), Tmax=(5000,'K'), comment=\"\"\"Thermo group additivity estimation: group(O2s-CsCs) + group(O2s-OsCs) + group(O2s-OsCs) + group(O2s-OsCs) + group(O2s-OsH) + group(Cs-CsOsOsH) +\n",
       "group(Cs-CsOsOsH) + group(Cs-CsOsHH) + group(Cs-CsHHH) + ring(124trioxolane)\"\"\"), molecule=[Molecule(smiles=\"CC1OOC(COO)O1\")], transport_data=TransportData(shapeIndex=2, epsilon=(4396.84,'J/mol'), sigma=(7.217,'angstrom'), dipoleMoment=(0,'De'), polarizability=(0,'angstrom^3'), rotrelaxcollnum=0.0, comment=\"\"\"Epsilon & sigma estimated with Tc=686.78 K, Pc=26.54 bar (from Joback method)\"\"\"), molecular_weight=(136.103,'amu'))"
      ]
     },
     "metadata": {},
     "output_type": "display_data"
    },
    {
     "data": {
      "image/png": "[encoded data removed]",
      "text/plain": [
       "Species(index=9180, label=\"[CH2]C(O)C=O\", thermo=NASA(polynomials=[NASAPolynomial(coeffs=[2.16026,0.0365323,-2.46029e-05,8.08281e-09,-1.06536e-12,-18566.1,20.6942], Tmin=(100,'K'), Tmax=(1748.91,'K')), NASAPolynomial(coeffs=[11.3759,0.0154543,-6.52437e-06,1.19131e-09,-8.02242e-14,-21789.5,-28.9174], Tmin=(1748.91,'K'), Tmax=(5000,'K'))], Tmin=(100,'K'), Tmax=(5000,'K'), comment=\"\"\"Thermo library: CurranPentane + radical(CJCO)\"\"\"), molecule=[Molecule(smiles=\"[CH2]C(O)C=O\")], transport_data=TransportData(shapeIndex=2, epsilon=(3730.78,'J/mol'), sigma=(6.086,'angstrom'), dipoleMoment=(0,'De'), polarizability=(0,'angstrom^3'), rotrelaxcollnum=0.0, comment=\"\"\"Epsilon & sigma estimated with Tc=582.74 K, Pc=37.55 bar (from Joback method)\"\"\"), molecular_weight=(73.0706,'amu'))"
      ]
     },
     "metadata": {},
     "output_type": "display_data"
    },
    {
     "data": {
      "image/png": "[encoded data removed]",
      "text/plain": [
       "Species(index=10177, label=\"[CH2]C=CC[CH2]\", thermo=NASA(polynomials=[NASAPolynomial(coeffs=[1.93418,0.0384021,-9.10143e-06,-9.66513e-09,4.8481e-12,36764.3,20.5158], Tmin=(100,'K'), Tmax=(1125.57,'K')), NASAPolynomial(coeffs=[9.38679,0.0256446,-1.03938e-05,1.93568e-09,-1.35189e-13,34217.1,-20.1831], Tmin=(1125.57,'K'), Tmax=(5000,'K'))], Tmin=(100,'K'), Tmax=(5000,'K'), comment=\"\"\"Thermo library: CurranPentane + radical(RCCJ) + radical(Allyl_P)\"\"\"), molecule=[Molecule(smiles=\"[CH2]C=CC[CH2]\"), Molecule(smiles=\"[CH2]C[CH]C=C\")], transport_data=TransportData(shapeIndex=2, epsilon=(3138.16,'J/mol'), sigma=(5.608,'angstrom'), dipoleMoment=(0,'De'), polarizability=(0,'angstrom^3'), rotrelaxcollnum=0.0, comment=\"\"\"Epsilon & sigma estimated with Tc=490.17 K, Pc=40.36 bar (from Joback method)\"\"\"), molecular_weight=(68.117,'amu'))"
      ]
     },
     "metadata": {},
     "output_type": "display_data"
    },
    {
     "data": {
      "image/png": "[encoded data removed]",
      "text/plain": [
       "Species(index=12388, label=\"CC([O])OC([O])COO\", thermo=NASA(polynomials=[NASAPolynomial(coeffs=[-0.24437,0.108043,-0.000179117,1.7409e-07,-6.62286e-11,-37235.7,37.7193], Tmin=(100,'K'), Tmax=(812.78,'K')), NASAPolynomial(coeffs=[3.91167,0.0573634,-2.98025e-05,5.86219e-09,-4.10525e-13,-36912.9,24.6722], Tmin=(812.78,'K'), Tmax=(5000,'K'))], Tmin=(100,'K'), Tmax=(5000,'K'), comment=\"\"\"Thermo group additivity estimation: group(O2s-CsCs) + group(O2s-OsCs) + group(O2s-CsH) + group(O2s-CsH) + group(O2s-OsH) + group(Cs-CsOsOsH) +\n",
       "group(Cs-CsOsOsH) + group(Cs-CsOsHH) + group(Cs-CsHHH) + radical(CCOJ) + radical(CCOJ)\"\"\"), molecule=[Molecule(smiles=\"CC([O])OC([O])COO\")], transport_data=TransportData(shapeIndex=2, epsilon=(4950.44,'J/mol'), sigma=(7.993,'angstrom'), dipoleMoment=(0,'De'), polarizability=(0,'angstrom^3'), rotrelaxcollnum=0.0, comment=\"\"\"Epsilon & sigma estimated with Tc=773.25 K, Pc=22 bar (from Joback method)\"\"\"), molecular_weight=(136.103,'amu'))"
      ]
     },
     "metadata": {},
     "output_type": "display_data"
    },
    {
     "data": {
      "image/png": "[encoded data removed]",
      "text/plain": [
       "Species(index=13318, label=\"C=CC(C)O[O]\", thermo=NASA(polynomials=[NASAPolynomial(coeffs=[3.59857,0.0367883,-1.13806e-05,-5.83752e-09,3.43949e-12,4262.16,13.9164], Tmin=(10,'K'), Tmax=(1082.05,'K')), NASAPolynomial(coeffs=[6.59984,0.0333717,-1.72882e-05,4.36013e-09,-4.31766e-13,3163.16,-2.87666], Tmin=(1082.05,'K'), Tmax=(3000,'K'))], Tmin=(10,'K'), Tmax=(3000,'K'), E0=(35.412,'kJ/mol'), Cp0=(33.2579,'J/(mol*K)'), CpInf=(295.164,'J/(mol*K)')), molecule=[Molecule(smiles=\"C=CC(C)O[O]\")], transport_data=TransportData(shapeIndex=2, epsilon=(3658.84,'J/mol'), sigma=(6.163,'angstrom'), dipoleMoment=(0,'De'), polarizability=(0,'angstrom^3'), rotrelaxcollnum=0.0, comment=\"\"\"Epsilon & sigma estimated with Tc=571.50 K, Pc=35.47 bar (from Joback method)\"\"\"), molecular_weight=(87.0972,'amu'))"
      ]
     },
     "metadata": {},
     "output_type": "display_data"
    },
    {
     "data": {
      "image/png": "[encoded data removed]",
      "text/plain": [
       "Species(index=13319, label=\"CC=CCO[O]\", thermo=NASA(polynomials=[NASAPolynomial(coeffs=[3.32421,0.0725128,-0.000286531,6.86e-07,-5.71573e-10,4519.17,12.9456], Tmin=(10,'K'), Tmax=(407.329,'K')), NASAPolynomial(coeffs=[2.07079,0.0431673,-2.50729e-05,7.02303e-09,-7.62955e-13,4966.84,22.1087], Tmin=(407.329,'K'), Tmax=(3000,'K'))], Tmin=(10,'K'), Tmax=(3000,'K'), E0=(37.5528,'kJ/mol'), Cp0=(33.2579,'J/(mol*K)'), CpInf=(295.164,'J/(mol*K)')), molecule=[Molecule(smiles=\"CC=CCO[O]\")], transport_data=TransportData(shapeIndex=2, epsilon=(3716.43,'J/mol'), sigma=(6.2,'angstrom'), dipoleMoment=(0,'De'), polarizability=(0,'angstrom^3'), rotrelaxcollnum=0.0, comment=\"\"\"Epsilon & sigma estimated with Tc=580.50 K, Pc=35.39 bar (from Joback method)\"\"\"), molecular_weight=(87.0972,'amu'))"
      ]
     },
     "metadata": {},
     "output_type": "display_data"
    },
    {
     "data": {
      "image/png": "[encoded data removed]",
      "text/plain": [
       "Species(index=13509, label=\"[CH2]C1CC1\", thermo=NASA(polynomials=[NASAPolynomial(coeffs=[3.96439,0.00218728,0.00010973,-1.96293e-07,1.13815e-10,23623.1,8.67285], Tmin=(10,'K'), Tmax=(445.479,'K')), NASAPolynomial(coeffs=[-0.559935,0.0428048,-2.7013e-05,8.31006e-09,-9.87455e-13,24026.3,26.8425], Tmin=(445.479,'K'), Tmax=(3000,'K'))], Tmin=(10,'K'), Tmax=(3000,'K'), E0=(196.401,'kJ/mol'), Cp0=(33.2579,'J/(mol*K)'), CpInf=(257.749,'J/(mol*K)')), molecule=[Molecule(smiles=\"[CH2]C1CC1\")], transport_data=TransportData(shapeIndex=2, epsilon=(3043.42,'J/mol'), sigma=(5.509,'angstrom'), dipoleMoment=(0,'De'), polarizability=(0,'angstrom^3'), rotrelaxcollnum=0.0, comment=\"\"\"Epsilon & sigma estimated with Tc=475.38 K, Pc=41.3 bar (from Joback method)\"\"\"), molecular_weight=(55.0984,'amu'))"
      ]
     },
     "metadata": {},
     "output_type": "display_data"
    },
    {
     "data": {
      "image/png": "[encoded data removed]",
      "text/plain": [
       "Species(index=14268, label=\"[C]1CCC1\", thermo=NASA(polynomials=[NASAPolynomial(coeffs=[3.16722,0.00609487,6.26547e-05,-7.90235e-08,2.8713e-11,53265.8,21.4596], Tmin=(100,'K'), Tmax=(980.35,'K')), NASAPolynomial(coeffs=[7.14712,0.021075,-8.03253e-06,1.52841e-09,-1.12006e-13,50985.2,-5.31354], Tmin=(980.35,'K'), Tmax=(5000,'K'))], Tmin=(100,'K'), Tmax=(5000,'K'), comment=\"\"\"Thermo group additivity estimation: group(Cs-CsCsHH) + group(Cs-CsCsHH) + group(Cs-CsCsHH) + group(CsJ2_singlet-CsH) + ring(Cyclobutane)\"\"\"), molecule=[Molecule(smiles=\"[C]1CCC1\")], transport_data=TransportData(shapeIndex=2, epsilon=(4418.31,'J/mol'), sigma=(4.687,'angstrom'), dipoleMoment=(0,'De'), polarizability=(0,'angstrom^3'), rotrelaxcollnum=0.0, comment=\"\"\"Epsilon & sigma estimated with fixed Lennard Jones Parameters. This is the fallback method! Try improving transport databases!\"\"\"), molecular_weight=(54.0904,'amu'))"
      ]
     },
     "metadata": {},
     "output_type": "display_data"
    },
    {
     "data": {
      "image/png": "[encoded data removed]",
      "text/plain": [
       "Species(index=15991, label=\"O=CO[CH]OO\", thermo=NASA(polynomials=[NASAPolynomial(coeffs=[4.73102,0.0247579,-1.11169e-05,1.31122e-09,1.53867e-14,-35433.9,11.3535], Tmin=(100,'K'), Tmax=(2878.33,'K')), NASAPolynomial(coeffs=[48.2172,-0.0215387,5.64324e-06,-8.64455e-10,5.61593e-14,-66323,-254.588], Tmin=(2878.33,'K'), Tmax=(5000,'K'))], Tmin=(100,'K'), Tmax=(5000,'K'), comment=\"\"\"Thermo library: CurranPentane + radical(OCJO)\"\"\"), molecule=[Molecule(smiles=\"O=CO[CH]OO\")], transport_data=TransportData(shapeIndex=2, epsilon=(3855.7,'J/mol'), sigma=(6.128,'angstrom'), dipoleMoment=(0,'De'), polarizability=(0,'angstrom^3'), rotrelaxcollnum=0.0, comment=\"\"\"Epsilon & sigma estimated with Tc=602.25 K, Pc=38.01 bar (from Joback method)\"\"\"), molecular_weight=(91.0428,'amu'))"
      ]
     },
     "metadata": {},
     "output_type": "display_data"
    },
    {
     "data": {
      "image/png": "[encoded data removed]",
      "text/plain": [
       "Species(index=17825, label=\"CC=CC(C)O[O]\", thermo=NASA(polynomials=[NASAPolynomial(coeffs=[0.637861,0.0638232,-4.42624e-05,1.52598e-08,-2.10704e-12,1986.73,28.0054], Tmin=(100,'K'), Tmax=(1695.56,'K')), NASAPolynomial(coeffs=[17.0853,0.0250219,-9.93632e-06,1.76334e-09,-1.17063e-13,-3590.78,-60.0285], Tmin=(1695.56,'K'), Tmax=(5000,'K'))], Tmin=(100,'K'), Tmax=(5000,'K'), comment=\"\"\"Thermo library: CurranPentane + radical(ROOJ)\"\"\"), molecule=[Molecule(smiles=\"CC=CC(C)O[O]\")], transport_data=TransportData(shapeIndex=2, epsilon=(3878.23,'J/mol'), sigma=(6.545,'angstrom'), dipoleMoment=(0,'De'), polarizability=(0,'angstrom^3'), rotrelaxcollnum=0.0, comment=\"\"\"Epsilon & sigma estimated with Tc=605.77 K, Pc=31.39 bar (from Joback method)\"\"\"), molecular_weight=(101.124,'amu'))"
      ]
     },
     "metadata": {},
     "output_type": "display_data"
    },
    {
     "data": {
      "image/png": "[encoded data removed]",
      "text/plain": [
       "Species(index=17977, label=\"C=CC(CC)O[O]\", thermo=NASA(polynomials=[NASAPolynomial(coeffs=[0.742339,0.0616656,-3.39924e-05,2.35623e-09,2.73988e-12,3312.52,28.3606], Tmin=(100,'K'), Tmax=(1118.49,'K')), NASAPolynomial(coeffs=[14.5622,0.0286464,-1.17103e-05,2.18785e-09,-1.53367e-13,-805.07,-44.447], Tmin=(1118.49,'K'), Tmax=(5000,'K'))], Tmin=(100,'K'), Tmax=(5000,'K'), comment=\"\"\"Thermo library: CurranPentane + radical(ROOJ)\"\"\"), molecule=[Molecule(smiles=\"C=CC(CC)O[O]\")], transport_data=TransportData(shapeIndex=2, epsilon=(3800.23,'J/mol'), sigma=(6.477,'angstrom'), dipoleMoment=(0,'De'), polarizability=(0,'angstrom^3'), rotrelaxcollnum=0.0, comment=\"\"\"Epsilon & sigma estimated with Tc=593.59 K, Pc=31.74 bar (from Joback method)\"\"\"), molecular_weight=(101.124,'amu'))"
      ]
     },
     "metadata": {},
     "output_type": "display_data"
    },
    {
     "data": {
      "image/png": "[encoded data removed]",
      "text/plain": [
       "Species(index=22295, label=\"CCC=CCO[O]\", thermo=NASA(polynomials=[NASAPolynomial(coeffs=[1.22181,0.0615708,-4.34037e-05,1.62181e-08,-2.57155e-12,3851.11,28.1326], Tmin=(100,'K'), Tmax=(1410.56,'K')), NASAPolynomial(coeffs=[10.6396,0.0348642,-1.50036e-05,2.79547e-09,-1.92579e-13,1194.25,-20.5424], Tmin=(1410.56,'K'), Tmax=(5000,'K'))], Tmin=(100,'K'), Tmax=(5000,'K'), comment=\"\"\"Thermo library: CurranPentane + radical(ROOJ)\"\"\"), molecule=[Molecule(smiles=\"CCC=CCO[O]\")], transport_data=TransportData(shapeIndex=2, epsilon=(3857.12,'J/mol'), sigma=(6.514,'angstrom'), dipoleMoment=(0,'De'), polarizability=(0,'angstrom^3'), rotrelaxcollnum=0.0, comment=\"\"\"Epsilon & sigma estimated with Tc=602.47 K, Pc=31.67 bar (from Joback method)\"\"\"), molecular_weight=(101.124,'amu'))"
      ]
     },
     "metadata": {},
     "output_type": "display_data"
    },
    {
     "data": {
      "image/png": "[encoded data removed]",
      "text/plain": [
       "Species(index=22399, label=\"CC([O])OC(C[O])OO\", thermo=NASA(polynomials=[NASAPolynomial(coeffs=[-0.24437,0.108043,-0.000179117,1.7409e-07,-6.62286e-11,-37235.7,37.7193], Tmin=(100,'K'), Tmax=(812.78,'K')), NASAPolynomial(coeffs=[3.91167,0.0573634,-2.98025e-05,5.86219e-09,-4.10525e-13,-36912.9,24.6722], Tmin=(812.78,'K'), Tmax=(5000,'K'))], Tmin=(100,'K'), Tmax=(5000,'K'), comment=\"\"\"Thermo group additivity estimation: group(O2s-CsCs) + group(O2s-OsCs) + group(O2s-CsH) + group(O2s-CsH) + group(O2s-OsH) + group(Cs-CsOsOsH) +\n",
       "group(Cs-CsOsOsH) + group(Cs-CsOsHH) + group(Cs-CsHHH) + radical(CCOJ) + radical(CCOJ)\"\"\"), molecule=[Molecule(smiles=\"CC([O])OC(C[O])OO\")], transport_data=TransportData(shapeIndex=2, epsilon=(4950.44,'J/mol'), sigma=(7.993,'angstrom'), dipoleMoment=(0,'De'), polarizability=(0,'angstrom^3'), rotrelaxcollnum=0.0, comment=\"\"\"Epsilon & sigma estimated with Tc=773.25 K, Pc=22 bar (from Joback method)\"\"\"), molecular_weight=(136.103,'amu'))"
      ]
     },
     "metadata": {},
     "output_type": "display_data"
    },
    {
     "data": {
      "image/png": "[encoded data removed]",
      "text/plain": [
       "Species(index=29316, label=\"OOCCOO\", thermo=NASA(polynomials=[NASAPolynomial(coeffs=[1.14239,0.0680201,-8.99637e-05,6.88443e-08,-2.18575e-11,-32782.9,21.6196], Tmin=(100,'K'), Tmax=(762.03,'K')), NASAPolynomial(coeffs=[8.444,0.0296911,-1.45121e-05,2.83179e-09,-1.99695e-13,-33895.7,-11.6217], Tmin=(762.03,'K'), Tmax=(5000,'K'))], Tmin=(100,'K'), Tmax=(5000,'K'), comment=\"\"\"Thermo group additivity estimation: group(O2s-OsCs) + group(O2s-OsCs) + group(O2s-OsH) + group(O2s-OsH) + group(Cs-CsOsHH) + group(Cs-CsOsHH)\"\"\"), molecule=[Molecule(smiles=\"OOCCOO\")], transport_data=TransportData(shapeIndex=2, epsilon=(4063.28,'J/mol'), sigma=(6.605,'angstrom'), dipoleMoment=(0,'De'), polarizability=(0,'angstrom^3'), rotrelaxcollnum=0.0, comment=\"\"\"Epsilon & sigma estimated with Tc=634.67 K, Pc=31.99 bar (from Joback method)\"\"\"), molecular_weight=(94.0667,'amu'))"
      ]
     },
     "metadata": {},
     "output_type": "display_data"
    },
    {
     "data": {
      "image/png": "[encoded data removed]",
      "text/plain": [
       "Species(index=30997, label=\"C[CH]C1CC1\", thermo=NASA(polynomials=[NASAPolynomial(coeffs=[2.49426,0.0182918,5.911e-05,-8.36582e-08,3.1525e-11,21718,19.0834], Tmin=(100,'K'), Tmax=(980.72,'K')), NASAPolynomial(coeffs=[9.71312,0.0260729,-9.72463e-06,1.83519e-09,-1.33999e-13,18511.9,-24.7296], Tmin=(980.72,'K'), Tmax=(5000,'K'))], Tmin=(100,'K'), Tmax=(5000,'K'), comment=\"\"\"Thermo group additivity estimation: group(Cs-CsCsCsH) + group(Cs-CsCsHH) + group(Cs-CsCsHH) + group(Cs-CsCsHH) + group(Cs-CsHHH) + ring(Cyclopropane)\n",
       "+ radical(Cs_S)\"\"\"), molecule=[Molecule(smiles=\"C[CH]C1CC1\")], transport_data=TransportData(shapeIndex=2, epsilon=(3194.96,'J/mol'), sigma=(5.827,'angstrom'), dipoleMoment=(0,'De'), polarizability=(0,'angstrom^3'), rotrelaxcollnum=0.0, comment=\"\"\"Epsilon & sigma estimated with Tc=499.05 K, Pc=36.64 bar (from Joback method)\"\"\"), molecular_weight=(69.1249,'amu'))"
      ]
     },
     "metadata": {},
     "output_type": "display_data"
    },
    {
     "data": {
      "image/png": "[encoded data removed]",
      "text/plain": [
       "Species(index=32407, label=\"[O]OCC(O)C=O\", thermo=NASA(polynomials=[NASAPolynomial(coeffs=[1.88017,0.0497311,-4.1975e-05,1.96652e-08,-3.9758e-12,-35636.5,27.322], Tmin=(100,'K'), Tmax=(1129.65,'K')), NASAPolynomial(coeffs=[8.0663,0.0278265,-1.2889e-05,2.49994e-09,-1.76996e-13,-37034.1,-3.27663], Tmin=(1129.65,'K'), Tmax=(5000,'K'))], Tmin=(100,'K'), Tmax=(5000,'K'), comment=\"\"\"Thermo library: CurranPentane + radical(ROOJ)\"\"\"), molecule=[Molecule(smiles=\"[O]OCC(O)C=O\")], transport_data=TransportData(shapeIndex=2, epsilon=(4424.28,'J/mol'), sigma=(6.966,'angstrom'), dipoleMoment=(0,'De'), polarizability=(0,'angstrom^3'), rotrelaxcollnum=0.0, comment=\"\"\"Epsilon & sigma estimated with Tc=691.06 K, Pc=29.7 bar (from Joback method)\"\"\"), molecular_weight=(105.069,'amu'))"
      ]
     },
     "metadata": {},
     "output_type": "display_data"
    },
    {
     "data": {
      "image/png": "[encoded data removed]",
      "text/plain": [
       "Species(index=33400, label=\"O=[C]C(O)COO\", thermo=NASA(polynomials=[NASAPolynomial(coeffs=[1.47886,0.0570542,-5.49881e-05,2.80591e-08,-5.88879e-12,-34663.9,28.8211], Tmin=(100,'K'), Tmax=(1128.37,'K')), NASAPolynomial(coeffs=[10.7739,0.024104,-1.11858e-05,2.17976e-09,-1.55007e-13,-36761.6,-17.1446], Tmin=(1128.37,'K'), Tmax=(5000,'K'))], Tmin=(100,'K'), Tmax=(5000,'K'), comment=\"\"\"Thermo library: CurranPentane + radical(CCCJ=O)\"\"\"), molecule=[Molecule(smiles=\"O=[C]C(O)COO\")], transport_data=TransportData(shapeIndex=2, epsilon=(4424.28,'J/mol'), sigma=(6.966,'angstrom'), dipoleMoment=(0,'De'), polarizability=(0,'angstrom^3'), rotrelaxcollnum=0.0, comment=\"\"\"Epsilon & sigma estimated with Tc=691.06 K, Pc=29.7 bar (from Joback method)\"\"\"), molecular_weight=(105.069,'amu'))"
      ]
     },
     "metadata": {},
     "output_type": "display_data"
    }
   ],
   "source": [
    "for i in thermo_change_list:\n",
    "    display(species_list[i])"
   ]
  },
  {
   "cell_type": "code",
   "execution_count": 13,
   "id": "a48427b1",
   "metadata": {
    "scrolled": true
   },
   "outputs": [
    {
     "name": "stdout",
     "output_type": "stream",
     "text": [
      "changing reaction 260 HO2(16) + C2H5(33) <=> H2O2(17) + C2H4(11)\n",
      "could not match reaction index 247\n",
      "could not match reaction index 278\n",
      "could not match reaction index 288\n",
      "could not match reaction index 290\n",
      "could not match reaction index 294\n",
      "could not match reaction index 313\n",
      "could not match reaction index 324\n",
      "could not match reaction index 325\n",
      "could not match reaction index 326\n",
      "could not match reaction index 370\n",
      "could not match reaction index 371\n",
      "could not match reaction index 402\n",
      "could not match reaction index 411\n",
      "changing reaction 422 HO2(16) + CH3CO(20) <=> H2O2(17) + CH2CO(24)\n",
      "changing reaction 423 HO2(16) + CH2CHO(21) <=> H2O2(17) + CH2CO(24)\n",
      "could not match reaction index 420\n",
      "could not match reaction index 422\n",
      "changing reaction 454 CH2CHO(21) + CH2CHO(21) <=> CH2CO(24) + CH3CHO(35)\n",
      "could not match reaction index 433\n",
      "could not match reaction index 445\n",
      "changing reaction 646 CH3O(31) + C3H5-A(94) <=> CH2O(9) + C3H6(12)\n",
      "could not match reaction index 579\n",
      "changing reaction 644 CH2CHO(21) + C3H5-A(94) <=> CH2CO(24) + C3H6(12)\n",
      "could not match reaction index 669\n",
      "could not match reaction index 674\n",
      "changing reaction 1364 CH2CHO(21) + C4H71-3(191) <=> CH2CO(24) + C4H8-2(190)\n",
      "changing reaction 1342 CH2CHO(21) + C4H71-3(191) <=> CH2CO(24) + C4H8-1(189)\n",
      "changing reaction 1356 CH3O(31) + C4H71-3(191) <=> CH2O(9) + C4H8-2(190)\n",
      "could not match reaction index 728\n",
      "could not match reaction index 731\n",
      "changing reaction 1368 CH2CHO(21) + C4H8-1(189) <=> CH3CHO(35) + C4H71-3(191)\n",
      "changing reaction 1387 HCO(19) + C4H8-2(190) <=> CH2O(9) + C4H71-3(191)\n",
      "changing reaction 1375 HCO(19) + C4H8-1(189) <=> CH2O(9) + C4H71-3(191)\n",
      "changing reaction 1392 CH2(23) + C4H8-2(190) <=> CH3(18) + C4H71-3(191)\n",
      "could not match reaction index 798\n",
      "could not match reaction index 804\n",
      "could not match reaction index 805\n",
      "could not match reaction index 809\n",
      "could not match reaction index 810\n",
      "could not match reaction index 812\n",
      "could not match reaction index 894\n",
      "could not match reaction index 915\n",
      "could not match reaction index 984\n",
      "could not match reaction index 994\n",
      "could not match reaction index 1016\n",
      "changing reaction 1516 CH3CHO(35) + C4H71-4(192) <=> CH2CHO(21) + C4H8-1(189)\n",
      "could not match reaction index 1063\n",
      "could not match reaction index 1064\n",
      "changing reaction 910 CH3O2(45) + CH2CHO(21) <=> CH3O2H(46) + CH2CO(24)\n",
      "changing reaction 925 CH3O2(45) + [CH2]C[O](761) <=> CH3O2H(46) + CH2CHO(21)\n",
      "could not match reaction index 1114\n",
      "changing reaction 1072 CH2(23) + C3H5O(129) <=> CH3(18) + C2H3CHO(74)\n",
      "could not match reaction index 1287\n",
      "could not match reaction index 1288\n",
      "could not match reaction index 1289\n",
      "could not match reaction index 1290\n",
      "changing reaction 1040 CH3O(31) + CH3COCH2O2(72) <=> CH2O(9) + C3KET21(73)\n",
      "changing reaction 1083 C2H5(33) + CH3COCH2O2(72) <=> C2H4(11) + C3KET21(73)\n",
      "could not match reaction index 1350\n",
      "could not match reaction index 1372\n",
      "could not match reaction index 1410\n",
      "changing reaction 1198 CH3O(31) + C2H5O(49) <=> CH3OH(30) + CH3CHO(35)\n",
      "could not match reaction index 1646\n",
      "changing reaction 699 CH2CHO(21) + C2H5O2(47) <=> CH2CO(24) + C2H5O2H(48)\n",
      "changing reaction 700 CH3O(31) + C2H5O2(47) <=> CH2O(9) + C2H5O2H(48)\n",
      "changing reaction 703 C2H5(33) + C2H5O2(47) <=> C2H4(11) + C2H5O2H(48)\n",
      "could not match reaction index 1688\n",
      "changing reaction 745 C2H5O(49) + C2H5O2(47) <=> CH3CHO(35) + C2H5O2H(48)\n",
      "could not match reaction index 1714\n",
      "could not match reaction index 1717\n",
      "could not match reaction index 1721\n",
      "could not match reaction index 1736\n",
      "could not match reaction index 1814\n",
      "24 changed\n"
     ]
    }
   ],
   "source": [
    "# change the kinetics\n",
    "\n",
    "total_changed = 0\n",
    "for key in ark_kinetics_database.libraries[''].entries.keys():\n",
    "    entry = ark_kinetics_database.libraries[''].entries[key]\n",
    "    index = entry.index\n",
    "#     print(index, '\\t', entry.label, '\\t', reaction_list[index])\n",
    "    for i in range(0, len(reaction_list)):\n",
    "        if entry.item.is_isomorphic(reaction_list[i]):\n",
    "            rmg_rxn_index = i\n",
    "            break\n",
    "    else:\n",
    "        # search through all for isomorphism\n",
    "        for j, rxn in enumerate(reaction_list):\n",
    "            if entry.item.is_isomorphic(rxn):\n",
    "                rmg_rxn_index = j\n",
    "                break\n",
    "        else:\n",
    "            print(f'could not match reaction index {index}')\n",
    "        continue\n",
    "    \n",
    "    if rmg_rxn_index in reaction_change_list:\n",
    "        print(f'changing reaction {rmg_rxn_index} {reaction_list[rmg_rxn_index]}')\n",
    "        reaction_list[rmg_rxn_index].kinetics = entry.data\n",
    "        total_changed += 1\n",
    "\n",
    "print(total_changed, 'changed')"
   ]
  },
  {
   "cell_type": "code",
   "execution_count": null,
   "id": "87f6f23e",
   "metadata": {},
   "outputs": [],
   "source": [
    "ark_kinetics_database.libraries[''].entries[247].item"
   ]
  },
  {
   "cell_type": "code",
   "execution_count": null,
   "id": "41f132ef",
   "metadata": {},
   "outputs": [],
   "source": [
    "ref_rxn.reactants[0]"
   ]
  },
  {
   "cell_type": "code",
   "execution_count": null,
   "id": "b8080f6e",
   "metadata": {},
   "outputs": [],
   "source": [
    "ref_rxn = ark_kinetics_database.libraries[''].entries[247].item\n",
    "\n",
    "for i, rxn in enumerate(reaction_list):\n",
    "    if len(rxn.reactants) != 2:\n",
    "        continue\n",
    "        \n",
    "    if ref_rxn.reactants[0].is_isomorphic(rxn.reactants[0]) or ref_rxn.reactants[0].is_isomorphic(rxn.reactants[1]):\n",
    "        print(i, rxn)\n",
    "#                                           if rxn.products[0].is_isomorphic(ref_rxn.products[0]) or rxn.products[1].is_isomorphic(ref_rxn.products[1]):\n",
    "#         print(i, rxn)\n",
    "#     elif rxn.products[0].is_isomorphic(ref_rxn.products[1]) or rxn.products[1].is_isomorphic(ref_rxn.products[0]):\n",
    "#         print(i, rxn)\n",
    "# #     for p in rxn.products"
   ]
  },
  {
   "cell_type": "code",
   "execution_count": null,
   "id": "b39c81a1",
   "metadata": {},
   "outputs": [],
   "source": []
  },
  {
   "cell_type": "markdown",
   "id": "5241eea5",
   "metadata": {},
   "source": [
    "# "
   ]
  },
  {
   "cell_type": "code",
   "execution_count": 7,
   "id": "fb843d2e",
   "metadata": {},
   "outputs": [
    {
     "name": "stdout",
     "output_type": "stream",
     "text": [
      "110 entries\n"
     ]
    }
   ],
   "source": [
    "# Load the new thermo library\n",
    "thermo_lib = os.path.join(DFT_DIR, 'thermo', 'thermo')\n",
    "ark_thermo_database = rmgpy.data.thermo.ThermoDatabase()\n",
    "ark_thermo_database.load_libraries(thermo_lib)\n",
    "print(f'{len(ark_thermo_database.libraries[\"harris_butane\"].entries)} entries')"
   ]
  },
  {
   "cell_type": "code",
   "execution_count": 8,
   "id": "83873ae5",
   "metadata": {
    "scrolled": true
   },
   "outputs": [
    {
     "name": "stdout",
     "output_type": "stream",
     "text": [
      "Changing estimated thermo 118: [CH2]C[O](761)\n",
      "Changing estimated thermo 114: [CH2]C[CH]C(685)\n",
      "Changing estimated thermo 126: [CH2]C(=O)COO(986)\n",
      "Changing estimated thermo 129: [O]OCC(=O)COO(1064)\n",
      "Changing estimated thermo 135: [O]C[O](3198)\n",
      "Changing estimated thermo 137: [CH2]C=C[CH2](3731)\n",
      "Changing estimated thermo 164: C=CC(C)O[O](13318)\n",
      "Changing estimated thermo 165: CC=CCO[O](13319)\n",
      "Changing estimated thermo 166: [CH2]C1CC1(13509)\n",
      "9 changed\n"
     ]
    }
   ],
   "source": [
    "# stitch each of the library thermos into the mechanism\n",
    "\n",
    "sp_changed = 0\n",
    "for key in ark_thermo_database.libraries['harris_butane'].entries.keys():\n",
    "    entry = ark_thermo_database.libraries['harris_butane'].entries[key]\n",
    "#     print(entry)\n",
    "\n",
    "    for i, species in enumerate(species_list):\n",
    "#         if entry.item.is_isomorphic(species.molecule[0]):\n",
    "        if entry.item.smiles == species.smiles:\n",
    "            rmg_species_index = i\n",
    "            break\n",
    "    else:\n",
    "        entry_sp = rmgpy.species.Species(smiles=entry.item.smiles)\n",
    "        for j, species in enumerate(species_list):\n",
    "            if entry_sp.is_isomorphic(species.molecule[0]):\n",
    "                rmg_species_index = i\n",
    "                'matched'\n",
    "                break\n",
    "        else:\n",
    "#             print(f'could not match species index {entry}')\n",
    "            continue\n",
    "            raise ValueError (f'could not match species index {entry}')\n",
    "\n",
    "    if rmg_species_index in thermo_change_list:\n",
    "        print(f'Changing estimated thermo {rmg_species_index}: {species_list[rmg_species_index]}')\n",
    "        species_list[rmg_species_index].thermo = entry.data\n",
    "        \n",
    "        sp_changed += 1\n",
    "    \n",
    "print(sp_changed, 'changed')   "
   ]
  },
  {
   "cell_type": "code",
   "execution_count": 9,
   "id": "b349e6ca",
   "metadata": {},
   "outputs": [
    {
     "name": "stderr",
     "output_type": "stream",
     "text": [
      "WARNING:root:Marked reaction CH3(18) + C2H3(22) <=> C3H6(12) as duplicate of C3H6(12) <=> CH3(18) + C2H3(22) for saving to Chemkin file.\n"
     ]
    },
    {
     "name": "stdout",
     "output_type": "stream",
     "text": [
      "Wrote CTI mechanism file to '/home/moon/autoscience/autoscience/paper/models/pentane/pentane_cutoff3_20230104.cti'.\n",
      "Mechanism contains 189 species and 3874 reactions.\n",
      "Validating mechanism...FAILED.\n",
      "\n",
      "***********************************************************************\n",
      "InputFileError thrown by Kinetics::checkDuplicates:\n",
      "Undeclared duplicate reactions detected:\n",
      "Reaction 2442: 2 CH3CHO(35) <=> 2 C2H4O(947)\n",
      "Reaction 2409: C2H4O(947) <=> CH3CHO(35)\n",
      "***********************************************************************\n",
      "\n"
     ]
    },
    {
     "data": {
      "text/plain": [
       "CompletedProcess(args=['ck2cti', '--input=/home/moon/autoscience/autoscience/paper/models/pentane/pentane_cutoff3_20230104.inp', '--transport=/home/moon/autoscience/autoscience/paper/models/pentane/tran.dat', '--output=/home/moon/autoscience/autoscience/paper/models/pentane/pentane_cutoff3_20230104.cti'], returncode=1)"
      ]
     },
     "execution_count": 9,
     "metadata": {},
     "output_type": "execute_result"
    }
   ],
   "source": [
    "# custom save\n",
    "chemkin_file = os.path.join(new_model_dir, f'pentane_cutoff3_20230104.inp')\n",
    "rmgpy.chemkin.save_chemkin_file(chemkin_file, species_list, reaction_list, verbose=True, check_for_duplicates=True)\n",
    "subprocess.run(['ck2cti', f'--input={chemkin_file}', f'--transport={transport}', f'--output={chemkin_file[:-4]}.cti'])\n"
   ]
  },
  {
   "cell_type": "code",
   "execution_count": null,
   "id": "c6cfcc0c",
   "metadata": {},
   "outputs": [],
   "source": []
  }
 ],
 "metadata": {
  "kernelspec": {
   "display_name": "Python 3 (ipykernel)",
   "language": "python",
   "name": "python3"
  },
  "language_info": {
   "codemirror_mode": {
    "name": "ipython",
    "version": 3
   },
   "file_extension": ".py",
   "mimetype": "text/x-python",
   "name": "python",
   "nbconvert_exporter": "python",
   "pygments_lexer": "ipython3",
   "version": "3.7.12"
  }
 },
 "nbformat": 4,
 "nbformat_minor": 5
}
