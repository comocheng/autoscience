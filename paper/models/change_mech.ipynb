{
 "cells": [
  {
   "cell_type": "code",
   "execution_count": 1,
   "id": "793748b4",
   "metadata": {},
   "outputs": [],
   "source": [
    "# script to replace the base mechanism with new reactions\n",
    "# Includes every reaction and species calculated above the uncertainty threshold"
   ]
  },
  {
   "cell_type": "code",
   "execution_count": 2,
   "id": "f934e7bc",
   "metadata": {},
   "outputs": [],
   "source": [
    "import os\n",
    "import pickle\n",
    "import subprocess\n",
    "import numpy as np\n",
    "\n",
    "import rmgpy.chemkin\n",
    "import rmgpy.data.kinetics\n",
    "\n",
    "\n",
    "import matplotlib.pyplot as plt\n",
    "%matplotlib inline"
   ]
  },
  {
   "cell_type": "code",
   "execution_count": 4,
   "id": "2f102141",
   "metadata": {},
   "outputs": [
    {
     "name": "stdout",
     "output_type": "stream",
     "text": [
      "110 species, 1822 reactions\n"
     ]
    }
   ],
   "source": [
    "# Load the base model\n",
    "basedir = '/work/westgroup/harris.se/autoscience/autoscience/butane/models/rmg_model'\n",
    "# basedir = '/work/westgroup/harris.se/autoscience/autoscience/butane/sensitivity_analysis/base_rmg24'\n",
    "# basedir = '/work/westgroup/harris.se/autoscience/autoscience/butane/models/rmg_small_core'\n",
    "# new_model_dir = '/work/westgroup/harris.se/autoscience/autoscience/butane/improved_models'\n",
    "\n",
    "# basedir = '/work/westgroup/harris.se/autoscience/autoscience/debug/s787_rxns/'\n",
    "new_model_dir = basedir\n",
    "base_chemkin = os.path.join(basedir, 'chem_annotated.inp')\n",
    "dictionary = os.path.join(basedir, 'species_dictionary.txt')\n",
    "transport = os.path.join(basedir, 'tran.dat')\n",
    "species_list, reaction_list = rmgpy.chemkin.load_chemkin_file(base_chemkin, dictionary_path=dictionary, transport_path=transport)\n",
    "print(f'{len(species_list)} species, {len(reaction_list)} reactions')\n"
   ]
  },
  {
   "cell_type": "code",
   "execution_count": 5,
   "id": "dceece7e",
   "metadata": {},
   "outputs": [
    {
     "name": "stdout",
     "output_type": "stream",
     "text": [
      "105 entries loaded\n"
     ]
    }
   ],
   "source": [
    "# Load the new kinetics library\n",
    "DFT_DIR = \"/work/westgroup/harris.se/autoscience/autoscience/butane/dft/\"\n",
    "kinetics_lib = os.path.join(DFT_DIR, 'kinetics', 'kinetics')\n",
    "ark_kinetics_database = rmgpy.data.kinetics.KineticsDatabase()\n",
    "ark_kinetics_database.load_libraries(kinetics_lib)\n",
    "print(f'{len(ark_kinetics_database.libraries[\"\"].entries)} entries loaded')"
   ]
  },
  {
   "cell_type": "code",
   "execution_count": 6,
   "id": "11b81b95",
   "metadata": {},
   "outputs": [],
   "source": [
    "# load the uncertainty matrix\n",
    "covariance_file = '/work/westgroup/harris.se/autoscience/autoscience/uncertainty/butane_covariance.pickle'\n",
    "with open(covariance_file, 'rb') as handle:\n",
    "    Sigma_k = pickle.load(handle)\n",
    "\n",
    "uncertainty_cutoff = 3.0\n",
    "# uncertainty_cutoff = 0.5\n",
    "# uncertainty_cutoff = 0.0\n",
    "\n",
    "change_list = []\n",
    "for i in range(0, len(reaction_list)):\n",
    "    if Sigma_k[i, i] > uncertainty_cutoff:\n",
    "        change_list.append(i)\n",
    "\n"
   ]
  },
  {
   "cell_type": "code",
   "execution_count": 7,
   "id": "a48427b1",
   "metadata": {},
   "outputs": [
    {
     "name": "stdout",
     "output_type": "stream",
     "text": [
      "changing reaction 213 HO2(16) + C2H5(33) <=> H2O2(17) + C2H4(11)\n",
      "changing reaction 324 C4H8OOH2-4O2(229) <=> C4H8OOH1-3O2(225)\n",
      "changing reaction 370 CH3CHO(35) + SC4H9(183) <=> CH2CHO(21) + butane(1)\n",
      "changing reaction 371 CH3CHO(35) + PC4H9(182) <=> CH2CHO(21) + butane(1)\n",
      "changing reaction 418 HO2(16) + CH3CO(20) <=> H2O2(17) + CH2CO(24)\n",
      "changing reaction 419 HO2(16) + CH2CHO(21) <=> H2O2(17) + CH2CO(24)\n",
      "changing reaction 420 HO2(16) + SC4H9(183) <=> H2O2(17) + C4H8-2(189)\n",
      "changing reaction 427 CH2CHO(21) + CH2CHO(21) <=> CH2CO(24) + CH3CHO(35)\n",
      "changing reaction 574 CH3O(31) + C3H5-A(94) <=> CH2O(9) + C3H6(12)\n",
      "changing reaction 581 CH2CHO(21) + C3H5-A(94) <=> CH2CO(24) + C3H6(12)\n",
      "changing reaction 720 CH2CHO(21) + C4H71-3(190) <=> CH2CO(24) + C4H8-2(189)\n",
      "changing reaction 722 CH2CHO(21) + C4H71-3(190) <=> CH2CO(24) + C4H8-1(188)\n",
      "changing reaction 725 CH3O(31) + C4H71-3(190) <=> CH2O(9) + C4H8-2(189)\n",
      "changing reaction 739 CH2CHO(21) + C4H8-1(188) <=> CH3CHO(35) + C4H71-3(190)\n",
      "changing reaction 748 HCO(19) + C4H8-2(189) <=> CH2O(9) + C4H71-3(190)\n",
      "changing reaction 749 HCO(19) + C4H8-1(188) <=> CH2O(9) + C4H71-3(190)\n",
      "changing reaction 754 CH2(23) + C4H8-2(189) <=> CH3(18) + C4H71-3(190)\n",
      "changing reaction 915 O2(2) + CC(CC[O])OO(777) <=> HO2(16) + NC4KET13(252)\n",
      "changing reaction 984 CH2CHO(21) + [CH2]C[CH]C(748) <=> CH2CO(24) + PC4H9(182)\n",
      "changing reaction 1026 CH3CHO(35) + C4H71-4(191) <=> CH2CHO(21) + C4H8-1(188)\n",
      "changing reaction 1103 CH3O2(45) + CH2CHO(21) <=> CH3O2H(46) + CH2CO(24)\n",
      "changing reaction 1108 CH3O2(45) + [CH2]C[O](703) <=> CH3O2H(46) + CH2CHO(21)\n",
      "changing reaction 1114 CH3O2(45) + SC4H9(183) <=> CH3O2H(46) + C4H8-2(189)\n",
      "changing reaction 1214 CH2(23) + C3H5O(129) <=> CH3(18) + C2H3CHO(74)\n",
      "changing reaction 1287 C3KET21(73) + SC4H9(183) <=> CH3COCH2O2(72) + butane(1)\n",
      "changing reaction 1288 C3KET21(73) + PC4H9(182) <=> CH3COCH2O2(72) + butane(1)\n",
      "changing reaction 1289 C3KET21(73) + SC4H9(183) <=> [CH2]C(=O)COO(911) + butane(1)\n",
      "changing reaction 1290 C3KET21(73) + PC4H9(182) <=> [CH2]C(=O)COO(911) + butane(1)\n",
      "changing reaction 1328 CH3O(31) + CH3COCH2O2(72) <=> CH2O(9) + C3KET21(73)\n",
      "changing reaction 1342 C2H5(33) + CH3COCH2O2(72) <=> C2H4(11) + C3KET21(73)\n",
      "changing reaction 1529 CH3O(31) + C2H5O(49) <=> CH3OH(30) + CH3CHO(35)\n",
      "changing reaction 1658 CH2CHO(21) + C2H5O2(47) <=> CH2CO(24) + C2H5O2H(48)\n",
      "changing reaction 1665 CH3O(31) + C2H5O2(47) <=> CH2O(9) + C2H5O2H(48)\n",
      "changing reaction 1685 C2H5(33) + C2H5O2(47) <=> C2H4(11) + C2H5O2H(48)\n",
      "changing reaction 1688 C2H5O2(47) + SC4H9(183) <=> C2H5O2H(48) + C4H8-2(189)\n",
      "changing reaction 1692 C2H5O(49) + C2H5O2(47) <=> CH3CHO(35) + C2H5O2H(48)\n",
      "changing reaction 1714 C4H8OOH2-4(223) + butane(1) <=> SC4H9(183) + SC4H9O2H(187)\n",
      "changing reaction 1721 CH2CHO(21) + SC4H9O2(186) <=> CH2CO(24) + SC4H9O2H(187)\n",
      "changing reaction 1736 CH3O(31) + SC4H9O2(186) <=> CH2O(9) + SC4H9O2H(187)\n",
      "changing reaction 1814 O2(2) + [CH]1CCOOC1(5425) <=> HO2(16) + C1=COOCC1(5951)\n",
      "40 changed\n"
     ]
    }
   ],
   "source": [
    "total_changed = 0\n",
    "for key in ark_kinetics_database.libraries[''].entries.keys():\n",
    "    entry = ark_kinetics_database.libraries[''].entries[key]\n",
    "    index = entry.index\n",
    "#     print(index, '\\t', entry.label, '\\t', reaction_list[index])\n",
    "    for i in range(0, len(reaction_list)):\n",
    "        if entry.item.is_isomorphic(reaction_list[i]):\n",
    "            rmg_rxn_index = i\n",
    "            break\n",
    "    else:  \n",
    "        print(f'could not match reaction index {index}')\n",
    "        continue\n",
    "  \n",
    "    \n",
    "#     # change every possible reaction\n",
    "#     print(f'changing reaction {rmg_rxn_index} {reaction_list[rmg_rxn_index]}')\n",
    "#     reaction_list[rmg_rxn_index].kinetics = entry.data\n",
    "    \n",
    "    if rmg_rxn_index in change_list:\n",
    "        print(f'changing reaction {rmg_rxn_index} {reaction_list[rmg_rxn_index]}')\n",
    "        reaction_list[rmg_rxn_index].kinetics = entry.data\n",
    "        total_changed += 1\n",
    "\n",
    "#     if rmg_rxn_index in change_list or rmg_rxn_index in change_list_fs:\n",
    "#         print(f'changing reaction {rmg_rxn_index} {reaction_list[rmg_rxn_index]}')\n",
    "#         reaction_list[rmg_rxn_index].kinetics = entry.data\n",
    "#         total_changed += 1\n",
    "print(total_changed, 'changed')"
   ]
  },
  {
   "cell_type": "code",
   "execution_count": null,
   "id": "b39c81a1",
   "metadata": {},
   "outputs": [],
   "source": []
  },
  {
   "cell_type": "markdown",
   "id": "5241eea5",
   "metadata": {},
   "source": [
    "# "
   ]
  },
  {
   "cell_type": "code",
   "execution_count": 8,
   "id": "fb843d2e",
   "metadata": {},
   "outputs": [
    {
     "name": "stdout",
     "output_type": "stream",
     "text": [
      "110 entries\n"
     ]
    }
   ],
   "source": [
    "# Load the new thermo library\n",
    "thermo_lib = os.path.join(DFT_DIR, 'thermo', 'thermo')\n",
    "ark_thermo_database = rmgpy.data.thermo.ThermoDatabase()\n",
    "ark_thermo_database.load_libraries(thermo_lib)\n",
    "print(f'{len(ark_thermo_database.libraries[\"harris_butane\"].entries)} entries')"
   ]
  },
  {
   "cell_type": "code",
   "execution_count": 9,
   "id": "83873ae5",
   "metadata": {
    "scrolled": true
   },
   "outputs": [
    {
     "name": "stdout",
     "output_type": "stream",
     "text": [
      "Changing estimated thermo 80: [CH2]C[O](703)\n",
      "Changing estimated thermo 81: [CH2]C[CH]C(748)\n",
      "Changing estimated thermo 82: [CH2]CC(C)[O](766)\n",
      "Changing estimated thermo 87: [CH2]C(=O)COO(911)\n",
      "Changing estimated thermo 90: [O]OCC(=O)COO(928)\n",
      "Changing estimated thermo 91: [O]C[O](988)\n",
      "Changing estimated thermo 93: [CH2]C=C[CH2](2534)\n",
      "Changing estimated thermo 97: C=CC(C)O[O](4243)\n",
      "Changing estimated thermo 98: CC=CCO[O](4244)\n",
      "Changing estimated thermo 99: [CH2]C1CC1(4343)\n",
      "Changing estimated thermo 100: C=CCCO[O](4407)\n",
      "Changing estimated thermo 109: [O]OC1CCOOC1(9510)\n",
      "12 changed\n"
     ]
    }
   ],
   "source": [
    "# stitch each of the library thermos into the mechanism\n",
    "\n",
    "plot_index = [96]\n",
    "thermo_change_list = [87, 90, 109, 99, 98, 80, 100, 97, 81, 91, 82, 93]  # 3.0 cutoff\n",
    "thermo_change_list_fs = [97, 98, 99, 81, 100, 87, 109, 80, 90, 93, 91, 82]  # 3.0 cutoff, flame speeds these are the same\n",
    "\n",
    "# thermo_change_list = [63, 4, 66, 57, 61, 97, 62, 59, 83, 64, 74, 60, 98, 39, 45, 37, 47, 70, 73, 38, 72,  # 1.0 cutoff, large molecules only\n",
    "#                       58, 85, 69, 52, 65, 56, 99, 81, 92, 67, 51, 101, 68, 95, 54, 100, 105, 103, 42, 87,\n",
    "#                       55, 43, 84, 46, 53, 109, 104, 107, 77, 102, 78, 71, 88, 76, 90, 93, 44, 89, 86, 108, 106, 82, 75]\n",
    "\n",
    "# thermo_change_list = [97, 83, 98, 85, 99, 81, 92, 101, 100, 105, 103, 87, 84, 109, 107, 102, 88, 90, 93, 89, 86, 108, 106, 82]  # 1.5 cutoff, MW>48\n",
    "# thermo_change_list = [97, 98, 85, 99, 81, 101, 100, 105, 87, 109, 90, 93, 82]  # 2.5 cutoff, large molecules only\n",
    "\n",
    "\n",
    "# thermo_change_list = [85,  # 2.0 cutoff\n",
    "#  87, 84, 105, 103, 90, 102, 109, 99, 107, 83, 92, 98, 80, 100, 97, 88, 81,\n",
    "#  101, 106, 86, 108, 91, 82, 96, 93, 89]\n",
    "sp_changed = 0\n",
    "for key in ark_thermo_database.libraries['harris_butane'].entries.keys():\n",
    "    entry = ark_thermo_database.libraries['harris_butane'].entries[key]\n",
    "#     print(entry)\n",
    "\n",
    "    for i, species in enumerate(species_list):\n",
    "#         if entry.item.is_isomorphic(species.molecule[0]):\n",
    "        if entry.item.smiles == species.smiles:\n",
    "            rmg_species_index = i\n",
    "            break\n",
    "    else:\n",
    "        entry_sp = rmgpy.species.Species(smiles=entry.item.smiles)\n",
    "        for j, species in enumerate(species_list):\n",
    "            if entry_sp.is_isomorphic(species.molecule[0]):\n",
    "                rmg_species_index = i\n",
    "                'matched'\n",
    "                break\n",
    "        else:\n",
    "#             print(f'could not match species index {entry}')\n",
    "            continue\n",
    "            raise ValueError (f'could not match species index {entry}')\n",
    "\n",
    "#     # only change GAV entries\n",
    "#     if 'library' not in species_list[rmg_species_index].thermo.comment.lower():\n",
    "#         print(f'Changing estimated thermo {rmg_species_index}: {species_list[rmg_species_index]}')\n",
    "#         try:\n",
    "#             display(species_list[rmg_species_index])\n",
    "#         except:\n",
    "#             pass\n",
    "#         plot_thermos([species_list[rmg_species_index], entry.data], ['RMG', 'DFT'])\n",
    "#         species_list[rmg_species_index].thermo = entry.data\n",
    "#         print(rmg_species_index)\n",
    "#     if rmg_species_index in thermo_change_list:\n",
    "#         print(f'Changing estimated thermo {rmg_species_index}: {species_list[rmg_species_index]}')\n",
    "#         species_list[rmg_species_index].thermo = entry.data\n",
    "        \n",
    "        \n",
    "    if rmg_species_index in thermo_change_list or rmg_species_index in thermo_change_list_fs:\n",
    "        print(f'Changing estimated thermo {rmg_species_index}: {species_list[rmg_species_index]}')\n",
    "        species_list[rmg_species_index].thermo = entry.data\n",
    "        \n",
    "        sp_changed += 1\n",
    "    \n",
    "print(sp_changed, 'changed')   \n",
    "        \n",
    "#     # change everything\n",
    "#     print(f'Changing estimated thermo {rmg_species_index}: {species_list[rmg_species_index]}')\n",
    "#     if rmg_species_index == 85:\n",
    "# #         plot_thermos([species_list[rmg_species_index], entry.data], ['RMG', 'DFT'])\n",
    "#         species_list[rmg_species_index].thermo = entry.data\n",
    "\n",
    "    \n",
    "    # only change GAV\n",
    "    \n",
    "    \n",
    "#     if rmg_species_index in plot_index:\n",
    "#         plot_thermos([species_list[rmg_species_index], entry.data], ['RMG', 'DFT'])\n",
    "#         print(f'Changing estimated thermo {rmg_species_index}: {species_list[rmg_species_index]}')\n",
    "#         species_list[rmg_species_index].thermo = entry.data\n",
    "\n",
    "#     break\n",
    "#     print(species_list[rmg_species_index])\n",
    "#     print(f'Changing reaction {rmg_rxn_index}')\n",
    "#     if rmg_rxn_index == 288:\n",
    "#         reaction_list[rmg_rxn_index].kinetics = entry.data\n",
    "# #     break\n",
    "#     # compare the kinetics\n",
    "#     plot_kinetics([reaction_list[rmg_rxn_index], entry.data], ['RMG', 'DFT'])\n",
    "    "
   ]
  },
  {
   "cell_type": "code",
   "execution_count": 10,
   "id": "b349e6ca",
   "metadata": {},
   "outputs": [
    {
     "name": "stderr",
     "output_type": "stream",
     "text": [
      "WARNING:root:Marked reaction CH3(18) + C2H3(22) <=> C3H6(12) as duplicate of C3H6(12) <=> CH3(18) + C2H3(22) for saving to Chemkin file.\n"
     ]
    },
    {
     "name": "stdout",
     "output_type": "stream",
     "text": [
      "Wrote CTI mechanism file to '/work/westgroup/harris.se/autoscience/autoscience/butane/models/modifications/cutoff3_20221110.cti'.\n",
      "Mechanism contains 110 species and 1850 reactions.\n",
      "Validating mechanism...PASSED.\n"
     ]
    },
    {
     "data": {
      "text/plain": [
       "CompletedProcess(args=['ck2cti', '--input=/work/westgroup/harris.se/autoscience/autoscience/butane/models/modifications/cutoff3_20221110.inp', '--transport=/work/westgroup/harris.se/autoscience/autoscience/butane/models/rmg_model/tran.dat', '--output=/work/westgroup/harris.se/autoscience/autoscience/butane/models/modifications/cutoff3_20221110.cti'], returncode=0)"
      ]
     },
     "execution_count": 10,
     "metadata": {},
     "output_type": "execute_result"
    }
   ],
   "source": [
    "# Save the new mechanism\n",
    "chemkin_file = os.path.join('/work/westgroup/harris.se/autoscience/autoscience/butane/models/modifications', f'cutoff3_20221110.inp')\n",
    "rmgpy.chemkin.save_chemkin_file(chemkin_file, species_list, reaction_list, verbose=True, check_for_duplicates=True)\n",
    "subprocess.run(['ck2cti', f'--input={chemkin_file}', f'--transport={transport}', f'--output={chemkin_file[:-4]}.cti'])\n",
    "# os.remove(chemkin_file)\n"
   ]
  },
  {
   "cell_type": "code",
   "execution_count": null,
   "id": "c6cfcc0c",
   "metadata": {},
   "outputs": [],
   "source": []
  }
 ],
 "metadata": {
  "kernelspec": {
   "display_name": "Python 3 (ipykernel)",
   "language": "python",
   "name": "python3"
  },
  "language_info": {
   "codemirror_mode": {
    "name": "ipython",
    "version": 3
   },
   "file_extension": ".py",
   "mimetype": "text/x-python",
   "name": "python",
   "nbconvert_exporter": "python",
   "pygments_lexer": "ipython3",
   "version": "3.7.12"
  }
 },
 "nbformat": 4,
 "nbformat_minor": 5
}
