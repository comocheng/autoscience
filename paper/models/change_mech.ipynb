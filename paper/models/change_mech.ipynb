{
 "cells": [
  {
   "cell_type": "code",
   "execution_count": null,
   "id": "793748b4",
   "metadata": {},
   "outputs": [],
   "source": [
    "# script to replace the base mechanism with new reactions\n",
    "# Includes every reaction and species calculated above the uncertainty threshold"
   ]
  },
  {
   "cell_type": "code",
   "execution_count": null,
   "id": "f934e7bc",
   "metadata": {},
   "outputs": [],
   "source": [
    "import os\n",
    "import subprocess\n",
    "import numpy as np\n",
    "\n",
    "import rmgpy.chemkin\n",
    "import rmgpy.data.kinetics\n",
    "\n",
    "\n",
    "import matplotlib.pyplot as plt\n",
    "%matplotlib inline"
   ]
  },
  {
   "cell_type": "code",
   "execution_count": null,
   "id": "2f102141",
   "metadata": {},
   "outputs": [],
   "source": [
    "# Load the base model\n",
    "basedir = '../models/base_rmg'\n",
    "base_chemkin = os.path.join(basedir, 'chem_annotated.inp')\n",
    "dictionary = os.path.join(basedir, 'species_dictionary.txt')\n",
    "transport = os.path.join(basedir, 'tran.dat')\n",
    "species_list, reaction_list = rmgpy.chemkin.load_chemkin_file(base_chemkin, dictionary_path=dictionary, transport_path=transport)\n",
    "print(f'{len(species_list)} species, {len(reaction_list)} reactions')\n",
    "\n",
    "# load the uncorrelated uncertainty\n",
    "kinetic_uncertainty = np.load(os.path.join(basedir, 'kinetic_uncertainty.npy'))\n",
    "thermo_uncertainty = np.load(os.path.join(basedir, 'thermo_uncertainty.npy'))"
   ]
  },
  {
   "cell_type": "code",
   "execution_count": null,
   "id": "dceece7e",
   "metadata": {},
   "outputs": [],
   "source": [
    "# Load the new kinetics library\n",
    "kinetics_lib = '../kinetics'\n",
    "ark_kinetics_database = rmgpy.data.kinetics.KineticsDatabase()\n",
    "ark_kinetics_database.load_libraries(kinetics_lib)\n",
    "print(f'{len(ark_kinetics_database.libraries[\"\"].entries)} kinetic entries loaded')\n",
    "\n",
    "\n",
    "# Load the new thermo library\n",
    "thermo_lib = '../thermo'\n",
    "ark_thermo_database = rmgpy.data.thermo.ThermoDatabase()\n",
    "ark_thermo_database.load_libraries(thermo_lib)\n",
    "print(f'{len(ark_thermo_database.libraries[\"harris_butane\"].entries)} thermo entries loaded')"
   ]
  },
  {
   "cell_type": "code",
   "execution_count": null,
   "id": "11b81b95",
   "metadata": {},
   "outputs": [],
   "source": [
    "# Figure out which reactions to change\n",
    "uncertainty_cutoff = 3.0\n",
    "change_list = []\n",
    "assert len(kinetic_uncertainty) == len(reaction_list)\n",
    "for i in range(0, len(reaction_list)):\n",
    "    if kinetic_uncertainty[i] > uncertainty_cutoff:\n",
    "        change_list.append(i)"
   ]
  },
  {
   "cell_type": "code",
   "execution_count": null,
   "id": "a48427b1",
   "metadata": {
    "scrolled": true
   },
   "outputs": [],
   "source": [
    "# Change the kinetics for the specified reactions\n",
    "total_changed = 0\n",
    "for key in ark_kinetics_database.libraries[''].entries.keys():\n",
    "    entry = ark_kinetics_database.libraries[''].entries[key]\n",
    "    index = entry.index\n",
    "    for i in range(0, len(reaction_list)):\n",
    "        if entry.item.is_isomorphic(reaction_list[i]):\n",
    "            rmg_rxn_index = i\n",
    "            break\n",
    "    else:  \n",
    "        print(f'could not match reaction index {index}')\n",
    "        continue\n",
    "    \n",
    "    if rmg_rxn_index in change_list:\n",
    "        print(f'changing reaction {rmg_rxn_index} {reaction_list[rmg_rxn_index]}')\n",
    "        reaction_list[rmg_rxn_index].kinetics = entry.data\n",
    "        total_changed += 1\n",
    "\n",
    "print(total_changed, 'changed')"
   ]
  },
  {
   "cell_type": "code",
   "execution_count": null,
   "id": "fb843d2e",
   "metadata": {},
   "outputs": [],
   "source": [
    "# Figure out which species to change\n",
    "uncertainty_cutoff = 3.0\n",
    "thermo_change_list = []\n",
    "assert len(thermo_uncertainty) == len(species_list)\n",
    "for i in range(0, len(species_list)):\n",
    "    if thermo_uncertainty[i] > uncertainty_cutoff:\n",
    "        thermo_change_list.append(i)"
   ]
  },
  {
   "cell_type": "code",
   "execution_count": null,
   "id": "83873ae5",
   "metadata": {
    "scrolled": true
   },
   "outputs": [],
   "source": [
    "# stitch each of the library thermo params into the mechanism\n",
    "\n",
    "sp_changed = 0\n",
    "for key in ark_thermo_database.libraries['harris_butane'].entries.keys():\n",
    "    entry = ark_thermo_database.libraries['harris_butane'].entries[key]\n",
    "    for i, species in enumerate(species_list):\n",
    "        if entry.item.smiles == species.smiles:\n",
    "            rmg_species_index = i\n",
    "            break\n",
    "    else:\n",
    "        entry_sp = rmgpy.species.Species(smiles=entry.item.smiles)\n",
    "        for j, species in enumerate(species_list):\n",
    "            if entry_sp.is_isomorphic(species.molecule[0]):\n",
    "                rmg_species_index = i\n",
    "                'matched'\n",
    "                break\n",
    "        else:\n",
    "            continue\n",
    "            raise ValueError (f'could not match species index {entry}')\n",
    "        \n",
    "        \n",
    "    if rmg_species_index in thermo_change_list:\n",
    "        print(f'Changing estimated thermo {rmg_species_index}: {species_list[rmg_species_index]}')\n",
    "        species_list[rmg_species_index].thermo = entry.data\n",
    "        \n",
    "        sp_changed += 1\n",
    "    \n",
    "print(sp_changed, 'changed')   \n",
    "    "
   ]
  },
  {
   "cell_type": "code",
   "execution_count": null,
   "id": "b349e6ca",
   "metadata": {},
   "outputs": [],
   "source": [
    "# Save the new mechanism\n",
    "chemkin_file = os.path.join(f'cutoff3_20221205.inp')\n",
    "rmgpy.chemkin.save_chemkin_file(chemkin_file, species_list, reaction_list, verbose=True, check_for_duplicates=True)\n",
    "subprocess.run(['ck2cti', f'--input={chemkin_file}', f'--transport={transport}', f'--output={chemkin_file[:-4]}.cti'])\n"
   ]
  },
  {
   "cell_type": "code",
   "execution_count": null,
   "id": "c6cfcc0c",
   "metadata": {},
   "outputs": [],
   "source": []
  }
 ],
 "metadata": {
  "kernelspec": {
   "display_name": "Python 3 (ipykernel)",
   "language": "python",
   "name": "python3"
  },
  "language_info": {
   "codemirror_mode": {
    "name": "ipython",
    "version": 3
   },
   "file_extension": ".py",
   "mimetype": "text/x-python",
   "name": "python",
   "nbconvert_exporter": "python",
   "pygments_lexer": "ipython3",
   "version": "3.7.12"
  }
 },
 "nbformat": 4,
 "nbformat_minor": 5
}
