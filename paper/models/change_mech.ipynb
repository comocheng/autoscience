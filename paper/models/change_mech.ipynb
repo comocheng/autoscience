{
 "cells": [
  {
   "cell_type": "code",
   "execution_count": null,
   "id": "793748b4",
   "metadata": {},
   "outputs": [],
   "source": [
    "# script to replace the base mechanism with new reactions\n",
    "# Includes every reaction and species calculated above the uncertainty threshold"
   ]
  },
  {
   "cell_type": "code",
   "execution_count": 1,
   "id": "f934e7bc",
   "metadata": {},
   "outputs": [],
   "source": [
    "import os\n",
    "import subprocess\n",
    "import numpy as np\n",
    "\n",
    "import rmgpy.chemkin\n",
    "import rmgpy.data.kinetics\n",
    "\n",
    "\n",
    "import matplotlib.pyplot as plt\n",
    "%matplotlib inline"
   ]
  },
  {
   "cell_type": "code",
   "execution_count": 2,
   "id": "2f102141",
   "metadata": {},
   "outputs": [
    {
     "name": "stdout",
     "output_type": "stream",
     "text": [
      "110 species, 1822 reactions\n"
     ]
    }
   ],
   "source": [
    "# Load the base model\n",
    "basedir = '../models/base_rmg'\n",
    "base_chemkin = os.path.join(basedir, 'chem_annotated.inp')\n",
    "dictionary = os.path.join(basedir, 'species_dictionary.txt')\n",
    "transport = os.path.join(basedir, 'tran.dat')\n",
    "species_list, reaction_list = rmgpy.chemkin.load_chemkin_file(base_chemkin, dictionary_path=dictionary, transport_path=transport)\n",
    "print(f'{len(species_list)} species, {len(reaction_list)} reactions')\n",
    "\n",
    "# load the uncorrelated uncertainty\n",
    "kinetic_uncertainty = np.load(os.path.join(basedir, 'kinetic_uncertainty.npy'))\n",
    "thermo_uncertainty = np.load(os.path.join(basedir, 'thermo_uncertainty.npy'))"
   ]
  },
  {
   "cell_type": "code",
   "execution_count": 3,
   "id": "dceece7e",
   "metadata": {},
   "outputs": [
    {
     "name": "stdout",
     "output_type": "stream",
     "text": [
      "105 kinetic entries loaded\n",
      "110 thermo entries loaded\n"
     ]
    }
   ],
   "source": [
    "# Load the new kinetics library\n",
    "kinetics_lib = '../kinetics'\n",
    "ark_kinetics_database = rmgpy.data.kinetics.KineticsDatabase()\n",
    "ark_kinetics_database.load_libraries(kinetics_lib)\n",
    "print(f'{len(ark_kinetics_database.libraries[\"\"].entries)} kinetic entries loaded')\n",
    "\n",
    "\n",
    "# Load the new thermo library\n",
    "thermo_lib = '../thermo'\n",
    "ark_thermo_database = rmgpy.data.thermo.ThermoDatabase()\n",
    "ark_thermo_database.load_libraries(thermo_lib)\n",
    "print(f'{len(ark_thermo_database.libraries[\"harris_butane\"].entries)} thermo entries loaded')"
   ]
  },
  {
   "cell_type": "code",
   "execution_count": 4,
   "id": "11b81b95",
   "metadata": {},
   "outputs": [],
   "source": [
    "# Figure out which reactions to change\n",
    "uncertainty_cutoff = 3.0\n",
    "change_list = []\n",
    "assert len(kinetic_uncertainty) == len(reaction_list)\n",
    "for i in range(0, len(reaction_list)):\n",
    "    if kinetic_uncertainty[i] > uncertainty_cutoff:\n",
    "        change_list.append(i)"
   ]
  },
  {
   "cell_type": "code",
   "execution_count": 6,
   "id": "a48427b1",
   "metadata": {
    "scrolled": true
   },
   "outputs": [
    {
     "name": "stdout",
     "output_type": "stream",
     "text": [
      "changing reaction 213 HO2(16) + C2H5(33) <=> H2O2(17) + C2H4(11)\n",
      "changing reaction 324 C4H8OOH2-4O2(229) <=> C4H8OOH1-3O2(225)\n",
      "changing reaction 370 CH3CHO(35) + SC4H9(183) <=> CH2CHO(21) + butane(1)\n",
      "changing reaction 371 CH3CHO(35) + PC4H9(182) <=> CH2CHO(21) + butane(1)\n",
      "changing reaction 418 HO2(16) + CH3CO(20) <=> H2O2(17) + CH2CO(24)\n",
      "changing reaction 419 HO2(16) + CH2CHO(21) <=> H2O2(17) + CH2CO(24)\n",
      "changing reaction 420 HO2(16) + SC4H9(183) <=> H2O2(17) + C4H8-2(189)\n",
      "changing reaction 427 CH2CHO(21) + CH2CHO(21) <=> CH2CO(24) + CH3CHO(35)\n",
      "changing reaction 574 CH3O(31) + C3H5-A(94) <=> CH2O(9) + C3H6(12)\n",
      "changing reaction 581 CH2CHO(21) + C3H5-A(94) <=> CH2CO(24) + C3H6(12)\n",
      "changing reaction 720 CH2CHO(21) + C4H71-3(190) <=> CH2CO(24) + C4H8-2(189)\n",
      "changing reaction 722 CH2CHO(21) + C4H71-3(190) <=> CH2CO(24) + C4H8-1(188)\n",
      "changing reaction 725 CH3O(31) + C4H71-3(190) <=> CH2O(9) + C4H8-2(189)\n",
      "changing reaction 739 CH2CHO(21) + C4H8-1(188) <=> CH3CHO(35) + C4H71-3(190)\n",
      "changing reaction 748 HCO(19) + C4H8-2(189) <=> CH2O(9) + C4H71-3(190)\n",
      "changing reaction 749 HCO(19) + C4H8-1(188) <=> CH2O(9) + C4H71-3(190)\n",
      "changing reaction 754 CH2(23) + C4H8-2(189) <=> CH3(18) + C4H71-3(190)\n",
      "changing reaction 915 O2(2) + CC(CC[O])OO(777) <=> HO2(16) + NC4KET13(252)\n",
      "changing reaction 984 CH2CHO(21) + [CH2]C[CH]C(748) <=> CH2CO(24) + PC4H9(182)\n",
      "changing reaction 1026 CH3CHO(35) + C4H71-4(191) <=> CH2CHO(21) + C4H8-1(188)\n",
      "changing reaction 1103 CH3O2(45) + CH2CHO(21) <=> CH3O2H(46) + CH2CO(24)\n",
      "changing reaction 1108 CH3O2(45) + [CH2]C[O](703) <=> CH3O2H(46) + CH2CHO(21)\n",
      "changing reaction 1114 CH3O2(45) + SC4H9(183) <=> CH3O2H(46) + C4H8-2(189)\n",
      "changing reaction 1214 CH2(23) + C3H5O(129) <=> CH3(18) + C2H3CHO(74)\n",
      "changing reaction 1287 C3KET21(73) + SC4H9(183) <=> CH3COCH2O2(72) + butane(1)\n",
      "changing reaction 1288 C3KET21(73) + PC4H9(182) <=> CH3COCH2O2(72) + butane(1)\n",
      "changing reaction 1289 C3KET21(73) + SC4H9(183) <=> [CH2]C(=O)COO(911) + butane(1)\n",
      "changing reaction 1290 C3KET21(73) + PC4H9(182) <=> [CH2]C(=O)COO(911) + butane(1)\n",
      "changing reaction 1328 CH3O(31) + CH3COCH2O2(72) <=> CH2O(9) + C3KET21(73)\n",
      "changing reaction 1342 C2H5(33) + CH3COCH2O2(72) <=> C2H4(11) + C3KET21(73)\n",
      "changing reaction 1529 CH3O(31) + C2H5O(49) <=> CH3OH(30) + CH3CHO(35)\n",
      "changing reaction 1658 CH2CHO(21) + C2H5O2(47) <=> CH2CO(24) + C2H5O2H(48)\n",
      "changing reaction 1665 CH3O(31) + C2H5O2(47) <=> CH2O(9) + C2H5O2H(48)\n",
      "changing reaction 1685 C2H5(33) + C2H5O2(47) <=> C2H4(11) + C2H5O2H(48)\n",
      "changing reaction 1688 C2H5O2(47) + SC4H9(183) <=> C2H5O2H(48) + C4H8-2(189)\n",
      "changing reaction 1692 C2H5O(49) + C2H5O2(47) <=> CH3CHO(35) + C2H5O2H(48)\n",
      "changing reaction 1714 C4H8OOH2-4(223) + butane(1) <=> SC4H9(183) + SC4H9O2H(187)\n",
      "changing reaction 1721 CH2CHO(21) + SC4H9O2(186) <=> CH2CO(24) + SC4H9O2H(187)\n",
      "changing reaction 1736 CH3O(31) + SC4H9O2(186) <=> CH2O(9) + SC4H9O2H(187)\n",
      "changing reaction 1814 O2(2) + [CH]1CCOOC1(5425) <=> HO2(16) + C1=COOCC1(5951)\n",
      "40 changed\n"
     ]
    }
   ],
   "source": [
    "# Change the kinetics for the specified reactions\n",
    "total_changed = 0\n",
    "for key in ark_kinetics_database.libraries[''].entries.keys():\n",
    "    entry = ark_kinetics_database.libraries[''].entries[key]\n",
    "    index = entry.index\n",
    "    for i in range(0, len(reaction_list)):\n",
    "        if entry.item.is_isomorphic(reaction_list[i]):\n",
    "            rmg_rxn_index = i\n",
    "            break\n",
    "    else:  \n",
    "        print(f'could not match reaction index {index}')\n",
    "        continue\n",
    "    \n",
    "    if rmg_rxn_index in change_list:\n",
    "        print(f'changing reaction {rmg_rxn_index} {reaction_list[rmg_rxn_index]}')\n",
    "        reaction_list[rmg_rxn_index].kinetics = entry.data\n",
    "        total_changed += 1\n",
    "\n",
    "print(total_changed, 'changed')"
   ]
  },
  {
   "cell_type": "code",
   "execution_count": 8,
   "id": "fb843d2e",
   "metadata": {},
   "outputs": [],
   "source": [
    "# Figure out which species to change\n",
    "uncertainty_cutoff = 3.0\n",
    "thermo_change_list = []\n",
    "assert len(thermo_uncertainty) == len(species_list)\n",
    "for i in range(0, len(species_list)):\n",
    "    if thermo_uncertainty[i] > uncertainty_cutoff:\n",
    "        thermo_change_list.append(i)"
   ]
  },
  {
   "cell_type": "code",
   "execution_count": 9,
   "id": "83873ae5",
   "metadata": {
    "scrolled": true
   },
   "outputs": [
    {
     "name": "stdout",
     "output_type": "stream",
     "text": [
      "Changing estimated thermo 80: [CH2]C[O](703)\n",
      "Changing estimated thermo 81: [CH2]C[CH]C(748)\n",
      "Changing estimated thermo 82: [CH2]CC(C)[O](766)\n",
      "Changing estimated thermo 87: [CH2]C(=O)COO(911)\n",
      "Changing estimated thermo 90: [O]OCC(=O)COO(928)\n",
      "Changing estimated thermo 91: [O]C[O](988)\n",
      "Changing estimated thermo 93: [CH2]C=C[CH2](2534)\n",
      "Changing estimated thermo 97: C=CC(C)O[O](4243)\n",
      "Changing estimated thermo 98: CC=CCO[O](4244)\n",
      "Changing estimated thermo 99: [CH2]C1CC1(4343)\n",
      "Changing estimated thermo 100: C=CCCO[O](4407)\n",
      "Changing estimated thermo 109: [O]OC1CCOOC1(9510)\n",
      "12 changed\n"
     ]
    }
   ],
   "source": [
    "# stitch each of the library thermo params into the mechanism\n",
    "\n",
    "sp_changed = 0\n",
    "for key in ark_thermo_database.libraries['harris_butane'].entries.keys():\n",
    "    entry = ark_thermo_database.libraries['harris_butane'].entries[key]\n",
    "    for i, species in enumerate(species_list):\n",
    "        if entry.item.smiles == species.smiles:\n",
    "            rmg_species_index = i\n",
    "            break\n",
    "    else:\n",
    "        entry_sp = rmgpy.species.Species(smiles=entry.item.smiles)\n",
    "        for j, species in enumerate(species_list):\n",
    "            if entry_sp.is_isomorphic(species.molecule[0]):\n",
    "                rmg_species_index = i\n",
    "                'matched'\n",
    "                break\n",
    "        else:\n",
    "            continue\n",
    "            raise ValueError (f'could not match species index {entry}')\n",
    "        \n",
    "        \n",
    "    if rmg_species_index in thermo_change_list:\n",
    "        print(f'Changing estimated thermo {rmg_species_index}: {species_list[rmg_species_index]}')\n",
    "        species_list[rmg_species_index].thermo = entry.data\n",
    "        \n",
    "        sp_changed += 1\n",
    "    \n",
    "print(sp_changed, 'changed')   \n",
    "    "
   ]
  },
  {
   "cell_type": "code",
   "execution_count": 11,
   "id": "b349e6ca",
   "metadata": {},
   "outputs": [
    {
     "name": "stderr",
     "output_type": "stream",
     "text": [
      "WARNING:root:Marked reaction CH3(18) + C2H3(22) <=> C3H6(12) as duplicate of C3H6(12) <=> CH3(18) + C2H3(22) for saving to Chemkin file.\n"
     ]
    },
    {
     "name": "stdout",
     "output_type": "stream",
     "text": [
      "Wrote CTI mechanism file to 'cutoff3_20221205.cti'.\n",
      "Mechanism contains 110 species and 1850 reactions.\n",
      "Validating mechanism...PASSED.\n"
     ]
    },
    {
     "data": {
      "text/plain": [
       "CompletedProcess(args=['ck2cti', '--input=cutoff3_20221205.inp', '--transport=../models/base_rmg/tran.dat', '--output=cutoff3_20221205.cti'], returncode=0)"
      ]
     },
     "execution_count": 11,
     "metadata": {},
     "output_type": "execute_result"
    }
   ],
   "source": [
    "# Save the new mechanism\n",
    "chemkin_file = os.path.join(f'cutoff3_20221205.inp')\n",
    "rmgpy.chemkin.save_chemkin_file(chemkin_file, species_list, reaction_list, verbose=True, check_for_duplicates=True)\n",
    "subprocess.run(['ck2cti', f'--input={chemkin_file}', f'--transport={transport}', f'--output={chemkin_file[:-4]}.cti'])\n"
   ]
  },
  {
   "cell_type": "code",
   "execution_count": null,
   "id": "c6cfcc0c",
   "metadata": {},
   "outputs": [],
   "source": []
  }
 ],
 "metadata": {
  "kernelspec": {
   "display_name": "Python 3 (ipykernel)",
   "language": "python",
   "name": "python3"
  },
  "language_info": {
   "codemirror_mode": {
    "name": "ipython",
    "version": 3
   },
   "file_extension": ".py",
   "mimetype": "text/x-python",
   "name": "python",
   "nbconvert_exporter": "python",
   "pygments_lexer": "ipython3",
   "version": "3.7.12"
  }
 },
 "nbformat": 4,
 "nbformat_minor": 5
}
